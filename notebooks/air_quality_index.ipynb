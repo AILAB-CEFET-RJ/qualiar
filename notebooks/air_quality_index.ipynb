{
  "nbformat": 4,
  "nbformat_minor": 0,
  "metadata": {
    "colab": {
      "provenance": []
    },
    "kernelspec": {
      "name": "python3",
      "display_name": "Python 3"
    },
    "language_info": {
      "name": "python"
    }
  },
  "cells": [
    {
      "cell_type": "markdown",
      "metadata": {
        "id": "FQyXpVbbCeRX"
      },
      "source": [
        "# Propósito\n",
        "\n",
        "Este notebook tem como objetivo realizar uma análise exploratória de algumas colunas de interesse das medições dos sensores de qualidade do ar.\n",
        "\n",
        "O principal objetivo será verificar a distribuição de cada coluna e determinar se elas seguem uma distribuição normal. Para isso, utilizaremos técnicas como o **Teste de Shapiro-Wilk** e o **Q-Q Plot**, que nos ajudarão a verificar a aderência à normalidade.\n",
        "\n",
        "Em seguida, as colunas que não apresentarem uma distribuição normal serão transformadas utilizando técnicas como **Box-Cox** para aproximá-las de uma distribuição normal.\n",
        "\n",
        "Por fim, geraremos gráficos de histograma para visualizar se as transformações resultaram em uma distribuição mais próxima da normalidade."
      ]
    },
    {
      "cell_type": "markdown",
      "metadata": {
        "id": "TTJ20DT1DZP4"
      },
      "source": [
        "# Importações"
      ]
    },
    {
      "cell_type": "code",
      "execution_count": 1,
      "metadata": {
        "id": "3IqV3pDuCcJq"
      },
      "outputs": [],
      "source": [
        "import pandas as pd\n",
        "import numpy as np\n",
        "import matplotlib.pyplot as plt\n",
        "import seaborn as sns\n",
        "from sklearn.linear_model import LinearRegression\n",
        "import scipy.stats as stats\n",
        "from scipy.stats import shapiro, anderson, boxcox, kstest, norm\n",
        "from scipy.special import boxcox1p\n",
        "from scipy import stats"
      ]
    },
    {
      "cell_type": "markdown",
      "metadata": {
        "id": "g4RXL-is5UgJ"
      },
      "source": [
        "# Consumindo bases"
      ]
    },
    {
      "cell_type": "code",
      "execution_count": 2,
      "metadata": {
        "id": "eyjEKJYpDhin"
      },
      "outputs": [],
      "source": [
        "url_sensor_bangu = '/content/drive/MyDrive/TCC/sensores-2011-2021/Análise Exploratória/resultados/df_sensor_bangu_preenchido.csv'\n",
        "url_sensor_campo_grande = '/content/drive/MyDrive/TCC/sensores-2011-2021/Análise Exploratória/resultados/df_sensor_campo_grande_preenchido.csv'\n",
        "url_sensor_pedra_guaratiba = '/content/drive/MyDrive/TCC/sensores-2011-2021/Análise Exploratória/resultados/df_sensor_pedra_guaratiba_preenchido.csv'\n",
        "url_sensor_iraja = '/content/drive/MyDrive/TCC/sensores-2011-2021/Análise Exploratória/resultados/df_sensor_iraja_preenchido.csv'\n",
        "url_sensor_tijuca = '/content/drive/MyDrive/TCC/sensores-2011-2021/Análise Exploratória/resultados/df_sensor_tijuca_preenchido.csv'\n",
        "url_sensor_sao_cristovao = '/content/drive/MyDrive/TCC/sensores-2011-2021/Análise Exploratória/resultados/df_sensor_sao_cristovao_preenchido.csv'\n",
        "url_sensor_copacabana = '/content/drive/MyDrive/TCC/sensores-2011-2021/Análise Exploratória/resultados/df_sensor_copacabana_preenchido.csv'\n",
        "url_sensor_centro = '/content/drive/MyDrive/TCC/sensores-2011-2021/Análise Exploratória/resultados/df_sensor_centro_preenchido.csv'\n",
        "\n",
        "df_sensor_bangu = pd.read_csv(url_sensor_bangu, sep=',')\n",
        "df_sensor_campo_grande = pd.read_csv(url_sensor_campo_grande, sep=',')\n",
        "df_sensor_pedra_guaratiba = pd.read_csv(url_sensor_pedra_guaratiba, sep=',')\n",
        "df_sensor_iraja = pd.read_csv(url_sensor_iraja, sep=',')\n",
        "df_sensor_tijuca = pd.read_csv(url_sensor_tijuca, sep=',')\n",
        "df_sensor_sao_cristovao = pd.read_csv(url_sensor_sao_cristovao, sep=',')\n",
        "df_sensor_copacabana = pd.read_csv(url_sensor_copacabana, sep=',')\n",
        "df_sensor_centro = pd.read_csv(url_sensor_centro, sep=',')"
      ]
    },
    {
      "cell_type": "markdown",
      "metadata": {
        "id": "uR8CM1O03iYC"
      },
      "source": [
        "# Concatenando dataframe das estações após o tratamento"
      ]
    },
    {
      "cell_type": "code",
      "execution_count": 3,
      "metadata": {
        "id": "cdw63ws13q_V"
      },
      "outputs": [],
      "source": [
        "df_sensor = pd.concat([df_sensor_bangu, df_sensor_campo_grande, df_sensor_pedra_guaratiba, df_sensor_iraja, df_sensor_tijuca, df_sensor_sao_cristovao, df_sensor_copacabana, df_sensor_centro])\n",
        "\n",
        "df_sensor.reset_index(drop=True, inplace=True)"
      ]
    },
    {
      "cell_type": "code",
      "source": [
        "df_sensor"
      ],
      "metadata": {
        "colab": {
          "base_uri": "https://localhost:8080/",
          "height": 0
        },
        "id": "Lvpvnl6BcHmh",
        "outputId": "2b05cd25-beb4-4248-8dd0-a4cd2e73d2df"
      },
      "execution_count": 4,
      "outputs": [
        {
          "output_type": "execute_result",
          "data": {
            "text/plain": [
              "          nome_estacao                 data  chuva   temp     ur    co    no  \\\n",
              "0        ESTAÇÃO BANGU  2012-01-01 03:30:00    0.2  24.67  95.24  0.42  2.18   \n",
              "1        ESTAÇÃO BANGU  2012-01-01 04:30:00    0.4  24.72  94.13  0.35  1.63   \n",
              "2        ESTAÇÃO BANGU  2012-01-01 05:30:00    0.0  24.49  92.91  0.27  1.73   \n",
              "3        ESTAÇÃO BANGU  2012-01-01 06:30:00    0.2  24.54  92.59  0.21  1.18   \n",
              "4        ESTAÇÃO BANGU  2012-01-01 07:30:00    0.4  24.78  90.71  0.16  0.95   \n",
              "...                ...                  ...    ...    ...    ...   ...   ...   \n",
              "549810  ESTAÇÃO CENTRO  2019-12-31 19:30:00    0.0  33.33  52.18  0.42   NaN   \n",
              "549811  ESTAÇÃO CENTRO  2019-12-31 20:30:00    0.0  32.22  55.83  0.48   NaN   \n",
              "549812  ESTAÇÃO CENTRO  2019-12-31 21:30:00    0.0  31.30  54.97  0.47   NaN   \n",
              "549813  ESTAÇÃO CENTRO  2019-12-31 22:30:00    0.0  31.32  54.45  0.51   NaN   \n",
              "549814  ESTAÇÃO CENTRO  2019-12-31 23:30:00    0.0  30.42  63.40  0.57   NaN   \n",
              "\n",
              "          no2    nox   so2     o3  pm10  pm2_5 data_formatada   ano  mes  \\\n",
              "0       15.18  17.36   NaN  28.06  81.0    NaN     2012-01-01  2012    1   \n",
              "1        9.50  11.12  0.40  32.81  61.0    NaN     2012-01-01  2012    1   \n",
              "2        8.74  10.47  0.12  31.61  26.0    NaN     2012-01-01  2012    1   \n",
              "3        5.51   6.68  0.00  37.39  20.0    NaN     2012-01-01  2012    1   \n",
              "4        8.41   9.35  0.00  33.45   7.0    NaN     2012-01-01  2012    1   \n",
              "...       ...    ...   ...    ...   ...    ...            ...   ...  ...   \n",
              "549810    NaN    NaN   NaN  53.95  19.0    NaN     2019-12-31  2019   12   \n",
              "549811    NaN    NaN   NaN  41.59  27.0    NaN     2019-12-31  2019   12   \n",
              "549812    NaN    NaN   NaN  32.99  27.0    NaN     2019-12-31  2019   12   \n",
              "549813    NaN    NaN   NaN  12.31  27.0    NaN     2019-12-31  2019   12   \n",
              "549814    NaN    NaN   NaN  11.96  23.0    NaN     2019-12-31  2019   12   \n",
              "\n",
              "        no_nulos_no_dia  no2_nulos_no_dia  nox_nulos_no_dia  \n",
              "0                   NaN               NaN               NaN  \n",
              "1                   NaN               NaN               NaN  \n",
              "2                   NaN               NaN               NaN  \n",
              "3                   NaN               NaN               NaN  \n",
              "4                   NaN               NaN               NaN  \n",
              "...                 ...               ...               ...  \n",
              "549810              NaN               NaN               NaN  \n",
              "549811              NaN               NaN               NaN  \n",
              "549812              NaN               NaN               NaN  \n",
              "549813              NaN               NaN               NaN  \n",
              "549814              NaN               NaN               NaN  \n",
              "\n",
              "[549815 rows x 19 columns]"
            ],
            "text/html": [
              "\n",
              "  <div id=\"df-5cbb818c-241c-4f9c-a82a-3693fd4e7a1e\" class=\"colab-df-container\">\n",
              "    <div>\n",
              "<style scoped>\n",
              "    .dataframe tbody tr th:only-of-type {\n",
              "        vertical-align: middle;\n",
              "    }\n",
              "\n",
              "    .dataframe tbody tr th {\n",
              "        vertical-align: top;\n",
              "    }\n",
              "\n",
              "    .dataframe thead th {\n",
              "        text-align: right;\n",
              "    }\n",
              "</style>\n",
              "<table border=\"1\" class=\"dataframe\">\n",
              "  <thead>\n",
              "    <tr style=\"text-align: right;\">\n",
              "      <th></th>\n",
              "      <th>nome_estacao</th>\n",
              "      <th>data</th>\n",
              "      <th>chuva</th>\n",
              "      <th>temp</th>\n",
              "      <th>ur</th>\n",
              "      <th>co</th>\n",
              "      <th>no</th>\n",
              "      <th>no2</th>\n",
              "      <th>nox</th>\n",
              "      <th>so2</th>\n",
              "      <th>o3</th>\n",
              "      <th>pm10</th>\n",
              "      <th>pm2_5</th>\n",
              "      <th>data_formatada</th>\n",
              "      <th>ano</th>\n",
              "      <th>mes</th>\n",
              "      <th>no_nulos_no_dia</th>\n",
              "      <th>no2_nulos_no_dia</th>\n",
              "      <th>nox_nulos_no_dia</th>\n",
              "    </tr>\n",
              "  </thead>\n",
              "  <tbody>\n",
              "    <tr>\n",
              "      <th>0</th>\n",
              "      <td>ESTAÇÃO BANGU</td>\n",
              "      <td>2012-01-01 03:30:00</td>\n",
              "      <td>0.2</td>\n",
              "      <td>24.67</td>\n",
              "      <td>95.24</td>\n",
              "      <td>0.42</td>\n",
              "      <td>2.18</td>\n",
              "      <td>15.18</td>\n",
              "      <td>17.36</td>\n",
              "      <td>NaN</td>\n",
              "      <td>28.06</td>\n",
              "      <td>81.0</td>\n",
              "      <td>NaN</td>\n",
              "      <td>2012-01-01</td>\n",
              "      <td>2012</td>\n",
              "      <td>1</td>\n",
              "      <td>NaN</td>\n",
              "      <td>NaN</td>\n",
              "      <td>NaN</td>\n",
              "    </tr>\n",
              "    <tr>\n",
              "      <th>1</th>\n",
              "      <td>ESTAÇÃO BANGU</td>\n",
              "      <td>2012-01-01 04:30:00</td>\n",
              "      <td>0.4</td>\n",
              "      <td>24.72</td>\n",
              "      <td>94.13</td>\n",
              "      <td>0.35</td>\n",
              "      <td>1.63</td>\n",
              "      <td>9.50</td>\n",
              "      <td>11.12</td>\n",
              "      <td>0.40</td>\n",
              "      <td>32.81</td>\n",
              "      <td>61.0</td>\n",
              "      <td>NaN</td>\n",
              "      <td>2012-01-01</td>\n",
              "      <td>2012</td>\n",
              "      <td>1</td>\n",
              "      <td>NaN</td>\n",
              "      <td>NaN</td>\n",
              "      <td>NaN</td>\n",
              "    </tr>\n",
              "    <tr>\n",
              "      <th>2</th>\n",
              "      <td>ESTAÇÃO BANGU</td>\n",
              "      <td>2012-01-01 05:30:00</td>\n",
              "      <td>0.0</td>\n",
              "      <td>24.49</td>\n",
              "      <td>92.91</td>\n",
              "      <td>0.27</td>\n",
              "      <td>1.73</td>\n",
              "      <td>8.74</td>\n",
              "      <td>10.47</td>\n",
              "      <td>0.12</td>\n",
              "      <td>31.61</td>\n",
              "      <td>26.0</td>\n",
              "      <td>NaN</td>\n",
              "      <td>2012-01-01</td>\n",
              "      <td>2012</td>\n",
              "      <td>1</td>\n",
              "      <td>NaN</td>\n",
              "      <td>NaN</td>\n",
              "      <td>NaN</td>\n",
              "    </tr>\n",
              "    <tr>\n",
              "      <th>3</th>\n",
              "      <td>ESTAÇÃO BANGU</td>\n",
              "      <td>2012-01-01 06:30:00</td>\n",
              "      <td>0.2</td>\n",
              "      <td>24.54</td>\n",
              "      <td>92.59</td>\n",
              "      <td>0.21</td>\n",
              "      <td>1.18</td>\n",
              "      <td>5.51</td>\n",
              "      <td>6.68</td>\n",
              "      <td>0.00</td>\n",
              "      <td>37.39</td>\n",
              "      <td>20.0</td>\n",
              "      <td>NaN</td>\n",
              "      <td>2012-01-01</td>\n",
              "      <td>2012</td>\n",
              "      <td>1</td>\n",
              "      <td>NaN</td>\n",
              "      <td>NaN</td>\n",
              "      <td>NaN</td>\n",
              "    </tr>\n",
              "    <tr>\n",
              "      <th>4</th>\n",
              "      <td>ESTAÇÃO BANGU</td>\n",
              "      <td>2012-01-01 07:30:00</td>\n",
              "      <td>0.4</td>\n",
              "      <td>24.78</td>\n",
              "      <td>90.71</td>\n",
              "      <td>0.16</td>\n",
              "      <td>0.95</td>\n",
              "      <td>8.41</td>\n",
              "      <td>9.35</td>\n",
              "      <td>0.00</td>\n",
              "      <td>33.45</td>\n",
              "      <td>7.0</td>\n",
              "      <td>NaN</td>\n",
              "      <td>2012-01-01</td>\n",
              "      <td>2012</td>\n",
              "      <td>1</td>\n",
              "      <td>NaN</td>\n",
              "      <td>NaN</td>\n",
              "      <td>NaN</td>\n",
              "    </tr>\n",
              "    <tr>\n",
              "      <th>...</th>\n",
              "      <td>...</td>\n",
              "      <td>...</td>\n",
              "      <td>...</td>\n",
              "      <td>...</td>\n",
              "      <td>...</td>\n",
              "      <td>...</td>\n",
              "      <td>...</td>\n",
              "      <td>...</td>\n",
              "      <td>...</td>\n",
              "      <td>...</td>\n",
              "      <td>...</td>\n",
              "      <td>...</td>\n",
              "      <td>...</td>\n",
              "      <td>...</td>\n",
              "      <td>...</td>\n",
              "      <td>...</td>\n",
              "      <td>...</td>\n",
              "      <td>...</td>\n",
              "      <td>...</td>\n",
              "    </tr>\n",
              "    <tr>\n",
              "      <th>549810</th>\n",
              "      <td>ESTAÇÃO CENTRO</td>\n",
              "      <td>2019-12-31 19:30:00</td>\n",
              "      <td>0.0</td>\n",
              "      <td>33.33</td>\n",
              "      <td>52.18</td>\n",
              "      <td>0.42</td>\n",
              "      <td>NaN</td>\n",
              "      <td>NaN</td>\n",
              "      <td>NaN</td>\n",
              "      <td>NaN</td>\n",
              "      <td>53.95</td>\n",
              "      <td>19.0</td>\n",
              "      <td>NaN</td>\n",
              "      <td>2019-12-31</td>\n",
              "      <td>2019</td>\n",
              "      <td>12</td>\n",
              "      <td>NaN</td>\n",
              "      <td>NaN</td>\n",
              "      <td>NaN</td>\n",
              "    </tr>\n",
              "    <tr>\n",
              "      <th>549811</th>\n",
              "      <td>ESTAÇÃO CENTRO</td>\n",
              "      <td>2019-12-31 20:30:00</td>\n",
              "      <td>0.0</td>\n",
              "      <td>32.22</td>\n",
              "      <td>55.83</td>\n",
              "      <td>0.48</td>\n",
              "      <td>NaN</td>\n",
              "      <td>NaN</td>\n",
              "      <td>NaN</td>\n",
              "      <td>NaN</td>\n",
              "      <td>41.59</td>\n",
              "      <td>27.0</td>\n",
              "      <td>NaN</td>\n",
              "      <td>2019-12-31</td>\n",
              "      <td>2019</td>\n",
              "      <td>12</td>\n",
              "      <td>NaN</td>\n",
              "      <td>NaN</td>\n",
              "      <td>NaN</td>\n",
              "    </tr>\n",
              "    <tr>\n",
              "      <th>549812</th>\n",
              "      <td>ESTAÇÃO CENTRO</td>\n",
              "      <td>2019-12-31 21:30:00</td>\n",
              "      <td>0.0</td>\n",
              "      <td>31.30</td>\n",
              "      <td>54.97</td>\n",
              "      <td>0.47</td>\n",
              "      <td>NaN</td>\n",
              "      <td>NaN</td>\n",
              "      <td>NaN</td>\n",
              "      <td>NaN</td>\n",
              "      <td>32.99</td>\n",
              "      <td>27.0</td>\n",
              "      <td>NaN</td>\n",
              "      <td>2019-12-31</td>\n",
              "      <td>2019</td>\n",
              "      <td>12</td>\n",
              "      <td>NaN</td>\n",
              "      <td>NaN</td>\n",
              "      <td>NaN</td>\n",
              "    </tr>\n",
              "    <tr>\n",
              "      <th>549813</th>\n",
              "      <td>ESTAÇÃO CENTRO</td>\n",
              "      <td>2019-12-31 22:30:00</td>\n",
              "      <td>0.0</td>\n",
              "      <td>31.32</td>\n",
              "      <td>54.45</td>\n",
              "      <td>0.51</td>\n",
              "      <td>NaN</td>\n",
              "      <td>NaN</td>\n",
              "      <td>NaN</td>\n",
              "      <td>NaN</td>\n",
              "      <td>12.31</td>\n",
              "      <td>27.0</td>\n",
              "      <td>NaN</td>\n",
              "      <td>2019-12-31</td>\n",
              "      <td>2019</td>\n",
              "      <td>12</td>\n",
              "      <td>NaN</td>\n",
              "      <td>NaN</td>\n",
              "      <td>NaN</td>\n",
              "    </tr>\n",
              "    <tr>\n",
              "      <th>549814</th>\n",
              "      <td>ESTAÇÃO CENTRO</td>\n",
              "      <td>2019-12-31 23:30:00</td>\n",
              "      <td>0.0</td>\n",
              "      <td>30.42</td>\n",
              "      <td>63.40</td>\n",
              "      <td>0.57</td>\n",
              "      <td>NaN</td>\n",
              "      <td>NaN</td>\n",
              "      <td>NaN</td>\n",
              "      <td>NaN</td>\n",
              "      <td>11.96</td>\n",
              "      <td>23.0</td>\n",
              "      <td>NaN</td>\n",
              "      <td>2019-12-31</td>\n",
              "      <td>2019</td>\n",
              "      <td>12</td>\n",
              "      <td>NaN</td>\n",
              "      <td>NaN</td>\n",
              "      <td>NaN</td>\n",
              "    </tr>\n",
              "  </tbody>\n",
              "</table>\n",
              "<p>549815 rows × 19 columns</p>\n",
              "</div>\n",
              "    <div class=\"colab-df-buttons\">\n",
              "\n",
              "  <div class=\"colab-df-container\">\n",
              "    <button class=\"colab-df-convert\" onclick=\"convertToInteractive('df-5cbb818c-241c-4f9c-a82a-3693fd4e7a1e')\"\n",
              "            title=\"Convert this dataframe to an interactive table.\"\n",
              "            style=\"display:none;\">\n",
              "\n",
              "  <svg xmlns=\"http://www.w3.org/2000/svg\" height=\"24px\" viewBox=\"0 -960 960 960\">\n",
              "    <path d=\"M120-120v-720h720v720H120Zm60-500h600v-160H180v160Zm220 220h160v-160H400v160Zm0 220h160v-160H400v160ZM180-400h160v-160H180v160Zm440 0h160v-160H620v160ZM180-180h160v-160H180v160Zm440 0h160v-160H620v160Z\"/>\n",
              "  </svg>\n",
              "    </button>\n",
              "\n",
              "  <style>\n",
              "    .colab-df-container {\n",
              "      display:flex;\n",
              "      gap: 12px;\n",
              "    }\n",
              "\n",
              "    .colab-df-convert {\n",
              "      background-color: #E8F0FE;\n",
              "      border: none;\n",
              "      border-radius: 50%;\n",
              "      cursor: pointer;\n",
              "      display: none;\n",
              "      fill: #1967D2;\n",
              "      height: 32px;\n",
              "      padding: 0 0 0 0;\n",
              "      width: 32px;\n",
              "    }\n",
              "\n",
              "    .colab-df-convert:hover {\n",
              "      background-color: #E2EBFA;\n",
              "      box-shadow: 0px 1px 2px rgba(60, 64, 67, 0.3), 0px 1px 3px 1px rgba(60, 64, 67, 0.15);\n",
              "      fill: #174EA6;\n",
              "    }\n",
              "\n",
              "    .colab-df-buttons div {\n",
              "      margin-bottom: 4px;\n",
              "    }\n",
              "\n",
              "    [theme=dark] .colab-df-convert {\n",
              "      background-color: #3B4455;\n",
              "      fill: #D2E3FC;\n",
              "    }\n",
              "\n",
              "    [theme=dark] .colab-df-convert:hover {\n",
              "      background-color: #434B5C;\n",
              "      box-shadow: 0px 1px 3px 1px rgba(0, 0, 0, 0.15);\n",
              "      filter: drop-shadow(0px 1px 2px rgba(0, 0, 0, 0.3));\n",
              "      fill: #FFFFFF;\n",
              "    }\n",
              "  </style>\n",
              "\n",
              "    <script>\n",
              "      const buttonEl =\n",
              "        document.querySelector('#df-5cbb818c-241c-4f9c-a82a-3693fd4e7a1e button.colab-df-convert');\n",
              "      buttonEl.style.display =\n",
              "        google.colab.kernel.accessAllowed ? 'block' : 'none';\n",
              "\n",
              "      async function convertToInteractive(key) {\n",
              "        const element = document.querySelector('#df-5cbb818c-241c-4f9c-a82a-3693fd4e7a1e');\n",
              "        const dataTable =\n",
              "          await google.colab.kernel.invokeFunction('convertToInteractive',\n",
              "                                                    [key], {});\n",
              "        if (!dataTable) return;\n",
              "\n",
              "        const docLinkHtml = 'Like what you see? Visit the ' +\n",
              "          '<a target=\"_blank\" href=https://colab.research.google.com/notebooks/data_table.ipynb>data table notebook</a>'\n",
              "          + ' to learn more about interactive tables.';\n",
              "        element.innerHTML = '';\n",
              "        dataTable['output_type'] = 'display_data';\n",
              "        await google.colab.output.renderOutput(dataTable, element);\n",
              "        const docLink = document.createElement('div');\n",
              "        docLink.innerHTML = docLinkHtml;\n",
              "        element.appendChild(docLink);\n",
              "      }\n",
              "    </script>\n",
              "  </div>\n",
              "\n",
              "\n",
              "    <div id=\"df-0d042285-748d-4d14-80ee-bce67ac23f3a\">\n",
              "      <button class=\"colab-df-quickchart\" onclick=\"quickchart('df-0d042285-748d-4d14-80ee-bce67ac23f3a')\"\n",
              "                title=\"Suggest charts\"\n",
              "                style=\"display:none;\">\n",
              "\n",
              "<svg xmlns=\"http://www.w3.org/2000/svg\" height=\"24px\"viewBox=\"0 0 24 24\"\n",
              "     width=\"24px\">\n",
              "    <g>\n",
              "        <path d=\"M19 3H5c-1.1 0-2 .9-2 2v14c0 1.1.9 2 2 2h14c1.1 0 2-.9 2-2V5c0-1.1-.9-2-2-2zM9 17H7v-7h2v7zm4 0h-2V7h2v10zm4 0h-2v-4h2v4z\"/>\n",
              "    </g>\n",
              "</svg>\n",
              "      </button>\n",
              "\n",
              "<style>\n",
              "  .colab-df-quickchart {\n",
              "      --bg-color: #E8F0FE;\n",
              "      --fill-color: #1967D2;\n",
              "      --hover-bg-color: #E2EBFA;\n",
              "      --hover-fill-color: #174EA6;\n",
              "      --disabled-fill-color: #AAA;\n",
              "      --disabled-bg-color: #DDD;\n",
              "  }\n",
              "\n",
              "  [theme=dark] .colab-df-quickchart {\n",
              "      --bg-color: #3B4455;\n",
              "      --fill-color: #D2E3FC;\n",
              "      --hover-bg-color: #434B5C;\n",
              "      --hover-fill-color: #FFFFFF;\n",
              "      --disabled-bg-color: #3B4455;\n",
              "      --disabled-fill-color: #666;\n",
              "  }\n",
              "\n",
              "  .colab-df-quickchart {\n",
              "    background-color: var(--bg-color);\n",
              "    border: none;\n",
              "    border-radius: 50%;\n",
              "    cursor: pointer;\n",
              "    display: none;\n",
              "    fill: var(--fill-color);\n",
              "    height: 32px;\n",
              "    padding: 0;\n",
              "    width: 32px;\n",
              "  }\n",
              "\n",
              "  .colab-df-quickchart:hover {\n",
              "    background-color: var(--hover-bg-color);\n",
              "    box-shadow: 0 1px 2px rgba(60, 64, 67, 0.3), 0 1px 3px 1px rgba(60, 64, 67, 0.15);\n",
              "    fill: var(--button-hover-fill-color);\n",
              "  }\n",
              "\n",
              "  .colab-df-quickchart-complete:disabled,\n",
              "  .colab-df-quickchart-complete:disabled:hover {\n",
              "    background-color: var(--disabled-bg-color);\n",
              "    fill: var(--disabled-fill-color);\n",
              "    box-shadow: none;\n",
              "  }\n",
              "\n",
              "  .colab-df-spinner {\n",
              "    border: 2px solid var(--fill-color);\n",
              "    border-color: transparent;\n",
              "    border-bottom-color: var(--fill-color);\n",
              "    animation:\n",
              "      spin 1s steps(1) infinite;\n",
              "  }\n",
              "\n",
              "  @keyframes spin {\n",
              "    0% {\n",
              "      border-color: transparent;\n",
              "      border-bottom-color: var(--fill-color);\n",
              "      border-left-color: var(--fill-color);\n",
              "    }\n",
              "    20% {\n",
              "      border-color: transparent;\n",
              "      border-left-color: var(--fill-color);\n",
              "      border-top-color: var(--fill-color);\n",
              "    }\n",
              "    30% {\n",
              "      border-color: transparent;\n",
              "      border-left-color: var(--fill-color);\n",
              "      border-top-color: var(--fill-color);\n",
              "      border-right-color: var(--fill-color);\n",
              "    }\n",
              "    40% {\n",
              "      border-color: transparent;\n",
              "      border-right-color: var(--fill-color);\n",
              "      border-top-color: var(--fill-color);\n",
              "    }\n",
              "    60% {\n",
              "      border-color: transparent;\n",
              "      border-right-color: var(--fill-color);\n",
              "    }\n",
              "    80% {\n",
              "      border-color: transparent;\n",
              "      border-right-color: var(--fill-color);\n",
              "      border-bottom-color: var(--fill-color);\n",
              "    }\n",
              "    90% {\n",
              "      border-color: transparent;\n",
              "      border-bottom-color: var(--fill-color);\n",
              "    }\n",
              "  }\n",
              "</style>\n",
              "\n",
              "      <script>\n",
              "        async function quickchart(key) {\n",
              "          const quickchartButtonEl =\n",
              "            document.querySelector('#' + key + ' button');\n",
              "          quickchartButtonEl.disabled = true;  // To prevent multiple clicks.\n",
              "          quickchartButtonEl.classList.add('colab-df-spinner');\n",
              "          try {\n",
              "            const charts = await google.colab.kernel.invokeFunction(\n",
              "                'suggestCharts', [key], {});\n",
              "          } catch (error) {\n",
              "            console.error('Error during call to suggestCharts:', error);\n",
              "          }\n",
              "          quickchartButtonEl.classList.remove('colab-df-spinner');\n",
              "          quickchartButtonEl.classList.add('colab-df-quickchart-complete');\n",
              "        }\n",
              "        (() => {\n",
              "          let quickchartButtonEl =\n",
              "            document.querySelector('#df-0d042285-748d-4d14-80ee-bce67ac23f3a button');\n",
              "          quickchartButtonEl.style.display =\n",
              "            google.colab.kernel.accessAllowed ? 'block' : 'none';\n",
              "        })();\n",
              "      </script>\n",
              "    </div>\n",
              "\n",
              "  <div id=\"id_ca3d0857-4fef-4908-8a19-8dee49c32b55\">\n",
              "    <style>\n",
              "      .colab-df-generate {\n",
              "        background-color: #E8F0FE;\n",
              "        border: none;\n",
              "        border-radius: 50%;\n",
              "        cursor: pointer;\n",
              "        display: none;\n",
              "        fill: #1967D2;\n",
              "        height: 32px;\n",
              "        padding: 0 0 0 0;\n",
              "        width: 32px;\n",
              "      }\n",
              "\n",
              "      .colab-df-generate:hover {\n",
              "        background-color: #E2EBFA;\n",
              "        box-shadow: 0px 1px 2px rgba(60, 64, 67, 0.3), 0px 1px 3px 1px rgba(60, 64, 67, 0.15);\n",
              "        fill: #174EA6;\n",
              "      }\n",
              "\n",
              "      [theme=dark] .colab-df-generate {\n",
              "        background-color: #3B4455;\n",
              "        fill: #D2E3FC;\n",
              "      }\n",
              "\n",
              "      [theme=dark] .colab-df-generate:hover {\n",
              "        background-color: #434B5C;\n",
              "        box-shadow: 0px 1px 3px 1px rgba(0, 0, 0, 0.15);\n",
              "        filter: drop-shadow(0px 1px 2px rgba(0, 0, 0, 0.3));\n",
              "        fill: #FFFFFF;\n",
              "      }\n",
              "    </style>\n",
              "    <button class=\"colab-df-generate\" onclick=\"generateWithVariable('df_sensor')\"\n",
              "            title=\"Generate code using this dataframe.\"\n",
              "            style=\"display:none;\">\n",
              "\n",
              "  <svg xmlns=\"http://www.w3.org/2000/svg\" height=\"24px\"viewBox=\"0 0 24 24\"\n",
              "       width=\"24px\">\n",
              "    <path d=\"M7,19H8.4L18.45,9,17,7.55,7,17.6ZM5,21V16.75L18.45,3.32a2,2,0,0,1,2.83,0l1.4,1.43a1.91,1.91,0,0,1,.58,1.4,1.91,1.91,0,0,1-.58,1.4L9.25,21ZM18.45,9,17,7.55Zm-12,3A5.31,5.31,0,0,0,4.9,8.1,5.31,5.31,0,0,0,1,6.5,5.31,5.31,0,0,0,4.9,4.9,5.31,5.31,0,0,0,6.5,1,5.31,5.31,0,0,0,8.1,4.9,5.31,5.31,0,0,0,12,6.5,5.46,5.46,0,0,0,6.5,12Z\"/>\n",
              "  </svg>\n",
              "    </button>\n",
              "    <script>\n",
              "      (() => {\n",
              "      const buttonEl =\n",
              "        document.querySelector('#id_ca3d0857-4fef-4908-8a19-8dee49c32b55 button.colab-df-generate');\n",
              "      buttonEl.style.display =\n",
              "        google.colab.kernel.accessAllowed ? 'block' : 'none';\n",
              "\n",
              "      buttonEl.onclick = () => {\n",
              "        google.colab.notebook.generateWithVariable('df_sensor');\n",
              "      }\n",
              "      })();\n",
              "    </script>\n",
              "  </div>\n",
              "\n",
              "    </div>\n",
              "  </div>\n"
            ],
            "application/vnd.google.colaboratory.intrinsic+json": {
              "type": "dataframe",
              "variable_name": "df_sensor"
            }
          },
          "metadata": {},
          "execution_count": 4
        }
      ]
    },
    {
      "cell_type": "markdown",
      "source": [
        "# Air Quality Index (AQI)"
      ],
      "metadata": {
        "id": "ymVXZ_FIVCPS"
      }
    },
    {
      "cell_type": "code",
      "source": [
        "df_sensor = df_sensor.sort_values(by=['data_formatada'])"
      ],
      "metadata": {
        "id": "ACtmDVw6V394"
      },
      "execution_count": 5,
      "outputs": []
    },
    {
      "cell_type": "markdown",
      "source": [
        "## Poluentes breakpoints"
      ],
      "metadata": {
        "id": "eAFnkxXgVF69"
      }
    },
    {
      "cell_type": "code",
      "source": [
        "pm25_breakpoints = [\n",
        "    (0.0, 9.0, 0, 50),        # Good\n",
        "    (9.1, 35.4, 51, 100),     # Moderate\n",
        "    (35.5, 55.4, 101, 150),   # Unhealthy for Sensitive Groups\n",
        "    (55.5, 125.4, 151, 200),  # Unhealthy\n",
        "    (125.5, 225.4, 201, 300), # Very Unhealthy\n",
        "    (225.5, 325.4, 301, 400), # Hazardous\n",
        "    (325.5, 99999.9, 401, 500) # Hazardous (Emergency)\n",
        "]"
      ],
      "metadata": {
        "id": "RgtXggIHFxwl"
      },
      "execution_count": 6,
      "outputs": []
    },
    {
      "cell_type": "code",
      "source": [
        "pm10_breakpoints = [\n",
        "    (0.0, 54.0, 0, 50),       # Good\n",
        "    (55.0, 154.0, 51, 100),   # Moderate\n",
        "    (155.0, 254.0, 101, 150), # Unhealthy for Sensitive Groups\n",
        "    (255.0, 354.0, 151, 200), # Unhealthy\n",
        "    (355.0, 424.0, 201, 300), # Very Unhealthy\n",
        "    (425.0, 604.0, 301, 400), # Hazardous\n",
        "    (605.0, 99999.9, 401, 500) # Hazardous (Emergency)\n",
        "]"
      ],
      "metadata": {
        "id": "eGzbP81IMDWo"
      },
      "execution_count": 7,
      "outputs": []
    },
    {
      "cell_type": "code",
      "source": [
        "# Breakpoints para CO (8h)\n",
        "co_8h_breakpoints = [\n",
        "    (0.0, 4.4, 0, 50),\n",
        "    (4.5, 9.4, 51, 100),\n",
        "    (9.5, 12.4, 101, 150),\n",
        "    (12.5, 15.4, 151, 200),\n",
        "    (15.5, 30.4, 201, 300),\n",
        "    (30.5, 50.4, 301, 400),\n",
        "    (50.4, 99999.9, 401, 500)\n",
        "]"
      ],
      "metadata": {
        "id": "i6pTduBeVV-t"
      },
      "execution_count": 8,
      "outputs": []
    },
    {
      "cell_type": "code",
      "source": [
        "no2_1h_breakpoints = [\n",
        "    (0.0, 53.0, 0, 50),       # Good\n",
        "    (54.0, 100.0, 51, 100),   # Moderate\n",
        "    (101.0, 360.0, 101, 150), # Unhealthy for Sensitive Groups\n",
        "    (361.0, 649.0, 151, 200), # Unhealthy\n",
        "    (650.0, 1249.0, 201, 300),# Very Unhealthy\n",
        "    (1250.0, 2049.0, 301, 400), # Hazardous\n",
        "    (2050.0, 99999.0, 401, 500) # Hazardous (Emergency)\n",
        "]"
      ],
      "metadata": {
        "id": "y_aHczX8XH5p"
      },
      "execution_count": 9,
      "outputs": []
    },
    {
      "cell_type": "code",
      "source": [
        "o3_8h_breakpoints = [\n",
        "    (0.0, 0.054, 0, 50),      # Good\n",
        "    (0.055, 0.07, 51, 100),   # Moderate\n",
        "    (0.071, 0.085, 101, 150), # Unhealthy for Sensitive Groups\n",
        "    (0.086, 0.105, 151, 200), # Unhealthy\n",
        "    (0.106, 0.2, 201, 300)    # Very Unhealthy\n",
        "]"
      ],
      "metadata": {
        "id": "rALHbDAZeTU5"
      },
      "execution_count": 10,
      "outputs": []
    },
    {
      "cell_type": "code",
      "source": [
        "so2_1h_breakpoints = [\n",
        "    (0.0, 0.034, 0, 50),       # Good\n",
        "    (0.035, 0.144, 51, 100),    # Moderate\n",
        "    (0.145, 0.224, 101, 150),  # Unhealthy for Sensitive Groups\n",
        "    (0.225, 0.304, 151, 200), # Unhealthy\n",
        "    (0.305, 0.604, 201, 300), # Very Unhealthy\n",
        "    (0.604, 0.804, 301, 400), # Very Unhealthy\n",
        "    (0.805, 99999.0, 401, 500) # Very Unhealthy\n",
        "]"
      ],
      "metadata": {
        "id": "4rqT6vbMihj4"
      },
      "execution_count": 11,
      "outputs": []
    },
    {
      "cell_type": "markdown",
      "source": [
        "## Formula para cada poluente"
      ],
      "metadata": {
        "id": "Nzh9cSmkVKS6"
      }
    },
    {
      "cell_type": "markdown",
      "source": [
        "### PM10"
      ],
      "metadata": {
        "id": "lS342bD7cQ_B"
      }
    },
    {
      "cell_type": "code",
      "source": [
        "# Função para calcular AQI com base em um valor de PM10\n",
        "def calcular_aqi_pm10(concentracao):\n",
        "    for c_low, c_high, i_low, i_high in pm10_breakpoints:\n",
        "        if c_low <= concentracao <= c_high:\n",
        "            return ((i_high - i_low) / (c_high - c_low)) * (concentracao - c_low) + i_low\n",
        "    return None  # Se não estiver em nenhum intervalo"
      ],
      "metadata": {
        "id": "Thu131uiG1ds"
      },
      "execution_count": 12,
      "outputs": []
    },
    {
      "cell_type": "code",
      "source": [
        "# Agrupar por nome_estacao e data, calculando média de pm10\n",
        "df_aqi_pm10 = (\n",
        "    df_sensor\n",
        "    .groupby(['data_formatada'])['pm10']\n",
        "    .mean()\n",
        "    .reset_index(name='pm10_medio')\n",
        ")\n",
        "\n",
        "# Calcular AQI\n",
        "df_aqi_pm10['aqi_pm10'] = df_aqi_pm10['pm10_medio'].apply(calcular_aqi_pm10)"
      ],
      "metadata": {
        "id": "s1YqZGFpc3OS"
      },
      "execution_count": 13,
      "outputs": []
    },
    {
      "cell_type": "markdown",
      "source": [
        "### PM2.5"
      ],
      "metadata": {
        "id": "KuhharANcSgT"
      }
    },
    {
      "cell_type": "code",
      "source": [
        "# Função para calcular AQI com base em um valor de PM2.5\n",
        "def calcular_aqi_pm25(concentracao):\n",
        "    for c_low, c_high, i_low, i_high in pm25_breakpoints:\n",
        "        if c_low <= concentracao <= c_high:\n",
        "            return ((i_high - i_low) / (c_high - c_low)) * (concentracao - c_low) + i_low\n",
        "    return None  # Se não estiver em nenhum intervalo"
      ],
      "metadata": {
        "id": "-yqJS0YqMLgM"
      },
      "execution_count": 14,
      "outputs": []
    },
    {
      "cell_type": "code",
      "source": [
        "# Agrupar por nome_estacao e data, calculando média de pm2_5\n",
        "df_aqi_pm2_5 = (\n",
        "    df_sensor\n",
        "    .groupby(['data_formatada'])['pm2_5']\n",
        "    .mean()\n",
        "    .reset_index(name='pm2_5_medio')\n",
        ")\n",
        "\n",
        "# Calcular AQI\n",
        "df_aqi_pm2_5['aqi_pm2_5'] = df_aqi_pm2_5['pm2_5_medio'].apply(calcular_aqi_pm25)"
      ],
      "metadata": {
        "id": "_Fkbu0FocxOu"
      },
      "execution_count": 15,
      "outputs": []
    },
    {
      "cell_type": "markdown",
      "source": [
        "### CO"
      ],
      "metadata": {
        "id": "HhdrqyUocURM"
      }
    },
    {
      "cell_type": "code",
      "source": [
        "# Função AQI CO\n",
        "def calcular_aqi_co(concentracao):\n",
        "    for c_low, c_high, i_low, i_high in co_8h_breakpoints:\n",
        "        if c_low <= concentracao <= c_high:\n",
        "            return ((i_high - i_low) / (c_high - c_low)) * (concentracao - c_low) + i_low\n",
        "    return None"
      ],
      "metadata": {
        "id": "guibL-HVVbex"
      },
      "execution_count": 16,
      "outputs": []
    },
    {
      "cell_type": "code",
      "source": [
        "# Calcular média móvel de 8h para CO por estação\n",
        "df_sensor['co_8h_media'] = (\n",
        "    df_sensor['co'].transform(lambda x: x.rolling(window=8, min_periods=8).mean())\n",
        ")\n",
        "\n",
        "# Filtrar apenas valores válidos da média de 8h\n",
        "df_co_max = (\n",
        "    df_sensor.dropna(subset=['co_8h_media'])\n",
        "    .groupby(['data_formatada'])['co_8h_media']\n",
        "    .max()\n",
        "    .reset_index(name='co_8h_max')\n",
        ")\n",
        "\n",
        "# Calcular AQI para o CO\n",
        "df_co_max['aqi_co'] = df_co_max['co_8h_max'].apply(calcular_aqi_co)"
      ],
      "metadata": {
        "id": "4vzt8td3dCUL"
      },
      "execution_count": 17,
      "outputs": []
    },
    {
      "cell_type": "markdown",
      "source": [
        "### NO2"
      ],
      "metadata": {
        "id": "yYOE_jYbcWuo"
      }
    },
    {
      "cell_type": "code",
      "source": [
        "def calcular_aqi_no2(concentracao):\n",
        "    for c_low, c_high, i_low, i_high in no2_1h_breakpoints:\n",
        "        if c_low <= concentracao <= c_high:\n",
        "            return ((i_high - i_low) / (c_high - c_low)) * (concentracao - c_low) + i_low\n",
        "    return None"
      ],
      "metadata": {
        "id": "3lz5Ljx7Xpda"
      },
      "execution_count": 18,
      "outputs": []
    },
    {
      "cell_type": "code",
      "source": [
        "df_no2_max = (\n",
        "    df_sensor\n",
        "    .groupby(['data_formatada'])['no2']\n",
        "    .max()\n",
        "    .reset_index(name='no2_1h_max')\n",
        ")\n",
        "\n",
        "df_no2_max['aqi_no2'] = df_no2_max['no2_1h_max'].apply(calcular_aqi_no2)"
      ],
      "metadata": {
        "id": "Vs3pX5K8dIdl"
      },
      "execution_count": 19,
      "outputs": []
    },
    {
      "cell_type": "markdown",
      "source": [
        "### O3\n",
        "\n",
        "Utilizei esse site para verificar se a conversão estava correta https://en.air-q.com/einheiten-umrechner"
      ],
      "metadata": {
        "id": "zrzROO_XcY1O"
      }
    },
    {
      "cell_type": "code",
      "source": [
        "def ugm3_to_ppm_o3(valor_ugm3):\n",
        "    \"\"\"\n",
        "    Converte concentração de ozônio de µg/m³ para ppm, assumindo:\n",
        "    - Temperatura de 25°C\n",
        "    - Pressão de 1 atm\n",
        "    - Condições padrão (CNTP)\n",
        "    \"\"\"\n",
        "\n",
        "    # 1. Massa molar do Ozônio (O₃) em g/mol\n",
        "    o3_massa_molar = 48.0  # g/mol\n",
        "\n",
        "    # 2. Volume molar de um gás ideal a CNTP (25°C e 1 atm)\n",
        "    volume_molar = 24.45  # litros/mol\n",
        "\n",
        "    # 3. Fator de conversão: µg/m³ para ppm\n",
        "    # Fórmula: ppm = (µg/m³ * 24.45) / (massa_molar * 1000)\n",
        "    # Multiplica por 24.45 (volume molar), divide pela massa molar e por 1000 (para converter µg -> mg -> g)\n",
        "    ppm = (valor_ugm3 * volume_molar) / (o3_massa_molar * 1000)\n",
        "\n",
        "    return ppm"
      ],
      "metadata": {
        "id": "dc3psA2Hcezv"
      },
      "execution_count": 20,
      "outputs": []
    },
    {
      "cell_type": "code",
      "source": [
        "df_sensor['o3_ppm'] = df_sensor['o3'].apply(ugm3_to_ppm_o3)"
      ],
      "metadata": {
        "id": "5JSVc67kckPQ"
      },
      "execution_count": 21,
      "outputs": []
    },
    {
      "cell_type": "code",
      "source": [
        "# Função para calcular o AQI do O₃\n",
        "def calcular_aqi_o3(ppm):\n",
        "    for c_low, c_high, i_low, i_high in o3_8h_breakpoints:\n",
        "        if c_low <= ppm <= c_high:\n",
        "            return ((i_high - i_low) / (c_high - c_low)) * (ppm - c_low) + i_low\n",
        "    return None"
      ],
      "metadata": {
        "id": "d5mOxb3JeIqr"
      },
      "execution_count": 22,
      "outputs": []
    },
    {
      "cell_type": "code",
      "source": [
        "# Calcular média móvel de 8 horas por estação\n",
        "df_sensor['o3_8h_avg'] = (\n",
        "    df_sensor['o3_ppm'].transform(lambda x: x.rolling(window=8, min_periods=8).mean())\n",
        ")\n",
        "\n",
        "# Agrupar por estação + dia e pegar o maior valor da média móvel de 8h\n",
        "df_o3_8h_max = (\n",
        "    df_sensor.dropna(subset=['co_8h_media'])\n",
        "    .groupby(['data_formatada'])['o3_8h_avg']\n",
        "    .max()\n",
        "    .reset_index(name='o3_8h_max')\n",
        ")\n",
        "\n",
        "# Calcular o AQI\n",
        "df_o3_8h_max['aqi_o3'] = df_o3_8h_max['o3_8h_max'].apply(calcular_aqi_o3)"
      ],
      "metadata": {
        "id": "uiPz9Cahdjn9"
      },
      "execution_count": 23,
      "outputs": []
    },
    {
      "cell_type": "markdown",
      "source": [
        "### SO2"
      ],
      "metadata": {
        "id": "q95E6HCYh54S"
      }
    },
    {
      "cell_type": "code",
      "source": [
        "def ugm3_to_ppm_so2(valor_ugm3):\n",
        "    \"\"\"\n",
        "    Converte concentração de dióxido de enxofre (SO2) de µg/m³ para ppm, assumindo:\n",
        "    - Temperatura de 25°C\n",
        "    - Pressão de 1 atm\n",
        "    - Condições padrão (CNTP)\n",
        "    \"\"\"\n",
        "\n",
        "    # 1. Massa molar do SO₂ em g/mol\n",
        "    so2_massa_molar = 64.066  # g/mol\n",
        "\n",
        "    # 2. Volume molar do gás ideal a CNTP (25°C e 1 atm)\n",
        "    volume_molar = 24.45  # litros/mol\n",
        "\n",
        "    # 3. Cálculo da conversão\n",
        "    # Fórmula: ppm = (µg/m³ * volume molar) / (massa molar * 1000)\n",
        "    # Multiplica por 24.45 (volume molar), divide pela massa molar e por 1000 (para converter µg → g)\n",
        "    ppm = (valor_ugm3 * volume_molar) / (so2_massa_molar * 1000)\n",
        "\n",
        "    return ppm"
      ],
      "metadata": {
        "id": "K-cRLVFch718"
      },
      "execution_count": 24,
      "outputs": []
    },
    {
      "cell_type": "code",
      "source": [
        "df_sensor['so2_ppm'] = df_sensor['so2'].apply(ugm3_to_ppm_so2)"
      ],
      "metadata": {
        "id": "3ICpes7Lh-mx"
      },
      "execution_count": 25,
      "outputs": []
    },
    {
      "cell_type": "code",
      "source": [
        "def calcular_aqi_so2(concentracao):\n",
        "    for c_low, c_high, i_low, i_high in so2_1h_breakpoints:\n",
        "        if c_low <= concentracao <= c_high:\n",
        "            return ((i_high - i_low) / (c_high - c_low)) * (concentracao - c_low) + i_low\n",
        "    return None"
      ],
      "metadata": {
        "id": "s5c0lQw_jSmq"
      },
      "execution_count": 26,
      "outputs": []
    },
    {
      "cell_type": "code",
      "source": [
        "df_so2_max = (\n",
        "    df_sensor\n",
        "    .groupby(['data_formatada'])['so2_ppm']\n",
        "    .max()\n",
        "    .reset_index(name='so2_1h_max')\n",
        ")\n",
        "\n",
        "df_so2_max['aqi_so2'] = df_so2_max['so2_1h_max'].apply(calcular_aqi_so2)"
      ],
      "metadata": {
        "id": "TbfyljyKjTvR"
      },
      "execution_count": 27,
      "outputs": []
    },
    {
      "cell_type": "markdown",
      "source": [
        "## Unificando"
      ],
      "metadata": {
        "id": "50Jm16-udK_T"
      }
    },
    {
      "cell_type": "code",
      "source": [
        "# Juntar ambos\n",
        "df_merged = pd.merge(df_aqi_pm2_5, df_aqi_pm10, on=['data_formatada'], how='outer')\n",
        "df_merged = pd.merge(df_merged, df_no2_max, on=['data_formatada'], how='outer')\n",
        "df_merged = pd.merge(df_merged, df_co_max, on=['data_formatada'], how='outer')\n",
        "df_merged = pd.merge(df_merged, df_o3_8h_max, on=['data_formatada'], how='outer')\n",
        "df_merged = pd.merge(df_merged, df_so2_max, on=['data_formatada'], how='outer')\n",
        "\n",
        "# AQI final do dia\n",
        "df_merged['aqi_final'] = df_merged[['aqi_pm2_5', 'aqi_co', 'aqi_pm10', 'aqi_no2', 'aqi_o3', 'aqi_so2']].max(axis=1)"
      ],
      "metadata": {
        "id": "qbZdLhPzJn3n"
      },
      "execution_count": 28,
      "outputs": []
    },
    {
      "cell_type": "code",
      "source": [
        "df_aqi_final = df_merged[['data_formatada', 'aqi_final']]"
      ],
      "metadata": {
        "id": "SdqLf7cQJsoq"
      },
      "execution_count": 29,
      "outputs": []
    },
    {
      "cell_type": "code",
      "source": [
        "def classificar_aqi(aqi):\n",
        "    if aqi <= 50:\n",
        "        return 'Good'\n",
        "    elif aqi <= 100:\n",
        "        return 'Moderate'\n",
        "    elif aqi <= 150:\n",
        "        return 'Unhealthy for Sensitive Groups'\n",
        "    elif aqi <= 200:\n",
        "        return 'Unhealthy'\n",
        "    elif aqi <= 300:\n",
        "        return 'Very Unhealthy'\n",
        "    elif aqi <= 500:\n",
        "        return 'Hazardous'\n",
        "    else:\n",
        "        return 'Invalid AQI'"
      ],
      "metadata": {
        "id": "fH0-B6-uOARR"
      },
      "execution_count": 30,
      "outputs": []
    },
    {
      "cell_type": "code",
      "source": [
        "df_aqi_final['descricao_aqi'] = df_aqi_final['aqi_final'].apply(classificar_aqi)"
      ],
      "metadata": {
        "colab": {
          "base_uri": "https://localhost:8080/"
        },
        "id": "Us-N6nrzOA88",
        "outputId": "2c96bd90-6db9-4a01-c290-a7c50aaa0cea"
      },
      "execution_count": 31,
      "outputs": [
        {
          "output_type": "stream",
          "name": "stderr",
          "text": [
            "<ipython-input-31-fc3ebab32216>:1: SettingWithCopyWarning: \n",
            "A value is trying to be set on a copy of a slice from a DataFrame.\n",
            "Try using .loc[row_indexer,col_indexer] = value instead\n",
            "\n",
            "See the caveats in the documentation: https://pandas.pydata.org/pandas-docs/stable/user_guide/indexing.html#returning-a-view-versus-a-copy\n",
            "  df_aqi_final['descricao_aqi'] = df_aqi_final['aqi_final'].apply(classificar_aqi)\n"
          ]
        }
      ]
    },
    {
      "cell_type": "code",
      "source": [
        "df_aqi_final.to_csv('air_quality_index_per_day.csv', index=False)"
      ],
      "metadata": {
        "id": "ZxCq8USSNPX6"
      },
      "execution_count": 32,
      "outputs": []
    },
    {
      "cell_type": "markdown",
      "metadata": {
        "id": "oLWd87b6Jjkk"
      },
      "source": [
        "## AQI"
      ]
    },
    {
      "cell_type": "markdown",
      "metadata": {
        "id": "vcjt5u7HLM0A"
      },
      "source": [
        "### Análise exploratória"
      ]
    },
    {
      "cell_type": "code",
      "execution_count": 33,
      "metadata": {
        "colab": {
          "base_uri": "https://localhost:8080/",
          "height": 335
        },
        "id": "RBSeX7UzLPnH",
        "outputId": "d6d0b32d-1d8a-46c2-9a59-81031c6894bc"
      },
      "outputs": [
        {
          "output_type": "execute_result",
          "data": {
            "text/plain": [
              "count    2899.000000\n",
              "mean       80.107446\n",
              "std        25.403466\n",
              "min        20.601852\n",
              "25%        61.297189\n",
              "50%        75.990000\n",
              "75%        96.282391\n",
              "max       225.650863\n",
              "Name: aqi_final, dtype: float64"
            ],
            "text/html": [
              "<div>\n",
              "<style scoped>\n",
              "    .dataframe tbody tr th:only-of-type {\n",
              "        vertical-align: middle;\n",
              "    }\n",
              "\n",
              "    .dataframe tbody tr th {\n",
              "        vertical-align: top;\n",
              "    }\n",
              "\n",
              "    .dataframe thead th {\n",
              "        text-align: right;\n",
              "    }\n",
              "</style>\n",
              "<table border=\"1\" class=\"dataframe\">\n",
              "  <thead>\n",
              "    <tr style=\"text-align: right;\">\n",
              "      <th></th>\n",
              "      <th>aqi_final</th>\n",
              "    </tr>\n",
              "  </thead>\n",
              "  <tbody>\n",
              "    <tr>\n",
              "      <th>count</th>\n",
              "      <td>2899.000000</td>\n",
              "    </tr>\n",
              "    <tr>\n",
              "      <th>mean</th>\n",
              "      <td>80.107446</td>\n",
              "    </tr>\n",
              "    <tr>\n",
              "      <th>std</th>\n",
              "      <td>25.403466</td>\n",
              "    </tr>\n",
              "    <tr>\n",
              "      <th>min</th>\n",
              "      <td>20.601852</td>\n",
              "    </tr>\n",
              "    <tr>\n",
              "      <th>25%</th>\n",
              "      <td>61.297189</td>\n",
              "    </tr>\n",
              "    <tr>\n",
              "      <th>50%</th>\n",
              "      <td>75.990000</td>\n",
              "    </tr>\n",
              "    <tr>\n",
              "      <th>75%</th>\n",
              "      <td>96.282391</td>\n",
              "    </tr>\n",
              "    <tr>\n",
              "      <th>max</th>\n",
              "      <td>225.650863</td>\n",
              "    </tr>\n",
              "  </tbody>\n",
              "</table>\n",
              "</div><br><label><b>dtype:</b> float64</label>"
            ]
          },
          "metadata": {},
          "execution_count": 33
        }
      ],
      "source": [
        "#@title Describe dos dados\n",
        "\n",
        "df_aqi_final['aqi_final'].describe()"
      ]
    },
    {
      "cell_type": "markdown",
      "metadata": {
        "id": "4Dcc_m6YKVuk"
      },
      "source": [
        "### Visualização gráfica"
      ]
    },
    {
      "cell_type": "code",
      "execution_count": 34,
      "metadata": {
        "cellView": "form",
        "colab": {
          "base_uri": "https://localhost:8080/",
          "height": 607
        },
        "id": "GjkeJnEFNXjo",
        "outputId": "d079f882-209b-469c-dcf6-f038d8a71157"
      },
      "outputs": [
        {
          "output_type": "display_data",
          "data": {
            "text/plain": [
              "<Figure size 1200x600 with 1 Axes>"
            ],
            "image/png": "[encoded data removed]"
          },
          "metadata": {}
        }
      ],
      "source": [
        "#@title Boxplot\n",
        "\n",
        "plt.figure(figsize=(12, 6))\n",
        "ax = sns.boxplot(x=df_aqi_final['aqi_final'],\n",
        "                 color='skyblue',\n",
        "                 linewidth=2.5,\n",
        "                 width=0.4,\n",
        "                 flierprops=dict(marker='o',\n",
        "                               markersize=8,\n",
        "                               markerfacecolor='red',\n",
        "                               markeredgecolor='black'))\n",
        "\n",
        "plt.title('Distribuição de Dados de qualidade do ar\\n',\n",
        "          fontsize=16,\n",
        "          fontweight='bold')\n",
        "plt.xlabel('QUalidade do ar',\n",
        "           fontsize=12,\n",
        "           labelpad=10)\n",
        "\n",
        "plt.xticks(fontsize=11)\n",
        "plt.yticks([])\n",
        "\n",
        "plt.grid(axis='x',\n",
        "         linestyle='--',\n",
        "         alpha=0.7)\n",
        "\n",
        "median_val = df_aqi_final['aqi_final'].median()\n",
        "plt.axvline(median_val,\n",
        "            color='green',\n",
        "            linestyle='--',\n",
        "            linewidth=2)\n",
        "plt.text(median_val*1.05,\n",
        "         0.4,\n",
        "         f'Mediana: {median_val:.2f}',\n",
        "         color='green',\n",
        "         fontsize=12)\n",
        "\n",
        "# Adicionando informações sobre outliers\n",
        "q1 = df_aqi_final['aqi_final'].quantile(0.25)\n",
        "q3 = df_aqi_final['aqi_final'].quantile(0.75)\n",
        "iqr = q3 - q1\n",
        "outliers = df_aqi_final[(df_aqi_final['aqi_final'] < q1 - 1.5*iqr) |\n",
        "                            (df_aqi_final['aqi_final'] > q3 + 1.5*iqr)]\n",
        "plt.text(0.95,\n",
        "         0.9,\n",
        "         f'Outliers: {len(outliers)} pontos',\n",
        "         transform=ax.transAxes,\n",
        "         ha='right',\n",
        "         fontsize=11,\n",
        "         bbox=dict(facecolor='white', alpha=0.8))\n",
        "\n",
        "plt.tight_layout()\n",
        "plt.show()"
      ]
    },
    {
      "cell_type": "code",
      "execution_count": 35,
      "metadata": {
        "cellView": "form",
        "colab": {
          "base_uri": "https://localhost:8080/",
          "height": 707
        },
        "id": "7BwQ3ESZKa3r",
        "outputId": "b2ebd63c-ee96-4e8c-b5a4-5d9666c87f71"
      },
      "outputs": [
        {
          "output_type": "display_data",
          "data": {
            "text/plain": [
              "<Figure size 1400x700 with 1 Axes>"
            ],
            "image/png": "[encoded data removed]"
          },
          "metadata": {}
        }
      ],
      "source": [
        "#@title Histograma\n",
        "\n",
        "plt.figure(figsize=(14, 7))\n",
        "ax = sns.histplot(data=df_aqi_final, x='aqi_final',\n",
        "                 kde=True, bins=100)\n",
        "\n",
        "# Melhorias no título e labels\n",
        "plt.title('Distribuição de Air Quality Index\\n',\n",
        "          fontsize=18, pad=20, fontweight='bold')\n",
        "plt.xlabel('Air Quality Index', fontsize=14, labelpad=10)\n",
        "plt.ylabel('Densidade de Probabilidade', fontsize=14, labelpad=10)\n",
        "\n",
        "# Grid e eixos\n",
        "plt.grid(axis='y', linestyle='--', alpha=0.4)\n",
        "ax.set_axisbelow(True)\n",
        "\n",
        "# Adicionando linhas de referência importantes\n",
        "mean_val = df_aqi_final['aqi_final'].mean()\n",
        "median_val = df_aqi_final['aqi_final'].median()\n",
        "plt.axvline(mean_val, color='#ff7f0e', linestyle='--', linewidth=2.5, label=f'Média: {mean_val:.2f} ')\n",
        "plt.axvline(median_val, color='#2ca02c', linestyle='--', linewidth=2.5, label=f'Mediana: {median_val:.2f} ')\n",
        "\n",
        "# Estatísticas no gráfico\n",
        "stats_text = f'''\n",
        "Estatísticas:\n",
        "- Média: {mean_val:.2f}\n",
        "- Mediana: {median_val:.2f}\n",
        "- Std: {df_aqi_final[\"aqi_final\"].std():.2f}\n",
        "- Máx: {df_aqi_final[\"aqi_final\"].max():.2f}\n",
        "'''\n",
        "plt.text(0.98, 0.75, stats_text, transform=ax.transAxes,\n",
        "         ha='right', va='top', fontsize=12,\n",
        "         bbox=dict(facecolor='white', alpha=0.8, edgecolor='gray'))\n",
        "\n",
        "# Melhorando a legenda\n",
        "plt.legend(fontsize=12, framealpha=0.9)\n",
        "\n",
        "plt.tight_layout()\n",
        "plt.show()"
      ]
    },
    {
      "cell_type": "markdown",
      "metadata": {
        "id": "5p_6g4XhSHpL"
      },
      "source": [
        "### Testes de normalidade\n",
        "\n"
      ]
    },
    {
      "cell_type": "code",
      "execution_count": 36,
      "metadata": {
        "colab": {
          "base_uri": "https://localhost:8080/"
        },
        "id": "TRPbxYfSPH4L",
        "outputId": "0b5d27e7-8e9b-4e7d-a990-b832d2a00921"
      },
      "outputs": [
        {
          "output_type": "stream",
          "name": "stdout",
          "text": [
            "Teste de Shapiro para aqi_final: Estatística = 0.940, p-valor = 0.000\n",
            "aqi_final NÃO segue uma distribuição normal (p <= 0.05).\n",
            "p_value gerado: 9.679281450029815e-20\n"
          ]
        }
      ],
      "source": [
        "#@title Aplicando teste de Shapiro-Wilk (Shapiro-Wilk pode não ser preciso para amostras muito grandes (acima de 5000))\n",
        "\n",
        "sample_size = 1000\n",
        "\n",
        "np.random.seed(40)\n",
        "\n",
        "random_sample = np.random.choice(df_aqi_final['aqi_final'].dropna(), size=sample_size, replace=False)\n",
        "\n",
        "stat, p_value = shapiro(random_sample)\n",
        "print(f\"Teste de Shapiro para {'aqi_final'}: Estatística = {stat:.3f}, p-valor = {p_value:.3f}\")\n",
        "if p_value > 0.05:\n",
        "    print(f\"{'aqi_final'} parece seguir uma distribuição normal (p > 0.05).\")\n",
        "else:\n",
        "    print(f\"{'aqi_final'} NÃO segue uma distribuição normal (p <= 0.05).\")\n",
        "\n",
        "print(f\"p_value gerado: {p_value}\")"
      ]
    },
    {
      "cell_type": "code",
      "execution_count": 37,
      "metadata": {
        "colab": {
          "base_uri": "https://localhost:8080/"
        },
        "id": "gPZAlBxXM-_Z",
        "outputId": "1804a9ec-247b-485d-aaea-9f08923c9540",
        "cellView": "form"
      },
      "outputs": [
        {
          "output_type": "stream",
          "name": "stdout",
          "text": [
            "Teste de Kolmogorov-Smirnov: Estatística = 0.061, p-valor = 0.001\n",
            "A amostra NÃO segue uma distribuição normal.\n",
            "p_value gerado: 0.0010391323542983495\n"
          ]
        }
      ],
      "source": [
        "#@title Aplicando teste de Kolmogorov-Smirnov\n",
        "\n",
        "stat, p_value = kstest(random_sample, 'norm', args=(np.mean(random_sample), np.std(random_sample)))\n",
        "print(f\"Teste de Kolmogorov-Smirnov: Estatística = {stat:.3f}, p-valor = {p_value:.3f}\")\n",
        "if p_value > 0.05:\n",
        "    print(\"A amostra parece seguir uma distribuição normal.\")\n",
        "else:\n",
        "    print(\"A amostra NÃO segue uma distribuição normal.\")\n",
        "\n",
        "print(f\"p_value gerado: {p_value}\")"
      ]
    },
    {
      "cell_type": "code",
      "execution_count": 38,
      "metadata": {
        "colab": {
          "base_uri": "https://localhost:8080/",
          "height": 607
        },
        "id": "ZNquSRjOQJqc",
        "outputId": "2c3f32f4-9bcc-4046-c52a-a8835757d3f1"
      },
      "outputs": [
        {
          "output_type": "display_data",
          "data": {
            "text/plain": [
              "<Figure size 1200x600 with 1 Axes>"
            ],
            "image/png": "[encoded data removed]"
          },
          "metadata": {}
        }
      ],
      "source": [
        "#@title Q-Q plot\n",
        "\n",
        "plt.figure(figsize=(12, 6))\n",
        "stats.probplot(df_aqi_final['aqi_final'].dropna(), dist=\"norm\", plot=plt)\n",
        "\n",
        "plt.title(\"Q-Q Plot da Air Quality Index\", fontsize=16)\n",
        "plt.xlabel(\"Quantis Teóricos\", fontsize=14)\n",
        "plt.ylabel(\"Quantis Amostrais\", fontsize=14)\n",
        "plt.grid(True, linestyle='--', alpha=0.7)\n",
        "plt.tight_layout()\n",
        "plt.show()"
      ]
    },
    {
      "cell_type": "markdown",
      "metadata": {
        "id": "oUobMeXwScej"
      },
      "source": [
        "**Dados Não Normais:**\n",
        "\n",
        "O desvio sistemático da linha, principalmente nas caudas, confirma o resultado do teste de Shapiro-Wilk (p-valor = 0.000).\n",
        "\n",
        "Isso é típico em dados de chuva, que frequentemente têm:\n",
        "\n",
        "- Assimetria positiva: Muitos valores baixos/zeros e alguns extremamente altos.\n",
        "\n",
        "- Caudas pesadas: Valores de precipitação extrema que não são compatíveis com uma distribuição normal.\n",
        "\n",
        "**Padrão de Desvio:**\n",
        "\n",
        "Se os pontos ficam abaixo da linha no lado esquerdo e acima no lado direito, isso sugere assimetria positiva (comum em dados de chuva).\n",
        "\n",
        "Se o gráfico mostrar uma curva em \"S\" ou formas não lineares, indica caudas mais pesadas ou mais leves que o esperado na normal."
      ]
    },
    {
      "cell_type": "markdown",
      "metadata": {
        "id": "kyPODXcxSuZJ"
      },
      "source": [
        "### Transformação para Normalidade utilizando Boxcox"
      ]
    },
    {
      "cell_type": "markdown",
      "metadata": {
        "id": "VCo0eW7gH7BZ"
      },
      "source": [
        "#### Transformação de Box-Cox"
      ]
    },
    {
      "cell_type": "code",
      "execution_count": null,
      "metadata": {
        "id": "35jtSJWMTLTM"
      },
      "outputs": [],
      "source": [
        "# # Cria a coluna para armazenar os valores transformados\n",
        "# df_sensor['chuva_boxcox'] = np.nan\n",
        "\n",
        "# # Identifica os valores não nulos\n",
        "# mask = df_sensor['chuva'].notna()\n",
        "# chuva_validos = df_sensor.loc[mask, 'chuva']\n",
        "\n",
        "# lambda_boxcox = 0.5  # Altere este valor conforme necessário!\n",
        "# df_sensor.loc[mask, 'chuva_boxcox'] = boxcox1p(chuva_validos, lambda_boxcox)"
      ]
    },
    {
      "cell_type": "code",
      "source": [
        "df_aqi_final['aqi_final_boxcox'] = np.nan\n",
        "\n",
        "mask = (df_aqi_final['aqi_final'].notna())\n",
        "\n",
        "aqi_final_validos = df_aqi_final.loc[mask, 'aqi_final']\n",
        "\n",
        "aqi_final_boxcox, lambda_boxcox = stats.boxcox(aqi_final_validos + 1)\n",
        "\n",
        "df_aqi_final.loc[mask, 'aqi_final_boxcox'] = aqi_final_boxcox"
      ],
      "metadata": {
        "id": "Q0ID8TKCYZ9l",
        "colab": {
          "base_uri": "https://localhost:8080/"
        },
        "outputId": "cd147018-9905-4709-ef12-3ccc3c2edba8"
      },
      "execution_count": 39,
      "outputs": [
        {
          "output_type": "stream",
          "name": "stderr",
          "text": [
            "<ipython-input-39-eedacd6ac11d>:1: SettingWithCopyWarning: \n",
            "A value is trying to be set on a copy of a slice from a DataFrame.\n",
            "Try using .loc[row_indexer,col_indexer] = value instead\n",
            "\n",
            "See the caveats in the documentation: https://pandas.pydata.org/pandas-docs/stable/user_guide/indexing.html#returning-a-view-versus-a-copy\n",
            "  df_aqi_final['aqi_final_boxcox'] = np.nan\n"
          ]
        }
      ]
    },
    {
      "cell_type": "markdown",
      "metadata": {
        "id": "3sc9M24CWM9k"
      },
      "source": [
        "### Testes de normalidade após Boxcox\n",
        "\n"
      ]
    },
    {
      "cell_type": "code",
      "execution_count": 40,
      "metadata": {
        "colab": {
          "base_uri": "https://localhost:8080/"
        },
        "id": "YrHGaBqfVvZK",
        "outputId": "f75d010b-748d-4a97-9728-4bdc4cf4257a"
      },
      "outputs": [
        {
          "output_type": "stream",
          "name": "stdout",
          "text": [
            "Teste de Shapiro para aqi_final_boxcox: Estatística = 0.996, p-valor = 0.007\n",
            "aqi_final_boxcox NÃO segue uma distribuição normal (p <= 0.05).\n",
            "p_value gerado: 0.007444500904205537\n"
          ]
        }
      ],
      "source": [
        "#@title Aplicando teste de Shapiro-Wilk (Shapiro-Wilk pode não ser preciso para amostras muito grandes (acima de 5000))\n",
        "\n",
        "sample_size = 1000\n",
        "\n",
        "np.random.seed(40)\n",
        "\n",
        "random_sample = np.random.choice(df_aqi_final['aqi_final_boxcox'].dropna(), size=sample_size, replace=False)\n",
        "\n",
        "stat, p_value = shapiro(random_sample)\n",
        "print(f\"Teste de Shapiro para {'aqi_final_boxcox'}: Estatística = {stat:.3f}, p-valor = {p_value:.3f}\")\n",
        "if p_value > 0.05:\n",
        "    print(f\"{'aqi_final_boxcox'} parece seguir uma distribuição normal (p > 0.05).\")\n",
        "else:\n",
        "    print(f\"{'aqi_final_boxcox'} NÃO segue uma distribuição normal (p <= 0.05).\")\n",
        "\n",
        "print(f\"p_value gerado: {p_value}\")"
      ]
    },
    {
      "cell_type": "code",
      "execution_count": 41,
      "metadata": {
        "cellView": "form",
        "colab": {
          "base_uri": "https://localhost:8080/"
        },
        "id": "uHyWuXXwNIRT",
        "outputId": "19b1ecc7-6956-4c90-8d8e-ce9dd36c6a4a"
      },
      "outputs": [
        {
          "output_type": "stream",
          "name": "stdout",
          "text": [
            "Teste de Kolmogorov-Smirnov: Estatística = 0.034, p-valor = 0.198\n",
            "A amostra parece seguir uma distribuição normal.\n",
            "p_value gerado: 0.19802961642722194\n"
          ]
        }
      ],
      "source": [
        "#@title Aplicando teste de Kolmogorov-Smirnov\n",
        "\n",
        "stat, p_value = kstest(random_sample, 'norm', args=(np.mean(random_sample), np.std(random_sample)))\n",
        "print(f\"Teste de Kolmogorov-Smirnov: Estatística = {stat:.3f}, p-valor = {p_value:.3f}\")\n",
        "if p_value > 0.05:\n",
        "    print(\"A amostra parece seguir uma distribuição normal.\")\n",
        "else:\n",
        "    print(\"A amostra NÃO segue uma distribuição normal.\")\n",
        "\n",
        "print(f\"p_value gerado: {p_value}\")"
      ]
    },
    {
      "cell_type": "code",
      "execution_count": 46,
      "metadata": {
        "colab": {
          "base_uri": "https://localhost:8080/",
          "height": 707
        },
        "id": "JJdZzlCs9Pp6",
        "outputId": "963c529c-b490-4449-8a79-8818e7727466"
      },
      "outputs": [
        {
          "output_type": "display_data",
          "data": {
            "text/plain": [
              "<Figure size 1400x700 with 1 Axes>"
            ],
            "image/png": "[encoded data removed]"
          },
          "metadata": {}
        }
      ],
      "source": [
        "#@title Histograma\n",
        "\n",
        "plt.figure(figsize=(14, 7))\n",
        "ax = sns.histplot(data=df_aqi_final, x='aqi_final_boxcox',\n",
        "                 kde=True, bins=100)\n",
        "\n",
        "# Melhorias no título e labels\n",
        "plt.title('Distribuição de Qualidade do Ar\\n',\n",
        "          fontsize=18, pad=20, fontweight='bold')\n",
        "plt.xlabel('Qualidade do Ar', fontsize=14, labelpad=10)\n",
        "plt.ylabel('Densidade de Probabilidade', fontsize=14, labelpad=10)\n",
        "\n",
        "# Grid e eixos\n",
        "plt.grid(axis='y', linestyle='--', alpha=0.4)\n",
        "ax.set_axisbelow(True)\n",
        "\n",
        "# Adicionando linhas de referência importantes\n",
        "mean_val = df_aqi_final['aqi_final_boxcox'].mean()\n",
        "median_val = df_aqi_final['aqi_final_boxcox'].median()\n",
        "plt.axvline(mean_val, color='#ff7f0e', linestyle='--', linewidth=2.5, label=f'Média: {mean_val:.2f} ')\n",
        "plt.axvline(median_val, color='#2ca02c', linestyle='--', linewidth=2.5, label=f'Mediana: {median_val:.2f} ')\n",
        "\n",
        "# Estatísticas no gráfico\n",
        "stats_text = f'''\n",
        "Estatísticas:\n",
        "- Média: {mean_val:.2f}\n",
        "- Mediana: {median_val:.2f}\n",
        "- Std: {df_aqi_final[\"aqi_final_boxcox\"].std():.2f}\n",
        "- Máx: {df_aqi_final[\"aqi_final_boxcox\"].max():.2f}\n",
        "'''\n",
        "plt.text(0.98, 0.75, stats_text, transform=ax.transAxes,\n",
        "         ha='right', va='top', fontsize=12,\n",
        "         bbox=dict(facecolor='white', alpha=0.8, edgecolor='gray'))\n",
        "\n",
        "# Melhorando a legenda\n",
        "plt.legend(fontsize=12, framealpha=0.9)\n",
        "\n",
        "plt.tight_layout()\n",
        "plt.show()"
      ]
    },
    {
      "cell_type": "code",
      "execution_count": 44,
      "metadata": {
        "colab": {
          "base_uri": "https://localhost:8080/",
          "height": 607
        },
        "id": "14Dt617ZVvZL",
        "outputId": "4feca505-b72f-49ea-9aee-185802be1f4a"
      },
      "outputs": [
        {
          "output_type": "display_data",
          "data": {
            "text/plain": [
              "<Figure size 1200x600 with 1 Axes>"
            ],
            "image/png": "[encoded data removed]"
          },
          "metadata": {}
        }
      ],
      "source": [
        "#@title Q-Q plot\n",
        "\n",
        "plt.figure(figsize=(12, 6))\n",
        "stats.probplot(df_aqi_final['aqi_final_boxcox'].dropna(), dist=\"norm\", plot=plt)\n",
        "\n",
        "plt.title(\"Q-Q Plot da Qualidade do Ar (vs Distribuição Normal)\", fontsize=16)\n",
        "plt.xlabel(\"Quantis Teóricos\", fontsize=14)\n",
        "plt.ylabel(\"Quantis Amostrais\", fontsize=14)\n",
        "plt.grid(True, linestyle='--', alpha=0.7)\n",
        "plt.tight_layout()\n",
        "plt.show()"
      ]
    },
    {
      "cell_type": "markdown",
      "source": [
        "### Dropando e renomeando coluna Chuva"
      ],
      "metadata": {
        "id": "PTH_4YzA_dm5"
      }
    },
    {
      "cell_type": "code",
      "source": [
        "#@title Dropando colunas aqi_final e renomeando 'aqi_final_boxcox' para aqi_final\n",
        "\n",
        "df_aqi_final.drop(columns=['aqi_final'], inplace=True)\n",
        "df_aqi_final.rename(columns={'aqi_final_boxcox': 'aqi_final'}, inplace=True)"
      ],
      "metadata": {
        "id": "7iRfuTKk_UqG",
        "colab": {
          "base_uri": "https://localhost:8080/"
        },
        "outputId": "4b56142b-2dd4-4124-ff42-db3036ca7c3d"
      },
      "execution_count": 47,
      "outputs": [
        {
          "output_type": "stream",
          "name": "stderr",
          "text": [
            "<ipython-input-47-c27e6c31f15d>:3: SettingWithCopyWarning: \n",
            "A value is trying to be set on a copy of a slice from a DataFrame\n",
            "\n",
            "See the caveats in the documentation: https://pandas.pydata.org/pandas-docs/stable/user_guide/indexing.html#returning-a-view-versus-a-copy\n",
            "  df_aqi_final.drop(columns=['aqi_final'], inplace=True)\n",
            "<ipython-input-47-c27e6c31f15d>:4: SettingWithCopyWarning: \n",
            "A value is trying to be set on a copy of a slice from a DataFrame\n",
            "\n",
            "See the caveats in the documentation: https://pandas.pydata.org/pandas-docs/stable/user_guide/indexing.html#returning-a-view-versus-a-copy\n",
            "  df_aqi_final.rename(columns={'aqi_final_boxcox': 'aqi_final'}, inplace=True)\n"
          ]
        }
      ]
    },
    {
      "cell_type": "code",
      "source": [
        "df_aqi_final"
      ],
      "metadata": {
        "colab": {
          "base_uri": "https://localhost:8080/",
          "height": 424
        },
        "id": "9ddaaoiOk_ud",
        "outputId": "1a9b28e6-7c4a-4de1-f390-58635ac521e1"
      },
      "execution_count": 48,
      "outputs": [
        {
          "output_type": "execute_result",
          "data": {
            "text/plain": [
              "     data_formatada descricao_aqi  aqi_final\n",
              "0        2012-01-01      Moderate   3.945046\n",
              "1        2012-01-02      Moderate   4.018683\n",
              "2        2012-01-03      Moderate   4.023832\n",
              "3        2012-01-04      Moderate   4.289627\n",
              "4        2012-01-05      Moderate   4.365032\n",
              "...             ...           ...        ...\n",
              "2894     2019-12-27      Moderate   4.067038\n",
              "2895     2019-12-28      Moderate   3.906932\n",
              "2896     2019-12-29          Good   3.500325\n",
              "2897     2019-12-30      Moderate   3.796664\n",
              "2898     2019-12-31          Good   3.745083\n",
              "\n",
              "[2899 rows x 3 columns]"
            ],
            "text/html": [
              "\n",
              "  <div id=\"df-815455b2-22ab-46b0-8d13-cfac65698597\" class=\"colab-df-container\">\n",
              "    <div>\n",
              "<style scoped>\n",
              "    .dataframe tbody tr th:only-of-type {\n",
              "        vertical-align: middle;\n",
              "    }\n",
              "\n",
              "    .dataframe tbody tr th {\n",
              "        vertical-align: top;\n",
              "    }\n",
              "\n",
              "    .dataframe thead th {\n",
              "        text-align: right;\n",
              "    }\n",
              "</style>\n",
              "<table border=\"1\" class=\"dataframe\">\n",
              "  <thead>\n",
              "    <tr style=\"text-align: right;\">\n",
              "      <th></th>\n",
              "      <th>data_formatada</th>\n",
              "      <th>descricao_aqi</th>\n",
              "      <th>aqi_final</th>\n",
              "    </tr>\n",
              "  </thead>\n",
              "  <tbody>\n",
              "    <tr>\n",
              "      <th>0</th>\n",
              "      <td>2012-01-01</td>\n",
              "      <td>Moderate</td>\n",
              "      <td>3.945046</td>\n",
              "    </tr>\n",
              "    <tr>\n",
              "      <th>1</th>\n",
              "      <td>2012-01-02</td>\n",
              "      <td>Moderate</td>\n",
              "      <td>4.018683</td>\n",
              "    </tr>\n",
              "    <tr>\n",
              "      <th>2</th>\n",
              "      <td>2012-01-03</td>\n",
              "      <td>Moderate</td>\n",
              "      <td>4.023832</td>\n",
              "    </tr>\n",
              "    <tr>\n",
              "      <th>3</th>\n",
              "      <td>2012-01-04</td>\n",
              "      <td>Moderate</td>\n",
              "      <td>4.289627</td>\n",
              "    </tr>\n",
              "    <tr>\n",
              "      <th>4</th>\n",
              "      <td>2012-01-05</td>\n",
              "      <td>Moderate</td>\n",
              "      <td>4.365032</td>\n",
              "    </tr>\n",
              "    <tr>\n",
              "      <th>...</th>\n",
              "      <td>...</td>\n",
              "      <td>...</td>\n",
              "      <td>...</td>\n",
              "    </tr>\n",
              "    <tr>\n",
              "      <th>2894</th>\n",
              "      <td>2019-12-27</td>\n",
              "      <td>Moderate</td>\n",
              "      <td>4.067038</td>\n",
              "    </tr>\n",
              "    <tr>\n",
              "      <th>2895</th>\n",
              "      <td>2019-12-28</td>\n",
              "      <td>Moderate</td>\n",
              "      <td>3.906932</td>\n",
              "    </tr>\n",
              "    <tr>\n",
              "      <th>2896</th>\n",
              "      <td>2019-12-29</td>\n",
              "      <td>Good</td>\n",
              "      <td>3.500325</td>\n",
              "    </tr>\n",
              "    <tr>\n",
              "      <th>2897</th>\n",
              "      <td>2019-12-30</td>\n",
              "      <td>Moderate</td>\n",
              "      <td>3.796664</td>\n",
              "    </tr>\n",
              "    <tr>\n",
              "      <th>2898</th>\n",
              "      <td>2019-12-31</td>\n",
              "      <td>Good</td>\n",
              "      <td>3.745083</td>\n",
              "    </tr>\n",
              "  </tbody>\n",
              "</table>\n",
              "<p>2899 rows × 3 columns</p>\n",
              "</div>\n",
              "    <div class=\"colab-df-buttons\">\n",
              "\n",
              "  <div class=\"colab-df-container\">\n",
              "    <button class=\"colab-df-convert\" onclick=\"convertToInteractive('df-815455b2-22ab-46b0-8d13-cfac65698597')\"\n",
              "            title=\"Convert this dataframe to an interactive table.\"\n",
              "            style=\"display:none;\">\n",
              "\n",
              "  <svg xmlns=\"http://www.w3.org/2000/svg\" height=\"24px\" viewBox=\"0 -960 960 960\">\n",
              "    <path d=\"M120-120v-720h720v720H120Zm60-500h600v-160H180v160Zm220 220h160v-160H400v160Zm0 220h160v-160H400v160ZM180-400h160v-160H180v160Zm440 0h160v-160H620v160ZM180-180h160v-160H180v160Zm440 0h160v-160H620v160Z\"/>\n",
              "  </svg>\n",
              "    </button>\n",
              "\n",
              "  <style>\n",
              "    .colab-df-container {\n",
              "      display:flex;\n",
              "      gap: 12px;\n",
              "    }\n",
              "\n",
              "    .colab-df-convert {\n",
              "      background-color: #E8F0FE;\n",
              "      border: none;\n",
              "      border-radius: 50%;\n",
              "      cursor: pointer;\n",
              "      display: none;\n",
              "      fill: #1967D2;\n",
              "      height: 32px;\n",
              "      padding: 0 0 0 0;\n",
              "      width: 32px;\n",
              "    }\n",
              "\n",
              "    .colab-df-convert:hover {\n",
              "      background-color: #E2EBFA;\n",
              "      box-shadow: 0px 1px 2px rgba(60, 64, 67, 0.3), 0px 1px 3px 1px rgba(60, 64, 67, 0.15);\n",
              "      fill: #174EA6;\n",
              "    }\n",
              "\n",
              "    .colab-df-buttons div {\n",
              "      margin-bottom: 4px;\n",
              "    }\n",
              "\n",
              "    [theme=dark] .colab-df-convert {\n",
              "      background-color: #3B4455;\n",
              "      fill: #D2E3FC;\n",
              "    }\n",
              "\n",
              "    [theme=dark] .colab-df-convert:hover {\n",
              "      background-color: #434B5C;\n",
              "      box-shadow: 0px 1px 3px 1px rgba(0, 0, 0, 0.15);\n",
              "      filter: drop-shadow(0px 1px 2px rgba(0, 0, 0, 0.3));\n",
              "      fill: #FFFFFF;\n",
              "    }\n",
              "  </style>\n",
              "\n",
              "    <script>\n",
              "      const buttonEl =\n",
              "        document.querySelector('#df-815455b2-22ab-46b0-8d13-cfac65698597 button.colab-df-convert');\n",
              "      buttonEl.style.display =\n",
              "        google.colab.kernel.accessAllowed ? 'block' : 'none';\n",
              "\n",
              "      async function convertToInteractive(key) {\n",
              "        const element = document.querySelector('#df-815455b2-22ab-46b0-8d13-cfac65698597');\n",
              "        const dataTable =\n",
              "          await google.colab.kernel.invokeFunction('convertToInteractive',\n",
              "                                                    [key], {});\n",
              "        if (!dataTable) return;\n",
              "\n",
              "        const docLinkHtml = 'Like what you see? Visit the ' +\n",
              "          '<a target=\"_blank\" href=https://colab.research.google.com/notebooks/data_table.ipynb>data table notebook</a>'\n",
              "          + ' to learn more about interactive tables.';\n",
              "        element.innerHTML = '';\n",
              "        dataTable['output_type'] = 'display_data';\n",
              "        await google.colab.output.renderOutput(dataTable, element);\n",
              "        const docLink = document.createElement('div');\n",
              "        docLink.innerHTML = docLinkHtml;\n",
              "        element.appendChild(docLink);\n",
              "      }\n",
              "    </script>\n",
              "  </div>\n",
              "\n",
              "\n",
              "    <div id=\"df-e1b2b1c3-9a6b-4cc6-892c-6bcb2237914b\">\n",
              "      <button class=\"colab-df-quickchart\" onclick=\"quickchart('df-e1b2b1c3-9a6b-4cc6-892c-6bcb2237914b')\"\n",
              "                title=\"Suggest charts\"\n",
              "                style=\"display:none;\">\n",
              "\n",
              "<svg xmlns=\"http://www.w3.org/2000/svg\" height=\"24px\"viewBox=\"0 0 24 24\"\n",
              "     width=\"24px\">\n",
              "    <g>\n",
              "        <path d=\"M19 3H5c-1.1 0-2 .9-2 2v14c0 1.1.9 2 2 2h14c1.1 0 2-.9 2-2V5c0-1.1-.9-2-2-2zM9 17H7v-7h2v7zm4 0h-2V7h2v10zm4 0h-2v-4h2v4z\"/>\n",
              "    </g>\n",
              "</svg>\n",
              "      </button>\n",
              "\n",
              "<style>\n",
              "  .colab-df-quickchart {\n",
              "      --bg-color: #E8F0FE;\n",
              "      --fill-color: #1967D2;\n",
              "      --hover-bg-color: #E2EBFA;\n",
              "      --hover-fill-color: #174EA6;\n",
              "      --disabled-fill-color: #AAA;\n",
              "      --disabled-bg-color: #DDD;\n",
              "  }\n",
              "\n",
              "  [theme=dark] .colab-df-quickchart {\n",
              "      --bg-color: #3B4455;\n",
              "      --fill-color: #D2E3FC;\n",
              "      --hover-bg-color: #434B5C;\n",
              "      --hover-fill-color: #FFFFFF;\n",
              "      --disabled-bg-color: #3B4455;\n",
              "      --disabled-fill-color: #666;\n",
              "  }\n",
              "\n",
              "  .colab-df-quickchart {\n",
              "    background-color: var(--bg-color);\n",
              "    border: none;\n",
              "    border-radius: 50%;\n",
              "    cursor: pointer;\n",
              "    display: none;\n",
              "    fill: var(--fill-color);\n",
              "    height: 32px;\n",
              "    padding: 0;\n",
              "    width: 32px;\n",
              "  }\n",
              "\n",
              "  .colab-df-quickchart:hover {\n",
              "    background-color: var(--hover-bg-color);\n",
              "    box-shadow: 0 1px 2px rgba(60, 64, 67, 0.3), 0 1px 3px 1px rgba(60, 64, 67, 0.15);\n",
              "    fill: var(--button-hover-fill-color);\n",
              "  }\n",
              "\n",
              "  .colab-df-quickchart-complete:disabled,\n",
              "  .colab-df-quickchart-complete:disabled:hover {\n",
              "    background-color: var(--disabled-bg-color);\n",
              "    fill: var(--disabled-fill-color);\n",
              "    box-shadow: none;\n",
              "  }\n",
              "\n",
              "  .colab-df-spinner {\n",
              "    border: 2px solid var(--fill-color);\n",
              "    border-color: transparent;\n",
              "    border-bottom-color: var(--fill-color);\n",
              "    animation:\n",
              "      spin 1s steps(1) infinite;\n",
              "  }\n",
              "\n",
              "  @keyframes spin {\n",
              "    0% {\n",
              "      border-color: transparent;\n",
              "      border-bottom-color: var(--fill-color);\n",
              "      border-left-color: var(--fill-color);\n",
              "    }\n",
              "    20% {\n",
              "      border-color: transparent;\n",
              "      border-left-color: var(--fill-color);\n",
              "      border-top-color: var(--fill-color);\n",
              "    }\n",
              "    30% {\n",
              "      border-color: transparent;\n",
              "      border-left-color: var(--fill-color);\n",
              "      border-top-color: var(--fill-color);\n",
              "      border-right-color: var(--fill-color);\n",
              "    }\n",
              "    40% {\n",
              "      border-color: transparent;\n",
              "      border-right-color: var(--fill-color);\n",
              "      border-top-color: var(--fill-color);\n",
              "    }\n",
              "    60% {\n",
              "      border-color: transparent;\n",
              "      border-right-color: var(--fill-color);\n",
              "    }\n",
              "    80% {\n",
              "      border-color: transparent;\n",
              "      border-right-color: var(--fill-color);\n",
              "      border-bottom-color: var(--fill-color);\n",
              "    }\n",
              "    90% {\n",
              "      border-color: transparent;\n",
              "      border-bottom-color: var(--fill-color);\n",
              "    }\n",
              "  }\n",
              "</style>\n",
              "\n",
              "      <script>\n",
              "        async function quickchart(key) {\n",
              "          const quickchartButtonEl =\n",
              "            document.querySelector('#' + key + ' button');\n",
              "          quickchartButtonEl.disabled = true;  // To prevent multiple clicks.\n",
              "          quickchartButtonEl.classList.add('colab-df-spinner');\n",
              "          try {\n",
              "            const charts = await google.colab.kernel.invokeFunction(\n",
              "                'suggestCharts', [key], {});\n",
              "          } catch (error) {\n",
              "            console.error('Error during call to suggestCharts:', error);\n",
              "          }\n",
              "          quickchartButtonEl.classList.remove('colab-df-spinner');\n",
              "          quickchartButtonEl.classList.add('colab-df-quickchart-complete');\n",
              "        }\n",
              "        (() => {\n",
              "          let quickchartButtonEl =\n",
              "            document.querySelector('#df-e1b2b1c3-9a6b-4cc6-892c-6bcb2237914b button');\n",
              "          quickchartButtonEl.style.display =\n",
              "            google.colab.kernel.accessAllowed ? 'block' : 'none';\n",
              "        })();\n",
              "      </script>\n",
              "    </div>\n",
              "\n",
              "  <div id=\"id_bca4f9f6-2899-4d59-874f-1a480a7b8bc2\">\n",
              "    <style>\n",
              "      .colab-df-generate {\n",
              "        background-color: #E8F0FE;\n",
              "        border: none;\n",
              "        border-radius: 50%;\n",
              "        cursor: pointer;\n",
              "        display: none;\n",
              "        fill: #1967D2;\n",
              "        height: 32px;\n",
              "        padding: 0 0 0 0;\n",
              "        width: 32px;\n",
              "      }\n",
              "\n",
              "      .colab-df-generate:hover {\n",
              "        background-color: #E2EBFA;\n",
              "        box-shadow: 0px 1px 2px rgba(60, 64, 67, 0.3), 0px 1px 3px 1px rgba(60, 64, 67, 0.15);\n",
              "        fill: #174EA6;\n",
              "      }\n",
              "\n",
              "      [theme=dark] .colab-df-generate {\n",
              "        background-color: #3B4455;\n",
              "        fill: #D2E3FC;\n",
              "      }\n",
              "\n",
              "      [theme=dark] .colab-df-generate:hover {\n",
              "        background-color: #434B5C;\n",
              "        box-shadow: 0px 1px 3px 1px rgba(0, 0, 0, 0.15);\n",
              "        filter: drop-shadow(0px 1px 2px rgba(0, 0, 0, 0.3));\n",
              "        fill: #FFFFFF;\n",
              "      }\n",
              "    </style>\n",
              "    <button class=\"colab-df-generate\" onclick=\"generateWithVariable('df_aqi_final')\"\n",
              "            title=\"Generate code using this dataframe.\"\n",
              "            style=\"display:none;\">\n",
              "\n",
              "  <svg xmlns=\"http://www.w3.org/2000/svg\" height=\"24px\"viewBox=\"0 0 24 24\"\n",
              "       width=\"24px\">\n",
              "    <path d=\"M7,19H8.4L18.45,9,17,7.55,7,17.6ZM5,21V16.75L18.45,3.32a2,2,0,0,1,2.83,0l1.4,1.43a1.91,1.91,0,0,1,.58,1.4,1.91,1.91,0,0,1-.58,1.4L9.25,21ZM18.45,9,17,7.55Zm-12,3A5.31,5.31,0,0,0,4.9,8.1,5.31,5.31,0,0,0,1,6.5,5.31,5.31,0,0,0,4.9,4.9,5.31,5.31,0,0,0,6.5,1,5.31,5.31,0,0,0,8.1,4.9,5.31,5.31,0,0,0,12,6.5,5.46,5.46,0,0,0,6.5,12Z\"/>\n",
              "  </svg>\n",
              "    </button>\n",
              "    <script>\n",
              "      (() => {\n",
              "      const buttonEl =\n",
              "        document.querySelector('#id_bca4f9f6-2899-4d59-874f-1a480a7b8bc2 button.colab-df-generate');\n",
              "      buttonEl.style.display =\n",
              "        google.colab.kernel.accessAllowed ? 'block' : 'none';\n",
              "\n",
              "      buttonEl.onclick = () => {\n",
              "        google.colab.notebook.generateWithVariable('df_aqi_final');\n",
              "      }\n",
              "      })();\n",
              "    </script>\n",
              "  </div>\n",
              "\n",
              "    </div>\n",
              "  </div>\n"
            ],
            "application/vnd.google.colaboratory.intrinsic+json": {
              "type": "dataframe",
              "variable_name": "df_aqi_final",
              "summary": "{\n  \"name\": \"df_aqi_final\",\n  \"rows\": 2899,\n  \"fields\": [\n    {\n      \"column\": \"data_formatada\",\n      \"properties\": {\n        \"dtype\": \"object\",\n        \"num_unique_values\": 2899,\n        \"samples\": [\n          \"2012-05-21\",\n          \"2016-04-17\",\n          \"2013-04-30\"\n        ],\n        \"semantic_type\": \"\",\n        \"description\": \"\"\n      }\n    },\n    {\n      \"column\": \"descricao_aqi\",\n      \"properties\": {\n        \"dtype\": \"category\",\n        \"num_unique_values\": 5,\n        \"samples\": [\n          \"Good\",\n          \"Very Unhealthy\",\n          \"Unhealthy\"\n        ],\n        \"semantic_type\": \"\",\n        \"description\": \"\"\n      }\n    },\n    {\n      \"column\": \"aqi_final\",\n      \"properties\": {\n        \"dtype\": \"number\",\n        \"std\": 0.27527337535503743,\n        \"min\": 2.968735028650935,\n        \"max\": 5.104882910923622,\n        \"num_unique_values\": 2493,\n        \"samples\": [\n          4.299608682126581,\n          3.8603908593284033,\n          3.8706498237103717\n        ],\n        \"semantic_type\": \"\",\n        \"description\": \"\"\n      }\n    }\n  ]\n}"
            }
          },
          "metadata": {},
          "execution_count": 48
        }
      ]
    },
    {
      "cell_type": "code",
      "source": [
        "df_aqi_final.to_csv('air_quality_index_per_day_boxcox.csv', index=False)"
      ],
      "metadata": {
        "id": "tlPS9PHslI-N"
      },
      "execution_count": 49,
      "outputs": []
    }
  ]
}