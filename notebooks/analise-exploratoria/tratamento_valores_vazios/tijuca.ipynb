{
  "nbformat": 4,
  "nbformat_minor": 0,
  "metadata": {
    "colab": {
      "provenance": []
    },
    "kernelspec": {
      "name": "python3",
      "display_name": "Python 3"
    },
    "language_info": {
      "name": "python"
    }
  },
  "cells": [
    {
      "cell_type": "markdown",
      "metadata": {
        "id": "FQyXpVbbCeRX"
      },
      "source": [
        "# Propósito\n",
        "\n",
        "Este notebook tem como objetivo realizar uma análise exploratória de algumas colunas de interesse das medições dos sensores de qualidade do ar.\n",
        "\n",
        "O principal objetivo será preencher alguns valores nulos utilizando a função interpolate()\n",
        "\n",
        "Mas para não enviesar muitos dados preencheremos apenas os valores em que a quantidade de valores nulas no dia semana menor que 7\n"
      ]
    },
    {
      "cell_type": "markdown",
      "metadata": {
        "id": "TTJ20DT1DZP4"
      },
      "source": [
        "# Importações"
      ]
    },
    {
      "cell_type": "code",
      "execution_count": 1,
      "metadata": {
        "id": "3IqV3pDuCcJq"
      },
      "outputs": [],
      "source": [
        "import pandas as pd\n",
        "import numpy as np\n",
        "import matplotlib.pyplot as plt\n",
        "import seaborn as sns\n",
        "from sklearn.linear_model import LinearRegression\n",
        "import scipy.stats as stats\n",
        "from scipy.stats import shapiro, anderson, boxcox, kstest, norm\n",
        "from scipy.special import boxcox1p\n",
        "from scipy import stats"
      ]
    },
    {
      "cell_type": "markdown",
      "metadata": {
        "id": "g4RXL-is5UgJ"
      },
      "source": [
        "# Consumindo bases"
      ]
    },
    {
      "cell_type": "code",
      "execution_count": 2,
      "metadata": {
        "id": "eyjEKJYpDhin"
      },
      "outputs": [],
      "source": [
        "url_sensor = '/content/drive/MyDrive/TCC/sensores-2011-2021/medicao-sensores.csv'\n",
        "\n",
        "df_sensor = pd.read_csv(url_sensor, sep=',')\n",
        "\n",
        "url_estacoes = '/content/drive/MyDrive/TCC/sensores-2011-2021/estacoes.csv'\n",
        "\n",
        "df_estacoes = pd.read_csv(url_estacoes, sep=',')"
      ]
    },
    {
      "cell_type": "code",
      "execution_count": 3,
      "metadata": {
        "colab": {
          "base_uri": "https://localhost:8080/"
        },
        "id": "I8DoZujMX7Hy",
        "outputId": "3bb0ba32-2397-43b7-ad1a-d72504ee27f0"
      },
      "outputs": [
        {
          "output_type": "execute_result",
          "data": {
            "text/plain": [
              "Index(['objectid', 'data', 'codnum', 'estação', 'chuva', 'pres', 'rs', 'temp',\n",
              "       'ur', 'dir_vento', 'vel_vento', 'so2', 'no2', 'hcnm', 'hct', 'ch4',\n",
              "       'co', 'no', 'nox', 'o3', 'pm10', 'pm2_5', 'lat', 'lon',\n",
              "       'x_utm_sirgas2000', 'y_utm_sirgas2000'],\n",
              "      dtype='object')"
            ]
          },
          "metadata": {},
          "execution_count": 3
        }
      ],
      "source": [
        "df_sensor.columns"
      ]
    },
    {
      "cell_type": "markdown",
      "metadata": {
        "id": "-KWYSQmgDtki"
      },
      "source": [
        "# Pré-processamento"
      ]
    },
    {
      "cell_type": "markdown",
      "metadata": {
        "id": "q18psyhOH2hN"
      },
      "source": [
        "## Selecionando e criando colunas"
      ]
    },
    {
      "cell_type": "code",
      "execution_count": 4,
      "metadata": {
        "cellView": "form",
        "id": "m2M9yDEpXZHc"
      },
      "outputs": [],
      "source": [
        "#@title Criando coluna nome estacao com base na coluna codnum\n",
        "df_sensor['nome_estacao'] = df_sensor['codnum'].map(df_estacoes.set_index('codnum')['nome'])"
      ]
    },
    {
      "cell_type": "code",
      "execution_count": 5,
      "metadata": {
        "cellView": "form",
        "id": "A9QJxIqs5mRT"
      },
      "outputs": [],
      "source": [
        "#@title Selecionando as colunas mais relevantes\n",
        "interest_columns = ['nome_estacao', 'data', 'chuva', 'temp', 'ur', 'co', 'no', 'no2', 'nox', 'so2', 'o3', 'pm10', 'pm2_5']\n",
        "\n",
        "df_sensor_interest = df_sensor[interest_columns]"
      ]
    },
    {
      "cell_type": "code",
      "execution_count": 6,
      "metadata": {
        "cellView": "form",
        "colab": {
          "base_uri": "https://localhost:8080/"
        },
        "id": "08TM4o3W5mUB",
        "outputId": "df5ac9e8-2058-4f0c-d8e2-80cec880f2d2"
      },
      "outputs": [
        {
          "output_type": "stream",
          "name": "stderr",
          "text": [
            "<ipython-input-6-f9a423e0dd73>:2: SettingWithCopyWarning: \n",
            "A value is trying to be set on a copy of a slice from a DataFrame.\n",
            "Try using .loc[row_indexer,col_indexer] = value instead\n",
            "\n",
            "See the caveats in the documentation: https://pandas.pydata.org/pandas-docs/stable/user_guide/indexing.html#returning-a-view-versus-a-copy\n",
            "  df_sensor_interest['data'] = pd.to_datetime(df_sensor_interest['data'], format='%Y/%m/%d %H:%M:%S+00')\n",
            "<ipython-input-6-f9a423e0dd73>:3: SettingWithCopyWarning: \n",
            "A value is trying to be set on a copy of a slice from a DataFrame.\n",
            "Try using .loc[row_indexer,col_indexer] = value instead\n",
            "\n",
            "See the caveats in the documentation: https://pandas.pydata.org/pandas-docs/stable/user_guide/indexing.html#returning-a-view-versus-a-copy\n",
            "  df_sensor_interest['data_formatada'] = pd.to_datetime(df_sensor_interest['data']).dt.strftime('%Y-%m-%d')\n",
            "<ipython-input-6-f9a423e0dd73>:4: SettingWithCopyWarning: \n",
            "A value is trying to be set on a copy of a slice from a DataFrame.\n",
            "Try using .loc[row_indexer,col_indexer] = value instead\n",
            "\n",
            "See the caveats in the documentation: https://pandas.pydata.org/pandas-docs/stable/user_guide/indexing.html#returning-a-view-versus-a-copy\n",
            "  df_sensor_interest['ano'] = df_sensor_interest['data'].dt.year\n",
            "<ipython-input-6-f9a423e0dd73>:5: SettingWithCopyWarning: \n",
            "A value is trying to be set on a copy of a slice from a DataFrame.\n",
            "Try using .loc[row_indexer,col_indexer] = value instead\n",
            "\n",
            "See the caveats in the documentation: https://pandas.pydata.org/pandas-docs/stable/user_guide/indexing.html#returning-a-view-versus-a-copy\n",
            "  df_sensor_interest['mes'] = df_sensor_interest['data'].dt.month\n"
          ]
        }
      ],
      "source": [
        "#@title Criando colunas de ano e mês para facilitar a análise temporal\n",
        "df_sensor_interest['data'] = pd.to_datetime(df_sensor_interest['data'], format='%Y/%m/%d %H:%M:%S+00')\n",
        "df_sensor_interest['data_formatada'] = pd.to_datetime(df_sensor_interest['data']).dt.strftime('%Y-%m-%d')\n",
        "df_sensor_interest['ano'] = df_sensor_interest['data'].dt.year\n",
        "df_sensor_interest['mes'] = df_sensor_interest['data'].dt.month"
      ]
    },
    {
      "cell_type": "code",
      "execution_count": 7,
      "metadata": {
        "cellView": "form",
        "id": "010BKMPF5mWa"
      },
      "outputs": [],
      "source": [
        "#@title Removendo ano de 2011 (Pela falta de alguns poluente) e anos da pandemia\n",
        "df_sensor_interest_filtered = df_sensor_interest[(df_sensor_interest['ano'] > 2011) & (df_sensor_interest['ano'] < 2020)]"
      ]
    },
    {
      "cell_type": "code",
      "execution_count": 8,
      "metadata": {
        "id": "_c6j_tgIdxeL"
      },
      "outputs": [],
      "source": [
        "#@title Filtrando por Tijuca\n",
        "df_sensor_tijuca = df_sensor_interest_filtered[df_sensor_interest_filtered['nome_estacao'] == 'ESTAÇÃO TIJUCA']"
      ]
    },
    {
      "cell_type": "markdown",
      "metadata": {
        "id": "gmWkUcmdIpux"
      },
      "source": [
        "# Tratando colunas de interesse por Estação de monitoriamento\n"
      ]
    },
    {
      "cell_type": "markdown",
      "metadata": {
        "id": "yLqNrnrAN4w-"
      },
      "source": [
        "## Estação Tijuca\n",
        "Colunas normalizadas: Chuva, Temperatura, Umidade relativa, CO, NO, NO2, NOx, SO2, O3, PM10"
      ]
    },
    {
      "cell_type": "markdown",
      "metadata": {
        "id": "9ymtlIMxOidV"
      },
      "source": [
        "### Chuva"
      ]
    },
    {
      "cell_type": "code",
      "execution_count": 9,
      "metadata": {
        "colab": {
          "base_uri": "https://localhost:8080/",
          "height": 335
        },
        "id": "24M_cJnzP4gK",
        "outputId": "8f6911ac-0468-4a94-f791-c60448700667"
      },
      "outputs": [
        {
          "output_type": "execute_result",
          "data": {
            "text/plain": [
              "count    67848.000000\n",
              "mean         0.091739\n",
              "std          0.844936\n",
              "min          0.000000\n",
              "25%          0.000000\n",
              "50%          0.000000\n",
              "75%          0.000000\n",
              "max         48.400000\n",
              "Name: chuva, dtype: float64"
            ],
            "text/html": [
              "<div>\n",
              "<style scoped>\n",
              "    .dataframe tbody tr th:only-of-type {\n",
              "        vertical-align: middle;\n",
              "    }\n",
              "\n",
              "    .dataframe tbody tr th {\n",
              "        vertical-align: top;\n",
              "    }\n",
              "\n",
              "    .dataframe thead th {\n",
              "        text-align: right;\n",
              "    }\n",
              "</style>\n",
              "<table border=\"1\" class=\"dataframe\">\n",
              "  <thead>\n",
              "    <tr style=\"text-align: right;\">\n",
              "      <th></th>\n",
              "      <th>chuva</th>\n",
              "    </tr>\n",
              "  </thead>\n",
              "  <tbody>\n",
              "    <tr>\n",
              "      <th>count</th>\n",
              "      <td>67848.000000</td>\n",
              "    </tr>\n",
              "    <tr>\n",
              "      <th>mean</th>\n",
              "      <td>0.091739</td>\n",
              "    </tr>\n",
              "    <tr>\n",
              "      <th>std</th>\n",
              "      <td>0.844936</td>\n",
              "    </tr>\n",
              "    <tr>\n",
              "      <th>min</th>\n",
              "      <td>0.000000</td>\n",
              "    </tr>\n",
              "    <tr>\n",
              "      <th>25%</th>\n",
              "      <td>0.000000</td>\n",
              "    </tr>\n",
              "    <tr>\n",
              "      <th>50%</th>\n",
              "      <td>0.000000</td>\n",
              "    </tr>\n",
              "    <tr>\n",
              "      <th>75%</th>\n",
              "      <td>0.000000</td>\n",
              "    </tr>\n",
              "    <tr>\n",
              "      <th>max</th>\n",
              "      <td>48.400000</td>\n",
              "    </tr>\n",
              "  </tbody>\n",
              "</table>\n",
              "</div><br><label><b>dtype:</b> float64</label>"
            ]
          },
          "metadata": {},
          "execution_count": 9
        }
      ],
      "source": [
        "df_sensor_tijuca['chuva'].describe()"
      ]
    },
    {
      "cell_type": "code",
      "execution_count": 10,
      "metadata": {
        "colab": {
          "base_uri": "https://localhost:8080/"
        },
        "id": "Ntw7zXT0Q6zx",
        "outputId": "b56b625e-5aaf-4904-d77c-047ad3764ef8",
        "cellView": "form"
      },
      "outputs": [
        {
          "output_type": "stream",
          "name": "stdout",
          "text": [
            "Quantidade de valores vazios: 1026\n"
          ]
        }
      ],
      "source": [
        "#@title Vendo quantidade de valores vazios\n",
        "\n",
        "valroes_vazio = df_sensor_tijuca[df_sensor_tijuca['chuva'].isnull()].groupby(['ano', 'mes']).size().sum()\n",
        "print(f\"Quantidade de valores vazios: {valroes_vazio}\")"
      ]
    },
    {
      "cell_type": "code",
      "execution_count": 11,
      "metadata": {
        "colab": {
          "base_uri": "https://localhost:8080/"
        },
        "id": "wfMEwBEEwJph",
        "outputId": "c96b40e6-ee2e-4e77-abda-dc03dea3b5fd",
        "cellView": "form"
      },
      "outputs": [
        {
          "output_type": "stream",
          "name": "stderr",
          "text": [
            "<ipython-input-11-41133a260494>:3: SettingWithCopyWarning: \n",
            "A value is trying to be set on a copy of a slice from a DataFrame.\n",
            "Try using .loc[row_indexer,col_indexer] = value instead\n",
            "\n",
            "See the caveats in the documentation: https://pandas.pydata.org/pandas-docs/stable/user_guide/indexing.html#returning-a-view-versus-a-copy\n",
            "  df_sensor_tijuca['chuva_nulos_no_dia'] = (\n"
          ]
        }
      ],
      "source": [
        "#@title Criando coluna que informa a quantidade de valores vazios por dia\n",
        "\n",
        "df_sensor_tijuca['chuva_nulos_no_dia'] = (\n",
        "    df_sensor_tijuca['chuva'].isnull()\n",
        "    .groupby(df_sensor_tijuca['data_formatada'])\n",
        "    .transform('sum')  # Soma os nulos por dia e repete o valor em todas as linhas do dia\n",
        ")"
      ]
    },
    {
      "cell_type": "code",
      "source": [
        "#@title Distribuição dos valores vazios\n",
        "\n",
        "# Seleciona uma única linha por dia, para evitar repetição\n",
        "df_dias = df_sensor_tijuca[df_sensor_tijuca['chuva_nulos_no_dia'] != 0].groupby('data_formatada')['chuva_nulos_no_dia'].first()\n",
        "\n",
        "# Plotar o histograma da contagem de valores nulos por dia\n",
        "plt.figure(figsize=(10,6))\n",
        "plt.hist(df_dias, bins=range(0, df_dias.max() + 2), edgecolor='black', align='left')\n",
        "plt.title('Histograma de Quantidade de Valores Vazios em \"chuva\" por Dia')\n",
        "plt.xlabel('Quantidade de valores vazios no dia')\n",
        "plt.ylabel('Número de dias')\n",
        "plt.xticks(range(0, df_dias.max() + 1))\n",
        "plt.grid(axis='y', alpha=0.75)\n",
        "plt.show()"
      ],
      "metadata": {
        "colab": {
          "base_uri": "https://localhost:8080/",
          "height": 564
        },
        "cellView": "form",
        "id": "jYMgiW_cHPBb",
        "outputId": "45312420-d5a6-4dbd-adec-50116abd616f"
      },
      "execution_count": 12,
      "outputs": [
        {
          "output_type": "display_data",
          "data": {
            "text/plain": [
              "<Figure size 1000x600 with 1 Axes>"
            ],
            "image/png": "[encoded data removed]"
          },
          "metadata": {}
        }
      ]
    },
    {
      "cell_type": "code",
      "execution_count": 13,
      "metadata": {
        "colab": {
          "base_uri": "https://localhost:8080/"
        },
        "id": "CUSCMdfvRRAo",
        "outputId": "79560a31-b8b3-474b-a245-abf2eded33b5",
        "cellView": "form"
      },
      "outputs": [
        {
          "output_type": "stream",
          "name": "stdout",
          "text": [
            "73 linhas foram preenchidas com interpolate na coluna 'chuva'.\n",
            "Foram preenchido 7% de dados\n"
          ]
        }
      ],
      "source": [
        "#@title Preenchimento dos valores nulos utilizando a função interpolate (Preenchendo apenas os que tem menos de 7 linhas vazias)\n",
        "\n",
        "mask = (df_sensor_tijuca['chuva_nulos_no_dia'] <= 6)\n",
        "\n",
        "num_nulls = df_sensor_tijuca[mask]['chuva'].isnull().sum()\n",
        "df_sensor_tijuca.loc[mask, 'chuva'] = df_sensor_tijuca[mask]['chuva'].interpolate()\n",
        "print(f\"{num_nulls} linhas foram preenchidas com interpolate na coluna 'chuva'.\")\n",
        "print(f\"Foram preenchido {round((num_nulls/valroes_vazio)*100)}% de dados\")"
      ]
    },
    {
      "cell_type": "code",
      "execution_count": 14,
      "metadata": {
        "colab": {
          "base_uri": "https://localhost:8080/",
          "height": 335
        },
        "id": "97-NgrgDRt33",
        "outputId": "fcda833f-1003-46e8-c77c-0d55d6c653f1"
      },
      "outputs": [
        {
          "output_type": "execute_result",
          "data": {
            "text/plain": [
              "count    67921.000000\n",
              "mean         0.092049\n",
              "std          0.846045\n",
              "min          0.000000\n",
              "25%          0.000000\n",
              "50%          0.000000\n",
              "75%          0.000000\n",
              "max         48.400000\n",
              "Name: chuva, dtype: float64"
            ],
            "text/html": [
              "<div>\n",
              "<style scoped>\n",
              "    .dataframe tbody tr th:only-of-type {\n",
              "        vertical-align: middle;\n",
              "    }\n",
              "\n",
              "    .dataframe tbody tr th {\n",
              "        vertical-align: top;\n",
              "    }\n",
              "\n",
              "    .dataframe thead th {\n",
              "        text-align: right;\n",
              "    }\n",
              "</style>\n",
              "<table border=\"1\" class=\"dataframe\">\n",
              "  <thead>\n",
              "    <tr style=\"text-align: right;\">\n",
              "      <th></th>\n",
              "      <th>chuva</th>\n",
              "    </tr>\n",
              "  </thead>\n",
              "  <tbody>\n",
              "    <tr>\n",
              "      <th>count</th>\n",
              "      <td>67921.000000</td>\n",
              "    </tr>\n",
              "    <tr>\n",
              "      <th>mean</th>\n",
              "      <td>0.092049</td>\n",
              "    </tr>\n",
              "    <tr>\n",
              "      <th>std</th>\n",
              "      <td>0.846045</td>\n",
              "    </tr>\n",
              "    <tr>\n",
              "      <th>min</th>\n",
              "      <td>0.000000</td>\n",
              "    </tr>\n",
              "    <tr>\n",
              "      <th>25%</th>\n",
              "      <td>0.000000</td>\n",
              "    </tr>\n",
              "    <tr>\n",
              "      <th>50%</th>\n",
              "      <td>0.000000</td>\n",
              "    </tr>\n",
              "    <tr>\n",
              "      <th>75%</th>\n",
              "      <td>0.000000</td>\n",
              "    </tr>\n",
              "    <tr>\n",
              "      <th>max</th>\n",
              "      <td>48.400000</td>\n",
              "    </tr>\n",
              "  </tbody>\n",
              "</table>\n",
              "</div><br><label><b>dtype:</b> float64</label>"
            ]
          },
          "metadata": {},
          "execution_count": 14
        }
      ],
      "source": [
        "df_sensor_tijuca['chuva'].describe()"
      ]
    },
    {
      "cell_type": "markdown",
      "metadata": {
        "id": "1XA1vvw_JYeW"
      },
      "source": [
        "### Temperatura"
      ]
    },
    {
      "cell_type": "code",
      "execution_count": 15,
      "metadata": {
        "colab": {
          "base_uri": "https://localhost:8080/",
          "height": 335
        },
        "outputId": "b38f605f-3569-49c9-c1cc-8f737a356791",
        "id": "_9XmZnxbJYeW"
      },
      "outputs": [
        {
          "output_type": "execute_result",
          "data": {
            "text/plain": [
              "count    67328.000000\n",
              "mean        24.405158\n",
              "std          5.646716\n",
              "min         11.320000\n",
              "25%         20.280000\n",
              "50%         23.400000\n",
              "75%         27.500000\n",
              "max         46.170000\n",
              "Name: temp, dtype: float64"
            ],
            "text/html": [
              "<div>\n",
              "<style scoped>\n",
              "    .dataframe tbody tr th:only-of-type {\n",
              "        vertical-align: middle;\n",
              "    }\n",
              "\n",
              "    .dataframe tbody tr th {\n",
              "        vertical-align: top;\n",
              "    }\n",
              "\n",
              "    .dataframe thead th {\n",
              "        text-align: right;\n",
              "    }\n",
              "</style>\n",
              "<table border=\"1\" class=\"dataframe\">\n",
              "  <thead>\n",
              "    <tr style=\"text-align: right;\">\n",
              "      <th></th>\n",
              "      <th>temp</th>\n",
              "    </tr>\n",
              "  </thead>\n",
              "  <tbody>\n",
              "    <tr>\n",
              "      <th>count</th>\n",
              "      <td>67328.000000</td>\n",
              "    </tr>\n",
              "    <tr>\n",
              "      <th>mean</th>\n",
              "      <td>24.405158</td>\n",
              "    </tr>\n",
              "    <tr>\n",
              "      <th>std</th>\n",
              "      <td>5.646716</td>\n",
              "    </tr>\n",
              "    <tr>\n",
              "      <th>min</th>\n",
              "      <td>11.320000</td>\n",
              "    </tr>\n",
              "    <tr>\n",
              "      <th>25%</th>\n",
              "      <td>20.280000</td>\n",
              "    </tr>\n",
              "    <tr>\n",
              "      <th>50%</th>\n",
              "      <td>23.400000</td>\n",
              "    </tr>\n",
              "    <tr>\n",
              "      <th>75%</th>\n",
              "      <td>27.500000</td>\n",
              "    </tr>\n",
              "    <tr>\n",
              "      <th>max</th>\n",
              "      <td>46.170000</td>\n",
              "    </tr>\n",
              "  </tbody>\n",
              "</table>\n",
              "</div><br><label><b>dtype:</b> float64</label>"
            ]
          },
          "metadata": {},
          "execution_count": 15
        }
      ],
      "source": [
        "df_sensor_tijuca['temp'].describe()"
      ]
    },
    {
      "cell_type": "code",
      "execution_count": 16,
      "metadata": {
        "colab": {
          "base_uri": "https://localhost:8080/"
        },
        "outputId": "adf02b4f-ae28-4fa7-8b32-7b789a315a67",
        "cellView": "form",
        "id": "YEPrxSuZJYeX"
      },
      "outputs": [
        {
          "output_type": "stream",
          "name": "stdout",
          "text": [
            "Quantidade de valores vazios: 1546\n"
          ]
        }
      ],
      "source": [
        "#@title Vendo quantidade de valores vazios\n",
        "\n",
        "valroes_vazio = df_sensor_tijuca[df_sensor_tijuca['temp'].isnull()].groupby(['ano', 'mes']).size().sum()\n",
        "print(f\"Quantidade de valores vazios: {valroes_vazio}\")"
      ]
    },
    {
      "cell_type": "code",
      "execution_count": 17,
      "metadata": {
        "colab": {
          "base_uri": "https://localhost:8080/"
        },
        "outputId": "7b47a2b2-7cab-47cf-cfe5-85fe5d73a867",
        "cellView": "form",
        "id": "N0LIJac7JYeX"
      },
      "outputs": [
        {
          "output_type": "stream",
          "name": "stderr",
          "text": [
            "<ipython-input-17-54d899665637>:3: SettingWithCopyWarning: \n",
            "A value is trying to be set on a copy of a slice from a DataFrame.\n",
            "Try using .loc[row_indexer,col_indexer] = value instead\n",
            "\n",
            "See the caveats in the documentation: https://pandas.pydata.org/pandas-docs/stable/user_guide/indexing.html#returning-a-view-versus-a-copy\n",
            "  df_sensor_tijuca['temp_nulos_no_dia'] = (\n"
          ]
        }
      ],
      "source": [
        "#@title Criando coluna que informa a quantidade de valores vazios por dia\n",
        "\n",
        "df_sensor_tijuca['temp_nulos_no_dia'] = (\n",
        "    df_sensor_tijuca['temp'].isnull()\n",
        "    .groupby(df_sensor_tijuca['data_formatada'])\n",
        "    .transform('sum')  # Soma os nulos por dia e repete o valor em todas as linhas do dia\n",
        ")"
      ]
    },
    {
      "cell_type": "code",
      "source": [
        "#@title Distribuição dos valores vazios\n",
        "\n",
        "# Seleciona uma única linha por dia, para evitar repetição\n",
        "df_dias = df_sensor_tijuca[df_sensor_tijuca['temp_nulos_no_dia'] != 0].groupby('data_formatada')['temp_nulos_no_dia'].first()\n",
        "\n",
        "# Plotar o histograma da contagem de valores nulos por dia\n",
        "plt.figure(figsize=(10,6))\n",
        "plt.hist(df_dias, bins=range(0, df_dias.max() + 2), edgecolor='black', align='left')\n",
        "plt.title('Histograma de Quantidade de Valores Vazios em \"temp\" por Dia')\n",
        "plt.xlabel('Quantidade de valores vazios no dia')\n",
        "plt.ylabel('Número de dias')\n",
        "plt.xticks(range(0, df_dias.max() + 1))\n",
        "plt.grid(axis='y', alpha=0.75)\n",
        "plt.show()"
      ],
      "metadata": {
        "colab": {
          "base_uri": "https://localhost:8080/",
          "height": 564
        },
        "cellView": "form",
        "outputId": "b935ebbd-f1aa-4ee1-f4eb-7a2277d2e6d7",
        "id": "H54zUgYSJYeY"
      },
      "execution_count": 18,
      "outputs": [
        {
          "output_type": "display_data",
          "data": {
            "text/plain": [
              "<Figure size 1000x600 with 1 Axes>"
            ],
            "image/png": "[encoded data removed]"
          },
          "metadata": {}
        }
      ]
    },
    {
      "cell_type": "code",
      "execution_count": 19,
      "metadata": {
        "colab": {
          "base_uri": "https://localhost:8080/"
        },
        "outputId": "db1a3f4f-bd2e-4c92-dc90-f94ceb0dc44f",
        "id": "2sCGqFWvJYeY",
        "cellView": "form"
      },
      "outputs": [
        {
          "output_type": "stream",
          "name": "stdout",
          "text": [
            "190 linhas foram preenchidas com interpolate na coluna 'temp'.\n",
            "Foram preenchido 12% de dados\n"
          ]
        }
      ],
      "source": [
        "#@title Preenchimento dos valores nulos utilizando a função interpolate (Preenchendo apenas os que tem menos de 7 linhas vazias por dia)\n",
        "\n",
        "mask = (df_sensor_tijuca['temp_nulos_no_dia'] <= 6)\n",
        "\n",
        "num_nulls = df_sensor_tijuca[mask]['temp'].isnull().sum()\n",
        "df_sensor_tijuca.loc[mask, 'temp'] = df_sensor_tijuca[mask]['temp'].interpolate()\n",
        "print(f\"{num_nulls} linhas foram preenchidas com interpolate na coluna 'temp'.\")\n",
        "print(f\"Foram preenchido {round((num_nulls/valroes_vazio)*100)}% de dados\")"
      ]
    },
    {
      "cell_type": "code",
      "execution_count": 20,
      "metadata": {
        "colab": {
          "base_uri": "https://localhost:8080/",
          "height": 335
        },
        "outputId": "b945826f-03be-43ce-bac9-3cac537ca9d6",
        "id": "2KWSCe6RJYeY"
      },
      "outputs": [
        {
          "output_type": "execute_result",
          "data": {
            "text/plain": [
              "count    67518.000000\n",
              "mean        24.407873\n",
              "std          5.644357\n",
              "min         11.320000\n",
              "25%         20.282500\n",
              "50%         23.400000\n",
              "75%         27.500000\n",
              "max         46.170000\n",
              "Name: temp, dtype: float64"
            ],
            "text/html": [
              "<div>\n",
              "<style scoped>\n",
              "    .dataframe tbody tr th:only-of-type {\n",
              "        vertical-align: middle;\n",
              "    }\n",
              "\n",
              "    .dataframe tbody tr th {\n",
              "        vertical-align: top;\n",
              "    }\n",
              "\n",
              "    .dataframe thead th {\n",
              "        text-align: right;\n",
              "    }\n",
              "</style>\n",
              "<table border=\"1\" class=\"dataframe\">\n",
              "  <thead>\n",
              "    <tr style=\"text-align: right;\">\n",
              "      <th></th>\n",
              "      <th>temp</th>\n",
              "    </tr>\n",
              "  </thead>\n",
              "  <tbody>\n",
              "    <tr>\n",
              "      <th>count</th>\n",
              "      <td>67518.000000</td>\n",
              "    </tr>\n",
              "    <tr>\n",
              "      <th>mean</th>\n",
              "      <td>24.407873</td>\n",
              "    </tr>\n",
              "    <tr>\n",
              "      <th>std</th>\n",
              "      <td>5.644357</td>\n",
              "    </tr>\n",
              "    <tr>\n",
              "      <th>min</th>\n",
              "      <td>11.320000</td>\n",
              "    </tr>\n",
              "    <tr>\n",
              "      <th>25%</th>\n",
              "      <td>20.282500</td>\n",
              "    </tr>\n",
              "    <tr>\n",
              "      <th>50%</th>\n",
              "      <td>23.400000</td>\n",
              "    </tr>\n",
              "    <tr>\n",
              "      <th>75%</th>\n",
              "      <td>27.500000</td>\n",
              "    </tr>\n",
              "    <tr>\n",
              "      <th>max</th>\n",
              "      <td>46.170000</td>\n",
              "    </tr>\n",
              "  </tbody>\n",
              "</table>\n",
              "</div><br><label><b>dtype:</b> float64</label>"
            ]
          },
          "metadata": {},
          "execution_count": 20
        }
      ],
      "source": [
        "df_sensor_tijuca['temp'].describe()"
      ]
    },
    {
      "cell_type": "markdown",
      "metadata": {
        "id": "Kw4EN6nOJ7wi"
      },
      "source": [
        "### Umidade relativa"
      ]
    },
    {
      "cell_type": "code",
      "execution_count": 21,
      "metadata": {
        "colab": {
          "base_uri": "https://localhost:8080/",
          "height": 335
        },
        "outputId": "2864dc50-ba6c-4e28-80c2-f615b4bb48ff",
        "id": "Zh2KIpc2J7wj"
      },
      "outputs": [
        {
          "output_type": "execute_result",
          "data": {
            "text/plain": [
              "count    68174.000000\n",
              "mean        65.311974\n",
              "std         19.436654\n",
              "min          0.000000\n",
              "25%         52.280000\n",
              "50%         67.220000\n",
              "75%         80.000000\n",
              "max         98.980000\n",
              "Name: ur, dtype: float64"
            ],
            "text/html": [
              "<div>\n",
              "<style scoped>\n",
              "    .dataframe tbody tr th:only-of-type {\n",
              "        vertical-align: middle;\n",
              "    }\n",
              "\n",
              "    .dataframe tbody tr th {\n",
              "        vertical-align: top;\n",
              "    }\n",
              "\n",
              "    .dataframe thead th {\n",
              "        text-align: right;\n",
              "    }\n",
              "</style>\n",
              "<table border=\"1\" class=\"dataframe\">\n",
              "  <thead>\n",
              "    <tr style=\"text-align: right;\">\n",
              "      <th></th>\n",
              "      <th>ur</th>\n",
              "    </tr>\n",
              "  </thead>\n",
              "  <tbody>\n",
              "    <tr>\n",
              "      <th>count</th>\n",
              "      <td>68174.000000</td>\n",
              "    </tr>\n",
              "    <tr>\n",
              "      <th>mean</th>\n",
              "      <td>65.311974</td>\n",
              "    </tr>\n",
              "    <tr>\n",
              "      <th>std</th>\n",
              "      <td>19.436654</td>\n",
              "    </tr>\n",
              "    <tr>\n",
              "      <th>min</th>\n",
              "      <td>0.000000</td>\n",
              "    </tr>\n",
              "    <tr>\n",
              "      <th>25%</th>\n",
              "      <td>52.280000</td>\n",
              "    </tr>\n",
              "    <tr>\n",
              "      <th>50%</th>\n",
              "      <td>67.220000</td>\n",
              "    </tr>\n",
              "    <tr>\n",
              "      <th>75%</th>\n",
              "      <td>80.000000</td>\n",
              "    </tr>\n",
              "    <tr>\n",
              "      <th>max</th>\n",
              "      <td>98.980000</td>\n",
              "    </tr>\n",
              "  </tbody>\n",
              "</table>\n",
              "</div><br><label><b>dtype:</b> float64</label>"
            ]
          },
          "metadata": {},
          "execution_count": 21
        }
      ],
      "source": [
        "df_sensor_tijuca['ur'].describe()"
      ]
    },
    {
      "cell_type": "code",
      "execution_count": 22,
      "metadata": {
        "colab": {
          "base_uri": "https://localhost:8080/"
        },
        "outputId": "1e8a38f4-fe13-452e-8e76-d1d6b767ac6f",
        "cellView": "form",
        "id": "p6gLkSsQJ7wk"
      },
      "outputs": [
        {
          "output_type": "stream",
          "name": "stdout",
          "text": [
            "Quantidade de valores vazios: 700\n"
          ]
        }
      ],
      "source": [
        "#@title Vendo quantidade de valores vazios\n",
        "\n",
        "valroes_vazio = df_sensor_tijuca[df_sensor_tijuca['ur'].isnull()].groupby(['ano', 'mes']).size().sum()\n",
        "print(f\"Quantidade de valores vazios: {valroes_vazio}\")"
      ]
    },
    {
      "cell_type": "code",
      "execution_count": 23,
      "metadata": {
        "colab": {
          "base_uri": "https://localhost:8080/"
        },
        "outputId": "9099573d-c401-4498-c917-e8738a2b720f",
        "cellView": "form",
        "id": "p6USmMKRJ7wk"
      },
      "outputs": [
        {
          "output_type": "stream",
          "name": "stderr",
          "text": [
            "<ipython-input-23-993d200eb480>:3: SettingWithCopyWarning: \n",
            "A value is trying to be set on a copy of a slice from a DataFrame.\n",
            "Try using .loc[row_indexer,col_indexer] = value instead\n",
            "\n",
            "See the caveats in the documentation: https://pandas.pydata.org/pandas-docs/stable/user_guide/indexing.html#returning-a-view-versus-a-copy\n",
            "  df_sensor_tijuca['ur_nulos_no_dia'] = (\n"
          ]
        }
      ],
      "source": [
        "#@title Criando coluna que informa a quantidade de valores vazios por dia\n",
        "\n",
        "df_sensor_tijuca['ur_nulos_no_dia'] = (\n",
        "    df_sensor_tijuca['ur'].isnull()\n",
        "    .groupby(df_sensor_tijuca['data_formatada'])\n",
        "    .transform('sum')  # Soma os nulos por dia e repete o valor em todas as linhas do dia\n",
        ")"
      ]
    },
    {
      "cell_type": "code",
      "source": [
        "#@title Distribuição dos valores vazios\n",
        "\n",
        "# Seleciona uma única linha por dia, para evitar repetição\n",
        "df_dias = df_sensor_tijuca[df_sensor_tijuca['ur_nulos_no_dia'] != 0].groupby('data_formatada')['ur_nulos_no_dia'].first()\n",
        "\n",
        "# Plotar o histograma da contagem de valores nulos por dia\n",
        "plt.figure(figsize=(10,6))\n",
        "plt.hist(df_dias, bins=range(0, df_dias.max() + 2), edgecolor='black', align='left')\n",
        "plt.title('Histograma de Quantidade de Valores Vazios em \"ur\" por Dia')\n",
        "plt.xlabel('Quantidade de valores vazios no dia')\n",
        "plt.ylabel('Número de dias')\n",
        "plt.xticks(range(0, df_dias.max() + 1))\n",
        "plt.grid(axis='y', alpha=0.75)\n",
        "plt.show()"
      ],
      "metadata": {
        "colab": {
          "base_uri": "https://localhost:8080/",
          "height": 564
        },
        "cellView": "form",
        "outputId": "ed8d851f-b949-43de-f5cd-1915810ea2fa",
        "id": "eq-mDiJGJ7wk"
      },
      "execution_count": 24,
      "outputs": [
        {
          "output_type": "display_data",
          "data": {
            "text/plain": [
              "<Figure size 1000x600 with 1 Axes>"
            ],
            "image/png": "[encoded data removed]"
          },
          "metadata": {}
        }
      ]
    },
    {
      "cell_type": "code",
      "execution_count": 25,
      "metadata": {
        "colab": {
          "base_uri": "https://localhost:8080/"
        },
        "outputId": "50a5f811-c0e2-4e2c-b542-fa16fec074df",
        "cellView": "form",
        "id": "wwI_91-_J7wk"
      },
      "outputs": [
        {
          "output_type": "stream",
          "name": "stdout",
          "text": [
            "206 linhas foram preenchidas com interpolate na coluna 'ur'.\n",
            "Foram preenchido 29% de dados\n"
          ]
        }
      ],
      "source": [
        "#@title Preenchimento dos valores nulos utilizando a função interpolate (Preenchendo apenas os que tem menos de 7 linhas vazias por dia)\n",
        "\n",
        "mask = (df_sensor_tijuca['ur_nulos_no_dia'] <= 6)\n",
        "\n",
        "num_nulls = df_sensor_tijuca[mask]['ur'].isnull().sum()\n",
        "df_sensor_tijuca.loc[mask, 'ur'] = df_sensor_tijuca[mask]['ur'].interpolate()\n",
        "print(f\"{num_nulls} linhas foram preenchidas com interpolate na coluna 'ur'.\")\n",
        "print(f\"Foram preenchido {round((num_nulls/valroes_vazio)*100)}% de dados\")"
      ]
    },
    {
      "cell_type": "code",
      "execution_count": 26,
      "metadata": {
        "colab": {
          "base_uri": "https://localhost:8080/",
          "height": 335
        },
        "outputId": "c042b6d9-bfe6-47ec-fc6b-2e509c79bda8",
        "id": "pgz04UK9J7wl"
      },
      "outputs": [
        {
          "output_type": "execute_result",
          "data": {
            "text/plain": [
              "count    68380.000000\n",
              "mean        65.312365\n",
              "std         19.425162\n",
              "min          0.000000\n",
              "25%         52.300000\n",
              "50%         67.200000\n",
              "75%         79.980000\n",
              "max         98.980000\n",
              "Name: ur, dtype: float64"
            ],
            "text/html": [
              "<div>\n",
              "<style scoped>\n",
              "    .dataframe tbody tr th:only-of-type {\n",
              "        vertical-align: middle;\n",
              "    }\n",
              "\n",
              "    .dataframe tbody tr th {\n",
              "        vertical-align: top;\n",
              "    }\n",
              "\n",
              "    .dataframe thead th {\n",
              "        text-align: right;\n",
              "    }\n",
              "</style>\n",
              "<table border=\"1\" class=\"dataframe\">\n",
              "  <thead>\n",
              "    <tr style=\"text-align: right;\">\n",
              "      <th></th>\n",
              "      <th>ur</th>\n",
              "    </tr>\n",
              "  </thead>\n",
              "  <tbody>\n",
              "    <tr>\n",
              "      <th>count</th>\n",
              "      <td>68380.000000</td>\n",
              "    </tr>\n",
              "    <tr>\n",
              "      <th>mean</th>\n",
              "      <td>65.312365</td>\n",
              "    </tr>\n",
              "    <tr>\n",
              "      <th>std</th>\n",
              "      <td>19.425162</td>\n",
              "    </tr>\n",
              "    <tr>\n",
              "      <th>min</th>\n",
              "      <td>0.000000</td>\n",
              "    </tr>\n",
              "    <tr>\n",
              "      <th>25%</th>\n",
              "      <td>52.300000</td>\n",
              "    </tr>\n",
              "    <tr>\n",
              "      <th>50%</th>\n",
              "      <td>67.200000</td>\n",
              "    </tr>\n",
              "    <tr>\n",
              "      <th>75%</th>\n",
              "      <td>79.980000</td>\n",
              "    </tr>\n",
              "    <tr>\n",
              "      <th>max</th>\n",
              "      <td>98.980000</td>\n",
              "    </tr>\n",
              "  </tbody>\n",
              "</table>\n",
              "</div><br><label><b>dtype:</b> float64</label>"
            ]
          },
          "metadata": {},
          "execution_count": 26
        }
      ],
      "source": [
        "df_sensor_tijuca['ur'].describe()"
      ]
    },
    {
      "cell_type": "markdown",
      "metadata": {
        "id": "CCC7VEL1KuH4"
      },
      "source": [
        "### Monóxido de carbono"
      ]
    },
    {
      "cell_type": "code",
      "execution_count": 27,
      "metadata": {
        "colab": {
          "base_uri": "https://localhost:8080/",
          "height": 335
        },
        "outputId": "32cca82e-b4f4-406c-f88d-638fdcc933e8",
        "id": "9dpfUCUfKuH4"
      },
      "outputs": [
        {
          "output_type": "execute_result",
          "data": {
            "text/plain": [
              "count    66675.000000\n",
              "mean         0.442921\n",
              "std          0.251942\n",
              "min          0.000000\n",
              "25%          0.290000\n",
              "50%          0.420000\n",
              "75%          0.560000\n",
              "max         12.080000\n",
              "Name: co, dtype: float64"
            ],
            "text/html": [
              "<div>\n",
              "<style scoped>\n",
              "    .dataframe tbody tr th:only-of-type {\n",
              "        vertical-align: middle;\n",
              "    }\n",
              "\n",
              "    .dataframe tbody tr th {\n",
              "        vertical-align: top;\n",
              "    }\n",
              "\n",
              "    .dataframe thead th {\n",
              "        text-align: right;\n",
              "    }\n",
              "</style>\n",
              "<table border=\"1\" class=\"dataframe\">\n",
              "  <thead>\n",
              "    <tr style=\"text-align: right;\">\n",
              "      <th></th>\n",
              "      <th>co</th>\n",
              "    </tr>\n",
              "  </thead>\n",
              "  <tbody>\n",
              "    <tr>\n",
              "      <th>count</th>\n",
              "      <td>66675.000000</td>\n",
              "    </tr>\n",
              "    <tr>\n",
              "      <th>mean</th>\n",
              "      <td>0.442921</td>\n",
              "    </tr>\n",
              "    <tr>\n",
              "      <th>std</th>\n",
              "      <td>0.251942</td>\n",
              "    </tr>\n",
              "    <tr>\n",
              "      <th>min</th>\n",
              "      <td>0.000000</td>\n",
              "    </tr>\n",
              "    <tr>\n",
              "      <th>25%</th>\n",
              "      <td>0.290000</td>\n",
              "    </tr>\n",
              "    <tr>\n",
              "      <th>50%</th>\n",
              "      <td>0.420000</td>\n",
              "    </tr>\n",
              "    <tr>\n",
              "      <th>75%</th>\n",
              "      <td>0.560000</td>\n",
              "    </tr>\n",
              "    <tr>\n",
              "      <th>max</th>\n",
              "      <td>12.080000</td>\n",
              "    </tr>\n",
              "  </tbody>\n",
              "</table>\n",
              "</div><br><label><b>dtype:</b> float64</label>"
            ]
          },
          "metadata": {},
          "execution_count": 27
        }
      ],
      "source": [
        "df_sensor_tijuca['co'].describe()"
      ]
    },
    {
      "cell_type": "code",
      "execution_count": 28,
      "metadata": {
        "colab": {
          "base_uri": "https://localhost:8080/"
        },
        "outputId": "ea3e2955-8fbd-4b53-a0d0-db22760db524",
        "cellView": "form",
        "id": "Iph6vPoHKuH5"
      },
      "outputs": [
        {
          "output_type": "stream",
          "name": "stdout",
          "text": [
            "Quantidade de valores vazios: 2199\n"
          ]
        }
      ],
      "source": [
        "#@title Vendo quantidade de valores vazios\n",
        "\n",
        "valroes_vazio = df_sensor_tijuca[df_sensor_tijuca['co'].isnull()].groupby(['ano', 'mes']).size().sum()\n",
        "print(f\"Quantidade de valores vazios: {valroes_vazio}\")"
      ]
    },
    {
      "cell_type": "code",
      "execution_count": 29,
      "metadata": {
        "colab": {
          "base_uri": "https://localhost:8080/"
        },
        "outputId": "3c7b6197-cd55-4505-a561-8a882c5aa2f1",
        "cellView": "form",
        "id": "NnwrJ1lqKuH5"
      },
      "outputs": [
        {
          "output_type": "stream",
          "name": "stderr",
          "text": [
            "<ipython-input-29-3fc7e038ecdb>:3: SettingWithCopyWarning: \n",
            "A value is trying to be set on a copy of a slice from a DataFrame.\n",
            "Try using .loc[row_indexer,col_indexer] = value instead\n",
            "\n",
            "See the caveats in the documentation: https://pandas.pydata.org/pandas-docs/stable/user_guide/indexing.html#returning-a-view-versus-a-copy\n",
            "  df_sensor_tijuca['co_nulos_no_dia'] = (\n"
          ]
        }
      ],
      "source": [
        "#@title Criando coluna que informa a quantidade de valores vazios por dia\n",
        "\n",
        "df_sensor_tijuca['co_nulos_no_dia'] = (\n",
        "    df_sensor_tijuca['co'].isnull()\n",
        "    .groupby(df_sensor_tijuca['data_formatada'])\n",
        "    .transform('sum')  # Soma os nulos por dia e repete o valor em todas as linhas do dia\n",
        ")"
      ]
    },
    {
      "cell_type": "code",
      "source": [
        "#@title Distribuição dos valores vazios\n",
        "\n",
        "# Seleciona uma única linha por dia, para evitar repetição\n",
        "df_dias = df_sensor_tijuca[df_sensor_tijuca['co_nulos_no_dia'] != 0].groupby('data_formatada')['co_nulos_no_dia'].first()\n",
        "\n",
        "# Plotar o histograma da contagem de valores nulos por dia\n",
        "plt.figure(figsize=(10,6))\n",
        "plt.hist(df_dias, bins=range(0, df_dias.max() + 2), edgecolor='black', align='left')\n",
        "plt.title(\"Histograma de Quantidade de Valores Vazios em 'co' por Dia\")\n",
        "plt.xlabel('Quantidade de valores vazios no dia')\n",
        "plt.ylabel('Número de dias')\n",
        "plt.xticks(range(0, df_dias.max() + 1))\n",
        "plt.grid(axis='y', alpha=0.75)\n",
        "plt.show()"
      ],
      "metadata": {
        "colab": {
          "base_uri": "https://localhost:8080/",
          "height": 564
        },
        "cellView": "form",
        "outputId": "f72eb457-4a9f-44a8-a7a4-fb1384eceb44",
        "id": "2-VMGpsdKuH5"
      },
      "execution_count": 30,
      "outputs": [
        {
          "output_type": "display_data",
          "data": {
            "text/plain": [
              "<Figure size 1000x600 with 1 Axes>"
            ],
            "image/png": "[encoded data removed]"
          },
          "metadata": {}
        }
      ]
    },
    {
      "cell_type": "code",
      "execution_count": 31,
      "metadata": {
        "colab": {
          "base_uri": "https://localhost:8080/"
        },
        "outputId": "cf8b30ec-cdca-46c6-f1a7-98de30f16cfc",
        "cellView": "form",
        "id": "OZOmu7J9KuH5"
      },
      "outputs": [
        {
          "output_type": "stream",
          "name": "stdout",
          "text": [
            "562 linhas foram preenchidas com interpolate na coluna 'co'.\n",
            "Foram preenchido 26% de dados\n"
          ]
        }
      ],
      "source": [
        "#@title Preenchimento dos valores nulos utilizando a função interpolate (Preenchendo apenas os que tem menos de 7 linhas vazias por dia)\n",
        "\n",
        "mask = (df_sensor_tijuca['co_nulos_no_dia'] <= 6)\n",
        "\n",
        "num_nulls = df_sensor_tijuca[mask]['co'].isnull().sum()\n",
        "df_sensor_tijuca.loc[mask, 'co'] = df_sensor_tijuca[mask]['co'].interpolate()\n",
        "print(f\"{num_nulls} linhas foram preenchidas com interpolate na coluna 'co'.\")\n",
        "print(f\"Foram preenchido {round((num_nulls/valroes_vazio)*100)}% de dados\")"
      ]
    },
    {
      "cell_type": "code",
      "execution_count": 32,
      "metadata": {
        "colab": {
          "base_uri": "https://localhost:8080/",
          "height": 335
        },
        "outputId": "c910d78d-d60f-4330-9c51-6543a13c6d8b",
        "id": "1j_2t8uiKuH5"
      },
      "outputs": [
        {
          "output_type": "execute_result",
          "data": {
            "text/plain": [
              "count    67237.000000\n",
              "mean         0.443418\n",
              "std          0.252225\n",
              "min          0.000000\n",
              "25%          0.290000\n",
              "50%          0.420000\n",
              "75%          0.560000\n",
              "max         12.080000\n",
              "Name: co, dtype: float64"
            ],
            "text/html": [
              "<div>\n",
              "<style scoped>\n",
              "    .dataframe tbody tr th:only-of-type {\n",
              "        vertical-align: middle;\n",
              "    }\n",
              "\n",
              "    .dataframe tbody tr th {\n",
              "        vertical-align: top;\n",
              "    }\n",
              "\n",
              "    .dataframe thead th {\n",
              "        text-align: right;\n",
              "    }\n",
              "</style>\n",
              "<table border=\"1\" class=\"dataframe\">\n",
              "  <thead>\n",
              "    <tr style=\"text-align: right;\">\n",
              "      <th></th>\n",
              "      <th>co</th>\n",
              "    </tr>\n",
              "  </thead>\n",
              "  <tbody>\n",
              "    <tr>\n",
              "      <th>count</th>\n",
              "      <td>67237.000000</td>\n",
              "    </tr>\n",
              "    <tr>\n",
              "      <th>mean</th>\n",
              "      <td>0.443418</td>\n",
              "    </tr>\n",
              "    <tr>\n",
              "      <th>std</th>\n",
              "      <td>0.252225</td>\n",
              "    </tr>\n",
              "    <tr>\n",
              "      <th>min</th>\n",
              "      <td>0.000000</td>\n",
              "    </tr>\n",
              "    <tr>\n",
              "      <th>25%</th>\n",
              "      <td>0.290000</td>\n",
              "    </tr>\n",
              "    <tr>\n",
              "      <th>50%</th>\n",
              "      <td>0.420000</td>\n",
              "    </tr>\n",
              "    <tr>\n",
              "      <th>75%</th>\n",
              "      <td>0.560000</td>\n",
              "    </tr>\n",
              "    <tr>\n",
              "      <th>max</th>\n",
              "      <td>12.080000</td>\n",
              "    </tr>\n",
              "  </tbody>\n",
              "</table>\n",
              "</div><br><label><b>dtype:</b> float64</label>"
            ]
          },
          "metadata": {},
          "execution_count": 32
        }
      ],
      "source": [
        "df_sensor_tijuca['co'].describe()"
      ]
    },
    {
      "cell_type": "markdown",
      "metadata": {
        "id": "E6XkJ5BvLXB4"
      },
      "source": [
        "### Monóxido de Nitrogênio"
      ]
    },
    {
      "cell_type": "code",
      "execution_count": 33,
      "metadata": {
        "colab": {
          "base_uri": "https://localhost:8080/",
          "height": 335
        },
        "outputId": "a2de7c5f-ba34-46d8-c1ad-3f605b02eaa7",
        "id": "X36xqWTdLXB5"
      },
      "outputs": [
        {
          "output_type": "execute_result",
          "data": {
            "text/plain": [
              "count    48550.000000\n",
              "mean        35.473496\n",
              "std         26.562962\n",
              "min          0.000000\n",
              "25%         14.632500\n",
              "50%         30.115000\n",
              "75%         50.990000\n",
              "max        241.840000\n",
              "Name: no, dtype: float64"
            ],
            "text/html": [
              "<div>\n",
              "<style scoped>\n",
              "    .dataframe tbody tr th:only-of-type {\n",
              "        vertical-align: middle;\n",
              "    }\n",
              "\n",
              "    .dataframe tbody tr th {\n",
              "        vertical-align: top;\n",
              "    }\n",
              "\n",
              "    .dataframe thead th {\n",
              "        text-align: right;\n",
              "    }\n",
              "</style>\n",
              "<table border=\"1\" class=\"dataframe\">\n",
              "  <thead>\n",
              "    <tr style=\"text-align: right;\">\n",
              "      <th></th>\n",
              "      <th>no</th>\n",
              "    </tr>\n",
              "  </thead>\n",
              "  <tbody>\n",
              "    <tr>\n",
              "      <th>count</th>\n",
              "      <td>48550.000000</td>\n",
              "    </tr>\n",
              "    <tr>\n",
              "      <th>mean</th>\n",
              "      <td>35.473496</td>\n",
              "    </tr>\n",
              "    <tr>\n",
              "      <th>std</th>\n",
              "      <td>26.562962</td>\n",
              "    </tr>\n",
              "    <tr>\n",
              "      <th>min</th>\n",
              "      <td>0.000000</td>\n",
              "    </tr>\n",
              "    <tr>\n",
              "      <th>25%</th>\n",
              "      <td>14.632500</td>\n",
              "    </tr>\n",
              "    <tr>\n",
              "      <th>50%</th>\n",
              "      <td>30.115000</td>\n",
              "    </tr>\n",
              "    <tr>\n",
              "      <th>75%</th>\n",
              "      <td>50.990000</td>\n",
              "    </tr>\n",
              "    <tr>\n",
              "      <th>max</th>\n",
              "      <td>241.840000</td>\n",
              "    </tr>\n",
              "  </tbody>\n",
              "</table>\n",
              "</div><br><label><b>dtype:</b> float64</label>"
            ]
          },
          "metadata": {},
          "execution_count": 33
        }
      ],
      "source": [
        "df_sensor_tijuca['no'].describe()"
      ]
    },
    {
      "cell_type": "code",
      "execution_count": 34,
      "metadata": {
        "colab": {
          "base_uri": "https://localhost:8080/"
        },
        "outputId": "46aa3b47-58fd-42ff-fb59-57c4945d197a",
        "cellView": "form",
        "id": "Y26pA0GcLXB6"
      },
      "outputs": [
        {
          "output_type": "stream",
          "name": "stdout",
          "text": [
            "Quantidade de valores vazios: 20324\n"
          ]
        }
      ],
      "source": [
        "#@title Vendo quantidade de valores vazios\n",
        "\n",
        "valroes_vazio = df_sensor_tijuca[df_sensor_tijuca['no'].isnull()].groupby(['ano', 'mes']).size().sum()\n",
        "print(f\"Quantidade de valores vazios: {valroes_vazio}\")"
      ]
    },
    {
      "cell_type": "code",
      "execution_count": 35,
      "metadata": {
        "colab": {
          "base_uri": "https://localhost:8080/"
        },
        "outputId": "8b09cc41-6eac-4496-b0fa-f8539c8e67ab",
        "cellView": "form",
        "id": "sAcauzMYLXB6"
      },
      "outputs": [
        {
          "output_type": "stream",
          "name": "stderr",
          "text": [
            "<ipython-input-35-b0abafb7814e>:3: SettingWithCopyWarning: \n",
            "A value is trying to be set on a copy of a slice from a DataFrame.\n",
            "Try using .loc[row_indexer,col_indexer] = value instead\n",
            "\n",
            "See the caveats in the documentation: https://pandas.pydata.org/pandas-docs/stable/user_guide/indexing.html#returning-a-view-versus-a-copy\n",
            "  df_sensor_tijuca['no_nulos_no_dia'] = (\n"
          ]
        }
      ],
      "source": [
        "#@title Criando coluna que informa a quantidade de valores vazios por dia\n",
        "\n",
        "df_sensor_tijuca['no_nulos_no_dia'] = (\n",
        "    df_sensor_tijuca['no'].isnull()\n",
        "    .groupby(df_sensor_tijuca['data_formatada'])\n",
        "    .transform('sum')  # Soma os nulos por dia e repete o valor em todas as linhas do dia\n",
        ")"
      ]
    },
    {
      "cell_type": "code",
      "source": [
        "#@title Distribuição dos valores vazios\n",
        "\n",
        "# Seleciona uma única linha por dia, para evitar repetição\n",
        "df_dias = df_sensor_tijuca[df_sensor_tijuca['no_nulos_no_dia'] != 0].groupby('data_formatada')['no_nulos_no_dia'].first()\n",
        "\n",
        "# Plotar o histograma da contagem de valores nulos por dia\n",
        "plt.figure(figsize=(10,6))\n",
        "plt.hist(df_dias, bins=range(0, df_dias.max() + 2), edgecolor='black', align='left')\n",
        "plt.title(\"Histograma de Quantidade de Valores Vazios em 'no' por Dia\")\n",
        "plt.xlabel('Quantidade de valores vazios no dia')\n",
        "plt.ylabel('Número de dias')\n",
        "plt.xticks(range(0, df_dias.max() + 1))\n",
        "plt.grid(axis='y', alpha=0.75)\n",
        "plt.show()"
      ],
      "metadata": {
        "colab": {
          "base_uri": "https://localhost:8080/",
          "height": 564
        },
        "cellView": "form",
        "outputId": "71524796-7692-4d1d-f90f-e1f7b2c1ec87",
        "id": "4tgQJdoOLXB7"
      },
      "execution_count": 36,
      "outputs": [
        {
          "output_type": "display_data",
          "data": {
            "text/plain": [
              "<Figure size 1000x600 with 1 Axes>"
            ],
            "image/png": "[encoded data removed]"
          },
          "metadata": {}
        }
      ]
    },
    {
      "cell_type": "code",
      "execution_count": 37,
      "metadata": {
        "colab": {
          "base_uri": "https://localhost:8080/"
        },
        "outputId": "054050be-53b2-41f3-fcd4-58d564265396",
        "cellView": "form",
        "id": "MpnzHkQ9LXB7"
      },
      "outputs": [
        {
          "output_type": "stream",
          "name": "stdout",
          "text": [
            "1627 linhas foram preenchidas com interpolate na coluna 'no'.\n",
            "Foram preenchido 8% de dados\n"
          ]
        }
      ],
      "source": [
        "#@title Preenchimento dos valores nulos utilizando a função interpolate (Preenchendo apenas os que tem menos de 7 linhas vazias por dia)\n",
        "\n",
        "mask = (df_sensor_tijuca['no_nulos_no_dia'] <= 6)\n",
        "\n",
        "num_nulls = df_sensor_tijuca[mask]['no'].isnull().sum()\n",
        "df_sensor_tijuca.loc[mask, 'no'] = df_sensor_tijuca[mask]['no'].interpolate()\n",
        "print(f\"{num_nulls} linhas foram preenchidas com interpolate na coluna 'no'.\")\n",
        "print(f\"Foram preenchido {round((num_nulls/valroes_vazio)*100)}% de dados\")"
      ]
    },
    {
      "cell_type": "code",
      "execution_count": 38,
      "metadata": {
        "colab": {
          "base_uri": "https://localhost:8080/",
          "height": 335
        },
        "outputId": "b2c3ed68-d995-43e2-88e5-ba2d138cc96d",
        "id": "tof4xFlCLXB7"
      },
      "outputs": [
        {
          "output_type": "execute_result",
          "data": {
            "text/plain": [
              "count    50177.000000\n",
              "mean        35.240638\n",
              "std         26.411349\n",
              "min          0.000000\n",
              "25%         14.620000\n",
              "50%         29.870000\n",
              "75%         50.510000\n",
              "max        241.840000\n",
              "Name: no, dtype: float64"
            ],
            "text/html": [
              "<div>\n",
              "<style scoped>\n",
              "    .dataframe tbody tr th:only-of-type {\n",
              "        vertical-align: middle;\n",
              "    }\n",
              "\n",
              "    .dataframe tbody tr th {\n",
              "        vertical-align: top;\n",
              "    }\n",
              "\n",
              "    .dataframe thead th {\n",
              "        text-align: right;\n",
              "    }\n",
              "</style>\n",
              "<table border=\"1\" class=\"dataframe\">\n",
              "  <thead>\n",
              "    <tr style=\"text-align: right;\">\n",
              "      <th></th>\n",
              "      <th>no</th>\n",
              "    </tr>\n",
              "  </thead>\n",
              "  <tbody>\n",
              "    <tr>\n",
              "      <th>count</th>\n",
              "      <td>50177.000000</td>\n",
              "    </tr>\n",
              "    <tr>\n",
              "      <th>mean</th>\n",
              "      <td>35.240638</td>\n",
              "    </tr>\n",
              "    <tr>\n",
              "      <th>std</th>\n",
              "      <td>26.411349</td>\n",
              "    </tr>\n",
              "    <tr>\n",
              "      <th>min</th>\n",
              "      <td>0.000000</td>\n",
              "    </tr>\n",
              "    <tr>\n",
              "      <th>25%</th>\n",
              "      <td>14.620000</td>\n",
              "    </tr>\n",
              "    <tr>\n",
              "      <th>50%</th>\n",
              "      <td>29.870000</td>\n",
              "    </tr>\n",
              "    <tr>\n",
              "      <th>75%</th>\n",
              "      <td>50.510000</td>\n",
              "    </tr>\n",
              "    <tr>\n",
              "      <th>max</th>\n",
              "      <td>241.840000</td>\n",
              "    </tr>\n",
              "  </tbody>\n",
              "</table>\n",
              "</div><br><label><b>dtype:</b> float64</label>"
            ]
          },
          "metadata": {},
          "execution_count": 38
        }
      ],
      "source": [
        "df_sensor_tijuca['no'].describe()"
      ]
    },
    {
      "cell_type": "markdown",
      "metadata": {
        "id": "EUmmcBfRL3FQ"
      },
      "source": [
        "### Dióxido de Nitrogênio"
      ]
    },
    {
      "cell_type": "code",
      "execution_count": 39,
      "metadata": {
        "colab": {
          "base_uri": "https://localhost:8080/",
          "height": 335
        },
        "outputId": "a744a1e8-0a3e-4b75-90ca-cc789a47d7ec",
        "id": "c94PNq-eL3FR"
      },
      "outputs": [
        {
          "output_type": "execute_result",
          "data": {
            "text/plain": [
              "count    48550.000000\n",
              "mean        42.255342\n",
              "std         24.184659\n",
              "min          0.000000\n",
              "25%         24.230000\n",
              "50%         38.730000\n",
              "75%         55.420000\n",
              "max        235.930000\n",
              "Name: no2, dtype: float64"
            ],
            "text/html": [
              "<div>\n",
              "<style scoped>\n",
              "    .dataframe tbody tr th:only-of-type {\n",
              "        vertical-align: middle;\n",
              "    }\n",
              "\n",
              "    .dataframe tbody tr th {\n",
              "        vertical-align: top;\n",
              "    }\n",
              "\n",
              "    .dataframe thead th {\n",
              "        text-align: right;\n",
              "    }\n",
              "</style>\n",
              "<table border=\"1\" class=\"dataframe\">\n",
              "  <thead>\n",
              "    <tr style=\"text-align: right;\">\n",
              "      <th></th>\n",
              "      <th>no2</th>\n",
              "    </tr>\n",
              "  </thead>\n",
              "  <tbody>\n",
              "    <tr>\n",
              "      <th>count</th>\n",
              "      <td>48550.000000</td>\n",
              "    </tr>\n",
              "    <tr>\n",
              "      <th>mean</th>\n",
              "      <td>42.255342</td>\n",
              "    </tr>\n",
              "    <tr>\n",
              "      <th>std</th>\n",
              "      <td>24.184659</td>\n",
              "    </tr>\n",
              "    <tr>\n",
              "      <th>min</th>\n",
              "      <td>0.000000</td>\n",
              "    </tr>\n",
              "    <tr>\n",
              "      <th>25%</th>\n",
              "      <td>24.230000</td>\n",
              "    </tr>\n",
              "    <tr>\n",
              "      <th>50%</th>\n",
              "      <td>38.730000</td>\n",
              "    </tr>\n",
              "    <tr>\n",
              "      <th>75%</th>\n",
              "      <td>55.420000</td>\n",
              "    </tr>\n",
              "    <tr>\n",
              "      <th>max</th>\n",
              "      <td>235.930000</td>\n",
              "    </tr>\n",
              "  </tbody>\n",
              "</table>\n",
              "</div><br><label><b>dtype:</b> float64</label>"
            ]
          },
          "metadata": {},
          "execution_count": 39
        }
      ],
      "source": [
        "df_sensor_tijuca['no2'].describe()"
      ]
    },
    {
      "cell_type": "code",
      "execution_count": 40,
      "metadata": {
        "colab": {
          "base_uri": "https://localhost:8080/"
        },
        "outputId": "87e7ca4c-e370-4191-d5a0-840b64cff792",
        "cellView": "form",
        "id": "cZF6XGcJL3FR"
      },
      "outputs": [
        {
          "output_type": "stream",
          "name": "stdout",
          "text": [
            "Quantidade de valores vazios: 20324\n"
          ]
        }
      ],
      "source": [
        "#@title Vendo quantidade de valores vazios\n",
        "\n",
        "valroes_vazio = df_sensor_tijuca[df_sensor_tijuca['no2'].isnull()].groupby(['ano', 'mes']).size().sum()\n",
        "print(f\"Quantidade de valores vazios: {valroes_vazio}\")"
      ]
    },
    {
      "cell_type": "code",
      "execution_count": 41,
      "metadata": {
        "colab": {
          "base_uri": "https://localhost:8080/"
        },
        "outputId": "43046c38-184b-4940-d529-e37d10104c49",
        "cellView": "form",
        "id": "JirjBMu1L3FR"
      },
      "outputs": [
        {
          "output_type": "stream",
          "name": "stderr",
          "text": [
            "<ipython-input-41-83bbbc5c7407>:3: SettingWithCopyWarning: \n",
            "A value is trying to be set on a copy of a slice from a DataFrame.\n",
            "Try using .loc[row_indexer,col_indexer] = value instead\n",
            "\n",
            "See the caveats in the documentation: https://pandas.pydata.org/pandas-docs/stable/user_guide/indexing.html#returning-a-view-versus-a-copy\n",
            "  df_sensor_tijuca['no2_nulos_no_dia'] = (\n"
          ]
        }
      ],
      "source": [
        "#@title Criando coluna que informa a quantidade de valores vazios por dia\n",
        "\n",
        "df_sensor_tijuca['no2_nulos_no_dia'] = (\n",
        "    df_sensor_tijuca['no2'].isnull()\n",
        "    .groupby(df_sensor_tijuca['data_formatada'])\n",
        "    .transform('sum')  # Soma os nulos por dia e repete o valor em todas as linhas do dia\n",
        ")"
      ]
    },
    {
      "cell_type": "code",
      "source": [
        "#@title Distribuição dos valores vazios\n",
        "\n",
        "# Seleciona uma única linha por dia, para evitar repetição\n",
        "df_dias = df_sensor_tijuca[df_sensor_tijuca['no2_nulos_no_dia'] != 0].groupby('data_formatada')['no2_nulos_no_dia'].first()\n",
        "\n",
        "# Plotar o histograma da contagem de valores nulos por dia\n",
        "plt.figure(figsize=(10,6))\n",
        "plt.hist(df_dias, bins=range(0, df_dias.max() + 2), edgecolor='black', align='left')\n",
        "plt.title(\"Histograma de Quantidade de Valores Vazios em 'no2' por Dia\")\n",
        "plt.xlabel('Quantidade de valores vazios no dia')\n",
        "plt.ylabel('Número de dias')\n",
        "plt.xticks(range(0, df_dias.max() + 1))\n",
        "plt.grid(axis='y', alpha=0.75)\n",
        "plt.show()"
      ],
      "metadata": {
        "colab": {
          "base_uri": "https://localhost:8080/",
          "height": 564
        },
        "cellView": "form",
        "outputId": "935d8e38-670c-4f99-b4a6-9bb3fdfaa47f",
        "id": "PEuziQG6L3FR"
      },
      "execution_count": 42,
      "outputs": [
        {
          "output_type": "display_data",
          "data": {
            "text/plain": [
              "<Figure size 1000x600 with 1 Axes>"
            ],
            "image/png": "[encoded data removed]"
          },
          "metadata": {}
        }
      ]
    },
    {
      "cell_type": "code",
      "execution_count": 43,
      "metadata": {
        "colab": {
          "base_uri": "https://localhost:8080/"
        },
        "outputId": "5a4335cf-ea9c-4985-f974-6cdb0d87ab58",
        "cellView": "form",
        "id": "BXBQoMkTL3FR"
      },
      "outputs": [
        {
          "output_type": "stream",
          "name": "stdout",
          "text": [
            "1627 linhas foram preenchidas com interpolate na coluna 'no2'.\n",
            "Foram preenchido 8% de dados\n"
          ]
        }
      ],
      "source": [
        "#@title Preenchimento dos valores nulos utilizando a função interpolate (Preenchendo apenas os que tem menos de 7 linhas vazias por dia)\n",
        "\n",
        "mask = (df_sensor_tijuca['no2_nulos_no_dia'] <= 6)\n",
        "\n",
        "num_nulls = df_sensor_tijuca[mask]['no2'].isnull().sum()\n",
        "df_sensor_tijuca.loc[mask, 'no2'] = df_sensor_tijuca[mask]['no2'].interpolate()\n",
        "print(f\"{num_nulls} linhas foram preenchidas com interpolate na coluna 'no2'.\")\n",
        "print(f\"Foram preenchido {round((num_nulls/valroes_vazio)*100)}% de dados\")"
      ]
    },
    {
      "cell_type": "code",
      "execution_count": 44,
      "metadata": {
        "colab": {
          "base_uri": "https://localhost:8080/",
          "height": 335
        },
        "outputId": "dbd0f556-2c23-435d-9265-00395242cc9d",
        "id": "_kik1WaAL3FR"
      },
      "outputs": [
        {
          "output_type": "execute_result",
          "data": {
            "text/plain": [
              "count    50177.000000\n",
              "mean        41.912102\n",
              "std         24.117962\n",
              "min          0.000000\n",
              "25%         23.960000\n",
              "50%         38.280000\n",
              "75%         55.000000\n",
              "max        235.930000\n",
              "Name: no2, dtype: float64"
            ],
            "text/html": [
              "<div>\n",
              "<style scoped>\n",
              "    .dataframe tbody tr th:only-of-type {\n",
              "        vertical-align: middle;\n",
              "    }\n",
              "\n",
              "    .dataframe tbody tr th {\n",
              "        vertical-align: top;\n",
              "    }\n",
              "\n",
              "    .dataframe thead th {\n",
              "        text-align: right;\n",
              "    }\n",
              "</style>\n",
              "<table border=\"1\" class=\"dataframe\">\n",
              "  <thead>\n",
              "    <tr style=\"text-align: right;\">\n",
              "      <th></th>\n",
              "      <th>no2</th>\n",
              "    </tr>\n",
              "  </thead>\n",
              "  <tbody>\n",
              "    <tr>\n",
              "      <th>count</th>\n",
              "      <td>50177.000000</td>\n",
              "    </tr>\n",
              "    <tr>\n",
              "      <th>mean</th>\n",
              "      <td>41.912102</td>\n",
              "    </tr>\n",
              "    <tr>\n",
              "      <th>std</th>\n",
              "      <td>24.117962</td>\n",
              "    </tr>\n",
              "    <tr>\n",
              "      <th>min</th>\n",
              "      <td>0.000000</td>\n",
              "    </tr>\n",
              "    <tr>\n",
              "      <th>25%</th>\n",
              "      <td>23.960000</td>\n",
              "    </tr>\n",
              "    <tr>\n",
              "      <th>50%</th>\n",
              "      <td>38.280000</td>\n",
              "    </tr>\n",
              "    <tr>\n",
              "      <th>75%</th>\n",
              "      <td>55.000000</td>\n",
              "    </tr>\n",
              "    <tr>\n",
              "      <th>max</th>\n",
              "      <td>235.930000</td>\n",
              "    </tr>\n",
              "  </tbody>\n",
              "</table>\n",
              "</div><br><label><b>dtype:</b> float64</label>"
            ]
          },
          "metadata": {},
          "execution_count": 44
        }
      ],
      "source": [
        "df_sensor_tijuca['no2'].describe()"
      ]
    },
    {
      "cell_type": "markdown",
      "metadata": {
        "id": "_lsKfMaUMVWn"
      },
      "source": [
        "### Óxido de Nitrogênio"
      ]
    },
    {
      "cell_type": "code",
      "execution_count": 45,
      "metadata": {
        "colab": {
          "base_uri": "https://localhost:8080/",
          "height": 335
        },
        "outputId": "40b0822a-0b2d-4923-a2e3-a3d44fd7f217",
        "id": "5Z-DzzjTMVWo"
      },
      "outputs": [
        {
          "output_type": "execute_result",
          "data": {
            "text/plain": [
              "count    48553.000000\n",
              "mean        57.685606\n",
              "std         36.188502\n",
              "min          0.000000\n",
              "25%         32.110000\n",
              "50%         51.150000\n",
              "75%         74.850000\n",
              "max        418.470000\n",
              "Name: nox, dtype: float64"
            ],
            "text/html": [
              "<div>\n",
              "<style scoped>\n",
              "    .dataframe tbody tr th:only-of-type {\n",
              "        vertical-align: middle;\n",
              "    }\n",
              "\n",
              "    .dataframe tbody tr th {\n",
              "        vertical-align: top;\n",
              "    }\n",
              "\n",
              "    .dataframe thead th {\n",
              "        text-align: right;\n",
              "    }\n",
              "</style>\n",
              "<table border=\"1\" class=\"dataframe\">\n",
              "  <thead>\n",
              "    <tr style=\"text-align: right;\">\n",
              "      <th></th>\n",
              "      <th>nox</th>\n",
              "    </tr>\n",
              "  </thead>\n",
              "  <tbody>\n",
              "    <tr>\n",
              "      <th>count</th>\n",
              "      <td>48553.000000</td>\n",
              "    </tr>\n",
              "    <tr>\n",
              "      <th>mean</th>\n",
              "      <td>57.685606</td>\n",
              "    </tr>\n",
              "    <tr>\n",
              "      <th>std</th>\n",
              "      <td>36.188502</td>\n",
              "    </tr>\n",
              "    <tr>\n",
              "      <th>min</th>\n",
              "      <td>0.000000</td>\n",
              "    </tr>\n",
              "    <tr>\n",
              "      <th>25%</th>\n",
              "      <td>32.110000</td>\n",
              "    </tr>\n",
              "    <tr>\n",
              "      <th>50%</th>\n",
              "      <td>51.150000</td>\n",
              "    </tr>\n",
              "    <tr>\n",
              "      <th>75%</th>\n",
              "      <td>74.850000</td>\n",
              "    </tr>\n",
              "    <tr>\n",
              "      <th>max</th>\n",
              "      <td>418.470000</td>\n",
              "    </tr>\n",
              "  </tbody>\n",
              "</table>\n",
              "</div><br><label><b>dtype:</b> float64</label>"
            ]
          },
          "metadata": {},
          "execution_count": 45
        }
      ],
      "source": [
        "df_sensor_tijuca['nox'].describe()"
      ]
    },
    {
      "cell_type": "code",
      "execution_count": 46,
      "metadata": {
        "colab": {
          "base_uri": "https://localhost:8080/"
        },
        "outputId": "e61f4ae0-ba50-47f8-e636-bcc3e62c6062",
        "cellView": "form",
        "id": "6eCJkUmBMVWo"
      },
      "outputs": [
        {
          "output_type": "stream",
          "name": "stdout",
          "text": [
            "Quantidade de valores vazios: 20321\n"
          ]
        }
      ],
      "source": [
        "#@title Vendo quantidade de valores vazios\n",
        "\n",
        "valroes_vazio = df_sensor_tijuca[df_sensor_tijuca['nox'].isnull()].groupby(['ano', 'mes']).size().sum()\n",
        "print(f\"Quantidade de valores vazios: {valroes_vazio}\")"
      ]
    },
    {
      "cell_type": "code",
      "execution_count": 47,
      "metadata": {
        "colab": {
          "base_uri": "https://localhost:8080/"
        },
        "outputId": "e31c2332-5e4c-403e-86a4-2187e3fcfc22",
        "cellView": "form",
        "id": "arTstOYcMVWp"
      },
      "outputs": [
        {
          "output_type": "stream",
          "name": "stderr",
          "text": [
            "<ipython-input-47-f4784ca56f30>:3: SettingWithCopyWarning: \n",
            "A value is trying to be set on a copy of a slice from a DataFrame.\n",
            "Try using .loc[row_indexer,col_indexer] = value instead\n",
            "\n",
            "See the caveats in the documentation: https://pandas.pydata.org/pandas-docs/stable/user_guide/indexing.html#returning-a-view-versus-a-copy\n",
            "  df_sensor_tijuca['nox_nulos_no_dia'] = (\n"
          ]
        }
      ],
      "source": [
        "#@title Criando coluna que informa a quantidade de valores vazios por dia\n",
        "\n",
        "df_sensor_tijuca['nox_nulos_no_dia'] = (\n",
        "    df_sensor_tijuca['nox'].isnull()\n",
        "    .groupby(df_sensor_tijuca['data_formatada'])\n",
        "    .transform('sum')  # Soma os nulos por dia e repete o valor em todas as linhas do dia\n",
        ")"
      ]
    },
    {
      "cell_type": "code",
      "source": [
        "#@title Distribuição dos valores vazios\n",
        "\n",
        "# Seleciona uma única linha por dia, para evitar repetição\n",
        "df_dias = df_sensor_tijuca[df_sensor_tijuca['nox_nulos_no_dia'] != 0].groupby('data_formatada')['nox_nulos_no_dia'].first()\n",
        "\n",
        "# Plotar o histograma da contagem de valores nulos por dia\n",
        "plt.figure(figsize=(10,6))\n",
        "plt.hist(df_dias, bins=range(0, df_dias.max() + 2), edgecolor='black', align='left')\n",
        "plt.title(\"Histograma de Quantidade de Valores Vazios em 'nox' por Dia\")\n",
        "plt.xlabel('Quantidade de valores vazios no dia')\n",
        "plt.ylabel('Número de dias')\n",
        "plt.xticks(range(0, df_dias.max() + 1))\n",
        "plt.grid(axis='y', alpha=0.75)\n",
        "plt.show()"
      ],
      "metadata": {
        "colab": {
          "base_uri": "https://localhost:8080/",
          "height": 564
        },
        "cellView": "form",
        "outputId": "03775ebd-6c51-41c3-f535-66cdd5afaf57",
        "id": "uR0Iri7RMVWp"
      },
      "execution_count": 48,
      "outputs": [
        {
          "output_type": "display_data",
          "data": {
            "text/plain": [
              "<Figure size 1000x600 with 1 Axes>"
            ],
            "image/png": "[encoded data removed]"
          },
          "metadata": {}
        }
      ]
    },
    {
      "cell_type": "code",
      "execution_count": 49,
      "metadata": {
        "colab": {
          "base_uri": "https://localhost:8080/"
        },
        "outputId": "a52578e2-53d6-40a6-a4a0-9155e29935eb",
        "cellView": "form",
        "id": "oFZPdVecMVWp"
      },
      "outputs": [
        {
          "output_type": "stream",
          "name": "stdout",
          "text": [
            "1624 linhas foram preenchidas com interpolate na coluna 'nox'.\n",
            "Foram preenchido 8% de dados\n"
          ]
        }
      ],
      "source": [
        "#@title Preenchimento dos valores nulos utilizando a função interpolate (Preenchendo apenas os que tem menos de 7 linhas vazias por dia)\n",
        "\n",
        "mask = (df_sensor_tijuca['nox_nulos_no_dia'] <= 6)\n",
        "\n",
        "num_nulls = df_sensor_tijuca[mask]['nox'].isnull().sum()\n",
        "df_sensor_tijuca.loc[mask, 'nox'] = df_sensor_tijuca[mask]['nox'].interpolate()\n",
        "print(f\"{num_nulls} linhas foram preenchidas com interpolate na coluna 'nox'.\")\n",
        "print(f\"Foram preenchido {round((num_nulls/valroes_vazio)*100)}% de dados\")"
      ]
    },
    {
      "cell_type": "code",
      "execution_count": 50,
      "metadata": {
        "colab": {
          "base_uri": "https://localhost:8080/",
          "height": 335
        },
        "outputId": "8c139300-40ab-46cd-9b7e-d4ccb09b8cc5",
        "id": "TZjwHNM_MVWp"
      },
      "outputs": [
        {
          "output_type": "execute_result",
          "data": {
            "text/plain": [
              "count    50177.000000\n",
              "mean        57.108110\n",
              "std         36.079029\n",
              "min          0.000000\n",
              "25%         31.570000\n",
              "50%         50.420000\n",
              "75%         74.180000\n",
              "max        418.470000\n",
              "Name: nox, dtype: float64"
            ],
            "text/html": [
              "<div>\n",
              "<style scoped>\n",
              "    .dataframe tbody tr th:only-of-type {\n",
              "        vertical-align: middle;\n",
              "    }\n",
              "\n",
              "    .dataframe tbody tr th {\n",
              "        vertical-align: top;\n",
              "    }\n",
              "\n",
              "    .dataframe thead th {\n",
              "        text-align: right;\n",
              "    }\n",
              "</style>\n",
              "<table border=\"1\" class=\"dataframe\">\n",
              "  <thead>\n",
              "    <tr style=\"text-align: right;\">\n",
              "      <th></th>\n",
              "      <th>nox</th>\n",
              "    </tr>\n",
              "  </thead>\n",
              "  <tbody>\n",
              "    <tr>\n",
              "      <th>count</th>\n",
              "      <td>50177.000000</td>\n",
              "    </tr>\n",
              "    <tr>\n",
              "      <th>mean</th>\n",
              "      <td>57.108110</td>\n",
              "    </tr>\n",
              "    <tr>\n",
              "      <th>std</th>\n",
              "      <td>36.079029</td>\n",
              "    </tr>\n",
              "    <tr>\n",
              "      <th>min</th>\n",
              "      <td>0.000000</td>\n",
              "    </tr>\n",
              "    <tr>\n",
              "      <th>25%</th>\n",
              "      <td>31.570000</td>\n",
              "    </tr>\n",
              "    <tr>\n",
              "      <th>50%</th>\n",
              "      <td>50.420000</td>\n",
              "    </tr>\n",
              "    <tr>\n",
              "      <th>75%</th>\n",
              "      <td>74.180000</td>\n",
              "    </tr>\n",
              "    <tr>\n",
              "      <th>max</th>\n",
              "      <td>418.470000</td>\n",
              "    </tr>\n",
              "  </tbody>\n",
              "</table>\n",
              "</div><br><label><b>dtype:</b> float64</label>"
            ]
          },
          "metadata": {},
          "execution_count": 50
        }
      ],
      "source": [
        "df_sensor_tijuca['nox'].describe()"
      ]
    },
    {
      "cell_type": "markdown",
      "metadata": {
        "id": "dea3QOhJMs5K"
      },
      "source": [
        "### Dióxido de Enxofre Tijuca"
      ]
    },
    {
      "cell_type": "code",
      "execution_count": 51,
      "metadata": {
        "colab": {
          "base_uri": "https://localhost:8080/",
          "height": 335
        },
        "outputId": "7c33591c-c039-49b6-b4f0-093774afef43",
        "id": "fszCCXqNMs5L"
      },
      "outputs": [
        {
          "output_type": "execute_result",
          "data": {
            "text/plain": [
              "count    60951.000000\n",
              "mean         3.800555\n",
              "std          6.004629\n",
              "min          0.000000\n",
              "25%          0.710000\n",
              "50%          1.870000\n",
              "75%          4.300000\n",
              "max        159.820000\n",
              "Name: so2, dtype: float64"
            ],
            "text/html": [
              "<div>\n",
              "<style scoped>\n",
              "    .dataframe tbody tr th:only-of-type {\n",
              "        vertical-align: middle;\n",
              "    }\n",
              "\n",
              "    .dataframe tbody tr th {\n",
              "        vertical-align: top;\n",
              "    }\n",
              "\n",
              "    .dataframe thead th {\n",
              "        text-align: right;\n",
              "    }\n",
              "</style>\n",
              "<table border=\"1\" class=\"dataframe\">\n",
              "  <thead>\n",
              "    <tr style=\"text-align: right;\">\n",
              "      <th></th>\n",
              "      <th>so2</th>\n",
              "    </tr>\n",
              "  </thead>\n",
              "  <tbody>\n",
              "    <tr>\n",
              "      <th>count</th>\n",
              "      <td>60951.000000</td>\n",
              "    </tr>\n",
              "    <tr>\n",
              "      <th>mean</th>\n",
              "      <td>3.800555</td>\n",
              "    </tr>\n",
              "    <tr>\n",
              "      <th>std</th>\n",
              "      <td>6.004629</td>\n",
              "    </tr>\n",
              "    <tr>\n",
              "      <th>min</th>\n",
              "      <td>0.000000</td>\n",
              "    </tr>\n",
              "    <tr>\n",
              "      <th>25%</th>\n",
              "      <td>0.710000</td>\n",
              "    </tr>\n",
              "    <tr>\n",
              "      <th>50%</th>\n",
              "      <td>1.870000</td>\n",
              "    </tr>\n",
              "    <tr>\n",
              "      <th>75%</th>\n",
              "      <td>4.300000</td>\n",
              "    </tr>\n",
              "    <tr>\n",
              "      <th>max</th>\n",
              "      <td>159.820000</td>\n",
              "    </tr>\n",
              "  </tbody>\n",
              "</table>\n",
              "</div><br><label><b>dtype:</b> float64</label>"
            ]
          },
          "metadata": {},
          "execution_count": 51
        }
      ],
      "source": [
        "df_sensor_tijuca['so2'].describe()"
      ]
    },
    {
      "cell_type": "code",
      "execution_count": 52,
      "metadata": {
        "colab": {
          "base_uri": "https://localhost:8080/"
        },
        "outputId": "fec32440-377e-461d-8e5b-40741034ba31",
        "cellView": "form",
        "id": "c0RuCYCsMs5L"
      },
      "outputs": [
        {
          "output_type": "stream",
          "name": "stdout",
          "text": [
            "Quantidade de valores vazios: 7923\n"
          ]
        }
      ],
      "source": [
        "#@title Vendo quantidade de valores vazios\n",
        "\n",
        "valroes_vazio = df_sensor_tijuca[df_sensor_tijuca['so2'].isnull()].groupby(['ano', 'mes']).size().sum()\n",
        "print(f\"Quantidade de valores vazios: {valroes_vazio}\")"
      ]
    },
    {
      "cell_type": "code",
      "execution_count": 53,
      "metadata": {
        "colab": {
          "base_uri": "https://localhost:8080/"
        },
        "outputId": "12fcc29b-1e39-4df2-d2a4-5aa67623dd33",
        "cellView": "form",
        "id": "C4qkCjQHMs5L"
      },
      "outputs": [
        {
          "output_type": "stream",
          "name": "stderr",
          "text": [
            "<ipython-input-53-1ed7caa1631b>:3: SettingWithCopyWarning: \n",
            "A value is trying to be set on a copy of a slice from a DataFrame.\n",
            "Try using .loc[row_indexer,col_indexer] = value instead\n",
            "\n",
            "See the caveats in the documentation: https://pandas.pydata.org/pandas-docs/stable/user_guide/indexing.html#returning-a-view-versus-a-copy\n",
            "  df_sensor_tijuca['so2_nulos_no_dia'] = (\n"
          ]
        }
      ],
      "source": [
        "#@title Criando coluna que informa a quantidade de valores vazios por dia\n",
        "\n",
        "df_sensor_tijuca['so2_nulos_no_dia'] = (\n",
        "    df_sensor_tijuca['so2'].isnull()\n",
        "    .groupby(df_sensor_tijuca['data_formatada'])\n",
        "    .transform('sum')  # Soma os nulos por dia e repete o valor em todas as linhas do dia\n",
        ")"
      ]
    },
    {
      "cell_type": "code",
      "source": [
        "#@title Distribuição dos valores vazios\n",
        "\n",
        "# Seleciona uma única linha por dia, para evitar repetição\n",
        "df_dias = df_sensor_tijuca[df_sensor_tijuca['so2_nulos_no_dia'] != 0].groupby('data_formatada')['so2_nulos_no_dia'].first()\n",
        "\n",
        "# Plotar o histograma da contagem de valores nulos por dia\n",
        "plt.figure(figsize=(10,6))\n",
        "plt.hist(df_dias, bins=range(0, df_dias.max() + 2), edgecolor='black', align='left')\n",
        "plt.title(\"Histograma de Quantidade de Valores Vazios em 'so2' por Dia\")\n",
        "plt.xlabel('Quantidade de valores vazios no dia')\n",
        "plt.ylabel('Número de dias')\n",
        "plt.xticks(range(0, df_dias.max() + 1))\n",
        "plt.grid(axis='y', alpha=0.75)\n",
        "plt.show()"
      ],
      "metadata": {
        "colab": {
          "base_uri": "https://localhost:8080/",
          "height": 564
        },
        "cellView": "form",
        "outputId": "61084ade-29dc-46da-ba7a-b548934dfb3c",
        "id": "trcgkn9hMs5L"
      },
      "execution_count": 54,
      "outputs": [
        {
          "output_type": "display_data",
          "data": {
            "text/plain": [
              "<Figure size 1000x600 with 1 Axes>"
            ],
            "image/png": "[encoded data removed]"
          },
          "metadata": {}
        }
      ]
    },
    {
      "cell_type": "code",
      "execution_count": 55,
      "metadata": {
        "colab": {
          "base_uri": "https://localhost:8080/"
        },
        "outputId": "e97bc94a-5ed4-4628-b38f-fb80658a7778",
        "cellView": "form",
        "id": "4Vf0xfIGMs5L"
      },
      "outputs": [
        {
          "output_type": "stream",
          "name": "stdout",
          "text": [
            "3188 linhas foram preenchidas com interpolate na coluna 'so2'.\n",
            "Foram preenchido 40% de dados\n"
          ]
        }
      ],
      "source": [
        "#@title Preenchimento dos valores nulos utilizando a função interpolate (Preenchendo apenas os que tem menos de 7 linhas vazias por dia)\n",
        "\n",
        "mask = (df_sensor_tijuca['so2_nulos_no_dia'] <= 6)\n",
        "\n",
        "num_nulls = df_sensor_tijuca[mask]['so2'].isnull().sum()\n",
        "df_sensor_tijuca.loc[mask, 'so2'] = df_sensor_tijuca[mask]['so2'].interpolate()\n",
        "print(f\"{num_nulls} linhas foram preenchidas com interpolate na coluna 'so2'.\")\n",
        "print(f\"Foram preenchido {round((num_nulls/valroes_vazio)*100)}% de dados\")"
      ]
    },
    {
      "cell_type": "code",
      "execution_count": 56,
      "metadata": {
        "colab": {
          "base_uri": "https://localhost:8080/",
          "height": 335
        },
        "outputId": "8798c99b-a133-4e54-e707-180436fc7c5f",
        "id": "tdmsasFgMs5L"
      },
      "outputs": [
        {
          "output_type": "execute_result",
          "data": {
            "text/plain": [
              "count    64139.000000\n",
              "mean         3.747956\n",
              "std          5.934281\n",
              "min          0.000000\n",
              "25%          0.700000\n",
              "50%          1.840000\n",
              "75%          4.250000\n",
              "max        159.820000\n",
              "Name: so2, dtype: float64"
            ],
            "text/html": [
              "<div>\n",
              "<style scoped>\n",
              "    .dataframe tbody tr th:only-of-type {\n",
              "        vertical-align: middle;\n",
              "    }\n",
              "\n",
              "    .dataframe tbody tr th {\n",
              "        vertical-align: top;\n",
              "    }\n",
              "\n",
              "    .dataframe thead th {\n",
              "        text-align: right;\n",
              "    }\n",
              "</style>\n",
              "<table border=\"1\" class=\"dataframe\">\n",
              "  <thead>\n",
              "    <tr style=\"text-align: right;\">\n",
              "      <th></th>\n",
              "      <th>so2</th>\n",
              "    </tr>\n",
              "  </thead>\n",
              "  <tbody>\n",
              "    <tr>\n",
              "      <th>count</th>\n",
              "      <td>64139.000000</td>\n",
              "    </tr>\n",
              "    <tr>\n",
              "      <th>mean</th>\n",
              "      <td>3.747956</td>\n",
              "    </tr>\n",
              "    <tr>\n",
              "      <th>std</th>\n",
              "      <td>5.934281</td>\n",
              "    </tr>\n",
              "    <tr>\n",
              "      <th>min</th>\n",
              "      <td>0.000000</td>\n",
              "    </tr>\n",
              "    <tr>\n",
              "      <th>25%</th>\n",
              "      <td>0.700000</td>\n",
              "    </tr>\n",
              "    <tr>\n",
              "      <th>50%</th>\n",
              "      <td>1.840000</td>\n",
              "    </tr>\n",
              "    <tr>\n",
              "      <th>75%</th>\n",
              "      <td>4.250000</td>\n",
              "    </tr>\n",
              "    <tr>\n",
              "      <th>max</th>\n",
              "      <td>159.820000</td>\n",
              "    </tr>\n",
              "  </tbody>\n",
              "</table>\n",
              "</div><br><label><b>dtype:</b> float64</label>"
            ]
          },
          "metadata": {},
          "execution_count": 56
        }
      ],
      "source": [
        "df_sensor_tijuca['so2'].describe()"
      ]
    },
    {
      "cell_type": "markdown",
      "metadata": {
        "id": "DP-WWSHfNYCk"
      },
      "source": [
        "### Ozônio Tijuca"
      ]
    },
    {
      "cell_type": "code",
      "execution_count": 57,
      "metadata": {
        "colab": {
          "base_uri": "https://localhost:8080/",
          "height": 335
        },
        "outputId": "01b7ebbd-3f3c-4cb5-9bc3-52d876c3a85b",
        "id": "5Wx7SPTJNYCl"
      },
      "outputs": [
        {
          "output_type": "execute_result",
          "data": {
            "text/plain": [
              "count    64726.000000\n",
              "mean        28.630406\n",
              "std         25.109902\n",
              "min          0.000000\n",
              "25%         10.140000\n",
              "50%         22.930000\n",
              "75%         39.497500\n",
              "max        295.490000\n",
              "Name: o3, dtype: float64"
            ],
            "text/html": [
              "<div>\n",
              "<style scoped>\n",
              "    .dataframe tbody tr th:only-of-type {\n",
              "        vertical-align: middle;\n",
              "    }\n",
              "\n",
              "    .dataframe tbody tr th {\n",
              "        vertical-align: top;\n",
              "    }\n",
              "\n",
              "    .dataframe thead th {\n",
              "        text-align: right;\n",
              "    }\n",
              "</style>\n",
              "<table border=\"1\" class=\"dataframe\">\n",
              "  <thead>\n",
              "    <tr style=\"text-align: right;\">\n",
              "      <th></th>\n",
              "      <th>o3</th>\n",
              "    </tr>\n",
              "  </thead>\n",
              "  <tbody>\n",
              "    <tr>\n",
              "      <th>count</th>\n",
              "      <td>64726.000000</td>\n",
              "    </tr>\n",
              "    <tr>\n",
              "      <th>mean</th>\n",
              "      <td>28.630406</td>\n",
              "    </tr>\n",
              "    <tr>\n",
              "      <th>std</th>\n",
              "      <td>25.109902</td>\n",
              "    </tr>\n",
              "    <tr>\n",
              "      <th>min</th>\n",
              "      <td>0.000000</td>\n",
              "    </tr>\n",
              "    <tr>\n",
              "      <th>25%</th>\n",
              "      <td>10.140000</td>\n",
              "    </tr>\n",
              "    <tr>\n",
              "      <th>50%</th>\n",
              "      <td>22.930000</td>\n",
              "    </tr>\n",
              "    <tr>\n",
              "      <th>75%</th>\n",
              "      <td>39.497500</td>\n",
              "    </tr>\n",
              "    <tr>\n",
              "      <th>max</th>\n",
              "      <td>295.490000</td>\n",
              "    </tr>\n",
              "  </tbody>\n",
              "</table>\n",
              "</div><br><label><b>dtype:</b> float64</label>"
            ]
          },
          "metadata": {},
          "execution_count": 57
        }
      ],
      "source": [
        "df_sensor_tijuca['o3'].describe()"
      ]
    },
    {
      "cell_type": "code",
      "execution_count": 58,
      "metadata": {
        "colab": {
          "base_uri": "https://localhost:8080/"
        },
        "outputId": "4b1f8025-aa50-4fdf-cb3d-b490639388d3",
        "cellView": "form",
        "id": "kXhRQEmoNYCn"
      },
      "outputs": [
        {
          "output_type": "stream",
          "name": "stdout",
          "text": [
            "Quantidade de valores vazios: 4148\n"
          ]
        }
      ],
      "source": [
        "#@title Vendo quantidade de valores vazios\n",
        "\n",
        "valroes_vazio = df_sensor_tijuca[df_sensor_tijuca['o3'].isnull()].groupby(['ano', 'mes']).size().sum()\n",
        "print(f\"Quantidade de valores vazios: {valroes_vazio}\")"
      ]
    },
    {
      "cell_type": "code",
      "execution_count": 59,
      "metadata": {
        "colab": {
          "base_uri": "https://localhost:8080/"
        },
        "outputId": "12d1bd2b-1fa0-4efb-9b1e-37723708aaac",
        "cellView": "form",
        "id": "cJBoN4cMNYCn"
      },
      "outputs": [
        {
          "output_type": "stream",
          "name": "stderr",
          "text": [
            "<ipython-input-59-ba670d760c2d>:3: SettingWithCopyWarning: \n",
            "A value is trying to be set on a copy of a slice from a DataFrame.\n",
            "Try using .loc[row_indexer,col_indexer] = value instead\n",
            "\n",
            "See the caveats in the documentation: https://pandas.pydata.org/pandas-docs/stable/user_guide/indexing.html#returning-a-view-versus-a-copy\n",
            "  df_sensor_tijuca['o3_nulos_no_dia'] = (\n"
          ]
        }
      ],
      "source": [
        "#@title Criando coluna que informa a quantidade de valores vazios por dia\n",
        "\n",
        "df_sensor_tijuca['o3_nulos_no_dia'] = (\n",
        "    df_sensor_tijuca['o3'].isnull()\n",
        "    .groupby(df_sensor_tijuca['data_formatada'])\n",
        "    .transform('sum')  # Soma os nulos por dia e repete o valor em todas as linhas do dia\n",
        ")"
      ]
    },
    {
      "cell_type": "code",
      "source": [
        "#@title Distribuição dos valores vazios\n",
        "\n",
        "# Seleciona uma única linha por dia, para evitar repetição\n",
        "df_dias = df_sensor_tijuca[df_sensor_tijuca['o3_nulos_no_dia'] != 0].groupby('data_formatada')['o3_nulos_no_dia'].first()\n",
        "\n",
        "# Plotar o histograma da contagem de valores nulos por dia\n",
        "plt.figure(figsize=(10,6))\n",
        "plt.hist(df_dias, bins=range(0, df_dias.max() + 2), edgecolor='black', align='left')\n",
        "plt.title(\"Histograma de Quantidade de Valores Vazios em 'o3' por Dia\")\n",
        "plt.xlabel('Quantidade de valores vazios no dia')\n",
        "plt.ylabel('Número de dias')\n",
        "plt.xticks(range(0, df_dias.max() + 1))\n",
        "plt.grid(axis='y', alpha=0.75)\n",
        "plt.show()"
      ],
      "metadata": {
        "colab": {
          "base_uri": "https://localhost:8080/",
          "height": 564
        },
        "cellView": "form",
        "outputId": "b5404bec-4815-451b-bd1d-30704cb901e3",
        "id": "Q1ZG0wIONYCn"
      },
      "execution_count": 60,
      "outputs": [
        {
          "output_type": "display_data",
          "data": {
            "text/plain": [
              "<Figure size 1000x600 with 1 Axes>"
            ],
            "image/png": "[encoded data removed]"
          },
          "metadata": {}
        }
      ]
    },
    {
      "cell_type": "code",
      "execution_count": 61,
      "metadata": {
        "colab": {
          "base_uri": "https://localhost:8080/"
        },
        "outputId": "a9c22584-8246-4de8-c2a7-223c185f7869",
        "cellView": "form",
        "id": "KQwJwPLrNYCo"
      },
      "outputs": [
        {
          "output_type": "stream",
          "name": "stdout",
          "text": [
            "730 linhas foram preenchidas com interpolate na coluna 'o3'.\n",
            "Foram preenchido 18% de dados\n"
          ]
        }
      ],
      "source": [
        "#@title Preenchimento dos valores nulos utilizando a função interpolate (Preenchendo apenas os que tem menos de 7 linhas vazias por dia)\n",
        "\n",
        "mask = (df_sensor_tijuca['o3_nulos_no_dia'] <= 6)\n",
        "\n",
        "num_nulls = df_sensor_tijuca[mask]['o3'].isnull().sum()\n",
        "df_sensor_tijuca.loc[mask, 'o3'] = df_sensor_tijuca[mask]['o3'].interpolate()\n",
        "print(f\"{num_nulls} linhas foram preenchidas com interpolate na coluna 'o3'.\")\n",
        "print(f\"Foram preenchido {round((num_nulls/valroes_vazio)*100)}% de dados\")"
      ]
    },
    {
      "cell_type": "code",
      "execution_count": 62,
      "metadata": {
        "colab": {
          "base_uri": "https://localhost:8080/",
          "height": 335
        },
        "outputId": "92ae2aa6-9658-40d7-9125-0c113c2fb18d",
        "id": "8dJ2VLO3NYCp"
      },
      "outputs": [
        {
          "output_type": "execute_result",
          "data": {
            "text/plain": [
              "count    65456.000000\n",
              "mean        28.655693\n",
              "std         25.057591\n",
              "min          0.000000\n",
              "25%         10.230000\n",
              "50%         22.990000\n",
              "75%         39.500000\n",
              "max        295.490000\n",
              "Name: o3, dtype: float64"
            ],
            "text/html": [
              "<div>\n",
              "<style scoped>\n",
              "    .dataframe tbody tr th:only-of-type {\n",
              "        vertical-align: middle;\n",
              "    }\n",
              "\n",
              "    .dataframe tbody tr th {\n",
              "        vertical-align: top;\n",
              "    }\n",
              "\n",
              "    .dataframe thead th {\n",
              "        text-align: right;\n",
              "    }\n",
              "</style>\n",
              "<table border=\"1\" class=\"dataframe\">\n",
              "  <thead>\n",
              "    <tr style=\"text-align: right;\">\n",
              "      <th></th>\n",
              "      <th>o3</th>\n",
              "    </tr>\n",
              "  </thead>\n",
              "  <tbody>\n",
              "    <tr>\n",
              "      <th>count</th>\n",
              "      <td>65456.000000</td>\n",
              "    </tr>\n",
              "    <tr>\n",
              "      <th>mean</th>\n",
              "      <td>28.655693</td>\n",
              "    </tr>\n",
              "    <tr>\n",
              "      <th>std</th>\n",
              "      <td>25.057591</td>\n",
              "    </tr>\n",
              "    <tr>\n",
              "      <th>min</th>\n",
              "      <td>0.000000</td>\n",
              "    </tr>\n",
              "    <tr>\n",
              "      <th>25%</th>\n",
              "      <td>10.230000</td>\n",
              "    </tr>\n",
              "    <tr>\n",
              "      <th>50%</th>\n",
              "      <td>22.990000</td>\n",
              "    </tr>\n",
              "    <tr>\n",
              "      <th>75%</th>\n",
              "      <td>39.500000</td>\n",
              "    </tr>\n",
              "    <tr>\n",
              "      <th>max</th>\n",
              "      <td>295.490000</td>\n",
              "    </tr>\n",
              "  </tbody>\n",
              "</table>\n",
              "</div><br><label><b>dtype:</b> float64</label>"
            ]
          },
          "metadata": {},
          "execution_count": 62
        }
      ],
      "source": [
        "df_sensor_tijuca['o3'].describe()"
      ]
    },
    {
      "cell_type": "markdown",
      "metadata": {
        "id": "x_EfKxffNz6H"
      },
      "source": [
        "### PM10 Tijuca"
      ]
    },
    {
      "cell_type": "code",
      "execution_count": 63,
      "metadata": {
        "colab": {
          "base_uri": "https://localhost:8080/",
          "height": 335
        },
        "outputId": "5e18db2f-655e-4c27-ee28-c053cd5ab93f",
        "id": "PwaB2u12Nz6H"
      },
      "outputs": [
        {
          "output_type": "execute_result",
          "data": {
            "text/plain": [
              "count    66815.000000\n",
              "mean        32.800977\n",
              "std         18.754760\n",
              "min          0.000000\n",
              "25%         20.530000\n",
              "50%         29.100000\n",
              "75%         40.490000\n",
              "max        310.310000\n",
              "Name: pm10, dtype: float64"
            ],
            "text/html": [
              "<div>\n",
              "<style scoped>\n",
              "    .dataframe tbody tr th:only-of-type {\n",
              "        vertical-align: middle;\n",
              "    }\n",
              "\n",
              "    .dataframe tbody tr th {\n",
              "        vertical-align: top;\n",
              "    }\n",
              "\n",
              "    .dataframe thead th {\n",
              "        text-align: right;\n",
              "    }\n",
              "</style>\n",
              "<table border=\"1\" class=\"dataframe\">\n",
              "  <thead>\n",
              "    <tr style=\"text-align: right;\">\n",
              "      <th></th>\n",
              "      <th>pm10</th>\n",
              "    </tr>\n",
              "  </thead>\n",
              "  <tbody>\n",
              "    <tr>\n",
              "      <th>count</th>\n",
              "      <td>66815.000000</td>\n",
              "    </tr>\n",
              "    <tr>\n",
              "      <th>mean</th>\n",
              "      <td>32.800977</td>\n",
              "    </tr>\n",
              "    <tr>\n",
              "      <th>std</th>\n",
              "      <td>18.754760</td>\n",
              "    </tr>\n",
              "    <tr>\n",
              "      <th>min</th>\n",
              "      <td>0.000000</td>\n",
              "    </tr>\n",
              "    <tr>\n",
              "      <th>25%</th>\n",
              "      <td>20.530000</td>\n",
              "    </tr>\n",
              "    <tr>\n",
              "      <th>50%</th>\n",
              "      <td>29.100000</td>\n",
              "    </tr>\n",
              "    <tr>\n",
              "      <th>75%</th>\n",
              "      <td>40.490000</td>\n",
              "    </tr>\n",
              "    <tr>\n",
              "      <th>max</th>\n",
              "      <td>310.310000</td>\n",
              "    </tr>\n",
              "  </tbody>\n",
              "</table>\n",
              "</div><br><label><b>dtype:</b> float64</label>"
            ]
          },
          "metadata": {},
          "execution_count": 63
        }
      ],
      "source": [
        "df_sensor_tijuca['pm10'].describe()"
      ]
    },
    {
      "cell_type": "code",
      "execution_count": 64,
      "metadata": {
        "colab": {
          "base_uri": "https://localhost:8080/"
        },
        "outputId": "70bcdf23-5b36-44b8-a57c-e2cfdc35c893",
        "cellView": "form",
        "id": "2DgViHnxNz6I"
      },
      "outputs": [
        {
          "output_type": "stream",
          "name": "stdout",
          "text": [
            "Quantidade de valores vazios: 2059\n"
          ]
        }
      ],
      "source": [
        "#@title Vendo quantidade de valores vazios\n",
        "\n",
        "valroes_vazio = df_sensor_tijuca[df_sensor_tijuca['pm10'].isnull()].groupby(['ano', 'mes']).size().sum()\n",
        "print(f\"Quantidade de valores vazios: {valroes_vazio}\")"
      ]
    },
    {
      "cell_type": "code",
      "execution_count": 65,
      "metadata": {
        "colab": {
          "base_uri": "https://localhost:8080/"
        },
        "outputId": "892d7afa-1649-451f-e266-d7946f3644a6",
        "cellView": "form",
        "id": "C4E1ad35Nz6I"
      },
      "outputs": [
        {
          "output_type": "stream",
          "name": "stderr",
          "text": [
            "<ipython-input-65-2bd8e50c63a9>:3: SettingWithCopyWarning: \n",
            "A value is trying to be set on a copy of a slice from a DataFrame.\n",
            "Try using .loc[row_indexer,col_indexer] = value instead\n",
            "\n",
            "See the caveats in the documentation: https://pandas.pydata.org/pandas-docs/stable/user_guide/indexing.html#returning-a-view-versus-a-copy\n",
            "  df_sensor_tijuca['pm10_nulos_no_dia'] = (\n"
          ]
        }
      ],
      "source": [
        "#@title Criando coluna que informa a quantidade de valores vazios por dia\n",
        "\n",
        "df_sensor_tijuca['pm10_nulos_no_dia'] = (\n",
        "    df_sensor_tijuca['pm10'].isnull()\n",
        "    .groupby(df_sensor_tijuca['data_formatada'])\n",
        "    .transform('sum')  # Soma os nulos por dia e repete o valor em todas as linhas do dia\n",
        ")"
      ]
    },
    {
      "cell_type": "code",
      "source": [
        "#@title Distribuição dos valores vazios\n",
        "\n",
        "# Seleciona uma única linha por dia, para evitar repetição\n",
        "df_dias = df_sensor_tijuca[df_sensor_tijuca['pm10_nulos_no_dia'] != 0].groupby('data_formatada')['pm10_nulos_no_dia'].first()\n",
        "\n",
        "# Plotar o histograma da contagem de valores nulos por dia\n",
        "plt.figure(figsize=(10,6))\n",
        "plt.hist(df_dias, bins=range(0, df_dias.max() + 2), edgecolor='black', align='left')\n",
        "plt.title(\"Histograma de Quantidade de Valores Vazios em 'pm10' por Dia\")\n",
        "plt.xlabel('Quantidade de valores vazios no dia')\n",
        "plt.ylabel('Número de dias')\n",
        "plt.xticks(range(0, df_dias.max() + 1))\n",
        "plt.grid(axis='y', alpha=0.75)\n",
        "plt.show()"
      ],
      "metadata": {
        "colab": {
          "base_uri": "https://localhost:8080/",
          "height": 564
        },
        "cellView": "form",
        "outputId": "4fe67dd5-c3af-4717-8b27-88af3e1e8a3a",
        "id": "wimZHi5oNz6I"
      },
      "execution_count": 66,
      "outputs": [
        {
          "output_type": "display_data",
          "data": {
            "text/plain": [
              "<Figure size 1000x600 with 1 Axes>"
            ],
            "image/png": "[encoded data removed]"
          },
          "metadata": {}
        }
      ]
    },
    {
      "cell_type": "code",
      "execution_count": 67,
      "metadata": {
        "colab": {
          "base_uri": "https://localhost:8080/"
        },
        "outputId": "e477fc37-de25-4353-919f-4f3bfd4dfee9",
        "cellView": "form",
        "id": "OA2D_-XPNz6I"
      },
      "outputs": [
        {
          "output_type": "stream",
          "name": "stdout",
          "text": [
            "460 linhas foram preenchidas com interpolate na coluna 'pm10'.\n",
            "Foram preenchido 22% de dados\n"
          ]
        }
      ],
      "source": [
        "#@title Preenchimento dos valores nulos utilizando a função interpolate (Preenchendo apenas os que tem menos de 7 linhas vazias por dia)\n",
        "\n",
        "mask = (df_sensor_tijuca['pm10_nulos_no_dia'] <= 6)\n",
        "\n",
        "num_nulls = df_sensor_tijuca[mask]['pm10'].isnull().sum()\n",
        "df_sensor_tijuca.loc[mask, 'pm10'] = df_sensor_tijuca[mask]['pm10'].interpolate()\n",
        "print(f\"{num_nulls} linhas foram preenchidas com interpolate na coluna 'pm10'.\")\n",
        "print(f\"Foram preenchido {round((num_nulls/valroes_vazio)*100)}% de dados\")"
      ]
    },
    {
      "cell_type": "code",
      "execution_count": 68,
      "metadata": {
        "colab": {
          "base_uri": "https://localhost:8080/",
          "height": 335
        },
        "outputId": "3689df3f-de41-4853-bc09-d2dd386470c1",
        "id": "KmM4M2pDNz6I"
      },
      "outputs": [
        {
          "output_type": "execute_result",
          "data": {
            "text/plain": [
              "count    67275.000000\n",
              "mean        32.807955\n",
              "std         18.788525\n",
              "min          0.000000\n",
              "25%         20.520000\n",
              "50%         29.110000\n",
              "75%         40.510000\n",
              "max        310.310000\n",
              "Name: pm10, dtype: float64"
            ],
            "text/html": [
              "<div>\n",
              "<style scoped>\n",
              "    .dataframe tbody tr th:only-of-type {\n",
              "        vertical-align: middle;\n",
              "    }\n",
              "\n",
              "    .dataframe tbody tr th {\n",
              "        vertical-align: top;\n",
              "    }\n",
              "\n",
              "    .dataframe thead th {\n",
              "        text-align: right;\n",
              "    }\n",
              "</style>\n",
              "<table border=\"1\" class=\"dataframe\">\n",
              "  <thead>\n",
              "    <tr style=\"text-align: right;\">\n",
              "      <th></th>\n",
              "      <th>pm10</th>\n",
              "    </tr>\n",
              "  </thead>\n",
              "  <tbody>\n",
              "    <tr>\n",
              "      <th>count</th>\n",
              "      <td>67275.000000</td>\n",
              "    </tr>\n",
              "    <tr>\n",
              "      <th>mean</th>\n",
              "      <td>32.807955</td>\n",
              "    </tr>\n",
              "    <tr>\n",
              "      <th>std</th>\n",
              "      <td>18.788525</td>\n",
              "    </tr>\n",
              "    <tr>\n",
              "      <th>min</th>\n",
              "      <td>0.000000</td>\n",
              "    </tr>\n",
              "    <tr>\n",
              "      <th>25%</th>\n",
              "      <td>20.520000</td>\n",
              "    </tr>\n",
              "    <tr>\n",
              "      <th>50%</th>\n",
              "      <td>29.110000</td>\n",
              "    </tr>\n",
              "    <tr>\n",
              "      <th>75%</th>\n",
              "      <td>40.510000</td>\n",
              "    </tr>\n",
              "    <tr>\n",
              "      <th>max</th>\n",
              "      <td>310.310000</td>\n",
              "    </tr>\n",
              "  </tbody>\n",
              "</table>\n",
              "</div><br><label><b>dtype:</b> float64</label>"
            ]
          },
          "metadata": {},
          "execution_count": 68
        }
      ],
      "source": [
        "df_sensor_tijuca['pm10'].describe()"
      ]
    },
    {
      "cell_type": "markdown",
      "source": [
        "# Gerando CSV de saída com a estação de Tijuca preenchida\n"
      ],
      "metadata": {
        "id": "ijWuiCIzOE1P"
      }
    },
    {
      "cell_type": "code",
      "source": [
        "droping_columns = ['chuva_nulos_no_dia', 'temp_nulos_no_dia', 'ur_nulos_no_dia', 'co_nulos_no_dia', 'no_nulos_no_dia', 'no2_nulos_no_dia', 'nox_nulos_no_dia', 'so2_nulos_no_dia', 'o3_nulos_no_dia', 'pm10_nulos_no_dia']\n",
        "\n",
        "df_sensor_tijuca.drop(columns=droping_columns, inplace=True)"
      ],
      "metadata": {
        "colab": {
          "base_uri": "https://localhost:8080/"
        },
        "id": "C2iFg6w9Qt9u",
        "outputId": "e2d3cd19-ac3e-4f72-931a-511828cf589b"
      },
      "execution_count": 69,
      "outputs": [
        {
          "output_type": "stream",
          "name": "stderr",
          "text": [
            "<ipython-input-69-0661f69e08f5>:3: SettingWithCopyWarning: \n",
            "A value is trying to be set on a copy of a slice from a DataFrame\n",
            "\n",
            "See the caveats in the documentation: https://pandas.pydata.org/pandas-docs/stable/user_guide/indexing.html#returning-a-view-versus-a-copy\n",
            "  df_sensor_tijuca.drop(columns=droping_columns, inplace=True)\n"
          ]
        }
      ]
    },
    {
      "cell_type": "code",
      "source": [
        "df_sensor_tijuca.to_csv('df_sensor_tijuca_preenchido.csv', index=False)"
      ],
      "metadata": {
        "id": "gfe-Z7ZsOOQO"
      },
      "execution_count": 70,
      "outputs": []
    }
  ]
}