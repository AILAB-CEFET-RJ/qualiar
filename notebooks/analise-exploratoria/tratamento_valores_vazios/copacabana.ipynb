{
  "nbformat": 4,
  "nbformat_minor": 0,
  "metadata": {
    "colab": {
      "provenance": []
    },
    "kernelspec": {
      "name": "python3",
      "display_name": "Python 3"
    },
    "language_info": {
      "name": "python"
    }
  },
  "cells": [
    {
      "cell_type": "markdown",
      "metadata": {
        "id": "FQyXpVbbCeRX"
      },
      "source": [
        "# Propósito\n",
        "\n",
        "Este notebook tem como objetivo realizar uma análise exploratória de algumas colunas de interesse das medições dos sensores de qualidade do ar.\n",
        "\n",
        "O principal objetivo será preencher alguns valores nulos utilizando a função interpolate()\n",
        "\n",
        "Mas para não enviesar muitos dados preencheremos apenas os valores em que a quantidade de valores nulas no dia semana menor que 7\n"
      ]
    },
    {
      "cell_type": "markdown",
      "metadata": {
        "id": "TTJ20DT1DZP4"
      },
      "source": [
        "# Importações"
      ]
    },
    {
      "cell_type": "code",
      "execution_count": 1,
      "metadata": {
        "id": "3IqV3pDuCcJq"
      },
      "outputs": [],
      "source": [
        "import pandas as pd\n",
        "import numpy as np\n",
        "import matplotlib.pyplot as plt\n",
        "import seaborn as sns\n",
        "from sklearn.linear_model import LinearRegression\n",
        "import scipy.stats as stats\n",
        "from scipy.stats import shapiro, anderson, boxcox, kstest, norm\n",
        "from scipy.special import boxcox1p\n",
        "from scipy import stats"
      ]
    },
    {
      "cell_type": "markdown",
      "metadata": {
        "id": "g4RXL-is5UgJ"
      },
      "source": [
        "# Consumindo bases"
      ]
    },
    {
      "cell_type": "code",
      "execution_count": 2,
      "metadata": {
        "id": "eyjEKJYpDhin"
      },
      "outputs": [],
      "source": [
        "url_sensor = '/content/drive/MyDrive/TCC/sensores-2011-2021/medicao-sensores.csv'\n",
        "\n",
        "df_sensor = pd.read_csv(url_sensor, sep=',')\n",
        "\n",
        "url_estacoes = '/content/drive/MyDrive/TCC/sensores-2011-2021/estacoes.csv'\n",
        "\n",
        "df_estacoes = pd.read_csv(url_estacoes, sep=',')"
      ]
    },
    {
      "cell_type": "code",
      "execution_count": 3,
      "metadata": {
        "colab": {
          "base_uri": "https://localhost:8080/"
        },
        "id": "I8DoZujMX7Hy",
        "outputId": "ff6ca1cc-d093-4bba-f0f5-b3b98d87d8b2"
      },
      "outputs": [
        {
          "output_type": "execute_result",
          "data": {
            "text/plain": [
              "Index(['objectid', 'data', 'codnum', 'estação', 'chuva', 'pres', 'rs', 'temp',\n",
              "       'ur', 'dir_vento', 'vel_vento', 'so2', 'no2', 'hcnm', 'hct', 'ch4',\n",
              "       'co', 'no', 'nox', 'o3', 'pm10', 'pm2_5', 'lat', 'lon',\n",
              "       'x_utm_sirgas2000', 'y_utm_sirgas2000'],\n",
              "      dtype='object')"
            ]
          },
          "metadata": {},
          "execution_count": 3
        }
      ],
      "source": [
        "df_sensor.columns"
      ]
    },
    {
      "cell_type": "markdown",
      "metadata": {
        "id": "-KWYSQmgDtki"
      },
      "source": [
        "# Pré-processamento"
      ]
    },
    {
      "cell_type": "markdown",
      "metadata": {
        "id": "q18psyhOH2hN"
      },
      "source": [
        "## Selecionando e criando colunas"
      ]
    },
    {
      "cell_type": "code",
      "execution_count": 4,
      "metadata": {
        "cellView": "form",
        "id": "m2M9yDEpXZHc"
      },
      "outputs": [],
      "source": [
        "#@title Criando coluna nome estacao com base na coluna codnum\n",
        "df_sensor['nome_estacao'] = df_sensor['codnum'].map(df_estacoes.set_index('codnum')['nome'])"
      ]
    },
    {
      "cell_type": "code",
      "execution_count": 5,
      "metadata": {
        "cellView": "form",
        "id": "A9QJxIqs5mRT"
      },
      "outputs": [],
      "source": [
        "#@title Selecionando as colunas mais relevantes\n",
        "interest_columns = ['nome_estacao', 'data', 'chuva', 'temp', 'ur', 'co', 'no', 'no2', 'nox', 'so2', 'o3', 'pm10', 'pm2_5']\n",
        "\n",
        "df_sensor_interest = df_sensor[interest_columns]"
      ]
    },
    {
      "cell_type": "code",
      "execution_count": 6,
      "metadata": {
        "cellView": "form",
        "colab": {
          "base_uri": "https://localhost:8080/"
        },
        "id": "08TM4o3W5mUB",
        "outputId": "917801b6-4c0e-409f-af2e-dab85a44e9c9"
      },
      "outputs": [
        {
          "output_type": "stream",
          "name": "stderr",
          "text": [
            "<ipython-input-6-f9a423e0dd73>:2: SettingWithCopyWarning: \n",
            "A value is trying to be set on a copy of a slice from a DataFrame.\n",
            "Try using .loc[row_indexer,col_indexer] = value instead\n",
            "\n",
            "See the caveats in the documentation: https://pandas.pydata.org/pandas-docs/stable/user_guide/indexing.html#returning-a-view-versus-a-copy\n",
            "  df_sensor_interest['data'] = pd.to_datetime(df_sensor_interest['data'], format='%Y/%m/%d %H:%M:%S+00')\n",
            "<ipython-input-6-f9a423e0dd73>:3: SettingWithCopyWarning: \n",
            "A value is trying to be set on a copy of a slice from a DataFrame.\n",
            "Try using .loc[row_indexer,col_indexer] = value instead\n",
            "\n",
            "See the caveats in the documentation: https://pandas.pydata.org/pandas-docs/stable/user_guide/indexing.html#returning-a-view-versus-a-copy\n",
            "  df_sensor_interest['data_formatada'] = pd.to_datetime(df_sensor_interest['data']).dt.strftime('%Y-%m-%d')\n",
            "<ipython-input-6-f9a423e0dd73>:4: SettingWithCopyWarning: \n",
            "A value is trying to be set on a copy of a slice from a DataFrame.\n",
            "Try using .loc[row_indexer,col_indexer] = value instead\n",
            "\n",
            "See the caveats in the documentation: https://pandas.pydata.org/pandas-docs/stable/user_guide/indexing.html#returning-a-view-versus-a-copy\n",
            "  df_sensor_interest['ano'] = df_sensor_interest['data'].dt.year\n",
            "<ipython-input-6-f9a423e0dd73>:5: SettingWithCopyWarning: \n",
            "A value is trying to be set on a copy of a slice from a DataFrame.\n",
            "Try using .loc[row_indexer,col_indexer] = value instead\n",
            "\n",
            "See the caveats in the documentation: https://pandas.pydata.org/pandas-docs/stable/user_guide/indexing.html#returning-a-view-versus-a-copy\n",
            "  df_sensor_interest['mes'] = df_sensor_interest['data'].dt.month\n"
          ]
        }
      ],
      "source": [
        "#@title Criando colunas de ano e mês para facilitar a análise temporal\n",
        "df_sensor_interest['data'] = pd.to_datetime(df_sensor_interest['data'], format='%Y/%m/%d %H:%M:%S+00')\n",
        "df_sensor_interest['data_formatada'] = pd.to_datetime(df_sensor_interest['data']).dt.strftime('%Y-%m-%d')\n",
        "df_sensor_interest['ano'] = df_sensor_interest['data'].dt.year\n",
        "df_sensor_interest['mes'] = df_sensor_interest['data'].dt.month"
      ]
    },
    {
      "cell_type": "code",
      "execution_count": 7,
      "metadata": {
        "cellView": "form",
        "id": "010BKMPF5mWa"
      },
      "outputs": [],
      "source": [
        "#@title Removendo ano de 2011 (Pela falta de alguns poluente) e anos da pandemia\n",
        "df_sensor_interest_filtered = df_sensor_interest[(df_sensor_interest['ano'] > 2011) & (df_sensor_interest['ano'] < 2020)]"
      ]
    },
    {
      "cell_type": "code",
      "execution_count": 8,
      "metadata": {
        "id": "_c6j_tgIdxeL"
      },
      "outputs": [],
      "source": [
        "#@title Filtrando por Copacabana\n",
        "df_sensor_copacabana = df_sensor_interest_filtered[df_sensor_interest_filtered['nome_estacao'] == 'ESTAÇÃO COPACABANA']"
      ]
    },
    {
      "cell_type": "markdown",
      "metadata": {
        "id": "gmWkUcmdIpux"
      },
      "source": [
        "# Tratando colunas de interesse por Estação de monitoriamento\n"
      ]
    },
    {
      "cell_type": "markdown",
      "metadata": {
        "id": "yLqNrnrAN4w-"
      },
      "source": [
        "## Estação Copacabana\n",
        "Colunas normalizadas: Chuva, Temperatura, Umidade relativa, CO, NO, NO2, NOx, SO2, O3, PM10"
      ]
    },
    {
      "cell_type": "markdown",
      "metadata": {
        "id": "9ymtlIMxOidV"
      },
      "source": [
        "### Chuva"
      ]
    },
    {
      "cell_type": "code",
      "execution_count": 9,
      "metadata": {
        "colab": {
          "base_uri": "https://localhost:8080/",
          "height": 335
        },
        "id": "24M_cJnzP4gK",
        "outputId": "36c22544-9a7e-446f-8f1b-cc378d6d73cc"
      },
      "outputs": [
        {
          "output_type": "execute_result",
          "data": {
            "text/plain": [
              "count    61677.000000\n",
              "mean         0.129487\n",
              "std          1.099963\n",
              "min          0.000000\n",
              "25%          0.000000\n",
              "50%          0.000000\n",
              "75%          0.000000\n",
              "max         56.200000\n",
              "Name: chuva, dtype: float64"
            ],
            "text/html": [
              "<div>\n",
              "<style scoped>\n",
              "    .dataframe tbody tr th:only-of-type {\n",
              "        vertical-align: middle;\n",
              "    }\n",
              "\n",
              "    .dataframe tbody tr th {\n",
              "        vertical-align: top;\n",
              "    }\n",
              "\n",
              "    .dataframe thead th {\n",
              "        text-align: right;\n",
              "    }\n",
              "</style>\n",
              "<table border=\"1\" class=\"dataframe\">\n",
              "  <thead>\n",
              "    <tr style=\"text-align: right;\">\n",
              "      <th></th>\n",
              "      <th>chuva</th>\n",
              "    </tr>\n",
              "  </thead>\n",
              "  <tbody>\n",
              "    <tr>\n",
              "      <th>count</th>\n",
              "      <td>61677.000000</td>\n",
              "    </tr>\n",
              "    <tr>\n",
              "      <th>mean</th>\n",
              "      <td>0.129487</td>\n",
              "    </tr>\n",
              "    <tr>\n",
              "      <th>std</th>\n",
              "      <td>1.099963</td>\n",
              "    </tr>\n",
              "    <tr>\n",
              "      <th>min</th>\n",
              "      <td>0.000000</td>\n",
              "    </tr>\n",
              "    <tr>\n",
              "      <th>25%</th>\n",
              "      <td>0.000000</td>\n",
              "    </tr>\n",
              "    <tr>\n",
              "      <th>50%</th>\n",
              "      <td>0.000000</td>\n",
              "    </tr>\n",
              "    <tr>\n",
              "      <th>75%</th>\n",
              "      <td>0.000000</td>\n",
              "    </tr>\n",
              "    <tr>\n",
              "      <th>max</th>\n",
              "      <td>56.200000</td>\n",
              "    </tr>\n",
              "  </tbody>\n",
              "</table>\n",
              "</div><br><label><b>dtype:</b> float64</label>"
            ]
          },
          "metadata": {},
          "execution_count": 9
        }
      ],
      "source": [
        "df_sensor_copacabana['chuva'].describe()"
      ]
    },
    {
      "cell_type": "code",
      "execution_count": 10,
      "metadata": {
        "colab": {
          "base_uri": "https://localhost:8080/"
        },
        "id": "Ntw7zXT0Q6zx",
        "outputId": "a04e0906-237c-42c0-9148-fd30ebccdf52",
        "cellView": "form"
      },
      "outputs": [
        {
          "output_type": "stream",
          "name": "stdout",
          "text": [
            "Quantidade de valores vazios: 6572\n"
          ]
        }
      ],
      "source": [
        "#@title Vendo quantidade de valores vazios\n",
        "\n",
        "valroes_vazio = df_sensor_copacabana[df_sensor_copacabana['chuva'].isnull()].groupby(['ano', 'mes']).size().sum()\n",
        "print(f\"Quantidade de valores vazios: {valroes_vazio}\")"
      ]
    },
    {
      "cell_type": "code",
      "execution_count": 11,
      "metadata": {
        "colab": {
          "base_uri": "https://localhost:8080/"
        },
        "id": "wfMEwBEEwJph",
        "outputId": "f80cf4b4-5bf9-4faa-c074-a8e5db953e86",
        "cellView": "form"
      },
      "outputs": [
        {
          "output_type": "stream",
          "name": "stderr",
          "text": [
            "<ipython-input-11-a528f6c4993e>:3: SettingWithCopyWarning: \n",
            "A value is trying to be set on a copy of a slice from a DataFrame.\n",
            "Try using .loc[row_indexer,col_indexer] = value instead\n",
            "\n",
            "See the caveats in the documentation: https://pandas.pydata.org/pandas-docs/stable/user_guide/indexing.html#returning-a-view-versus-a-copy\n",
            "  df_sensor_copacabana['chuva_nulos_no_dia'] = (\n"
          ]
        }
      ],
      "source": [
        "#@title Criando coluna que informa a quantidade de valores vazios por dia\n",
        "\n",
        "df_sensor_copacabana['chuva_nulos_no_dia'] = (\n",
        "    df_sensor_copacabana['chuva'].isnull()\n",
        "    .groupby(df_sensor_copacabana['data_formatada'])\n",
        "    .transform('sum')  # Soma os nulos por dia e repete o valor em todas as linhas do dia\n",
        ")"
      ]
    },
    {
      "cell_type": "code",
      "source": [
        "#@title Distribuição dos valores vazios\n",
        "\n",
        "# Seleciona uma única linha por dia, para evitar repetição\n",
        "df_dias = df_sensor_copacabana[df_sensor_copacabana['chuva_nulos_no_dia'] != 0].groupby('data_formatada')['chuva_nulos_no_dia'].first()\n",
        "\n",
        "# Plotar o histograma da contagem de valores nulos por dia\n",
        "plt.figure(figsize=(10,6))\n",
        "plt.hist(df_dias, bins=range(0, df_dias.max() + 2), edgecolor='black', align='left')\n",
        "plt.title('Histograma de Quantidade de Valores Vazios em \"chuva\" por Dia')\n",
        "plt.xlabel('Quantidade de valores vazios no dia')\n",
        "plt.ylabel('Número de dias')\n",
        "plt.xticks(range(0, df_dias.max() + 1))\n",
        "plt.grid(axis='y', alpha=0.75)\n",
        "plt.show()"
      ],
      "metadata": {
        "colab": {
          "base_uri": "https://localhost:8080/",
          "height": 564
        },
        "cellView": "form",
        "id": "jYMgiW_cHPBb",
        "outputId": "58dbd76e-a537-4fe3-96e2-14a97ffcbc19"
      },
      "execution_count": 12,
      "outputs": [
        {
          "output_type": "display_data",
          "data": {
            "text/plain": [
              "<Figure size 1000x600 with 1 Axes>"
            ],
            "image/png": "[encoded data removed]"
          },
          "metadata": {}
        }
      ]
    },
    {
      "cell_type": "code",
      "execution_count": 13,
      "metadata": {
        "colab": {
          "base_uri": "https://localhost:8080/"
        },
        "id": "CUSCMdfvRRAo",
        "outputId": "d25daf65-b2ae-417b-aece-52304cddcf23",
        "cellView": "form"
      },
      "outputs": [
        {
          "output_type": "stream",
          "name": "stdout",
          "text": [
            "60 linhas foram preenchidas com interpolate na coluna 'chuva'.\n",
            "Foram preenchido 1% de dados\n"
          ]
        }
      ],
      "source": [
        "#@title Preenchimento dos valores nulos utilizando a função interpolate (Preenchendo apenas os que tem menos de 7 linhas vazias)\n",
        "\n",
        "mask = (df_sensor_copacabana['chuva_nulos_no_dia'] <= 6)\n",
        "\n",
        "num_nulls = df_sensor_copacabana[mask]['chuva'].isnull().sum()\n",
        "df_sensor_copacabana.loc[mask, 'chuva'] = df_sensor_copacabana[mask]['chuva'].interpolate()\n",
        "print(f\"{num_nulls} linhas foram preenchidas com interpolate na coluna 'chuva'.\")\n",
        "print(f\"Foram preenchido {round((num_nulls/valroes_vazio)*100)}% de dados\")"
      ]
    },
    {
      "cell_type": "code",
      "execution_count": 14,
      "metadata": {
        "colab": {
          "base_uri": "https://localhost:8080/",
          "height": 335
        },
        "id": "97-NgrgDRt33",
        "outputId": "5a15010a-364c-483f-dcd9-f4463e78318c"
      },
      "outputs": [
        {
          "output_type": "execute_result",
          "data": {
            "text/plain": [
              "count    61737.000000\n",
              "mean         0.129663\n",
              "std          1.100627\n",
              "min          0.000000\n",
              "25%          0.000000\n",
              "50%          0.000000\n",
              "75%          0.000000\n",
              "max         56.200000\n",
              "Name: chuva, dtype: float64"
            ],
            "text/html": [
              "<div>\n",
              "<style scoped>\n",
              "    .dataframe tbody tr th:only-of-type {\n",
              "        vertical-align: middle;\n",
              "    }\n",
              "\n",
              "    .dataframe tbody tr th {\n",
              "        vertical-align: top;\n",
              "    }\n",
              "\n",
              "    .dataframe thead th {\n",
              "        text-align: right;\n",
              "    }\n",
              "</style>\n",
              "<table border=\"1\" class=\"dataframe\">\n",
              "  <thead>\n",
              "    <tr style=\"text-align: right;\">\n",
              "      <th></th>\n",
              "      <th>chuva</th>\n",
              "    </tr>\n",
              "  </thead>\n",
              "  <tbody>\n",
              "    <tr>\n",
              "      <th>count</th>\n",
              "      <td>61737.000000</td>\n",
              "    </tr>\n",
              "    <tr>\n",
              "      <th>mean</th>\n",
              "      <td>0.129663</td>\n",
              "    </tr>\n",
              "    <tr>\n",
              "      <th>std</th>\n",
              "      <td>1.100627</td>\n",
              "    </tr>\n",
              "    <tr>\n",
              "      <th>min</th>\n",
              "      <td>0.000000</td>\n",
              "    </tr>\n",
              "    <tr>\n",
              "      <th>25%</th>\n",
              "      <td>0.000000</td>\n",
              "    </tr>\n",
              "    <tr>\n",
              "      <th>50%</th>\n",
              "      <td>0.000000</td>\n",
              "    </tr>\n",
              "    <tr>\n",
              "      <th>75%</th>\n",
              "      <td>0.000000</td>\n",
              "    </tr>\n",
              "    <tr>\n",
              "      <th>max</th>\n",
              "      <td>56.200000</td>\n",
              "    </tr>\n",
              "  </tbody>\n",
              "</table>\n",
              "</div><br><label><b>dtype:</b> float64</label>"
            ]
          },
          "metadata": {},
          "execution_count": 14
        }
      ],
      "source": [
        "df_sensor_copacabana['chuva'].describe()"
      ]
    },
    {
      "cell_type": "markdown",
      "metadata": {
        "id": "1XA1vvw_JYeW"
      },
      "source": [
        "### Temperatura"
      ]
    },
    {
      "cell_type": "code",
      "execution_count": 15,
      "metadata": {
        "colab": {
          "base_uri": "https://localhost:8080/",
          "height": 335
        },
        "outputId": "58c0ff4b-943f-48ba-db51-8474c6e71704",
        "id": "_9XmZnxbJYeW"
      },
      "outputs": [
        {
          "output_type": "execute_result",
          "data": {
            "text/plain": [
              "count    55366.000000\n",
              "mean        25.438041\n",
              "std          4.084230\n",
              "min         15.170000\n",
              "25%         22.500000\n",
              "50%         24.970000\n",
              "75%         27.750000\n",
              "max         42.620000\n",
              "Name: temp, dtype: float64"
            ],
            "text/html": [
              "<div>\n",
              "<style scoped>\n",
              "    .dataframe tbody tr th:only-of-type {\n",
              "        vertical-align: middle;\n",
              "    }\n",
              "\n",
              "    .dataframe tbody tr th {\n",
              "        vertical-align: top;\n",
              "    }\n",
              "\n",
              "    .dataframe thead th {\n",
              "        text-align: right;\n",
              "    }\n",
              "</style>\n",
              "<table border=\"1\" class=\"dataframe\">\n",
              "  <thead>\n",
              "    <tr style=\"text-align: right;\">\n",
              "      <th></th>\n",
              "      <th>temp</th>\n",
              "    </tr>\n",
              "  </thead>\n",
              "  <tbody>\n",
              "    <tr>\n",
              "      <th>count</th>\n",
              "      <td>55366.000000</td>\n",
              "    </tr>\n",
              "    <tr>\n",
              "      <th>mean</th>\n",
              "      <td>25.438041</td>\n",
              "    </tr>\n",
              "    <tr>\n",
              "      <th>std</th>\n",
              "      <td>4.084230</td>\n",
              "    </tr>\n",
              "    <tr>\n",
              "      <th>min</th>\n",
              "      <td>15.170000</td>\n",
              "    </tr>\n",
              "    <tr>\n",
              "      <th>25%</th>\n",
              "      <td>22.500000</td>\n",
              "    </tr>\n",
              "    <tr>\n",
              "      <th>50%</th>\n",
              "      <td>24.970000</td>\n",
              "    </tr>\n",
              "    <tr>\n",
              "      <th>75%</th>\n",
              "      <td>27.750000</td>\n",
              "    </tr>\n",
              "    <tr>\n",
              "      <th>max</th>\n",
              "      <td>42.620000</td>\n",
              "    </tr>\n",
              "  </tbody>\n",
              "</table>\n",
              "</div><br><label><b>dtype:</b> float64</label>"
            ]
          },
          "metadata": {},
          "execution_count": 15
        }
      ],
      "source": [
        "df_sensor_copacabana['temp'].describe()"
      ]
    },
    {
      "cell_type": "code",
      "execution_count": 16,
      "metadata": {
        "colab": {
          "base_uri": "https://localhost:8080/"
        },
        "outputId": "372045f1-7466-45d1-d17c-2c2ca0546058",
        "cellView": "form",
        "id": "YEPrxSuZJYeX"
      },
      "outputs": [
        {
          "output_type": "stream",
          "name": "stdout",
          "text": [
            "Quantidade de valores vazios: 12883\n"
          ]
        }
      ],
      "source": [
        "#@title Vendo quantidade de valores vazios\n",
        "\n",
        "valroes_vazio = df_sensor_copacabana[df_sensor_copacabana['temp'].isnull()].groupby(['ano', 'mes']).size().sum()\n",
        "print(f\"Quantidade de valores vazios: {valroes_vazio}\")"
      ]
    },
    {
      "cell_type": "code",
      "execution_count": 17,
      "metadata": {
        "colab": {
          "base_uri": "https://localhost:8080/"
        },
        "outputId": "0dffcc25-9404-406a-d7bf-a6b51ae03778",
        "cellView": "form",
        "id": "N0LIJac7JYeX"
      },
      "outputs": [
        {
          "output_type": "stream",
          "name": "stderr",
          "text": [
            "<ipython-input-17-c6ee2fadce47>:3: SettingWithCopyWarning: \n",
            "A value is trying to be set on a copy of a slice from a DataFrame.\n",
            "Try using .loc[row_indexer,col_indexer] = value instead\n",
            "\n",
            "See the caveats in the documentation: https://pandas.pydata.org/pandas-docs/stable/user_guide/indexing.html#returning-a-view-versus-a-copy\n",
            "  df_sensor_copacabana['temp_nulos_no_dia'] = (\n"
          ]
        }
      ],
      "source": [
        "#@title Criando coluna que informa a quantidade de valores vazios por dia\n",
        "\n",
        "df_sensor_copacabana['temp_nulos_no_dia'] = (\n",
        "    df_sensor_copacabana['temp'].isnull()\n",
        "    .groupby(df_sensor_copacabana['data_formatada'])\n",
        "    .transform('sum')  # Soma os nulos por dia e repete o valor em todas as linhas do dia\n",
        ")"
      ]
    },
    {
      "cell_type": "code",
      "source": [
        "#@title Distribuição dos valores vazios\n",
        "\n",
        "# Seleciona uma única linha por dia, para evitar repetição\n",
        "df_dias = df_sensor_copacabana[df_sensor_copacabana['temp_nulos_no_dia'] != 0].groupby('data_formatada')['temp_nulos_no_dia'].first()\n",
        "\n",
        "# Plotar o histograma da contagem de valores nulos por dia\n",
        "plt.figure(figsize=(10,6))\n",
        "plt.hist(df_dias, bins=range(0, df_dias.max() + 2), edgecolor='black', align='left')\n",
        "plt.title('Histograma de Quantidade de Valores Vazios em \"temp\" por Dia')\n",
        "plt.xlabel('Quantidade de valores vazios no dia')\n",
        "plt.ylabel('Número de dias')\n",
        "plt.xticks(range(0, df_dias.max() + 1))\n",
        "plt.grid(axis='y', alpha=0.75)\n",
        "plt.show()"
      ],
      "metadata": {
        "colab": {
          "base_uri": "https://localhost:8080/",
          "height": 564
        },
        "cellView": "form",
        "outputId": "ec210eff-d8f6-47d2-b735-7e6e354dc641",
        "id": "H54zUgYSJYeY"
      },
      "execution_count": 18,
      "outputs": [
        {
          "output_type": "display_data",
          "data": {
            "text/plain": [
              "<Figure size 1000x600 with 1 Axes>"
            ],
            "image/png": "[encoded data removed]"
          },
          "metadata": {}
        }
      ]
    },
    {
      "cell_type": "code",
      "execution_count": 19,
      "metadata": {
        "colab": {
          "base_uri": "https://localhost:8080/"
        },
        "outputId": "c76b997a-2ada-441c-e219-5952f1cf2897",
        "id": "2sCGqFWvJYeY",
        "cellView": "form"
      },
      "outputs": [
        {
          "output_type": "stream",
          "name": "stdout",
          "text": [
            "117 linhas foram preenchidas com interpolate na coluna 'temp'.\n",
            "Foram preenchido 1% de dados\n"
          ]
        }
      ],
      "source": [
        "#@title Preenchimento dos valores nulos utilizando a função interpolate (Preenchendo apenas os que tem menos de 7 linhas vazias por dia)\n",
        "\n",
        "mask = (df_sensor_copacabana['temp_nulos_no_dia'] <= 6)\n",
        "\n",
        "num_nulls = df_sensor_copacabana[mask]['temp'].isnull().sum()\n",
        "df_sensor_copacabana.loc[mask, 'temp'] = df_sensor_copacabana[mask]['temp'].interpolate()\n",
        "print(f\"{num_nulls} linhas foram preenchidas com interpolate na coluna 'temp'.\")\n",
        "print(f\"Foram preenchido {round((num_nulls/valroes_vazio)*100)}% de dados\")"
      ]
    },
    {
      "cell_type": "code",
      "execution_count": 20,
      "metadata": {
        "colab": {
          "base_uri": "https://localhost:8080/",
          "height": 335
        },
        "outputId": "da278771-312c-4ca8-8c2e-d69a4bc2f016",
        "id": "2KWSCe6RJYeY"
      },
      "outputs": [
        {
          "output_type": "execute_result",
          "data": {
            "text/plain": [
              "count    55483.000000\n",
              "mean        25.441105\n",
              "std          4.085630\n",
              "min         15.170000\n",
              "25%         22.500000\n",
              "50%         24.970000\n",
              "75%         27.750000\n",
              "max         42.620000\n",
              "Name: temp, dtype: float64"
            ],
            "text/html": [
              "<div>\n",
              "<style scoped>\n",
              "    .dataframe tbody tr th:only-of-type {\n",
              "        vertical-align: middle;\n",
              "    }\n",
              "\n",
              "    .dataframe tbody tr th {\n",
              "        vertical-align: top;\n",
              "    }\n",
              "\n",
              "    .dataframe thead th {\n",
              "        text-align: right;\n",
              "    }\n",
              "</style>\n",
              "<table border=\"1\" class=\"dataframe\">\n",
              "  <thead>\n",
              "    <tr style=\"text-align: right;\">\n",
              "      <th></th>\n",
              "      <th>temp</th>\n",
              "    </tr>\n",
              "  </thead>\n",
              "  <tbody>\n",
              "    <tr>\n",
              "      <th>count</th>\n",
              "      <td>55483.000000</td>\n",
              "    </tr>\n",
              "    <tr>\n",
              "      <th>mean</th>\n",
              "      <td>25.441105</td>\n",
              "    </tr>\n",
              "    <tr>\n",
              "      <th>std</th>\n",
              "      <td>4.085630</td>\n",
              "    </tr>\n",
              "    <tr>\n",
              "      <th>min</th>\n",
              "      <td>15.170000</td>\n",
              "    </tr>\n",
              "    <tr>\n",
              "      <th>25%</th>\n",
              "      <td>22.500000</td>\n",
              "    </tr>\n",
              "    <tr>\n",
              "      <th>50%</th>\n",
              "      <td>24.970000</td>\n",
              "    </tr>\n",
              "    <tr>\n",
              "      <th>75%</th>\n",
              "      <td>27.750000</td>\n",
              "    </tr>\n",
              "    <tr>\n",
              "      <th>max</th>\n",
              "      <td>42.620000</td>\n",
              "    </tr>\n",
              "  </tbody>\n",
              "</table>\n",
              "</div><br><label><b>dtype:</b> float64</label>"
            ]
          },
          "metadata": {},
          "execution_count": 20
        }
      ],
      "source": [
        "df_sensor_copacabana['temp'].describe()"
      ]
    },
    {
      "cell_type": "markdown",
      "metadata": {
        "id": "Kw4EN6nOJ7wi"
      },
      "source": [
        "### Umidade relativa"
      ]
    },
    {
      "cell_type": "code",
      "execution_count": 21,
      "metadata": {
        "colab": {
          "base_uri": "https://localhost:8080/",
          "height": 335
        },
        "outputId": "d785a6cc-ac76-445c-c0ea-d9ecbf63d89d",
        "id": "Zh2KIpc2J7wj"
      },
      "outputs": [
        {
          "output_type": "execute_result",
          "data": {
            "text/plain": [
              "count    55094.000000\n",
              "mean        72.704845\n",
              "std         14.224118\n",
              "min         19.160000\n",
              "25%         63.620000\n",
              "50%         74.350000\n",
              "75%         83.370000\n",
              "max        100.000000\n",
              "Name: ur, dtype: float64"
            ],
            "text/html": [
              "<div>\n",
              "<style scoped>\n",
              "    .dataframe tbody tr th:only-of-type {\n",
              "        vertical-align: middle;\n",
              "    }\n",
              "\n",
              "    .dataframe tbody tr th {\n",
              "        vertical-align: top;\n",
              "    }\n",
              "\n",
              "    .dataframe thead th {\n",
              "        text-align: right;\n",
              "    }\n",
              "</style>\n",
              "<table border=\"1\" class=\"dataframe\">\n",
              "  <thead>\n",
              "    <tr style=\"text-align: right;\">\n",
              "      <th></th>\n",
              "      <th>ur</th>\n",
              "    </tr>\n",
              "  </thead>\n",
              "  <tbody>\n",
              "    <tr>\n",
              "      <th>count</th>\n",
              "      <td>55094.000000</td>\n",
              "    </tr>\n",
              "    <tr>\n",
              "      <th>mean</th>\n",
              "      <td>72.704845</td>\n",
              "    </tr>\n",
              "    <tr>\n",
              "      <th>std</th>\n",
              "      <td>14.224118</td>\n",
              "    </tr>\n",
              "    <tr>\n",
              "      <th>min</th>\n",
              "      <td>19.160000</td>\n",
              "    </tr>\n",
              "    <tr>\n",
              "      <th>25%</th>\n",
              "      <td>63.620000</td>\n",
              "    </tr>\n",
              "    <tr>\n",
              "      <th>50%</th>\n",
              "      <td>74.350000</td>\n",
              "    </tr>\n",
              "    <tr>\n",
              "      <th>75%</th>\n",
              "      <td>83.370000</td>\n",
              "    </tr>\n",
              "    <tr>\n",
              "      <th>max</th>\n",
              "      <td>100.000000</td>\n",
              "    </tr>\n",
              "  </tbody>\n",
              "</table>\n",
              "</div><br><label><b>dtype:</b> float64</label>"
            ]
          },
          "metadata": {},
          "execution_count": 21
        }
      ],
      "source": [
        "df_sensor_copacabana['ur'].describe()"
      ]
    },
    {
      "cell_type": "code",
      "execution_count": 22,
      "metadata": {
        "colab": {
          "base_uri": "https://localhost:8080/"
        },
        "outputId": "9999e63d-da81-406e-bd36-f7e3b429e63c",
        "cellView": "form",
        "id": "p6gLkSsQJ7wk"
      },
      "outputs": [
        {
          "output_type": "stream",
          "name": "stdout",
          "text": [
            "Quantidade de valores vazios: 13155\n"
          ]
        }
      ],
      "source": [
        "#@title Vendo quantidade de valores vazios\n",
        "\n",
        "valroes_vazio = df_sensor_copacabana[df_sensor_copacabana['ur'].isnull()].groupby(['ano', 'mes']).size().sum()\n",
        "print(f\"Quantidade de valores vazios: {valroes_vazio}\")"
      ]
    },
    {
      "cell_type": "code",
      "execution_count": 23,
      "metadata": {
        "colab": {
          "base_uri": "https://localhost:8080/"
        },
        "outputId": "aa521be7-c37b-4698-e308-70107c61e8ae",
        "cellView": "form",
        "id": "p6USmMKRJ7wk"
      },
      "outputs": [
        {
          "output_type": "stream",
          "name": "stderr",
          "text": [
            "<ipython-input-23-ec2abf9012f3>:3: SettingWithCopyWarning: \n",
            "A value is trying to be set on a copy of a slice from a DataFrame.\n",
            "Try using .loc[row_indexer,col_indexer] = value instead\n",
            "\n",
            "See the caveats in the documentation: https://pandas.pydata.org/pandas-docs/stable/user_guide/indexing.html#returning-a-view-versus-a-copy\n",
            "  df_sensor_copacabana['ur_nulos_no_dia'] = (\n"
          ]
        }
      ],
      "source": [
        "#@title Criando coluna que informa a quantidade de valores vazios por dia\n",
        "\n",
        "df_sensor_copacabana['ur_nulos_no_dia'] = (\n",
        "    df_sensor_copacabana['ur'].isnull()\n",
        "    .groupby(df_sensor_copacabana['data_formatada'])\n",
        "    .transform('sum')  # Soma os nulos por dia e repete o valor em todas as linhas do dia\n",
        ")"
      ]
    },
    {
      "cell_type": "code",
      "source": [
        "#@title Distribuição dos valores vazios\n",
        "\n",
        "# Seleciona uma única linha por dia, para evitar repetição\n",
        "df_dias = df_sensor_copacabana[df_sensor_copacabana['ur_nulos_no_dia'] != 0].groupby('data_formatada')['ur_nulos_no_dia'].first()\n",
        "\n",
        "# Plotar o histograma da contagem de valores nulos por dia\n",
        "plt.figure(figsize=(10,6))\n",
        "plt.hist(df_dias, bins=range(0, df_dias.max() + 2), edgecolor='black', align='left')\n",
        "plt.title('Histograma de Quantidade de Valores Vazios em \"ur\" por Dia')\n",
        "plt.xlabel('Quantidade de valores vazios no dia')\n",
        "plt.ylabel('Número de dias')\n",
        "plt.xticks(range(0, df_dias.max() + 1))\n",
        "plt.grid(axis='y', alpha=0.75)\n",
        "plt.show()"
      ],
      "metadata": {
        "colab": {
          "base_uri": "https://localhost:8080/",
          "height": 564
        },
        "cellView": "form",
        "outputId": "5f9c523a-6ce4-415f-e9cf-6382a528bffe",
        "id": "eq-mDiJGJ7wk"
      },
      "execution_count": 24,
      "outputs": [
        {
          "output_type": "display_data",
          "data": {
            "text/plain": [
              "<Figure size 1000x600 with 1 Axes>"
            ],
            "image/png": "[encoded data removed]"
          },
          "metadata": {}
        }
      ]
    },
    {
      "cell_type": "code",
      "execution_count": 25,
      "metadata": {
        "colab": {
          "base_uri": "https://localhost:8080/"
        },
        "outputId": "a7cc8485-868f-4ed5-c733-baf0dc7bdcac",
        "cellView": "form",
        "id": "wwI_91-_J7wk"
      },
      "outputs": [
        {
          "output_type": "stream",
          "name": "stdout",
          "text": [
            "183 linhas foram preenchidas com interpolate na coluna 'ur'.\n",
            "Foram preenchido 1% de dados\n"
          ]
        }
      ],
      "source": [
        "#@title Preenchimento dos valores nulos utilizando a função interpolate (Preenchendo apenas os que tem menos de 7 linhas vazias por dia)\n",
        "\n",
        "mask = (df_sensor_copacabana['ur_nulos_no_dia'] <= 6)\n",
        "\n",
        "num_nulls = df_sensor_copacabana[mask]['ur'].isnull().sum()\n",
        "df_sensor_copacabana.loc[mask, 'ur'] = df_sensor_copacabana[mask]['ur'].interpolate()\n",
        "print(f\"{num_nulls} linhas foram preenchidas com interpolate na coluna 'ur'.\")\n",
        "print(f\"Foram preenchido {round((num_nulls/valroes_vazio)*100)}% de dados\")"
      ]
    },
    {
      "cell_type": "code",
      "execution_count": 26,
      "metadata": {
        "colab": {
          "base_uri": "https://localhost:8080/",
          "height": 335
        },
        "outputId": "29f007b0-4e21-478f-96f5-2acba5572e7e",
        "id": "pgz04UK9J7wl"
      },
      "outputs": [
        {
          "output_type": "execute_result",
          "data": {
            "text/plain": [
              "count    55277.000000\n",
              "mean        72.712797\n",
              "std         14.240088\n",
              "min         19.160000\n",
              "25%         63.620000\n",
              "50%         74.350000\n",
              "75%         83.380000\n",
              "max        100.000000\n",
              "Name: ur, dtype: float64"
            ],
            "text/html": [
              "<div>\n",
              "<style scoped>\n",
              "    .dataframe tbody tr th:only-of-type {\n",
              "        vertical-align: middle;\n",
              "    }\n",
              "\n",
              "    .dataframe tbody tr th {\n",
              "        vertical-align: top;\n",
              "    }\n",
              "\n",
              "    .dataframe thead th {\n",
              "        text-align: right;\n",
              "    }\n",
              "</style>\n",
              "<table border=\"1\" class=\"dataframe\">\n",
              "  <thead>\n",
              "    <tr style=\"text-align: right;\">\n",
              "      <th></th>\n",
              "      <th>ur</th>\n",
              "    </tr>\n",
              "  </thead>\n",
              "  <tbody>\n",
              "    <tr>\n",
              "      <th>count</th>\n",
              "      <td>55277.000000</td>\n",
              "    </tr>\n",
              "    <tr>\n",
              "      <th>mean</th>\n",
              "      <td>72.712797</td>\n",
              "    </tr>\n",
              "    <tr>\n",
              "      <th>std</th>\n",
              "      <td>14.240088</td>\n",
              "    </tr>\n",
              "    <tr>\n",
              "      <th>min</th>\n",
              "      <td>19.160000</td>\n",
              "    </tr>\n",
              "    <tr>\n",
              "      <th>25%</th>\n",
              "      <td>63.620000</td>\n",
              "    </tr>\n",
              "    <tr>\n",
              "      <th>50%</th>\n",
              "      <td>74.350000</td>\n",
              "    </tr>\n",
              "    <tr>\n",
              "      <th>75%</th>\n",
              "      <td>83.380000</td>\n",
              "    </tr>\n",
              "    <tr>\n",
              "      <th>max</th>\n",
              "      <td>100.000000</td>\n",
              "    </tr>\n",
              "  </tbody>\n",
              "</table>\n",
              "</div><br><label><b>dtype:</b> float64</label>"
            ]
          },
          "metadata": {},
          "execution_count": 26
        }
      ],
      "source": [
        "df_sensor_copacabana['ur'].describe()"
      ]
    },
    {
      "cell_type": "markdown",
      "metadata": {
        "id": "CCC7VEL1KuH4"
      },
      "source": [
        "### Monóxido de carbono"
      ]
    },
    {
      "cell_type": "code",
      "execution_count": 27,
      "metadata": {
        "colab": {
          "base_uri": "https://localhost:8080/",
          "height": 335
        },
        "outputId": "30af0255-b07b-423d-8b22-6894b903c81d",
        "id": "9dpfUCUfKuH4"
      },
      "outputs": [
        {
          "output_type": "execute_result",
          "data": {
            "text/plain": [
              "count    66181.000000\n",
              "mean         0.141786\n",
              "std          0.202320\n",
              "min          0.000000\n",
              "25%          0.030000\n",
              "50%          0.070000\n",
              "75%          0.170000\n",
              "max          3.080000\n",
              "Name: co, dtype: float64"
            ],
            "text/html": [
              "<div>\n",
              "<style scoped>\n",
              "    .dataframe tbody tr th:only-of-type {\n",
              "        vertical-align: middle;\n",
              "    }\n",
              "\n",
              "    .dataframe tbody tr th {\n",
              "        vertical-align: top;\n",
              "    }\n",
              "\n",
              "    .dataframe thead th {\n",
              "        text-align: right;\n",
              "    }\n",
              "</style>\n",
              "<table border=\"1\" class=\"dataframe\">\n",
              "  <thead>\n",
              "    <tr style=\"text-align: right;\">\n",
              "      <th></th>\n",
              "      <th>co</th>\n",
              "    </tr>\n",
              "  </thead>\n",
              "  <tbody>\n",
              "    <tr>\n",
              "      <th>count</th>\n",
              "      <td>66181.000000</td>\n",
              "    </tr>\n",
              "    <tr>\n",
              "      <th>mean</th>\n",
              "      <td>0.141786</td>\n",
              "    </tr>\n",
              "    <tr>\n",
              "      <th>std</th>\n",
              "      <td>0.202320</td>\n",
              "    </tr>\n",
              "    <tr>\n",
              "      <th>min</th>\n",
              "      <td>0.000000</td>\n",
              "    </tr>\n",
              "    <tr>\n",
              "      <th>25%</th>\n",
              "      <td>0.030000</td>\n",
              "    </tr>\n",
              "    <tr>\n",
              "      <th>50%</th>\n",
              "      <td>0.070000</td>\n",
              "    </tr>\n",
              "    <tr>\n",
              "      <th>75%</th>\n",
              "      <td>0.170000</td>\n",
              "    </tr>\n",
              "    <tr>\n",
              "      <th>max</th>\n",
              "      <td>3.080000</td>\n",
              "    </tr>\n",
              "  </tbody>\n",
              "</table>\n",
              "</div><br><label><b>dtype:</b> float64</label>"
            ]
          },
          "metadata": {},
          "execution_count": 27
        }
      ],
      "source": [
        "df_sensor_copacabana['co'].describe()"
      ]
    },
    {
      "cell_type": "code",
      "execution_count": 28,
      "metadata": {
        "colab": {
          "base_uri": "https://localhost:8080/"
        },
        "outputId": "cefafcd9-c5ea-434f-e5cf-9ce230bff7b4",
        "cellView": "form",
        "id": "Iph6vPoHKuH5"
      },
      "outputs": [
        {
          "output_type": "stream",
          "name": "stdout",
          "text": [
            "Quantidade de valores vazios: 2068\n"
          ]
        }
      ],
      "source": [
        "#@title Vendo quantidade de valores vazios\n",
        "\n",
        "valroes_vazio = df_sensor_copacabana[df_sensor_copacabana['co'].isnull()].groupby(['ano', 'mes']).size().sum()\n",
        "print(f\"Quantidade de valores vazios: {valroes_vazio}\")"
      ]
    },
    {
      "cell_type": "code",
      "execution_count": 29,
      "metadata": {
        "colab": {
          "base_uri": "https://localhost:8080/"
        },
        "outputId": "a190629c-c8d6-4fb6-d31c-1a8066eb40e7",
        "cellView": "form",
        "id": "NnwrJ1lqKuH5"
      },
      "outputs": [
        {
          "output_type": "stream",
          "name": "stderr",
          "text": [
            "<ipython-input-29-dadc65aea93f>:3: SettingWithCopyWarning: \n",
            "A value is trying to be set on a copy of a slice from a DataFrame.\n",
            "Try using .loc[row_indexer,col_indexer] = value instead\n",
            "\n",
            "See the caveats in the documentation: https://pandas.pydata.org/pandas-docs/stable/user_guide/indexing.html#returning-a-view-versus-a-copy\n",
            "  df_sensor_copacabana['co_nulos_no_dia'] = (\n"
          ]
        }
      ],
      "source": [
        "#@title Criando coluna que informa a quantidade de valores vazios por dia\n",
        "\n",
        "df_sensor_copacabana['co_nulos_no_dia'] = (\n",
        "    df_sensor_copacabana['co'].isnull()\n",
        "    .groupby(df_sensor_copacabana['data_formatada'])\n",
        "    .transform('sum')  # Soma os nulos por dia e repete o valor em todas as linhas do dia\n",
        ")"
      ]
    },
    {
      "cell_type": "code",
      "source": [
        "#@title Distribuição dos valores vazios\n",
        "\n",
        "# Seleciona uma única linha por dia, para evitar repetição\n",
        "df_dias = df_sensor_copacabana[df_sensor_copacabana['co_nulos_no_dia'] != 0].groupby('data_formatada')['co_nulos_no_dia'].first()\n",
        "\n",
        "# Plotar o histograma da contagem de valores nulos por dia\n",
        "plt.figure(figsize=(10,6))\n",
        "plt.hist(df_dias, bins=range(0, df_dias.max() + 2), edgecolor='black', align='left')\n",
        "plt.title(\"Histograma de Quantidade de Valores Vazios em 'co' por Dia\")\n",
        "plt.xlabel('Quantidade de valores vazios no dia')\n",
        "plt.ylabel('Número de dias')\n",
        "plt.xticks(range(0, df_dias.max() + 1))\n",
        "plt.grid(axis='y', alpha=0.75)\n",
        "plt.show()"
      ],
      "metadata": {
        "colab": {
          "base_uri": "https://localhost:8080/",
          "height": 564
        },
        "cellView": "form",
        "outputId": "4d2bf344-8a7f-4c79-cea4-60b947cb1858",
        "id": "2-VMGpsdKuH5"
      },
      "execution_count": 30,
      "outputs": [
        {
          "output_type": "display_data",
          "data": {
            "text/plain": [
              "<Figure size 1000x600 with 1 Axes>"
            ],
            "image/png": "[encoded data removed]"
          },
          "metadata": {}
        }
      ]
    },
    {
      "cell_type": "code",
      "execution_count": 31,
      "metadata": {
        "colab": {
          "base_uri": "https://localhost:8080/"
        },
        "outputId": "9ec8c07d-c7cb-413e-e887-2d101a239caf",
        "cellView": "form",
        "id": "OZOmu7J9KuH5"
      },
      "outputs": [
        {
          "output_type": "stream",
          "name": "stdout",
          "text": [
            "729 linhas foram preenchidas com interpolate na coluna 'co'.\n",
            "Foram preenchido 35% de dados\n"
          ]
        }
      ],
      "source": [
        "#@title Preenchimento dos valores nulos utilizando a função interpolate (Preenchendo apenas os que tem menos de 7 linhas vazias por dia)\n",
        "\n",
        "mask = (df_sensor_copacabana['co_nulos_no_dia'] <= 6)\n",
        "\n",
        "num_nulls = df_sensor_copacabana[mask]['co'].isnull().sum()\n",
        "df_sensor_copacabana.loc[mask, 'co'] = df_sensor_copacabana[mask]['co'].interpolate()\n",
        "print(f\"{num_nulls} linhas foram preenchidas com interpolate na coluna 'co'.\")\n",
        "print(f\"Foram preenchido {round((num_nulls/valroes_vazio)*100)}% de dados\")"
      ]
    },
    {
      "cell_type": "code",
      "execution_count": 32,
      "metadata": {
        "colab": {
          "base_uri": "https://localhost:8080/",
          "height": 335
        },
        "outputId": "a8813e05-6a04-43b2-bbde-3a7e24255866",
        "id": "1j_2t8uiKuH5"
      },
      "outputs": [
        {
          "output_type": "execute_result",
          "data": {
            "text/plain": [
              "count    66910.000000\n",
              "mean         0.142075\n",
              "std          0.202391\n",
              "min          0.000000\n",
              "25%          0.030000\n",
              "50%          0.070000\n",
              "75%          0.170000\n",
              "max          3.080000\n",
              "Name: co, dtype: float64"
            ],
            "text/html": [
              "<div>\n",
              "<style scoped>\n",
              "    .dataframe tbody tr th:only-of-type {\n",
              "        vertical-align: middle;\n",
              "    }\n",
              "\n",
              "    .dataframe tbody tr th {\n",
              "        vertical-align: top;\n",
              "    }\n",
              "\n",
              "    .dataframe thead th {\n",
              "        text-align: right;\n",
              "    }\n",
              "</style>\n",
              "<table border=\"1\" class=\"dataframe\">\n",
              "  <thead>\n",
              "    <tr style=\"text-align: right;\">\n",
              "      <th></th>\n",
              "      <th>co</th>\n",
              "    </tr>\n",
              "  </thead>\n",
              "  <tbody>\n",
              "    <tr>\n",
              "      <th>count</th>\n",
              "      <td>66910.000000</td>\n",
              "    </tr>\n",
              "    <tr>\n",
              "      <th>mean</th>\n",
              "      <td>0.142075</td>\n",
              "    </tr>\n",
              "    <tr>\n",
              "      <th>std</th>\n",
              "      <td>0.202391</td>\n",
              "    </tr>\n",
              "    <tr>\n",
              "      <th>min</th>\n",
              "      <td>0.000000</td>\n",
              "    </tr>\n",
              "    <tr>\n",
              "      <th>25%</th>\n",
              "      <td>0.030000</td>\n",
              "    </tr>\n",
              "    <tr>\n",
              "      <th>50%</th>\n",
              "      <td>0.070000</td>\n",
              "    </tr>\n",
              "    <tr>\n",
              "      <th>75%</th>\n",
              "      <td>0.170000</td>\n",
              "    </tr>\n",
              "    <tr>\n",
              "      <th>max</th>\n",
              "      <td>3.080000</td>\n",
              "    </tr>\n",
              "  </tbody>\n",
              "</table>\n",
              "</div><br><label><b>dtype:</b> float64</label>"
            ]
          },
          "metadata": {},
          "execution_count": 32
        }
      ],
      "source": [
        "df_sensor_copacabana['co'].describe()"
      ]
    },
    {
      "cell_type": "markdown",
      "metadata": {
        "id": "dea3QOhJMs5K"
      },
      "source": [
        "### Dióxido de Enxofre Tijuca"
      ]
    },
    {
      "cell_type": "code",
      "execution_count": 33,
      "metadata": {
        "colab": {
          "base_uri": "https://localhost:8080/",
          "height": 335
        },
        "outputId": "b13409d8-6f25-4dce-cd6f-940317d50a05",
        "id": "fszCCXqNMs5L"
      },
      "outputs": [
        {
          "output_type": "execute_result",
          "data": {
            "text/plain": [
              "count    60725.000000\n",
              "mean         3.460146\n",
              "std          5.073946\n",
              "min          0.000000\n",
              "25%          0.610000\n",
              "50%          1.800000\n",
              "75%          4.200000\n",
              "max        124.300000\n",
              "Name: so2, dtype: float64"
            ],
            "text/html": [
              "<div>\n",
              "<style scoped>\n",
              "    .dataframe tbody tr th:only-of-type {\n",
              "        vertical-align: middle;\n",
              "    }\n",
              "\n",
              "    .dataframe tbody tr th {\n",
              "        vertical-align: top;\n",
              "    }\n",
              "\n",
              "    .dataframe thead th {\n",
              "        text-align: right;\n",
              "    }\n",
              "</style>\n",
              "<table border=\"1\" class=\"dataframe\">\n",
              "  <thead>\n",
              "    <tr style=\"text-align: right;\">\n",
              "      <th></th>\n",
              "      <th>so2</th>\n",
              "    </tr>\n",
              "  </thead>\n",
              "  <tbody>\n",
              "    <tr>\n",
              "      <th>count</th>\n",
              "      <td>60725.000000</td>\n",
              "    </tr>\n",
              "    <tr>\n",
              "      <th>mean</th>\n",
              "      <td>3.460146</td>\n",
              "    </tr>\n",
              "    <tr>\n",
              "      <th>std</th>\n",
              "      <td>5.073946</td>\n",
              "    </tr>\n",
              "    <tr>\n",
              "      <th>min</th>\n",
              "      <td>0.000000</td>\n",
              "    </tr>\n",
              "    <tr>\n",
              "      <th>25%</th>\n",
              "      <td>0.610000</td>\n",
              "    </tr>\n",
              "    <tr>\n",
              "      <th>50%</th>\n",
              "      <td>1.800000</td>\n",
              "    </tr>\n",
              "    <tr>\n",
              "      <th>75%</th>\n",
              "      <td>4.200000</td>\n",
              "    </tr>\n",
              "    <tr>\n",
              "      <th>max</th>\n",
              "      <td>124.300000</td>\n",
              "    </tr>\n",
              "  </tbody>\n",
              "</table>\n",
              "</div><br><label><b>dtype:</b> float64</label>"
            ]
          },
          "metadata": {},
          "execution_count": 33
        }
      ],
      "source": [
        "df_sensor_copacabana['so2'].describe()"
      ]
    },
    {
      "cell_type": "code",
      "execution_count": 34,
      "metadata": {
        "colab": {
          "base_uri": "https://localhost:8080/"
        },
        "outputId": "c8e3414d-ec34-4dce-8f60-7e10865fd2df",
        "cellView": "form",
        "id": "c0RuCYCsMs5L"
      },
      "outputs": [
        {
          "output_type": "stream",
          "name": "stdout",
          "text": [
            "Quantidade de valores vazios: 7524\n"
          ]
        }
      ],
      "source": [
        "#@title Vendo quantidade de valores vazios\n",
        "\n",
        "valroes_vazio = df_sensor_copacabana[df_sensor_copacabana['so2'].isnull()].groupby(['ano', 'mes']).size().sum()\n",
        "print(f\"Quantidade de valores vazios: {valroes_vazio}\")"
      ]
    },
    {
      "cell_type": "code",
      "execution_count": 35,
      "metadata": {
        "colab": {
          "base_uri": "https://localhost:8080/"
        },
        "outputId": "7e4c4ed5-c624-4f7b-a17c-73a1ab672be6",
        "cellView": "form",
        "id": "C4qkCjQHMs5L"
      },
      "outputs": [
        {
          "output_type": "stream",
          "name": "stderr",
          "text": [
            "<ipython-input-35-113a90337161>:3: SettingWithCopyWarning: \n",
            "A value is trying to be set on a copy of a slice from a DataFrame.\n",
            "Try using .loc[row_indexer,col_indexer] = value instead\n",
            "\n",
            "See the caveats in the documentation: https://pandas.pydata.org/pandas-docs/stable/user_guide/indexing.html#returning-a-view-versus-a-copy\n",
            "  df_sensor_copacabana['so2_nulos_no_dia'] = (\n"
          ]
        }
      ],
      "source": [
        "#@title Criando coluna que informa a quantidade de valores vazios por dia\n",
        "\n",
        "df_sensor_copacabana['so2_nulos_no_dia'] = (\n",
        "    df_sensor_copacabana['so2'].isnull()\n",
        "    .groupby(df_sensor_copacabana['data_formatada'])\n",
        "    .transform('sum')  # Soma os nulos por dia e repete o valor em todas as linhas do dia\n",
        ")"
      ]
    },
    {
      "cell_type": "code",
      "source": [
        "#@title Distribuição dos valores vazios\n",
        "\n",
        "# Seleciona uma única linha por dia, para evitar repetição\n",
        "df_dias = df_sensor_copacabana[df_sensor_copacabana['so2_nulos_no_dia'] != 0].groupby('data_formatada')['so2_nulos_no_dia'].first()\n",
        "\n",
        "# Plotar o histograma da contagem de valores nulos por dia\n",
        "plt.figure(figsize=(10,6))\n",
        "plt.hist(df_dias, bins=range(0, df_dias.max() + 2), edgecolor='black', align='left')\n",
        "plt.title(\"Histograma de Quantidade de Valores Vazios em 'so2' por Dia\")\n",
        "plt.xlabel('Quantidade de valores vazios no dia')\n",
        "plt.ylabel('Número de dias')\n",
        "plt.xticks(range(0, df_dias.max() + 1))\n",
        "plt.grid(axis='y', alpha=0.75)\n",
        "plt.show()"
      ],
      "metadata": {
        "colab": {
          "base_uri": "https://localhost:8080/",
          "height": 564
        },
        "cellView": "form",
        "outputId": "46622e59-520c-4044-dfc3-aa1b22266d57",
        "id": "trcgkn9hMs5L"
      },
      "execution_count": 36,
      "outputs": [
        {
          "output_type": "display_data",
          "data": {
            "text/plain": [
              "<Figure size 1000x600 with 1 Axes>"
            ],
            "image/png": "[encoded data removed]"
          },
          "metadata": {}
        }
      ]
    },
    {
      "cell_type": "code",
      "execution_count": 37,
      "metadata": {
        "colab": {
          "base_uri": "https://localhost:8080/"
        },
        "outputId": "fd8a3ee8-7717-453b-a20d-c3e0eedc86b7",
        "cellView": "form",
        "id": "4Vf0xfIGMs5L"
      },
      "outputs": [
        {
          "output_type": "stream",
          "name": "stdout",
          "text": [
            "2259 linhas foram preenchidas com interpolate na coluna 'so2'.\n",
            "Foram preenchido 30% de dados\n"
          ]
        }
      ],
      "source": [
        "#@title Preenchimento dos valores nulos utilizando a função interpolate (Preenchendo apenas os que tem menos de 7 linhas vazias por dia)\n",
        "\n",
        "mask = (df_sensor_copacabana['so2_nulos_no_dia'] <= 6)\n",
        "\n",
        "num_nulls = df_sensor_copacabana[mask]['so2'].isnull().sum()\n",
        "df_sensor_copacabana.loc[mask, 'so2'] = df_sensor_copacabana[mask]['so2'].interpolate()\n",
        "print(f\"{num_nulls} linhas foram preenchidas com interpolate na coluna 'so2'.\")\n",
        "print(f\"Foram preenchido {round((num_nulls/valroes_vazio)*100)}% de dados\")"
      ]
    },
    {
      "cell_type": "code",
      "execution_count": 38,
      "metadata": {
        "colab": {
          "base_uri": "https://localhost:8080/",
          "height": 335
        },
        "outputId": "2629bd19-7f3d-4dca-9659-1aa994774f78",
        "id": "tdmsasFgMs5L"
      },
      "outputs": [
        {
          "output_type": "execute_result",
          "data": {
            "text/plain": [
              "count    62984.000000\n",
              "mean         3.437575\n",
              "std          5.034619\n",
              "min          0.000000\n",
              "25%          0.610000\n",
              "50%          1.790000\n",
              "75%          4.160000\n",
              "max        124.300000\n",
              "Name: so2, dtype: float64"
            ],
            "text/html": [
              "<div>\n",
              "<style scoped>\n",
              "    .dataframe tbody tr th:only-of-type {\n",
              "        vertical-align: middle;\n",
              "    }\n",
              "\n",
              "    .dataframe tbody tr th {\n",
              "        vertical-align: top;\n",
              "    }\n",
              "\n",
              "    .dataframe thead th {\n",
              "        text-align: right;\n",
              "    }\n",
              "</style>\n",
              "<table border=\"1\" class=\"dataframe\">\n",
              "  <thead>\n",
              "    <tr style=\"text-align: right;\">\n",
              "      <th></th>\n",
              "      <th>so2</th>\n",
              "    </tr>\n",
              "  </thead>\n",
              "  <tbody>\n",
              "    <tr>\n",
              "      <th>count</th>\n",
              "      <td>62984.000000</td>\n",
              "    </tr>\n",
              "    <tr>\n",
              "      <th>mean</th>\n",
              "      <td>3.437575</td>\n",
              "    </tr>\n",
              "    <tr>\n",
              "      <th>std</th>\n",
              "      <td>5.034619</td>\n",
              "    </tr>\n",
              "    <tr>\n",
              "      <th>min</th>\n",
              "      <td>0.000000</td>\n",
              "    </tr>\n",
              "    <tr>\n",
              "      <th>25%</th>\n",
              "      <td>0.610000</td>\n",
              "    </tr>\n",
              "    <tr>\n",
              "      <th>50%</th>\n",
              "      <td>1.790000</td>\n",
              "    </tr>\n",
              "    <tr>\n",
              "      <th>75%</th>\n",
              "      <td>4.160000</td>\n",
              "    </tr>\n",
              "    <tr>\n",
              "      <th>max</th>\n",
              "      <td>124.300000</td>\n",
              "    </tr>\n",
              "  </tbody>\n",
              "</table>\n",
              "</div><br><label><b>dtype:</b> float64</label>"
            ]
          },
          "metadata": {},
          "execution_count": 38
        }
      ],
      "source": [
        "df_sensor_copacabana['so2'].describe()"
      ]
    },
    {
      "cell_type": "markdown",
      "metadata": {
        "id": "DP-WWSHfNYCk"
      },
      "source": [
        "### Ozônio Tijuca"
      ]
    },
    {
      "cell_type": "code",
      "execution_count": 39,
      "metadata": {
        "colab": {
          "base_uri": "https://localhost:8080/",
          "height": 335
        },
        "outputId": "6ed61cbf-31b3-44fd-e69e-044540b31fc1",
        "id": "5Wx7SPTJNYCl"
      },
      "outputs": [
        {
          "output_type": "execute_result",
          "data": {
            "text/plain": [
              "count    66951.000000\n",
              "mean        19.670472\n",
              "std         16.065663\n",
              "min          0.000000\n",
              "25%          7.090000\n",
              "50%         16.660000\n",
              "75%         28.605000\n",
              "max        203.120000\n",
              "Name: o3, dtype: float64"
            ],
            "text/html": [
              "<div>\n",
              "<style scoped>\n",
              "    .dataframe tbody tr th:only-of-type {\n",
              "        vertical-align: middle;\n",
              "    }\n",
              "\n",
              "    .dataframe tbody tr th {\n",
              "        vertical-align: top;\n",
              "    }\n",
              "\n",
              "    .dataframe thead th {\n",
              "        text-align: right;\n",
              "    }\n",
              "</style>\n",
              "<table border=\"1\" class=\"dataframe\">\n",
              "  <thead>\n",
              "    <tr style=\"text-align: right;\">\n",
              "      <th></th>\n",
              "      <th>o3</th>\n",
              "    </tr>\n",
              "  </thead>\n",
              "  <tbody>\n",
              "    <tr>\n",
              "      <th>count</th>\n",
              "      <td>66951.000000</td>\n",
              "    </tr>\n",
              "    <tr>\n",
              "      <th>mean</th>\n",
              "      <td>19.670472</td>\n",
              "    </tr>\n",
              "    <tr>\n",
              "      <th>std</th>\n",
              "      <td>16.065663</td>\n",
              "    </tr>\n",
              "    <tr>\n",
              "      <th>min</th>\n",
              "      <td>0.000000</td>\n",
              "    </tr>\n",
              "    <tr>\n",
              "      <th>25%</th>\n",
              "      <td>7.090000</td>\n",
              "    </tr>\n",
              "    <tr>\n",
              "      <th>50%</th>\n",
              "      <td>16.660000</td>\n",
              "    </tr>\n",
              "    <tr>\n",
              "      <th>75%</th>\n",
              "      <td>28.605000</td>\n",
              "    </tr>\n",
              "    <tr>\n",
              "      <th>max</th>\n",
              "      <td>203.120000</td>\n",
              "    </tr>\n",
              "  </tbody>\n",
              "</table>\n",
              "</div><br><label><b>dtype:</b> float64</label>"
            ]
          },
          "metadata": {},
          "execution_count": 39
        }
      ],
      "source": [
        "df_sensor_copacabana['o3'].describe()"
      ]
    },
    {
      "cell_type": "code",
      "execution_count": 40,
      "metadata": {
        "colab": {
          "base_uri": "https://localhost:8080/"
        },
        "outputId": "c85c0e6c-2c0e-46c4-8819-c47dd72ac167",
        "cellView": "form",
        "id": "kXhRQEmoNYCn"
      },
      "outputs": [
        {
          "output_type": "stream",
          "name": "stdout",
          "text": [
            "Quantidade de valores vazios: 1298\n"
          ]
        }
      ],
      "source": [
        "#@title Vendo quantidade de valores vazios\n",
        "\n",
        "valroes_vazio = df_sensor_copacabana[df_sensor_copacabana['o3'].isnull()].groupby(['ano', 'mes']).size().sum()\n",
        "print(f\"Quantidade de valores vazios: {valroes_vazio}\")"
      ]
    },
    {
      "cell_type": "code",
      "execution_count": 41,
      "metadata": {
        "colab": {
          "base_uri": "https://localhost:8080/"
        },
        "outputId": "54d470e7-864e-43a8-cddf-9bec5bd85f9e",
        "cellView": "form",
        "id": "cJBoN4cMNYCn"
      },
      "outputs": [
        {
          "output_type": "stream",
          "name": "stderr",
          "text": [
            "<ipython-input-41-b84218b06ba4>:3: SettingWithCopyWarning: \n",
            "A value is trying to be set on a copy of a slice from a DataFrame.\n",
            "Try using .loc[row_indexer,col_indexer] = value instead\n",
            "\n",
            "See the caveats in the documentation: https://pandas.pydata.org/pandas-docs/stable/user_guide/indexing.html#returning-a-view-versus-a-copy\n",
            "  df_sensor_copacabana['o3_nulos_no_dia'] = (\n"
          ]
        }
      ],
      "source": [
        "#@title Criando coluna que informa a quantidade de valores vazios por dia\n",
        "\n",
        "df_sensor_copacabana['o3_nulos_no_dia'] = (\n",
        "    df_sensor_copacabana['o3'].isnull()\n",
        "    .groupby(df_sensor_copacabana['data_formatada'])\n",
        "    .transform('sum')  # Soma os nulos por dia e repete o valor em todas as linhas do dia\n",
        ")"
      ]
    },
    {
      "cell_type": "code",
      "source": [
        "#@title Distribuição dos valores vazios\n",
        "\n",
        "# Seleciona uma única linha por dia, para evitar repetição\n",
        "df_dias = df_sensor_copacabana[df_sensor_copacabana['o3_nulos_no_dia'] != 0].groupby('data_formatada')['o3_nulos_no_dia'].first()\n",
        "\n",
        "# Plotar o histograma da contagem de valores nulos por dia\n",
        "plt.figure(figsize=(10,6))\n",
        "plt.hist(df_dias, bins=range(0, df_dias.max() + 2), edgecolor='black', align='left')\n",
        "plt.title(\"Histograma de Quantidade de Valores Vazios em 'o3' por Dia\")\n",
        "plt.xlabel('Quantidade de valores vazios no dia')\n",
        "plt.ylabel('Número de dias')\n",
        "plt.xticks(range(0, df_dias.max() + 1))\n",
        "plt.grid(axis='y', alpha=0.75)\n",
        "plt.show()"
      ],
      "metadata": {
        "colab": {
          "base_uri": "https://localhost:8080/",
          "height": 564
        },
        "cellView": "form",
        "outputId": "52e826b3-43c2-46c7-fe55-49824b7a3e55",
        "id": "Q1ZG0wIONYCn"
      },
      "execution_count": 42,
      "outputs": [
        {
          "output_type": "display_data",
          "data": {
            "text/plain": [
              "<Figure size 1000x600 with 1 Axes>"
            ],
            "image/png": "[encoded data removed]"
          },
          "metadata": {}
        }
      ]
    },
    {
      "cell_type": "code",
      "execution_count": 43,
      "metadata": {
        "colab": {
          "base_uri": "https://localhost:8080/"
        },
        "outputId": "5a46d600-e245-4c60-a7b5-e4c1f20fe36a",
        "cellView": "form",
        "id": "KQwJwPLrNYCo"
      },
      "outputs": [
        {
          "output_type": "stream",
          "name": "stdout",
          "text": [
            "495 linhas foram preenchidas com interpolate na coluna 'o3'.\n",
            "Foram preenchido 38% de dados\n"
          ]
        }
      ],
      "source": [
        "#@title Preenchimento dos valores nulos utilizando a função interpolate (Preenchendo apenas os que tem menos de 7 linhas vazias por dia)\n",
        "\n",
        "mask = (df_sensor_copacabana['o3_nulos_no_dia'] <= 6)\n",
        "\n",
        "num_nulls = df_sensor_copacabana[mask]['o3'].isnull().sum()\n",
        "df_sensor_copacabana.loc[mask, 'o3'] = df_sensor_copacabana[mask]['o3'].interpolate()\n",
        "print(f\"{num_nulls} linhas foram preenchidas com interpolate na coluna 'o3'.\")\n",
        "print(f\"Foram preenchido {round((num_nulls/valroes_vazio)*100)}% de dados\")"
      ]
    },
    {
      "cell_type": "code",
      "execution_count": 44,
      "metadata": {
        "colab": {
          "base_uri": "https://localhost:8080/",
          "height": 335
        },
        "outputId": "81889d3a-684e-4d71-c057-674099145da0",
        "id": "8dJ2VLO3NYCp"
      },
      "outputs": [
        {
          "output_type": "execute_result",
          "data": {
            "text/plain": [
              "count    67446.000000\n",
              "mean        19.694477\n",
              "std         16.057436\n",
              "min          0.000000\n",
              "25%          7.120000\n",
              "50%         16.700000\n",
              "75%         28.621875\n",
              "max        203.120000\n",
              "Name: o3, dtype: float64"
            ],
            "text/html": [
              "<div>\n",
              "<style scoped>\n",
              "    .dataframe tbody tr th:only-of-type {\n",
              "        vertical-align: middle;\n",
              "    }\n",
              "\n",
              "    .dataframe tbody tr th {\n",
              "        vertical-align: top;\n",
              "    }\n",
              "\n",
              "    .dataframe thead th {\n",
              "        text-align: right;\n",
              "    }\n",
              "</style>\n",
              "<table border=\"1\" class=\"dataframe\">\n",
              "  <thead>\n",
              "    <tr style=\"text-align: right;\">\n",
              "      <th></th>\n",
              "      <th>o3</th>\n",
              "    </tr>\n",
              "  </thead>\n",
              "  <tbody>\n",
              "    <tr>\n",
              "      <th>count</th>\n",
              "      <td>67446.000000</td>\n",
              "    </tr>\n",
              "    <tr>\n",
              "      <th>mean</th>\n",
              "      <td>19.694477</td>\n",
              "    </tr>\n",
              "    <tr>\n",
              "      <th>std</th>\n",
              "      <td>16.057436</td>\n",
              "    </tr>\n",
              "    <tr>\n",
              "      <th>min</th>\n",
              "      <td>0.000000</td>\n",
              "    </tr>\n",
              "    <tr>\n",
              "      <th>25%</th>\n",
              "      <td>7.120000</td>\n",
              "    </tr>\n",
              "    <tr>\n",
              "      <th>50%</th>\n",
              "      <td>16.700000</td>\n",
              "    </tr>\n",
              "    <tr>\n",
              "      <th>75%</th>\n",
              "      <td>28.621875</td>\n",
              "    </tr>\n",
              "    <tr>\n",
              "      <th>max</th>\n",
              "      <td>203.120000</td>\n",
              "    </tr>\n",
              "  </tbody>\n",
              "</table>\n",
              "</div><br><label><b>dtype:</b> float64</label>"
            ]
          },
          "metadata": {},
          "execution_count": 44
        }
      ],
      "source": [
        "df_sensor_copacabana['o3'].describe()"
      ]
    },
    {
      "cell_type": "markdown",
      "metadata": {
        "id": "x_EfKxffNz6H"
      },
      "source": [
        "### PM10 Tijuca"
      ]
    },
    {
      "cell_type": "code",
      "execution_count": 45,
      "metadata": {
        "colab": {
          "base_uri": "https://localhost:8080/",
          "height": 335
        },
        "outputId": "b0f6d8cb-e673-4379-e5d7-bb298f42aea4",
        "id": "PwaB2u12Nz6H"
      },
      "outputs": [
        {
          "output_type": "execute_result",
          "data": {
            "text/plain": [
              "count    67056.000000\n",
              "mean        54.205484\n",
              "std         21.641472\n",
              "min          0.000000\n",
              "25%         39.270000\n",
              "50%         50.520000\n",
              "75%         65.230000\n",
              "max        296.490000\n",
              "Name: pm10, dtype: float64"
            ],
            "text/html": [
              "<div>\n",
              "<style scoped>\n",
              "    .dataframe tbody tr th:only-of-type {\n",
              "        vertical-align: middle;\n",
              "    }\n",
              "\n",
              "    .dataframe tbody tr th {\n",
              "        vertical-align: top;\n",
              "    }\n",
              "\n",
              "    .dataframe thead th {\n",
              "        text-align: right;\n",
              "    }\n",
              "</style>\n",
              "<table border=\"1\" class=\"dataframe\">\n",
              "  <thead>\n",
              "    <tr style=\"text-align: right;\">\n",
              "      <th></th>\n",
              "      <th>pm10</th>\n",
              "    </tr>\n",
              "  </thead>\n",
              "  <tbody>\n",
              "    <tr>\n",
              "      <th>count</th>\n",
              "      <td>67056.000000</td>\n",
              "    </tr>\n",
              "    <tr>\n",
              "      <th>mean</th>\n",
              "      <td>54.205484</td>\n",
              "    </tr>\n",
              "    <tr>\n",
              "      <th>std</th>\n",
              "      <td>21.641472</td>\n",
              "    </tr>\n",
              "    <tr>\n",
              "      <th>min</th>\n",
              "      <td>0.000000</td>\n",
              "    </tr>\n",
              "    <tr>\n",
              "      <th>25%</th>\n",
              "      <td>39.270000</td>\n",
              "    </tr>\n",
              "    <tr>\n",
              "      <th>50%</th>\n",
              "      <td>50.520000</td>\n",
              "    </tr>\n",
              "    <tr>\n",
              "      <th>75%</th>\n",
              "      <td>65.230000</td>\n",
              "    </tr>\n",
              "    <tr>\n",
              "      <th>max</th>\n",
              "      <td>296.490000</td>\n",
              "    </tr>\n",
              "  </tbody>\n",
              "</table>\n",
              "</div><br><label><b>dtype:</b> float64</label>"
            ]
          },
          "metadata": {},
          "execution_count": 45
        }
      ],
      "source": [
        "df_sensor_copacabana['pm10'].describe()"
      ]
    },
    {
      "cell_type": "code",
      "execution_count": 46,
      "metadata": {
        "colab": {
          "base_uri": "https://localhost:8080/"
        },
        "outputId": "96809a8c-1224-4215-f8c2-1c90240667ac",
        "cellView": "form",
        "id": "2DgViHnxNz6I"
      },
      "outputs": [
        {
          "output_type": "stream",
          "name": "stdout",
          "text": [
            "Quantidade de valores vazios: 1193\n"
          ]
        }
      ],
      "source": [
        "#@title Vendo quantidade de valores vazios\n",
        "\n",
        "valroes_vazio = df_sensor_copacabana[df_sensor_copacabana['pm10'].isnull()].groupby(['ano', 'mes']).size().sum()\n",
        "print(f\"Quantidade de valores vazios: {valroes_vazio}\")"
      ]
    },
    {
      "cell_type": "code",
      "execution_count": 47,
      "metadata": {
        "colab": {
          "base_uri": "https://localhost:8080/"
        },
        "outputId": "43627dcc-a00f-44b8-f11b-2fd8ba08bb59",
        "cellView": "form",
        "id": "C4E1ad35Nz6I"
      },
      "outputs": [
        {
          "output_type": "stream",
          "name": "stderr",
          "text": [
            "<ipython-input-47-937100139d5c>:3: SettingWithCopyWarning: \n",
            "A value is trying to be set on a copy of a slice from a DataFrame.\n",
            "Try using .loc[row_indexer,col_indexer] = value instead\n",
            "\n",
            "See the caveats in the documentation: https://pandas.pydata.org/pandas-docs/stable/user_guide/indexing.html#returning-a-view-versus-a-copy\n",
            "  df_sensor_copacabana['pm10_nulos_no_dia'] = (\n"
          ]
        }
      ],
      "source": [
        "#@title Criando coluna que informa a quantidade de valores vazios por dia\n",
        "\n",
        "df_sensor_copacabana['pm10_nulos_no_dia'] = (\n",
        "    df_sensor_copacabana['pm10'].isnull()\n",
        "    .groupby(df_sensor_copacabana['data_formatada'])\n",
        "    .transform('sum')  # Soma os nulos por dia e repete o valor em todas as linhas do dia\n",
        ")"
      ]
    },
    {
      "cell_type": "code",
      "source": [
        "#@title Distribuição dos valores vazios\n",
        "\n",
        "# Seleciona uma única linha por dia, para evitar repetição\n",
        "df_dias = df_sensor_copacabana[df_sensor_copacabana['pm10_nulos_no_dia'] != 0].groupby('data_formatada')['pm10_nulos_no_dia'].first()\n",
        "\n",
        "# Plotar o histograma da contagem de valores nulos por dia\n",
        "plt.figure(figsize=(10,6))\n",
        "plt.hist(df_dias, bins=range(0, df_dias.max() + 2), edgecolor='black', align='left')\n",
        "plt.title(\"Histograma de Quantidade de Valores Vazios em 'pm10' por Dia\")\n",
        "plt.xlabel('Quantidade de valores vazios no dia')\n",
        "plt.ylabel('Número de dias')\n",
        "plt.xticks(range(0, df_dias.max() + 1))\n",
        "plt.grid(axis='y', alpha=0.75)\n",
        "plt.show()"
      ],
      "metadata": {
        "colab": {
          "base_uri": "https://localhost:8080/",
          "height": 564
        },
        "cellView": "form",
        "outputId": "13f81b61-ef8c-4f66-d360-23b391bfd9a6",
        "id": "wimZHi5oNz6I"
      },
      "execution_count": 48,
      "outputs": [
        {
          "output_type": "display_data",
          "data": {
            "text/plain": [
              "<Figure size 1000x600 with 1 Axes>"
            ],
            "image/png": "[encoded data removed]"
          },
          "metadata": {}
        }
      ]
    },
    {
      "cell_type": "code",
      "execution_count": 49,
      "metadata": {
        "colab": {
          "base_uri": "https://localhost:8080/"
        },
        "outputId": "9043d0b9-4e92-4104-a3af-1e281c1d73ac",
        "cellView": "form",
        "id": "OA2D_-XPNz6I"
      },
      "outputs": [
        {
          "output_type": "stream",
          "name": "stdout",
          "text": [
            "240 linhas foram preenchidas com interpolate na coluna 'pm10'.\n",
            "Foram preenchido 20% de dados\n"
          ]
        }
      ],
      "source": [
        "#@title Preenchimento dos valores nulos utilizando a função interpolate (Preenchendo apenas os que tem menos de 7 linhas vazias por dia)\n",
        "\n",
        "mask = (df_sensor_copacabana['pm10_nulos_no_dia'] <= 6)\n",
        "\n",
        "num_nulls = df_sensor_copacabana[mask]['pm10'].isnull().sum()\n",
        "df_sensor_copacabana.loc[mask, 'pm10'] = df_sensor_copacabana[mask]['pm10'].interpolate()\n",
        "print(f\"{num_nulls} linhas foram preenchidas com interpolate na coluna 'pm10'.\")\n",
        "print(f\"Foram preenchido {round((num_nulls/valroes_vazio)*100)}% de dados\")"
      ]
    },
    {
      "cell_type": "code",
      "execution_count": 50,
      "metadata": {
        "colab": {
          "base_uri": "https://localhost:8080/",
          "height": 335
        },
        "outputId": "211c1d95-c3db-4c33-dc39-6ca4a97ea2d7",
        "id": "KmM4M2pDNz6I"
      },
      "outputs": [
        {
          "output_type": "execute_result",
          "data": {
            "text/plain": [
              "count    67296.000000\n",
              "mean        54.246475\n",
              "std         21.663711\n",
              "min          0.000000\n",
              "25%         39.300000\n",
              "50%         50.560000\n",
              "75%         65.272500\n",
              "max        296.490000\n",
              "Name: pm10, dtype: float64"
            ],
            "text/html": [
              "<div>\n",
              "<style scoped>\n",
              "    .dataframe tbody tr th:only-of-type {\n",
              "        vertical-align: middle;\n",
              "    }\n",
              "\n",
              "    .dataframe tbody tr th {\n",
              "        vertical-align: top;\n",
              "    }\n",
              "\n",
              "    .dataframe thead th {\n",
              "        text-align: right;\n",
              "    }\n",
              "</style>\n",
              "<table border=\"1\" class=\"dataframe\">\n",
              "  <thead>\n",
              "    <tr style=\"text-align: right;\">\n",
              "      <th></th>\n",
              "      <th>pm10</th>\n",
              "    </tr>\n",
              "  </thead>\n",
              "  <tbody>\n",
              "    <tr>\n",
              "      <th>count</th>\n",
              "      <td>67296.000000</td>\n",
              "    </tr>\n",
              "    <tr>\n",
              "      <th>mean</th>\n",
              "      <td>54.246475</td>\n",
              "    </tr>\n",
              "    <tr>\n",
              "      <th>std</th>\n",
              "      <td>21.663711</td>\n",
              "    </tr>\n",
              "    <tr>\n",
              "      <th>min</th>\n",
              "      <td>0.000000</td>\n",
              "    </tr>\n",
              "    <tr>\n",
              "      <th>25%</th>\n",
              "      <td>39.300000</td>\n",
              "    </tr>\n",
              "    <tr>\n",
              "      <th>50%</th>\n",
              "      <td>50.560000</td>\n",
              "    </tr>\n",
              "    <tr>\n",
              "      <th>75%</th>\n",
              "      <td>65.272500</td>\n",
              "    </tr>\n",
              "    <tr>\n",
              "      <th>max</th>\n",
              "      <td>296.490000</td>\n",
              "    </tr>\n",
              "  </tbody>\n",
              "</table>\n",
              "</div><br><label><b>dtype:</b> float64</label>"
            ]
          },
          "metadata": {},
          "execution_count": 50
        }
      ],
      "source": [
        "df_sensor_copacabana['pm10'].describe()"
      ]
    },
    {
      "cell_type": "markdown",
      "source": [
        "# Gerando CSV de saída com a estação de Copacabana preenchida\n"
      ],
      "metadata": {
        "id": "ijWuiCIzOE1P"
      }
    },
    {
      "cell_type": "code",
      "source": [
        "droping_columns = ['chuva_nulos_no_dia', 'temp_nulos_no_dia', 'ur_nulos_no_dia', 'co_nulos_no_dia', 'so2_nulos_no_dia', 'o3_nulos_no_dia', 'pm10_nulos_no_dia']\n",
        "\n",
        "df_sensor_copacabana.drop(columns=droping_columns, inplace=True)"
      ],
      "metadata": {
        "colab": {
          "base_uri": "https://localhost:8080/"
        },
        "id": "C2iFg6w9Qt9u",
        "outputId": "ef0b66f5-1731-428c-c3c4-6062b35e8d67"
      },
      "execution_count": 51,
      "outputs": [
        {
          "output_type": "stream",
          "name": "stderr",
          "text": [
            "<ipython-input-51-9d5951026bf1>:3: SettingWithCopyWarning: \n",
            "A value is trying to be set on a copy of a slice from a DataFrame\n",
            "\n",
            "See the caveats in the documentation: https://pandas.pydata.org/pandas-docs/stable/user_guide/indexing.html#returning-a-view-versus-a-copy\n",
            "  df_sensor_copacabana.drop(columns=droping_columns, inplace=True)\n"
          ]
        }
      ]
    },
    {
      "cell_type": "code",
      "source": [
        "df_sensor_copacabana.to_csv('df_sensor_copacabana_preenchido.csv', index=False)"
      ],
      "metadata": {
        "id": "gfe-Z7ZsOOQO"
      },
      "execution_count": 52,
      "outputs": []
    }
  ]
}