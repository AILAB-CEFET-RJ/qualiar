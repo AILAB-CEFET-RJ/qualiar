{
  "nbformat": 4,
  "nbformat_minor": 0,
  "metadata": {
    "colab": {
      "provenance": []
    },
    "kernelspec": {
      "name": "python3",
      "display_name": "Python 3"
    },
    "language_info": {
      "name": "python"
    }
  },
  "cells": [
    {
      "cell_type": "markdown",
      "metadata": {
        "id": "FQyXpVbbCeRX"
      },
      "source": [
        "# Propósito\n",
        "\n",
        "Este notebook tem como objetivo realizar uma análise exploratória de algumas colunas de interesse das medições dos sensores de qualidade do ar.\n",
        "\n",
        "O principal objetivo será preencher alguns valores nulos utilizando a função interpolate()\n",
        "\n",
        "Mas para não enviesar muitos dados preencheremos apenas os valores em que a quantidade de valores nulas no dia semana menor que 7\n"
      ]
    },
    {
      "cell_type": "markdown",
      "metadata": {
        "id": "TTJ20DT1DZP4"
      },
      "source": [
        "# Importações"
      ]
    },
    {
      "cell_type": "code",
      "execution_count": 1,
      "metadata": {
        "id": "3IqV3pDuCcJq"
      },
      "outputs": [],
      "source": [
        "import pandas as pd\n",
        "import numpy as np\n",
        "import matplotlib.pyplot as plt\n",
        "import seaborn as sns\n",
        "from sklearn.linear_model import LinearRegression\n",
        "import scipy.stats as stats\n",
        "from scipy.stats import shapiro, anderson, boxcox, kstest, norm\n",
        "from scipy.special import boxcox1p\n",
        "from scipy import stats"
      ]
    },
    {
      "cell_type": "markdown",
      "metadata": {
        "id": "g4RXL-is5UgJ"
      },
      "source": [
        "# Consumindo bases"
      ]
    },
    {
      "cell_type": "code",
      "execution_count": 2,
      "metadata": {
        "id": "eyjEKJYpDhin"
      },
      "outputs": [],
      "source": [
        "url_sensor = '/content/drive/MyDrive/TCC/sensores-2011-2021/medicao-sensores.csv'\n",
        "\n",
        "df_sensor = pd.read_csv(url_sensor, sep=',')\n",
        "\n",
        "url_estacoes = '/content/drive/MyDrive/TCC/sensores-2011-2021/estacoes.csv'\n",
        "\n",
        "df_estacoes = pd.read_csv(url_estacoes, sep=',')"
      ]
    },
    {
      "cell_type": "code",
      "execution_count": 3,
      "metadata": {
        "colab": {
          "base_uri": "https://localhost:8080/"
        },
        "id": "I8DoZujMX7Hy",
        "outputId": "f4688f60-da4a-4195-ca08-f84f97ce1ada"
      },
      "outputs": [
        {
          "output_type": "execute_result",
          "data": {
            "text/plain": [
              "Index(['objectid', 'data', 'codnum', 'estação', 'chuva', 'pres', 'rs', 'temp',\n",
              "       'ur', 'dir_vento', 'vel_vento', 'so2', 'no2', 'hcnm', 'hct', 'ch4',\n",
              "       'co', 'no', 'nox', 'o3', 'pm10', 'pm2_5', 'lat', 'lon',\n",
              "       'x_utm_sirgas2000', 'y_utm_sirgas2000'],\n",
              "      dtype='object')"
            ]
          },
          "metadata": {},
          "execution_count": 3
        }
      ],
      "source": [
        "df_sensor.columns"
      ]
    },
    {
      "cell_type": "markdown",
      "metadata": {
        "id": "-KWYSQmgDtki"
      },
      "source": [
        "# Pré-processamento"
      ]
    },
    {
      "cell_type": "markdown",
      "metadata": {
        "id": "q18psyhOH2hN"
      },
      "source": [
        "## Selecionando e criando colunas"
      ]
    },
    {
      "cell_type": "code",
      "execution_count": 4,
      "metadata": {
        "cellView": "form",
        "id": "m2M9yDEpXZHc"
      },
      "outputs": [],
      "source": [
        "#@title Criando coluna nome estacao com base na coluna codnum\n",
        "df_sensor['nome_estacao'] = df_sensor['codnum'].map(df_estacoes.set_index('codnum')['nome'])"
      ]
    },
    {
      "cell_type": "code",
      "execution_count": 5,
      "metadata": {
        "cellView": "form",
        "id": "A9QJxIqs5mRT"
      },
      "outputs": [],
      "source": [
        "#@title Selecionando as colunas mais relevantes\n",
        "interest_columns = ['nome_estacao', 'data', 'chuva', 'temp', 'ur', 'co', 'no', 'no2', 'nox', 'so2', 'o3', 'pm10', 'pm2_5']\n",
        "\n",
        "df_sensor_interest = df_sensor[interest_columns]"
      ]
    },
    {
      "cell_type": "code",
      "execution_count": 6,
      "metadata": {
        "cellView": "form",
        "colab": {
          "base_uri": "https://localhost:8080/"
        },
        "id": "08TM4o3W5mUB",
        "outputId": "c4ef6a80-6d1d-41ee-879e-3085b97a2fd7"
      },
      "outputs": [
        {
          "output_type": "stream",
          "name": "stderr",
          "text": [
            "<ipython-input-6-f9a423e0dd73>:2: SettingWithCopyWarning: \n",
            "A value is trying to be set on a copy of a slice from a DataFrame.\n",
            "Try using .loc[row_indexer,col_indexer] = value instead\n",
            "\n",
            "See the caveats in the documentation: https://pandas.pydata.org/pandas-docs/stable/user_guide/indexing.html#returning-a-view-versus-a-copy\n",
            "  df_sensor_interest['data'] = pd.to_datetime(df_sensor_interest['data'], format='%Y/%m/%d %H:%M:%S+00')\n",
            "<ipython-input-6-f9a423e0dd73>:3: SettingWithCopyWarning: \n",
            "A value is trying to be set on a copy of a slice from a DataFrame.\n",
            "Try using .loc[row_indexer,col_indexer] = value instead\n",
            "\n",
            "See the caveats in the documentation: https://pandas.pydata.org/pandas-docs/stable/user_guide/indexing.html#returning-a-view-versus-a-copy\n",
            "  df_sensor_interest['data_formatada'] = pd.to_datetime(df_sensor_interest['data']).dt.strftime('%Y-%m-%d')\n",
            "<ipython-input-6-f9a423e0dd73>:4: SettingWithCopyWarning: \n",
            "A value is trying to be set on a copy of a slice from a DataFrame.\n",
            "Try using .loc[row_indexer,col_indexer] = value instead\n",
            "\n",
            "See the caveats in the documentation: https://pandas.pydata.org/pandas-docs/stable/user_guide/indexing.html#returning-a-view-versus-a-copy\n",
            "  df_sensor_interest['ano'] = df_sensor_interest['data'].dt.year\n",
            "<ipython-input-6-f9a423e0dd73>:5: SettingWithCopyWarning: \n",
            "A value is trying to be set on a copy of a slice from a DataFrame.\n",
            "Try using .loc[row_indexer,col_indexer] = value instead\n",
            "\n",
            "See the caveats in the documentation: https://pandas.pydata.org/pandas-docs/stable/user_guide/indexing.html#returning-a-view-versus-a-copy\n",
            "  df_sensor_interest['mes'] = df_sensor_interest['data'].dt.month\n"
          ]
        }
      ],
      "source": [
        "#@title Criando colunas de ano e mês para facilitar a análise temporal\n",
        "df_sensor_interest['data'] = pd.to_datetime(df_sensor_interest['data'], format='%Y/%m/%d %H:%M:%S+00')\n",
        "df_sensor_interest['data_formatada'] = pd.to_datetime(df_sensor_interest['data']).dt.strftime('%Y-%m-%d')\n",
        "df_sensor_interest['ano'] = df_sensor_interest['data'].dt.year\n",
        "df_sensor_interest['mes'] = df_sensor_interest['data'].dt.month"
      ]
    },
    {
      "cell_type": "code",
      "execution_count": 7,
      "metadata": {
        "cellView": "form",
        "id": "010BKMPF5mWa"
      },
      "outputs": [],
      "source": [
        "#@title Removendo ano de 2011 (Pela falta de alguns poluente) e anos da pandemia\n",
        "df_sensor_interest_filtered = df_sensor_interest[(df_sensor_interest['ano'] > 2011) & (df_sensor_interest['ano'] < 2020)]"
      ]
    },
    {
      "cell_type": "code",
      "execution_count": 8,
      "metadata": {
        "id": "_c6j_tgIdxeL"
      },
      "outputs": [],
      "source": [
        "#@title Filtrando por Irajá\n",
        "df_sensor_iraja = df_sensor_interest_filtered[df_sensor_interest_filtered['nome_estacao'] == 'ESTAÇÃO IRAJÁ']"
      ]
    },
    {
      "cell_type": "markdown",
      "metadata": {
        "id": "gmWkUcmdIpux"
      },
      "source": [
        "# Tratando colunas de interesse por Estação de monitoriamento\n"
      ]
    },
    {
      "cell_type": "markdown",
      "metadata": {
        "id": "yLqNrnrAN4w-"
      },
      "source": [
        "## Estação Irajá\n",
        "Colunas normalizadas: Chuva, Temperatura, Umidade relativa, CO, NO, NO2, NOx, SO2, O3, PM10, PM2.5"
      ]
    },
    {
      "cell_type": "markdown",
      "metadata": {
        "id": "9ymtlIMxOidV"
      },
      "source": [
        "### Chuva"
      ]
    },
    {
      "cell_type": "code",
      "execution_count": 9,
      "metadata": {
        "colab": {
          "base_uri": "https://localhost:8080/",
          "height": 335
        },
        "id": "24M_cJnzP4gK",
        "outputId": "10f9d438-324d-48d2-89dc-6a1042fbe90f"
      },
      "outputs": [
        {
          "output_type": "execute_result",
          "data": {
            "text/plain": [
              "count    68561.000000\n",
              "mean         0.134228\n",
              "std          1.238610\n",
              "min          0.000000\n",
              "25%          0.000000\n",
              "50%          0.000000\n",
              "75%          0.000000\n",
              "max         88.000000\n",
              "Name: chuva, dtype: float64"
            ],
            "text/html": [
              "<div>\n",
              "<style scoped>\n",
              "    .dataframe tbody tr th:only-of-type {\n",
              "        vertical-align: middle;\n",
              "    }\n",
              "\n",
              "    .dataframe tbody tr th {\n",
              "        vertical-align: top;\n",
              "    }\n",
              "\n",
              "    .dataframe thead th {\n",
              "        text-align: right;\n",
              "    }\n",
              "</style>\n",
              "<table border=\"1\" class=\"dataframe\">\n",
              "  <thead>\n",
              "    <tr style=\"text-align: right;\">\n",
              "      <th></th>\n",
              "      <th>chuva</th>\n",
              "    </tr>\n",
              "  </thead>\n",
              "  <tbody>\n",
              "    <tr>\n",
              "      <th>count</th>\n",
              "      <td>68561.000000</td>\n",
              "    </tr>\n",
              "    <tr>\n",
              "      <th>mean</th>\n",
              "      <td>0.134228</td>\n",
              "    </tr>\n",
              "    <tr>\n",
              "      <th>std</th>\n",
              "      <td>1.238610</td>\n",
              "    </tr>\n",
              "    <tr>\n",
              "      <th>min</th>\n",
              "      <td>0.000000</td>\n",
              "    </tr>\n",
              "    <tr>\n",
              "      <th>25%</th>\n",
              "      <td>0.000000</td>\n",
              "    </tr>\n",
              "    <tr>\n",
              "      <th>50%</th>\n",
              "      <td>0.000000</td>\n",
              "    </tr>\n",
              "    <tr>\n",
              "      <th>75%</th>\n",
              "      <td>0.000000</td>\n",
              "    </tr>\n",
              "    <tr>\n",
              "      <th>max</th>\n",
              "      <td>88.000000</td>\n",
              "    </tr>\n",
              "  </tbody>\n",
              "</table>\n",
              "</div><br><label><b>dtype:</b> float64</label>"
            ]
          },
          "metadata": {},
          "execution_count": 9
        }
      ],
      "source": [
        "df_sensor_iraja['chuva'].describe()"
      ]
    },
    {
      "cell_type": "code",
      "execution_count": 10,
      "metadata": {
        "colab": {
          "base_uri": "https://localhost:8080/"
        },
        "id": "Ntw7zXT0Q6zx",
        "outputId": "9be7de2e-d257-4ac4-f331-24105eb8d7af",
        "cellView": "form"
      },
      "outputs": [
        {
          "output_type": "stream",
          "name": "stdout",
          "text": [
            "Quantidade de valores vazios: 390\n"
          ]
        }
      ],
      "source": [
        "#@title Vendo quantidade de valores vazios\n",
        "\n",
        "valroes_vazio = df_sensor_iraja[df_sensor_iraja['chuva'].isnull()].groupby(['ano', 'mes']).size().sum()\n",
        "print(f\"Quantidade de valores vazios: {valroes_vazio}\")"
      ]
    },
    {
      "cell_type": "code",
      "execution_count": 11,
      "metadata": {
        "colab": {
          "base_uri": "https://localhost:8080/"
        },
        "id": "wfMEwBEEwJph",
        "outputId": "4a85d60d-7f23-4764-91dc-6d8c66e4a35b",
        "cellView": "form"
      },
      "outputs": [
        {
          "output_type": "stream",
          "name": "stderr",
          "text": [
            "<ipython-input-11-cc821bbf18b8>:3: SettingWithCopyWarning: \n",
            "A value is trying to be set on a copy of a slice from a DataFrame.\n",
            "Try using .loc[row_indexer,col_indexer] = value instead\n",
            "\n",
            "See the caveats in the documentation: https://pandas.pydata.org/pandas-docs/stable/user_guide/indexing.html#returning-a-view-versus-a-copy\n",
            "  df_sensor_iraja['chuva_nulos_no_dia'] = (\n"
          ]
        }
      ],
      "source": [
        "#@title Criando coluna que informa a quantidade de valores vazios por dia\n",
        "\n",
        "df_sensor_iraja['chuva_nulos_no_dia'] = (\n",
        "    df_sensor_iraja['chuva'].isnull()\n",
        "    .groupby(df_sensor_iraja['data_formatada'])\n",
        "    .transform('sum')  # Soma os nulos por dia e repete o valor em todas as linhas do dia\n",
        ")"
      ]
    },
    {
      "cell_type": "code",
      "source": [
        "#@title Distribuição dos valores vazios\n",
        "\n",
        "# Seleciona uma única linha por dia, para evitar repetição\n",
        "df_dias = df_sensor_iraja[df_sensor_iraja['chuva_nulos_no_dia'] != 0].groupby('data_formatada')['chuva_nulos_no_dia'].first()\n",
        "\n",
        "# Plotar o histograma da contagem de valores nulos por dia\n",
        "plt.figure(figsize=(10,6))\n",
        "plt.hist(df_dias, bins=range(0, df_dias.max() + 2), edgecolor='black', align='left')\n",
        "plt.title('Histograma de Quantidade de Valores Vazios em \"chuva\" por Dia')\n",
        "plt.xlabel('Quantidade de valores vazios no dia')\n",
        "plt.ylabel('Número de dias')\n",
        "plt.xticks(range(0, df_dias.max() + 1))\n",
        "plt.grid(axis='y', alpha=0.75)\n",
        "plt.show()"
      ],
      "metadata": {
        "colab": {
          "base_uri": "https://localhost:8080/",
          "height": 564
        },
        "cellView": "form",
        "id": "jYMgiW_cHPBb",
        "outputId": "11db5599-9b42-47b3-b351-3db439df861e"
      },
      "execution_count": 12,
      "outputs": [
        {
          "output_type": "display_data",
          "data": {
            "text/plain": [
              "<Figure size 1000x600 with 1 Axes>"
            ],
            "image/png": "[encoded data removed]"
          },
          "metadata": {}
        }
      ]
    },
    {
      "cell_type": "code",
      "execution_count": 13,
      "metadata": {
        "colab": {
          "base_uri": "https://localhost:8080/"
        },
        "id": "CUSCMdfvRRAo",
        "outputId": "d50f43a5-4fbe-496f-98d8-605267b50511",
        "cellView": "form"
      },
      "outputs": [
        {
          "output_type": "stream",
          "name": "stdout",
          "text": [
            "173 linhas foram preenchidas com interpolate na coluna 'chuva'.\n",
            "Foram preenchido 44% de dados\n"
          ]
        }
      ],
      "source": [
        "#@title Preenchimento dos valores nulos utilizando a função interpolate (Preenchendo apenas os que tem menos de 7 linhas vazias)\n",
        "\n",
        "mask = (df_sensor_iraja['chuva_nulos_no_dia'] <= 6)\n",
        "\n",
        "num_nulls = df_sensor_iraja[mask]['chuva'].isnull().sum()\n",
        "df_sensor_iraja.loc[mask, 'chuva'] = df_sensor_iraja[mask]['chuva'].interpolate()\n",
        "print(f\"{num_nulls} linhas foram preenchidas com interpolate na coluna 'chuva'.\")\n",
        "print(f\"Foram preenchido {round((num_nulls/valroes_vazio)*100)}% de dados\")"
      ]
    },
    {
      "cell_type": "code",
      "execution_count": 14,
      "metadata": {
        "colab": {
          "base_uri": "https://localhost:8080/",
          "height": 335
        },
        "id": "97-NgrgDRt33",
        "outputId": "4d5e95fb-8097-4dad-b853-971e0e31088a"
      },
      "outputs": [
        {
          "output_type": "execute_result",
          "data": {
            "text/plain": [
              "count    68734.000000\n",
              "mean         0.134840\n",
              "std          1.238861\n",
              "min          0.000000\n",
              "25%          0.000000\n",
              "50%          0.000000\n",
              "75%          0.000000\n",
              "max         88.000000\n",
              "Name: chuva, dtype: float64"
            ],
            "text/html": [
              "<div>\n",
              "<style scoped>\n",
              "    .dataframe tbody tr th:only-of-type {\n",
              "        vertical-align: middle;\n",
              "    }\n",
              "\n",
              "    .dataframe tbody tr th {\n",
              "        vertical-align: top;\n",
              "    }\n",
              "\n",
              "    .dataframe thead th {\n",
              "        text-align: right;\n",
              "    }\n",
              "</style>\n",
              "<table border=\"1\" class=\"dataframe\">\n",
              "  <thead>\n",
              "    <tr style=\"text-align: right;\">\n",
              "      <th></th>\n",
              "      <th>chuva</th>\n",
              "    </tr>\n",
              "  </thead>\n",
              "  <tbody>\n",
              "    <tr>\n",
              "      <th>count</th>\n",
              "      <td>68734.000000</td>\n",
              "    </tr>\n",
              "    <tr>\n",
              "      <th>mean</th>\n",
              "      <td>0.134840</td>\n",
              "    </tr>\n",
              "    <tr>\n",
              "      <th>std</th>\n",
              "      <td>1.238861</td>\n",
              "    </tr>\n",
              "    <tr>\n",
              "      <th>min</th>\n",
              "      <td>0.000000</td>\n",
              "    </tr>\n",
              "    <tr>\n",
              "      <th>25%</th>\n",
              "      <td>0.000000</td>\n",
              "    </tr>\n",
              "    <tr>\n",
              "      <th>50%</th>\n",
              "      <td>0.000000</td>\n",
              "    </tr>\n",
              "    <tr>\n",
              "      <th>75%</th>\n",
              "      <td>0.000000</td>\n",
              "    </tr>\n",
              "    <tr>\n",
              "      <th>max</th>\n",
              "      <td>88.000000</td>\n",
              "    </tr>\n",
              "  </tbody>\n",
              "</table>\n",
              "</div><br><label><b>dtype:</b> float64</label>"
            ]
          },
          "metadata": {},
          "execution_count": 14
        }
      ],
      "source": [
        "df_sensor_iraja['chuva'].describe()"
      ]
    },
    {
      "cell_type": "markdown",
      "metadata": {
        "id": "1XA1vvw_JYeW"
      },
      "source": [
        "### Temperatura"
      ]
    },
    {
      "cell_type": "code",
      "execution_count": 15,
      "metadata": {
        "colab": {
          "base_uri": "https://localhost:8080/",
          "height": 335
        },
        "outputId": "03b419d4-965f-4a4e-f552-db4ef2c7eee8",
        "id": "_9XmZnxbJYeW"
      },
      "outputs": [
        {
          "output_type": "execute_result",
          "data": {
            "text/plain": [
              "count    59114.000000\n",
              "mean        27.439119\n",
              "std          4.889536\n",
              "min         14.600000\n",
              "25%         23.840000\n",
              "50%         26.730000\n",
              "75%         30.370000\n",
              "max         45.650000\n",
              "Name: temp, dtype: float64"
            ],
            "text/html": [
              "<div>\n",
              "<style scoped>\n",
              "    .dataframe tbody tr th:only-of-type {\n",
              "        vertical-align: middle;\n",
              "    }\n",
              "\n",
              "    .dataframe tbody tr th {\n",
              "        vertical-align: top;\n",
              "    }\n",
              "\n",
              "    .dataframe thead th {\n",
              "        text-align: right;\n",
              "    }\n",
              "</style>\n",
              "<table border=\"1\" class=\"dataframe\">\n",
              "  <thead>\n",
              "    <tr style=\"text-align: right;\">\n",
              "      <th></th>\n",
              "      <th>temp</th>\n",
              "    </tr>\n",
              "  </thead>\n",
              "  <tbody>\n",
              "    <tr>\n",
              "      <th>count</th>\n",
              "      <td>59114.000000</td>\n",
              "    </tr>\n",
              "    <tr>\n",
              "      <th>mean</th>\n",
              "      <td>27.439119</td>\n",
              "    </tr>\n",
              "    <tr>\n",
              "      <th>std</th>\n",
              "      <td>4.889536</td>\n",
              "    </tr>\n",
              "    <tr>\n",
              "      <th>min</th>\n",
              "      <td>14.600000</td>\n",
              "    </tr>\n",
              "    <tr>\n",
              "      <th>25%</th>\n",
              "      <td>23.840000</td>\n",
              "    </tr>\n",
              "    <tr>\n",
              "      <th>50%</th>\n",
              "      <td>26.730000</td>\n",
              "    </tr>\n",
              "    <tr>\n",
              "      <th>75%</th>\n",
              "      <td>30.370000</td>\n",
              "    </tr>\n",
              "    <tr>\n",
              "      <th>max</th>\n",
              "      <td>45.650000</td>\n",
              "    </tr>\n",
              "  </tbody>\n",
              "</table>\n",
              "</div><br><label><b>dtype:</b> float64</label>"
            ]
          },
          "metadata": {},
          "execution_count": 15
        }
      ],
      "source": [
        "df_sensor_iraja['temp'].describe()"
      ]
    },
    {
      "cell_type": "code",
      "execution_count": 16,
      "metadata": {
        "colab": {
          "base_uri": "https://localhost:8080/"
        },
        "outputId": "c26d05d1-f1f5-4892-c7a1-ac23458d4ff9",
        "cellView": "form",
        "id": "YEPrxSuZJYeX"
      },
      "outputs": [
        {
          "output_type": "stream",
          "name": "stdout",
          "text": [
            "Quantidade de valores vazios: 9837\n"
          ]
        }
      ],
      "source": [
        "#@title Vendo quantidade de valores vazios\n",
        "\n",
        "valroes_vazio = df_sensor_iraja[df_sensor_iraja['temp'].isnull()].groupby(['ano', 'mes']).size().sum()\n",
        "print(f\"Quantidade de valores vazios: {valroes_vazio}\")"
      ]
    },
    {
      "cell_type": "code",
      "execution_count": 17,
      "metadata": {
        "colab": {
          "base_uri": "https://localhost:8080/"
        },
        "outputId": "caa7433e-dd68-4f8f-a13d-63adea246b03",
        "cellView": "form",
        "id": "N0LIJac7JYeX"
      },
      "outputs": [
        {
          "output_type": "stream",
          "name": "stderr",
          "text": [
            "<ipython-input-17-f0c0cd3fb7ed>:3: SettingWithCopyWarning: \n",
            "A value is trying to be set on a copy of a slice from a DataFrame.\n",
            "Try using .loc[row_indexer,col_indexer] = value instead\n",
            "\n",
            "See the caveats in the documentation: https://pandas.pydata.org/pandas-docs/stable/user_guide/indexing.html#returning-a-view-versus-a-copy\n",
            "  df_sensor_iraja['temp_nulos_no_dia'] = (\n"
          ]
        }
      ],
      "source": [
        "#@title Criando coluna que informa a quantidade de valores vazios por dia\n",
        "\n",
        "df_sensor_iraja['temp_nulos_no_dia'] = (\n",
        "    df_sensor_iraja['temp'].isnull()\n",
        "    .groupby(df_sensor_iraja['data_formatada'])\n",
        "    .transform('sum')  # Soma os nulos por dia e repete o valor em todas as linhas do dia\n",
        ")"
      ]
    },
    {
      "cell_type": "code",
      "source": [
        "#@title Distribuição dos valores vazios\n",
        "\n",
        "# Seleciona uma única linha por dia, para evitar repetição\n",
        "df_dias = df_sensor_iraja[df_sensor_iraja['temp_nulos_no_dia'] != 0].groupby('data_formatada')['temp_nulos_no_dia'].first()\n",
        "\n",
        "# Plotar o histograma da contagem de valores nulos por dia\n",
        "plt.figure(figsize=(10,6))\n",
        "plt.hist(df_dias, bins=range(0, df_dias.max() + 2), edgecolor='black', align='left')\n",
        "plt.title('Histograma de Quantidade de Valores Vazios em \"temp\" por Dia')\n",
        "plt.xlabel('Quantidade de valores vazios no dia')\n",
        "plt.ylabel('Número de dias')\n",
        "plt.xticks(range(0, df_dias.max() + 1))\n",
        "plt.grid(axis='y', alpha=0.75)\n",
        "plt.show()"
      ],
      "metadata": {
        "colab": {
          "base_uri": "https://localhost:8080/",
          "height": 564
        },
        "cellView": "form",
        "outputId": "3afd8519-03e9-4ff1-dc89-5cf0dafe7a85",
        "id": "H54zUgYSJYeY"
      },
      "execution_count": 18,
      "outputs": [
        {
          "output_type": "display_data",
          "data": {
            "text/plain": [
              "<Figure size 1000x600 with 1 Axes>"
            ],
            "image/png": "[encoded data removed]"
          },
          "metadata": {}
        }
      ]
    },
    {
      "cell_type": "code",
      "execution_count": 19,
      "metadata": {
        "colab": {
          "base_uri": "https://localhost:8080/"
        },
        "outputId": "d4ef2c5b-665b-4ea7-9799-4a96792fe817",
        "id": "2sCGqFWvJYeY",
        "cellView": "form"
      },
      "outputs": [
        {
          "output_type": "stream",
          "name": "stdout",
          "text": [
            "403 linhas foram preenchidas com interpolate na coluna 'temp'.\n",
            "Foram preenchido 4% de dados\n"
          ]
        }
      ],
      "source": [
        "#@title Preenchimento dos valores nulos utilizando a função interpolate (Preenchendo apenas os que tem menos de 7 linhas vazias por dia)\n",
        "\n",
        "mask = (df_sensor_iraja['temp_nulos_no_dia'] <= 6)\n",
        "\n",
        "num_nulls = df_sensor_iraja[mask]['temp'].isnull().sum()\n",
        "df_sensor_iraja.loc[mask, 'temp'] = df_sensor_iraja[mask]['temp'].interpolate()\n",
        "print(f\"{num_nulls} linhas foram preenchidas com interpolate na coluna 'temp'.\")\n",
        "print(f\"Foram preenchido {round((num_nulls/valroes_vazio)*100)}% de dados\")"
      ]
    },
    {
      "cell_type": "code",
      "execution_count": 20,
      "metadata": {
        "colab": {
          "base_uri": "https://localhost:8080/",
          "height": 335
        },
        "outputId": "74a626a3-0c02-4767-8e48-7bd4eac621e3",
        "id": "2KWSCe6RJYeY"
      },
      "outputs": [
        {
          "output_type": "execute_result",
          "data": {
            "text/plain": [
              "count    59517.000000\n",
              "mean        27.448163\n",
              "std          4.890991\n",
              "min         14.600000\n",
              "25%         23.850000\n",
              "50%         26.750000\n",
              "75%         30.380000\n",
              "max         45.650000\n",
              "Name: temp, dtype: float64"
            ],
            "text/html": [
              "<div>\n",
              "<style scoped>\n",
              "    .dataframe tbody tr th:only-of-type {\n",
              "        vertical-align: middle;\n",
              "    }\n",
              "\n",
              "    .dataframe tbody tr th {\n",
              "        vertical-align: top;\n",
              "    }\n",
              "\n",
              "    .dataframe thead th {\n",
              "        text-align: right;\n",
              "    }\n",
              "</style>\n",
              "<table border=\"1\" class=\"dataframe\">\n",
              "  <thead>\n",
              "    <tr style=\"text-align: right;\">\n",
              "      <th></th>\n",
              "      <th>temp</th>\n",
              "    </tr>\n",
              "  </thead>\n",
              "  <tbody>\n",
              "    <tr>\n",
              "      <th>count</th>\n",
              "      <td>59517.000000</td>\n",
              "    </tr>\n",
              "    <tr>\n",
              "      <th>mean</th>\n",
              "      <td>27.448163</td>\n",
              "    </tr>\n",
              "    <tr>\n",
              "      <th>std</th>\n",
              "      <td>4.890991</td>\n",
              "    </tr>\n",
              "    <tr>\n",
              "      <th>min</th>\n",
              "      <td>14.600000</td>\n",
              "    </tr>\n",
              "    <tr>\n",
              "      <th>25%</th>\n",
              "      <td>23.850000</td>\n",
              "    </tr>\n",
              "    <tr>\n",
              "      <th>50%</th>\n",
              "      <td>26.750000</td>\n",
              "    </tr>\n",
              "    <tr>\n",
              "      <th>75%</th>\n",
              "      <td>30.380000</td>\n",
              "    </tr>\n",
              "    <tr>\n",
              "      <th>max</th>\n",
              "      <td>45.650000</td>\n",
              "    </tr>\n",
              "  </tbody>\n",
              "</table>\n",
              "</div><br><label><b>dtype:</b> float64</label>"
            ]
          },
          "metadata": {},
          "execution_count": 20
        }
      ],
      "source": [
        "df_sensor_iraja['temp'].describe()"
      ]
    },
    {
      "cell_type": "markdown",
      "metadata": {
        "id": "Kw4EN6nOJ7wi"
      },
      "source": [
        "### Umidade relativa"
      ]
    },
    {
      "cell_type": "code",
      "execution_count": 21,
      "metadata": {
        "colab": {
          "base_uri": "https://localhost:8080/",
          "height": 335
        },
        "outputId": "2c10d527-0439-4f7f-ee26-438b145db27c",
        "id": "Zh2KIpc2J7wj"
      },
      "outputs": [
        {
          "output_type": "execute_result",
          "data": {
            "text/plain": [
              "count    52624.000000\n",
              "mean        66.486515\n",
              "std         17.907865\n",
              "min          0.000000\n",
              "25%         53.700000\n",
              "50%         68.705000\n",
              "75%         80.180000\n",
              "max        100.000000\n",
              "Name: ur, dtype: float64"
            ],
            "text/html": [
              "<div>\n",
              "<style scoped>\n",
              "    .dataframe tbody tr th:only-of-type {\n",
              "        vertical-align: middle;\n",
              "    }\n",
              "\n",
              "    .dataframe tbody tr th {\n",
              "        vertical-align: top;\n",
              "    }\n",
              "\n",
              "    .dataframe thead th {\n",
              "        text-align: right;\n",
              "    }\n",
              "</style>\n",
              "<table border=\"1\" class=\"dataframe\">\n",
              "  <thead>\n",
              "    <tr style=\"text-align: right;\">\n",
              "      <th></th>\n",
              "      <th>ur</th>\n",
              "    </tr>\n",
              "  </thead>\n",
              "  <tbody>\n",
              "    <tr>\n",
              "      <th>count</th>\n",
              "      <td>52624.000000</td>\n",
              "    </tr>\n",
              "    <tr>\n",
              "      <th>mean</th>\n",
              "      <td>66.486515</td>\n",
              "    </tr>\n",
              "    <tr>\n",
              "      <th>std</th>\n",
              "      <td>17.907865</td>\n",
              "    </tr>\n",
              "    <tr>\n",
              "      <th>min</th>\n",
              "      <td>0.000000</td>\n",
              "    </tr>\n",
              "    <tr>\n",
              "      <th>25%</th>\n",
              "      <td>53.700000</td>\n",
              "    </tr>\n",
              "    <tr>\n",
              "      <th>50%</th>\n",
              "      <td>68.705000</td>\n",
              "    </tr>\n",
              "    <tr>\n",
              "      <th>75%</th>\n",
              "      <td>80.180000</td>\n",
              "    </tr>\n",
              "    <tr>\n",
              "      <th>max</th>\n",
              "      <td>100.000000</td>\n",
              "    </tr>\n",
              "  </tbody>\n",
              "</table>\n",
              "</div><br><label><b>dtype:</b> float64</label>"
            ]
          },
          "metadata": {},
          "execution_count": 21
        }
      ],
      "source": [
        "df_sensor_iraja['ur'].describe()"
      ]
    },
    {
      "cell_type": "code",
      "execution_count": 22,
      "metadata": {
        "colab": {
          "base_uri": "https://localhost:8080/"
        },
        "outputId": "8a623af8-c8e9-48db-b708-3b1fd5e21552",
        "cellView": "form",
        "id": "p6gLkSsQJ7wk"
      },
      "outputs": [
        {
          "output_type": "stream",
          "name": "stdout",
          "text": [
            "Quantidade de valores vazios: 16327\n"
          ]
        }
      ],
      "source": [
        "#@title Vendo quantidade de valores vazios\n",
        "\n",
        "valroes_vazio = df_sensor_iraja[df_sensor_iraja['ur'].isnull()].groupby(['ano', 'mes']).size().sum()\n",
        "print(f\"Quantidade de valores vazios: {valroes_vazio}\")"
      ]
    },
    {
      "cell_type": "code",
      "execution_count": 23,
      "metadata": {
        "colab": {
          "base_uri": "https://localhost:8080/"
        },
        "outputId": "c58632aa-a057-4893-b9d8-0979e889a17b",
        "cellView": "form",
        "id": "p6USmMKRJ7wk"
      },
      "outputs": [
        {
          "output_type": "stream",
          "name": "stderr",
          "text": [
            "<ipython-input-23-a7ebec8e3bb5>:3: SettingWithCopyWarning: \n",
            "A value is trying to be set on a copy of a slice from a DataFrame.\n",
            "Try using .loc[row_indexer,col_indexer] = value instead\n",
            "\n",
            "See the caveats in the documentation: https://pandas.pydata.org/pandas-docs/stable/user_guide/indexing.html#returning-a-view-versus-a-copy\n",
            "  df_sensor_iraja['ur_nulos_no_dia'] = (\n"
          ]
        }
      ],
      "source": [
        "#@title Criando coluna que informa a quantidade de valores vazios por dia\n",
        "\n",
        "df_sensor_iraja['ur_nulos_no_dia'] = (\n",
        "    df_sensor_iraja['ur'].isnull()\n",
        "    .groupby(df_sensor_iraja['data_formatada'])\n",
        "    .transform('sum')  # Soma os nulos por dia e repete o valor em todas as linhas do dia\n",
        ")"
      ]
    },
    {
      "cell_type": "code",
      "source": [
        "#@title Distribuição dos valores vazios\n",
        "\n",
        "# Seleciona uma única linha por dia, para evitar repetição\n",
        "df_dias = df_sensor_iraja[df_sensor_iraja['ur_nulos_no_dia'] != 0].groupby('data_formatada')['ur_nulos_no_dia'].first()\n",
        "\n",
        "# Plotar o histograma da contagem de valores nulos por dia\n",
        "plt.figure(figsize=(10,6))\n",
        "plt.hist(df_dias, bins=range(0, df_dias.max() + 2), edgecolor='black', align='left')\n",
        "plt.title('Histograma de Quantidade de Valores Vazios em \"ur\" por Dia')\n",
        "plt.xlabel('Quantidade de valores vazios no dia')\n",
        "plt.ylabel('Número de dias')\n",
        "plt.xticks(range(0, df_dias.max() + 1))\n",
        "plt.grid(axis='y', alpha=0.75)\n",
        "plt.show()"
      ],
      "metadata": {
        "colab": {
          "base_uri": "https://localhost:8080/",
          "height": 564
        },
        "cellView": "form",
        "outputId": "b58975ca-2167-4622-e749-73fc30135ab0",
        "id": "eq-mDiJGJ7wk"
      },
      "execution_count": 24,
      "outputs": [
        {
          "output_type": "display_data",
          "data": {
            "text/plain": [
              "<Figure size 1000x600 with 1 Axes>"
            ],
            "image/png": "[encoded data removed]"
          },
          "metadata": {}
        }
      ]
    },
    {
      "cell_type": "code",
      "execution_count": 25,
      "metadata": {
        "colab": {
          "base_uri": "https://localhost:8080/"
        },
        "outputId": "0595229e-5852-48e2-9327-a813815cf1d9",
        "cellView": "form",
        "id": "wwI_91-_J7wk"
      },
      "outputs": [
        {
          "output_type": "stream",
          "name": "stdout",
          "text": [
            "435 linhas foram preenchidas com interpolate na coluna 'ur'.\n",
            "Foram preenchido 3% de dados\n"
          ]
        }
      ],
      "source": [
        "#@title Preenchimento dos valores nulos utilizando a função interpolate (Preenchendo apenas os que tem menos de 7 linhas vazias por dia)\n",
        "\n",
        "mask = (df_sensor_iraja['ur_nulos_no_dia'] <= 6)\n",
        "\n",
        "num_nulls = df_sensor_iraja[mask]['ur'].isnull().sum()\n",
        "df_sensor_iraja.loc[mask, 'ur'] = df_sensor_iraja[mask]['ur'].interpolate()\n",
        "print(f\"{num_nulls} linhas foram preenchidas com interpolate na coluna 'ur'.\")\n",
        "print(f\"Foram preenchido {round((num_nulls/valroes_vazio)*100)}% de dados\")"
      ]
    },
    {
      "cell_type": "code",
      "execution_count": 26,
      "metadata": {
        "colab": {
          "base_uri": "https://localhost:8080/",
          "height": 335
        },
        "outputId": "845a0391-46c0-4be3-9731-f8d5810a2665",
        "id": "pgz04UK9J7wl"
      },
      "outputs": [
        {
          "output_type": "execute_result",
          "data": {
            "text/plain": [
              "count    53059.000000\n",
              "mean        66.469497\n",
              "std         17.923644\n",
              "min          0.000000\n",
              "25%         53.630000\n",
              "50%         68.670000\n",
              "75%         80.180000\n",
              "max        100.000000\n",
              "Name: ur, dtype: float64"
            ],
            "text/html": [
              "<div>\n",
              "<style scoped>\n",
              "    .dataframe tbody tr th:only-of-type {\n",
              "        vertical-align: middle;\n",
              "    }\n",
              "\n",
              "    .dataframe tbody tr th {\n",
              "        vertical-align: top;\n",
              "    }\n",
              "\n",
              "    .dataframe thead th {\n",
              "        text-align: right;\n",
              "    }\n",
              "</style>\n",
              "<table border=\"1\" class=\"dataframe\">\n",
              "  <thead>\n",
              "    <tr style=\"text-align: right;\">\n",
              "      <th></th>\n",
              "      <th>ur</th>\n",
              "    </tr>\n",
              "  </thead>\n",
              "  <tbody>\n",
              "    <tr>\n",
              "      <th>count</th>\n",
              "      <td>53059.000000</td>\n",
              "    </tr>\n",
              "    <tr>\n",
              "      <th>mean</th>\n",
              "      <td>66.469497</td>\n",
              "    </tr>\n",
              "    <tr>\n",
              "      <th>std</th>\n",
              "      <td>17.923644</td>\n",
              "    </tr>\n",
              "    <tr>\n",
              "      <th>min</th>\n",
              "      <td>0.000000</td>\n",
              "    </tr>\n",
              "    <tr>\n",
              "      <th>25%</th>\n",
              "      <td>53.630000</td>\n",
              "    </tr>\n",
              "    <tr>\n",
              "      <th>50%</th>\n",
              "      <td>68.670000</td>\n",
              "    </tr>\n",
              "    <tr>\n",
              "      <th>75%</th>\n",
              "      <td>80.180000</td>\n",
              "    </tr>\n",
              "    <tr>\n",
              "      <th>max</th>\n",
              "      <td>100.000000</td>\n",
              "    </tr>\n",
              "  </tbody>\n",
              "</table>\n",
              "</div><br><label><b>dtype:</b> float64</label>"
            ]
          },
          "metadata": {},
          "execution_count": 26
        }
      ],
      "source": [
        "df_sensor_iraja['ur'].describe()"
      ]
    },
    {
      "cell_type": "markdown",
      "metadata": {
        "id": "CCC7VEL1KuH4"
      },
      "source": [
        "### Monóxido de carbono"
      ]
    },
    {
      "cell_type": "code",
      "execution_count": 27,
      "metadata": {
        "colab": {
          "base_uri": "https://localhost:8080/",
          "height": 335
        },
        "outputId": "78fff74d-ab29-47a3-fd46-c641443e54b2",
        "id": "9dpfUCUfKuH4"
      },
      "outputs": [
        {
          "output_type": "execute_result",
          "data": {
            "text/plain": [
              "count    66427.000000\n",
              "mean         0.441638\n",
              "std          0.291512\n",
              "min          0.000000\n",
              "25%          0.270000\n",
              "50%          0.380000\n",
              "75%          0.530000\n",
              "max          4.620000\n",
              "Name: co, dtype: float64"
            ],
            "text/html": [
              "<div>\n",
              "<style scoped>\n",
              "    .dataframe tbody tr th:only-of-type {\n",
              "        vertical-align: middle;\n",
              "    }\n",
              "\n",
              "    .dataframe tbody tr th {\n",
              "        vertical-align: top;\n",
              "    }\n",
              "\n",
              "    .dataframe thead th {\n",
              "        text-align: right;\n",
              "    }\n",
              "</style>\n",
              "<table border=\"1\" class=\"dataframe\">\n",
              "  <thead>\n",
              "    <tr style=\"text-align: right;\">\n",
              "      <th></th>\n",
              "      <th>co</th>\n",
              "    </tr>\n",
              "  </thead>\n",
              "  <tbody>\n",
              "    <tr>\n",
              "      <th>count</th>\n",
              "      <td>66427.000000</td>\n",
              "    </tr>\n",
              "    <tr>\n",
              "      <th>mean</th>\n",
              "      <td>0.441638</td>\n",
              "    </tr>\n",
              "    <tr>\n",
              "      <th>std</th>\n",
              "      <td>0.291512</td>\n",
              "    </tr>\n",
              "    <tr>\n",
              "      <th>min</th>\n",
              "      <td>0.000000</td>\n",
              "    </tr>\n",
              "    <tr>\n",
              "      <th>25%</th>\n",
              "      <td>0.270000</td>\n",
              "    </tr>\n",
              "    <tr>\n",
              "      <th>50%</th>\n",
              "      <td>0.380000</td>\n",
              "    </tr>\n",
              "    <tr>\n",
              "      <th>75%</th>\n",
              "      <td>0.530000</td>\n",
              "    </tr>\n",
              "    <tr>\n",
              "      <th>max</th>\n",
              "      <td>4.620000</td>\n",
              "    </tr>\n",
              "  </tbody>\n",
              "</table>\n",
              "</div><br><label><b>dtype:</b> float64</label>"
            ]
          },
          "metadata": {},
          "execution_count": 27
        }
      ],
      "source": [
        "df_sensor_iraja['co'].describe()"
      ]
    },
    {
      "cell_type": "code",
      "execution_count": 28,
      "metadata": {
        "colab": {
          "base_uri": "https://localhost:8080/"
        },
        "outputId": "14270d4f-9470-456e-d891-8aee3603361c",
        "cellView": "form",
        "id": "Iph6vPoHKuH5"
      },
      "outputs": [
        {
          "output_type": "stream",
          "name": "stdout",
          "text": [
            "Quantidade de valores vazios: 2524\n"
          ]
        }
      ],
      "source": [
        "#@title Vendo quantidade de valores vazios\n",
        "\n",
        "valroes_vazio = df_sensor_iraja[df_sensor_iraja['co'].isnull()].groupby(['ano', 'mes']).size().sum()\n",
        "print(f\"Quantidade de valores vazios: {valroes_vazio}\")"
      ]
    },
    {
      "cell_type": "code",
      "execution_count": 29,
      "metadata": {
        "colab": {
          "base_uri": "https://localhost:8080/"
        },
        "outputId": "921e64d4-fc4b-4f16-ba2b-4e623450e685",
        "cellView": "form",
        "id": "NnwrJ1lqKuH5"
      },
      "outputs": [
        {
          "output_type": "stream",
          "name": "stderr",
          "text": [
            "<ipython-input-29-80707c7deeea>:3: SettingWithCopyWarning: \n",
            "A value is trying to be set on a copy of a slice from a DataFrame.\n",
            "Try using .loc[row_indexer,col_indexer] = value instead\n",
            "\n",
            "See the caveats in the documentation: https://pandas.pydata.org/pandas-docs/stable/user_guide/indexing.html#returning-a-view-versus-a-copy\n",
            "  df_sensor_iraja['co_nulos_no_dia'] = (\n"
          ]
        }
      ],
      "source": [
        "#@title Criando coluna que informa a quantidade de valores vazios por dia\n",
        "\n",
        "df_sensor_iraja['co_nulos_no_dia'] = (\n",
        "    df_sensor_iraja['co'].isnull()\n",
        "    .groupby(df_sensor_iraja['data_formatada'])\n",
        "    .transform('sum')  # Soma os nulos por dia e repete o valor em todas as linhas do dia\n",
        ")"
      ]
    },
    {
      "cell_type": "code",
      "source": [
        "#@title Distribuição dos valores vazios\n",
        "\n",
        "# Seleciona uma única linha por dia, para evitar repetição\n",
        "df_dias = df_sensor_iraja[df_sensor_iraja['co_nulos_no_dia'] != 0].groupby('data_formatada')['co_nulos_no_dia'].first()\n",
        "\n",
        "# Plotar o histograma da contagem de valores nulos por dia\n",
        "plt.figure(figsize=(10,6))\n",
        "plt.hist(df_dias, bins=range(0, df_dias.max() + 2), edgecolor='black', align='left')\n",
        "plt.title(\"Histograma de Quantidade de Valores Vazios em 'co' por Dia\")\n",
        "plt.xlabel('Quantidade de valores vazios no dia')\n",
        "plt.ylabel('Número de dias')\n",
        "plt.xticks(range(0, df_dias.max() + 1))\n",
        "plt.grid(axis='y', alpha=0.75)\n",
        "plt.show()"
      ],
      "metadata": {
        "colab": {
          "base_uri": "https://localhost:8080/",
          "height": 564
        },
        "cellView": "form",
        "outputId": "88f37d76-95c4-4410-b5eb-a2b617e1e6ac",
        "id": "2-VMGpsdKuH5"
      },
      "execution_count": 30,
      "outputs": [
        {
          "output_type": "display_data",
          "data": {
            "text/plain": [
              "<Figure size 1000x600 with 1 Axes>"
            ],
            "image/png": "[encoded data removed]"
          },
          "metadata": {}
        }
      ]
    },
    {
      "cell_type": "code",
      "execution_count": 31,
      "metadata": {
        "colab": {
          "base_uri": "https://localhost:8080/"
        },
        "outputId": "53675c80-e41c-423a-9805-0ff7287ea613",
        "cellView": "form",
        "id": "OZOmu7J9KuH5"
      },
      "outputs": [
        {
          "output_type": "stream",
          "name": "stdout",
          "text": [
            "770 linhas foram preenchidas com interpolate na coluna 'co'.\n",
            "Foram preenchido 31% de dados\n"
          ]
        }
      ],
      "source": [
        "#@title Preenchimento dos valores nulos utilizando a função interpolate (Preenchendo apenas os que tem menos de 7 linhas vazias por dia)\n",
        "\n",
        "mask = (df_sensor_iraja['co_nulos_no_dia'] <= 6)\n",
        "\n",
        "num_nulls = df_sensor_iraja[mask]['co'].isnull().sum()\n",
        "df_sensor_iraja.loc[mask, 'co'] = df_sensor_iraja[mask]['co'].interpolate()\n",
        "print(f\"{num_nulls} linhas foram preenchidas com interpolate na coluna 'co'.\")\n",
        "print(f\"Foram preenchido {round((num_nulls/valroes_vazio)*100)}% de dados\")"
      ]
    },
    {
      "cell_type": "code",
      "execution_count": 32,
      "metadata": {
        "colab": {
          "base_uri": "https://localhost:8080/",
          "height": 335
        },
        "outputId": "cb6dbc46-c41d-485b-8042-24c14ff59f93",
        "id": "1j_2t8uiKuH5"
      },
      "outputs": [
        {
          "output_type": "execute_result",
          "data": {
            "text/plain": [
              "count    67197.000000\n",
              "mean         0.442026\n",
              "std          0.291406\n",
              "min          0.000000\n",
              "25%          0.270000\n",
              "50%          0.390000\n",
              "75%          0.530000\n",
              "max          4.620000\n",
              "Name: co, dtype: float64"
            ],
            "text/html": [
              "<div>\n",
              "<style scoped>\n",
              "    .dataframe tbody tr th:only-of-type {\n",
              "        vertical-align: middle;\n",
              "    }\n",
              "\n",
              "    .dataframe tbody tr th {\n",
              "        vertical-align: top;\n",
              "    }\n",
              "\n",
              "    .dataframe thead th {\n",
              "        text-align: right;\n",
              "    }\n",
              "</style>\n",
              "<table border=\"1\" class=\"dataframe\">\n",
              "  <thead>\n",
              "    <tr style=\"text-align: right;\">\n",
              "      <th></th>\n",
              "      <th>co</th>\n",
              "    </tr>\n",
              "  </thead>\n",
              "  <tbody>\n",
              "    <tr>\n",
              "      <th>count</th>\n",
              "      <td>67197.000000</td>\n",
              "    </tr>\n",
              "    <tr>\n",
              "      <th>mean</th>\n",
              "      <td>0.442026</td>\n",
              "    </tr>\n",
              "    <tr>\n",
              "      <th>std</th>\n",
              "      <td>0.291406</td>\n",
              "    </tr>\n",
              "    <tr>\n",
              "      <th>min</th>\n",
              "      <td>0.000000</td>\n",
              "    </tr>\n",
              "    <tr>\n",
              "      <th>25%</th>\n",
              "      <td>0.270000</td>\n",
              "    </tr>\n",
              "    <tr>\n",
              "      <th>50%</th>\n",
              "      <td>0.390000</td>\n",
              "    </tr>\n",
              "    <tr>\n",
              "      <th>75%</th>\n",
              "      <td>0.530000</td>\n",
              "    </tr>\n",
              "    <tr>\n",
              "      <th>max</th>\n",
              "      <td>4.620000</td>\n",
              "    </tr>\n",
              "  </tbody>\n",
              "</table>\n",
              "</div><br><label><b>dtype:</b> float64</label>"
            ]
          },
          "metadata": {},
          "execution_count": 32
        }
      ],
      "source": [
        "df_sensor_iraja['co'].describe()"
      ]
    },
    {
      "cell_type": "markdown",
      "metadata": {
        "id": "E6XkJ5BvLXB4"
      },
      "source": [
        "### Monóxido de Nitrogênio"
      ]
    },
    {
      "cell_type": "code",
      "execution_count": 33,
      "metadata": {
        "colab": {
          "base_uri": "https://localhost:8080/",
          "height": 335
        },
        "outputId": "f7a6fa11-796c-446a-b63c-79a91347b619",
        "id": "X36xqWTdLXB5"
      },
      "outputs": [
        {
          "output_type": "execute_result",
          "data": {
            "text/plain": [
              "count    64587.000000\n",
              "mean        18.834707\n",
              "std         34.859103\n",
              "min          0.000000\n",
              "25%          3.120000\n",
              "50%          7.250000\n",
              "75%         18.530000\n",
              "max        640.380000\n",
              "Name: no, dtype: float64"
            ],
            "text/html": [
              "<div>\n",
              "<style scoped>\n",
              "    .dataframe tbody tr th:only-of-type {\n",
              "        vertical-align: middle;\n",
              "    }\n",
              "\n",
              "    .dataframe tbody tr th {\n",
              "        vertical-align: top;\n",
              "    }\n",
              "\n",
              "    .dataframe thead th {\n",
              "        text-align: right;\n",
              "    }\n",
              "</style>\n",
              "<table border=\"1\" class=\"dataframe\">\n",
              "  <thead>\n",
              "    <tr style=\"text-align: right;\">\n",
              "      <th></th>\n",
              "      <th>no</th>\n",
              "    </tr>\n",
              "  </thead>\n",
              "  <tbody>\n",
              "    <tr>\n",
              "      <th>count</th>\n",
              "      <td>64587.000000</td>\n",
              "    </tr>\n",
              "    <tr>\n",
              "      <th>mean</th>\n",
              "      <td>18.834707</td>\n",
              "    </tr>\n",
              "    <tr>\n",
              "      <th>std</th>\n",
              "      <td>34.859103</td>\n",
              "    </tr>\n",
              "    <tr>\n",
              "      <th>min</th>\n",
              "      <td>0.000000</td>\n",
              "    </tr>\n",
              "    <tr>\n",
              "      <th>25%</th>\n",
              "      <td>3.120000</td>\n",
              "    </tr>\n",
              "    <tr>\n",
              "      <th>50%</th>\n",
              "      <td>7.250000</td>\n",
              "    </tr>\n",
              "    <tr>\n",
              "      <th>75%</th>\n",
              "      <td>18.530000</td>\n",
              "    </tr>\n",
              "    <tr>\n",
              "      <th>max</th>\n",
              "      <td>640.380000</td>\n",
              "    </tr>\n",
              "  </tbody>\n",
              "</table>\n",
              "</div><br><label><b>dtype:</b> float64</label>"
            ]
          },
          "metadata": {},
          "execution_count": 33
        }
      ],
      "source": [
        "df_sensor_iraja['no'].describe()"
      ]
    },
    {
      "cell_type": "code",
      "execution_count": 34,
      "metadata": {
        "colab": {
          "base_uri": "https://localhost:8080/"
        },
        "outputId": "ce612507-f0b1-438d-b99a-693e04896a7e",
        "cellView": "form",
        "id": "Y26pA0GcLXB6"
      },
      "outputs": [
        {
          "output_type": "stream",
          "name": "stdout",
          "text": [
            "Quantidade de valores vazios: 4364\n"
          ]
        }
      ],
      "source": [
        "#@title Vendo quantidade de valores vazios\n",
        "\n",
        "valroes_vazio = df_sensor_iraja[df_sensor_iraja['no'].isnull()].groupby(['ano', 'mes']).size().sum()\n",
        "print(f\"Quantidade de valores vazios: {valroes_vazio}\")"
      ]
    },
    {
      "cell_type": "code",
      "execution_count": 35,
      "metadata": {
        "colab": {
          "base_uri": "https://localhost:8080/"
        },
        "outputId": "bd2f4224-e5db-4b72-f8b2-9d5e4a4c97fd",
        "cellView": "form",
        "id": "sAcauzMYLXB6"
      },
      "outputs": [
        {
          "output_type": "stream",
          "name": "stderr",
          "text": [
            "<ipython-input-35-7114b3a80705>:3: SettingWithCopyWarning: \n",
            "A value is trying to be set on a copy of a slice from a DataFrame.\n",
            "Try using .loc[row_indexer,col_indexer] = value instead\n",
            "\n",
            "See the caveats in the documentation: https://pandas.pydata.org/pandas-docs/stable/user_guide/indexing.html#returning-a-view-versus-a-copy\n",
            "  df_sensor_iraja['no_nulos_no_dia'] = (\n"
          ]
        }
      ],
      "source": [
        "#@title Criando coluna que informa a quantidade de valores vazios por dia\n",
        "\n",
        "df_sensor_iraja['no_nulos_no_dia'] = (\n",
        "    df_sensor_iraja['no'].isnull()\n",
        "    .groupby(df_sensor_iraja['data_formatada'])\n",
        "    .transform('sum')  # Soma os nulos por dia e repete o valor em todas as linhas do dia\n",
        ")"
      ]
    },
    {
      "cell_type": "code",
      "source": [
        "#@title Distribuição dos valores vazios\n",
        "\n",
        "# Seleciona uma única linha por dia, para evitar repetição\n",
        "df_dias = df_sensor_iraja[df_sensor_iraja['no_nulos_no_dia'] != 0].groupby('data_formatada')['no_nulos_no_dia'].first()\n",
        "\n",
        "# Plotar o histograma da contagem de valores nulos por dia\n",
        "plt.figure(figsize=(10,6))\n",
        "plt.hist(df_dias, bins=range(0, df_dias.max() + 2), edgecolor='black', align='left')\n",
        "plt.title(\"Histograma de Quantidade de Valores Vazios em 'no' por Dia\")\n",
        "plt.xlabel('Quantidade de valores vazios no dia')\n",
        "plt.ylabel('Número de dias')\n",
        "plt.xticks(range(0, df_dias.max() + 1))\n",
        "plt.grid(axis='y', alpha=0.75)\n",
        "plt.show()"
      ],
      "metadata": {
        "colab": {
          "base_uri": "https://localhost:8080/",
          "height": 564
        },
        "cellView": "form",
        "outputId": "8a4b8e9b-97dd-4125-d5f4-e44d27b6bd12",
        "id": "4tgQJdoOLXB7"
      },
      "execution_count": 36,
      "outputs": [
        {
          "output_type": "display_data",
          "data": {
            "text/plain": [
              "<Figure size 1000x600 with 1 Axes>"
            ],
            "image/png": "[encoded data removed]"
          },
          "metadata": {}
        }
      ]
    },
    {
      "cell_type": "code",
      "execution_count": 37,
      "metadata": {
        "colab": {
          "base_uri": "https://localhost:8080/"
        },
        "outputId": "bcfa8492-3f29-4aed-c477-951cc3e888df",
        "cellView": "form",
        "id": "MpnzHkQ9LXB7"
      },
      "outputs": [
        {
          "output_type": "stream",
          "name": "stdout",
          "text": [
            "1279 linhas foram preenchidas com interpolate na coluna 'no'.\n",
            "Foram preenchido 29% de dados\n"
          ]
        }
      ],
      "source": [
        "#@title Preenchimento dos valores nulos utilizando a função interpolate (Preenchendo apenas os que tem menos de 7 linhas vazias por dia)\n",
        "\n",
        "mask = (df_sensor_iraja['no_nulos_no_dia'] <= 6)\n",
        "\n",
        "num_nulls = df_sensor_iraja[mask]['no'].isnull().sum()\n",
        "df_sensor_iraja.loc[mask, 'no'] = df_sensor_iraja[mask]['no'].interpolate()\n",
        "print(f\"{num_nulls} linhas foram preenchidas com interpolate na coluna 'no'.\")\n",
        "print(f\"Foram preenchido {round((num_nulls/valroes_vazio)*100)}% de dados\")"
      ]
    },
    {
      "cell_type": "code",
      "execution_count": 38,
      "metadata": {
        "colab": {
          "base_uri": "https://localhost:8080/",
          "height": 335
        },
        "outputId": "9898377d-2c16-45a8-d28d-c674ede045be",
        "id": "tof4xFlCLXB7"
      },
      "outputs": [
        {
          "output_type": "execute_result",
          "data": {
            "text/plain": [
              "count    65866.000000\n",
              "mean        18.744827\n",
              "std         34.732785\n",
              "min          0.000000\n",
              "25%          3.100000\n",
              "50%          7.240000\n",
              "75%         18.407500\n",
              "max        640.380000\n",
              "Name: no, dtype: float64"
            ],
            "text/html": [
              "<div>\n",
              "<style scoped>\n",
              "    .dataframe tbody tr th:only-of-type {\n",
              "        vertical-align: middle;\n",
              "    }\n",
              "\n",
              "    .dataframe tbody tr th {\n",
              "        vertical-align: top;\n",
              "    }\n",
              "\n",
              "    .dataframe thead th {\n",
              "        text-align: right;\n",
              "    }\n",
              "</style>\n",
              "<table border=\"1\" class=\"dataframe\">\n",
              "  <thead>\n",
              "    <tr style=\"text-align: right;\">\n",
              "      <th></th>\n",
              "      <th>no</th>\n",
              "    </tr>\n",
              "  </thead>\n",
              "  <tbody>\n",
              "    <tr>\n",
              "      <th>count</th>\n",
              "      <td>65866.000000</td>\n",
              "    </tr>\n",
              "    <tr>\n",
              "      <th>mean</th>\n",
              "      <td>18.744827</td>\n",
              "    </tr>\n",
              "    <tr>\n",
              "      <th>std</th>\n",
              "      <td>34.732785</td>\n",
              "    </tr>\n",
              "    <tr>\n",
              "      <th>min</th>\n",
              "      <td>0.000000</td>\n",
              "    </tr>\n",
              "    <tr>\n",
              "      <th>25%</th>\n",
              "      <td>3.100000</td>\n",
              "    </tr>\n",
              "    <tr>\n",
              "      <th>50%</th>\n",
              "      <td>7.240000</td>\n",
              "    </tr>\n",
              "    <tr>\n",
              "      <th>75%</th>\n",
              "      <td>18.407500</td>\n",
              "    </tr>\n",
              "    <tr>\n",
              "      <th>max</th>\n",
              "      <td>640.380000</td>\n",
              "    </tr>\n",
              "  </tbody>\n",
              "</table>\n",
              "</div><br><label><b>dtype:</b> float64</label>"
            ]
          },
          "metadata": {},
          "execution_count": 38
        }
      ],
      "source": [
        "df_sensor_iraja['no'].describe()"
      ]
    },
    {
      "cell_type": "markdown",
      "metadata": {
        "id": "EUmmcBfRL3FQ"
      },
      "source": [
        "### Dióxido de Nitrogênio"
      ]
    },
    {
      "cell_type": "code",
      "execution_count": 39,
      "metadata": {
        "colab": {
          "base_uri": "https://localhost:8080/",
          "height": 335
        },
        "outputId": "f30a6177-1821-4584-8d93-f08450c16a11",
        "id": "c94PNq-eL3FR"
      },
      "outputs": [
        {
          "output_type": "execute_result",
          "data": {
            "text/plain": [
              "count    64586.000000\n",
              "mean        41.033458\n",
              "std         20.491612\n",
              "min          0.000000\n",
              "25%         26.380000\n",
              "50%         37.680000\n",
              "75%         51.380000\n",
              "max        211.810000\n",
              "Name: no2, dtype: float64"
            ],
            "text/html": [
              "<div>\n",
              "<style scoped>\n",
              "    .dataframe tbody tr th:only-of-type {\n",
              "        vertical-align: middle;\n",
              "    }\n",
              "\n",
              "    .dataframe tbody tr th {\n",
              "        vertical-align: top;\n",
              "    }\n",
              "\n",
              "    .dataframe thead th {\n",
              "        text-align: right;\n",
              "    }\n",
              "</style>\n",
              "<table border=\"1\" class=\"dataframe\">\n",
              "  <thead>\n",
              "    <tr style=\"text-align: right;\">\n",
              "      <th></th>\n",
              "      <th>no2</th>\n",
              "    </tr>\n",
              "  </thead>\n",
              "  <tbody>\n",
              "    <tr>\n",
              "      <th>count</th>\n",
              "      <td>64586.000000</td>\n",
              "    </tr>\n",
              "    <tr>\n",
              "      <th>mean</th>\n",
              "      <td>41.033458</td>\n",
              "    </tr>\n",
              "    <tr>\n",
              "      <th>std</th>\n",
              "      <td>20.491612</td>\n",
              "    </tr>\n",
              "    <tr>\n",
              "      <th>min</th>\n",
              "      <td>0.000000</td>\n",
              "    </tr>\n",
              "    <tr>\n",
              "      <th>25%</th>\n",
              "      <td>26.380000</td>\n",
              "    </tr>\n",
              "    <tr>\n",
              "      <th>50%</th>\n",
              "      <td>37.680000</td>\n",
              "    </tr>\n",
              "    <tr>\n",
              "      <th>75%</th>\n",
              "      <td>51.380000</td>\n",
              "    </tr>\n",
              "    <tr>\n",
              "      <th>max</th>\n",
              "      <td>211.810000</td>\n",
              "    </tr>\n",
              "  </tbody>\n",
              "</table>\n",
              "</div><br><label><b>dtype:</b> float64</label>"
            ]
          },
          "metadata": {},
          "execution_count": 39
        }
      ],
      "source": [
        "df_sensor_iraja['no2'].describe()"
      ]
    },
    {
      "cell_type": "code",
      "execution_count": 40,
      "metadata": {
        "colab": {
          "base_uri": "https://localhost:8080/"
        },
        "outputId": "80f92974-1d10-452c-824b-0eacc98b3c1a",
        "cellView": "form",
        "id": "cZF6XGcJL3FR"
      },
      "outputs": [
        {
          "output_type": "stream",
          "name": "stdout",
          "text": [
            "Quantidade de valores vazios: 4365\n"
          ]
        }
      ],
      "source": [
        "#@title Vendo quantidade de valores vazios\n",
        "\n",
        "valroes_vazio = df_sensor_iraja[df_sensor_iraja['no2'].isnull()].groupby(['ano', 'mes']).size().sum()\n",
        "print(f\"Quantidade de valores vazios: {valroes_vazio}\")"
      ]
    },
    {
      "cell_type": "code",
      "execution_count": 41,
      "metadata": {
        "colab": {
          "base_uri": "https://localhost:8080/"
        },
        "outputId": "5fa66ddb-dffb-4800-c560-6239e3fd90da",
        "cellView": "form",
        "id": "JirjBMu1L3FR"
      },
      "outputs": [
        {
          "output_type": "stream",
          "name": "stderr",
          "text": [
            "<ipython-input-41-375e13fc8d0d>:3: SettingWithCopyWarning: \n",
            "A value is trying to be set on a copy of a slice from a DataFrame.\n",
            "Try using .loc[row_indexer,col_indexer] = value instead\n",
            "\n",
            "See the caveats in the documentation: https://pandas.pydata.org/pandas-docs/stable/user_guide/indexing.html#returning-a-view-versus-a-copy\n",
            "  df_sensor_iraja['no2_nulos_no_dia'] = (\n"
          ]
        }
      ],
      "source": [
        "#@title Criando coluna que informa a quantidade de valores vazios por dia\n",
        "\n",
        "df_sensor_iraja['no2_nulos_no_dia'] = (\n",
        "    df_sensor_iraja['no2'].isnull()\n",
        "    .groupby(df_sensor_iraja['data_formatada'])\n",
        "    .transform('sum')  # Soma os nulos por dia e repete o valor em todas as linhas do dia\n",
        ")"
      ]
    },
    {
      "cell_type": "code",
      "source": [
        "#@title Distribuição dos valores vazios\n",
        "\n",
        "# Seleciona uma única linha por dia, para evitar repetição\n",
        "df_dias = df_sensor_iraja[df_sensor_iraja['no2_nulos_no_dia'] != 0].groupby('data_formatada')['no2_nulos_no_dia'].first()\n",
        "\n",
        "# Plotar o histograma da contagem de valores nulos por dia\n",
        "plt.figure(figsize=(10,6))\n",
        "plt.hist(df_dias, bins=range(0, df_dias.max() + 2), edgecolor='black', align='left')\n",
        "plt.title(\"Histograma de Quantidade de Valores Vazios em 'no2' por Dia\")\n",
        "plt.xlabel('Quantidade de valores vazios no dia')\n",
        "plt.ylabel('Número de dias')\n",
        "plt.xticks(range(0, df_dias.max() + 1))\n",
        "plt.grid(axis='y', alpha=0.75)\n",
        "plt.show()"
      ],
      "metadata": {
        "colab": {
          "base_uri": "https://localhost:8080/",
          "height": 564
        },
        "cellView": "form",
        "outputId": "d1148b79-1bea-4403-c971-a02afbcf1ab0",
        "id": "PEuziQG6L3FR"
      },
      "execution_count": 42,
      "outputs": [
        {
          "output_type": "display_data",
          "data": {
            "text/plain": [
              "<Figure size 1000x600 with 1 Axes>"
            ],
            "image/png": "[encoded data removed]"
          },
          "metadata": {}
        }
      ]
    },
    {
      "cell_type": "code",
      "execution_count": 43,
      "metadata": {
        "colab": {
          "base_uri": "https://localhost:8080/"
        },
        "outputId": "ea6a4eb6-d192-4f7f-f1d8-b6c68f08bb1d",
        "cellView": "form",
        "id": "BXBQoMkTL3FR"
      },
      "outputs": [
        {
          "output_type": "stream",
          "name": "stdout",
          "text": [
            "1271 linhas foram preenchidas com interpolate na coluna 'no2'.\n",
            "Foram preenchido 29% de dados\n"
          ]
        }
      ],
      "source": [
        "#@title Preenchimento dos valores nulos utilizando a função interpolate (Preenchendo apenas os que tem menos de 7 linhas vazias por dia)\n",
        "\n",
        "mask = (df_sensor_iraja['no2_nulos_no_dia'] <= 6)\n",
        "\n",
        "num_nulls = df_sensor_iraja[mask]['no2'].isnull().sum()\n",
        "df_sensor_iraja.loc[mask, 'no2'] = df_sensor_iraja[mask]['no2'].interpolate()\n",
        "print(f\"{num_nulls} linhas foram preenchidas com interpolate na coluna 'no2'.\")\n",
        "print(f\"Foram preenchido {round((num_nulls/valroes_vazio)*100)}% de dados\")"
      ]
    },
    {
      "cell_type": "code",
      "execution_count": 44,
      "metadata": {
        "colab": {
          "base_uri": "https://localhost:8080/",
          "height": 335
        },
        "outputId": "663d526f-9953-4f0e-ddd1-0594667146d0",
        "id": "_kik1WaAL3FR"
      },
      "outputs": [
        {
          "output_type": "execute_result",
          "data": {
            "text/plain": [
              "count    65857.000000\n",
              "mean        40.982319\n",
              "std         20.493928\n",
              "min          0.000000\n",
              "25%         26.330000\n",
              "50%         37.620000\n",
              "75%         51.313333\n",
              "max        211.810000\n",
              "Name: no2, dtype: float64"
            ],
            "text/html": [
              "<div>\n",
              "<style scoped>\n",
              "    .dataframe tbody tr th:only-of-type {\n",
              "        vertical-align: middle;\n",
              "    }\n",
              "\n",
              "    .dataframe tbody tr th {\n",
              "        vertical-align: top;\n",
              "    }\n",
              "\n",
              "    .dataframe thead th {\n",
              "        text-align: right;\n",
              "    }\n",
              "</style>\n",
              "<table border=\"1\" class=\"dataframe\">\n",
              "  <thead>\n",
              "    <tr style=\"text-align: right;\">\n",
              "      <th></th>\n",
              "      <th>no2</th>\n",
              "    </tr>\n",
              "  </thead>\n",
              "  <tbody>\n",
              "    <tr>\n",
              "      <th>count</th>\n",
              "      <td>65857.000000</td>\n",
              "    </tr>\n",
              "    <tr>\n",
              "      <th>mean</th>\n",
              "      <td>40.982319</td>\n",
              "    </tr>\n",
              "    <tr>\n",
              "      <th>std</th>\n",
              "      <td>20.493928</td>\n",
              "    </tr>\n",
              "    <tr>\n",
              "      <th>min</th>\n",
              "      <td>0.000000</td>\n",
              "    </tr>\n",
              "    <tr>\n",
              "      <th>25%</th>\n",
              "      <td>26.330000</td>\n",
              "    </tr>\n",
              "    <tr>\n",
              "      <th>50%</th>\n",
              "      <td>37.620000</td>\n",
              "    </tr>\n",
              "    <tr>\n",
              "      <th>75%</th>\n",
              "      <td>51.313333</td>\n",
              "    </tr>\n",
              "    <tr>\n",
              "      <th>max</th>\n",
              "      <td>211.810000</td>\n",
              "    </tr>\n",
              "  </tbody>\n",
              "</table>\n",
              "</div><br><label><b>dtype:</b> float64</label>"
            ]
          },
          "metadata": {},
          "execution_count": 44
        }
      ],
      "source": [
        "df_sensor_iraja['no2'].describe()"
      ]
    },
    {
      "cell_type": "markdown",
      "metadata": {
        "id": "_lsKfMaUMVWn"
      },
      "source": [
        "### Óxido de Nitrogênio"
      ]
    },
    {
      "cell_type": "code",
      "execution_count": 45,
      "metadata": {
        "colab": {
          "base_uri": "https://localhost:8080/",
          "height": 335
        },
        "outputId": "1e892a72-8a51-467d-dba8-2f62de0d3d18",
        "id": "5Z-DzzjTMVWo"
      },
      "outputs": [
        {
          "output_type": "execute_result",
          "data": {
            "text/plain": [
              "count    64582.000000\n",
              "mean        59.856572\n",
              "std         47.832084\n",
              "min          0.000000\n",
              "25%         31.060000\n",
              "50%         46.570000\n",
              "75%         72.190000\n",
              "max        702.670000\n",
              "Name: nox, dtype: float64"
            ],
            "text/html": [
              "<div>\n",
              "<style scoped>\n",
              "    .dataframe tbody tr th:only-of-type {\n",
              "        vertical-align: middle;\n",
              "    }\n",
              "\n",
              "    .dataframe tbody tr th {\n",
              "        vertical-align: top;\n",
              "    }\n",
              "\n",
              "    .dataframe thead th {\n",
              "        text-align: right;\n",
              "    }\n",
              "</style>\n",
              "<table border=\"1\" class=\"dataframe\">\n",
              "  <thead>\n",
              "    <tr style=\"text-align: right;\">\n",
              "      <th></th>\n",
              "      <th>nox</th>\n",
              "    </tr>\n",
              "  </thead>\n",
              "  <tbody>\n",
              "    <tr>\n",
              "      <th>count</th>\n",
              "      <td>64582.000000</td>\n",
              "    </tr>\n",
              "    <tr>\n",
              "      <th>mean</th>\n",
              "      <td>59.856572</td>\n",
              "    </tr>\n",
              "    <tr>\n",
              "      <th>std</th>\n",
              "      <td>47.832084</td>\n",
              "    </tr>\n",
              "    <tr>\n",
              "      <th>min</th>\n",
              "      <td>0.000000</td>\n",
              "    </tr>\n",
              "    <tr>\n",
              "      <th>25%</th>\n",
              "      <td>31.060000</td>\n",
              "    </tr>\n",
              "    <tr>\n",
              "      <th>50%</th>\n",
              "      <td>46.570000</td>\n",
              "    </tr>\n",
              "    <tr>\n",
              "      <th>75%</th>\n",
              "      <td>72.190000</td>\n",
              "    </tr>\n",
              "    <tr>\n",
              "      <th>max</th>\n",
              "      <td>702.670000</td>\n",
              "    </tr>\n",
              "  </tbody>\n",
              "</table>\n",
              "</div><br><label><b>dtype:</b> float64</label>"
            ]
          },
          "metadata": {},
          "execution_count": 45
        }
      ],
      "source": [
        "df_sensor_iraja['nox'].describe()"
      ]
    },
    {
      "cell_type": "code",
      "execution_count": 46,
      "metadata": {
        "colab": {
          "base_uri": "https://localhost:8080/"
        },
        "outputId": "0ac7de8c-de54-4bf5-b878-2a725aebe2f1",
        "cellView": "form",
        "id": "6eCJkUmBMVWo"
      },
      "outputs": [
        {
          "output_type": "stream",
          "name": "stdout",
          "text": [
            "Quantidade de valores vazios: 4369\n"
          ]
        }
      ],
      "source": [
        "#@title Vendo quantidade de valores vazios\n",
        "\n",
        "valroes_vazio = df_sensor_iraja[df_sensor_iraja['nox'].isnull()].groupby(['ano', 'mes']).size().sum()\n",
        "print(f\"Quantidade de valores vazios: {valroes_vazio}\")"
      ]
    },
    {
      "cell_type": "code",
      "execution_count": 47,
      "metadata": {
        "colab": {
          "base_uri": "https://localhost:8080/"
        },
        "outputId": "d3c7733a-e600-4dfe-dff7-ae4b7fceaed8",
        "cellView": "form",
        "id": "arTstOYcMVWp"
      },
      "outputs": [
        {
          "output_type": "stream",
          "name": "stderr",
          "text": [
            "<ipython-input-47-5e4feb58038b>:3: SettingWithCopyWarning: \n",
            "A value is trying to be set on a copy of a slice from a DataFrame.\n",
            "Try using .loc[row_indexer,col_indexer] = value instead\n",
            "\n",
            "See the caveats in the documentation: https://pandas.pydata.org/pandas-docs/stable/user_guide/indexing.html#returning-a-view-versus-a-copy\n",
            "  df_sensor_iraja['nox_nulos_no_dia'] = (\n"
          ]
        }
      ],
      "source": [
        "#@title Criando coluna que informa a quantidade de valores vazios por dia\n",
        "\n",
        "df_sensor_iraja['nox_nulos_no_dia'] = (\n",
        "    df_sensor_iraja['nox'].isnull()\n",
        "    .groupby(df_sensor_iraja['data_formatada'])\n",
        "    .transform('sum')  # Soma os nulos por dia e repete o valor em todas as linhas do dia\n",
        ")"
      ]
    },
    {
      "cell_type": "code",
      "source": [
        "#@title Distribuição dos valores vazios\n",
        "\n",
        "# Seleciona uma única linha por dia, para evitar repetição\n",
        "df_dias = df_sensor_iraja[df_sensor_iraja['nox_nulos_no_dia'] != 0].groupby('data_formatada')['nox_nulos_no_dia'].first()\n",
        "\n",
        "# Plotar o histograma da contagem de valores nulos por dia\n",
        "plt.figure(figsize=(10,6))\n",
        "plt.hist(df_dias, bins=range(0, df_dias.max() + 2), edgecolor='black', align='left')\n",
        "plt.title(\"Histograma de Quantidade de Valores Vazios em 'nox' por Dia\")\n",
        "plt.xlabel('Quantidade de valores vazios no dia')\n",
        "plt.ylabel('Número de dias')\n",
        "plt.xticks(range(0, df_dias.max() + 1))\n",
        "plt.grid(axis='y', alpha=0.75)\n",
        "plt.show()"
      ],
      "metadata": {
        "colab": {
          "base_uri": "https://localhost:8080/",
          "height": 564
        },
        "cellView": "form",
        "outputId": "37fee59a-1449-4171-d0b6-b2cd5891d8dd",
        "id": "uR0Iri7RMVWp"
      },
      "execution_count": 48,
      "outputs": [
        {
          "output_type": "display_data",
          "data": {
            "text/plain": [
              "<Figure size 1000x600 with 1 Axes>"
            ],
            "image/png": "[encoded data removed]"
          },
          "metadata": {}
        }
      ]
    },
    {
      "cell_type": "code",
      "execution_count": 49,
      "metadata": {
        "colab": {
          "base_uri": "https://localhost:8080/"
        },
        "outputId": "334cb472-089b-4058-de81-ea4d34eea959",
        "cellView": "form",
        "id": "oFZPdVecMVWp"
      },
      "outputs": [
        {
          "output_type": "stream",
          "name": "stdout",
          "text": [
            "1279 linhas foram preenchidas com interpolate na coluna 'nox'.\n",
            "Foram preenchido 29% de dados\n"
          ]
        }
      ],
      "source": [
        "#@title Preenchimento dos valores nulos utilizando a função interpolate (Preenchendo apenas os que tem menos de 7 linhas vazias por dia)\n",
        "\n",
        "mask = (df_sensor_iraja['nox_nulos_no_dia'] <= 6)\n",
        "\n",
        "num_nulls = df_sensor_iraja[mask]['nox'].isnull().sum()\n",
        "df_sensor_iraja.loc[mask, 'nox'] = df_sensor_iraja[mask]['nox'].interpolate()\n",
        "print(f\"{num_nulls} linhas foram preenchidas com interpolate na coluna 'nox'.\")\n",
        "print(f\"Foram preenchido {round((num_nulls/valroes_vazio)*100)}% de dados\")"
      ]
    },
    {
      "cell_type": "code",
      "execution_count": 50,
      "metadata": {
        "colab": {
          "base_uri": "https://localhost:8080/",
          "height": 335
        },
        "outputId": "9280cfaf-6b29-404e-9c9d-caccc21ef166",
        "id": "TZjwHNM_MVWp"
      },
      "outputs": [
        {
          "output_type": "execute_result",
          "data": {
            "text/plain": [
              "count    65861.000000\n",
              "mean        59.710520\n",
              "std         47.696563\n",
              "min          0.000000\n",
              "25%         31.020000\n",
              "50%         46.450000\n",
              "75%         72.030000\n",
              "max        702.670000\n",
              "Name: nox, dtype: float64"
            ],
            "text/html": [
              "<div>\n",
              "<style scoped>\n",
              "    .dataframe tbody tr th:only-of-type {\n",
              "        vertical-align: middle;\n",
              "    }\n",
              "\n",
              "    .dataframe tbody tr th {\n",
              "        vertical-align: top;\n",
              "    }\n",
              "\n",
              "    .dataframe thead th {\n",
              "        text-align: right;\n",
              "    }\n",
              "</style>\n",
              "<table border=\"1\" class=\"dataframe\">\n",
              "  <thead>\n",
              "    <tr style=\"text-align: right;\">\n",
              "      <th></th>\n",
              "      <th>nox</th>\n",
              "    </tr>\n",
              "  </thead>\n",
              "  <tbody>\n",
              "    <tr>\n",
              "      <th>count</th>\n",
              "      <td>65861.000000</td>\n",
              "    </tr>\n",
              "    <tr>\n",
              "      <th>mean</th>\n",
              "      <td>59.710520</td>\n",
              "    </tr>\n",
              "    <tr>\n",
              "      <th>std</th>\n",
              "      <td>47.696563</td>\n",
              "    </tr>\n",
              "    <tr>\n",
              "      <th>min</th>\n",
              "      <td>0.000000</td>\n",
              "    </tr>\n",
              "    <tr>\n",
              "      <th>25%</th>\n",
              "      <td>31.020000</td>\n",
              "    </tr>\n",
              "    <tr>\n",
              "      <th>50%</th>\n",
              "      <td>46.450000</td>\n",
              "    </tr>\n",
              "    <tr>\n",
              "      <th>75%</th>\n",
              "      <td>72.030000</td>\n",
              "    </tr>\n",
              "    <tr>\n",
              "      <th>max</th>\n",
              "      <td>702.670000</td>\n",
              "    </tr>\n",
              "  </tbody>\n",
              "</table>\n",
              "</div><br><label><b>dtype:</b> float64</label>"
            ]
          },
          "metadata": {},
          "execution_count": 50
        }
      ],
      "source": [
        "df_sensor_iraja['nox'].describe()"
      ]
    },
    {
      "cell_type": "markdown",
      "metadata": {
        "id": "dea3QOhJMs5K"
      },
      "source": [
        "### Dióxido de Enxofre"
      ]
    },
    {
      "cell_type": "code",
      "execution_count": 51,
      "metadata": {
        "colab": {
          "base_uri": "https://localhost:8080/",
          "height": 335
        },
        "outputId": "c194db9c-a69d-46df-85cf-f771f97d45ed",
        "id": "fszCCXqNMs5L"
      },
      "outputs": [
        {
          "output_type": "execute_result",
          "data": {
            "text/plain": [
              "count    52634.000000\n",
              "mean         3.650396\n",
              "std          6.815725\n",
              "min          0.000000\n",
              "25%          0.350000\n",
              "50%          2.020000\n",
              "75%          4.450000\n",
              "max        309.130000\n",
              "Name: so2, dtype: float64"
            ],
            "text/html": [
              "<div>\n",
              "<style scoped>\n",
              "    .dataframe tbody tr th:only-of-type {\n",
              "        vertical-align: middle;\n",
              "    }\n",
              "\n",
              "    .dataframe tbody tr th {\n",
              "        vertical-align: top;\n",
              "    }\n",
              "\n",
              "    .dataframe thead th {\n",
              "        text-align: right;\n",
              "    }\n",
              "</style>\n",
              "<table border=\"1\" class=\"dataframe\">\n",
              "  <thead>\n",
              "    <tr style=\"text-align: right;\">\n",
              "      <th></th>\n",
              "      <th>so2</th>\n",
              "    </tr>\n",
              "  </thead>\n",
              "  <tbody>\n",
              "    <tr>\n",
              "      <th>count</th>\n",
              "      <td>52634.000000</td>\n",
              "    </tr>\n",
              "    <tr>\n",
              "      <th>mean</th>\n",
              "      <td>3.650396</td>\n",
              "    </tr>\n",
              "    <tr>\n",
              "      <th>std</th>\n",
              "      <td>6.815725</td>\n",
              "    </tr>\n",
              "    <tr>\n",
              "      <th>min</th>\n",
              "      <td>0.000000</td>\n",
              "    </tr>\n",
              "    <tr>\n",
              "      <th>25%</th>\n",
              "      <td>0.350000</td>\n",
              "    </tr>\n",
              "    <tr>\n",
              "      <th>50%</th>\n",
              "      <td>2.020000</td>\n",
              "    </tr>\n",
              "    <tr>\n",
              "      <th>75%</th>\n",
              "      <td>4.450000</td>\n",
              "    </tr>\n",
              "    <tr>\n",
              "      <th>max</th>\n",
              "      <td>309.130000</td>\n",
              "    </tr>\n",
              "  </tbody>\n",
              "</table>\n",
              "</div><br><label><b>dtype:</b> float64</label>"
            ]
          },
          "metadata": {},
          "execution_count": 51
        }
      ],
      "source": [
        "df_sensor_iraja['so2'].describe()"
      ]
    },
    {
      "cell_type": "code",
      "execution_count": 52,
      "metadata": {
        "colab": {
          "base_uri": "https://localhost:8080/"
        },
        "outputId": "9f76f60f-dcdf-4ce9-b861-ce1bc35e2d83",
        "cellView": "form",
        "id": "c0RuCYCsMs5L"
      },
      "outputs": [
        {
          "output_type": "stream",
          "name": "stdout",
          "text": [
            "Quantidade de valores vazios: 16317\n"
          ]
        }
      ],
      "source": [
        "#@title Vendo quantidade de valores vazios\n",
        "\n",
        "valroes_vazio = df_sensor_iraja[df_sensor_iraja['so2'].isnull()].groupby(['ano', 'mes']).size().sum()\n",
        "print(f\"Quantidade de valores vazios: {valroes_vazio}\")"
      ]
    },
    {
      "cell_type": "code",
      "execution_count": 53,
      "metadata": {
        "colab": {
          "base_uri": "https://localhost:8080/"
        },
        "outputId": "e5477a46-cdc8-46c1-8878-c4b2f6be12ff",
        "cellView": "form",
        "id": "C4qkCjQHMs5L"
      },
      "outputs": [
        {
          "output_type": "stream",
          "name": "stderr",
          "text": [
            "<ipython-input-53-66fb60ba661a>:3: SettingWithCopyWarning: \n",
            "A value is trying to be set on a copy of a slice from a DataFrame.\n",
            "Try using .loc[row_indexer,col_indexer] = value instead\n",
            "\n",
            "See the caveats in the documentation: https://pandas.pydata.org/pandas-docs/stable/user_guide/indexing.html#returning-a-view-versus-a-copy\n",
            "  df_sensor_iraja['so2_nulos_no_dia'] = (\n"
          ]
        }
      ],
      "source": [
        "#@title Criando coluna que informa a quantidade de valores vazios por dia\n",
        "\n",
        "df_sensor_iraja['so2_nulos_no_dia'] = (\n",
        "    df_sensor_iraja['so2'].isnull()\n",
        "    .groupby(df_sensor_iraja['data_formatada'])\n",
        "    .transform('sum')  # Soma os nulos por dia e repete o valor em todas as linhas do dia\n",
        ")"
      ]
    },
    {
      "cell_type": "code",
      "source": [
        "#@title Distribuição dos valores vazios\n",
        "\n",
        "# Seleciona uma única linha por dia, para evitar repetição\n",
        "df_dias = df_sensor_iraja[df_sensor_iraja['so2_nulos_no_dia'] != 0].groupby('data_formatada')['so2_nulos_no_dia'].first()\n",
        "\n",
        "# Plotar o histograma da contagem de valores nulos por dia\n",
        "plt.figure(figsize=(10,6))\n",
        "plt.hist(df_dias, bins=range(0, df_dias.max() + 2), edgecolor='black', align='left')\n",
        "plt.title(\"Histograma de Quantidade de Valores Vazios em 'so2' por Dia\")\n",
        "plt.xlabel('Quantidade de valores vazios no dia')\n",
        "plt.ylabel('Número de dias')\n",
        "plt.xticks(range(0, df_dias.max() + 1))\n",
        "plt.grid(axis='y', alpha=0.75)\n",
        "plt.show()"
      ],
      "metadata": {
        "colab": {
          "base_uri": "https://localhost:8080/",
          "height": 564
        },
        "cellView": "form",
        "outputId": "769f00f1-1ef8-470d-9916-122701ae0c31",
        "id": "trcgkn9hMs5L"
      },
      "execution_count": 54,
      "outputs": [
        {
          "output_type": "display_data",
          "data": {
            "text/plain": [
              "<Figure size 1000x600 with 1 Axes>"
            ],
            "image/png": "[encoded data removed]"
          },
          "metadata": {}
        }
      ]
    },
    {
      "cell_type": "code",
      "execution_count": 55,
      "metadata": {
        "colab": {
          "base_uri": "https://localhost:8080/"
        },
        "outputId": "693f8b56-3039-4de3-fcea-bf1c4cc17156",
        "cellView": "form",
        "id": "4Vf0xfIGMs5L"
      },
      "outputs": [
        {
          "output_type": "stream",
          "name": "stdout",
          "text": [
            "2487 linhas foram preenchidas com interpolate na coluna 'so2'.\n",
            "Foram preenchido 15% de dados\n"
          ]
        }
      ],
      "source": [
        "#@title Preenchimento dos valores nulos utilizando a função interpolate (Preenchendo apenas os que tem menos de 7 linhas vazias por dia)\n",
        "\n",
        "mask = (df_sensor_iraja['so2_nulos_no_dia'] <= 6)\n",
        "\n",
        "num_nulls = df_sensor_iraja[mask]['so2'].isnull().sum()\n",
        "df_sensor_iraja.loc[mask, 'so2'] = df_sensor_iraja[mask]['so2'].interpolate()\n",
        "print(f\"{num_nulls} linhas foram preenchidas com interpolate na coluna 'so2'.\")\n",
        "print(f\"Foram preenchido {round((num_nulls/valroes_vazio)*100)}% de dados\")"
      ]
    },
    {
      "cell_type": "code",
      "execution_count": 56,
      "metadata": {
        "colab": {
          "base_uri": "https://localhost:8080/",
          "height": 335
        },
        "outputId": "64a4ae6e-5f04-4b79-e0f8-f86efdd31734",
        "id": "tdmsasFgMs5L"
      },
      "outputs": [
        {
          "output_type": "execute_result",
          "data": {
            "text/plain": [
              "count    55121.000000\n",
              "mean         3.658755\n",
              "std          6.750929\n",
              "min          0.000000\n",
              "25%          0.380000\n",
              "50%          2.040000\n",
              "75%          4.460000\n",
              "max        309.130000\n",
              "Name: so2, dtype: float64"
            ],
            "text/html": [
              "<div>\n",
              "<style scoped>\n",
              "    .dataframe tbody tr th:only-of-type {\n",
              "        vertical-align: middle;\n",
              "    }\n",
              "\n",
              "    .dataframe tbody tr th {\n",
              "        vertical-align: top;\n",
              "    }\n",
              "\n",
              "    .dataframe thead th {\n",
              "        text-align: right;\n",
              "    }\n",
              "</style>\n",
              "<table border=\"1\" class=\"dataframe\">\n",
              "  <thead>\n",
              "    <tr style=\"text-align: right;\">\n",
              "      <th></th>\n",
              "      <th>so2</th>\n",
              "    </tr>\n",
              "  </thead>\n",
              "  <tbody>\n",
              "    <tr>\n",
              "      <th>count</th>\n",
              "      <td>55121.000000</td>\n",
              "    </tr>\n",
              "    <tr>\n",
              "      <th>mean</th>\n",
              "      <td>3.658755</td>\n",
              "    </tr>\n",
              "    <tr>\n",
              "      <th>std</th>\n",
              "      <td>6.750929</td>\n",
              "    </tr>\n",
              "    <tr>\n",
              "      <th>min</th>\n",
              "      <td>0.000000</td>\n",
              "    </tr>\n",
              "    <tr>\n",
              "      <th>25%</th>\n",
              "      <td>0.380000</td>\n",
              "    </tr>\n",
              "    <tr>\n",
              "      <th>50%</th>\n",
              "      <td>2.040000</td>\n",
              "    </tr>\n",
              "    <tr>\n",
              "      <th>75%</th>\n",
              "      <td>4.460000</td>\n",
              "    </tr>\n",
              "    <tr>\n",
              "      <th>max</th>\n",
              "      <td>309.130000</td>\n",
              "    </tr>\n",
              "  </tbody>\n",
              "</table>\n",
              "</div><br><label><b>dtype:</b> float64</label>"
            ]
          },
          "metadata": {},
          "execution_count": 56
        }
      ],
      "source": [
        "df_sensor_iraja['so2'].describe()"
      ]
    },
    {
      "cell_type": "markdown",
      "metadata": {
        "id": "DP-WWSHfNYCk"
      },
      "source": [
        "### Ozônio"
      ]
    },
    {
      "cell_type": "code",
      "execution_count": 57,
      "metadata": {
        "colab": {
          "base_uri": "https://localhost:8080/",
          "height": 335
        },
        "outputId": "497eaf71-b4ef-42b8-b011-573b2e408a23",
        "id": "5Wx7SPTJNYCl"
      },
      "outputs": [
        {
          "output_type": "execute_result",
          "data": {
            "text/plain": [
              "count    63028.000000\n",
              "mean        34.364118\n",
              "std         33.909193\n",
              "min          0.000000\n",
              "25%          8.220000\n",
              "50%         25.360000\n",
              "75%         49.500000\n",
              "max        355.450000\n",
              "Name: o3, dtype: float64"
            ],
            "text/html": [
              "<div>\n",
              "<style scoped>\n",
              "    .dataframe tbody tr th:only-of-type {\n",
              "        vertical-align: middle;\n",
              "    }\n",
              "\n",
              "    .dataframe tbody tr th {\n",
              "        vertical-align: top;\n",
              "    }\n",
              "\n",
              "    .dataframe thead th {\n",
              "        text-align: right;\n",
              "    }\n",
              "</style>\n",
              "<table border=\"1\" class=\"dataframe\">\n",
              "  <thead>\n",
              "    <tr style=\"text-align: right;\">\n",
              "      <th></th>\n",
              "      <th>o3</th>\n",
              "    </tr>\n",
              "  </thead>\n",
              "  <tbody>\n",
              "    <tr>\n",
              "      <th>count</th>\n",
              "      <td>63028.000000</td>\n",
              "    </tr>\n",
              "    <tr>\n",
              "      <th>mean</th>\n",
              "      <td>34.364118</td>\n",
              "    </tr>\n",
              "    <tr>\n",
              "      <th>std</th>\n",
              "      <td>33.909193</td>\n",
              "    </tr>\n",
              "    <tr>\n",
              "      <th>min</th>\n",
              "      <td>0.000000</td>\n",
              "    </tr>\n",
              "    <tr>\n",
              "      <th>25%</th>\n",
              "      <td>8.220000</td>\n",
              "    </tr>\n",
              "    <tr>\n",
              "      <th>50%</th>\n",
              "      <td>25.360000</td>\n",
              "    </tr>\n",
              "    <tr>\n",
              "      <th>75%</th>\n",
              "      <td>49.500000</td>\n",
              "    </tr>\n",
              "    <tr>\n",
              "      <th>max</th>\n",
              "      <td>355.450000</td>\n",
              "    </tr>\n",
              "  </tbody>\n",
              "</table>\n",
              "</div><br><label><b>dtype:</b> float64</label>"
            ]
          },
          "metadata": {},
          "execution_count": 57
        }
      ],
      "source": [
        "df_sensor_iraja['o3'].describe()"
      ]
    },
    {
      "cell_type": "code",
      "execution_count": 58,
      "metadata": {
        "colab": {
          "base_uri": "https://localhost:8080/"
        },
        "outputId": "1c8e8c93-1b69-4e7a-ecae-f08eeb0788db",
        "cellView": "form",
        "id": "kXhRQEmoNYCn"
      },
      "outputs": [
        {
          "output_type": "stream",
          "name": "stdout",
          "text": [
            "Quantidade de valores vazios: 5923\n"
          ]
        }
      ],
      "source": [
        "#@title Vendo quantidade de valores vazios\n",
        "\n",
        "valroes_vazio = df_sensor_iraja[df_sensor_iraja['o3'].isnull()].groupby(['ano', 'mes']).size().sum()\n",
        "print(f\"Quantidade de valores vazios: {valroes_vazio}\")"
      ]
    },
    {
      "cell_type": "code",
      "execution_count": 59,
      "metadata": {
        "colab": {
          "base_uri": "https://localhost:8080/"
        },
        "outputId": "27fb665f-4b7a-4c39-f3a4-5166077f7300",
        "cellView": "form",
        "id": "cJBoN4cMNYCn"
      },
      "outputs": [
        {
          "output_type": "stream",
          "name": "stderr",
          "text": [
            "<ipython-input-59-58004409c095>:3: SettingWithCopyWarning: \n",
            "A value is trying to be set on a copy of a slice from a DataFrame.\n",
            "Try using .loc[row_indexer,col_indexer] = value instead\n",
            "\n",
            "See the caveats in the documentation: https://pandas.pydata.org/pandas-docs/stable/user_guide/indexing.html#returning-a-view-versus-a-copy\n",
            "  df_sensor_iraja['o3_nulos_no_dia'] = (\n"
          ]
        }
      ],
      "source": [
        "#@title Criando coluna que informa a quantidade de valores vazios por dia\n",
        "\n",
        "df_sensor_iraja['o3_nulos_no_dia'] = (\n",
        "    df_sensor_iraja['o3'].isnull()\n",
        "    .groupby(df_sensor_iraja['data_formatada'])\n",
        "    .transform('sum')  # Soma os nulos por dia e repete o valor em todas as linhas do dia\n",
        ")"
      ]
    },
    {
      "cell_type": "code",
      "source": [
        "#@title Distribuição dos valores vazios\n",
        "\n",
        "# Seleciona uma única linha por dia, para evitar repetição\n",
        "df_dias = df_sensor_iraja[df_sensor_iraja['o3_nulos_no_dia'] != 0].groupby('data_formatada')['o3_nulos_no_dia'].first()\n",
        "\n",
        "# Plotar o histograma da contagem de valores nulos por dia\n",
        "plt.figure(figsize=(10,6))\n",
        "plt.hist(df_dias, bins=range(0, df_dias.max() + 2), edgecolor='black', align='left')\n",
        "plt.title(\"Histograma de Quantidade de Valores Vazios em 'o3' por Dia\")\n",
        "plt.xlabel('Quantidade de valores vazios no dia')\n",
        "plt.ylabel('Número de dias')\n",
        "plt.xticks(range(0, df_dias.max() + 1))\n",
        "plt.grid(axis='y', alpha=0.75)\n",
        "plt.show()"
      ],
      "metadata": {
        "colab": {
          "base_uri": "https://localhost:8080/",
          "height": 564
        },
        "cellView": "form",
        "outputId": "b0ee1995-f9e1-4fd1-b2d1-a4ed347c560b",
        "id": "Q1ZG0wIONYCn"
      },
      "execution_count": 60,
      "outputs": [
        {
          "output_type": "display_data",
          "data": {
            "text/plain": [
              "<Figure size 1000x600 with 1 Axes>"
            ],
            "image/png": "[encoded data removed]"
          },
          "metadata": {}
        }
      ]
    },
    {
      "cell_type": "code",
      "execution_count": 61,
      "metadata": {
        "colab": {
          "base_uri": "https://localhost:8080/"
        },
        "outputId": "b2e623de-61bd-4ee9-b505-0729f03a6224",
        "cellView": "form",
        "id": "KQwJwPLrNYCo"
      },
      "outputs": [
        {
          "output_type": "stream",
          "name": "stdout",
          "text": [
            "872 linhas foram preenchidas com interpolate na coluna 'o3'.\n",
            "Foram preenchido 15% de dados\n"
          ]
        }
      ],
      "source": [
        "#@title Preenchimento dos valores nulos utilizando a função interpolate (Preenchendo apenas os que tem menos de 7 linhas vazias por dia)\n",
        "\n",
        "mask = (df_sensor_iraja['o3_nulos_no_dia'] <= 6)\n",
        "\n",
        "num_nulls = df_sensor_iraja[mask]['o3'].isnull().sum()\n",
        "df_sensor_iraja.loc[mask, 'o3'] = df_sensor_iraja[mask]['o3'].interpolate()\n",
        "print(f\"{num_nulls} linhas foram preenchidas com interpolate na coluna 'o3'.\")\n",
        "print(f\"Foram preenchido {round((num_nulls/valroes_vazio)*100)}% de dados\")"
      ]
    },
    {
      "cell_type": "code",
      "execution_count": 62,
      "metadata": {
        "colab": {
          "base_uri": "https://localhost:8080/",
          "height": 335
        },
        "outputId": "2c22824a-5121-4bc4-8665-bb0d1611909d",
        "id": "8dJ2VLO3NYCp"
      },
      "outputs": [
        {
          "output_type": "execute_result",
          "data": {
            "text/plain": [
              "count    63900.000000\n",
              "mean        34.507100\n",
              "std         33.899389\n",
              "min          0.000000\n",
              "25%          8.350000\n",
              "50%         25.570000\n",
              "75%         49.710000\n",
              "max        355.450000\n",
              "Name: o3, dtype: float64"
            ],
            "text/html": [
              "<div>\n",
              "<style scoped>\n",
              "    .dataframe tbody tr th:only-of-type {\n",
              "        vertical-align: middle;\n",
              "    }\n",
              "\n",
              "    .dataframe tbody tr th {\n",
              "        vertical-align: top;\n",
              "    }\n",
              "\n",
              "    .dataframe thead th {\n",
              "        text-align: right;\n",
              "    }\n",
              "</style>\n",
              "<table border=\"1\" class=\"dataframe\">\n",
              "  <thead>\n",
              "    <tr style=\"text-align: right;\">\n",
              "      <th></th>\n",
              "      <th>o3</th>\n",
              "    </tr>\n",
              "  </thead>\n",
              "  <tbody>\n",
              "    <tr>\n",
              "      <th>count</th>\n",
              "      <td>63900.000000</td>\n",
              "    </tr>\n",
              "    <tr>\n",
              "      <th>mean</th>\n",
              "      <td>34.507100</td>\n",
              "    </tr>\n",
              "    <tr>\n",
              "      <th>std</th>\n",
              "      <td>33.899389</td>\n",
              "    </tr>\n",
              "    <tr>\n",
              "      <th>min</th>\n",
              "      <td>0.000000</td>\n",
              "    </tr>\n",
              "    <tr>\n",
              "      <th>25%</th>\n",
              "      <td>8.350000</td>\n",
              "    </tr>\n",
              "    <tr>\n",
              "      <th>50%</th>\n",
              "      <td>25.570000</td>\n",
              "    </tr>\n",
              "    <tr>\n",
              "      <th>75%</th>\n",
              "      <td>49.710000</td>\n",
              "    </tr>\n",
              "    <tr>\n",
              "      <th>max</th>\n",
              "      <td>355.450000</td>\n",
              "    </tr>\n",
              "  </tbody>\n",
              "</table>\n",
              "</div><br><label><b>dtype:</b> float64</label>"
            ]
          },
          "metadata": {},
          "execution_count": 62
        }
      ],
      "source": [
        "df_sensor_iraja['o3'].describe()"
      ]
    },
    {
      "cell_type": "markdown",
      "metadata": {
        "id": "x_EfKxffNz6H"
      },
      "source": [
        "### PM10"
      ]
    },
    {
      "cell_type": "code",
      "execution_count": 63,
      "metadata": {
        "colab": {
          "base_uri": "https://localhost:8080/",
          "height": 335
        },
        "outputId": "8aff0c2e-a02c-4930-88ee-70d278e3aebc",
        "id": "PwaB2u12Nz6H"
      },
      "outputs": [
        {
          "output_type": "execute_result",
          "data": {
            "text/plain": [
              "count    65902.000000\n",
              "mean        37.570560\n",
              "std         24.391653\n",
              "min          0.000000\n",
              "25%         22.000000\n",
              "50%         32.000000\n",
              "75%         47.000000\n",
              "max        409.000000\n",
              "Name: pm10, dtype: float64"
            ],
            "text/html": [
              "<div>\n",
              "<style scoped>\n",
              "    .dataframe tbody tr th:only-of-type {\n",
              "        vertical-align: middle;\n",
              "    }\n",
              "\n",
              "    .dataframe tbody tr th {\n",
              "        vertical-align: top;\n",
              "    }\n",
              "\n",
              "    .dataframe thead th {\n",
              "        text-align: right;\n",
              "    }\n",
              "</style>\n",
              "<table border=\"1\" class=\"dataframe\">\n",
              "  <thead>\n",
              "    <tr style=\"text-align: right;\">\n",
              "      <th></th>\n",
              "      <th>pm10</th>\n",
              "    </tr>\n",
              "  </thead>\n",
              "  <tbody>\n",
              "    <tr>\n",
              "      <th>count</th>\n",
              "      <td>65902.000000</td>\n",
              "    </tr>\n",
              "    <tr>\n",
              "      <th>mean</th>\n",
              "      <td>37.570560</td>\n",
              "    </tr>\n",
              "    <tr>\n",
              "      <th>std</th>\n",
              "      <td>24.391653</td>\n",
              "    </tr>\n",
              "    <tr>\n",
              "      <th>min</th>\n",
              "      <td>0.000000</td>\n",
              "    </tr>\n",
              "    <tr>\n",
              "      <th>25%</th>\n",
              "      <td>22.000000</td>\n",
              "    </tr>\n",
              "    <tr>\n",
              "      <th>50%</th>\n",
              "      <td>32.000000</td>\n",
              "    </tr>\n",
              "    <tr>\n",
              "      <th>75%</th>\n",
              "      <td>47.000000</td>\n",
              "    </tr>\n",
              "    <tr>\n",
              "      <th>max</th>\n",
              "      <td>409.000000</td>\n",
              "    </tr>\n",
              "  </tbody>\n",
              "</table>\n",
              "</div><br><label><b>dtype:</b> float64</label>"
            ]
          },
          "metadata": {},
          "execution_count": 63
        }
      ],
      "source": [
        "df_sensor_iraja['pm10'].describe()"
      ]
    },
    {
      "cell_type": "code",
      "execution_count": 64,
      "metadata": {
        "colab": {
          "base_uri": "https://localhost:8080/"
        },
        "outputId": "f0c9c455-4d58-4ef7-cdce-22c7fc95496a",
        "cellView": "form",
        "id": "2DgViHnxNz6I"
      },
      "outputs": [
        {
          "output_type": "stream",
          "name": "stdout",
          "text": [
            "Quantidade de valores vazios: 3049\n"
          ]
        }
      ],
      "source": [
        "#@title Vendo quantidade de valores vazios\n",
        "\n",
        "valroes_vazio = df_sensor_iraja[df_sensor_iraja['pm10'].isnull()].groupby(['ano', 'mes']).size().sum()\n",
        "print(f\"Quantidade de valores vazios: {valroes_vazio}\")"
      ]
    },
    {
      "cell_type": "code",
      "execution_count": 65,
      "metadata": {
        "colab": {
          "base_uri": "https://localhost:8080/"
        },
        "outputId": "bb5171fb-d96c-45bc-e842-ea13917c8b3d",
        "cellView": "form",
        "id": "C4E1ad35Nz6I"
      },
      "outputs": [
        {
          "output_type": "stream",
          "name": "stderr",
          "text": [
            "<ipython-input-65-1ccd4a9a5046>:3: SettingWithCopyWarning: \n",
            "A value is trying to be set on a copy of a slice from a DataFrame.\n",
            "Try using .loc[row_indexer,col_indexer] = value instead\n",
            "\n",
            "See the caveats in the documentation: https://pandas.pydata.org/pandas-docs/stable/user_guide/indexing.html#returning-a-view-versus-a-copy\n",
            "  df_sensor_iraja['pm10_nulos_no_dia'] = (\n"
          ]
        }
      ],
      "source": [
        "#@title Criando coluna que informa a quantidade de valores vazios por dia\n",
        "\n",
        "df_sensor_iraja['pm10_nulos_no_dia'] = (\n",
        "    df_sensor_iraja['pm10'].isnull()\n",
        "    .groupby(df_sensor_iraja['data_formatada'])\n",
        "    .transform('sum')  # Soma os nulos por dia e repete o valor em todas as linhas do dia\n",
        ")"
      ]
    },
    {
      "cell_type": "code",
      "source": [
        "#@title Distribuição dos valores vazios\n",
        "\n",
        "# Seleciona uma única linha por dia, para evitar repetição\n",
        "df_dias = df_sensor_iraja[df_sensor_iraja['pm10_nulos_no_dia'] != 0].groupby('data_formatada')['pm10_nulos_no_dia'].first()\n",
        "\n",
        "# Plotar o histograma da contagem de valores nulos por dia\n",
        "plt.figure(figsize=(10,6))\n",
        "plt.hist(df_dias, bins=range(0, df_dias.max() + 2), edgecolor='black', align='left')\n",
        "plt.title(\"Histograma de Quantidade de Valores Vazios em 'pm10' por Dia\")\n",
        "plt.xlabel('Quantidade de valores vazios no dia')\n",
        "plt.ylabel('Número de dias')\n",
        "plt.xticks(range(0, df_dias.max() + 1))\n",
        "plt.grid(axis='y', alpha=0.75)\n",
        "plt.show()"
      ],
      "metadata": {
        "colab": {
          "base_uri": "https://localhost:8080/",
          "height": 564
        },
        "cellView": "form",
        "outputId": "32bbc800-fe31-4d4d-ec38-b64300b67b2a",
        "id": "wimZHi5oNz6I"
      },
      "execution_count": 66,
      "outputs": [
        {
          "output_type": "display_data",
          "data": {
            "text/plain": [
              "<Figure size 1000x600 with 1 Axes>"
            ],
            "image/png": "[encoded data removed]"
          },
          "metadata": {}
        }
      ]
    },
    {
      "cell_type": "code",
      "execution_count": 67,
      "metadata": {
        "colab": {
          "base_uri": "https://localhost:8080/"
        },
        "outputId": "30de671f-cf85-4bea-8be1-811d495917bf",
        "cellView": "form",
        "id": "OA2D_-XPNz6I"
      },
      "outputs": [
        {
          "output_type": "stream",
          "name": "stdout",
          "text": [
            "1435 linhas foram preenchidas com interpolate na coluna 'pm10'.\n",
            "Foram preenchido 47% de dados\n"
          ]
        }
      ],
      "source": [
        "#@title Preenchimento dos valores nulos utilizando a função interpolate (Preenchendo apenas os que tem menos de 7 linhas vazias por dia)\n",
        "\n",
        "mask = (df_sensor_iraja['pm10_nulos_no_dia'] <= 6)\n",
        "\n",
        "num_nulls = df_sensor_iraja[mask]['pm10'].isnull().sum()\n",
        "df_sensor_iraja.loc[mask, 'pm10'] = df_sensor_iraja[mask]['pm10'].interpolate()\n",
        "print(f\"{num_nulls} linhas foram preenchidas com interpolate na coluna 'pm10'.\")\n",
        "print(f\"Foram preenchido {round((num_nulls/valroes_vazio)*100)}% de dados\")"
      ]
    },
    {
      "cell_type": "code",
      "execution_count": 68,
      "metadata": {
        "colab": {
          "base_uri": "https://localhost:8080/",
          "height": 335
        },
        "outputId": "a4e81061-ffbd-4c77-9930-1d0eb7125d45",
        "id": "KmM4M2pDNz6I"
      },
      "outputs": [
        {
          "output_type": "execute_result",
          "data": {
            "text/plain": [
              "count    67337.000000\n",
              "mean        37.480222\n",
              "std         24.401894\n",
              "min          0.000000\n",
              "25%         21.670000\n",
              "50%         32.000000\n",
              "75%         47.000000\n",
              "max        409.000000\n",
              "Name: pm10, dtype: float64"
            ],
            "text/html": [
              "<div>\n",
              "<style scoped>\n",
              "    .dataframe tbody tr th:only-of-type {\n",
              "        vertical-align: middle;\n",
              "    }\n",
              "\n",
              "    .dataframe tbody tr th {\n",
              "        vertical-align: top;\n",
              "    }\n",
              "\n",
              "    .dataframe thead th {\n",
              "        text-align: right;\n",
              "    }\n",
              "</style>\n",
              "<table border=\"1\" class=\"dataframe\">\n",
              "  <thead>\n",
              "    <tr style=\"text-align: right;\">\n",
              "      <th></th>\n",
              "      <th>pm10</th>\n",
              "    </tr>\n",
              "  </thead>\n",
              "  <tbody>\n",
              "    <tr>\n",
              "      <th>count</th>\n",
              "      <td>67337.000000</td>\n",
              "    </tr>\n",
              "    <tr>\n",
              "      <th>mean</th>\n",
              "      <td>37.480222</td>\n",
              "    </tr>\n",
              "    <tr>\n",
              "      <th>std</th>\n",
              "      <td>24.401894</td>\n",
              "    </tr>\n",
              "    <tr>\n",
              "      <th>min</th>\n",
              "      <td>0.000000</td>\n",
              "    </tr>\n",
              "    <tr>\n",
              "      <th>25%</th>\n",
              "      <td>21.670000</td>\n",
              "    </tr>\n",
              "    <tr>\n",
              "      <th>50%</th>\n",
              "      <td>32.000000</td>\n",
              "    </tr>\n",
              "    <tr>\n",
              "      <th>75%</th>\n",
              "      <td>47.000000</td>\n",
              "    </tr>\n",
              "    <tr>\n",
              "      <th>max</th>\n",
              "      <td>409.000000</td>\n",
              "    </tr>\n",
              "  </tbody>\n",
              "</table>\n",
              "</div><br><label><b>dtype:</b> float64</label>"
            ]
          },
          "metadata": {},
          "execution_count": 68
        }
      ],
      "source": [
        "df_sensor_iraja['pm10'].describe()"
      ]
    },
    {
      "cell_type": "markdown",
      "metadata": {
        "id": "Od8svpkKWSjh"
      },
      "source": [
        "### PM2.5"
      ]
    },
    {
      "cell_type": "code",
      "execution_count": 69,
      "metadata": {
        "colab": {
          "base_uri": "https://localhost:8080/",
          "height": 335
        },
        "outputId": "82bcf67f-c068-4617-aa2a-d38f6a40149c",
        "id": "eG-HULUVWSji"
      },
      "outputs": [
        {
          "output_type": "execute_result",
          "data": {
            "text/plain": [
              "count    62170.000000\n",
              "mean        17.284460\n",
              "std         14.793721\n",
              "min          0.000000\n",
              "25%          8.000000\n",
              "50%         13.000000\n",
              "75%         23.000000\n",
              "max        370.000000\n",
              "Name: pm2_5, dtype: float64"
            ],
            "text/html": [
              "<div>\n",
              "<style scoped>\n",
              "    .dataframe tbody tr th:only-of-type {\n",
              "        vertical-align: middle;\n",
              "    }\n",
              "\n",
              "    .dataframe tbody tr th {\n",
              "        vertical-align: top;\n",
              "    }\n",
              "\n",
              "    .dataframe thead th {\n",
              "        text-align: right;\n",
              "    }\n",
              "</style>\n",
              "<table border=\"1\" class=\"dataframe\">\n",
              "  <thead>\n",
              "    <tr style=\"text-align: right;\">\n",
              "      <th></th>\n",
              "      <th>pm2_5</th>\n",
              "    </tr>\n",
              "  </thead>\n",
              "  <tbody>\n",
              "    <tr>\n",
              "      <th>count</th>\n",
              "      <td>62170.000000</td>\n",
              "    </tr>\n",
              "    <tr>\n",
              "      <th>mean</th>\n",
              "      <td>17.284460</td>\n",
              "    </tr>\n",
              "    <tr>\n",
              "      <th>std</th>\n",
              "      <td>14.793721</td>\n",
              "    </tr>\n",
              "    <tr>\n",
              "      <th>min</th>\n",
              "      <td>0.000000</td>\n",
              "    </tr>\n",
              "    <tr>\n",
              "      <th>25%</th>\n",
              "      <td>8.000000</td>\n",
              "    </tr>\n",
              "    <tr>\n",
              "      <th>50%</th>\n",
              "      <td>13.000000</td>\n",
              "    </tr>\n",
              "    <tr>\n",
              "      <th>75%</th>\n",
              "      <td>23.000000</td>\n",
              "    </tr>\n",
              "    <tr>\n",
              "      <th>max</th>\n",
              "      <td>370.000000</td>\n",
              "    </tr>\n",
              "  </tbody>\n",
              "</table>\n",
              "</div><br><label><b>dtype:</b> float64</label>"
            ]
          },
          "metadata": {},
          "execution_count": 69
        }
      ],
      "source": [
        "df_sensor_iraja['pm2_5'].describe()"
      ]
    },
    {
      "cell_type": "code",
      "execution_count": 70,
      "metadata": {
        "colab": {
          "base_uri": "https://localhost:8080/"
        },
        "outputId": "8ed95b25-ed38-46fe-b12f-6973f377f909",
        "cellView": "form",
        "id": "mUG0mkdEWSji"
      },
      "outputs": [
        {
          "output_type": "stream",
          "name": "stdout",
          "text": [
            "Quantidade de valores vazios: 6781\n"
          ]
        }
      ],
      "source": [
        "#@title Vendo quantidade de valores vazios\n",
        "\n",
        "valroes_vazio = df_sensor_iraja[df_sensor_iraja['pm2_5'].isnull()].groupby(['ano', 'mes']).size().sum()\n",
        "print(f\"Quantidade de valores vazios: {valroes_vazio}\")"
      ]
    },
    {
      "cell_type": "code",
      "execution_count": 71,
      "metadata": {
        "colab": {
          "base_uri": "https://localhost:8080/"
        },
        "outputId": "0946a489-624a-4fdf-ca07-6f1800dd144f",
        "cellView": "form",
        "id": "tGJHRkbqWSji"
      },
      "outputs": [
        {
          "output_type": "stream",
          "name": "stderr",
          "text": [
            "<ipython-input-71-bd9c5d89174b>:3: SettingWithCopyWarning: \n",
            "A value is trying to be set on a copy of a slice from a DataFrame.\n",
            "Try using .loc[row_indexer,col_indexer] = value instead\n",
            "\n",
            "See the caveats in the documentation: https://pandas.pydata.org/pandas-docs/stable/user_guide/indexing.html#returning-a-view-versus-a-copy\n",
            "  df_sensor_iraja['pm2_5_nulos_no_dia'] = (\n"
          ]
        }
      ],
      "source": [
        "#@title Criando coluna que informa a quantidade de valores vazios por dia\n",
        "\n",
        "df_sensor_iraja['pm2_5_nulos_no_dia'] = (\n",
        "    df_sensor_iraja['pm2_5'].isnull()\n",
        "    .groupby(df_sensor_iraja['data_formatada'])\n",
        "    .transform('sum')  # Soma os nulos por dia e repete o valor em todas as linhas do dia\n",
        ")"
      ]
    },
    {
      "cell_type": "code",
      "source": [
        "#@title Distribuição dos valores vazios\n",
        "\n",
        "# Seleciona uma única linha por dia, para evitar repetição\n",
        "df_dias = df_sensor_iraja[df_sensor_iraja['pm2_5_nulos_no_dia'] != 0].groupby('data_formatada')['pm2_5_nulos_no_dia'].first()\n",
        "\n",
        "# Plotar o histograma da contagem de valores nulos por dia\n",
        "plt.figure(figsize=(10,6))\n",
        "plt.hist(df_dias, bins=range(0, df_dias.max() + 2), edgecolor='black', align='left')\n",
        "plt.title(\"Histograma de Quantidade de Valores Vazios em 'pm2_5' por Dia\")\n",
        "plt.xlabel('Quantidade de valores vazios no dia')\n",
        "plt.ylabel('Número de dias')\n",
        "plt.xticks(range(0, df_dias.max() + 1))\n",
        "plt.grid(axis='y', alpha=0.75)\n",
        "plt.show()"
      ],
      "metadata": {
        "colab": {
          "base_uri": "https://localhost:8080/",
          "height": 564
        },
        "outputId": "b9b4f386-d53b-495f-a521-a8de76e6c8a7",
        "id": "P671nMW-WSjj"
      },
      "execution_count": 72,
      "outputs": [
        {
          "output_type": "display_data",
          "data": {
            "text/plain": [
              "<Figure size 1000x600 with 1 Axes>"
            ],
            "image/png": "[encoded data removed]"
          },
          "metadata": {}
        }
      ]
    },
    {
      "cell_type": "code",
      "execution_count": 73,
      "metadata": {
        "colab": {
          "base_uri": "https://localhost:8080/"
        },
        "outputId": "ff2b5469-62f7-4e65-8fdc-3eb506e46120",
        "id": "ZFA6YJpdWSjj"
      },
      "outputs": [
        {
          "output_type": "stream",
          "name": "stdout",
          "text": [
            "1790 linhas foram preenchidas com interpolate na coluna 'pm2_5'.\n",
            "Foram preenchido 26% de dados\n"
          ]
        }
      ],
      "source": [
        "#@title Preenchimento dos valores nulos utilizando a função interpolate (Preenchendo apenas os que tem menos de 7 linhas vazias por dia)\n",
        "\n",
        "mask = (df_sensor_iraja['pm2_5_nulos_no_dia'] <= 6)\n",
        "\n",
        "num_nulls = df_sensor_iraja[mask]['pm2_5'].isnull().sum()\n",
        "df_sensor_iraja.loc[mask, 'pm2_5'] = df_sensor_iraja[mask]['pm2_5'].interpolate()\n",
        "print(f\"{num_nulls} linhas foram preenchidas com interpolate na coluna 'pm2_5'.\")\n",
        "print(f\"Foram preenchido {round((num_nulls/valroes_vazio)*100)}% de dados\")"
      ]
    },
    {
      "cell_type": "code",
      "execution_count": 74,
      "metadata": {
        "colab": {
          "base_uri": "https://localhost:8080/",
          "height": 335
        },
        "outputId": "d14f72ee-fbbe-4502-f651-8aba058c96c4",
        "id": "u7glUmoRWSjj"
      },
      "outputs": [
        {
          "output_type": "execute_result",
          "data": {
            "text/plain": [
              "count    63960.000000\n",
              "mean        17.222891\n",
              "std         14.762144\n",
              "min          0.000000\n",
              "25%          8.000000\n",
              "50%         13.000000\n",
              "75%         22.000000\n",
              "max        370.000000\n",
              "Name: pm2_5, dtype: float64"
            ],
            "text/html": [
              "<div>\n",
              "<style scoped>\n",
              "    .dataframe tbody tr th:only-of-type {\n",
              "        vertical-align: middle;\n",
              "    }\n",
              "\n",
              "    .dataframe tbody tr th {\n",
              "        vertical-align: top;\n",
              "    }\n",
              "\n",
              "    .dataframe thead th {\n",
              "        text-align: right;\n",
              "    }\n",
              "</style>\n",
              "<table border=\"1\" class=\"dataframe\">\n",
              "  <thead>\n",
              "    <tr style=\"text-align: right;\">\n",
              "      <th></th>\n",
              "      <th>pm2_5</th>\n",
              "    </tr>\n",
              "  </thead>\n",
              "  <tbody>\n",
              "    <tr>\n",
              "      <th>count</th>\n",
              "      <td>63960.000000</td>\n",
              "    </tr>\n",
              "    <tr>\n",
              "      <th>mean</th>\n",
              "      <td>17.222891</td>\n",
              "    </tr>\n",
              "    <tr>\n",
              "      <th>std</th>\n",
              "      <td>14.762144</td>\n",
              "    </tr>\n",
              "    <tr>\n",
              "      <th>min</th>\n",
              "      <td>0.000000</td>\n",
              "    </tr>\n",
              "    <tr>\n",
              "      <th>25%</th>\n",
              "      <td>8.000000</td>\n",
              "    </tr>\n",
              "    <tr>\n",
              "      <th>50%</th>\n",
              "      <td>13.000000</td>\n",
              "    </tr>\n",
              "    <tr>\n",
              "      <th>75%</th>\n",
              "      <td>22.000000</td>\n",
              "    </tr>\n",
              "    <tr>\n",
              "      <th>max</th>\n",
              "      <td>370.000000</td>\n",
              "    </tr>\n",
              "  </tbody>\n",
              "</table>\n",
              "</div><br><label><b>dtype:</b> float64</label>"
            ]
          },
          "metadata": {},
          "execution_count": 74
        }
      ],
      "source": [
        "df_sensor_iraja['pm2_5'].describe()"
      ]
    },
    {
      "cell_type": "markdown",
      "source": [
        "# Gerando CSV de saída com a estação de Campo Grande preenchida\n"
      ],
      "metadata": {
        "id": "ijWuiCIzOE1P"
      }
    },
    {
      "cell_type": "code",
      "source": [
        "droping_columns = ['chuva_nulos_no_dia', 'temp_nulos_no_dia', 'ur_nulos_no_dia', 'co_nulos_no_dia', 'no_nulos_no_dia', 'no2_nulos_no_dia', 'nox_nulos_no_dia', 'so2_nulos_no_dia', 'o3_nulos_no_dia', 'pm10_nulos_no_dia', 'pm2_5_nulos_no_dia']\n",
        "\n",
        "df_sensor_iraja.drop(columns=droping_columns, inplace=True)"
      ],
      "metadata": {
        "colab": {
          "base_uri": "https://localhost:8080/"
        },
        "id": "C2iFg6w9Qt9u",
        "outputId": "25d0c60e-1609-4dd9-b0a6-2b0366ff1954"
      },
      "execution_count": 75,
      "outputs": [
        {
          "output_type": "stream",
          "name": "stderr",
          "text": [
            "<ipython-input-75-f0c2848c79d7>:3: SettingWithCopyWarning: \n",
            "A value is trying to be set on a copy of a slice from a DataFrame\n",
            "\n",
            "See the caveats in the documentation: https://pandas.pydata.org/pandas-docs/stable/user_guide/indexing.html#returning-a-view-versus-a-copy\n",
            "  df_sensor_iraja.drop(columns=droping_columns, inplace=True)\n"
          ]
        }
      ]
    },
    {
      "cell_type": "code",
      "source": [
        "df_sensor_iraja.to_csv('df_sensor_iraja_preenchido.csv', index=False)"
      ],
      "metadata": {
        "id": "gfe-Z7ZsOOQO"
      },
      "execution_count": 76,
      "outputs": []
    }
  ]
}