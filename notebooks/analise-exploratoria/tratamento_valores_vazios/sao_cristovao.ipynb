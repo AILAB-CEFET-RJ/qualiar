{
  "nbformat": 4,
  "nbformat_minor": 0,
  "metadata": {
    "colab": {
      "provenance": []
    },
    "kernelspec": {
      "name": "python3",
      "display_name": "Python 3"
    },
    "language_info": {
      "name": "python"
    }
  },
  "cells": [
    {
      "cell_type": "markdown",
      "metadata": {
        "id": "FQyXpVbbCeRX"
      },
      "source": [
        "# Propósito\n",
        "\n",
        "Este notebook tem como objetivo realizar uma análise exploratória de algumas colunas de interesse das medições dos sensores de qualidade do ar.\n",
        "\n",
        "O principal objetivo será preencher alguns valores nulos utilizando a função interpolate()\n",
        "\n",
        "Mas para não enviesar muitos dados preencheremos apenas os valores em que a quantidade de valores nulas no dia semana menor que 7\n"
      ]
    },
    {
      "cell_type": "markdown",
      "metadata": {
        "id": "TTJ20DT1DZP4"
      },
      "source": [
        "# Importações"
      ]
    },
    {
      "cell_type": "code",
      "execution_count": 1,
      "metadata": {
        "id": "3IqV3pDuCcJq"
      },
      "outputs": [],
      "source": [
        "import pandas as pd\n",
        "import numpy as np\n",
        "import matplotlib.pyplot as plt\n",
        "import seaborn as sns\n",
        "from sklearn.linear_model import LinearRegression\n",
        "import scipy.stats as stats\n",
        "from scipy.stats import shapiro, anderson, boxcox, kstest, norm\n",
        "from scipy.special import boxcox1p\n",
        "from scipy import stats"
      ]
    },
    {
      "cell_type": "markdown",
      "metadata": {
        "id": "g4RXL-is5UgJ"
      },
      "source": [
        "# Consumindo bases"
      ]
    },
    {
      "cell_type": "code",
      "execution_count": 2,
      "metadata": {
        "id": "eyjEKJYpDhin"
      },
      "outputs": [],
      "source": [
        "url_sensor = '/content/drive/MyDrive/TCC/sensores-2011-2021/medicao-sensores.csv'\n",
        "\n",
        "df_sensor = pd.read_csv(url_sensor, sep=',')\n",
        "\n",
        "url_estacoes = '/content/drive/MyDrive/TCC/sensores-2011-2021/estacoes.csv'\n",
        "\n",
        "df_estacoes = pd.read_csv(url_estacoes, sep=',')"
      ]
    },
    {
      "cell_type": "code",
      "execution_count": 3,
      "metadata": {
        "colab": {
          "base_uri": "https://localhost:8080/"
        },
        "id": "I8DoZujMX7Hy",
        "outputId": "223e5f73-6d6a-401b-c50c-ec80fea1f075"
      },
      "outputs": [
        {
          "output_type": "execute_result",
          "data": {
            "text/plain": [
              "Index(['objectid', 'data', 'codnum', 'estação', 'chuva', 'pres', 'rs', 'temp',\n",
              "       'ur', 'dir_vento', 'vel_vento', 'so2', 'no2', 'hcnm', 'hct', 'ch4',\n",
              "       'co', 'no', 'nox', 'o3', 'pm10', 'pm2_5', 'lat', 'lon',\n",
              "       'x_utm_sirgas2000', 'y_utm_sirgas2000'],\n",
              "      dtype='object')"
            ]
          },
          "metadata": {},
          "execution_count": 3
        }
      ],
      "source": [
        "df_sensor.columns"
      ]
    },
    {
      "cell_type": "markdown",
      "metadata": {
        "id": "-KWYSQmgDtki"
      },
      "source": [
        "# Pré-processamento"
      ]
    },
    {
      "cell_type": "markdown",
      "metadata": {
        "id": "q18psyhOH2hN"
      },
      "source": [
        "## Selecionando e criando colunas"
      ]
    },
    {
      "cell_type": "code",
      "execution_count": 4,
      "metadata": {
        "cellView": "form",
        "id": "m2M9yDEpXZHc"
      },
      "outputs": [],
      "source": [
        "#@title Criando coluna nome estacao com base na coluna codnum\n",
        "df_sensor['nome_estacao'] = df_sensor['codnum'].map(df_estacoes.set_index('codnum')['nome'])"
      ]
    },
    {
      "cell_type": "code",
      "execution_count": 5,
      "metadata": {
        "cellView": "form",
        "id": "A9QJxIqs5mRT"
      },
      "outputs": [],
      "source": [
        "#@title Selecionando as colunas mais relevantes\n",
        "interest_columns = ['nome_estacao', 'data', 'chuva', 'temp', 'ur', 'co', 'no', 'no2', 'nox', 'so2', 'o3', 'pm10', 'pm2_5']\n",
        "\n",
        "df_sensor_interest = df_sensor[interest_columns]"
      ]
    },
    {
      "cell_type": "code",
      "execution_count": 6,
      "metadata": {
        "cellView": "form",
        "colab": {
          "base_uri": "https://localhost:8080/"
        },
        "id": "08TM4o3W5mUB",
        "outputId": "3bbfa186-84b2-49d3-ca3e-abc67a39459c"
      },
      "outputs": [
        {
          "output_type": "stream",
          "name": "stderr",
          "text": [
            "<ipython-input-6-f9a423e0dd73>:2: SettingWithCopyWarning: \n",
            "A value is trying to be set on a copy of a slice from a DataFrame.\n",
            "Try using .loc[row_indexer,col_indexer] = value instead\n",
            "\n",
            "See the caveats in the documentation: https://pandas.pydata.org/pandas-docs/stable/user_guide/indexing.html#returning-a-view-versus-a-copy\n",
            "  df_sensor_interest['data'] = pd.to_datetime(df_sensor_interest['data'], format='%Y/%m/%d %H:%M:%S+00')\n",
            "<ipython-input-6-f9a423e0dd73>:3: SettingWithCopyWarning: \n",
            "A value is trying to be set on a copy of a slice from a DataFrame.\n",
            "Try using .loc[row_indexer,col_indexer] = value instead\n",
            "\n",
            "See the caveats in the documentation: https://pandas.pydata.org/pandas-docs/stable/user_guide/indexing.html#returning-a-view-versus-a-copy\n",
            "  df_sensor_interest['data_formatada'] = pd.to_datetime(df_sensor_interest['data']).dt.strftime('%Y-%m-%d')\n",
            "<ipython-input-6-f9a423e0dd73>:4: SettingWithCopyWarning: \n",
            "A value is trying to be set on a copy of a slice from a DataFrame.\n",
            "Try using .loc[row_indexer,col_indexer] = value instead\n",
            "\n",
            "See the caveats in the documentation: https://pandas.pydata.org/pandas-docs/stable/user_guide/indexing.html#returning-a-view-versus-a-copy\n",
            "  df_sensor_interest['ano'] = df_sensor_interest['data'].dt.year\n",
            "<ipython-input-6-f9a423e0dd73>:5: SettingWithCopyWarning: \n",
            "A value is trying to be set on a copy of a slice from a DataFrame.\n",
            "Try using .loc[row_indexer,col_indexer] = value instead\n",
            "\n",
            "See the caveats in the documentation: https://pandas.pydata.org/pandas-docs/stable/user_guide/indexing.html#returning-a-view-versus-a-copy\n",
            "  df_sensor_interest['mes'] = df_sensor_interest['data'].dt.month\n"
          ]
        }
      ],
      "source": [
        "#@title Criando colunas de ano e mês para facilitar a análise temporal\n",
        "df_sensor_interest['data'] = pd.to_datetime(df_sensor_interest['data'], format='%Y/%m/%d %H:%M:%S+00')\n",
        "df_sensor_interest['data_formatada'] = pd.to_datetime(df_sensor_interest['data']).dt.strftime('%Y-%m-%d')\n",
        "df_sensor_interest['ano'] = df_sensor_interest['data'].dt.year\n",
        "df_sensor_interest['mes'] = df_sensor_interest['data'].dt.month"
      ]
    },
    {
      "cell_type": "code",
      "execution_count": 7,
      "metadata": {
        "cellView": "form",
        "id": "010BKMPF5mWa"
      },
      "outputs": [],
      "source": [
        "#@title Removendo ano de 2011 (Pela falta de alguns poluente) e anos da pandemia\n",
        "df_sensor_interest_filtered = df_sensor_interest[(df_sensor_interest['ano'] > 2011) & (df_sensor_interest['ano'] < 2020)]"
      ]
    },
    {
      "cell_type": "code",
      "execution_count": 8,
      "metadata": {
        "id": "_c6j_tgIdxeL"
      },
      "outputs": [],
      "source": [
        "#@title Filtrando por SÃO CRISTÓVÃO\n",
        "df_sensor_sao_cristovao = df_sensor_interest_filtered[df_sensor_interest_filtered['nome_estacao'] == 'ESTAÇÃO SÃO CRISTÓVÃO']"
      ]
    },
    {
      "cell_type": "markdown",
      "metadata": {
        "id": "gmWkUcmdIpux"
      },
      "source": [
        "# Tratando colunas de interesse por Estação de monitoriamento\n"
      ]
    },
    {
      "cell_type": "markdown",
      "metadata": {
        "id": "yLqNrnrAN4w-"
      },
      "source": [
        "## Estação São Cristóvão\n",
        "Colunas normalizadas: Chuva, Temperatura, Umidade relativa, CO, NO, NO2, NOx, SO2, O3, PM10"
      ]
    },
    {
      "cell_type": "markdown",
      "metadata": {
        "id": "9ymtlIMxOidV"
      },
      "source": [
        "### Chuva"
      ]
    },
    {
      "cell_type": "code",
      "execution_count": 16,
      "metadata": {
        "colab": {
          "base_uri": "https://localhost:8080/",
          "height": 335
        },
        "id": "24M_cJnzP4gK",
        "outputId": "f33396b2-e45f-4100-9492-7f68b569e4bd"
      },
      "outputs": [
        {
          "output_type": "execute_result",
          "data": {
            "text/plain": [
              "count    67705.000000\n",
              "mean         0.094785\n",
              "std          0.853700\n",
              "min          0.000000\n",
              "25%          0.000000\n",
              "50%          0.000000\n",
              "75%          0.000000\n",
              "max         45.400000\n",
              "Name: chuva, dtype: float64"
            ],
            "text/html": [
              "<div>\n",
              "<style scoped>\n",
              "    .dataframe tbody tr th:only-of-type {\n",
              "        vertical-align: middle;\n",
              "    }\n",
              "\n",
              "    .dataframe tbody tr th {\n",
              "        vertical-align: top;\n",
              "    }\n",
              "\n",
              "    .dataframe thead th {\n",
              "        text-align: right;\n",
              "    }\n",
              "</style>\n",
              "<table border=\"1\" class=\"dataframe\">\n",
              "  <thead>\n",
              "    <tr style=\"text-align: right;\">\n",
              "      <th></th>\n",
              "      <th>chuva</th>\n",
              "    </tr>\n",
              "  </thead>\n",
              "  <tbody>\n",
              "    <tr>\n",
              "      <th>count</th>\n",
              "      <td>67705.000000</td>\n",
              "    </tr>\n",
              "    <tr>\n",
              "      <th>mean</th>\n",
              "      <td>0.094785</td>\n",
              "    </tr>\n",
              "    <tr>\n",
              "      <th>std</th>\n",
              "      <td>0.853700</td>\n",
              "    </tr>\n",
              "    <tr>\n",
              "      <th>min</th>\n",
              "      <td>0.000000</td>\n",
              "    </tr>\n",
              "    <tr>\n",
              "      <th>25%</th>\n",
              "      <td>0.000000</td>\n",
              "    </tr>\n",
              "    <tr>\n",
              "      <th>50%</th>\n",
              "      <td>0.000000</td>\n",
              "    </tr>\n",
              "    <tr>\n",
              "      <th>75%</th>\n",
              "      <td>0.000000</td>\n",
              "    </tr>\n",
              "    <tr>\n",
              "      <th>max</th>\n",
              "      <td>45.400000</td>\n",
              "    </tr>\n",
              "  </tbody>\n",
              "</table>\n",
              "</div><br><label><b>dtype:</b> float64</label>"
            ]
          },
          "metadata": {},
          "execution_count": 16
        }
      ],
      "source": [
        "df_sensor_sao_cristovao['chuva'].describe()"
      ]
    },
    {
      "cell_type": "code",
      "execution_count": 17,
      "metadata": {
        "colab": {
          "base_uri": "https://localhost:8080/"
        },
        "id": "Ntw7zXT0Q6zx",
        "outputId": "b20a0237-6944-4409-9c4c-9d1f99d3abf6",
        "cellView": "form"
      },
      "outputs": [
        {
          "output_type": "stream",
          "name": "stdout",
          "text": [
            "Quantidade de valores vazios: 1210\n"
          ]
        }
      ],
      "source": [
        "#@title Vendo quantidade de valores vazios\n",
        "\n",
        "valroes_vazio = df_sensor_sao_cristovao[df_sensor_sao_cristovao['chuva'].isnull()].groupby(['ano', 'mes']).size().sum()\n",
        "print(f\"Quantidade de valores vazios: {valroes_vazio}\")"
      ]
    },
    {
      "cell_type": "code",
      "execution_count": 18,
      "metadata": {
        "colab": {
          "base_uri": "https://localhost:8080/"
        },
        "id": "wfMEwBEEwJph",
        "outputId": "f6c0b42d-6d23-4e9b-e2dd-8dfb68e74c54",
        "cellView": "form"
      },
      "outputs": [
        {
          "output_type": "stream",
          "name": "stderr",
          "text": [
            "<ipython-input-18-6b87b5826e6b>:3: SettingWithCopyWarning: \n",
            "A value is trying to be set on a copy of a slice from a DataFrame.\n",
            "Try using .loc[row_indexer,col_indexer] = value instead\n",
            "\n",
            "See the caveats in the documentation: https://pandas.pydata.org/pandas-docs/stable/user_guide/indexing.html#returning-a-view-versus-a-copy\n",
            "  df_sensor_sao_cristovao['chuva_nulos_no_dia'] = (\n"
          ]
        }
      ],
      "source": [
        "#@title Criando coluna que informa a quantidade de valores vazios por dia\n",
        "\n",
        "df_sensor_sao_cristovao['chuva_nulos_no_dia'] = (\n",
        "    df_sensor_sao_cristovao['chuva'].isnull()\n",
        "    .groupby(df_sensor_sao_cristovao['data_formatada'])\n",
        "    .transform('sum')  # Soma os nulos por dia e repete o valor em todas as linhas do dia\n",
        ")"
      ]
    },
    {
      "cell_type": "code",
      "source": [
        "#@title Distribuição dos valores vazios\n",
        "\n",
        "# Seleciona uma única linha por dia, para evitar repetição\n",
        "df_dias = df_sensor_sao_cristovao[df_sensor_sao_cristovao['chuva_nulos_no_dia'] != 0].groupby('data_formatada')['chuva_nulos_no_dia'].first()\n",
        "\n",
        "# Plotar o histograma da contagem de valores nulos por dia\n",
        "plt.figure(figsize=(10,6))\n",
        "plt.hist(df_dias, bins=range(0, df_dias.max() + 2), edgecolor='black', align='left')\n",
        "plt.title('Histograma de Quantidade de Valores Vazios em \"chuva\" por Dia')\n",
        "plt.xlabel('Quantidade de valores vazios no dia')\n",
        "plt.ylabel('Número de dias')\n",
        "plt.xticks(range(0, df_dias.max() + 1))\n",
        "plt.grid(axis='y', alpha=0.75)\n",
        "plt.show()"
      ],
      "metadata": {
        "colab": {
          "base_uri": "https://localhost:8080/",
          "height": 564
        },
        "cellView": "form",
        "id": "jYMgiW_cHPBb",
        "outputId": "505584d6-2858-4492-e3c1-16018f7c4f5b"
      },
      "execution_count": 19,
      "outputs": [
        {
          "output_type": "display_data",
          "data": {
            "text/plain": [
              "<Figure size 1000x600 with 1 Axes>"
            ],
            "image/png": "[encoded data removed]"
          },
          "metadata": {}
        }
      ]
    },
    {
      "cell_type": "code",
      "execution_count": 20,
      "metadata": {
        "colab": {
          "base_uri": "https://localhost:8080/"
        },
        "id": "CUSCMdfvRRAo",
        "outputId": "cd2bfe24-7ce7-4973-d20b-11a3190434a7",
        "cellView": "form"
      },
      "outputs": [
        {
          "output_type": "stream",
          "name": "stdout",
          "text": [
            "134 linhas foram preenchidas com interpolate na coluna 'chuva'.\n",
            "Foram preenchido 11% de dados\n"
          ]
        }
      ],
      "source": [
        "#@title Preenchimento dos valores nulos utilizando a função interpolate (Preenchendo apenas os que tem menos de 7 linhas vazias)\n",
        "\n",
        "mask = (df_sensor_sao_cristovao['chuva_nulos_no_dia'] <= 6)\n",
        "\n",
        "num_nulls = df_sensor_sao_cristovao[mask]['chuva'].isnull().sum()\n",
        "df_sensor_sao_cristovao.loc[mask, 'chuva'] = df_sensor_sao_cristovao[mask]['chuva'].interpolate()\n",
        "print(f\"{num_nulls} linhas foram preenchidas com interpolate na coluna 'chuva'.\")\n",
        "print(f\"Foram preenchido {round((num_nulls/valroes_vazio)*100)}% de dados\")"
      ]
    },
    {
      "cell_type": "code",
      "execution_count": 21,
      "metadata": {
        "colab": {
          "base_uri": "https://localhost:8080/",
          "height": 335
        },
        "id": "97-NgrgDRt33",
        "outputId": "4bb4a485-4357-4a9a-d776-b1fcf39ca00e"
      },
      "outputs": [
        {
          "output_type": "execute_result",
          "data": {
            "text/plain": [
              "count    67839.000000\n",
              "mean         0.095183\n",
              "std          0.854874\n",
              "min          0.000000\n",
              "25%          0.000000\n",
              "50%          0.000000\n",
              "75%          0.000000\n",
              "max         45.400000\n",
              "Name: chuva, dtype: float64"
            ],
            "text/html": [
              "<div>\n",
              "<style scoped>\n",
              "    .dataframe tbody tr th:only-of-type {\n",
              "        vertical-align: middle;\n",
              "    }\n",
              "\n",
              "    .dataframe tbody tr th {\n",
              "        vertical-align: top;\n",
              "    }\n",
              "\n",
              "    .dataframe thead th {\n",
              "        text-align: right;\n",
              "    }\n",
              "</style>\n",
              "<table border=\"1\" class=\"dataframe\">\n",
              "  <thead>\n",
              "    <tr style=\"text-align: right;\">\n",
              "      <th></th>\n",
              "      <th>chuva</th>\n",
              "    </tr>\n",
              "  </thead>\n",
              "  <tbody>\n",
              "    <tr>\n",
              "      <th>count</th>\n",
              "      <td>67839.000000</td>\n",
              "    </tr>\n",
              "    <tr>\n",
              "      <th>mean</th>\n",
              "      <td>0.095183</td>\n",
              "    </tr>\n",
              "    <tr>\n",
              "      <th>std</th>\n",
              "      <td>0.854874</td>\n",
              "    </tr>\n",
              "    <tr>\n",
              "      <th>min</th>\n",
              "      <td>0.000000</td>\n",
              "    </tr>\n",
              "    <tr>\n",
              "      <th>25%</th>\n",
              "      <td>0.000000</td>\n",
              "    </tr>\n",
              "    <tr>\n",
              "      <th>50%</th>\n",
              "      <td>0.000000</td>\n",
              "    </tr>\n",
              "    <tr>\n",
              "      <th>75%</th>\n",
              "      <td>0.000000</td>\n",
              "    </tr>\n",
              "    <tr>\n",
              "      <th>max</th>\n",
              "      <td>45.400000</td>\n",
              "    </tr>\n",
              "  </tbody>\n",
              "</table>\n",
              "</div><br><label><b>dtype:</b> float64</label>"
            ]
          },
          "metadata": {},
          "execution_count": 21
        }
      ],
      "source": [
        "df_sensor_sao_cristovao['chuva'].describe()"
      ]
    },
    {
      "cell_type": "markdown",
      "metadata": {
        "id": "1XA1vvw_JYeW"
      },
      "source": [
        "### Temperatura"
      ]
    },
    {
      "cell_type": "code",
      "execution_count": 10,
      "metadata": {
        "colab": {
          "base_uri": "https://localhost:8080/",
          "height": 335
        },
        "outputId": "1b15a2c2-f0cd-40a0-80c2-72a7e7fc4c56",
        "id": "_9XmZnxbJYeW"
      },
      "outputs": [
        {
          "output_type": "execute_result",
          "data": {
            "text/plain": [
              "count    61214.000000\n",
              "mean        26.737429\n",
              "std          4.760297\n",
              "min          0.000000\n",
              "25%         23.320000\n",
              "50%         26.230000\n",
              "75%         29.550000\n",
              "max         49.080000\n",
              "Name: temp, dtype: float64"
            ],
            "text/html": [
              "<div>\n",
              "<style scoped>\n",
              "    .dataframe tbody tr th:only-of-type {\n",
              "        vertical-align: middle;\n",
              "    }\n",
              "\n",
              "    .dataframe tbody tr th {\n",
              "        vertical-align: top;\n",
              "    }\n",
              "\n",
              "    .dataframe thead th {\n",
              "        text-align: right;\n",
              "    }\n",
              "</style>\n",
              "<table border=\"1\" class=\"dataframe\">\n",
              "  <thead>\n",
              "    <tr style=\"text-align: right;\">\n",
              "      <th></th>\n",
              "      <th>temp</th>\n",
              "    </tr>\n",
              "  </thead>\n",
              "  <tbody>\n",
              "    <tr>\n",
              "      <th>count</th>\n",
              "      <td>61214.000000</td>\n",
              "    </tr>\n",
              "    <tr>\n",
              "      <th>mean</th>\n",
              "      <td>26.737429</td>\n",
              "    </tr>\n",
              "    <tr>\n",
              "      <th>std</th>\n",
              "      <td>4.760297</td>\n",
              "    </tr>\n",
              "    <tr>\n",
              "      <th>min</th>\n",
              "      <td>0.000000</td>\n",
              "    </tr>\n",
              "    <tr>\n",
              "      <th>25%</th>\n",
              "      <td>23.320000</td>\n",
              "    </tr>\n",
              "    <tr>\n",
              "      <th>50%</th>\n",
              "      <td>26.230000</td>\n",
              "    </tr>\n",
              "    <tr>\n",
              "      <th>75%</th>\n",
              "      <td>29.550000</td>\n",
              "    </tr>\n",
              "    <tr>\n",
              "      <th>max</th>\n",
              "      <td>49.080000</td>\n",
              "    </tr>\n",
              "  </tbody>\n",
              "</table>\n",
              "</div><br><label><b>dtype:</b> float64</label>"
            ]
          },
          "metadata": {},
          "execution_count": 10
        }
      ],
      "source": [
        "df_sensor_sao_cristovao['temp'].describe()"
      ]
    },
    {
      "cell_type": "code",
      "execution_count": 11,
      "metadata": {
        "colab": {
          "base_uri": "https://localhost:8080/"
        },
        "outputId": "69cc7396-b6cf-4619-9b8f-470b6f6a3be7",
        "cellView": "form",
        "id": "YEPrxSuZJYeX"
      },
      "outputs": [
        {
          "output_type": "stream",
          "name": "stdout",
          "text": [
            "Quantidade de valores vazios: 7701\n"
          ]
        }
      ],
      "source": [
        "#@title Vendo quantidade de valores vazios\n",
        "\n",
        "valroes_vazio = df_sensor_sao_cristovao[df_sensor_sao_cristovao['temp'].isnull()].groupby(['ano', 'mes']).size().sum()\n",
        "print(f\"Quantidade de valores vazios: {valroes_vazio}\")"
      ]
    },
    {
      "cell_type": "code",
      "execution_count": 12,
      "metadata": {
        "colab": {
          "base_uri": "https://localhost:8080/"
        },
        "outputId": "30ab297d-42a7-4a08-e67b-2857448e7cd9",
        "cellView": "form",
        "id": "N0LIJac7JYeX"
      },
      "outputs": [
        {
          "output_type": "stream",
          "name": "stderr",
          "text": [
            "<ipython-input-12-ef066d6eef06>:3: SettingWithCopyWarning: \n",
            "A value is trying to be set on a copy of a slice from a DataFrame.\n",
            "Try using .loc[row_indexer,col_indexer] = value instead\n",
            "\n",
            "See the caveats in the documentation: https://pandas.pydata.org/pandas-docs/stable/user_guide/indexing.html#returning-a-view-versus-a-copy\n",
            "  df_sensor_sao_cristovao['temp_nulos_no_dia'] = (\n"
          ]
        }
      ],
      "source": [
        "#@title Criando coluna que informa a quantidade de valores vazios por dia\n",
        "\n",
        "df_sensor_sao_cristovao['temp_nulos_no_dia'] = (\n",
        "    df_sensor_sao_cristovao['temp'].isnull()\n",
        "    .groupby(df_sensor_sao_cristovao['data_formatada'])\n",
        "    .transform('sum')  # Soma os nulos por dia e repete o valor em todas as linhas do dia\n",
        ")"
      ]
    },
    {
      "cell_type": "code",
      "source": [
        "#@title Distribuição dos valores vazios\n",
        "\n",
        "# Seleciona uma única linha por dia, para evitar repetição\n",
        "df_dias = df_sensor_sao_cristovao[df_sensor_sao_cristovao['temp_nulos_no_dia'] != 0].groupby('data_formatada')['temp_nulos_no_dia'].first()\n",
        "\n",
        "# Plotar o histograma da contagem de valores nulos por dia\n",
        "plt.figure(figsize=(10,6))\n",
        "plt.hist(df_dias, bins=range(0, df_dias.max() + 2), edgecolor='black', align='left')\n",
        "plt.title('Histograma de Quantidade de Valores Vazios em \"temp\" por Dia')\n",
        "plt.xlabel('Quantidade de valores vazios no dia')\n",
        "plt.ylabel('Número de dias')\n",
        "plt.xticks(range(0, df_dias.max() + 1))\n",
        "plt.grid(axis='y', alpha=0.75)\n",
        "plt.show()"
      ],
      "metadata": {
        "colab": {
          "base_uri": "https://localhost:8080/",
          "height": 564
        },
        "cellView": "form",
        "outputId": "8e44e720-68c9-414d-850f-218bcb049ad6",
        "id": "H54zUgYSJYeY"
      },
      "execution_count": 13,
      "outputs": [
        {
          "output_type": "display_data",
          "data": {
            "text/plain": [
              "<Figure size 1000x600 with 1 Axes>"
            ],
            "image/png": "[encoded data removed]"
          },
          "metadata": {}
        }
      ]
    },
    {
      "cell_type": "code",
      "execution_count": 14,
      "metadata": {
        "colab": {
          "base_uri": "https://localhost:8080/"
        },
        "outputId": "fa00cc6b-8b6d-441a-da03-120202e22333",
        "id": "2sCGqFWvJYeY",
        "cellView": "form"
      },
      "outputs": [
        {
          "output_type": "stream",
          "name": "stdout",
          "text": [
            "316 linhas foram preenchidas com interpolate na coluna 'temp'.\n",
            "Foram preenchido 4% de dados\n"
          ]
        }
      ],
      "source": [
        "#@title Preenchimento dos valores nulos utilizando a função interpolate (Preenchendo apenas os que tem menos de 7 linhas vazias por dia)\n",
        "\n",
        "mask = (df_sensor_sao_cristovao['temp_nulos_no_dia'] <= 6)\n",
        "\n",
        "num_nulls = df_sensor_sao_cristovao[mask]['temp'].isnull().sum()\n",
        "df_sensor_sao_cristovao.loc[mask, 'temp'] = df_sensor_sao_cristovao[mask]['temp'].interpolate()\n",
        "print(f\"{num_nulls} linhas foram preenchidas com interpolate na coluna 'temp'.\")\n",
        "print(f\"Foram preenchido {round((num_nulls/valroes_vazio)*100)}% de dados\")"
      ]
    },
    {
      "cell_type": "code",
      "execution_count": 15,
      "metadata": {
        "colab": {
          "base_uri": "https://localhost:8080/",
          "height": 335
        },
        "outputId": "4c408545-ddd0-4f2f-c8b4-1f73af8453a2",
        "id": "2KWSCe6RJYeY"
      },
      "outputs": [
        {
          "output_type": "execute_result",
          "data": {
            "text/plain": [
              "count    61530.000000\n",
              "mean        26.738788\n",
              "std          4.763518\n",
              "min          0.000000\n",
              "25%         23.320000\n",
              "50%         26.230000\n",
              "75%         29.570000\n",
              "max         49.080000\n",
              "Name: temp, dtype: float64"
            ],
            "text/html": [
              "<div>\n",
              "<style scoped>\n",
              "    .dataframe tbody tr th:only-of-type {\n",
              "        vertical-align: middle;\n",
              "    }\n",
              "\n",
              "    .dataframe tbody tr th {\n",
              "        vertical-align: top;\n",
              "    }\n",
              "\n",
              "    .dataframe thead th {\n",
              "        text-align: right;\n",
              "    }\n",
              "</style>\n",
              "<table border=\"1\" class=\"dataframe\">\n",
              "  <thead>\n",
              "    <tr style=\"text-align: right;\">\n",
              "      <th></th>\n",
              "      <th>temp</th>\n",
              "    </tr>\n",
              "  </thead>\n",
              "  <tbody>\n",
              "    <tr>\n",
              "      <th>count</th>\n",
              "      <td>61530.000000</td>\n",
              "    </tr>\n",
              "    <tr>\n",
              "      <th>mean</th>\n",
              "      <td>26.738788</td>\n",
              "    </tr>\n",
              "    <tr>\n",
              "      <th>std</th>\n",
              "      <td>4.763518</td>\n",
              "    </tr>\n",
              "    <tr>\n",
              "      <th>min</th>\n",
              "      <td>0.000000</td>\n",
              "    </tr>\n",
              "    <tr>\n",
              "      <th>25%</th>\n",
              "      <td>23.320000</td>\n",
              "    </tr>\n",
              "    <tr>\n",
              "      <th>50%</th>\n",
              "      <td>26.230000</td>\n",
              "    </tr>\n",
              "    <tr>\n",
              "      <th>75%</th>\n",
              "      <td>29.570000</td>\n",
              "    </tr>\n",
              "    <tr>\n",
              "      <th>max</th>\n",
              "      <td>49.080000</td>\n",
              "    </tr>\n",
              "  </tbody>\n",
              "</table>\n",
              "</div><br><label><b>dtype:</b> float64</label>"
            ]
          },
          "metadata": {},
          "execution_count": 15
        }
      ],
      "source": [
        "df_sensor_sao_cristovao['temp'].describe()"
      ]
    },
    {
      "cell_type": "markdown",
      "metadata": {
        "id": "Kw4EN6nOJ7wi"
      },
      "source": [
        "### Umidade relativa"
      ]
    },
    {
      "cell_type": "code",
      "execution_count": 22,
      "metadata": {
        "colab": {
          "base_uri": "https://localhost:8080/",
          "height": 335
        },
        "outputId": "d23c2e21-1911-4395-c436-5b3325860714",
        "id": "Zh2KIpc2J7wj"
      },
      "outputs": [
        {
          "output_type": "execute_result",
          "data": {
            "text/plain": [
              "count    57337.000000\n",
              "mean        72.011567\n",
              "std         17.116493\n",
              "min          0.000000\n",
              "25%         60.500000\n",
              "50%         73.400000\n",
              "75%         84.970000\n",
              "max        100.000000\n",
              "Name: ur, dtype: float64"
            ],
            "text/html": [
              "<div>\n",
              "<style scoped>\n",
              "    .dataframe tbody tr th:only-of-type {\n",
              "        vertical-align: middle;\n",
              "    }\n",
              "\n",
              "    .dataframe tbody tr th {\n",
              "        vertical-align: top;\n",
              "    }\n",
              "\n",
              "    .dataframe thead th {\n",
              "        text-align: right;\n",
              "    }\n",
              "</style>\n",
              "<table border=\"1\" class=\"dataframe\">\n",
              "  <thead>\n",
              "    <tr style=\"text-align: right;\">\n",
              "      <th></th>\n",
              "      <th>ur</th>\n",
              "    </tr>\n",
              "  </thead>\n",
              "  <tbody>\n",
              "    <tr>\n",
              "      <th>count</th>\n",
              "      <td>57337.000000</td>\n",
              "    </tr>\n",
              "    <tr>\n",
              "      <th>mean</th>\n",
              "      <td>72.011567</td>\n",
              "    </tr>\n",
              "    <tr>\n",
              "      <th>std</th>\n",
              "      <td>17.116493</td>\n",
              "    </tr>\n",
              "    <tr>\n",
              "      <th>min</th>\n",
              "      <td>0.000000</td>\n",
              "    </tr>\n",
              "    <tr>\n",
              "      <th>25%</th>\n",
              "      <td>60.500000</td>\n",
              "    </tr>\n",
              "    <tr>\n",
              "      <th>50%</th>\n",
              "      <td>73.400000</td>\n",
              "    </tr>\n",
              "    <tr>\n",
              "      <th>75%</th>\n",
              "      <td>84.970000</td>\n",
              "    </tr>\n",
              "    <tr>\n",
              "      <th>max</th>\n",
              "      <td>100.000000</td>\n",
              "    </tr>\n",
              "  </tbody>\n",
              "</table>\n",
              "</div><br><label><b>dtype:</b> float64</label>"
            ]
          },
          "metadata": {},
          "execution_count": 22
        }
      ],
      "source": [
        "df_sensor_sao_cristovao['ur'].describe()"
      ]
    },
    {
      "cell_type": "code",
      "execution_count": 23,
      "metadata": {
        "colab": {
          "base_uri": "https://localhost:8080/"
        },
        "outputId": "d62f173e-e9c0-4bcd-99f6-51c1b92cf6f4",
        "cellView": "form",
        "id": "p6gLkSsQJ7wk"
      },
      "outputs": [
        {
          "output_type": "stream",
          "name": "stdout",
          "text": [
            "Quantidade de valores vazios: 11578\n"
          ]
        }
      ],
      "source": [
        "#@title Vendo quantidade de valores vazios\n",
        "\n",
        "valroes_vazio = df_sensor_sao_cristovao[df_sensor_sao_cristovao['ur'].isnull()].groupby(['ano', 'mes']).size().sum()\n",
        "print(f\"Quantidade de valores vazios: {valroes_vazio}\")"
      ]
    },
    {
      "cell_type": "code",
      "execution_count": 24,
      "metadata": {
        "colab": {
          "base_uri": "https://localhost:8080/"
        },
        "outputId": "44a8b436-4c11-430b-a659-d24b46c39c05",
        "cellView": "form",
        "id": "p6USmMKRJ7wk"
      },
      "outputs": [
        {
          "output_type": "stream",
          "name": "stderr",
          "text": [
            "<ipython-input-24-ebfb2a61a1f1>:3: SettingWithCopyWarning: \n",
            "A value is trying to be set on a copy of a slice from a DataFrame.\n",
            "Try using .loc[row_indexer,col_indexer] = value instead\n",
            "\n",
            "See the caveats in the documentation: https://pandas.pydata.org/pandas-docs/stable/user_guide/indexing.html#returning-a-view-versus-a-copy\n",
            "  df_sensor_sao_cristovao['ur_nulos_no_dia'] = (\n"
          ]
        }
      ],
      "source": [
        "#@title Criando coluna que informa a quantidade de valores vazios por dia\n",
        "\n",
        "df_sensor_sao_cristovao['ur_nulos_no_dia'] = (\n",
        "    df_sensor_sao_cristovao['ur'].isnull()\n",
        "    .groupby(df_sensor_sao_cristovao['data_formatada'])\n",
        "    .transform('sum')  # Soma os nulos por dia e repete o valor em todas as linhas do dia\n",
        ")"
      ]
    },
    {
      "cell_type": "code",
      "source": [
        "#@title Distribuição dos valores vazios\n",
        "\n",
        "# Seleciona uma única linha por dia, para evitar repetição\n",
        "df_dias = df_sensor_sao_cristovao[df_sensor_sao_cristovao['ur_nulos_no_dia'] != 0].groupby('data_formatada')['ur_nulos_no_dia'].first()\n",
        "\n",
        "# Plotar o histograma da contagem de valores nulos por dia\n",
        "plt.figure(figsize=(10,6))\n",
        "plt.hist(df_dias, bins=range(0, df_dias.max() + 2), edgecolor='black', align='left')\n",
        "plt.title('Histograma de Quantidade de Valores Vazios em \"ur\" por Dia')\n",
        "plt.xlabel('Quantidade de valores vazios no dia')\n",
        "plt.ylabel('Número de dias')\n",
        "plt.xticks(range(0, df_dias.max() + 1))\n",
        "plt.grid(axis='y', alpha=0.75)\n",
        "plt.show()"
      ],
      "metadata": {
        "colab": {
          "base_uri": "https://localhost:8080/",
          "height": 564
        },
        "cellView": "form",
        "outputId": "4b51d55e-75ef-4625-fbab-127d1e4a2a2c",
        "id": "eq-mDiJGJ7wk"
      },
      "execution_count": 25,
      "outputs": [
        {
          "output_type": "display_data",
          "data": {
            "text/plain": [
              "<Figure size 1000x600 with 1 Axes>"
            ],
            "image/png": "[encoded data removed]"
          },
          "metadata": {}
        }
      ]
    },
    {
      "cell_type": "code",
      "execution_count": 26,
      "metadata": {
        "colab": {
          "base_uri": "https://localhost:8080/"
        },
        "outputId": "51f22d5d-badc-43a8-9ace-063d5c220f52",
        "cellView": "form",
        "id": "wwI_91-_J7wk"
      },
      "outputs": [
        {
          "output_type": "stream",
          "name": "stdout",
          "text": [
            "321 linhas foram preenchidas com interpolate na coluna 'ur'.\n",
            "Foram preenchido 3% de dados\n"
          ]
        }
      ],
      "source": [
        "#@title Preenchimento dos valores nulos utilizando a função interpolate (Preenchendo apenas os que tem menos de 7 linhas vazias por dia)\n",
        "\n",
        "mask = (df_sensor_sao_cristovao['ur_nulos_no_dia'] <= 6)\n",
        "\n",
        "num_nulls = df_sensor_sao_cristovao[mask]['ur'].isnull().sum()\n",
        "df_sensor_sao_cristovao.loc[mask, 'ur'] = df_sensor_sao_cristovao[mask]['ur'].interpolate()\n",
        "print(f\"{num_nulls} linhas foram preenchidas com interpolate na coluna 'ur'.\")\n",
        "print(f\"Foram preenchido {round((num_nulls/valroes_vazio)*100)}% de dados\")"
      ]
    },
    {
      "cell_type": "code",
      "execution_count": 27,
      "metadata": {
        "colab": {
          "base_uri": "https://localhost:8080/",
          "height": 335
        },
        "outputId": "2aa3c2d5-3cda-4475-b2f4-d0fc0884e4ff",
        "id": "pgz04UK9J7wl"
      },
      "outputs": [
        {
          "output_type": "execute_result",
          "data": {
            "text/plain": [
              "count    57658.000000\n",
              "mean        72.002196\n",
              "std         17.118301\n",
              "min          0.000000\n",
              "25%         60.480000\n",
              "50%         73.380000\n",
              "75%         84.970000\n",
              "max        100.000000\n",
              "Name: ur, dtype: float64"
            ],
            "text/html": [
              "<div>\n",
              "<style scoped>\n",
              "    .dataframe tbody tr th:only-of-type {\n",
              "        vertical-align: middle;\n",
              "    }\n",
              "\n",
              "    .dataframe tbody tr th {\n",
              "        vertical-align: top;\n",
              "    }\n",
              "\n",
              "    .dataframe thead th {\n",
              "        text-align: right;\n",
              "    }\n",
              "</style>\n",
              "<table border=\"1\" class=\"dataframe\">\n",
              "  <thead>\n",
              "    <tr style=\"text-align: right;\">\n",
              "      <th></th>\n",
              "      <th>ur</th>\n",
              "    </tr>\n",
              "  </thead>\n",
              "  <tbody>\n",
              "    <tr>\n",
              "      <th>count</th>\n",
              "      <td>57658.000000</td>\n",
              "    </tr>\n",
              "    <tr>\n",
              "      <th>mean</th>\n",
              "      <td>72.002196</td>\n",
              "    </tr>\n",
              "    <tr>\n",
              "      <th>std</th>\n",
              "      <td>17.118301</td>\n",
              "    </tr>\n",
              "    <tr>\n",
              "      <th>min</th>\n",
              "      <td>0.000000</td>\n",
              "    </tr>\n",
              "    <tr>\n",
              "      <th>25%</th>\n",
              "      <td>60.480000</td>\n",
              "    </tr>\n",
              "    <tr>\n",
              "      <th>50%</th>\n",
              "      <td>73.380000</td>\n",
              "    </tr>\n",
              "    <tr>\n",
              "      <th>75%</th>\n",
              "      <td>84.970000</td>\n",
              "    </tr>\n",
              "    <tr>\n",
              "      <th>max</th>\n",
              "      <td>100.000000</td>\n",
              "    </tr>\n",
              "  </tbody>\n",
              "</table>\n",
              "</div><br><label><b>dtype:</b> float64</label>"
            ]
          },
          "metadata": {},
          "execution_count": 27
        }
      ],
      "source": [
        "df_sensor_sao_cristovao['ur'].describe()"
      ]
    },
    {
      "cell_type": "markdown",
      "metadata": {
        "id": "CCC7VEL1KuH4"
      },
      "source": [
        "### Monóxido de carbono"
      ]
    },
    {
      "cell_type": "code",
      "execution_count": 28,
      "metadata": {
        "colab": {
          "base_uri": "https://localhost:8080/",
          "height": 335
        },
        "outputId": "4e3005d5-9285-451f-a8b5-0722b0935dcf",
        "id": "9dpfUCUfKuH4"
      },
      "outputs": [
        {
          "output_type": "execute_result",
          "data": {
            "text/plain": [
              "count    64893.000000\n",
              "mean         0.248943\n",
              "std          0.340978\n",
              "min          0.000000\n",
              "25%          0.070000\n",
              "50%          0.140000\n",
              "75%          0.280000\n",
              "max          4.730000\n",
              "Name: co, dtype: float64"
            ],
            "text/html": [
              "<div>\n",
              "<style scoped>\n",
              "    .dataframe tbody tr th:only-of-type {\n",
              "        vertical-align: middle;\n",
              "    }\n",
              "\n",
              "    .dataframe tbody tr th {\n",
              "        vertical-align: top;\n",
              "    }\n",
              "\n",
              "    .dataframe thead th {\n",
              "        text-align: right;\n",
              "    }\n",
              "</style>\n",
              "<table border=\"1\" class=\"dataframe\">\n",
              "  <thead>\n",
              "    <tr style=\"text-align: right;\">\n",
              "      <th></th>\n",
              "      <th>co</th>\n",
              "    </tr>\n",
              "  </thead>\n",
              "  <tbody>\n",
              "    <tr>\n",
              "      <th>count</th>\n",
              "      <td>64893.000000</td>\n",
              "    </tr>\n",
              "    <tr>\n",
              "      <th>mean</th>\n",
              "      <td>0.248943</td>\n",
              "    </tr>\n",
              "    <tr>\n",
              "      <th>std</th>\n",
              "      <td>0.340978</td>\n",
              "    </tr>\n",
              "    <tr>\n",
              "      <th>min</th>\n",
              "      <td>0.000000</td>\n",
              "    </tr>\n",
              "    <tr>\n",
              "      <th>25%</th>\n",
              "      <td>0.070000</td>\n",
              "    </tr>\n",
              "    <tr>\n",
              "      <th>50%</th>\n",
              "      <td>0.140000</td>\n",
              "    </tr>\n",
              "    <tr>\n",
              "      <th>75%</th>\n",
              "      <td>0.280000</td>\n",
              "    </tr>\n",
              "    <tr>\n",
              "      <th>max</th>\n",
              "      <td>4.730000</td>\n",
              "    </tr>\n",
              "  </tbody>\n",
              "</table>\n",
              "</div><br><label><b>dtype:</b> float64</label>"
            ]
          },
          "metadata": {},
          "execution_count": 28
        }
      ],
      "source": [
        "df_sensor_sao_cristovao['co'].describe()"
      ]
    },
    {
      "cell_type": "code",
      "execution_count": 29,
      "metadata": {
        "colab": {
          "base_uri": "https://localhost:8080/"
        },
        "outputId": "a47510c5-4536-465b-b9bc-1bbeeeee430e",
        "cellView": "form",
        "id": "Iph6vPoHKuH5"
      },
      "outputs": [
        {
          "output_type": "stream",
          "name": "stdout",
          "text": [
            "Quantidade de valores vazios: 4022\n"
          ]
        }
      ],
      "source": [
        "#@title Vendo quantidade de valores vazios\n",
        "\n",
        "valroes_vazio = df_sensor_sao_cristovao[df_sensor_sao_cristovao['co'].isnull()].groupby(['ano', 'mes']).size().sum()\n",
        "print(f\"Quantidade de valores vazios: {valroes_vazio}\")"
      ]
    },
    {
      "cell_type": "code",
      "execution_count": 30,
      "metadata": {
        "colab": {
          "base_uri": "https://localhost:8080/"
        },
        "outputId": "73402d59-e3b1-408b-ba38-546d678616ec",
        "cellView": "form",
        "id": "NnwrJ1lqKuH5"
      },
      "outputs": [
        {
          "output_type": "stream",
          "name": "stderr",
          "text": [
            "<ipython-input-30-9333977d84cc>:3: SettingWithCopyWarning: \n",
            "A value is trying to be set on a copy of a slice from a DataFrame.\n",
            "Try using .loc[row_indexer,col_indexer] = value instead\n",
            "\n",
            "See the caveats in the documentation: https://pandas.pydata.org/pandas-docs/stable/user_guide/indexing.html#returning-a-view-versus-a-copy\n",
            "  df_sensor_sao_cristovao['co_nulos_no_dia'] = (\n"
          ]
        }
      ],
      "source": [
        "#@title Criando coluna que informa a quantidade de valores vazios por dia\n",
        "\n",
        "df_sensor_sao_cristovao['co_nulos_no_dia'] = (\n",
        "    df_sensor_sao_cristovao['co'].isnull()\n",
        "    .groupby(df_sensor_sao_cristovao['data_formatada'])\n",
        "    .transform('sum')  # Soma os nulos por dia e repete o valor em todas as linhas do dia\n",
        ")"
      ]
    },
    {
      "cell_type": "code",
      "source": [
        "#@title Distribuição dos valores vazios\n",
        "\n",
        "# Seleciona uma única linha por dia, para evitar repetição\n",
        "df_dias = df_sensor_sao_cristovao[df_sensor_sao_cristovao['co_nulos_no_dia'] != 0].groupby('data_formatada')['co_nulos_no_dia'].first()\n",
        "\n",
        "# Plotar o histograma da contagem de valores nulos por dia\n",
        "plt.figure(figsize=(10,6))\n",
        "plt.hist(df_dias, bins=range(0, df_dias.max() + 2), edgecolor='black', align='left')\n",
        "plt.title(\"Histograma de Quantidade de Valores Vazios em 'co' por Dia\")\n",
        "plt.xlabel('Quantidade de valores vazios no dia')\n",
        "plt.ylabel('Número de dias')\n",
        "plt.xticks(range(0, df_dias.max() + 1))\n",
        "plt.grid(axis='y', alpha=0.75)\n",
        "plt.show()"
      ],
      "metadata": {
        "colab": {
          "base_uri": "https://localhost:8080/",
          "height": 564
        },
        "cellView": "form",
        "outputId": "b8f21579-2981-43cf-968d-6869cdb47b36",
        "id": "2-VMGpsdKuH5"
      },
      "execution_count": 31,
      "outputs": [
        {
          "output_type": "display_data",
          "data": {
            "text/plain": [
              "<Figure size 1000x600 with 1 Axes>"
            ],
            "image/png": "[encoded data removed]"
          },
          "metadata": {}
        }
      ]
    },
    {
      "cell_type": "code",
      "execution_count": 32,
      "metadata": {
        "colab": {
          "base_uri": "https://localhost:8080/"
        },
        "outputId": "f1ac3b2e-eac1-435f-cd2b-ccb69e297ffa",
        "cellView": "form",
        "id": "OZOmu7J9KuH5"
      },
      "outputs": [
        {
          "output_type": "stream",
          "name": "stdout",
          "text": [
            "990 linhas foram preenchidas com interpolate na coluna 'co'.\n",
            "Foram preenchido 25% de dados\n"
          ]
        }
      ],
      "source": [
        "#@title Preenchimento dos valores nulos utilizando a função interpolate (Preenchendo apenas os que tem menos de 7 linhas vazias por dia)\n",
        "\n",
        "mask = (df_sensor_sao_cristovao['co_nulos_no_dia'] <= 6)\n",
        "\n",
        "num_nulls = df_sensor_sao_cristovao[mask]['co'].isnull().sum()\n",
        "df_sensor_sao_cristovao.loc[mask, 'co'] = df_sensor_sao_cristovao[mask]['co'].interpolate()\n",
        "print(f\"{num_nulls} linhas foram preenchidas com interpolate na coluna 'co'.\")\n",
        "print(f\"Foram preenchido {round((num_nulls/valroes_vazio)*100)}% de dados\")"
      ]
    },
    {
      "cell_type": "code",
      "execution_count": 33,
      "metadata": {
        "colab": {
          "base_uri": "https://localhost:8080/",
          "height": 335
        },
        "outputId": "7422d82a-bc87-4284-af2b-6c8a4a7e5efe",
        "id": "1j_2t8uiKuH5"
      },
      "outputs": [
        {
          "output_type": "execute_result",
          "data": {
            "text/plain": [
              "count    65883.000000\n",
              "mean         0.249403\n",
              "std          0.340738\n",
              "min          0.000000\n",
              "25%          0.070000\n",
              "50%          0.150000\n",
              "75%          0.280000\n",
              "max          4.730000\n",
              "Name: co, dtype: float64"
            ],
            "text/html": [
              "<div>\n",
              "<style scoped>\n",
              "    .dataframe tbody tr th:only-of-type {\n",
              "        vertical-align: middle;\n",
              "    }\n",
              "\n",
              "    .dataframe tbody tr th {\n",
              "        vertical-align: top;\n",
              "    }\n",
              "\n",
              "    .dataframe thead th {\n",
              "        text-align: right;\n",
              "    }\n",
              "</style>\n",
              "<table border=\"1\" class=\"dataframe\">\n",
              "  <thead>\n",
              "    <tr style=\"text-align: right;\">\n",
              "      <th></th>\n",
              "      <th>co</th>\n",
              "    </tr>\n",
              "  </thead>\n",
              "  <tbody>\n",
              "    <tr>\n",
              "      <th>count</th>\n",
              "      <td>65883.000000</td>\n",
              "    </tr>\n",
              "    <tr>\n",
              "      <th>mean</th>\n",
              "      <td>0.249403</td>\n",
              "    </tr>\n",
              "    <tr>\n",
              "      <th>std</th>\n",
              "      <td>0.340738</td>\n",
              "    </tr>\n",
              "    <tr>\n",
              "      <th>min</th>\n",
              "      <td>0.000000</td>\n",
              "    </tr>\n",
              "    <tr>\n",
              "      <th>25%</th>\n",
              "      <td>0.070000</td>\n",
              "    </tr>\n",
              "    <tr>\n",
              "      <th>50%</th>\n",
              "      <td>0.150000</td>\n",
              "    </tr>\n",
              "    <tr>\n",
              "      <th>75%</th>\n",
              "      <td>0.280000</td>\n",
              "    </tr>\n",
              "    <tr>\n",
              "      <th>max</th>\n",
              "      <td>4.730000</td>\n",
              "    </tr>\n",
              "  </tbody>\n",
              "</table>\n",
              "</div><br><label><b>dtype:</b> float64</label>"
            ]
          },
          "metadata": {},
          "execution_count": 33
        }
      ],
      "source": [
        "df_sensor_sao_cristovao['co'].describe()"
      ]
    },
    {
      "cell_type": "markdown",
      "metadata": {
        "id": "dea3QOhJMs5K"
      },
      "source": [
        "### Dióxido de Enxofre Tijuca"
      ]
    },
    {
      "cell_type": "code",
      "execution_count": 52,
      "metadata": {
        "colab": {
          "base_uri": "https://localhost:8080/",
          "height": 335
        },
        "outputId": "6ab2bc3e-d16d-4b44-ba70-1ffb20ce1154",
        "id": "fszCCXqNMs5L"
      },
      "outputs": [
        {
          "output_type": "execute_result",
          "data": {
            "text/plain": [
              "count    61612.000000\n",
              "mean         8.481747\n",
              "std         10.351349\n",
              "min          0.000000\n",
              "25%          2.360000\n",
              "50%          5.430000\n",
              "75%         10.700000\n",
              "max        184.180000\n",
              "Name: so2, dtype: float64"
            ],
            "text/html": [
              "<div>\n",
              "<style scoped>\n",
              "    .dataframe tbody tr th:only-of-type {\n",
              "        vertical-align: middle;\n",
              "    }\n",
              "\n",
              "    .dataframe tbody tr th {\n",
              "        vertical-align: top;\n",
              "    }\n",
              "\n",
              "    .dataframe thead th {\n",
              "        text-align: right;\n",
              "    }\n",
              "</style>\n",
              "<table border=\"1\" class=\"dataframe\">\n",
              "  <thead>\n",
              "    <tr style=\"text-align: right;\">\n",
              "      <th></th>\n",
              "      <th>so2</th>\n",
              "    </tr>\n",
              "  </thead>\n",
              "  <tbody>\n",
              "    <tr>\n",
              "      <th>count</th>\n",
              "      <td>61612.000000</td>\n",
              "    </tr>\n",
              "    <tr>\n",
              "      <th>mean</th>\n",
              "      <td>8.481747</td>\n",
              "    </tr>\n",
              "    <tr>\n",
              "      <th>std</th>\n",
              "      <td>10.351349</td>\n",
              "    </tr>\n",
              "    <tr>\n",
              "      <th>min</th>\n",
              "      <td>0.000000</td>\n",
              "    </tr>\n",
              "    <tr>\n",
              "      <th>25%</th>\n",
              "      <td>2.360000</td>\n",
              "    </tr>\n",
              "    <tr>\n",
              "      <th>50%</th>\n",
              "      <td>5.430000</td>\n",
              "    </tr>\n",
              "    <tr>\n",
              "      <th>75%</th>\n",
              "      <td>10.700000</td>\n",
              "    </tr>\n",
              "    <tr>\n",
              "      <th>max</th>\n",
              "      <td>184.180000</td>\n",
              "    </tr>\n",
              "  </tbody>\n",
              "</table>\n",
              "</div><br><label><b>dtype:</b> float64</label>"
            ]
          },
          "metadata": {},
          "execution_count": 52
        }
      ],
      "source": [
        "df_sensor_sao_cristovao['so2'].describe()"
      ]
    },
    {
      "cell_type": "code",
      "execution_count": 53,
      "metadata": {
        "colab": {
          "base_uri": "https://localhost:8080/"
        },
        "outputId": "92a08995-e41c-43a6-fcfa-2b4d30372923",
        "cellView": "form",
        "id": "c0RuCYCsMs5L"
      },
      "outputs": [
        {
          "output_type": "stream",
          "name": "stdout",
          "text": [
            "Quantidade de valores vazios: 7303\n"
          ]
        }
      ],
      "source": [
        "#@title Vendo quantidade de valores vazios\n",
        "\n",
        "valroes_vazio = df_sensor_sao_cristovao[df_sensor_sao_cristovao['so2'].isnull()].groupby(['ano', 'mes']).size().sum()\n",
        "print(f\"Quantidade de valores vazios: {valroes_vazio}\")"
      ]
    },
    {
      "cell_type": "code",
      "execution_count": 54,
      "metadata": {
        "colab": {
          "base_uri": "https://localhost:8080/"
        },
        "outputId": "90e73ac3-9af8-4dec-8743-f348daaa4540",
        "cellView": "form",
        "id": "C4qkCjQHMs5L"
      },
      "outputs": [
        {
          "output_type": "stream",
          "name": "stderr",
          "text": [
            "<ipython-input-54-e698949ddd85>:3: SettingWithCopyWarning: \n",
            "A value is trying to be set on a copy of a slice from a DataFrame.\n",
            "Try using .loc[row_indexer,col_indexer] = value instead\n",
            "\n",
            "See the caveats in the documentation: https://pandas.pydata.org/pandas-docs/stable/user_guide/indexing.html#returning-a-view-versus-a-copy\n",
            "  df_sensor_sao_cristovao['so2_nulos_no_dia'] = (\n"
          ]
        }
      ],
      "source": [
        "#@title Criando coluna que informa a quantidade de valores vazios por dia\n",
        "\n",
        "df_sensor_sao_cristovao['so2_nulos_no_dia'] = (\n",
        "    df_sensor_sao_cristovao['so2'].isnull()\n",
        "    .groupby(df_sensor_sao_cristovao['data_formatada'])\n",
        "    .transform('sum')  # Soma os nulos por dia e repete o valor em todas as linhas do dia\n",
        ")"
      ]
    },
    {
      "cell_type": "code",
      "source": [
        "#@title Distribuição dos valores vazios\n",
        "\n",
        "# Seleciona uma única linha por dia, para evitar repetição\n",
        "df_dias = df_sensor_sao_cristovao[df_sensor_sao_cristovao['so2_nulos_no_dia'] != 0].groupby('data_formatada')['so2_nulos_no_dia'].first()\n",
        "\n",
        "# Plotar o histograma da contagem de valores nulos por dia\n",
        "plt.figure(figsize=(10,6))\n",
        "plt.hist(df_dias, bins=range(0, df_dias.max() + 2), edgecolor='black', align='left')\n",
        "plt.title(\"Histograma de Quantidade de Valores Vazios em 'so2' por Dia\")\n",
        "plt.xlabel('Quantidade de valores vazios no dia')\n",
        "plt.ylabel('Número de dias')\n",
        "plt.xticks(range(0, df_dias.max() + 1))\n",
        "plt.grid(axis='y', alpha=0.75)\n",
        "plt.show()"
      ],
      "metadata": {
        "colab": {
          "base_uri": "https://localhost:8080/",
          "height": 564
        },
        "cellView": "form",
        "outputId": "1fbf2a76-ee01-4547-df89-c3bbdb8b2f77",
        "id": "trcgkn9hMs5L"
      },
      "execution_count": 55,
      "outputs": [
        {
          "output_type": "display_data",
          "data": {
            "text/plain": [
              "<Figure size 1000x600 with 1 Axes>"
            ],
            "image/png": "[encoded data removed]"
          },
          "metadata": {}
        }
      ]
    },
    {
      "cell_type": "code",
      "execution_count": 56,
      "metadata": {
        "colab": {
          "base_uri": "https://localhost:8080/"
        },
        "outputId": "17dc8079-c344-47be-a562-6511a6f2e691",
        "cellView": "form",
        "id": "4Vf0xfIGMs5L"
      },
      "outputs": [
        {
          "output_type": "stream",
          "name": "stdout",
          "text": [
            "1851 linhas foram preenchidas com interpolate na coluna 'so2'.\n",
            "Foram preenchido 25% de dados\n"
          ]
        }
      ],
      "source": [
        "#@title Preenchimento dos valores nulos utilizando a função interpolate (Preenchendo apenas os que tem menos de 7 linhas vazias por dia)\n",
        "\n",
        "mask = (df_sensor_sao_cristovao['so2_nulos_no_dia'] <= 6)\n",
        "\n",
        "num_nulls = df_sensor_sao_cristovao[mask]['so2'].isnull().sum()\n",
        "df_sensor_sao_cristovao.loc[mask, 'so2'] = df_sensor_sao_cristovao[mask]['so2'].interpolate()\n",
        "print(f\"{num_nulls} linhas foram preenchidas com interpolate na coluna 'so2'.\")\n",
        "print(f\"Foram preenchido {round((num_nulls/valroes_vazio)*100)}% de dados\")"
      ]
    },
    {
      "cell_type": "code",
      "execution_count": 57,
      "metadata": {
        "colab": {
          "base_uri": "https://localhost:8080/",
          "height": 335
        },
        "outputId": "4bfe1951-168a-4c69-c742-45cd0362abf6",
        "id": "tdmsasFgMs5L"
      },
      "outputs": [
        {
          "output_type": "execute_result",
          "data": {
            "text/plain": [
              "count    63463.000000\n",
              "mean         8.495163\n",
              "std         10.358805\n",
              "min          0.000000\n",
              "25%          2.360000\n",
              "50%          5.440000\n",
              "75%         10.710000\n",
              "max        184.180000\n",
              "Name: so2, dtype: float64"
            ],
            "text/html": [
              "<div>\n",
              "<style scoped>\n",
              "    .dataframe tbody tr th:only-of-type {\n",
              "        vertical-align: middle;\n",
              "    }\n",
              "\n",
              "    .dataframe tbody tr th {\n",
              "        vertical-align: top;\n",
              "    }\n",
              "\n",
              "    .dataframe thead th {\n",
              "        text-align: right;\n",
              "    }\n",
              "</style>\n",
              "<table border=\"1\" class=\"dataframe\">\n",
              "  <thead>\n",
              "    <tr style=\"text-align: right;\">\n",
              "      <th></th>\n",
              "      <th>so2</th>\n",
              "    </tr>\n",
              "  </thead>\n",
              "  <tbody>\n",
              "    <tr>\n",
              "      <th>count</th>\n",
              "      <td>63463.000000</td>\n",
              "    </tr>\n",
              "    <tr>\n",
              "      <th>mean</th>\n",
              "      <td>8.495163</td>\n",
              "    </tr>\n",
              "    <tr>\n",
              "      <th>std</th>\n",
              "      <td>10.358805</td>\n",
              "    </tr>\n",
              "    <tr>\n",
              "      <th>min</th>\n",
              "      <td>0.000000</td>\n",
              "    </tr>\n",
              "    <tr>\n",
              "      <th>25%</th>\n",
              "      <td>2.360000</td>\n",
              "    </tr>\n",
              "    <tr>\n",
              "      <th>50%</th>\n",
              "      <td>5.440000</td>\n",
              "    </tr>\n",
              "    <tr>\n",
              "      <th>75%</th>\n",
              "      <td>10.710000</td>\n",
              "    </tr>\n",
              "    <tr>\n",
              "      <th>max</th>\n",
              "      <td>184.180000</td>\n",
              "    </tr>\n",
              "  </tbody>\n",
              "</table>\n",
              "</div><br><label><b>dtype:</b> float64</label>"
            ]
          },
          "metadata": {},
          "execution_count": 57
        }
      ],
      "source": [
        "df_sensor_sao_cristovao['so2'].describe()"
      ]
    },
    {
      "cell_type": "markdown",
      "metadata": {
        "id": "DP-WWSHfNYCk"
      },
      "source": [
        "### Ozônio Tijuca"
      ]
    },
    {
      "cell_type": "code",
      "execution_count": 58,
      "metadata": {
        "colab": {
          "base_uri": "https://localhost:8080/",
          "height": 335
        },
        "outputId": "601b5bb5-f582-4287-cd28-d94178b0dc79",
        "id": "5Wx7SPTJNYCl"
      },
      "outputs": [
        {
          "output_type": "execute_result",
          "data": {
            "text/plain": [
              "count    65120.000000\n",
              "mean        23.553661\n",
              "std         26.764600\n",
              "min          0.000000\n",
              "25%          2.830000\n",
              "50%         14.025000\n",
              "75%         36.290000\n",
              "max        251.260000\n",
              "Name: o3, dtype: float64"
            ],
            "text/html": [
              "<div>\n",
              "<style scoped>\n",
              "    .dataframe tbody tr th:only-of-type {\n",
              "        vertical-align: middle;\n",
              "    }\n",
              "\n",
              "    .dataframe tbody tr th {\n",
              "        vertical-align: top;\n",
              "    }\n",
              "\n",
              "    .dataframe thead th {\n",
              "        text-align: right;\n",
              "    }\n",
              "</style>\n",
              "<table border=\"1\" class=\"dataframe\">\n",
              "  <thead>\n",
              "    <tr style=\"text-align: right;\">\n",
              "      <th></th>\n",
              "      <th>o3</th>\n",
              "    </tr>\n",
              "  </thead>\n",
              "  <tbody>\n",
              "    <tr>\n",
              "      <th>count</th>\n",
              "      <td>65120.000000</td>\n",
              "    </tr>\n",
              "    <tr>\n",
              "      <th>mean</th>\n",
              "      <td>23.553661</td>\n",
              "    </tr>\n",
              "    <tr>\n",
              "      <th>std</th>\n",
              "      <td>26.764600</td>\n",
              "    </tr>\n",
              "    <tr>\n",
              "      <th>min</th>\n",
              "      <td>0.000000</td>\n",
              "    </tr>\n",
              "    <tr>\n",
              "      <th>25%</th>\n",
              "      <td>2.830000</td>\n",
              "    </tr>\n",
              "    <tr>\n",
              "      <th>50%</th>\n",
              "      <td>14.025000</td>\n",
              "    </tr>\n",
              "    <tr>\n",
              "      <th>75%</th>\n",
              "      <td>36.290000</td>\n",
              "    </tr>\n",
              "    <tr>\n",
              "      <th>max</th>\n",
              "      <td>251.260000</td>\n",
              "    </tr>\n",
              "  </tbody>\n",
              "</table>\n",
              "</div><br><label><b>dtype:</b> float64</label>"
            ]
          },
          "metadata": {},
          "execution_count": 58
        }
      ],
      "source": [
        "df_sensor_sao_cristovao['o3'].describe()"
      ]
    },
    {
      "cell_type": "code",
      "execution_count": 59,
      "metadata": {
        "colab": {
          "base_uri": "https://localhost:8080/"
        },
        "outputId": "9a310991-b2c7-4ae5-ead6-b134441e91b9",
        "cellView": "form",
        "id": "kXhRQEmoNYCn"
      },
      "outputs": [
        {
          "output_type": "stream",
          "name": "stdout",
          "text": [
            "Quantidade de valores vazios: 3795\n"
          ]
        }
      ],
      "source": [
        "#@title Vendo quantidade de valores vazios\n",
        "\n",
        "valroes_vazio = df_sensor_sao_cristovao[df_sensor_sao_cristovao['o3'].isnull()].groupby(['ano', 'mes']).size().sum()\n",
        "print(f\"Quantidade de valores vazios: {valroes_vazio}\")"
      ]
    },
    {
      "cell_type": "code",
      "execution_count": 60,
      "metadata": {
        "colab": {
          "base_uri": "https://localhost:8080/"
        },
        "outputId": "c1c772db-de40-42da-da19-f7cfa43db31a",
        "cellView": "form",
        "id": "cJBoN4cMNYCn"
      },
      "outputs": [
        {
          "output_type": "stream",
          "name": "stderr",
          "text": [
            "<ipython-input-60-2c4c55177fd8>:3: SettingWithCopyWarning: \n",
            "A value is trying to be set on a copy of a slice from a DataFrame.\n",
            "Try using .loc[row_indexer,col_indexer] = value instead\n",
            "\n",
            "See the caveats in the documentation: https://pandas.pydata.org/pandas-docs/stable/user_guide/indexing.html#returning-a-view-versus-a-copy\n",
            "  df_sensor_sao_cristovao['o3_nulos_no_dia'] = (\n"
          ]
        }
      ],
      "source": [
        "#@title Criando coluna que informa a quantidade de valores vazios por dia\n",
        "\n",
        "df_sensor_sao_cristovao['o3_nulos_no_dia'] = (\n",
        "    df_sensor_sao_cristovao['o3'].isnull()\n",
        "    .groupby(df_sensor_sao_cristovao['data_formatada'])\n",
        "    .transform('sum')  # Soma os nulos por dia e repete o valor em todas as linhas do dia\n",
        ")"
      ]
    },
    {
      "cell_type": "code",
      "source": [
        "#@title Distribuição dos valores vazios\n",
        "\n",
        "# Seleciona uma única linha por dia, para evitar repetição\n",
        "df_dias = df_sensor_sao_cristovao[df_sensor_sao_cristovao['o3_nulos_no_dia'] != 0].groupby('data_formatada')['o3_nulos_no_dia'].first()\n",
        "\n",
        "# Plotar o histograma da contagem de valores nulos por dia\n",
        "plt.figure(figsize=(10,6))\n",
        "plt.hist(df_dias, bins=range(0, df_dias.max() + 2), edgecolor='black', align='left')\n",
        "plt.title(\"Histograma de Quantidade de Valores Vazios em 'o3' por Dia\")\n",
        "plt.xlabel('Quantidade de valores vazios no dia')\n",
        "plt.ylabel('Número de dias')\n",
        "plt.xticks(range(0, df_dias.max() + 1))\n",
        "plt.grid(axis='y', alpha=0.75)\n",
        "plt.show()"
      ],
      "metadata": {
        "colab": {
          "base_uri": "https://localhost:8080/",
          "height": 564
        },
        "cellView": "form",
        "outputId": "d6d30b8b-855d-42f1-94c4-1cdd141542a5",
        "id": "Q1ZG0wIONYCn"
      },
      "execution_count": 61,
      "outputs": [
        {
          "output_type": "display_data",
          "data": {
            "text/plain": [
              "<Figure size 1000x600 with 1 Axes>"
            ],
            "image/png": "[encoded data removed]"
          },
          "metadata": {}
        }
      ]
    },
    {
      "cell_type": "code",
      "execution_count": 62,
      "metadata": {
        "colab": {
          "base_uri": "https://localhost:8080/"
        },
        "outputId": "a93cd53d-cfc0-4bf9-cc33-c9a03406362b",
        "cellView": "form",
        "id": "KQwJwPLrNYCo"
      },
      "outputs": [
        {
          "output_type": "stream",
          "name": "stdout",
          "text": [
            "593 linhas foram preenchidas com interpolate na coluna 'o3'.\n",
            "Foram preenchido 16% de dados\n"
          ]
        }
      ],
      "source": [
        "#@title Preenchimento dos valores nulos utilizando a função interpolate (Preenchendo apenas os que tem menos de 7 linhas vazias por dia)\n",
        "\n",
        "mask = (df_sensor_sao_cristovao['o3_nulos_no_dia'] <= 6)\n",
        "\n",
        "num_nulls = df_sensor_sao_cristovao[mask]['o3'].isnull().sum()\n",
        "df_sensor_sao_cristovao.loc[mask, 'o3'] = df_sensor_sao_cristovao[mask]['o3'].interpolate()\n",
        "print(f\"{num_nulls} linhas foram preenchidas com interpolate na coluna 'o3'.\")\n",
        "print(f\"Foram preenchido {round((num_nulls/valroes_vazio)*100)}% de dados\")"
      ]
    },
    {
      "cell_type": "code",
      "execution_count": 63,
      "metadata": {
        "colab": {
          "base_uri": "https://localhost:8080/",
          "height": 335
        },
        "outputId": "12a0c930-3f92-401c-e77d-fb0761e63a58",
        "id": "8dJ2VLO3NYCp"
      },
      "outputs": [
        {
          "output_type": "execute_result",
          "data": {
            "text/plain": [
              "count    65713.000000\n",
              "mean        23.636335\n",
              "std         26.767099\n",
              "min          0.000000\n",
              "25%          2.870000\n",
              "50%         14.180000\n",
              "75%         36.400000\n",
              "max        251.260000\n",
              "Name: o3, dtype: float64"
            ],
            "text/html": [
              "<div>\n",
              "<style scoped>\n",
              "    .dataframe tbody tr th:only-of-type {\n",
              "        vertical-align: middle;\n",
              "    }\n",
              "\n",
              "    .dataframe tbody tr th {\n",
              "        vertical-align: top;\n",
              "    }\n",
              "\n",
              "    .dataframe thead th {\n",
              "        text-align: right;\n",
              "    }\n",
              "</style>\n",
              "<table border=\"1\" class=\"dataframe\">\n",
              "  <thead>\n",
              "    <tr style=\"text-align: right;\">\n",
              "      <th></th>\n",
              "      <th>o3</th>\n",
              "    </tr>\n",
              "  </thead>\n",
              "  <tbody>\n",
              "    <tr>\n",
              "      <th>count</th>\n",
              "      <td>65713.000000</td>\n",
              "    </tr>\n",
              "    <tr>\n",
              "      <th>mean</th>\n",
              "      <td>23.636335</td>\n",
              "    </tr>\n",
              "    <tr>\n",
              "      <th>std</th>\n",
              "      <td>26.767099</td>\n",
              "    </tr>\n",
              "    <tr>\n",
              "      <th>min</th>\n",
              "      <td>0.000000</td>\n",
              "    </tr>\n",
              "    <tr>\n",
              "      <th>25%</th>\n",
              "      <td>2.870000</td>\n",
              "    </tr>\n",
              "    <tr>\n",
              "      <th>50%</th>\n",
              "      <td>14.180000</td>\n",
              "    </tr>\n",
              "    <tr>\n",
              "      <th>75%</th>\n",
              "      <td>36.400000</td>\n",
              "    </tr>\n",
              "    <tr>\n",
              "      <th>max</th>\n",
              "      <td>251.260000</td>\n",
              "    </tr>\n",
              "  </tbody>\n",
              "</table>\n",
              "</div><br><label><b>dtype:</b> float64</label>"
            ]
          },
          "metadata": {},
          "execution_count": 63
        }
      ],
      "source": [
        "df_sensor_sao_cristovao['o3'].describe()"
      ]
    },
    {
      "cell_type": "markdown",
      "metadata": {
        "id": "x_EfKxffNz6H"
      },
      "source": [
        "### PM10 Tijuca"
      ]
    },
    {
      "cell_type": "code",
      "execution_count": 64,
      "metadata": {
        "colab": {
          "base_uri": "https://localhost:8080/",
          "height": 335
        },
        "outputId": "1da7d360-d2a7-48fa-bd93-973eccef9478",
        "id": "PwaB2u12Nz6H"
      },
      "outputs": [
        {
          "output_type": "execute_result",
          "data": {
            "text/plain": [
              "count    64072.000000\n",
              "mean        33.463572\n",
              "std         21.822756\n",
              "min          0.000000\n",
              "25%         18.000000\n",
              "50%         29.000000\n",
              "75%         43.000000\n",
              "max        338.000000\n",
              "Name: pm10, dtype: float64"
            ],
            "text/html": [
              "<div>\n",
              "<style scoped>\n",
              "    .dataframe tbody tr th:only-of-type {\n",
              "        vertical-align: middle;\n",
              "    }\n",
              "\n",
              "    .dataframe tbody tr th {\n",
              "        vertical-align: top;\n",
              "    }\n",
              "\n",
              "    .dataframe thead th {\n",
              "        text-align: right;\n",
              "    }\n",
              "</style>\n",
              "<table border=\"1\" class=\"dataframe\">\n",
              "  <thead>\n",
              "    <tr style=\"text-align: right;\">\n",
              "      <th></th>\n",
              "      <th>pm10</th>\n",
              "    </tr>\n",
              "  </thead>\n",
              "  <tbody>\n",
              "    <tr>\n",
              "      <th>count</th>\n",
              "      <td>64072.000000</td>\n",
              "    </tr>\n",
              "    <tr>\n",
              "      <th>mean</th>\n",
              "      <td>33.463572</td>\n",
              "    </tr>\n",
              "    <tr>\n",
              "      <th>std</th>\n",
              "      <td>21.822756</td>\n",
              "    </tr>\n",
              "    <tr>\n",
              "      <th>min</th>\n",
              "      <td>0.000000</td>\n",
              "    </tr>\n",
              "    <tr>\n",
              "      <th>25%</th>\n",
              "      <td>18.000000</td>\n",
              "    </tr>\n",
              "    <tr>\n",
              "      <th>50%</th>\n",
              "      <td>29.000000</td>\n",
              "    </tr>\n",
              "    <tr>\n",
              "      <th>75%</th>\n",
              "      <td>43.000000</td>\n",
              "    </tr>\n",
              "    <tr>\n",
              "      <th>max</th>\n",
              "      <td>338.000000</td>\n",
              "    </tr>\n",
              "  </tbody>\n",
              "</table>\n",
              "</div><br><label><b>dtype:</b> float64</label>"
            ]
          },
          "metadata": {},
          "execution_count": 64
        }
      ],
      "source": [
        "df_sensor_sao_cristovao['pm10'].describe()"
      ]
    },
    {
      "cell_type": "code",
      "execution_count": 65,
      "metadata": {
        "colab": {
          "base_uri": "https://localhost:8080/"
        },
        "outputId": "1158074a-d0e5-4a17-8ad1-b03cc50d9b11",
        "cellView": "form",
        "id": "2DgViHnxNz6I"
      },
      "outputs": [
        {
          "output_type": "stream",
          "name": "stdout",
          "text": [
            "Quantidade de valores vazios: 4843\n"
          ]
        }
      ],
      "source": [
        "#@title Vendo quantidade de valores vazios\n",
        "\n",
        "valroes_vazio = df_sensor_sao_cristovao[df_sensor_sao_cristovao['pm10'].isnull()].groupby(['ano', 'mes']).size().sum()\n",
        "print(f\"Quantidade de valores vazios: {valroes_vazio}\")"
      ]
    },
    {
      "cell_type": "code",
      "execution_count": 66,
      "metadata": {
        "colab": {
          "base_uri": "https://localhost:8080/"
        },
        "outputId": "9870a36a-49d2-411d-cb9a-87755f56a25d",
        "cellView": "form",
        "id": "C4E1ad35Nz6I"
      },
      "outputs": [
        {
          "output_type": "stream",
          "name": "stderr",
          "text": [
            "<ipython-input-66-35b4ee96769d>:3: SettingWithCopyWarning: \n",
            "A value is trying to be set on a copy of a slice from a DataFrame.\n",
            "Try using .loc[row_indexer,col_indexer] = value instead\n",
            "\n",
            "See the caveats in the documentation: https://pandas.pydata.org/pandas-docs/stable/user_guide/indexing.html#returning-a-view-versus-a-copy\n",
            "  df_sensor_sao_cristovao['pm10_nulos_no_dia'] = (\n"
          ]
        }
      ],
      "source": [
        "#@title Criando coluna que informa a quantidade de valores vazios por dia\n",
        "\n",
        "df_sensor_sao_cristovao['pm10_nulos_no_dia'] = (\n",
        "    df_sensor_sao_cristovao['pm10'].isnull()\n",
        "    .groupby(df_sensor_sao_cristovao['data_formatada'])\n",
        "    .transform('sum')  # Soma os nulos por dia e repete o valor em todas as linhas do dia\n",
        ")"
      ]
    },
    {
      "cell_type": "code",
      "source": [
        "#@title Distribuição dos valores vazios\n",
        "\n",
        "# Seleciona uma única linha por dia, para evitar repetição\n",
        "df_dias = df_sensor_sao_cristovao[df_sensor_sao_cristovao['pm10_nulos_no_dia'] != 0].groupby('data_formatada')['pm10_nulos_no_dia'].first()\n",
        "\n",
        "# Plotar o histograma da contagem de valores nulos por dia\n",
        "plt.figure(figsize=(10,6))\n",
        "plt.hist(df_dias, bins=range(0, df_dias.max() + 2), edgecolor='black', align='left')\n",
        "plt.title(\"Histograma de Quantidade de Valores Vazios em 'pm10' por Dia\")\n",
        "plt.xlabel('Quantidade de valores vazios no dia')\n",
        "plt.ylabel('Número de dias')\n",
        "plt.xticks(range(0, df_dias.max() + 1))\n",
        "plt.grid(axis='y', alpha=0.75)\n",
        "plt.show()"
      ],
      "metadata": {
        "colab": {
          "base_uri": "https://localhost:8080/",
          "height": 564
        },
        "cellView": "form",
        "outputId": "ee9c9399-88ff-4b73-ca37-b8e2a0a703d5",
        "id": "wimZHi5oNz6I"
      },
      "execution_count": 67,
      "outputs": [
        {
          "output_type": "display_data",
          "data": {
            "text/plain": [
              "<Figure size 1000x600 with 1 Axes>"
            ],
            "image/png": "[encoded data removed]"
          },
          "metadata": {}
        }
      ]
    },
    {
      "cell_type": "code",
      "execution_count": 68,
      "metadata": {
        "colab": {
          "base_uri": "https://localhost:8080/"
        },
        "outputId": "514aae7c-84b0-46d7-efbb-ed600d86cf00",
        "cellView": "form",
        "id": "OA2D_-XPNz6I"
      },
      "outputs": [
        {
          "output_type": "stream",
          "name": "stdout",
          "text": [
            "546 linhas foram preenchidas com interpolate na coluna 'pm10'.\n",
            "Foram preenchido 11% de dados\n"
          ]
        }
      ],
      "source": [
        "#@title Preenchimento dos valores nulos utilizando a função interpolate (Preenchendo apenas os que tem menos de 7 linhas vazias por dia)\n",
        "\n",
        "mask = (df_sensor_sao_cristovao['pm10_nulos_no_dia'] <= 6)\n",
        "\n",
        "num_nulls = df_sensor_sao_cristovao[mask]['pm10'].isnull().sum()\n",
        "df_sensor_sao_cristovao.loc[mask, 'pm10'] = df_sensor_sao_cristovao[mask]['pm10'].interpolate()\n",
        "print(f\"{num_nulls} linhas foram preenchidas com interpolate na coluna 'pm10'.\")\n",
        "print(f\"Foram preenchido {round((num_nulls/valroes_vazio)*100)}% de dados\")"
      ]
    },
    {
      "cell_type": "code",
      "execution_count": 69,
      "metadata": {
        "colab": {
          "base_uri": "https://localhost:8080/",
          "height": 335
        },
        "outputId": "c04c4bd6-98f9-4ec9-f856-dc9a0ae38c9d",
        "id": "KmM4M2pDNz6I"
      },
      "outputs": [
        {
          "output_type": "execute_result",
          "data": {
            "text/plain": [
              "count    64618.000000\n",
              "mean        33.473948\n",
              "std         21.827908\n",
              "min          0.000000\n",
              "25%         18.000000\n",
              "50%         29.000000\n",
              "75%         43.000000\n",
              "max        338.000000\n",
              "Name: pm10, dtype: float64"
            ],
            "text/html": [
              "<div>\n",
              "<style scoped>\n",
              "    .dataframe tbody tr th:only-of-type {\n",
              "        vertical-align: middle;\n",
              "    }\n",
              "\n",
              "    .dataframe tbody tr th {\n",
              "        vertical-align: top;\n",
              "    }\n",
              "\n",
              "    .dataframe thead th {\n",
              "        text-align: right;\n",
              "    }\n",
              "</style>\n",
              "<table border=\"1\" class=\"dataframe\">\n",
              "  <thead>\n",
              "    <tr style=\"text-align: right;\">\n",
              "      <th></th>\n",
              "      <th>pm10</th>\n",
              "    </tr>\n",
              "  </thead>\n",
              "  <tbody>\n",
              "    <tr>\n",
              "      <th>count</th>\n",
              "      <td>64618.000000</td>\n",
              "    </tr>\n",
              "    <tr>\n",
              "      <th>mean</th>\n",
              "      <td>33.473948</td>\n",
              "    </tr>\n",
              "    <tr>\n",
              "      <th>std</th>\n",
              "      <td>21.827908</td>\n",
              "    </tr>\n",
              "    <tr>\n",
              "      <th>min</th>\n",
              "      <td>0.000000</td>\n",
              "    </tr>\n",
              "    <tr>\n",
              "      <th>25%</th>\n",
              "      <td>18.000000</td>\n",
              "    </tr>\n",
              "    <tr>\n",
              "      <th>50%</th>\n",
              "      <td>29.000000</td>\n",
              "    </tr>\n",
              "    <tr>\n",
              "      <th>75%</th>\n",
              "      <td>43.000000</td>\n",
              "    </tr>\n",
              "    <tr>\n",
              "      <th>max</th>\n",
              "      <td>338.000000</td>\n",
              "    </tr>\n",
              "  </tbody>\n",
              "</table>\n",
              "</div><br><label><b>dtype:</b> float64</label>"
            ]
          },
          "metadata": {},
          "execution_count": 69
        }
      ],
      "source": [
        "df_sensor_sao_cristovao['pm10'].describe()"
      ]
    },
    {
      "cell_type": "markdown",
      "source": [
        "# Gerando CSV de saída com a estação de Tijuca preenchida\n"
      ],
      "metadata": {
        "id": "ijWuiCIzOE1P"
      }
    },
    {
      "cell_type": "code",
      "source": [
        "droping_columns = ['chuva_nulos_no_dia', 'temp_nulos_no_dia', 'ur_nulos_no_dia', 'co_nulos_no_dia', 'so2_nulos_no_dia', 'o3_nulos_no_dia', 'pm10_nulos_no_dia']\n",
        "\n",
        "df_sensor_sao_cristovao.drop(columns=droping_columns, inplace=True)"
      ],
      "metadata": {
        "colab": {
          "base_uri": "https://localhost:8080/"
        },
        "id": "C2iFg6w9Qt9u",
        "outputId": "84ac1146-88f1-407d-c028-6f902fe49764"
      },
      "execution_count": 70,
      "outputs": [
        {
          "output_type": "stream",
          "name": "stderr",
          "text": [
            "<ipython-input-70-823096be19a8>:3: SettingWithCopyWarning: \n",
            "A value is trying to be set on a copy of a slice from a DataFrame\n",
            "\n",
            "See the caveats in the documentation: https://pandas.pydata.org/pandas-docs/stable/user_guide/indexing.html#returning-a-view-versus-a-copy\n",
            "  df_sensor_sao_cristovao.drop(columns=droping_columns, inplace=True)\n"
          ]
        }
      ]
    },
    {
      "cell_type": "code",
      "source": [
        "df_sensor_sao_cristovao.to_csv('df_sensor_sao_cristovao_preenchido.csv', index=False)"
      ],
      "metadata": {
        "id": "gfe-Z7ZsOOQO"
      },
      "execution_count": 71,
      "outputs": []
    }
  ]
}