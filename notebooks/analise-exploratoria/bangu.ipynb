{
  "nbformat": 4,
  "nbformat_minor": 0,
  "metadata": {
    "colab": {
      "provenance": []
    },
    "kernelspec": {
      "name": "python3",
      "display_name": "Python 3"
    },
    "language_info": {
      "name": "python"
    }
  },
  "cells": [
    {
      "cell_type": "markdown",
      "metadata": {
        "id": "FQyXpVbbCeRX"
      },
      "source": [
        "# Propósito\n",
        "\n",
        "Este notebook tem como objetivo realizar uma análise exploratória de algumas colunas de interesse das medições dos sensores de qualidade do ar.\n",
        "\n",
        "O principal objetivo será preencher alguns valores nulos utilizando a função interpolate()\n",
        "\n",
        "Mas para não enviesar muitos dados preencheremos apenas os valores em que a quantidade de valores nulas no dia semana menor que 7\n"
      ]
    },
    {
      "cell_type": "markdown",
      "metadata": {
        "id": "TTJ20DT1DZP4"
      },
      "source": [
        "# Importações"
      ]
    },
    {
      "cell_type": "code",
      "execution_count": 1,
      "metadata": {
        "id": "3IqV3pDuCcJq"
      },
      "outputs": [],
      "source": [
        "import pandas as pd\n",
        "import numpy as np\n",
        "import matplotlib.pyplot as plt\n",
        "import seaborn as sns\n",
        "from sklearn.linear_model import LinearRegression\n",
        "import scipy.stats as stats\n",
        "from scipy.stats import shapiro, anderson, boxcox, kstest, norm\n",
        "from scipy.special import boxcox1p\n",
        "from scipy import stats"
      ]
    },
    {
      "cell_type": "markdown",
      "metadata": {
        "id": "g4RXL-is5UgJ"
      },
      "source": [
        "# Consumindo bases"
      ]
    },
    {
      "cell_type": "code",
      "execution_count": 2,
      "metadata": {
        "id": "eyjEKJYpDhin"
      },
      "outputs": [],
      "source": [
        "url_sensor = '/content/drive/MyDrive/TCC/sensores-2011-2021/medicao-sensores.csv'\n",
        "\n",
        "df_sensor = pd.read_csv(url_sensor, sep=',')\n",
        "\n",
        "url_estacoes = '/content/drive/MyDrive/TCC/sensores-2011-2021/estacoes.csv'\n",
        "\n",
        "df_estacoes = pd.read_csv(url_estacoes, sep=',')"
      ]
    },
    {
      "cell_type": "code",
      "execution_count": 3,
      "metadata": {
        "colab": {
          "base_uri": "https://localhost:8080/"
        },
        "id": "I8DoZujMX7Hy",
        "outputId": "240305bb-581d-4060-a090-9cb926a0c116"
      },
      "outputs": [
        {
          "output_type": "execute_result",
          "data": {
            "text/plain": [
              "Index(['objectid', 'data', 'codnum', 'estação', 'chuva', 'pres', 'rs', 'temp',\n",
              "       'ur', 'dir_vento', 'vel_vento', 'so2', 'no2', 'hcnm', 'hct', 'ch4',\n",
              "       'co', 'no', 'nox', 'o3', 'pm10', 'pm2_5', 'lat', 'lon',\n",
              "       'x_utm_sirgas2000', 'y_utm_sirgas2000'],\n",
              "      dtype='object')"
            ]
          },
          "metadata": {},
          "execution_count": 3
        }
      ],
      "source": [
        "df_sensor.columns"
      ]
    },
    {
      "cell_type": "markdown",
      "metadata": {
        "id": "-KWYSQmgDtki"
      },
      "source": [
        "# Pré-processamento"
      ]
    },
    {
      "cell_type": "markdown",
      "metadata": {
        "id": "q18psyhOH2hN"
      },
      "source": [
        "## Selecionando e criando colunas"
      ]
    },
    {
      "cell_type": "code",
      "execution_count": 4,
      "metadata": {
        "cellView": "form",
        "id": "m2M9yDEpXZHc"
      },
      "outputs": [],
      "source": [
        "#@title Criando coluna nome estacao com base na coluna codnum\n",
        "df_sensor['nome_estacao'] = df_sensor['codnum'].map(df_estacoes.set_index('codnum')['nome'])"
      ]
    },
    {
      "cell_type": "code",
      "execution_count": 5,
      "metadata": {
        "cellView": "form",
        "id": "A9QJxIqs5mRT"
      },
      "outputs": [],
      "source": [
        "#@title Selecionando as colunas mais relevantes\n",
        "interest_columns = ['nome_estacao', 'data', 'chuva', 'temp', 'ur', 'co', 'no', 'no2', 'nox', 'so2', 'o3', 'pm10', 'pm2_5']\n",
        "\n",
        "df_sensor_interest = df_sensor[interest_columns]"
      ]
    },
    {
      "cell_type": "code",
      "execution_count": 6,
      "metadata": {
        "cellView": "form",
        "colab": {
          "base_uri": "https://localhost:8080/"
        },
        "id": "08TM4o3W5mUB",
        "outputId": "3fd896d2-e0af-4232-8a90-2962107b0e6c"
      },
      "outputs": [
        {
          "output_type": "stream",
          "name": "stderr",
          "text": [
            "<ipython-input-6-f9a423e0dd73>:2: SettingWithCopyWarning: \n",
            "A value is trying to be set on a copy of a slice from a DataFrame.\n",
            "Try using .loc[row_indexer,col_indexer] = value instead\n",
            "\n",
            "See the caveats in the documentation: https://pandas.pydata.org/pandas-docs/stable/user_guide/indexing.html#returning-a-view-versus-a-copy\n",
            "  df_sensor_interest['data'] = pd.to_datetime(df_sensor_interest['data'], format='%Y/%m/%d %H:%M:%S+00')\n",
            "<ipython-input-6-f9a423e0dd73>:3: SettingWithCopyWarning: \n",
            "A value is trying to be set on a copy of a slice from a DataFrame.\n",
            "Try using .loc[row_indexer,col_indexer] = value instead\n",
            "\n",
            "See the caveats in the documentation: https://pandas.pydata.org/pandas-docs/stable/user_guide/indexing.html#returning-a-view-versus-a-copy\n",
            "  df_sensor_interest['data_formatada'] = pd.to_datetime(df_sensor_interest['data']).dt.strftime('%Y-%m-%d')\n",
            "<ipython-input-6-f9a423e0dd73>:4: SettingWithCopyWarning: \n",
            "A value is trying to be set on a copy of a slice from a DataFrame.\n",
            "Try using .loc[row_indexer,col_indexer] = value instead\n",
            "\n",
            "See the caveats in the documentation: https://pandas.pydata.org/pandas-docs/stable/user_guide/indexing.html#returning-a-view-versus-a-copy\n",
            "  df_sensor_interest['ano'] = df_sensor_interest['data'].dt.year\n",
            "<ipython-input-6-f9a423e0dd73>:5: SettingWithCopyWarning: \n",
            "A value is trying to be set on a copy of a slice from a DataFrame.\n",
            "Try using .loc[row_indexer,col_indexer] = value instead\n",
            "\n",
            "See the caveats in the documentation: https://pandas.pydata.org/pandas-docs/stable/user_guide/indexing.html#returning-a-view-versus-a-copy\n",
            "  df_sensor_interest['mes'] = df_sensor_interest['data'].dt.month\n"
          ]
        }
      ],
      "source": [
        "#@title Criando colunas de ano e mês para facilitar a análise temporal\n",
        "df_sensor_interest['data'] = pd.to_datetime(df_sensor_interest['data'], format='%Y/%m/%d %H:%M:%S+00')\n",
        "df_sensor_interest['data_formatada'] = pd.to_datetime(df_sensor_interest['data']).dt.strftime('%Y-%m-%d')\n",
        "df_sensor_interest['ano'] = df_sensor_interest['data'].dt.year\n",
        "df_sensor_interest['mes'] = df_sensor_interest['data'].dt.month"
      ]
    },
    {
      "cell_type": "code",
      "execution_count": 7,
      "metadata": {
        "cellView": "form",
        "id": "010BKMPF5mWa"
      },
      "outputs": [],
      "source": [
        "#@title Removendo ano de 2011 (Pela falta de alguns poluente) e anos da pandemia\n",
        "df_sensor_interest_filtered = df_sensor_interest[(df_sensor_interest['ano'] > 2011) & (df_sensor_interest['ano'] < 2020)]"
      ]
    },
    {
      "cell_type": "code",
      "execution_count": 8,
      "metadata": {
        "id": "_c6j_tgIdxeL"
      },
      "outputs": [],
      "source": [
        "#@title Filtrando por Campo Grande\n",
        "df_sensor_bangu = df_sensor_interest_filtered[df_sensor_interest_filtered['nome_estacao'] == 'ESTAÇÃO BANGU']"
      ]
    },
    {
      "cell_type": "markdown",
      "metadata": {
        "id": "gmWkUcmdIpux"
      },
      "source": [
        "# Tratando colunas de interesse por Estação de monitoriamento\n"
      ]
    },
    {
      "cell_type": "markdown",
      "metadata": {
        "id": "yLqNrnrAN4w-"
      },
      "source": [
        "## Estação Bangu\n",
        "Colunas normalizadas: Chuva, Temperatura, Umidade relativa, CO, NO, NO2, NOx, SO2, O3, PM10"
      ]
    },
    {
      "cell_type": "markdown",
      "metadata": {
        "id": "9ymtlIMxOidV"
      },
      "source": [
        "### Chuva"
      ]
    },
    {
      "cell_type": "code",
      "execution_count": 9,
      "metadata": {
        "colab": {
          "base_uri": "https://localhost:8080/",
          "height": 0
        },
        "id": "24M_cJnzP4gK",
        "outputId": "b207087a-c7ed-418e-c766-0796a0f48429"
      },
      "outputs": [
        {
          "output_type": "execute_result",
          "data": {
            "text/plain": [
              "count    67605.000000\n",
              "mean         0.142624\n",
              "std          1.304532\n",
              "min          0.000000\n",
              "25%          0.000000\n",
              "50%          0.000000\n",
              "75%          0.000000\n",
              "max         65.600000\n",
              "Name: chuva, dtype: float64"
            ],
            "text/html": [
              "<div>\n",
              "<style scoped>\n",
              "    .dataframe tbody tr th:only-of-type {\n",
              "        vertical-align: middle;\n",
              "    }\n",
              "\n",
              "    .dataframe tbody tr th {\n",
              "        vertical-align: top;\n",
              "    }\n",
              "\n",
              "    .dataframe thead th {\n",
              "        text-align: right;\n",
              "    }\n",
              "</style>\n",
              "<table border=\"1\" class=\"dataframe\">\n",
              "  <thead>\n",
              "    <tr style=\"text-align: right;\">\n",
              "      <th></th>\n",
              "      <th>chuva</th>\n",
              "    </tr>\n",
              "  </thead>\n",
              "  <tbody>\n",
              "    <tr>\n",
              "      <th>count</th>\n",
              "      <td>67605.000000</td>\n",
              "    </tr>\n",
              "    <tr>\n",
              "      <th>mean</th>\n",
              "      <td>0.142624</td>\n",
              "    </tr>\n",
              "    <tr>\n",
              "      <th>std</th>\n",
              "      <td>1.304532</td>\n",
              "    </tr>\n",
              "    <tr>\n",
              "      <th>min</th>\n",
              "      <td>0.000000</td>\n",
              "    </tr>\n",
              "    <tr>\n",
              "      <th>25%</th>\n",
              "      <td>0.000000</td>\n",
              "    </tr>\n",
              "    <tr>\n",
              "      <th>50%</th>\n",
              "      <td>0.000000</td>\n",
              "    </tr>\n",
              "    <tr>\n",
              "      <th>75%</th>\n",
              "      <td>0.000000</td>\n",
              "    </tr>\n",
              "    <tr>\n",
              "      <th>max</th>\n",
              "      <td>65.600000</td>\n",
              "    </tr>\n",
              "  </tbody>\n",
              "</table>\n",
              "</div><br><label><b>dtype:</b> float64</label>"
            ]
          },
          "metadata": {},
          "execution_count": 9
        }
      ],
      "source": [
        "df_sensor_bangu['chuva'].describe()"
      ]
    },
    {
      "cell_type": "code",
      "execution_count": 10,
      "metadata": {
        "colab": {
          "base_uri": "https://localhost:8080/"
        },
        "id": "Ntw7zXT0Q6zx",
        "outputId": "e84307ce-b7d0-4c6d-f1df-4878399589bd",
        "cellView": "form"
      },
      "outputs": [
        {
          "output_type": "stream",
          "name": "stdout",
          "text": [
            "Quantidade de valores vazios: 1195\n"
          ]
        }
      ],
      "source": [
        "#@title Vendo quantidade de valores vazios\n",
        "\n",
        "valroes_vazio = df_sensor_bangu[df_sensor_bangu['chuva'].isnull()].groupby(['ano', 'mes']).size().sum()\n",
        "print(f\"Quantidade de valores vazios: {valroes_vazio}\")"
      ]
    },
    {
      "cell_type": "code",
      "execution_count": 11,
      "metadata": {
        "colab": {
          "base_uri": "https://localhost:8080/"
        },
        "id": "wfMEwBEEwJph",
        "outputId": "17e40e3d-9243-417b-cf0b-a4db809508c8",
        "cellView": "form"
      },
      "outputs": [
        {
          "output_type": "stream",
          "name": "stderr",
          "text": [
            "<ipython-input-11-5692b62f974b>:3: SettingWithCopyWarning: \n",
            "A value is trying to be set on a copy of a slice from a DataFrame.\n",
            "Try using .loc[row_indexer,col_indexer] = value instead\n",
            "\n",
            "See the caveats in the documentation: https://pandas.pydata.org/pandas-docs/stable/user_guide/indexing.html#returning-a-view-versus-a-copy\n",
            "  df_sensor_bangu['chuva_nulos_no_dia'] = (\n"
          ]
        }
      ],
      "source": [
        "#@title Criando coluna que informa a quantidade de valores vazios por dia\n",
        "\n",
        "df_sensor_bangu['chuva_nulos_no_dia'] = (\n",
        "    df_sensor_bangu['chuva'].isnull()\n",
        "    .groupby(df_sensor_bangu['data_formatada'])\n",
        "    .transform('sum')  # Soma os nulos por dia e repete o valor em todas as linhas do dia\n",
        ")"
      ]
    },
    {
      "cell_type": "code",
      "source": [
        "#@title Distribuição dos valores vazios\n",
        "\n",
        "# Seleciona uma única linha por dia, para evitar repetição\n",
        "df_dias = df_sensor_bangu[df_sensor_bangu['chuva_nulos_no_dia'] != 0].groupby('data_formatada')['chuva_nulos_no_dia'].first()\n",
        "\n",
        "# Plotar o histograma da contagem de valores nulos por dia\n",
        "plt.figure(figsize=(10,6))\n",
        "plt.hist(df_dias, bins=range(0, df_dias.max() + 2), edgecolor='black', align='left')\n",
        "plt.title('Histograma de Quantidade de Valores Vazios em \"chuva\" por Dia')\n",
        "plt.xlabel('Quantidade de valores vazios no dia')\n",
        "plt.ylabel('Número de dias')\n",
        "plt.xticks(range(0, df_dias.max() + 1))\n",
        "plt.grid(axis='y', alpha=0.75)\n",
        "plt.show()"
      ],
      "metadata": {
        "colab": {
          "base_uri": "https://localhost:8080/",
          "height": 0
        },
        "cellView": "form",
        "id": "jYMgiW_cHPBb",
        "outputId": "f0dfa562-e2b5-4c9b-902d-dc7c03252662"
      },
      "execution_count": 12,
      "outputs": [
        {
          "output_type": "display_data",
          "data": {
            "text/plain": [
              "<Figure size 1000x600 with 1 Axes>"
            ],
            "image/png": "[encoded data removed]"
          },
          "metadata": {}
        }
      ]
    },
    {
      "cell_type": "code",
      "execution_count": 13,
      "metadata": {
        "colab": {
          "base_uri": "https://localhost:8080/"
        },
        "id": "CUSCMdfvRRAo",
        "outputId": "ed3155e6-7aae-4275-febe-fff3ff04d437",
        "cellView": "form"
      },
      "outputs": [
        {
          "output_type": "stream",
          "name": "stdout",
          "text": [
            "75 linhas foram preenchidas com interpolate na coluna 'chuva'.\n",
            "Foram preenchido 6% de dados\n"
          ]
        }
      ],
      "source": [
        "#@title Preenchimento dos valores nulos utilizando a função interpolate (Preenchendo apenas os que tem menos de 7 linhas vazias)\n",
        "\n",
        "mask = (df_sensor_bangu['chuva_nulos_no_dia'] <= 6)\n",
        "\n",
        "num_nulls = df_sensor_bangu[mask]['chuva'].isnull().sum()\n",
        "df_sensor_bangu.loc[mask, 'chuva'] = df_sensor_bangu[mask]['chuva'].interpolate()\n",
        "print(f\"{num_nulls} linhas foram preenchidas com interpolate na coluna 'chuva'.\")\n",
        "print(f\"Foram preenchido {round((num_nulls/valroes_vazio)*100)}% de dados\")"
      ]
    },
    {
      "cell_type": "code",
      "execution_count": 14,
      "metadata": {
        "colab": {
          "base_uri": "https://localhost:8080/",
          "height": 0
        },
        "id": "97-NgrgDRt33",
        "outputId": "132d3eb9-bc28-416e-c8f1-a2f5f36ff904"
      },
      "outputs": [
        {
          "output_type": "execute_result",
          "data": {
            "text/plain": [
              "count    67680.000000\n",
              "mean         0.142775\n",
              "std          1.304330\n",
              "min          0.000000\n",
              "25%          0.000000\n",
              "50%          0.000000\n",
              "75%          0.000000\n",
              "max         65.600000\n",
              "Name: chuva, dtype: float64"
            ],
            "text/html": [
              "<div>\n",
              "<style scoped>\n",
              "    .dataframe tbody tr th:only-of-type {\n",
              "        vertical-align: middle;\n",
              "    }\n",
              "\n",
              "    .dataframe tbody tr th {\n",
              "        vertical-align: top;\n",
              "    }\n",
              "\n",
              "    .dataframe thead th {\n",
              "        text-align: right;\n",
              "    }\n",
              "</style>\n",
              "<table border=\"1\" class=\"dataframe\">\n",
              "  <thead>\n",
              "    <tr style=\"text-align: right;\">\n",
              "      <th></th>\n",
              "      <th>chuva</th>\n",
              "    </tr>\n",
              "  </thead>\n",
              "  <tbody>\n",
              "    <tr>\n",
              "      <th>count</th>\n",
              "      <td>67680.000000</td>\n",
              "    </tr>\n",
              "    <tr>\n",
              "      <th>mean</th>\n",
              "      <td>0.142775</td>\n",
              "    </tr>\n",
              "    <tr>\n",
              "      <th>std</th>\n",
              "      <td>1.304330</td>\n",
              "    </tr>\n",
              "    <tr>\n",
              "      <th>min</th>\n",
              "      <td>0.000000</td>\n",
              "    </tr>\n",
              "    <tr>\n",
              "      <th>25%</th>\n",
              "      <td>0.000000</td>\n",
              "    </tr>\n",
              "    <tr>\n",
              "      <th>50%</th>\n",
              "      <td>0.000000</td>\n",
              "    </tr>\n",
              "    <tr>\n",
              "      <th>75%</th>\n",
              "      <td>0.000000</td>\n",
              "    </tr>\n",
              "    <tr>\n",
              "      <th>max</th>\n",
              "      <td>65.600000</td>\n",
              "    </tr>\n",
              "  </tbody>\n",
              "</table>\n",
              "</div><br><label><b>dtype:</b> float64</label>"
            ]
          },
          "metadata": {},
          "execution_count": 14
        }
      ],
      "source": [
        "df_sensor_bangu['chuva'].describe()"
      ]
    },
    {
      "cell_type": "markdown",
      "metadata": {
        "id": "1XA1vvw_JYeW"
      },
      "source": [
        "### Temperatura"
      ]
    },
    {
      "cell_type": "code",
      "execution_count": 15,
      "metadata": {
        "colab": {
          "base_uri": "https://localhost:8080/",
          "height": 0
        },
        "outputId": "09e9ad98-c6d4-4164-c657-623d7a0e36d3",
        "id": "_9XmZnxbJYeW"
      },
      "outputs": [
        {
          "output_type": "execute_result",
          "data": {
            "text/plain": [
              "count    52797.000000\n",
              "mean        26.720865\n",
              "std          4.823045\n",
              "min         14.270000\n",
              "25%         23.220000\n",
              "50%         26.100000\n",
              "75%         29.720000\n",
              "max         43.470000\n",
              "Name: temp, dtype: float64"
            ],
            "text/html": [
              "<div>\n",
              "<style scoped>\n",
              "    .dataframe tbody tr th:only-of-type {\n",
              "        vertical-align: middle;\n",
              "    }\n",
              "\n",
              "    .dataframe tbody tr th {\n",
              "        vertical-align: top;\n",
              "    }\n",
              "\n",
              "    .dataframe thead th {\n",
              "        text-align: right;\n",
              "    }\n",
              "</style>\n",
              "<table border=\"1\" class=\"dataframe\">\n",
              "  <thead>\n",
              "    <tr style=\"text-align: right;\">\n",
              "      <th></th>\n",
              "      <th>temp</th>\n",
              "    </tr>\n",
              "  </thead>\n",
              "  <tbody>\n",
              "    <tr>\n",
              "      <th>count</th>\n",
              "      <td>52797.000000</td>\n",
              "    </tr>\n",
              "    <tr>\n",
              "      <th>mean</th>\n",
              "      <td>26.720865</td>\n",
              "    </tr>\n",
              "    <tr>\n",
              "      <th>std</th>\n",
              "      <td>4.823045</td>\n",
              "    </tr>\n",
              "    <tr>\n",
              "      <th>min</th>\n",
              "      <td>14.270000</td>\n",
              "    </tr>\n",
              "    <tr>\n",
              "      <th>25%</th>\n",
              "      <td>23.220000</td>\n",
              "    </tr>\n",
              "    <tr>\n",
              "      <th>50%</th>\n",
              "      <td>26.100000</td>\n",
              "    </tr>\n",
              "    <tr>\n",
              "      <th>75%</th>\n",
              "      <td>29.720000</td>\n",
              "    </tr>\n",
              "    <tr>\n",
              "      <th>max</th>\n",
              "      <td>43.470000</td>\n",
              "    </tr>\n",
              "  </tbody>\n",
              "</table>\n",
              "</div><br><label><b>dtype:</b> float64</label>"
            ]
          },
          "metadata": {},
          "execution_count": 15
        }
      ],
      "source": [
        "df_sensor_bangu['temp'].describe()"
      ]
    },
    {
      "cell_type": "code",
      "execution_count": 16,
      "metadata": {
        "colab": {
          "base_uri": "https://localhost:8080/"
        },
        "outputId": "bd0d6e7a-ffbf-4cbe-e05c-f9927bc28513",
        "cellView": "form",
        "id": "YEPrxSuZJYeX"
      },
      "outputs": [
        {
          "output_type": "stream",
          "name": "stdout",
          "text": [
            "Quantidade de valores vazios: 16003\n"
          ]
        }
      ],
      "source": [
        "#@title Vendo quantidade de valores vazios\n",
        "\n",
        "valroes_vazio = df_sensor_bangu[df_sensor_bangu['temp'].isnull()].groupby(['ano', 'mes']).size().sum()\n",
        "print(f\"Quantidade de valores vazios: {valroes_vazio}\")"
      ]
    },
    {
      "cell_type": "code",
      "execution_count": 17,
      "metadata": {
        "colab": {
          "base_uri": "https://localhost:8080/"
        },
        "outputId": "d2e11f94-d4a9-49be-b10a-4e6b6d266dfc",
        "cellView": "form",
        "id": "N0LIJac7JYeX"
      },
      "outputs": [
        {
          "output_type": "stream",
          "name": "stderr",
          "text": [
            "<ipython-input-17-c04df18a8799>:3: SettingWithCopyWarning: \n",
            "A value is trying to be set on a copy of a slice from a DataFrame.\n",
            "Try using .loc[row_indexer,col_indexer] = value instead\n",
            "\n",
            "See the caveats in the documentation: https://pandas.pydata.org/pandas-docs/stable/user_guide/indexing.html#returning-a-view-versus-a-copy\n",
            "  df_sensor_bangu['temp_nulos_no_dia'] = (\n"
          ]
        }
      ],
      "source": [
        "#@title Criando coluna que informa a quantidade de valores vazios por dia\n",
        "\n",
        "df_sensor_bangu['temp_nulos_no_dia'] = (\n",
        "    df_sensor_bangu['temp'].isnull()\n",
        "    .groupby(df_sensor_bangu['data_formatada'])\n",
        "    .transform('sum')  # Soma os nulos por dia e repete o valor em todas as linhas do dia\n",
        ")"
      ]
    },
    {
      "cell_type": "code",
      "source": [
        "#@title Distribuição dos valores vazios\n",
        "\n",
        "# Seleciona uma única linha por dia, para evitar repetição\n",
        "df_dias = df_sensor_bangu[df_sensor_bangu['temp_nulos_no_dia'] != 0].groupby('data_formatada')['temp_nulos_no_dia'].first()\n",
        "\n",
        "# Plotar o histograma da contagem de valores nulos por dia\n",
        "plt.figure(figsize=(10,6))\n",
        "plt.hist(df_dias, bins=range(0, df_dias.max() + 2), edgecolor='black', align='left')\n",
        "plt.title('Histograma de Quantidade de Valores Vazios em \"temp\" por Dia')\n",
        "plt.xlabel('Quantidade de valores vazios no dia')\n",
        "plt.ylabel('Número de dias')\n",
        "plt.xticks(range(0, df_dias.max() + 1))\n",
        "plt.grid(axis='y', alpha=0.75)\n",
        "plt.show()"
      ],
      "metadata": {
        "colab": {
          "base_uri": "https://localhost:8080/",
          "height": 0
        },
        "cellView": "form",
        "outputId": "04d42dd6-ab84-4754-ed28-4d9b1e9917c7",
        "id": "H54zUgYSJYeY"
      },
      "execution_count": 18,
      "outputs": [
        {
          "output_type": "display_data",
          "data": {
            "text/plain": [
              "<Figure size 1000x600 with 1 Axes>"
            ],
            "image/png": "[encoded data removed]"
          },
          "metadata": {}
        }
      ]
    },
    {
      "cell_type": "code",
      "execution_count": 19,
      "metadata": {
        "colab": {
          "base_uri": "https://localhost:8080/"
        },
        "outputId": "6c2e4133-d1d1-4431-d846-e8a50746d0f0",
        "id": "2sCGqFWvJYeY",
        "cellView": "form"
      },
      "outputs": [
        {
          "output_type": "stream",
          "name": "stdout",
          "text": [
            "142 linhas foram preenchidas com interpolate na coluna 'temp'.\n",
            "Foram preenchido 1% de dados\n"
          ]
        }
      ],
      "source": [
        "#@title Preenchimento dos valores nulos utilizando a função interpolate (Preenchendo apenas os que tem menos de 7 linhas vazias por dia)\n",
        "\n",
        "mask = (df_sensor_bangu['temp_nulos_no_dia'] <= 6)\n",
        "\n",
        "num_nulls = df_sensor_bangu[mask]['temp'].isnull().sum()\n",
        "df_sensor_bangu.loc[mask, 'temp'] = df_sensor_bangu[mask]['temp'].interpolate()\n",
        "print(f\"{num_nulls} linhas foram preenchidas com interpolate na coluna 'temp'.\")\n",
        "print(f\"Foram preenchido {round((num_nulls/valroes_vazio)*100)}% de dados\")"
      ]
    },
    {
      "cell_type": "code",
      "execution_count": 20,
      "metadata": {
        "colab": {
          "base_uri": "https://localhost:8080/",
          "height": 0
        },
        "outputId": "539faae7-4398-4d23-a508-5068ae654dcd",
        "id": "2KWSCe6RJYeY"
      },
      "outputs": [
        {
          "output_type": "execute_result",
          "data": {
            "text/plain": [
              "count    52939.000000\n",
              "mean        26.725394\n",
              "std          4.822496\n",
              "min         14.270000\n",
              "25%         23.220000\n",
              "50%         26.100000\n",
              "75%         29.720000\n",
              "max         43.470000\n",
              "Name: temp, dtype: float64"
            ],
            "text/html": [
              "<div>\n",
              "<style scoped>\n",
              "    .dataframe tbody tr th:only-of-type {\n",
              "        vertical-align: middle;\n",
              "    }\n",
              "\n",
              "    .dataframe tbody tr th {\n",
              "        vertical-align: top;\n",
              "    }\n",
              "\n",
              "    .dataframe thead th {\n",
              "        text-align: right;\n",
              "    }\n",
              "</style>\n",
              "<table border=\"1\" class=\"dataframe\">\n",
              "  <thead>\n",
              "    <tr style=\"text-align: right;\">\n",
              "      <th></th>\n",
              "      <th>temp</th>\n",
              "    </tr>\n",
              "  </thead>\n",
              "  <tbody>\n",
              "    <tr>\n",
              "      <th>count</th>\n",
              "      <td>52939.000000</td>\n",
              "    </tr>\n",
              "    <tr>\n",
              "      <th>mean</th>\n",
              "      <td>26.725394</td>\n",
              "    </tr>\n",
              "    <tr>\n",
              "      <th>std</th>\n",
              "      <td>4.822496</td>\n",
              "    </tr>\n",
              "    <tr>\n",
              "      <th>min</th>\n",
              "      <td>14.270000</td>\n",
              "    </tr>\n",
              "    <tr>\n",
              "      <th>25%</th>\n",
              "      <td>23.220000</td>\n",
              "    </tr>\n",
              "    <tr>\n",
              "      <th>50%</th>\n",
              "      <td>26.100000</td>\n",
              "    </tr>\n",
              "    <tr>\n",
              "      <th>75%</th>\n",
              "      <td>29.720000</td>\n",
              "    </tr>\n",
              "    <tr>\n",
              "      <th>max</th>\n",
              "      <td>43.470000</td>\n",
              "    </tr>\n",
              "  </tbody>\n",
              "</table>\n",
              "</div><br><label><b>dtype:</b> float64</label>"
            ]
          },
          "metadata": {},
          "execution_count": 20
        }
      ],
      "source": [
        "df_sensor_bangu['temp'].describe()"
      ]
    },
    {
      "cell_type": "markdown",
      "metadata": {
        "id": "Kw4EN6nOJ7wi"
      },
      "source": [
        "### Umidade relativa"
      ]
    },
    {
      "cell_type": "code",
      "execution_count": 21,
      "metadata": {
        "colab": {
          "base_uri": "https://localhost:8080/",
          "height": 0
        },
        "outputId": "4c7181c7-4782-471b-fc49-f52adfd48c06",
        "id": "Zh2KIpc2J7wj"
      },
      "outputs": [
        {
          "output_type": "execute_result",
          "data": {
            "text/plain": [
              "count    66626.000000\n",
              "mean        68.969888\n",
              "std         18.707722\n",
              "min         13.080000\n",
              "25%         55.472500\n",
              "50%         70.320000\n",
              "75%         83.270000\n",
              "max         99.900000\n",
              "Name: ur, dtype: float64"
            ],
            "text/html": [
              "<div>\n",
              "<style scoped>\n",
              "    .dataframe tbody tr th:only-of-type {\n",
              "        vertical-align: middle;\n",
              "    }\n",
              "\n",
              "    .dataframe tbody tr th {\n",
              "        vertical-align: top;\n",
              "    }\n",
              "\n",
              "    .dataframe thead th {\n",
              "        text-align: right;\n",
              "    }\n",
              "</style>\n",
              "<table border=\"1\" class=\"dataframe\">\n",
              "  <thead>\n",
              "    <tr style=\"text-align: right;\">\n",
              "      <th></th>\n",
              "      <th>ur</th>\n",
              "    </tr>\n",
              "  </thead>\n",
              "  <tbody>\n",
              "    <tr>\n",
              "      <th>count</th>\n",
              "      <td>66626.000000</td>\n",
              "    </tr>\n",
              "    <tr>\n",
              "      <th>mean</th>\n",
              "      <td>68.969888</td>\n",
              "    </tr>\n",
              "    <tr>\n",
              "      <th>std</th>\n",
              "      <td>18.707722</td>\n",
              "    </tr>\n",
              "    <tr>\n",
              "      <th>min</th>\n",
              "      <td>13.080000</td>\n",
              "    </tr>\n",
              "    <tr>\n",
              "      <th>25%</th>\n",
              "      <td>55.472500</td>\n",
              "    </tr>\n",
              "    <tr>\n",
              "      <th>50%</th>\n",
              "      <td>70.320000</td>\n",
              "    </tr>\n",
              "    <tr>\n",
              "      <th>75%</th>\n",
              "      <td>83.270000</td>\n",
              "    </tr>\n",
              "    <tr>\n",
              "      <th>max</th>\n",
              "      <td>99.900000</td>\n",
              "    </tr>\n",
              "  </tbody>\n",
              "</table>\n",
              "</div><br><label><b>dtype:</b> float64</label>"
            ]
          },
          "metadata": {},
          "execution_count": 21
        }
      ],
      "source": [
        "df_sensor_bangu['ur'].describe()"
      ]
    },
    {
      "cell_type": "code",
      "execution_count": 22,
      "metadata": {
        "colab": {
          "base_uri": "https://localhost:8080/"
        },
        "outputId": "a300a427-b5e5-4ca7-a022-4d2b828a7c6e",
        "cellView": "form",
        "id": "p6gLkSsQJ7wk"
      },
      "outputs": [
        {
          "output_type": "stream",
          "name": "stdout",
          "text": [
            "Quantidade de valores vazios: 2174\n"
          ]
        }
      ],
      "source": [
        "#@title Vendo quantidade de valores vazios\n",
        "\n",
        "valroes_vazio = df_sensor_bangu[df_sensor_bangu['ur'].isnull()].groupby(['ano', 'mes']).size().sum()\n",
        "print(f\"Quantidade de valores vazios: {valroes_vazio}\")"
      ]
    },
    {
      "cell_type": "code",
      "execution_count": 23,
      "metadata": {
        "colab": {
          "base_uri": "https://localhost:8080/"
        },
        "outputId": "697fe5f0-e68b-42f9-a345-4f1a2b73bf64",
        "cellView": "form",
        "id": "p6USmMKRJ7wk"
      },
      "outputs": [
        {
          "output_type": "stream",
          "name": "stderr",
          "text": [
            "<ipython-input-23-11350b3a424b>:3: SettingWithCopyWarning: \n",
            "A value is trying to be set on a copy of a slice from a DataFrame.\n",
            "Try using .loc[row_indexer,col_indexer] = value instead\n",
            "\n",
            "See the caveats in the documentation: https://pandas.pydata.org/pandas-docs/stable/user_guide/indexing.html#returning-a-view-versus-a-copy\n",
            "  df_sensor_bangu['ur_nulos_no_dia'] = (\n"
          ]
        }
      ],
      "source": [
        "#@title Criando coluna que informa a quantidade de valores vazios por dia\n",
        "\n",
        "df_sensor_bangu['ur_nulos_no_dia'] = (\n",
        "    df_sensor_bangu['ur'].isnull()\n",
        "    .groupby(df_sensor_bangu['data_formatada'])\n",
        "    .transform('sum')  # Soma os nulos por dia e repete o valor em todas as linhas do dia\n",
        ")"
      ]
    },
    {
      "cell_type": "code",
      "source": [
        "#@title Distribuição dos valores vazios\n",
        "\n",
        "# Seleciona uma única linha por dia, para evitar repetição\n",
        "df_dias = df_sensor_bangu[df_sensor_bangu['ur_nulos_no_dia'] != 0].groupby('data_formatada')['ur_nulos_no_dia'].first()\n",
        "\n",
        "# Plotar o histograma da contagem de valores nulos por dia\n",
        "plt.figure(figsize=(10,6))\n",
        "plt.hist(df_dias, bins=range(0, df_dias.max() + 2), edgecolor='black', align='left')\n",
        "plt.title('Histograma de Quantidade de Valores Vazios em \"ur\" por Dia')\n",
        "plt.xlabel('Quantidade de valores vazios no dia')\n",
        "plt.ylabel('Número de dias')\n",
        "plt.xticks(range(0, df_dias.max() + 1))\n",
        "plt.grid(axis='y', alpha=0.75)\n",
        "plt.show()"
      ],
      "metadata": {
        "colab": {
          "base_uri": "https://localhost:8080/",
          "height": 0
        },
        "cellView": "form",
        "outputId": "42c2fcae-8d68-4988-8879-fbaec6901f4a",
        "id": "eq-mDiJGJ7wk"
      },
      "execution_count": 24,
      "outputs": [
        {
          "output_type": "display_data",
          "data": {
            "text/plain": [
              "<Figure size 1000x600 with 1 Axes>"
            ],
            "image/png": "[encoded data removed]"
          },
          "metadata": {}
        }
      ]
    },
    {
      "cell_type": "code",
      "execution_count": 25,
      "metadata": {
        "colab": {
          "base_uri": "https://localhost:8080/"
        },
        "outputId": "73ce8034-20f2-4f13-b528-7f354ae6a58f",
        "cellView": "form",
        "id": "wwI_91-_J7wk"
      },
      "outputs": [
        {
          "output_type": "stream",
          "name": "stdout",
          "text": [
            "430 linhas foram preenchidas com interpolate na coluna 'ur'.\n",
            "Foram preenchido 20% de dados\n"
          ]
        }
      ],
      "source": [
        "#@title Preenchimento dos valores nulos utilizando a função interpolate (Preenchendo apenas os que tem menos de 7 linhas vazias por dia)\n",
        "\n",
        "mask = (df_sensor_bangu['ur_nulos_no_dia'] <= 6)\n",
        "\n",
        "num_nulls = df_sensor_bangu[mask]['ur'].isnull().sum()\n",
        "df_sensor_bangu.loc[mask, 'ur'] = df_sensor_bangu[mask]['ur'].interpolate()\n",
        "print(f\"{num_nulls} linhas foram preenchidas com interpolate na coluna 'ur'.\")\n",
        "print(f\"Foram preenchido {round((num_nulls/valroes_vazio)*100)}% de dados\")"
      ]
    },
    {
      "cell_type": "code",
      "execution_count": 26,
      "metadata": {
        "colab": {
          "base_uri": "https://localhost:8080/",
          "height": 0
        },
        "outputId": "c3e8b7ef-6343-4b63-bef7-0a4d26760191",
        "id": "pgz04UK9J7wl"
      },
      "outputs": [
        {
          "output_type": "execute_result",
          "data": {
            "text/plain": [
              "count    67056.000000\n",
              "mean        69.011183\n",
              "std         18.727738\n",
              "min         13.080000\n",
              "25%         55.480000\n",
              "50%         70.370000\n",
              "75%         83.350000\n",
              "max         99.900000\n",
              "Name: ur, dtype: float64"
            ],
            "text/html": [
              "<div>\n",
              "<style scoped>\n",
              "    .dataframe tbody tr th:only-of-type {\n",
              "        vertical-align: middle;\n",
              "    }\n",
              "\n",
              "    .dataframe tbody tr th {\n",
              "        vertical-align: top;\n",
              "    }\n",
              "\n",
              "    .dataframe thead th {\n",
              "        text-align: right;\n",
              "    }\n",
              "</style>\n",
              "<table border=\"1\" class=\"dataframe\">\n",
              "  <thead>\n",
              "    <tr style=\"text-align: right;\">\n",
              "      <th></th>\n",
              "      <th>ur</th>\n",
              "    </tr>\n",
              "  </thead>\n",
              "  <tbody>\n",
              "    <tr>\n",
              "      <th>count</th>\n",
              "      <td>67056.000000</td>\n",
              "    </tr>\n",
              "    <tr>\n",
              "      <th>mean</th>\n",
              "      <td>69.011183</td>\n",
              "    </tr>\n",
              "    <tr>\n",
              "      <th>std</th>\n",
              "      <td>18.727738</td>\n",
              "    </tr>\n",
              "    <tr>\n",
              "      <th>min</th>\n",
              "      <td>13.080000</td>\n",
              "    </tr>\n",
              "    <tr>\n",
              "      <th>25%</th>\n",
              "      <td>55.480000</td>\n",
              "    </tr>\n",
              "    <tr>\n",
              "      <th>50%</th>\n",
              "      <td>70.370000</td>\n",
              "    </tr>\n",
              "    <tr>\n",
              "      <th>75%</th>\n",
              "      <td>83.350000</td>\n",
              "    </tr>\n",
              "    <tr>\n",
              "      <th>max</th>\n",
              "      <td>99.900000</td>\n",
              "    </tr>\n",
              "  </tbody>\n",
              "</table>\n",
              "</div><br><label><b>dtype:</b> float64</label>"
            ]
          },
          "metadata": {},
          "execution_count": 26
        }
      ],
      "source": [
        "df_sensor_bangu['ur'].describe()"
      ]
    },
    {
      "cell_type": "markdown",
      "metadata": {
        "id": "CCC7VEL1KuH4"
      },
      "source": [
        "### Monóxido de carbono"
      ]
    },
    {
      "cell_type": "code",
      "execution_count": 27,
      "metadata": {
        "colab": {
          "base_uri": "https://localhost:8080/",
          "height": 0
        },
        "outputId": "aad6a717-a6d0-4f71-c28c-e5248904ee56",
        "id": "9dpfUCUfKuH4"
      },
      "outputs": [
        {
          "output_type": "execute_result",
          "data": {
            "text/plain": [
              "count    63264.000000\n",
              "mean         0.369657\n",
              "std          0.230286\n",
              "min          0.000000\n",
              "25%          0.220000\n",
              "50%          0.330000\n",
              "75%          0.460000\n",
              "max          3.050000\n",
              "Name: co, dtype: float64"
            ],
            "text/html": [
              "<div>\n",
              "<style scoped>\n",
              "    .dataframe tbody tr th:only-of-type {\n",
              "        vertical-align: middle;\n",
              "    }\n",
              "\n",
              "    .dataframe tbody tr th {\n",
              "        vertical-align: top;\n",
              "    }\n",
              "\n",
              "    .dataframe thead th {\n",
              "        text-align: right;\n",
              "    }\n",
              "</style>\n",
              "<table border=\"1\" class=\"dataframe\">\n",
              "  <thead>\n",
              "    <tr style=\"text-align: right;\">\n",
              "      <th></th>\n",
              "      <th>co</th>\n",
              "    </tr>\n",
              "  </thead>\n",
              "  <tbody>\n",
              "    <tr>\n",
              "      <th>count</th>\n",
              "      <td>63264.000000</td>\n",
              "    </tr>\n",
              "    <tr>\n",
              "      <th>mean</th>\n",
              "      <td>0.369657</td>\n",
              "    </tr>\n",
              "    <tr>\n",
              "      <th>std</th>\n",
              "      <td>0.230286</td>\n",
              "    </tr>\n",
              "    <tr>\n",
              "      <th>min</th>\n",
              "      <td>0.000000</td>\n",
              "    </tr>\n",
              "    <tr>\n",
              "      <th>25%</th>\n",
              "      <td>0.220000</td>\n",
              "    </tr>\n",
              "    <tr>\n",
              "      <th>50%</th>\n",
              "      <td>0.330000</td>\n",
              "    </tr>\n",
              "    <tr>\n",
              "      <th>75%</th>\n",
              "      <td>0.460000</td>\n",
              "    </tr>\n",
              "    <tr>\n",
              "      <th>max</th>\n",
              "      <td>3.050000</td>\n",
              "    </tr>\n",
              "  </tbody>\n",
              "</table>\n",
              "</div><br><label><b>dtype:</b> float64</label>"
            ]
          },
          "metadata": {},
          "execution_count": 27
        }
      ],
      "source": [
        "df_sensor_bangu['co'].describe()"
      ]
    },
    {
      "cell_type": "code",
      "execution_count": 28,
      "metadata": {
        "colab": {
          "base_uri": "https://localhost:8080/"
        },
        "outputId": "aa5fcec3-23f2-470c-e093-6c886c1c9712",
        "cellView": "form",
        "id": "Iph6vPoHKuH5"
      },
      "outputs": [
        {
          "output_type": "stream",
          "name": "stdout",
          "text": [
            "Quantidade de valores vazios: 5536\n"
          ]
        }
      ],
      "source": [
        "#@title Vendo quantidade de valores vazios\n",
        "\n",
        "valroes_vazio = df_sensor_bangu[df_sensor_bangu['co'].isnull()].groupby(['ano', 'mes']).size().sum()\n",
        "print(f\"Quantidade de valores vazios: {valroes_vazio}\")"
      ]
    },
    {
      "cell_type": "code",
      "execution_count": 29,
      "metadata": {
        "colab": {
          "base_uri": "https://localhost:8080/"
        },
        "outputId": "fcabbf8f-ddae-44c3-a26b-9ba0275f97ff",
        "cellView": "form",
        "id": "NnwrJ1lqKuH5"
      },
      "outputs": [
        {
          "output_type": "stream",
          "name": "stderr",
          "text": [
            "<ipython-input-29-a84c605dcd17>:3: SettingWithCopyWarning: \n",
            "A value is trying to be set on a copy of a slice from a DataFrame.\n",
            "Try using .loc[row_indexer,col_indexer] = value instead\n",
            "\n",
            "See the caveats in the documentation: https://pandas.pydata.org/pandas-docs/stable/user_guide/indexing.html#returning-a-view-versus-a-copy\n",
            "  df_sensor_bangu['co_nulos_no_dia'] = (\n"
          ]
        }
      ],
      "source": [
        "#@title Criando coluna que informa a quantidade de valores vazios por dia\n",
        "\n",
        "df_sensor_bangu['co_nulos_no_dia'] = (\n",
        "    df_sensor_bangu['co'].isnull()\n",
        "    .groupby(df_sensor_bangu['data_formatada'])\n",
        "    .transform('sum')  # Soma os nulos por dia e repete o valor em todas as linhas do dia\n",
        ")"
      ]
    },
    {
      "cell_type": "code",
      "source": [
        "#@title Distribuição dos valores vazios\n",
        "\n",
        "# Seleciona uma única linha por dia, para evitar repetição\n",
        "df_dias = df_sensor_bangu[df_sensor_bangu['co_nulos_no_dia'] != 0].groupby('data_formatada')['co_nulos_no_dia'].first()\n",
        "\n",
        "# Plotar o histograma da contagem de valores nulos por dia\n",
        "plt.figure(figsize=(10,6))\n",
        "plt.hist(df_dias, bins=range(0, df_dias.max() + 2), edgecolor='black', align='left')\n",
        "plt.title(\"Histograma de Quantidade de Valores Vazios em 'co' por Dia\")\n",
        "plt.xlabel('Quantidade de valores vazios no dia')\n",
        "plt.ylabel('Número de dias')\n",
        "plt.xticks(range(0, df_dias.max() + 1))\n",
        "plt.grid(axis='y', alpha=0.75)\n",
        "plt.show()"
      ],
      "metadata": {
        "colab": {
          "base_uri": "https://localhost:8080/",
          "height": 0
        },
        "cellView": "form",
        "outputId": "8675c4a5-99c3-452a-d9a2-67da94a5f9e3",
        "id": "2-VMGpsdKuH5"
      },
      "execution_count": 30,
      "outputs": [
        {
          "output_type": "display_data",
          "data": {
            "text/plain": [
              "<Figure size 1000x600 with 1 Axes>"
            ],
            "image/png": "[encoded data removed]"
          },
          "metadata": {}
        }
      ]
    },
    {
      "cell_type": "code",
      "execution_count": 31,
      "metadata": {
        "colab": {
          "base_uri": "https://localhost:8080/"
        },
        "outputId": "e57c6457-d2f9-463e-a2c0-daa2abf4f693",
        "cellView": "form",
        "id": "OZOmu7J9KuH5"
      },
      "outputs": [
        {
          "output_type": "stream",
          "name": "stdout",
          "text": [
            "673 linhas foram preenchidas com interpolate na coluna 'co'.\n",
            "Foram preenchido 12% de dados\n"
          ]
        }
      ],
      "source": [
        "#@title Preenchimento dos valores nulos utilizando a função interpolate (Preenchendo apenas os que tem menos de 7 linhas vazias por dia)\n",
        "\n",
        "mask = (df_sensor_bangu['co_nulos_no_dia'] <= 6)\n",
        "\n",
        "num_nulls = df_sensor_bangu[mask]['co'].isnull().sum()\n",
        "df_sensor_bangu.loc[mask, 'co'] = df_sensor_bangu[mask]['co'].interpolate()\n",
        "print(f\"{num_nulls} linhas foram preenchidas com interpolate na coluna 'co'.\")\n",
        "print(f\"Foram preenchido {round((num_nulls/valroes_vazio)*100)}% de dados\")"
      ]
    },
    {
      "cell_type": "code",
      "execution_count": 32,
      "metadata": {
        "colab": {
          "base_uri": "https://localhost:8080/",
          "height": 0
        },
        "outputId": "78ce4d12-eecf-4ecd-9a45-962d5c5e4ada",
        "id": "1j_2t8uiKuH5"
      },
      "outputs": [
        {
          "output_type": "execute_result",
          "data": {
            "text/plain": [
              "count    63937.00000\n",
              "mean         0.36971\n",
              "std          0.22975\n",
              "min          0.00000\n",
              "25%          0.22000\n",
              "50%          0.33000\n",
              "75%          0.46000\n",
              "max          3.05000\n",
              "Name: co, dtype: float64"
            ],
            "text/html": [
              "<div>\n",
              "<style scoped>\n",
              "    .dataframe tbody tr th:only-of-type {\n",
              "        vertical-align: middle;\n",
              "    }\n",
              "\n",
              "    .dataframe tbody tr th {\n",
              "        vertical-align: top;\n",
              "    }\n",
              "\n",
              "    .dataframe thead th {\n",
              "        text-align: right;\n",
              "    }\n",
              "</style>\n",
              "<table border=\"1\" class=\"dataframe\">\n",
              "  <thead>\n",
              "    <tr style=\"text-align: right;\">\n",
              "      <th></th>\n",
              "      <th>co</th>\n",
              "    </tr>\n",
              "  </thead>\n",
              "  <tbody>\n",
              "    <tr>\n",
              "      <th>count</th>\n",
              "      <td>63937.00000</td>\n",
              "    </tr>\n",
              "    <tr>\n",
              "      <th>mean</th>\n",
              "      <td>0.36971</td>\n",
              "    </tr>\n",
              "    <tr>\n",
              "      <th>std</th>\n",
              "      <td>0.22975</td>\n",
              "    </tr>\n",
              "    <tr>\n",
              "      <th>min</th>\n",
              "      <td>0.00000</td>\n",
              "    </tr>\n",
              "    <tr>\n",
              "      <th>25%</th>\n",
              "      <td>0.22000</td>\n",
              "    </tr>\n",
              "    <tr>\n",
              "      <th>50%</th>\n",
              "      <td>0.33000</td>\n",
              "    </tr>\n",
              "    <tr>\n",
              "      <th>75%</th>\n",
              "      <td>0.46000</td>\n",
              "    </tr>\n",
              "    <tr>\n",
              "      <th>max</th>\n",
              "      <td>3.05000</td>\n",
              "    </tr>\n",
              "  </tbody>\n",
              "</table>\n",
              "</div><br><label><b>dtype:</b> float64</label>"
            ]
          },
          "metadata": {},
          "execution_count": 32
        }
      ],
      "source": [
        "df_sensor_bangu['co'].describe()"
      ]
    },
    {
      "cell_type": "markdown",
      "metadata": {
        "id": "E6XkJ5BvLXB4"
      },
      "source": [
        "### Monóxido de Nitrogênio"
      ]
    },
    {
      "cell_type": "code",
      "execution_count": 33,
      "metadata": {
        "colab": {
          "base_uri": "https://localhost:8080/",
          "height": 0
        },
        "outputId": "1b38f28e-cffb-43db-c168-6c71ebc3c528",
        "id": "X36xqWTdLXB5"
      },
      "outputs": [
        {
          "output_type": "execute_result",
          "data": {
            "text/plain": [
              "count    64607.000000\n",
              "mean         6.345528\n",
              "std          9.899259\n",
              "min          0.000000\n",
              "25%          1.690000\n",
              "50%          3.240000\n",
              "75%          6.620000\n",
              "max        188.230000\n",
              "Name: no, dtype: float64"
            ],
            "text/html": [
              "<div>\n",
              "<style scoped>\n",
              "    .dataframe tbody tr th:only-of-type {\n",
              "        vertical-align: middle;\n",
              "    }\n",
              "\n",
              "    .dataframe tbody tr th {\n",
              "        vertical-align: top;\n",
              "    }\n",
              "\n",
              "    .dataframe thead th {\n",
              "        text-align: right;\n",
              "    }\n",
              "</style>\n",
              "<table border=\"1\" class=\"dataframe\">\n",
              "  <thead>\n",
              "    <tr style=\"text-align: right;\">\n",
              "      <th></th>\n",
              "      <th>no</th>\n",
              "    </tr>\n",
              "  </thead>\n",
              "  <tbody>\n",
              "    <tr>\n",
              "      <th>count</th>\n",
              "      <td>64607.000000</td>\n",
              "    </tr>\n",
              "    <tr>\n",
              "      <th>mean</th>\n",
              "      <td>6.345528</td>\n",
              "    </tr>\n",
              "    <tr>\n",
              "      <th>std</th>\n",
              "      <td>9.899259</td>\n",
              "    </tr>\n",
              "    <tr>\n",
              "      <th>min</th>\n",
              "      <td>0.000000</td>\n",
              "    </tr>\n",
              "    <tr>\n",
              "      <th>25%</th>\n",
              "      <td>1.690000</td>\n",
              "    </tr>\n",
              "    <tr>\n",
              "      <th>50%</th>\n",
              "      <td>3.240000</td>\n",
              "    </tr>\n",
              "    <tr>\n",
              "      <th>75%</th>\n",
              "      <td>6.620000</td>\n",
              "    </tr>\n",
              "    <tr>\n",
              "      <th>max</th>\n",
              "      <td>188.230000</td>\n",
              "    </tr>\n",
              "  </tbody>\n",
              "</table>\n",
              "</div><br><label><b>dtype:</b> float64</label>"
            ]
          },
          "metadata": {},
          "execution_count": 33
        }
      ],
      "source": [
        "df_sensor_bangu['no'].describe()"
      ]
    },
    {
      "cell_type": "code",
      "execution_count": 34,
      "metadata": {
        "colab": {
          "base_uri": "https://localhost:8080/"
        },
        "outputId": "d54dac3e-94cb-48e5-9a1d-2c19e4a84ead",
        "cellView": "form",
        "id": "Y26pA0GcLXB6"
      },
      "outputs": [
        {
          "output_type": "stream",
          "name": "stdout",
          "text": [
            "Quantidade de valores vazios: 4193\n"
          ]
        }
      ],
      "source": [
        "#@title Vendo quantidade de valores vazios\n",
        "\n",
        "valroes_vazio = df_sensor_bangu[df_sensor_bangu['no'].isnull()].groupby(['ano', 'mes']).size().sum()\n",
        "print(f\"Quantidade de valores vazios: {valroes_vazio}\")"
      ]
    },
    {
      "cell_type": "code",
      "execution_count": 35,
      "metadata": {
        "colab": {
          "base_uri": "https://localhost:8080/"
        },
        "outputId": "eb9b9db8-3a23-4e53-f9d0-b168035462ed",
        "cellView": "form",
        "id": "sAcauzMYLXB6"
      },
      "outputs": [
        {
          "output_type": "stream",
          "name": "stderr",
          "text": [
            "<ipython-input-35-8c52a5a4e421>:3: SettingWithCopyWarning: \n",
            "A value is trying to be set on a copy of a slice from a DataFrame.\n",
            "Try using .loc[row_indexer,col_indexer] = value instead\n",
            "\n",
            "See the caveats in the documentation: https://pandas.pydata.org/pandas-docs/stable/user_guide/indexing.html#returning-a-view-versus-a-copy\n",
            "  df_sensor_bangu['no_nulos_no_dia'] = (\n"
          ]
        }
      ],
      "source": [
        "#@title Criando coluna que informa a quantidade de valores vazios por dia\n",
        "\n",
        "df_sensor_bangu['no_nulos_no_dia'] = (\n",
        "    df_sensor_bangu['no'].isnull()\n",
        "    .groupby(df_sensor_bangu['data_formatada'])\n",
        "    .transform('sum')  # Soma os nulos por dia e repete o valor em todas as linhas do dia\n",
        ")"
      ]
    },
    {
      "cell_type": "code",
      "source": [
        "#@title Distribuição dos valores vazios\n",
        "\n",
        "# Seleciona uma única linha por dia, para evitar repetição\n",
        "df_dias = df_sensor_bangu[df_sensor_bangu['no_nulos_no_dia'] != 0].groupby('data_formatada')['no_nulos_no_dia'].first()\n",
        "\n",
        "# Plotar o histograma da contagem de valores nulos por dia\n",
        "plt.figure(figsize=(10,6))\n",
        "plt.hist(df_dias, bins=range(0, df_dias.max() + 2), edgecolor='black', align='left')\n",
        "plt.title(\"Histograma de Quantidade de Valores Vazios em 'no' por Dia\")\n",
        "plt.xlabel('Quantidade de valores vazios no dia')\n",
        "plt.ylabel('Número de dias')\n",
        "plt.xticks(range(0, df_dias.max() + 1))\n",
        "plt.grid(axis='y', alpha=0.75)\n",
        "plt.show()"
      ],
      "metadata": {
        "colab": {
          "base_uri": "https://localhost:8080/",
          "height": 0
        },
        "cellView": "form",
        "outputId": "21ab3418-795e-47d6-f25b-bf913f85442f",
        "id": "4tgQJdoOLXB7"
      },
      "execution_count": 36,
      "outputs": [
        {
          "output_type": "display_data",
          "data": {
            "text/plain": [
              "<Figure size 1000x600 with 1 Axes>"
            ],
            "image/png": "[encoded data removed]"
          },
          "metadata": {}
        }
      ]
    },
    {
      "cell_type": "code",
      "execution_count": 37,
      "metadata": {
        "colab": {
          "base_uri": "https://localhost:8080/"
        },
        "outputId": "eb5352d1-39ec-4711-97b6-d434a1571fff",
        "cellView": "form",
        "id": "MpnzHkQ9LXB7"
      },
      "outputs": [
        {
          "output_type": "stream",
          "name": "stdout",
          "text": [
            "2007 linhas foram preenchidas com interpolate na coluna 'no'.\n",
            "Foram preenchido 48% de dados\n"
          ]
        }
      ],
      "source": [
        "#@title Preenchimento dos valores nulos utilizando a função interpolate (Preenchendo apenas os que tem menos de 7 linhas vazias por dia)\n",
        "\n",
        "mask = (df_sensor_bangu['no_nulos_no_dia'] <= 6)\n",
        "\n",
        "num_nulls = df_sensor_bangu[mask]['no'].isnull().sum()\n",
        "df_sensor_bangu.loc[mask, 'no'] = df_sensor_bangu[mask]['no'].interpolate()\n",
        "print(f\"{num_nulls} linhas foram preenchidas com interpolate na coluna 'no'.\")\n",
        "print(f\"Foram preenchido {round((num_nulls/valroes_vazio)*100)}% de dados\")"
      ]
    },
    {
      "cell_type": "code",
      "execution_count": 38,
      "metadata": {
        "colab": {
          "base_uri": "https://localhost:8080/",
          "height": 0
        },
        "outputId": "0852e481-dc58-429d-a155-ce3596d0dd2d",
        "id": "tof4xFlCLXB7"
      },
      "outputs": [
        {
          "output_type": "execute_result",
          "data": {
            "text/plain": [
              "count    66614.000000\n",
              "mean         6.246609\n",
              "std          9.806278\n",
              "min          0.000000\n",
              "25%          1.640000\n",
              "50%          3.180000\n",
              "75%          6.520000\n",
              "max        188.230000\n",
              "Name: no, dtype: float64"
            ],
            "text/html": [
              "<div>\n",
              "<style scoped>\n",
              "    .dataframe tbody tr th:only-of-type {\n",
              "        vertical-align: middle;\n",
              "    }\n",
              "\n",
              "    .dataframe tbody tr th {\n",
              "        vertical-align: top;\n",
              "    }\n",
              "\n",
              "    .dataframe thead th {\n",
              "        text-align: right;\n",
              "    }\n",
              "</style>\n",
              "<table border=\"1\" class=\"dataframe\">\n",
              "  <thead>\n",
              "    <tr style=\"text-align: right;\">\n",
              "      <th></th>\n",
              "      <th>no</th>\n",
              "    </tr>\n",
              "  </thead>\n",
              "  <tbody>\n",
              "    <tr>\n",
              "      <th>count</th>\n",
              "      <td>66614.000000</td>\n",
              "    </tr>\n",
              "    <tr>\n",
              "      <th>mean</th>\n",
              "      <td>6.246609</td>\n",
              "    </tr>\n",
              "    <tr>\n",
              "      <th>std</th>\n",
              "      <td>9.806278</td>\n",
              "    </tr>\n",
              "    <tr>\n",
              "      <th>min</th>\n",
              "      <td>0.000000</td>\n",
              "    </tr>\n",
              "    <tr>\n",
              "      <th>25%</th>\n",
              "      <td>1.640000</td>\n",
              "    </tr>\n",
              "    <tr>\n",
              "      <th>50%</th>\n",
              "      <td>3.180000</td>\n",
              "    </tr>\n",
              "    <tr>\n",
              "      <th>75%</th>\n",
              "      <td>6.520000</td>\n",
              "    </tr>\n",
              "    <tr>\n",
              "      <th>max</th>\n",
              "      <td>188.230000</td>\n",
              "    </tr>\n",
              "  </tbody>\n",
              "</table>\n",
              "</div><br><label><b>dtype:</b> float64</label>"
            ]
          },
          "metadata": {},
          "execution_count": 38
        }
      ],
      "source": [
        "df_sensor_bangu['no'].describe()"
      ]
    },
    {
      "cell_type": "markdown",
      "metadata": {
        "id": "EUmmcBfRL3FQ"
      },
      "source": [
        "### Dióxido de Nitrogênio"
      ]
    },
    {
      "cell_type": "code",
      "execution_count": 39,
      "metadata": {
        "colab": {
          "base_uri": "https://localhost:8080/",
          "height": 0
        },
        "outputId": "1ee41484-6a79-4e7e-b1c9-fbc71b94ede4",
        "id": "c94PNq-eL3FR"
      },
      "outputs": [
        {
          "output_type": "execute_result",
          "data": {
            "text/plain": [
              "count    64437.000000\n",
              "mean        23.245915\n",
              "std         15.525096\n",
              "min          0.000000\n",
              "25%         11.980000\n",
              "50%         19.640000\n",
              "75%         30.520000\n",
              "max        172.880000\n",
              "Name: no2, dtype: float64"
            ],
            "text/html": [
              "<div>\n",
              "<style scoped>\n",
              "    .dataframe tbody tr th:only-of-type {\n",
              "        vertical-align: middle;\n",
              "    }\n",
              "\n",
              "    .dataframe tbody tr th {\n",
              "        vertical-align: top;\n",
              "    }\n",
              "\n",
              "    .dataframe thead th {\n",
              "        text-align: right;\n",
              "    }\n",
              "</style>\n",
              "<table border=\"1\" class=\"dataframe\">\n",
              "  <thead>\n",
              "    <tr style=\"text-align: right;\">\n",
              "      <th></th>\n",
              "      <th>no2</th>\n",
              "    </tr>\n",
              "  </thead>\n",
              "  <tbody>\n",
              "    <tr>\n",
              "      <th>count</th>\n",
              "      <td>64437.000000</td>\n",
              "    </tr>\n",
              "    <tr>\n",
              "      <th>mean</th>\n",
              "      <td>23.245915</td>\n",
              "    </tr>\n",
              "    <tr>\n",
              "      <th>std</th>\n",
              "      <td>15.525096</td>\n",
              "    </tr>\n",
              "    <tr>\n",
              "      <th>min</th>\n",
              "      <td>0.000000</td>\n",
              "    </tr>\n",
              "    <tr>\n",
              "      <th>25%</th>\n",
              "      <td>11.980000</td>\n",
              "    </tr>\n",
              "    <tr>\n",
              "      <th>50%</th>\n",
              "      <td>19.640000</td>\n",
              "    </tr>\n",
              "    <tr>\n",
              "      <th>75%</th>\n",
              "      <td>30.520000</td>\n",
              "    </tr>\n",
              "    <tr>\n",
              "      <th>max</th>\n",
              "      <td>172.880000</td>\n",
              "    </tr>\n",
              "  </tbody>\n",
              "</table>\n",
              "</div><br><label><b>dtype:</b> float64</label>"
            ]
          },
          "metadata": {},
          "execution_count": 39
        }
      ],
      "source": [
        "df_sensor_bangu['no2'].describe()"
      ]
    },
    {
      "cell_type": "code",
      "execution_count": 40,
      "metadata": {
        "colab": {
          "base_uri": "https://localhost:8080/"
        },
        "outputId": "09b7d098-4913-4bb9-e0d7-d9a37c3cf9cd",
        "cellView": "form",
        "id": "cZF6XGcJL3FR"
      },
      "outputs": [
        {
          "output_type": "stream",
          "name": "stdout",
          "text": [
            "Quantidade de valores vazios: 4363\n"
          ]
        }
      ],
      "source": [
        "#@title Vendo quantidade de valores vazios\n",
        "\n",
        "valroes_vazio = df_sensor_bangu[df_sensor_bangu['no2'].isnull()].groupby(['ano', 'mes']).size().sum()\n",
        "print(f\"Quantidade de valores vazios: {valroes_vazio}\")"
      ]
    },
    {
      "cell_type": "code",
      "execution_count": 41,
      "metadata": {
        "colab": {
          "base_uri": "https://localhost:8080/"
        },
        "outputId": "cc8028b1-5d5c-408c-bb89-7cca1fe7dfd5",
        "cellView": "form",
        "id": "JirjBMu1L3FR"
      },
      "outputs": [
        {
          "output_type": "stream",
          "name": "stderr",
          "text": [
            "<ipython-input-41-4c57ed22580f>:3: SettingWithCopyWarning: \n",
            "A value is trying to be set on a copy of a slice from a DataFrame.\n",
            "Try using .loc[row_indexer,col_indexer] = value instead\n",
            "\n",
            "See the caveats in the documentation: https://pandas.pydata.org/pandas-docs/stable/user_guide/indexing.html#returning-a-view-versus-a-copy\n",
            "  df_sensor_bangu['no2_nulos_no_dia'] = (\n"
          ]
        }
      ],
      "source": [
        "#@title Criando coluna que informa a quantidade de valores vazios por dia\n",
        "\n",
        "df_sensor_bangu['no2_nulos_no_dia'] = (\n",
        "    df_sensor_bangu['no2'].isnull()\n",
        "    .groupby(df_sensor_bangu['data_formatada'])\n",
        "    .transform('sum')  # Soma os nulos por dia e repete o valor em todas as linhas do dia\n",
        ")"
      ]
    },
    {
      "cell_type": "code",
      "source": [
        "#@title Distribuição dos valores vazios\n",
        "\n",
        "# Seleciona uma única linha por dia, para evitar repetição\n",
        "df_dias = df_sensor_bangu[df_sensor_bangu['no2_nulos_no_dia'] != 0].groupby('data_formatada')['no2_nulos_no_dia'].first()\n",
        "\n",
        "# Plotar o histograma da contagem de valores nulos por dia\n",
        "plt.figure(figsize=(10,6))\n",
        "plt.hist(df_dias, bins=range(0, df_dias.max() + 2), edgecolor='black', align='left')\n",
        "plt.title(\"Histograma de Quantidade de Valores Vazios em 'no2' por Dia\")\n",
        "plt.xlabel('Quantidade de valores vazios no dia')\n",
        "plt.ylabel('Número de dias')\n",
        "plt.xticks(range(0, df_dias.max() + 1))\n",
        "plt.grid(axis='y', alpha=0.75)\n",
        "plt.show()"
      ],
      "metadata": {
        "colab": {
          "base_uri": "https://localhost:8080/",
          "height": 0
        },
        "cellView": "form",
        "outputId": "779dbdaf-59b4-48ef-8b22-091317628095",
        "id": "PEuziQG6L3FR"
      },
      "execution_count": 42,
      "outputs": [
        {
          "output_type": "display_data",
          "data": {
            "text/plain": [
              "<Figure size 1000x600 with 1 Axes>"
            ],
            "image/png": "[encoded data removed]"
          },
          "metadata": {}
        }
      ]
    },
    {
      "cell_type": "code",
      "execution_count": 43,
      "metadata": {
        "colab": {
          "base_uri": "https://localhost:8080/"
        },
        "outputId": "0f45941d-be05-491c-8afc-d699f27bdc89",
        "cellView": "form",
        "id": "BXBQoMkTL3FR"
      },
      "outputs": [
        {
          "output_type": "stream",
          "name": "stdout",
          "text": [
            "1997 linhas foram preenchidas com interpolate na coluna 'no2'.\n",
            "Foram preenchido 46% de dados\n"
          ]
        }
      ],
      "source": [
        "#@title Preenchimento dos valores nulos utilizando a função interpolate (Preenchendo apenas os que tem menos de 7 linhas vazias por dia)\n",
        "\n",
        "mask = (df_sensor_bangu['no2_nulos_no_dia'] <= 6)\n",
        "\n",
        "num_nulls = df_sensor_bangu[mask]['no2'].isnull().sum()\n",
        "df_sensor_bangu.loc[mask, 'no2'] = df_sensor_bangu[mask]['no2'].interpolate()\n",
        "print(f\"{num_nulls} linhas foram preenchidas com interpolate na coluna 'no2'.\")\n",
        "print(f\"Foram preenchido {round((num_nulls/valroes_vazio)*100)}% de dados\")"
      ]
    },
    {
      "cell_type": "code",
      "execution_count": 44,
      "metadata": {
        "colab": {
          "base_uri": "https://localhost:8080/",
          "height": 0
        },
        "outputId": "4427c96b-76da-4a55-be92-93d89d8572be",
        "id": "_kik1WaAL3FR"
      },
      "outputs": [
        {
          "output_type": "execute_result",
          "data": {
            "text/plain": [
              "count    66434.000000\n",
              "mean        23.076209\n",
              "std         15.466316\n",
              "min          0.000000\n",
              "25%         11.880000\n",
              "50%         19.461667\n",
              "75%         30.297500\n",
              "max        172.880000\n",
              "Name: no2, dtype: float64"
            ],
            "text/html": [
              "<div>\n",
              "<style scoped>\n",
              "    .dataframe tbody tr th:only-of-type {\n",
              "        vertical-align: middle;\n",
              "    }\n",
              "\n",
              "    .dataframe tbody tr th {\n",
              "        vertical-align: top;\n",
              "    }\n",
              "\n",
              "    .dataframe thead th {\n",
              "        text-align: right;\n",
              "    }\n",
              "</style>\n",
              "<table border=\"1\" class=\"dataframe\">\n",
              "  <thead>\n",
              "    <tr style=\"text-align: right;\">\n",
              "      <th></th>\n",
              "      <th>no2</th>\n",
              "    </tr>\n",
              "  </thead>\n",
              "  <tbody>\n",
              "    <tr>\n",
              "      <th>count</th>\n",
              "      <td>66434.000000</td>\n",
              "    </tr>\n",
              "    <tr>\n",
              "      <th>mean</th>\n",
              "      <td>23.076209</td>\n",
              "    </tr>\n",
              "    <tr>\n",
              "      <th>std</th>\n",
              "      <td>15.466316</td>\n",
              "    </tr>\n",
              "    <tr>\n",
              "      <th>min</th>\n",
              "      <td>0.000000</td>\n",
              "    </tr>\n",
              "    <tr>\n",
              "      <th>25%</th>\n",
              "      <td>11.880000</td>\n",
              "    </tr>\n",
              "    <tr>\n",
              "      <th>50%</th>\n",
              "      <td>19.461667</td>\n",
              "    </tr>\n",
              "    <tr>\n",
              "      <th>75%</th>\n",
              "      <td>30.297500</td>\n",
              "    </tr>\n",
              "    <tr>\n",
              "      <th>max</th>\n",
              "      <td>172.880000</td>\n",
              "    </tr>\n",
              "  </tbody>\n",
              "</table>\n",
              "</div><br><label><b>dtype:</b> float64</label>"
            ]
          },
          "metadata": {},
          "execution_count": 44
        }
      ],
      "source": [
        "df_sensor_bangu['no2'].describe()"
      ]
    },
    {
      "cell_type": "markdown",
      "metadata": {
        "id": "_lsKfMaUMVWn"
      },
      "source": [
        "### Óxido de Nitrogênio"
      ]
    },
    {
      "cell_type": "code",
      "execution_count": 45,
      "metadata": {
        "colab": {
          "base_uri": "https://localhost:8080/",
          "height": 0
        },
        "outputId": "2e9be57b-c20d-4233-dc3e-728b34364666",
        "id": "5Z-DzzjTMVWo"
      },
      "outputs": [
        {
          "output_type": "execute_result",
          "data": {
            "text/plain": [
              "count    64424.000000\n",
              "mean        29.584093\n",
              "std         22.139110\n",
              "min          0.000000\n",
              "25%         14.470000\n",
              "50%         23.420000\n",
              "75%         37.770000\n",
              "max        233.650000\n",
              "Name: nox, dtype: float64"
            ],
            "text/html": [
              "<div>\n",
              "<style scoped>\n",
              "    .dataframe tbody tr th:only-of-type {\n",
              "        vertical-align: middle;\n",
              "    }\n",
              "\n",
              "    .dataframe tbody tr th {\n",
              "        vertical-align: top;\n",
              "    }\n",
              "\n",
              "    .dataframe thead th {\n",
              "        text-align: right;\n",
              "    }\n",
              "</style>\n",
              "<table border=\"1\" class=\"dataframe\">\n",
              "  <thead>\n",
              "    <tr style=\"text-align: right;\">\n",
              "      <th></th>\n",
              "      <th>nox</th>\n",
              "    </tr>\n",
              "  </thead>\n",
              "  <tbody>\n",
              "    <tr>\n",
              "      <th>count</th>\n",
              "      <td>64424.000000</td>\n",
              "    </tr>\n",
              "    <tr>\n",
              "      <th>mean</th>\n",
              "      <td>29.584093</td>\n",
              "    </tr>\n",
              "    <tr>\n",
              "      <th>std</th>\n",
              "      <td>22.139110</td>\n",
              "    </tr>\n",
              "    <tr>\n",
              "      <th>min</th>\n",
              "      <td>0.000000</td>\n",
              "    </tr>\n",
              "    <tr>\n",
              "      <th>25%</th>\n",
              "      <td>14.470000</td>\n",
              "    </tr>\n",
              "    <tr>\n",
              "      <th>50%</th>\n",
              "      <td>23.420000</td>\n",
              "    </tr>\n",
              "    <tr>\n",
              "      <th>75%</th>\n",
              "      <td>37.770000</td>\n",
              "    </tr>\n",
              "    <tr>\n",
              "      <th>max</th>\n",
              "      <td>233.650000</td>\n",
              "    </tr>\n",
              "  </tbody>\n",
              "</table>\n",
              "</div><br><label><b>dtype:</b> float64</label>"
            ]
          },
          "metadata": {},
          "execution_count": 45
        }
      ],
      "source": [
        "df_sensor_bangu['nox'].describe()"
      ]
    },
    {
      "cell_type": "code",
      "execution_count": 46,
      "metadata": {
        "colab": {
          "base_uri": "https://localhost:8080/"
        },
        "outputId": "589721b8-3d98-473f-8ffe-1e32deab0f17",
        "cellView": "form",
        "id": "6eCJkUmBMVWo"
      },
      "outputs": [
        {
          "output_type": "stream",
          "name": "stdout",
          "text": [
            "Quantidade de valores vazios: 4376\n"
          ]
        }
      ],
      "source": [
        "#@title Vendo quantidade de valores vazios\n",
        "\n",
        "valroes_vazio = df_sensor_bangu[df_sensor_bangu['nox'].isnull()].groupby(['ano', 'mes']).size().sum()\n",
        "print(f\"Quantidade de valores vazios: {valroes_vazio}\")"
      ]
    },
    {
      "cell_type": "code",
      "execution_count": 47,
      "metadata": {
        "colab": {
          "base_uri": "https://localhost:8080/"
        },
        "outputId": "39e1443d-149b-46e6-b77d-d7fbb9b17164",
        "cellView": "form",
        "id": "arTstOYcMVWp"
      },
      "outputs": [
        {
          "output_type": "stream",
          "name": "stderr",
          "text": [
            "<ipython-input-47-e1fd126c342a>:3: SettingWithCopyWarning: \n",
            "A value is trying to be set on a copy of a slice from a DataFrame.\n",
            "Try using .loc[row_indexer,col_indexer] = value instead\n",
            "\n",
            "See the caveats in the documentation: https://pandas.pydata.org/pandas-docs/stable/user_guide/indexing.html#returning-a-view-versus-a-copy\n",
            "  df_sensor_bangu['nox_nulos_no_dia'] = (\n"
          ]
        }
      ],
      "source": [
        "#@title Criando coluna que informa a quantidade de valores vazios por dia\n",
        "\n",
        "df_sensor_bangu['nox_nulos_no_dia'] = (\n",
        "    df_sensor_bangu['nox'].isnull()\n",
        "    .groupby(df_sensor_bangu['data_formatada'])\n",
        "    .transform('sum')  # Soma os nulos por dia e repete o valor em todas as linhas do dia\n",
        ")"
      ]
    },
    {
      "cell_type": "code",
      "source": [
        "#@title Distribuição dos valores vazios\n",
        "\n",
        "# Seleciona uma única linha por dia, para evitar repetição\n",
        "df_dias = df_sensor_bangu[df_sensor_bangu['nox_nulos_no_dia'] != 0].groupby('data_formatada')['nox_nulos_no_dia'].first()\n",
        "\n",
        "# Plotar o histograma da contagem de valores nulos por dia\n",
        "plt.figure(figsize=(10,6))\n",
        "plt.hist(df_dias, bins=range(0, df_dias.max() + 2), edgecolor='black', align='left')\n",
        "plt.title(\"Histograma de Quantidade de Valores Vazios em 'nox' por Dia\")\n",
        "plt.xlabel('Quantidade de valores vazios no dia')\n",
        "plt.ylabel('Número de dias')\n",
        "plt.xticks(range(0, df_dias.max() + 1))\n",
        "plt.grid(axis='y', alpha=0.75)\n",
        "plt.show()"
      ],
      "metadata": {
        "colab": {
          "base_uri": "https://localhost:8080/",
          "height": 0
        },
        "cellView": "form",
        "outputId": "2926905a-bfda-4e58-cee7-e12f6a76c8a6",
        "id": "uR0Iri7RMVWp"
      },
      "execution_count": 48,
      "outputs": [
        {
          "output_type": "display_data",
          "data": {
            "text/plain": [
              "<Figure size 1000x600 with 1 Axes>"
            ],
            "image/png": "[encoded data removed]"
          },
          "metadata": {}
        }
      ]
    },
    {
      "cell_type": "code",
      "execution_count": 49,
      "metadata": {
        "colab": {
          "base_uri": "https://localhost:8080/"
        },
        "outputId": "53aaa4d3-4217-431e-f679-86d254684f17",
        "cellView": "form",
        "id": "oFZPdVecMVWp"
      },
      "outputs": [
        {
          "output_type": "stream",
          "name": "stdout",
          "text": [
            "1996 linhas foram preenchidas com interpolate na coluna 'nox'.\n",
            "Foram preenchido 46% de dados\n"
          ]
        }
      ],
      "source": [
        "#@title Preenchimento dos valores nulos utilizando a função interpolate (Preenchendo apenas os que tem menos de 7 linhas vazias por dia)\n",
        "\n",
        "mask = (df_sensor_bangu['nox_nulos_no_dia'] <= 6)\n",
        "\n",
        "num_nulls = df_sensor_bangu[mask]['nox'].isnull().sum()\n",
        "df_sensor_bangu.loc[mask, 'nox'] = df_sensor_bangu[mask]['nox'].interpolate()\n",
        "print(f\"{num_nulls} linhas foram preenchidas com interpolate na coluna 'nox'.\")\n",
        "print(f\"Foram preenchido {round((num_nulls/valroes_vazio)*100)}% de dados\")"
      ]
    },
    {
      "cell_type": "code",
      "execution_count": 50,
      "metadata": {
        "colab": {
          "base_uri": "https://localhost:8080/",
          "height": 0
        },
        "outputId": "d3b0b13e-47ff-4349-9ee3-258954030f77",
        "id": "TZjwHNM_MVWp"
      },
      "outputs": [
        {
          "output_type": "execute_result",
          "data": {
            "text/plain": [
              "count    66420.000000\n",
              "mean        29.312567\n",
              "std         22.011693\n",
              "min          0.000000\n",
              "25%         14.310000\n",
              "50%         23.170000\n",
              "75%         37.412500\n",
              "max        233.650000\n",
              "Name: nox, dtype: float64"
            ],
            "text/html": [
              "<div>\n",
              "<style scoped>\n",
              "    .dataframe tbody tr th:only-of-type {\n",
              "        vertical-align: middle;\n",
              "    }\n",
              "\n",
              "    .dataframe tbody tr th {\n",
              "        vertical-align: top;\n",
              "    }\n",
              "\n",
              "    .dataframe thead th {\n",
              "        text-align: right;\n",
              "    }\n",
              "</style>\n",
              "<table border=\"1\" class=\"dataframe\">\n",
              "  <thead>\n",
              "    <tr style=\"text-align: right;\">\n",
              "      <th></th>\n",
              "      <th>nox</th>\n",
              "    </tr>\n",
              "  </thead>\n",
              "  <tbody>\n",
              "    <tr>\n",
              "      <th>count</th>\n",
              "      <td>66420.000000</td>\n",
              "    </tr>\n",
              "    <tr>\n",
              "      <th>mean</th>\n",
              "      <td>29.312567</td>\n",
              "    </tr>\n",
              "    <tr>\n",
              "      <th>std</th>\n",
              "      <td>22.011693</td>\n",
              "    </tr>\n",
              "    <tr>\n",
              "      <th>min</th>\n",
              "      <td>0.000000</td>\n",
              "    </tr>\n",
              "    <tr>\n",
              "      <th>25%</th>\n",
              "      <td>14.310000</td>\n",
              "    </tr>\n",
              "    <tr>\n",
              "      <th>50%</th>\n",
              "      <td>23.170000</td>\n",
              "    </tr>\n",
              "    <tr>\n",
              "      <th>75%</th>\n",
              "      <td>37.412500</td>\n",
              "    </tr>\n",
              "    <tr>\n",
              "      <th>max</th>\n",
              "      <td>233.650000</td>\n",
              "    </tr>\n",
              "  </tbody>\n",
              "</table>\n",
              "</div><br><label><b>dtype:</b> float64</label>"
            ]
          },
          "metadata": {},
          "execution_count": 50
        }
      ],
      "source": [
        "df_sensor_bangu['nox'].describe()"
      ]
    },
    {
      "cell_type": "markdown",
      "metadata": {
        "id": "dea3QOhJMs5K"
      },
      "source": [
        "### Dióxido de Enxofre Campo Grande"
      ]
    },
    {
      "cell_type": "code",
      "execution_count": 51,
      "metadata": {
        "colab": {
          "base_uri": "https://localhost:8080/",
          "height": 0
        },
        "outputId": "a6045a61-ca65-4026-dbba-59334ae6c9f0",
        "id": "fszCCXqNMs5L"
      },
      "outputs": [
        {
          "output_type": "execute_result",
          "data": {
            "text/plain": [
              "count    61519.000000\n",
              "mean         3.008616\n",
              "std          4.225851\n",
              "min          0.000000\n",
              "25%          0.520000\n",
              "50%          2.270000\n",
              "75%          4.180000\n",
              "max        221.340000\n",
              "Name: so2, dtype: float64"
            ],
            "text/html": [
              "<div>\n",
              "<style scoped>\n",
              "    .dataframe tbody tr th:only-of-type {\n",
              "        vertical-align: middle;\n",
              "    }\n",
              "\n",
              "    .dataframe tbody tr th {\n",
              "        vertical-align: top;\n",
              "    }\n",
              "\n",
              "    .dataframe thead th {\n",
              "        text-align: right;\n",
              "    }\n",
              "</style>\n",
              "<table border=\"1\" class=\"dataframe\">\n",
              "  <thead>\n",
              "    <tr style=\"text-align: right;\">\n",
              "      <th></th>\n",
              "      <th>so2</th>\n",
              "    </tr>\n",
              "  </thead>\n",
              "  <tbody>\n",
              "    <tr>\n",
              "      <th>count</th>\n",
              "      <td>61519.000000</td>\n",
              "    </tr>\n",
              "    <tr>\n",
              "      <th>mean</th>\n",
              "      <td>3.008616</td>\n",
              "    </tr>\n",
              "    <tr>\n",
              "      <th>std</th>\n",
              "      <td>4.225851</td>\n",
              "    </tr>\n",
              "    <tr>\n",
              "      <th>min</th>\n",
              "      <td>0.000000</td>\n",
              "    </tr>\n",
              "    <tr>\n",
              "      <th>25%</th>\n",
              "      <td>0.520000</td>\n",
              "    </tr>\n",
              "    <tr>\n",
              "      <th>50%</th>\n",
              "      <td>2.270000</td>\n",
              "    </tr>\n",
              "    <tr>\n",
              "      <th>75%</th>\n",
              "      <td>4.180000</td>\n",
              "    </tr>\n",
              "    <tr>\n",
              "      <th>max</th>\n",
              "      <td>221.340000</td>\n",
              "    </tr>\n",
              "  </tbody>\n",
              "</table>\n",
              "</div><br><label><b>dtype:</b> float64</label>"
            ]
          },
          "metadata": {},
          "execution_count": 51
        }
      ],
      "source": [
        "df_sensor_bangu['so2'].describe()"
      ]
    },
    {
      "cell_type": "code",
      "execution_count": 52,
      "metadata": {
        "colab": {
          "base_uri": "https://localhost:8080/"
        },
        "outputId": "a46d2756-5b94-46f8-e967-2e328f61abe8",
        "cellView": "form",
        "id": "c0RuCYCsMs5L"
      },
      "outputs": [
        {
          "output_type": "stream",
          "name": "stdout",
          "text": [
            "Quantidade de valores vazios: 7281\n"
          ]
        }
      ],
      "source": [
        "#@title Vendo quantidade de valores vazios\n",
        "\n",
        "valroes_vazio = df_sensor_bangu[df_sensor_bangu['so2'].isnull()].groupby(['ano', 'mes']).size().sum()\n",
        "print(f\"Quantidade de valores vazios: {valroes_vazio}\")"
      ]
    },
    {
      "cell_type": "code",
      "execution_count": 53,
      "metadata": {
        "colab": {
          "base_uri": "https://localhost:8080/"
        },
        "outputId": "afed16f0-7787-42a6-aff3-2ded808e2ee7",
        "cellView": "form",
        "id": "C4qkCjQHMs5L"
      },
      "outputs": [
        {
          "output_type": "stream",
          "name": "stderr",
          "text": [
            "<ipython-input-53-3ad64c52548a>:3: SettingWithCopyWarning: \n",
            "A value is trying to be set on a copy of a slice from a DataFrame.\n",
            "Try using .loc[row_indexer,col_indexer] = value instead\n",
            "\n",
            "See the caveats in the documentation: https://pandas.pydata.org/pandas-docs/stable/user_guide/indexing.html#returning-a-view-versus-a-copy\n",
            "  df_sensor_bangu['so2_nulos_no_dia'] = (\n"
          ]
        }
      ],
      "source": [
        "#@title Criando coluna que informa a quantidade de valores vazios por dia\n",
        "\n",
        "df_sensor_bangu['so2_nulos_no_dia'] = (\n",
        "    df_sensor_bangu['so2'].isnull()\n",
        "    .groupby(df_sensor_bangu['data_formatada'])\n",
        "    .transform('sum')  # Soma os nulos por dia e repete o valor em todas as linhas do dia\n",
        ")"
      ]
    },
    {
      "cell_type": "code",
      "source": [
        "#@title Distribuição dos valores vazios\n",
        "\n",
        "# Seleciona uma única linha por dia, para evitar repetição\n",
        "df_dias = df_sensor_bangu[df_sensor_bangu['so2_nulos_no_dia'] != 0].groupby('data_formatada')['so2_nulos_no_dia'].first()\n",
        "\n",
        "# Plotar o histograma da contagem de valores nulos por dia\n",
        "plt.figure(figsize=(10,6))\n",
        "plt.hist(df_dias, bins=range(0, df_dias.max() + 2), edgecolor='black', align='left')\n",
        "plt.title(\"Histograma de Quantidade de Valores Vazios em 'so2' por Dia\")\n",
        "plt.xlabel('Quantidade de valores vazios no dia')\n",
        "plt.ylabel('Número de dias')\n",
        "plt.xticks(range(0, df_dias.max() + 1))\n",
        "plt.grid(axis='y', alpha=0.75)\n",
        "plt.show()"
      ],
      "metadata": {
        "colab": {
          "base_uri": "https://localhost:8080/",
          "height": 0
        },
        "cellView": "form",
        "outputId": "11f3c39e-c4ba-4851-9b9e-fe19e800b1b7",
        "id": "trcgkn9hMs5L"
      },
      "execution_count": 54,
      "outputs": [
        {
          "output_type": "display_data",
          "data": {
            "text/plain": [
              "<Figure size 1000x600 with 1 Axes>"
            ],
            "image/png": "[encoded data removed]"
          },
          "metadata": {}
        }
      ]
    },
    {
      "cell_type": "code",
      "execution_count": 55,
      "metadata": {
        "colab": {
          "base_uri": "https://localhost:8080/"
        },
        "outputId": "78c1f84a-fd3e-42bc-81ee-89b1e79c0590",
        "cellView": "form",
        "id": "4Vf0xfIGMs5L"
      },
      "outputs": [
        {
          "output_type": "stream",
          "name": "stdout",
          "text": [
            "2989 linhas foram preenchidas com interpolate na coluna 'so2'.\n",
            "Foram preenchido 41% de dados\n"
          ]
        }
      ],
      "source": [
        "#@title Preenchimento dos valores nulos utilizando a função interpolate (Preenchendo apenas os que tem menos de 7 linhas vazias por dia)\n",
        "\n",
        "mask = (df_sensor_bangu['so2_nulos_no_dia'] <= 6)\n",
        "\n",
        "num_nulls = df_sensor_bangu[mask]['so2'].isnull().sum()\n",
        "df_sensor_bangu.loc[mask, 'so2'] = df_sensor_bangu[mask]['so2'].interpolate()\n",
        "print(f\"{num_nulls} linhas foram preenchidas com interpolate na coluna 'so2'.\")\n",
        "print(f\"Foram preenchido {round((num_nulls/valroes_vazio)*100)}% de dados\")"
      ]
    },
    {
      "cell_type": "code",
      "execution_count": 56,
      "metadata": {
        "colab": {
          "base_uri": "https://localhost:8080/",
          "height": 0
        },
        "outputId": "6e5f65e8-5ddb-4c18-b590-3baaf1218e64",
        "id": "tdmsasFgMs5L"
      },
      "outputs": [
        {
          "output_type": "execute_result",
          "data": {
            "text/plain": [
              "count    64507.000000\n",
              "mean         3.002333\n",
              "std          4.176098\n",
              "min          0.000000\n",
              "25%          0.540000\n",
              "50%          2.270000\n",
              "75%          4.170000\n",
              "max        221.340000\n",
              "Name: so2, dtype: float64"
            ],
            "text/html": [
              "<div>\n",
              "<style scoped>\n",
              "    .dataframe tbody tr th:only-of-type {\n",
              "        vertical-align: middle;\n",
              "    }\n",
              "\n",
              "    .dataframe tbody tr th {\n",
              "        vertical-align: top;\n",
              "    }\n",
              "\n",
              "    .dataframe thead th {\n",
              "        text-align: right;\n",
              "    }\n",
              "</style>\n",
              "<table border=\"1\" class=\"dataframe\">\n",
              "  <thead>\n",
              "    <tr style=\"text-align: right;\">\n",
              "      <th></th>\n",
              "      <th>so2</th>\n",
              "    </tr>\n",
              "  </thead>\n",
              "  <tbody>\n",
              "    <tr>\n",
              "      <th>count</th>\n",
              "      <td>64507.000000</td>\n",
              "    </tr>\n",
              "    <tr>\n",
              "      <th>mean</th>\n",
              "      <td>3.002333</td>\n",
              "    </tr>\n",
              "    <tr>\n",
              "      <th>std</th>\n",
              "      <td>4.176098</td>\n",
              "    </tr>\n",
              "    <tr>\n",
              "      <th>min</th>\n",
              "      <td>0.000000</td>\n",
              "    </tr>\n",
              "    <tr>\n",
              "      <th>25%</th>\n",
              "      <td>0.540000</td>\n",
              "    </tr>\n",
              "    <tr>\n",
              "      <th>50%</th>\n",
              "      <td>2.270000</td>\n",
              "    </tr>\n",
              "    <tr>\n",
              "      <th>75%</th>\n",
              "      <td>4.170000</td>\n",
              "    </tr>\n",
              "    <tr>\n",
              "      <th>max</th>\n",
              "      <td>221.340000</td>\n",
              "    </tr>\n",
              "  </tbody>\n",
              "</table>\n",
              "</div><br><label><b>dtype:</b> float64</label>"
            ]
          },
          "metadata": {},
          "execution_count": 56
        }
      ],
      "source": [
        "df_sensor_bangu['so2'].describe()"
      ]
    },
    {
      "cell_type": "markdown",
      "metadata": {
        "id": "DP-WWSHfNYCk"
      },
      "source": [
        "### Ozônio Campo Grande"
      ]
    },
    {
      "cell_type": "code",
      "execution_count": 57,
      "metadata": {
        "colab": {
          "base_uri": "https://localhost:8080/",
          "height": 0
        },
        "outputId": "9a30aac9-3316-44c4-9543-c7cc792ca2ce",
        "id": "5Wx7SPTJNYCl"
      },
      "outputs": [
        {
          "output_type": "execute_result",
          "data": {
            "text/plain": [
              "count    64708.000000\n",
              "mean        47.531775\n",
              "std         37.077824\n",
              "min          0.000000\n",
              "25%         19.217500\n",
              "50%         41.250000\n",
              "75%         66.780000\n",
              "max        290.640000\n",
              "Name: o3, dtype: float64"
            ],
            "text/html": [
              "<div>\n",
              "<style scoped>\n",
              "    .dataframe tbody tr th:only-of-type {\n",
              "        vertical-align: middle;\n",
              "    }\n",
              "\n",
              "    .dataframe tbody tr th {\n",
              "        vertical-align: top;\n",
              "    }\n",
              "\n",
              "    .dataframe thead th {\n",
              "        text-align: right;\n",
              "    }\n",
              "</style>\n",
              "<table border=\"1\" class=\"dataframe\">\n",
              "  <thead>\n",
              "    <tr style=\"text-align: right;\">\n",
              "      <th></th>\n",
              "      <th>o3</th>\n",
              "    </tr>\n",
              "  </thead>\n",
              "  <tbody>\n",
              "    <tr>\n",
              "      <th>count</th>\n",
              "      <td>64708.000000</td>\n",
              "    </tr>\n",
              "    <tr>\n",
              "      <th>mean</th>\n",
              "      <td>47.531775</td>\n",
              "    </tr>\n",
              "    <tr>\n",
              "      <th>std</th>\n",
              "      <td>37.077824</td>\n",
              "    </tr>\n",
              "    <tr>\n",
              "      <th>min</th>\n",
              "      <td>0.000000</td>\n",
              "    </tr>\n",
              "    <tr>\n",
              "      <th>25%</th>\n",
              "      <td>19.217500</td>\n",
              "    </tr>\n",
              "    <tr>\n",
              "      <th>50%</th>\n",
              "      <td>41.250000</td>\n",
              "    </tr>\n",
              "    <tr>\n",
              "      <th>75%</th>\n",
              "      <td>66.780000</td>\n",
              "    </tr>\n",
              "    <tr>\n",
              "      <th>max</th>\n",
              "      <td>290.640000</td>\n",
              "    </tr>\n",
              "  </tbody>\n",
              "</table>\n",
              "</div><br><label><b>dtype:</b> float64</label>"
            ]
          },
          "metadata": {},
          "execution_count": 57
        }
      ],
      "source": [
        "df_sensor_bangu['o3'].describe()"
      ]
    },
    {
      "cell_type": "code",
      "execution_count": 58,
      "metadata": {
        "colab": {
          "base_uri": "https://localhost:8080/"
        },
        "outputId": "7bd40e6e-701e-405f-e32e-83dee1b9b780",
        "cellView": "form",
        "id": "kXhRQEmoNYCn"
      },
      "outputs": [
        {
          "output_type": "stream",
          "name": "stdout",
          "text": [
            "Quantidade de valores vazios: 4092\n"
          ]
        }
      ],
      "source": [
        "#@title Vendo quantidade de valores vazios\n",
        "\n",
        "valroes_vazio = df_sensor_bangu[df_sensor_bangu['o3'].isnull()].groupby(['ano', 'mes']).size().sum()\n",
        "print(f\"Quantidade de valores vazios: {valroes_vazio}\")"
      ]
    },
    {
      "cell_type": "code",
      "execution_count": 59,
      "metadata": {
        "colab": {
          "base_uri": "https://localhost:8080/"
        },
        "outputId": "8adea718-4074-4c96-cbfd-2c23166fe2fc",
        "cellView": "form",
        "id": "cJBoN4cMNYCn"
      },
      "outputs": [
        {
          "output_type": "stream",
          "name": "stderr",
          "text": [
            "<ipython-input-59-85a5f26cdee5>:3: SettingWithCopyWarning: \n",
            "A value is trying to be set on a copy of a slice from a DataFrame.\n",
            "Try using .loc[row_indexer,col_indexer] = value instead\n",
            "\n",
            "See the caveats in the documentation: https://pandas.pydata.org/pandas-docs/stable/user_guide/indexing.html#returning-a-view-versus-a-copy\n",
            "  df_sensor_bangu['o3_nulos_no_dia'] = (\n"
          ]
        }
      ],
      "source": [
        "#@title Criando coluna que informa a quantidade de valores vazios por dia\n",
        "\n",
        "df_sensor_bangu['o3_nulos_no_dia'] = (\n",
        "    df_sensor_bangu['o3'].isnull()\n",
        "    .groupby(df_sensor_bangu['data_formatada'])\n",
        "    .transform('sum')  # Soma os nulos por dia e repete o valor em todas as linhas do dia\n",
        ")"
      ]
    },
    {
      "cell_type": "code",
      "source": [
        "#@title Distribuição dos valores vazios\n",
        "\n",
        "# Seleciona uma única linha por dia, para evitar repetição\n",
        "df_dias = df_sensor_bangu[df_sensor_bangu['o3_nulos_no_dia'] != 0].groupby('data_formatada')['o3_nulos_no_dia'].first()\n",
        "\n",
        "# Plotar o histograma da contagem de valores nulos por dia\n",
        "plt.figure(figsize=(10,6))\n",
        "plt.hist(df_dias, bins=range(0, df_dias.max() + 2), edgecolor='black', align='left')\n",
        "plt.title(\"Histograma de Quantidade de Valores Vazios em 'o3' por Dia\")\n",
        "plt.xlabel('Quantidade de valores vazios no dia')\n",
        "plt.ylabel('Número de dias')\n",
        "plt.xticks(range(0, df_dias.max() + 1))\n",
        "plt.grid(axis='y', alpha=0.75)\n",
        "plt.show()"
      ],
      "metadata": {
        "colab": {
          "base_uri": "https://localhost:8080/",
          "height": 0
        },
        "cellView": "form",
        "outputId": "8f64dde4-18e9-4b95-e4a8-fc930668b322",
        "id": "Q1ZG0wIONYCn"
      },
      "execution_count": 60,
      "outputs": [
        {
          "output_type": "display_data",
          "data": {
            "text/plain": [
              "<Figure size 1000x600 with 1 Axes>"
            ],
            "image/png": "[encoded data removed]"
          },
          "metadata": {}
        }
      ]
    },
    {
      "cell_type": "code",
      "execution_count": 61,
      "metadata": {
        "colab": {
          "base_uri": "https://localhost:8080/"
        },
        "outputId": "3d54b61b-7537-4074-8164-889d7b16d300",
        "cellView": "form",
        "id": "KQwJwPLrNYCo"
      },
      "outputs": [
        {
          "output_type": "stream",
          "name": "stdout",
          "text": [
            "703 linhas foram preenchidas com interpolate na coluna 'o3'.\n",
            "Foram preenchido 17% de dados\n"
          ]
        }
      ],
      "source": [
        "#@title Preenchimento dos valores nulos utilizando a função interpolate (Preenchendo apenas os que tem menos de 7 linhas vazias por dia)\n",
        "\n",
        "mask = (df_sensor_bangu['o3_nulos_no_dia'] <= 6)\n",
        "\n",
        "num_nulls = df_sensor_bangu[mask]['o3'].isnull().sum()\n",
        "df_sensor_bangu.loc[mask, 'o3'] = df_sensor_bangu[mask]['o3'].interpolate()\n",
        "print(f\"{num_nulls} linhas foram preenchidas com interpolate na coluna 'o3'.\")\n",
        "print(f\"Foram preenchido {round((num_nulls/valroes_vazio)*100)}% de dados\")"
      ]
    },
    {
      "cell_type": "code",
      "execution_count": 62,
      "metadata": {
        "colab": {
          "base_uri": "https://localhost:8080/",
          "height": 0
        },
        "outputId": "800b4b0a-46d6-4a94-f07f-f12e3247b226",
        "id": "8dJ2VLO3NYCp"
      },
      "outputs": [
        {
          "output_type": "execute_result",
          "data": {
            "text/plain": [
              "count    65411.000000\n",
              "mean        47.688255\n",
              "std         37.049825\n",
              "min          0.000000\n",
              "25%         19.400000\n",
              "50%         41.470000\n",
              "75%         67.010000\n",
              "max        290.640000\n",
              "Name: o3, dtype: float64"
            ],
            "text/html": [
              "<div>\n",
              "<style scoped>\n",
              "    .dataframe tbody tr th:only-of-type {\n",
              "        vertical-align: middle;\n",
              "    }\n",
              "\n",
              "    .dataframe tbody tr th {\n",
              "        vertical-align: top;\n",
              "    }\n",
              "\n",
              "    .dataframe thead th {\n",
              "        text-align: right;\n",
              "    }\n",
              "</style>\n",
              "<table border=\"1\" class=\"dataframe\">\n",
              "  <thead>\n",
              "    <tr style=\"text-align: right;\">\n",
              "      <th></th>\n",
              "      <th>o3</th>\n",
              "    </tr>\n",
              "  </thead>\n",
              "  <tbody>\n",
              "    <tr>\n",
              "      <th>count</th>\n",
              "      <td>65411.000000</td>\n",
              "    </tr>\n",
              "    <tr>\n",
              "      <th>mean</th>\n",
              "      <td>47.688255</td>\n",
              "    </tr>\n",
              "    <tr>\n",
              "      <th>std</th>\n",
              "      <td>37.049825</td>\n",
              "    </tr>\n",
              "    <tr>\n",
              "      <th>min</th>\n",
              "      <td>0.000000</td>\n",
              "    </tr>\n",
              "    <tr>\n",
              "      <th>25%</th>\n",
              "      <td>19.400000</td>\n",
              "    </tr>\n",
              "    <tr>\n",
              "      <th>50%</th>\n",
              "      <td>41.470000</td>\n",
              "    </tr>\n",
              "    <tr>\n",
              "      <th>75%</th>\n",
              "      <td>67.010000</td>\n",
              "    </tr>\n",
              "    <tr>\n",
              "      <th>max</th>\n",
              "      <td>290.640000</td>\n",
              "    </tr>\n",
              "  </tbody>\n",
              "</table>\n",
              "</div><br><label><b>dtype:</b> float64</label>"
            ]
          },
          "metadata": {},
          "execution_count": 62
        }
      ],
      "source": [
        "df_sensor_bangu['o3'].describe()"
      ]
    },
    {
      "cell_type": "markdown",
      "metadata": {
        "id": "x_EfKxffNz6H"
      },
      "source": [
        "### PM10 Campo Grande"
      ]
    },
    {
      "cell_type": "code",
      "execution_count": 63,
      "metadata": {
        "colab": {
          "base_uri": "https://localhost:8080/",
          "height": 0
        },
        "outputId": "474133cd-08bc-453d-f68b-32bd32c0dac3",
        "id": "PwaB2u12Nz6H"
      },
      "outputs": [
        {
          "output_type": "execute_result",
          "data": {
            "text/plain": [
              "count    62101.000000\n",
              "mean        36.375225\n",
              "std         25.932942\n",
              "min          0.000000\n",
              "25%         19.000000\n",
              "50%         31.000000\n",
              "75%         47.000000\n",
              "max        473.000000\n",
              "Name: pm10, dtype: float64"
            ],
            "text/html": [
              "<div>\n",
              "<style scoped>\n",
              "    .dataframe tbody tr th:only-of-type {\n",
              "        vertical-align: middle;\n",
              "    }\n",
              "\n",
              "    .dataframe tbody tr th {\n",
              "        vertical-align: top;\n",
              "    }\n",
              "\n",
              "    .dataframe thead th {\n",
              "        text-align: right;\n",
              "    }\n",
              "</style>\n",
              "<table border=\"1\" class=\"dataframe\">\n",
              "  <thead>\n",
              "    <tr style=\"text-align: right;\">\n",
              "      <th></th>\n",
              "      <th>pm10</th>\n",
              "    </tr>\n",
              "  </thead>\n",
              "  <tbody>\n",
              "    <tr>\n",
              "      <th>count</th>\n",
              "      <td>62101.000000</td>\n",
              "    </tr>\n",
              "    <tr>\n",
              "      <th>mean</th>\n",
              "      <td>36.375225</td>\n",
              "    </tr>\n",
              "    <tr>\n",
              "      <th>std</th>\n",
              "      <td>25.932942</td>\n",
              "    </tr>\n",
              "    <tr>\n",
              "      <th>min</th>\n",
              "      <td>0.000000</td>\n",
              "    </tr>\n",
              "    <tr>\n",
              "      <th>25%</th>\n",
              "      <td>19.000000</td>\n",
              "    </tr>\n",
              "    <tr>\n",
              "      <th>50%</th>\n",
              "      <td>31.000000</td>\n",
              "    </tr>\n",
              "    <tr>\n",
              "      <th>75%</th>\n",
              "      <td>47.000000</td>\n",
              "    </tr>\n",
              "    <tr>\n",
              "      <th>max</th>\n",
              "      <td>473.000000</td>\n",
              "    </tr>\n",
              "  </tbody>\n",
              "</table>\n",
              "</div><br><label><b>dtype:</b> float64</label>"
            ]
          },
          "metadata": {},
          "execution_count": 63
        }
      ],
      "source": [
        "df_sensor_bangu['pm10'].describe()"
      ]
    },
    {
      "cell_type": "code",
      "execution_count": 64,
      "metadata": {
        "colab": {
          "base_uri": "https://localhost:8080/"
        },
        "outputId": "fbcf4898-b471-4e98-a297-6f44ca78f588",
        "cellView": "form",
        "id": "2DgViHnxNz6I"
      },
      "outputs": [
        {
          "output_type": "stream",
          "name": "stdout",
          "text": [
            "Quantidade de valores vazios: 6699\n"
          ]
        }
      ],
      "source": [
        "#@title Vendo quantidade de valores vazios\n",
        "\n",
        "valroes_vazio = df_sensor_bangu[df_sensor_bangu['pm10'].isnull()].groupby(['ano', 'mes']).size().sum()\n",
        "print(f\"Quantidade de valores vazios: {valroes_vazio}\")"
      ]
    },
    {
      "cell_type": "code",
      "execution_count": 65,
      "metadata": {
        "colab": {
          "base_uri": "https://localhost:8080/"
        },
        "outputId": "00c5344b-7a77-4784-d995-e38a2cb8b216",
        "cellView": "form",
        "id": "C4E1ad35Nz6I"
      },
      "outputs": [
        {
          "output_type": "stream",
          "name": "stderr",
          "text": [
            "<ipython-input-65-1df09b37e55d>:3: SettingWithCopyWarning: \n",
            "A value is trying to be set on a copy of a slice from a DataFrame.\n",
            "Try using .loc[row_indexer,col_indexer] = value instead\n",
            "\n",
            "See the caveats in the documentation: https://pandas.pydata.org/pandas-docs/stable/user_guide/indexing.html#returning-a-view-versus-a-copy\n",
            "  df_sensor_bangu['pm10_nulos_no_dia'] = (\n"
          ]
        }
      ],
      "source": [
        "#@title Criando coluna que informa a quantidade de valores vazios por dia\n",
        "\n",
        "df_sensor_bangu['pm10_nulos_no_dia'] = (\n",
        "    df_sensor_bangu['pm10'].isnull()\n",
        "    .groupby(df_sensor_bangu['data_formatada'])\n",
        "    .transform('sum')  # Soma os nulos por dia e repete o valor em todas as linhas do dia\n",
        ")"
      ]
    },
    {
      "cell_type": "code",
      "source": [
        "#@title Distribuição dos valores vazios\n",
        "\n",
        "# Seleciona uma única linha por dia, para evitar repetição\n",
        "df_dias = df_sensor_bangu[df_sensor_bangu['pm10_nulos_no_dia'] != 0].groupby('data_formatada')['pm10_nulos_no_dia'].first()\n",
        "\n",
        "# Plotar o histograma da contagem de valores nulos por dia\n",
        "plt.figure(figsize=(10,6))\n",
        "plt.hist(df_dias, bins=range(0, df_dias.max() + 2), edgecolor='black', align='left')\n",
        "plt.title(\"Histograma de Quantidade de Valores Vazios em 'pm10' por Dia\")\n",
        "plt.xlabel('Quantidade de valores vazios no dia')\n",
        "plt.ylabel('Número de dias')\n",
        "plt.xticks(range(0, df_dias.max() + 1))\n",
        "plt.grid(axis='y', alpha=0.75)\n",
        "plt.show()"
      ],
      "metadata": {
        "colab": {
          "base_uri": "https://localhost:8080/",
          "height": 0
        },
        "cellView": "form",
        "outputId": "7dfed126-5dc7-4a24-889c-90a0d08c94de",
        "id": "wimZHi5oNz6I"
      },
      "execution_count": 66,
      "outputs": [
        {
          "output_type": "display_data",
          "data": {
            "text/plain": [
              "<Figure size 1000x600 with 1 Axes>"
            ],
            "image/png": "[encoded data removed]"
          },
          "metadata": {}
        }
      ]
    },
    {
      "cell_type": "code",
      "execution_count": 67,
      "metadata": {
        "colab": {
          "base_uri": "https://localhost:8080/"
        },
        "outputId": "4076fcd6-fd8a-42e4-bd60-295516953ced",
        "cellView": "form",
        "id": "OA2D_-XPNz6I"
      },
      "outputs": [
        {
          "output_type": "stream",
          "name": "stdout",
          "text": [
            "884 linhas foram preenchidas com interpolate na coluna 'pm10'.\n",
            "Foram preenchido 13% de dados\n"
          ]
        }
      ],
      "source": [
        "#@title Preenchimento dos valores nulos utilizando a função interpolate (Preenchendo apenas os que tem menos de 7 linhas vazias por dia)\n",
        "\n",
        "mask = (df_sensor_bangu['pm10_nulos_no_dia'] <= 6)\n",
        "\n",
        "num_nulls = df_sensor_bangu[mask]['pm10'].isnull().sum()\n",
        "df_sensor_bangu.loc[mask, 'pm10'] = df_sensor_bangu[mask]['pm10'].interpolate()\n",
        "print(f\"{num_nulls} linhas foram preenchidas com interpolate na coluna 'pm10'.\")\n",
        "print(f\"Foram preenchido {round((num_nulls/valroes_vazio)*100)}% de dados\")"
      ]
    },
    {
      "cell_type": "code",
      "execution_count": 68,
      "metadata": {
        "colab": {
          "base_uri": "https://localhost:8080/",
          "height": 0
        },
        "outputId": "e04da2bc-7b41-421a-f3dd-b1739a80c066",
        "id": "KmM4M2pDNz6I"
      },
      "outputs": [
        {
          "output_type": "execute_result",
          "data": {
            "text/plain": [
              "count    62985.000000\n",
              "mean        36.414303\n",
              "std         25.960695\n",
              "min          0.000000\n",
              "25%         19.000000\n",
              "50%         31.000000\n",
              "75%         47.000000\n",
              "max        473.000000\n",
              "Name: pm10, dtype: float64"
            ],
            "text/html": [
              "<div>\n",
              "<style scoped>\n",
              "    .dataframe tbody tr th:only-of-type {\n",
              "        vertical-align: middle;\n",
              "    }\n",
              "\n",
              "    .dataframe tbody tr th {\n",
              "        vertical-align: top;\n",
              "    }\n",
              "\n",
              "    .dataframe thead th {\n",
              "        text-align: right;\n",
              "    }\n",
              "</style>\n",
              "<table border=\"1\" class=\"dataframe\">\n",
              "  <thead>\n",
              "    <tr style=\"text-align: right;\">\n",
              "      <th></th>\n",
              "      <th>pm10</th>\n",
              "    </tr>\n",
              "  </thead>\n",
              "  <tbody>\n",
              "    <tr>\n",
              "      <th>count</th>\n",
              "      <td>62985.000000</td>\n",
              "    </tr>\n",
              "    <tr>\n",
              "      <th>mean</th>\n",
              "      <td>36.414303</td>\n",
              "    </tr>\n",
              "    <tr>\n",
              "      <th>std</th>\n",
              "      <td>25.960695</td>\n",
              "    </tr>\n",
              "    <tr>\n",
              "      <th>min</th>\n",
              "      <td>0.000000</td>\n",
              "    </tr>\n",
              "    <tr>\n",
              "      <th>25%</th>\n",
              "      <td>19.000000</td>\n",
              "    </tr>\n",
              "    <tr>\n",
              "      <th>50%</th>\n",
              "      <td>31.000000</td>\n",
              "    </tr>\n",
              "    <tr>\n",
              "      <th>75%</th>\n",
              "      <td>47.000000</td>\n",
              "    </tr>\n",
              "    <tr>\n",
              "      <th>max</th>\n",
              "      <td>473.000000</td>\n",
              "    </tr>\n",
              "  </tbody>\n",
              "</table>\n",
              "</div><br><label><b>dtype:</b> float64</label>"
            ]
          },
          "metadata": {},
          "execution_count": 68
        }
      ],
      "source": [
        "df_sensor_bangu['pm10'].describe()"
      ]
    },
    {
      "cell_type": "markdown",
      "source": [
        "# Gerando CSV de saída com a estação de Campo Grande preenchida\n"
      ],
      "metadata": {
        "id": "ijWuiCIzOE1P"
      }
    },
    {
      "cell_type": "code",
      "source": [
        "droping_columns = ['chuva_nulos_no_dia', 'temp_nulos_no_dia', 'ur_nulos_no_dia', 'co_nulos_no_dia', 'no_nulos_no_dia', 'no2_nulos_no_dia', 'nox_nulos_no_dia', 'so2_nulos_no_dia', 'o3_nulos_no_dia', 'pm10_nulos_no_dia']\n",
        "\n",
        "df_sensor_bangu.drop(columns=droping_columns, inplace=True)"
      ],
      "metadata": {
        "colab": {
          "base_uri": "https://localhost:8080/"
        },
        "id": "C2iFg6w9Qt9u",
        "outputId": "7b154712-c043-427f-9418-0f88e066f6e0"
      },
      "execution_count": 69,
      "outputs": [
        {
          "output_type": "stream",
          "name": "stderr",
          "text": [
            "<ipython-input-69-d7762321af72>:3: SettingWithCopyWarning: \n",
            "A value is trying to be set on a copy of a slice from a DataFrame\n",
            "\n",
            "See the caveats in the documentation: https://pandas.pydata.org/pandas-docs/stable/user_guide/indexing.html#returning-a-view-versus-a-copy\n",
            "  df_sensor_bangu.drop(columns=droping_columns, inplace=True)\n"
          ]
        }
      ]
    },
    {
      "cell_type": "code",
      "source": [
        "df_sensor_bangu.to_csv('df_sensor_bangu_preenchido.csv', index=False)"
      ],
      "metadata": {
        "id": "gfe-Z7ZsOOQO"
      },
      "execution_count": 70,
      "outputs": []
    }
  ]
}