{
 "cells": [
  {
   "cell_type": "markdown",
   "metadata": {
    "id": "TTJ20DT1DZP4"
   },
   "source": [
    "# Importações"
   ]
  },
  {
   "cell_type": "code",
   "execution_count": 1,
   "metadata": {
    "executionInfo": {
     "elapsed": 7414,
     "status": "ok",
     "timestamp": 1750346005528,
     "user": {
      "displayName": "João Terêncio",
      "userId": "14302965054076037047"
     },
     "user_tz": 180
    },
    "id": "3IqV3pDuCcJq"
   },
   "outputs": [],
   "source": [
    "import io\n",
    "import zipfile\n",
    "import requests\n",
    "import numpy as np\n",
    "import pandas as pd\n",
    "import matplotlib.pyplot as plt"
   ]
  },
  {
   "cell_type": "markdown",
   "metadata": {
    "id": "g4RXL-is5UgJ"
   },
   "source": [
    "# Consumindo bases"
   ]
  },
  {
   "cell_type": "code",
   "execution_count": 2,
   "metadata": {
    "executionInfo": {
     "elapsed": 4665,
     "status": "ok",
     "timestamp": 1750346085452,
     "user": {
      "displayName": "João Terêncio",
      "userId": "14302965054076037047"
     },
     "user_tz": 180
    },
    "id": "eyjEKJYpDhin"
   },
   "outputs": [
    {
     "name": "stdout",
     "output_type": "stream",
     "text": [
      "Arquivos no ZIP:\n",
      "['sensores.csv']\n"
     ]
    },
    {
     "data": {
      "text/html": [
       "<div>\n",
       "<style scoped>\n",
       "    .dataframe tbody tr th:only-of-type {\n",
       "        vertical-align: middle;\n",
       "    }\n",
       "\n",
       "    .dataframe tbody tr th {\n",
       "        vertical-align: top;\n",
       "    }\n",
       "\n",
       "    .dataframe thead th {\n",
       "        text-align: right;\n",
       "    }\n",
       "</style>\n",
       "<table border=\"1\" class=\"dataframe\">\n",
       "  <thead>\n",
       "    <tr style=\"text-align: right;\">\n",
       "      <th></th>\n",
       "      <th>objectid</th>\n",
       "      <th>data</th>\n",
       "      <th>codnum</th>\n",
       "      <th>estação</th>\n",
       "      <th>chuva</th>\n",
       "      <th>pres</th>\n",
       "      <th>rs</th>\n",
       "      <th>temp</th>\n",
       "      <th>ur</th>\n",
       "      <th>dir_vento</th>\n",
       "      <th>...</th>\n",
       "      <th>co</th>\n",
       "      <th>no</th>\n",
       "      <th>nox</th>\n",
       "      <th>o3</th>\n",
       "      <th>pm10</th>\n",
       "      <th>pm2_5</th>\n",
       "      <th>lat</th>\n",
       "      <th>lon</th>\n",
       "      <th>x_utm_sirgas2000</th>\n",
       "      <th>y_utm_sirgas2000</th>\n",
       "    </tr>\n",
       "  </thead>\n",
       "  <tbody>\n",
       "    <tr>\n",
       "      <th>0</th>\n",
       "      <td>2372436</td>\n",
       "      <td>1/1/2011 6:30:00 AM</td>\n",
       "      <td>3</td>\n",
       "      <td>CA</td>\n",
       "      <td>0.2</td>\n",
       "      <td>1009.33</td>\n",
       "      <td>1.57</td>\n",
       "      <td>21.81</td>\n",
       "      <td>84.50</td>\n",
       "      <td>250.67</td>\n",
       "      <td>...</td>\n",
       "      <td>0.17</td>\n",
       "      <td>NaN</td>\n",
       "      <td>NaN</td>\n",
       "      <td>17.89</td>\n",
       "      <td>10.0</td>\n",
       "      <td>NaN</td>\n",
       "      <td>-22.908344</td>\n",
       "      <td>-43.178152</td>\n",
       "      <td>686853.7075</td>\n",
       "      <td>7.465470e+06</td>\n",
       "    </tr>\n",
       "    <tr>\n",
       "      <th>1</th>\n",
       "      <td>2372437</td>\n",
       "      <td>1/1/2011 7:30:00 AM</td>\n",
       "      <td>3</td>\n",
       "      <td>CA</td>\n",
       "      <td>0.0</td>\n",
       "      <td>1009.00</td>\n",
       "      <td>1.40</td>\n",
       "      <td>21.79</td>\n",
       "      <td>84.73</td>\n",
       "      <td>121.17</td>\n",
       "      <td>...</td>\n",
       "      <td>0.21</td>\n",
       "      <td>NaN</td>\n",
       "      <td>NaN</td>\n",
       "      <td>12.44</td>\n",
       "      <td>11.0</td>\n",
       "      <td>NaN</td>\n",
       "      <td>-22.908344</td>\n",
       "      <td>-43.178152</td>\n",
       "      <td>686853.7075</td>\n",
       "      <td>7.465470e+06</td>\n",
       "    </tr>\n",
       "    <tr>\n",
       "      <th>2</th>\n",
       "      <td>2372438</td>\n",
       "      <td>1/1/2011 8:30:00 AM</td>\n",
       "      <td>3</td>\n",
       "      <td>CA</td>\n",
       "      <td>0.2</td>\n",
       "      <td>1008.17</td>\n",
       "      <td>1.37</td>\n",
       "      <td>21.44</td>\n",
       "      <td>85.70</td>\n",
       "      <td>85.67</td>\n",
       "      <td>...</td>\n",
       "      <td>0.17</td>\n",
       "      <td>NaN</td>\n",
       "      <td>NaN</td>\n",
       "      <td>18.97</td>\n",
       "      <td>38.0</td>\n",
       "      <td>NaN</td>\n",
       "      <td>-22.908344</td>\n",
       "      <td>-43.178152</td>\n",
       "      <td>686853.7075</td>\n",
       "      <td>7.465470e+06</td>\n",
       "    </tr>\n",
       "    <tr>\n",
       "      <th>3</th>\n",
       "      <td>2372439</td>\n",
       "      <td>1/1/2011 9:30:00 AM</td>\n",
       "      <td>3</td>\n",
       "      <td>CA</td>\n",
       "      <td>0.0</td>\n",
       "      <td>1008.00</td>\n",
       "      <td>1.30</td>\n",
       "      <td>21.17</td>\n",
       "      <td>88.57</td>\n",
       "      <td>85.33</td>\n",
       "      <td>...</td>\n",
       "      <td>0.22</td>\n",
       "      <td>NaN</td>\n",
       "      <td>NaN</td>\n",
       "      <td>11.08</td>\n",
       "      <td>8.0</td>\n",
       "      <td>NaN</td>\n",
       "      <td>-22.908344</td>\n",
       "      <td>-43.178152</td>\n",
       "      <td>686853.7075</td>\n",
       "      <td>7.465470e+06</td>\n",
       "    </tr>\n",
       "    <tr>\n",
       "      <th>4</th>\n",
       "      <td>2372440</td>\n",
       "      <td>1/1/2011 10:30:00 AM</td>\n",
       "      <td>3</td>\n",
       "      <td>CA</td>\n",
       "      <td>0.2</td>\n",
       "      <td>1008.00</td>\n",
       "      <td>1.32</td>\n",
       "      <td>21.25</td>\n",
       "      <td>89.28</td>\n",
       "      <td>73.00</td>\n",
       "      <td>...</td>\n",
       "      <td>0.22</td>\n",
       "      <td>NaN</td>\n",
       "      <td>NaN</td>\n",
       "      <td>11.28</td>\n",
       "      <td>10.0</td>\n",
       "      <td>NaN</td>\n",
       "      <td>-22.908344</td>\n",
       "      <td>-43.178152</td>\n",
       "      <td>686853.7075</td>\n",
       "      <td>7.465470e+06</td>\n",
       "    </tr>\n",
       "  </tbody>\n",
       "</table>\n",
       "<p>5 rows × 26 columns</p>\n",
       "</div>"
      ],
      "text/plain": [
       "   objectid                  data  codnum estação  chuva     pres    rs  \\\n",
       "0   2372436   1/1/2011 6:30:00 AM       3      CA    0.2  1009.33  1.57   \n",
       "1   2372437   1/1/2011 7:30:00 AM       3      CA    0.0  1009.00  1.40   \n",
       "2   2372438   1/1/2011 8:30:00 AM       3      CA    0.2  1008.17  1.37   \n",
       "3   2372439   1/1/2011 9:30:00 AM       3      CA    0.0  1008.00  1.30   \n",
       "4   2372440  1/1/2011 10:30:00 AM       3      CA    0.2  1008.00  1.32   \n",
       "\n",
       "    temp     ur  dir_vento  ...    co  no  nox     o3  pm10  pm2_5        lat  \\\n",
       "0  21.81  84.50     250.67  ...  0.17 NaN  NaN  17.89  10.0    NaN -22.908344   \n",
       "1  21.79  84.73     121.17  ...  0.21 NaN  NaN  12.44  11.0    NaN -22.908344   \n",
       "2  21.44  85.70      85.67  ...  0.17 NaN  NaN  18.97  38.0    NaN -22.908344   \n",
       "3  21.17  88.57      85.33  ...  0.22 NaN  NaN  11.08   8.0    NaN -22.908344   \n",
       "4  21.25  89.28      73.00  ...  0.22 NaN  NaN  11.28  10.0    NaN -22.908344   \n",
       "\n",
       "         lon  x_utm_sirgas2000  y_utm_sirgas2000  \n",
       "0 -43.178152       686853.7075      7.465470e+06  \n",
       "1 -43.178152       686853.7075      7.465470e+06  \n",
       "2 -43.178152       686853.7075      7.465470e+06  \n",
       "3 -43.178152       686853.7075      7.465470e+06  \n",
       "4 -43.178152       686853.7075      7.465470e+06  \n",
       "\n",
       "[5 rows x 26 columns]"
      ]
     },
     "execution_count": 2,
     "metadata": {},
     "output_type": "execute_result"
    }
   ],
   "source": [
    "url_sensor = \"https://github.com/AILAB-CEFET-RJ/qualiar/raw/main/NEW_TEST/Data/Sensores/sensores.zip\"\n",
    "\n",
    "response = requests.get(url_sensor)\n",
    "response.raise_for_status()\n",
    "\n",
    "zip_file = zipfile.ZipFile(io.BytesIO(response.content))\n",
    "\n",
    "print(\"Arquivos no ZIP:\")\n",
    "print(zip_file.namelist())\n",
    "\n",
    "with zip_file.open(zip_file.namelist()[0]) as file:\n",
    "    df_sensor = pd.read_csv(file)  \n",
    "\n",
    "df_sensor.head()"
   ]
  },
  {
   "cell_type": "code",
   "execution_count": 3,
   "metadata": {
    "colab": {
     "base_uri": "https://localhost:8080/"
    },
    "executionInfo": {
     "elapsed": 8,
     "status": "ok",
     "timestamp": 1750346088392,
     "user": {
      "displayName": "João Terêncio",
      "userId": "14302965054076037047"
     },
     "user_tz": 180
    },
    "id": "I8DoZujMX7Hy",
    "outputId": "bec58b00-a4d5-4be3-c522-275e119ea7ef"
   },
   "outputs": [],
   "source": [
    "url_estacoes = 'https://raw.githubusercontent.com/AILAB-CEFET-RJ/qualiar/refs/heads/main/NEW_TEST/Data/Sensores/estacoes.csv'\n",
    "\n",
    "df_estacoes = pd.read_csv(url_estacoes, sep=',')\n",
    "\n",
    "url_qualidade_ar = 'https://raw.githubusercontent.com/AILAB-CEFET-RJ/qualiar/refs/heads/main/NEW_TEST/Data/Sensores/ind_qual_ar_17_24.csv'\n",
    "\n",
    "df_qualidade_ar = pd.read_csv(url_qualidade_ar, sep=',')"
   ]
  },
  {
   "cell_type": "markdown",
   "metadata": {
    "id": "-KWYSQmgDtki"
   },
   "source": [
    "# Pré-processamento"
   ]
  },
  {
   "cell_type": "markdown",
   "metadata": {
    "id": "q18psyhOH2hN"
   },
   "source": [
    "## Selecionando e criando colunas"
   ]
  },
  {
   "cell_type": "code",
   "execution_count": 5,
   "metadata": {
    "cellView": "form",
    "executionInfo": {
     "elapsed": 37,
     "status": "ok",
     "timestamp": 1750346090996,
     "user": {
      "displayName": "João Terêncio",
      "userId": "14302965054076037047"
     },
     "user_tz": 180
    },
    "id": "m2M9yDEpXZHc"
   },
   "outputs": [],
   "source": [
    "#@title Criando coluna nome estacao com base na coluna codnum\n",
    "df_sensor['nome_estacao'] = df_sensor['codnum'].map(df_estacoes.set_index('codnum')['nome'])"
   ]
  },
  {
   "cell_type": "code",
   "execution_count": 6,
   "metadata": {
    "cellView": "form",
    "executionInfo": {
     "elapsed": 5500,
     "status": "ok",
     "timestamp": 1750346096522,
     "user": {
      "displayName": "João Terêncio",
      "userId": "14302965054076037047"
     },
     "user_tz": 180
    },
    "id": "A9QJxIqs5mRT"
   },
   "outputs": [],
   "source": [
    "#@title Selecionando as colunas mais relevantes\n",
    "interest_columns = ['nome_estacao', 'data', 'chuva', 'temp', 'ur', 'co', 'no', 'no2', 'nox', 'so2', 'o3', 'pm10', 'pm2_5', 'lat', 'lon']\n",
    "\n",
    "df_sensor_interest = df_sensor[interest_columns]"
   ]
  },
  {
   "cell_type": "code",
   "execution_count": 7,
   "metadata": {
    "cellView": "form",
    "colab": {
     "base_uri": "https://localhost:8080/"
    },
    "executionInfo": {
     "elapsed": 733,
     "status": "ok",
     "timestamp": 1750346097258,
     "user": {
      "displayName": "João Terêncio",
      "userId": "14302965054076037047"
     },
     "user_tz": 180
    },
    "id": "08TM4o3W5mUB",
    "outputId": "204a2a51-81a0-4499-ac58-5b5b05ac762d"
   },
   "outputs": [
    {
     "name": "stderr",
     "output_type": "stream",
     "text": [
      "/tmp/ipython-input-7-1024544581.py:2: SettingWithCopyWarning: \n",
      "A value is trying to be set on a copy of a slice from a DataFrame.\n",
      "Try using .loc[row_indexer,col_indexer] = value instead\n",
      "\n",
      "See the caveats in the documentation: https://pandas.pydata.org/pandas-docs/stable/user_guide/indexing.html#returning-a-view-versus-a-copy\n",
      "  df_sensor_interest['data'] = pd.to_datetime(df_sensor_interest['data'], format='%m/%d/%Y %I:%M:%S %p')\n",
      "/tmp/ipython-input-7-1024544581.py:3: SettingWithCopyWarning: \n",
      "A value is trying to be set on a copy of a slice from a DataFrame.\n",
      "Try using .loc[row_indexer,col_indexer] = value instead\n",
      "\n",
      "See the caveats in the documentation: https://pandas.pydata.org/pandas-docs/stable/user_guide/indexing.html#returning-a-view-versus-a-copy\n",
      "  df_sensor_interest['data_formatada'] = pd.to_datetime(df_sensor_interest['data']).dt.strftime('%Y-%m-%d')\n",
      "/tmp/ipython-input-7-1024544581.py:4: SettingWithCopyWarning: \n",
      "A value is trying to be set on a copy of a slice from a DataFrame.\n",
      "Try using .loc[row_indexer,col_indexer] = value instead\n",
      "\n",
      "See the caveats in the documentation: https://pandas.pydata.org/pandas-docs/stable/user_guide/indexing.html#returning-a-view-versus-a-copy\n",
      "  df_sensor_interest['ano'] = df_sensor_interest['data'].dt.year\n",
      "/tmp/ipython-input-7-1024544581.py:5: SettingWithCopyWarning: \n",
      "A value is trying to be set on a copy of a slice from a DataFrame.\n",
      "Try using .loc[row_indexer,col_indexer] = value instead\n",
      "\n",
      "See the caveats in the documentation: https://pandas.pydata.org/pandas-docs/stable/user_guide/indexing.html#returning-a-view-versus-a-copy\n",
      "  df_sensor_interest['mes'] = df_sensor_interest['data'].dt.month\n"
     ]
    }
   ],
   "source": [
    "#@title Criando colunas de ano e mês para facilitar a análise temporal\n",
    "df_sensor_interest['data'] = pd.to_datetime(df_sensor_interest['data'], format='%m/%d/%Y %I:%M:%S %p')\n",
    "df_sensor_interest['data_formatada'] = pd.to_datetime(df_sensor_interest['data']).dt.strftime('%Y-%m-%d')\n",
    "df_sensor_interest['ano'] = df_sensor_interest['data'].dt.year\n",
    "df_sensor_interest['mes'] = df_sensor_interest['data'].dt.month"
   ]
  },
  {
   "cell_type": "code",
   "execution_count": 8,
   "metadata": {
    "cellView": "form",
    "executionInfo": {
     "elapsed": 90,
     "status": "ok",
     "timestamp": 1750346097351,
     "user": {
      "displayName": "João Terêncio",
      "userId": "14302965054076037047"
     },
     "user_tz": 180
    },
    "id": "010BKMPF5mWa"
   },
   "outputs": [],
   "source": [
    "#@title Removendo ano de 2011 (Pela falta de alguns poluente) e anos da pandemia\n",
    "df_sensor_interest_filtered = df_sensor_interest[df_sensor_interest['ano'] > 2011]"
   ]
  },
  {
   "cell_type": "code",
   "execution_count": 9,
   "metadata": {
    "executionInfo": {
     "elapsed": 85,
     "status": "ok",
     "timestamp": 1750346097440,
     "user": {
      "displayName": "João Terêncio",
      "userId": "14302965054076037047"
     },
     "user_tz": 180
    },
    "id": "_c6j_tgIdxeL"
   },
   "outputs": [],
   "source": [
    "#@title Filtrando por Centro\n",
    "df_sensor_centro = df_sensor_interest_filtered[df_sensor_interest_filtered['nome_estacao'] == 'ESTAÇÃO CENTRO']"
   ]
  },
  {
   "cell_type": "code",
   "execution_count": 10,
   "metadata": {
    "executionInfo": {
     "elapsed": 140,
     "status": "ok",
     "timestamp": 1750346097584,
     "user": {
      "displayName": "João Terêncio",
      "userId": "14302965054076037047"
     },
     "user_tz": 180
    },
    "id": "j7_46R0jVHDo"
   },
   "outputs": [],
   "source": [
    "df_qualidade_ar['data_formatada'] = pd.to_datetime(df_qualidade_ar['data']).dt.strftime('%Y-%m-%d')\n",
    "df_qualidade_ar_bangu = df_qualidade_ar[df_qualidade_ar['estacao_nome'] == 'Centro']"
   ]
  },
  {
   "cell_type": "markdown",
   "metadata": {
    "id": "gmWkUcmdIpux"
   },
   "source": [
    "# Tratando colunas de interesse por Estação de monitoriamento\n"
   ]
  },
  {
   "cell_type": "markdown",
   "metadata": {
    "id": "yLqNrnrAN4w-"
   },
   "source": [
    "## Estação centro\n",
    "Colunas normalizadas: Chuva, Temperatura, Umidade relativa, CO, NO, NO2, NOx, SO2, O3, PM10"
   ]
  },
  {
   "cell_type": "markdown",
   "metadata": {
    "id": "9ymtlIMxOidV"
   },
   "source": [
    "### Chuva"
   ]
  },
  {
   "cell_type": "code",
   "execution_count": 11,
   "metadata": {
    "colab": {
     "base_uri": "https://localhost:8080/",
     "height": 0
    },
    "executionInfo": {
     "elapsed": 30,
     "status": "ok",
     "timestamp": 1750346097641,
     "user": {
      "displayName": "João Terêncio",
      "userId": "14302965054076037047"
     },
     "user_tz": 180
    },
    "id": "24M_cJnzP4gK",
    "outputId": "318acb44-d0a0-4587-e6d8-e85fda7e77cc"
   },
   "outputs": [
    {
     "data": {
      "text/html": [
       "<div>\n",
       "<style scoped>\n",
       "    .dataframe tbody tr th:only-of-type {\n",
       "        vertical-align: middle;\n",
       "    }\n",
       "\n",
       "    .dataframe tbody tr th {\n",
       "        vertical-align: top;\n",
       "    }\n",
       "\n",
       "    .dataframe thead th {\n",
       "        text-align: right;\n",
       "    }\n",
       "</style>\n",
       "<table border=\"1\" class=\"dataframe\">\n",
       "  <thead>\n",
       "    <tr style=\"text-align: right;\">\n",
       "      <th></th>\n",
       "      <th>chuva</th>\n",
       "    </tr>\n",
       "  </thead>\n",
       "  <tbody>\n",
       "    <tr>\n",
       "      <th>count</th>\n",
       "      <td>101505.000000</td>\n",
       "    </tr>\n",
       "    <tr>\n",
       "      <th>mean</th>\n",
       "      <td>0.118514</td>\n",
       "    </tr>\n",
       "    <tr>\n",
       "      <th>std</th>\n",
       "      <td>1.031353</td>\n",
       "    </tr>\n",
       "    <tr>\n",
       "      <th>min</th>\n",
       "      <td>0.000000</td>\n",
       "    </tr>\n",
       "    <tr>\n",
       "      <th>25%</th>\n",
       "      <td>0.000000</td>\n",
       "    </tr>\n",
       "    <tr>\n",
       "      <th>50%</th>\n",
       "      <td>0.000000</td>\n",
       "    </tr>\n",
       "    <tr>\n",
       "      <th>75%</th>\n",
       "      <td>0.000000</td>\n",
       "    </tr>\n",
       "    <tr>\n",
       "      <th>max</th>\n",
       "      <td>65.600000</td>\n",
       "    </tr>\n",
       "  </tbody>\n",
       "</table>\n",
       "</div><br><label><b>dtype:</b> float64</label>"
      ],
      "text/plain": [
       "count    101505.000000\n",
       "mean          0.118514\n",
       "std           1.031353\n",
       "min           0.000000\n",
       "25%           0.000000\n",
       "50%           0.000000\n",
       "75%           0.000000\n",
       "max          65.600000\n",
       "Name: chuva, dtype: float64"
      ]
     },
     "execution_count": 11,
     "metadata": {},
     "output_type": "execute_result"
    }
   ],
   "source": [
    "df_sensor_centro['chuva'].describe()"
   ]
  },
  {
   "cell_type": "code",
   "execution_count": 12,
   "metadata": {
    "cellView": "form",
    "colab": {
     "base_uri": "https://localhost:8080/"
    },
    "executionInfo": {
     "elapsed": 37,
     "status": "ok",
     "timestamp": 1750346097671,
     "user": {
      "displayName": "João Terêncio",
      "userId": "14302965054076037047"
     },
     "user_tz": 180
    },
    "id": "Ntw7zXT0Q6zx",
    "outputId": "f6e3fe17-7af3-4d91-e777-3872c436eaaf"
   },
   "outputs": [
    {
     "name": "stdout",
     "output_type": "stream",
     "text": [
      "Quantidade de valores vazios: 12474\n"
     ]
    }
   ],
   "source": [
    "#@title Vendo quantidade de valores vazios\n",
    "\n",
    "valroes_vazio = df_sensor_centro[df_sensor_centro['chuva'].isnull()].groupby(['ano', 'mes']).size().sum()\n",
    "print(f\"Quantidade de valores vazios: {valroes_vazio}\")"
   ]
  },
  {
   "cell_type": "code",
   "execution_count": 13,
   "metadata": {
    "cellView": "form",
    "colab": {
     "base_uri": "https://localhost:8080/"
    },
    "executionInfo": {
     "elapsed": 12,
     "status": "ok",
     "timestamp": 1750346097684,
     "user": {
      "displayName": "João Terêncio",
      "userId": "14302965054076037047"
     },
     "user_tz": 180
    },
    "id": "wfMEwBEEwJph",
    "outputId": "ea72204e-7474-4a86-e302-e2b1931e5fb8"
   },
   "outputs": [
    {
     "name": "stderr",
     "output_type": "stream",
     "text": [
      "/tmp/ipython-input-13-3704986875.py:3: SettingWithCopyWarning: \n",
      "A value is trying to be set on a copy of a slice from a DataFrame.\n",
      "Try using .loc[row_indexer,col_indexer] = value instead\n",
      "\n",
      "See the caveats in the documentation: https://pandas.pydata.org/pandas-docs/stable/user_guide/indexing.html#returning-a-view-versus-a-copy\n",
      "  df_sensor_centro['chuva_nulos_no_dia'] = (\n"
     ]
    }
   ],
   "source": [
    "#@title Criando coluna que informa a quantidade de valores vazios por dia\n",
    "\n",
    "df_sensor_centro['chuva_nulos_no_dia'] = (\n",
    "    df_sensor_centro['chuva'].isnull()\n",
    "    .groupby(df_sensor_centro['data_formatada'])\n",
    "    .transform('sum')  # Soma os nulos por dia e repete o valor em todas as linhas do dia\n",
    ")"
   ]
  },
  {
   "cell_type": "code",
   "execution_count": 14,
   "metadata": {
    "cellView": "form",
    "colab": {
     "base_uri": "https://localhost:8080/",
     "height": 0
    },
    "executionInfo": {
     "elapsed": 338,
     "status": "ok",
     "timestamp": 1750346098025,
     "user": {
      "displayName": "João Terêncio",
      "userId": "14302965054076037047"
     },
     "user_tz": 180
    },
    "id": "jYMgiW_cHPBb",
    "outputId": "e5564a98-b2a3-4279-d966-ec7b7e0f59cf"
   },
   "outputs": [
    {
     "data": {
      "image/png": "[encoded data removed]",
      "text/plain": [
       "<Figure size 1000x600 with 1 Axes>"
      ]
     },
     "metadata": {},
     "output_type": "display_data"
    }
   ],
   "source": [
    "#@title Distribuição dos valores vazios\n",
    "\n",
    "# Seleciona uma única linha por dia, para evitar repetição\n",
    "df_dias = df_sensor_centro[df_sensor_centro['chuva_nulos_no_dia'] != 0].groupby('data_formatada')['chuva_nulos_no_dia'].first()\n",
    "\n",
    "# Plotar o histograma da contagem de valores nulos por dia\n",
    "plt.figure(figsize=(10,6))\n",
    "plt.hist(df_dias, bins=range(0, df_dias.max() + 2), edgecolor='black', align='left')\n",
    "plt.title('Histograma de Quantidade de Valores Vazios em \"chuva\" por Dia')\n",
    "plt.xlabel('Quantidade de valores vazios no dia')\n",
    "plt.ylabel('Número de dias')\n",
    "plt.xticks(range(0, df_dias.max() + 1))\n",
    "plt.grid(axis='y', alpha=0.75)\n",
    "plt.show()"
   ]
  },
  {
   "cell_type": "code",
   "execution_count": 15,
   "metadata": {
    "cellView": "form",
    "colab": {
     "base_uri": "https://localhost:8080/"
    },
    "executionInfo": {
     "elapsed": 32,
     "status": "ok",
     "timestamp": 1750346098061,
     "user": {
      "displayName": "João Terêncio",
      "userId": "14302965054076037047"
     },
     "user_tz": 180
    },
    "id": "CUSCMdfvRRAo",
    "outputId": "2b3ec778-91fb-4812-c7f4-28a9bc4a9e3c"
   },
   "outputs": [
    {
     "name": "stdout",
     "output_type": "stream",
     "text": [
      "259 linhas foram preenchidas com interpolate na coluna 'chuva'.\n",
      "Foram preenchido 2% de dados\n"
     ]
    }
   ],
   "source": [
    "#@title Preenchimento dos valores nulos utilizando a função interpolate (Preenchendo apenas os que tem menos de 7 linhas vazias)\n",
    "\n",
    "mask = (df_sensor_centro['chuva_nulos_no_dia'] <= 6)\n",
    "\n",
    "num_nulls = df_sensor_centro[mask]['chuva'].isnull().sum()\n",
    "df_sensor_centro.loc[mask, 'chuva'] = df_sensor_centro[mask]['chuva'].interpolate()\n",
    "print(f\"{num_nulls} linhas foram preenchidas com interpolate na coluna 'chuva'.\")\n",
    "print(f\"Foram preenchido {round((num_nulls/valroes_vazio)*100)}% de dados\")"
   ]
  },
  {
   "cell_type": "code",
   "execution_count": 16,
   "metadata": {
    "colab": {
     "base_uri": "https://localhost:8080/",
     "height": 0
    },
    "executionInfo": {
     "elapsed": 16,
     "status": "ok",
     "timestamp": 1750346098079,
     "user": {
      "displayName": "João Terêncio",
      "userId": "14302965054076037047"
     },
     "user_tz": 180
    },
    "id": "97-NgrgDRt33",
    "outputId": "d7cae975-98de-4d46-db2e-04df0feb74cf"
   },
   "outputs": [
    {
     "data": {
      "text/html": [
       "<div>\n",
       "<style scoped>\n",
       "    .dataframe tbody tr th:only-of-type {\n",
       "        vertical-align: middle;\n",
       "    }\n",
       "\n",
       "    .dataframe tbody tr th {\n",
       "        vertical-align: top;\n",
       "    }\n",
       "\n",
       "    .dataframe thead th {\n",
       "        text-align: right;\n",
       "    }\n",
       "</style>\n",
       "<table border=\"1\" class=\"dataframe\">\n",
       "  <thead>\n",
       "    <tr style=\"text-align: right;\">\n",
       "      <th></th>\n",
       "      <th>chuva</th>\n",
       "    </tr>\n",
       "  </thead>\n",
       "  <tbody>\n",
       "    <tr>\n",
       "      <th>count</th>\n",
       "      <td>101764.000000</td>\n",
       "    </tr>\n",
       "    <tr>\n",
       "      <th>mean</th>\n",
       "      <td>0.118641</td>\n",
       "    </tr>\n",
       "    <tr>\n",
       "      <th>std</th>\n",
       "      <td>1.030615</td>\n",
       "    </tr>\n",
       "    <tr>\n",
       "      <th>min</th>\n",
       "      <td>0.000000</td>\n",
       "    </tr>\n",
       "    <tr>\n",
       "      <th>25%</th>\n",
       "      <td>0.000000</td>\n",
       "    </tr>\n",
       "    <tr>\n",
       "      <th>50%</th>\n",
       "      <td>0.000000</td>\n",
       "    </tr>\n",
       "    <tr>\n",
       "      <th>75%</th>\n",
       "      <td>0.000000</td>\n",
       "    </tr>\n",
       "    <tr>\n",
       "      <th>max</th>\n",
       "      <td>65.600000</td>\n",
       "    </tr>\n",
       "  </tbody>\n",
       "</table>\n",
       "</div><br><label><b>dtype:</b> float64</label>"
      ],
      "text/plain": [
       "count    101764.000000\n",
       "mean          0.118641\n",
       "std           1.030615\n",
       "min           0.000000\n",
       "25%           0.000000\n",
       "50%           0.000000\n",
       "75%           0.000000\n",
       "max          65.600000\n",
       "Name: chuva, dtype: float64"
      ]
     },
     "execution_count": 16,
     "metadata": {},
     "output_type": "execute_result"
    }
   ],
   "source": [
    "df_sensor_centro['chuva'].describe()"
   ]
  },
  {
   "cell_type": "markdown",
   "metadata": {
    "id": "1XA1vvw_JYeW"
   },
   "source": [
    "### Temperatura"
   ]
  },
  {
   "cell_type": "code",
   "execution_count": 17,
   "metadata": {
    "colab": {
     "base_uri": "https://localhost:8080/",
     "height": 0
    },
    "executionInfo": {
     "elapsed": 46,
     "status": "ok",
     "timestamp": 1750346098128,
     "user": {
      "displayName": "João Terêncio",
      "userId": "14302965054076037047"
     },
     "user_tz": 180
    },
    "id": "_9XmZnxbJYeW",
    "outputId": "749247eb-a358-4120-dd20-3122dba39160"
   },
   "outputs": [
    {
     "data": {
      "text/html": [
       "<div>\n",
       "<style scoped>\n",
       "    .dataframe tbody tr th:only-of-type {\n",
       "        vertical-align: middle;\n",
       "    }\n",
       "\n",
       "    .dataframe tbody tr th {\n",
       "        vertical-align: top;\n",
       "    }\n",
       "\n",
       "    .dataframe thead th {\n",
       "        text-align: right;\n",
       "    }\n",
       "</style>\n",
       "<table border=\"1\" class=\"dataframe\">\n",
       "  <thead>\n",
       "    <tr style=\"text-align: right;\">\n",
       "      <th></th>\n",
       "      <th>temp</th>\n",
       "    </tr>\n",
       "  </thead>\n",
       "  <tbody>\n",
       "    <tr>\n",
       "      <th>count</th>\n",
       "      <td>87763.000000</td>\n",
       "    </tr>\n",
       "    <tr>\n",
       "      <th>mean</th>\n",
       "      <td>25.543481</td>\n",
       "    </tr>\n",
       "    <tr>\n",
       "      <th>std</th>\n",
       "      <td>4.307185</td>\n",
       "    </tr>\n",
       "    <tr>\n",
       "      <th>min</th>\n",
       "      <td>0.000000</td>\n",
       "    </tr>\n",
       "    <tr>\n",
       "      <th>25%</th>\n",
       "      <td>22.470000</td>\n",
       "    </tr>\n",
       "    <tr>\n",
       "      <th>50%</th>\n",
       "      <td>25.100000</td>\n",
       "    </tr>\n",
       "    <tr>\n",
       "      <th>75%</th>\n",
       "      <td>28.150000</td>\n",
       "    </tr>\n",
       "    <tr>\n",
       "      <th>max</th>\n",
       "      <td>44.300000</td>\n",
       "    </tr>\n",
       "  </tbody>\n",
       "</table>\n",
       "</div><br><label><b>dtype:</b> float64</label>"
      ],
      "text/plain": [
       "count    87763.000000\n",
       "mean        25.543481\n",
       "std          4.307185\n",
       "min          0.000000\n",
       "25%         22.470000\n",
       "50%         25.100000\n",
       "75%         28.150000\n",
       "max         44.300000\n",
       "Name: temp, dtype: float64"
      ]
     },
     "execution_count": 17,
     "metadata": {},
     "output_type": "execute_result"
    }
   ],
   "source": [
    "df_sensor_centro['temp'].describe()"
   ]
  },
  {
   "cell_type": "code",
   "execution_count": 18,
   "metadata": {
    "cellView": "form",
    "colab": {
     "base_uri": "https://localhost:8080/"
    },
    "executionInfo": {
     "elapsed": 30,
     "status": "ok",
     "timestamp": 1750346098129,
     "user": {
      "displayName": "João Terêncio",
      "userId": "14302965054076037047"
     },
     "user_tz": 180
    },
    "id": "YEPrxSuZJYeX",
    "outputId": "2ae3218f-8650-4bdb-82fb-18fa966ce635"
   },
   "outputs": [
    {
     "name": "stdout",
     "output_type": "stream",
     "text": [
      "Quantidade de valores vazios: 26216\n"
     ]
    }
   ],
   "source": [
    "#@title Vendo quantidade de valores vazios\n",
    "\n",
    "valroes_vazio = df_sensor_centro[df_sensor_centro['temp'].isnull()].groupby(['ano', 'mes']).size().sum()\n",
    "print(f\"Quantidade de valores vazios: {valroes_vazio}\")"
   ]
  },
  {
   "cell_type": "code",
   "execution_count": 19,
   "metadata": {
    "cellView": "form",
    "colab": {
     "base_uri": "https://localhost:8080/"
    },
    "executionInfo": {
     "elapsed": 14,
     "status": "ok",
     "timestamp": 1750346098130,
     "user": {
      "displayName": "João Terêncio",
      "userId": "14302965054076037047"
     },
     "user_tz": 180
    },
    "id": "N0LIJac7JYeX",
    "outputId": "9244764d-0ce3-448d-9430-97476e5d9f23"
   },
   "outputs": [
    {
     "name": "stderr",
     "output_type": "stream",
     "text": [
      "/tmp/ipython-input-19-3151536540.py:3: SettingWithCopyWarning: \n",
      "A value is trying to be set on a copy of a slice from a DataFrame.\n",
      "Try using .loc[row_indexer,col_indexer] = value instead\n",
      "\n",
      "See the caveats in the documentation: https://pandas.pydata.org/pandas-docs/stable/user_guide/indexing.html#returning-a-view-versus-a-copy\n",
      "  df_sensor_centro['temp_nulos_no_dia'] = (\n"
     ]
    }
   ],
   "source": [
    "#@title Criando coluna que informa a quantidade de valores vazios por dia\n",
    "\n",
    "df_sensor_centro['temp_nulos_no_dia'] = (\n",
    "    df_sensor_centro['temp'].isnull()\n",
    "    .groupby(df_sensor_centro['data_formatada'])\n",
    "    .transform('sum')  # Soma os nulos por dia e repete o valor em todas as linhas do dia\n",
    ")"
   ]
  },
  {
   "cell_type": "code",
   "execution_count": 20,
   "metadata": {
    "cellView": "form",
    "colab": {
     "base_uri": "https://localhost:8080/",
     "height": 0
    },
    "executionInfo": {
     "elapsed": 251,
     "status": "ok",
     "timestamp": 1750346098376,
     "user": {
      "displayName": "João Terêncio",
      "userId": "14302965054076037047"
     },
     "user_tz": 180
    },
    "id": "H54zUgYSJYeY",
    "outputId": "c8976767-7a82-46a8-bb39-f6ffd793a33b"
   },
   "outputs": [
    {
     "data": {
      "image/png": "[encoded data removed]",
      "text/plain": [
       "<Figure size 1000x600 with 1 Axes>"
      ]
     },
     "metadata": {},
     "output_type": "display_data"
    }
   ],
   "source": [
    "#@title Distribuição dos valores vazios\n",
    "\n",
    "# Seleciona uma única linha por dia, para evitar repetição\n",
    "df_dias = df_sensor_centro[df_sensor_centro['temp_nulos_no_dia'] != 0].groupby('data_formatada')['temp_nulos_no_dia'].first()\n",
    "\n",
    "# Plotar o histograma da contagem de valores nulos por dia\n",
    "plt.figure(figsize=(10,6))\n",
    "plt.hist(df_dias, bins=range(0, df_dias.max() + 2), edgecolor='black', align='left')\n",
    "plt.title('Histograma de Quantidade de Valores Vazios em \"temp\" por Dia')\n",
    "plt.xlabel('Quantidade de valores vazios no dia')\n",
    "plt.ylabel('Número de dias')\n",
    "plt.xticks(range(0, df_dias.max() + 1))\n",
    "plt.grid(axis='y', alpha=0.75)\n",
    "plt.show()"
   ]
  },
  {
   "cell_type": "code",
   "execution_count": 21,
   "metadata": {
    "cellView": "form",
    "colab": {
     "base_uri": "https://localhost:8080/"
    },
    "executionInfo": {
     "elapsed": 22,
     "status": "ok",
     "timestamp": 1750346098396,
     "user": {
      "displayName": "João Terêncio",
      "userId": "14302965054076037047"
     },
     "user_tz": 180
    },
    "id": "2sCGqFWvJYeY",
    "outputId": "cc0ef665-d49c-4deb-d73c-a9f03539e73c"
   },
   "outputs": [
    {
     "name": "stdout",
     "output_type": "stream",
     "text": [
      "370 linhas foram preenchidas com interpolate na coluna 'temp'.\n",
      "Foram preenchido 1% de dados\n"
     ]
    }
   ],
   "source": [
    "#@title Preenchimento dos valores nulos utilizando a função interpolate (Preenchendo apenas os que tem menos de 7 linhas vazias por dia)\n",
    "\n",
    "mask = (df_sensor_centro['temp_nulos_no_dia'] <= 6)\n",
    "\n",
    "num_nulls = df_sensor_centro[mask]['temp'].isnull().sum()\n",
    "df_sensor_centro.loc[mask, 'temp'] = df_sensor_centro[mask]['temp'].interpolate()\n",
    "print(f\"{num_nulls} linhas foram preenchidas com interpolate na coluna 'temp'.\")\n",
    "print(f\"Foram preenchido {round((num_nulls/valroes_vazio)*100)}% de dados\")"
   ]
  },
  {
   "cell_type": "code",
   "execution_count": 22,
   "metadata": {
    "colab": {
     "base_uri": "https://localhost:8080/",
     "height": 0
    },
    "executionInfo": {
     "elapsed": 18,
     "status": "ok",
     "timestamp": 1750346098412,
     "user": {
      "displayName": "João Terêncio",
      "userId": "14302965054076037047"
     },
     "user_tz": 180
    },
    "id": "2KWSCe6RJYeY",
    "outputId": "b1e55869-ac0d-435e-a5af-80ce71cd13a7"
   },
   "outputs": [
    {
     "data": {
      "text/html": [
       "<div>\n",
       "<style scoped>\n",
       "    .dataframe tbody tr th:only-of-type {\n",
       "        vertical-align: middle;\n",
       "    }\n",
       "\n",
       "    .dataframe tbody tr th {\n",
       "        vertical-align: top;\n",
       "    }\n",
       "\n",
       "    .dataframe thead th {\n",
       "        text-align: right;\n",
       "    }\n",
       "</style>\n",
       "<table border=\"1\" class=\"dataframe\">\n",
       "  <thead>\n",
       "    <tr style=\"text-align: right;\">\n",
       "      <th></th>\n",
       "      <th>temp</th>\n",
       "    </tr>\n",
       "  </thead>\n",
       "  <tbody>\n",
       "    <tr>\n",
       "      <th>count</th>\n",
       "      <td>88132.000000</td>\n",
       "    </tr>\n",
       "    <tr>\n",
       "      <th>mean</th>\n",
       "      <td>25.544969</td>\n",
       "    </tr>\n",
       "    <tr>\n",
       "      <th>std</th>\n",
       "      <td>4.306163</td>\n",
       "    </tr>\n",
       "    <tr>\n",
       "      <th>min</th>\n",
       "      <td>0.000000</td>\n",
       "    </tr>\n",
       "    <tr>\n",
       "      <th>25%</th>\n",
       "      <td>22.470000</td>\n",
       "    </tr>\n",
       "    <tr>\n",
       "      <th>50%</th>\n",
       "      <td>25.100000</td>\n",
       "    </tr>\n",
       "    <tr>\n",
       "      <th>75%</th>\n",
       "      <td>28.150000</td>\n",
       "    </tr>\n",
       "    <tr>\n",
       "      <th>max</th>\n",
       "      <td>44.300000</td>\n",
       "    </tr>\n",
       "  </tbody>\n",
       "</table>\n",
       "</div><br><label><b>dtype:</b> float64</label>"
      ],
      "text/plain": [
       "count    88132.000000\n",
       "mean        25.544969\n",
       "std          4.306163\n",
       "min          0.000000\n",
       "25%         22.470000\n",
       "50%         25.100000\n",
       "75%         28.150000\n",
       "max         44.300000\n",
       "Name: temp, dtype: float64"
      ]
     },
     "execution_count": 22,
     "metadata": {},
     "output_type": "execute_result"
    }
   ],
   "source": [
    "df_sensor_centro['temp'].describe()"
   ]
  },
  {
   "cell_type": "markdown",
   "metadata": {
    "id": "Kw4EN6nOJ7wi"
   },
   "source": [
    "### Umidade relativa"
   ]
  },
  {
   "cell_type": "code",
   "execution_count": 23,
   "metadata": {
    "colab": {
     "base_uri": "https://localhost:8080/",
     "height": 0
    },
    "executionInfo": {
     "elapsed": 72,
     "status": "ok",
     "timestamp": 1750346098486,
     "user": {
      "displayName": "João Terêncio",
      "userId": "14302965054076037047"
     },
     "user_tz": 180
    },
    "id": "Zh2KIpc2J7wj",
    "outputId": "1621e9eb-f8fd-4269-dcca-0496bb6cd25a"
   },
   "outputs": [
    {
     "data": {
      "text/html": [
       "<div>\n",
       "<style scoped>\n",
       "    .dataframe tbody tr th:only-of-type {\n",
       "        vertical-align: middle;\n",
       "    }\n",
       "\n",
       "    .dataframe tbody tr th {\n",
       "        vertical-align: top;\n",
       "    }\n",
       "\n",
       "    .dataframe thead th {\n",
       "        text-align: right;\n",
       "    }\n",
       "</style>\n",
       "<table border=\"1\" class=\"dataframe\">\n",
       "  <thead>\n",
       "    <tr style=\"text-align: right;\">\n",
       "      <th></th>\n",
       "      <th>ur</th>\n",
       "    </tr>\n",
       "  </thead>\n",
       "  <tbody>\n",
       "    <tr>\n",
       "      <th>count</th>\n",
       "      <td>87529.000000</td>\n",
       "    </tr>\n",
       "    <tr>\n",
       "      <th>mean</th>\n",
       "      <td>70.482334</td>\n",
       "    </tr>\n",
       "    <tr>\n",
       "      <th>std</th>\n",
       "      <td>16.757519</td>\n",
       "    </tr>\n",
       "    <tr>\n",
       "      <th>min</th>\n",
       "      <td>0.000000</td>\n",
       "    </tr>\n",
       "    <tr>\n",
       "      <th>25%</th>\n",
       "      <td>59.220000</td>\n",
       "    </tr>\n",
       "    <tr>\n",
       "      <th>50%</th>\n",
       "      <td>72.950000</td>\n",
       "    </tr>\n",
       "    <tr>\n",
       "      <th>75%</th>\n",
       "      <td>83.510000</td>\n",
       "    </tr>\n",
       "    <tr>\n",
       "      <th>max</th>\n",
       "      <td>100.000000</td>\n",
       "    </tr>\n",
       "  </tbody>\n",
       "</table>\n",
       "</div><br><label><b>dtype:</b> float64</label>"
      ],
      "text/plain": [
       "count    87529.000000\n",
       "mean        70.482334\n",
       "std         16.757519\n",
       "min          0.000000\n",
       "25%         59.220000\n",
       "50%         72.950000\n",
       "75%         83.510000\n",
       "max        100.000000\n",
       "Name: ur, dtype: float64"
      ]
     },
     "execution_count": 23,
     "metadata": {},
     "output_type": "execute_result"
    }
   ],
   "source": [
    "df_sensor_centro['ur'].describe()"
   ]
  },
  {
   "cell_type": "code",
   "execution_count": 24,
   "metadata": {
    "cellView": "form",
    "colab": {
     "base_uri": "https://localhost:8080/"
    },
    "executionInfo": {
     "elapsed": 59,
     "status": "ok",
     "timestamp": 1750346098487,
     "user": {
      "displayName": "João Terêncio",
      "userId": "14302965054076037047"
     },
     "user_tz": 180
    },
    "id": "p6gLkSsQJ7wk",
    "outputId": "e4225337-5f64-4579-a67a-38236e6bd5cf"
   },
   "outputs": [
    {
     "name": "stdout",
     "output_type": "stream",
     "text": [
      "Quantidade de valores vazios: 26450\n"
     ]
    }
   ],
   "source": [
    "#@title Vendo quantidade de valores vazios\n",
    "\n",
    "valroes_vazio = df_sensor_centro[df_sensor_centro['ur'].isnull()].groupby(['ano', 'mes']).size().sum()\n",
    "print(f\"Quantidade de valores vazios: {valroes_vazio}\")"
   ]
  },
  {
   "cell_type": "code",
   "execution_count": 25,
   "metadata": {
    "cellView": "form",
    "colab": {
     "base_uri": "https://localhost:8080/"
    },
    "executionInfo": {
     "elapsed": 18,
     "status": "ok",
     "timestamp": 1750346098487,
     "user": {
      "displayName": "João Terêncio",
      "userId": "14302965054076037047"
     },
     "user_tz": 180
    },
    "id": "p6USmMKRJ7wk",
    "outputId": "e59b7b7f-242a-480a-a845-807404d983ec"
   },
   "outputs": [
    {
     "name": "stderr",
     "output_type": "stream",
     "text": [
      "/tmp/ipython-input-25-493231758.py:3: SettingWithCopyWarning: \n",
      "A value is trying to be set on a copy of a slice from a DataFrame.\n",
      "Try using .loc[row_indexer,col_indexer] = value instead\n",
      "\n",
      "See the caveats in the documentation: https://pandas.pydata.org/pandas-docs/stable/user_guide/indexing.html#returning-a-view-versus-a-copy\n",
      "  df_sensor_centro['ur_nulos_no_dia'] = (\n"
     ]
    }
   ],
   "source": [
    "#@title Criando coluna que informa a quantidade de valores vazios por dia\n",
    "\n",
    "df_sensor_centro['ur_nulos_no_dia'] = (\n",
    "    df_sensor_centro['ur'].isnull()\n",
    "    .groupby(df_sensor_centro['data_formatada'])\n",
    "    .transform('sum')  # Soma os nulos por dia e repete o valor em todas as linhas do dia\n",
    ")"
   ]
  },
  {
   "cell_type": "code",
   "execution_count": 26,
   "metadata": {
    "cellView": "form",
    "colab": {
     "base_uri": "https://localhost:8080/",
     "height": 0
    },
    "executionInfo": {
     "elapsed": 377,
     "status": "ok",
     "timestamp": 1750346098859,
     "user": {
      "displayName": "João Terêncio",
      "userId": "14302965054076037047"
     },
     "user_tz": 180
    },
    "id": "eq-mDiJGJ7wk",
    "outputId": "3891204d-0902-47bd-998f-639bb653c40b"
   },
   "outputs": [
    {
     "data": {
      "image/png": "[encoded data removed]",
      "text/plain": [
       "<Figure size 1000x600 with 1 Axes>"
      ]
     },
     "metadata": {},
     "output_type": "display_data"
    }
   ],
   "source": [
    "#@title Distribuição dos valores vazios\n",
    "\n",
    "# Seleciona uma única linha por dia, para evitar repetição\n",
    "df_dias = df_sensor_centro[df_sensor_centro['ur_nulos_no_dia'] != 0].groupby('data_formatada')['ur_nulos_no_dia'].first()\n",
    "\n",
    "# Plotar o histograma da contagem de valores nulos por dia\n",
    "plt.figure(figsize=(10,6))\n",
    "plt.hist(df_dias, bins=range(0, df_dias.max() + 2), edgecolor='black', align='left')\n",
    "plt.title('Histograma de Quantidade de Valores Vazios em \"ur\" por Dia')\n",
    "plt.xlabel('Quantidade de valores vazios no dia')\n",
    "plt.ylabel('Número de dias')\n",
    "plt.xticks(range(0, df_dias.max() + 1))\n",
    "plt.grid(axis='y', alpha=0.75)\n",
    "plt.show()"
   ]
  },
  {
   "cell_type": "code",
   "execution_count": 27,
   "metadata": {
    "cellView": "form",
    "colab": {
     "base_uri": "https://localhost:8080/"
    },
    "executionInfo": {
     "elapsed": 17,
     "status": "ok",
     "timestamp": 1750346098879,
     "user": {
      "displayName": "João Terêncio",
      "userId": "14302965054076037047"
     },
     "user_tz": 180
    },
    "id": "wwI_91-_J7wk",
    "outputId": "5d354acf-64c2-414d-cd4a-5cc5ae70e306"
   },
   "outputs": [
    {
     "name": "stdout",
     "output_type": "stream",
     "text": [
      "461 linhas foram preenchidas com interpolate na coluna 'ur'.\n",
      "Foram preenchido 2% de dados\n"
     ]
    }
   ],
   "source": [
    "#@title Preenchimento dos valores nulos utilizando a função interpolate (Preenchendo apenas os que tem menos de 7 linhas vazias por dia)\n",
    "\n",
    "mask = (df_sensor_centro['ur_nulos_no_dia'] <= 6)\n",
    "\n",
    "num_nulls = df_sensor_centro[mask]['ur'].isnull().sum()\n",
    "df_sensor_centro.loc[mask, 'ur'] = df_sensor_centro[mask]['ur'].interpolate()\n",
    "print(f\"{num_nulls} linhas foram preenchidas com interpolate na coluna 'ur'.\")\n",
    "print(f\"Foram preenchido {round((num_nulls/valroes_vazio)*100)}% de dados\")"
   ]
  },
  {
   "cell_type": "code",
   "execution_count": 28,
   "metadata": {
    "colab": {
     "base_uri": "https://localhost:8080/",
     "height": 0
    },
    "executionInfo": {
     "elapsed": 9,
     "status": "ok",
     "timestamp": 1750346098891,
     "user": {
      "displayName": "João Terêncio",
      "userId": "14302965054076037047"
     },
     "user_tz": 180
    },
    "id": "pgz04UK9J7wl",
    "outputId": "4b843011-62d7-42fa-c219-2c0d2f689823"
   },
   "outputs": [
    {
     "data": {
      "text/html": [
       "<div>\n",
       "<style scoped>\n",
       "    .dataframe tbody tr th:only-of-type {\n",
       "        vertical-align: middle;\n",
       "    }\n",
       "\n",
       "    .dataframe tbody tr th {\n",
       "        vertical-align: top;\n",
       "    }\n",
       "\n",
       "    .dataframe thead th {\n",
       "        text-align: right;\n",
       "    }\n",
       "</style>\n",
       "<table border=\"1\" class=\"dataframe\">\n",
       "  <thead>\n",
       "    <tr style=\"text-align: right;\">\n",
       "      <th></th>\n",
       "      <th>ur</th>\n",
       "    </tr>\n",
       "  </thead>\n",
       "  <tbody>\n",
       "    <tr>\n",
       "      <th>count</th>\n",
       "      <td>87989.000000</td>\n",
       "    </tr>\n",
       "    <tr>\n",
       "      <th>mean</th>\n",
       "      <td>70.510245</td>\n",
       "    </tr>\n",
       "    <tr>\n",
       "      <th>std</th>\n",
       "      <td>16.772885</td>\n",
       "    </tr>\n",
       "    <tr>\n",
       "      <th>min</th>\n",
       "      <td>0.000000</td>\n",
       "    </tr>\n",
       "    <tr>\n",
       "      <th>25%</th>\n",
       "      <td>59.230000</td>\n",
       "    </tr>\n",
       "    <tr>\n",
       "      <th>50%</th>\n",
       "      <td>72.980000</td>\n",
       "    </tr>\n",
       "    <tr>\n",
       "      <th>75%</th>\n",
       "      <td>83.530000</td>\n",
       "    </tr>\n",
       "    <tr>\n",
       "      <th>max</th>\n",
       "      <td>100.000000</td>\n",
       "    </tr>\n",
       "  </tbody>\n",
       "</table>\n",
       "</div><br><label><b>dtype:</b> float64</label>"
      ],
      "text/plain": [
       "count    87989.000000\n",
       "mean        70.510245\n",
       "std         16.772885\n",
       "min          0.000000\n",
       "25%         59.230000\n",
       "50%         72.980000\n",
       "75%         83.530000\n",
       "max        100.000000\n",
       "Name: ur, dtype: float64"
      ]
     },
     "execution_count": 28,
     "metadata": {},
     "output_type": "execute_result"
    }
   ],
   "source": [
    "df_sensor_centro['ur'].describe()"
   ]
  },
  {
   "cell_type": "markdown",
   "metadata": {
    "id": "CCC7VEL1KuH4"
   },
   "source": [
    "### Monóxido de carbono"
   ]
  },
  {
   "cell_type": "code",
   "execution_count": 29,
   "metadata": {
    "colab": {
     "base_uri": "https://localhost:8080/",
     "height": 0
    },
    "executionInfo": {
     "elapsed": 15,
     "status": "ok",
     "timestamp": 1750346098908,
     "user": {
      "displayName": "João Terêncio",
      "userId": "14302965054076037047"
     },
     "user_tz": 180
    },
    "id": "9dpfUCUfKuH4",
    "outputId": "f9e83d58-1cf2-42ff-d7f8-b0c356746a1d"
   },
   "outputs": [
    {
     "data": {
      "text/html": [
       "<div>\n",
       "<style scoped>\n",
       "    .dataframe tbody tr th:only-of-type {\n",
       "        vertical-align: middle;\n",
       "    }\n",
       "\n",
       "    .dataframe tbody tr th {\n",
       "        vertical-align: top;\n",
       "    }\n",
       "\n",
       "    .dataframe thead th {\n",
       "        text-align: right;\n",
       "    }\n",
       "</style>\n",
       "<table border=\"1\" class=\"dataframe\">\n",
       "  <thead>\n",
       "    <tr style=\"text-align: right;\">\n",
       "      <th></th>\n",
       "      <th>co</th>\n",
       "    </tr>\n",
       "  </thead>\n",
       "  <tbody>\n",
       "    <tr>\n",
       "      <th>count</th>\n",
       "      <td>103481.000000</td>\n",
       "    </tr>\n",
       "    <tr>\n",
       "      <th>mean</th>\n",
       "      <td>0.389074</td>\n",
       "    </tr>\n",
       "    <tr>\n",
       "      <th>std</th>\n",
       "      <td>0.245911</td>\n",
       "    </tr>\n",
       "    <tr>\n",
       "      <th>min</th>\n",
       "      <td>0.000000</td>\n",
       "    </tr>\n",
       "    <tr>\n",
       "      <th>25%</th>\n",
       "      <td>0.240000</td>\n",
       "    </tr>\n",
       "    <tr>\n",
       "      <th>50%</th>\n",
       "      <td>0.350000</td>\n",
       "    </tr>\n",
       "    <tr>\n",
       "      <th>75%</th>\n",
       "      <td>0.490000</td>\n",
       "    </tr>\n",
       "    <tr>\n",
       "      <th>max</th>\n",
       "      <td>3.920000</td>\n",
       "    </tr>\n",
       "  </tbody>\n",
       "</table>\n",
       "</div><br><label><b>dtype:</b> float64</label>"
      ],
      "text/plain": [
       "count    103481.000000\n",
       "mean          0.389074\n",
       "std           0.245911\n",
       "min           0.000000\n",
       "25%           0.240000\n",
       "50%           0.350000\n",
       "75%           0.490000\n",
       "max           3.920000\n",
       "Name: co, dtype: float64"
      ]
     },
     "execution_count": 29,
     "metadata": {},
     "output_type": "execute_result"
    }
   ],
   "source": [
    "df_sensor_centro['co'].describe()"
   ]
  },
  {
   "cell_type": "code",
   "execution_count": 30,
   "metadata": {
    "cellView": "form",
    "colab": {
     "base_uri": "https://localhost:8080/"
    },
    "executionInfo": {
     "elapsed": 24,
     "status": "ok",
     "timestamp": 1750346098929,
     "user": {
      "displayName": "João Terêncio",
      "userId": "14302965054076037047"
     },
     "user_tz": 180
    },
    "id": "Iph6vPoHKuH5",
    "outputId": "09acbbef-3181-4fe9-bbc8-3b98a73a9922"
   },
   "outputs": [
    {
     "name": "stdout",
     "output_type": "stream",
     "text": [
      "Quantidade de valores vazios: 10498\n"
     ]
    }
   ],
   "source": [
    "#@title Vendo quantidade de valores vazios\n",
    "\n",
    "valroes_vazio = df_sensor_centro[df_sensor_centro['co'].isnull()].groupby(['ano', 'mes']).size().sum()\n",
    "print(f\"Quantidade de valores vazios: {valroes_vazio}\")"
   ]
  },
  {
   "cell_type": "code",
   "execution_count": 31,
   "metadata": {
    "cellView": "form",
    "colab": {
     "base_uri": "https://localhost:8080/"
    },
    "executionInfo": {
     "elapsed": 15,
     "status": "ok",
     "timestamp": 1750346098946,
     "user": {
      "displayName": "João Terêncio",
      "userId": "14302965054076037047"
     },
     "user_tz": 180
    },
    "id": "NnwrJ1lqKuH5",
    "outputId": "d2ebd58d-c111-47ac-b6fd-3b8c6f1a9a3e"
   },
   "outputs": [
    {
     "name": "stderr",
     "output_type": "stream",
     "text": [
      "/tmp/ipython-input-31-480695643.py:3: SettingWithCopyWarning: \n",
      "A value is trying to be set on a copy of a slice from a DataFrame.\n",
      "Try using .loc[row_indexer,col_indexer] = value instead\n",
      "\n",
      "See the caveats in the documentation: https://pandas.pydata.org/pandas-docs/stable/user_guide/indexing.html#returning-a-view-versus-a-copy\n",
      "  df_sensor_centro['co_nulos_no_dia'] = (\n"
     ]
    }
   ],
   "source": [
    "#@title Criando coluna que informa a quantidade de valores vazios por dia\n",
    "\n",
    "df_sensor_centro['co_nulos_no_dia'] = (\n",
    "    df_sensor_centro['co'].isnull()\n",
    "    .groupby(df_sensor_centro['data_formatada'])\n",
    "    .transform('sum')  # Soma os nulos por dia e repete o valor em todas as linhas do dia\n",
    ")"
   ]
  },
  {
   "cell_type": "code",
   "execution_count": 32,
   "metadata": {
    "cellView": "form",
    "colab": {
     "base_uri": "https://localhost:8080/",
     "height": 0
    },
    "executionInfo": {
     "elapsed": 288,
     "status": "ok",
     "timestamp": 1750346099237,
     "user": {
      "displayName": "João Terêncio",
      "userId": "14302965054076037047"
     },
     "user_tz": 180
    },
    "id": "2-VMGpsdKuH5",
    "outputId": "27361fdc-3e47-45f3-91a6-1e4fe2772200"
   },
   "outputs": [
    {
     "data": {
      "image/png": "[encoded data removed]",
      "text/plain": [
       "<Figure size 1000x600 with 1 Axes>"
      ]
     },
     "metadata": {},
     "output_type": "display_data"
    }
   ],
   "source": [
    "#@title Distribuição dos valores vazios\n",
    "\n",
    "# Seleciona uma única linha por dia, para evitar repetição\n",
    "df_dias = df_sensor_centro[df_sensor_centro['co_nulos_no_dia'] != 0].groupby('data_formatada')['co_nulos_no_dia'].first()\n",
    "\n",
    "# Plotar o histograma da contagem de valores nulos por dia\n",
    "plt.figure(figsize=(10,6))\n",
    "plt.hist(df_dias, bins=range(0, df_dias.max() + 2), edgecolor='black', align='left')\n",
    "plt.title(\"Histograma de Quantidade de Valores Vazios em 'co' por Dia\")\n",
    "plt.xlabel('Quantidade de valores vazios no dia')\n",
    "plt.ylabel('Número de dias')\n",
    "plt.xticks(range(0, df_dias.max() + 1))\n",
    "plt.grid(axis='y', alpha=0.75)\n",
    "plt.show()"
   ]
  },
  {
   "cell_type": "code",
   "execution_count": 33,
   "metadata": {
    "cellView": "form",
    "colab": {
     "base_uri": "https://localhost:8080/"
    },
    "executionInfo": {
     "elapsed": 32,
     "status": "ok",
     "timestamp": 1750346099257,
     "user": {
      "displayName": "João Terêncio",
      "userId": "14302965054076037047"
     },
     "user_tz": 180
    },
    "id": "OZOmu7J9KuH5",
    "outputId": "7240bed3-7da5-4f5f-f115-0f3d13e644ad"
   },
   "outputs": [
    {
     "name": "stdout",
     "output_type": "stream",
     "text": [
      "1036 linhas foram preenchidas com interpolate na coluna 'co'.\n",
      "Foram preenchido 10% de dados\n"
     ]
    }
   ],
   "source": [
    "#@title Preenchimento dos valores nulos utilizando a função interpolate (Preenchendo apenas os que tem menos de 7 linhas vazias por dia)\n",
    "\n",
    "mask = (df_sensor_centro['co_nulos_no_dia'] <= 6)\n",
    "\n",
    "num_nulls = df_sensor_centro[mask]['co'].isnull().sum()\n",
    "df_sensor_centro.loc[mask, 'co'] = df_sensor_centro[mask]['co'].interpolate()\n",
    "print(f\"{num_nulls} linhas foram preenchidas com interpolate na coluna 'co'.\")\n",
    "print(f\"Foram preenchido {round((num_nulls/valroes_vazio)*100)}% de dados\")"
   ]
  },
  {
   "cell_type": "code",
   "execution_count": 34,
   "metadata": {
    "colab": {
     "base_uri": "https://localhost:8080/",
     "height": 0
    },
    "executionInfo": {
     "elapsed": 33,
     "status": "ok",
     "timestamp": 1750346099288,
     "user": {
      "displayName": "João Terêncio",
      "userId": "14302965054076037047"
     },
     "user_tz": 180
    },
    "id": "1j_2t8uiKuH5",
    "outputId": "40ce8343-103a-4db8-93b2-b18a3b070976"
   },
   "outputs": [
    {
     "data": {
      "text/html": [
       "<div>\n",
       "<style scoped>\n",
       "    .dataframe tbody tr th:only-of-type {\n",
       "        vertical-align: middle;\n",
       "    }\n",
       "\n",
       "    .dataframe tbody tr th {\n",
       "        vertical-align: top;\n",
       "    }\n",
       "\n",
       "    .dataframe thead th {\n",
       "        text-align: right;\n",
       "    }\n",
       "</style>\n",
       "<table border=\"1\" class=\"dataframe\">\n",
       "  <thead>\n",
       "    <tr style=\"text-align: right;\">\n",
       "      <th></th>\n",
       "      <th>co</th>\n",
       "    </tr>\n",
       "  </thead>\n",
       "  <tbody>\n",
       "    <tr>\n",
       "      <th>count</th>\n",
       "      <td>104516.000000</td>\n",
       "    </tr>\n",
       "    <tr>\n",
       "      <th>mean</th>\n",
       "      <td>0.389309</td>\n",
       "    </tr>\n",
       "    <tr>\n",
       "      <th>std</th>\n",
       "      <td>0.245945</td>\n",
       "    </tr>\n",
       "    <tr>\n",
       "      <th>min</th>\n",
       "      <td>0.000000</td>\n",
       "    </tr>\n",
       "    <tr>\n",
       "      <th>25%</th>\n",
       "      <td>0.240000</td>\n",
       "    </tr>\n",
       "    <tr>\n",
       "      <th>50%</th>\n",
       "      <td>0.350000</td>\n",
       "    </tr>\n",
       "    <tr>\n",
       "      <th>75%</th>\n",
       "      <td>0.490000</td>\n",
       "    </tr>\n",
       "    <tr>\n",
       "      <th>max</th>\n",
       "      <td>3.920000</td>\n",
       "    </tr>\n",
       "  </tbody>\n",
       "</table>\n",
       "</div><br><label><b>dtype:</b> float64</label>"
      ],
      "text/plain": [
       "count    104516.000000\n",
       "mean          0.389309\n",
       "std           0.245945\n",
       "min           0.000000\n",
       "25%           0.240000\n",
       "50%           0.350000\n",
       "75%           0.490000\n",
       "max           3.920000\n",
       "Name: co, dtype: float64"
      ]
     },
     "execution_count": 34,
     "metadata": {},
     "output_type": "execute_result"
    }
   ],
   "source": [
    "df_sensor_centro['co'].describe()"
   ]
  },
  {
   "cell_type": "markdown",
   "metadata": {
    "id": "dea3QOhJMs5K"
   },
   "source": [
    "### Dióxido de Enxofre"
   ]
  },
  {
   "cell_type": "code",
   "execution_count": 35,
   "metadata": {
    "colab": {
     "base_uri": "https://localhost:8080/",
     "height": 0
    },
    "executionInfo": {
     "elapsed": 32,
     "status": "ok",
     "timestamp": 1750346099307,
     "user": {
      "displayName": "João Terêncio",
      "userId": "14302965054076037047"
     },
     "user_tz": 180
    },
    "id": "fszCCXqNMs5L",
    "outputId": "cd9e24ca-d272-4695-a531-64174ac21fab"
   },
   "outputs": [
    {
     "data": {
      "text/html": [
       "<div>\n",
       "<style scoped>\n",
       "    .dataframe tbody tr th:only-of-type {\n",
       "        vertical-align: middle;\n",
       "    }\n",
       "\n",
       "    .dataframe tbody tr th {\n",
       "        vertical-align: top;\n",
       "    }\n",
       "\n",
       "    .dataframe thead th {\n",
       "        text-align: right;\n",
       "    }\n",
       "</style>\n",
       "<table border=\"1\" class=\"dataframe\">\n",
       "  <thead>\n",
       "    <tr style=\"text-align: right;\">\n",
       "      <th></th>\n",
       "      <th>so2</th>\n",
       "    </tr>\n",
       "  </thead>\n",
       "  <tbody>\n",
       "    <tr>\n",
       "      <th>count</th>\n",
       "      <td>0.0</td>\n",
       "    </tr>\n",
       "    <tr>\n",
       "      <th>mean</th>\n",
       "      <td>NaN</td>\n",
       "    </tr>\n",
       "    <tr>\n",
       "      <th>std</th>\n",
       "      <td>NaN</td>\n",
       "    </tr>\n",
       "    <tr>\n",
       "      <th>min</th>\n",
       "      <td>NaN</td>\n",
       "    </tr>\n",
       "    <tr>\n",
       "      <th>25%</th>\n",
       "      <td>NaN</td>\n",
       "    </tr>\n",
       "    <tr>\n",
       "      <th>50%</th>\n",
       "      <td>NaN</td>\n",
       "    </tr>\n",
       "    <tr>\n",
       "      <th>75%</th>\n",
       "      <td>NaN</td>\n",
       "    </tr>\n",
       "    <tr>\n",
       "      <th>max</th>\n",
       "      <td>NaN</td>\n",
       "    </tr>\n",
       "  </tbody>\n",
       "</table>\n",
       "</div><br><label><b>dtype:</b> float64</label>"
      ],
      "text/plain": [
       "count    0.0\n",
       "mean     NaN\n",
       "std      NaN\n",
       "min      NaN\n",
       "25%      NaN\n",
       "50%      NaN\n",
       "75%      NaN\n",
       "max      NaN\n",
       "Name: so2, dtype: float64"
      ]
     },
     "execution_count": 35,
     "metadata": {},
     "output_type": "execute_result"
    }
   ],
   "source": [
    "df_sensor_centro['so2'].describe()"
   ]
  },
  {
   "cell_type": "code",
   "execution_count": 36,
   "metadata": {
    "cellView": "form",
    "colab": {
     "base_uri": "https://localhost:8080/"
    },
    "executionInfo": {
     "elapsed": 41,
     "status": "ok",
     "timestamp": 1750346099351,
     "user": {
      "displayName": "João Terêncio",
      "userId": "14302965054076037047"
     },
     "user_tz": 180
    },
    "id": "c0RuCYCsMs5L",
    "outputId": "2a9a92ac-c8f0-4c58-e356-cbe8da8e41e2"
   },
   "outputs": [
    {
     "name": "stdout",
     "output_type": "stream",
     "text": [
      "Quantidade de valores vazios: 113979\n"
     ]
    }
   ],
   "source": [
    "#@title Vendo quantidade de valores vazios\n",
    "\n",
    "valroes_vazio = df_sensor_centro[df_sensor_centro['so2'].isnull()].groupby(['ano', 'mes']).size().sum()\n",
    "print(f\"Quantidade de valores vazios: {valroes_vazio}\")"
   ]
  },
  {
   "cell_type": "code",
   "execution_count": 37,
   "metadata": {
    "cellView": "form",
    "colab": {
     "base_uri": "https://localhost:8080/"
    },
    "executionInfo": {
     "elapsed": 39,
     "status": "ok",
     "timestamp": 1750346099396,
     "user": {
      "displayName": "João Terêncio",
      "userId": "14302965054076037047"
     },
     "user_tz": 180
    },
    "id": "C4qkCjQHMs5L",
    "outputId": "0170eb55-88cf-4d11-f60e-c0ff639d782e"
   },
   "outputs": [
    {
     "name": "stderr",
     "output_type": "stream",
     "text": [
      "/tmp/ipython-input-37-3009759029.py:3: SettingWithCopyWarning: \n",
      "A value is trying to be set on a copy of a slice from a DataFrame.\n",
      "Try using .loc[row_indexer,col_indexer] = value instead\n",
      "\n",
      "See the caveats in the documentation: https://pandas.pydata.org/pandas-docs/stable/user_guide/indexing.html#returning-a-view-versus-a-copy\n",
      "  df_sensor_centro['so2_nulos_no_dia'] = (\n"
     ]
    }
   ],
   "source": [
    "#@title Criando coluna que informa a quantidade de valores vazios por dia\n",
    "\n",
    "df_sensor_centro['so2_nulos_no_dia'] = (\n",
    "    df_sensor_centro['so2'].isnull()\n",
    "    .groupby(df_sensor_centro['data_formatada'])\n",
    "    .transform('sum')  # Soma os nulos por dia e repete o valor em todas as linhas do dia\n",
    ")"
   ]
  },
  {
   "cell_type": "code",
   "execution_count": 38,
   "metadata": {
    "cellView": "form",
    "colab": {
     "base_uri": "https://localhost:8080/",
     "height": 0
    },
    "executionInfo": {
     "elapsed": 178,
     "status": "ok",
     "timestamp": 1750346099581,
     "user": {
      "displayName": "João Terêncio",
      "userId": "14302965054076037047"
     },
     "user_tz": 180
    },
    "id": "trcgkn9hMs5L",
    "outputId": "fa1f5bcc-4ffd-4610-c61d-240ad2d80f8d"
   },
   "outputs": [
    {
     "data": {
      "image/png": "[encoded data removed]",
      "text/plain": [
       "<Figure size 1000x600 with 1 Axes>"
      ]
     },
     "metadata": {},
     "output_type": "display_data"
    }
   ],
   "source": [
    "#@title Distribuição dos valores vazios\n",
    "\n",
    "# Seleciona uma única linha por dia, para evitar repetição\n",
    "df_dias = df_sensor_centro[df_sensor_centro['so2_nulos_no_dia'] != 0].groupby('data_formatada')['so2_nulos_no_dia'].first()\n",
    "\n",
    "# Plotar o histograma da contagem de valores nulos por dia\n",
    "plt.figure(figsize=(10,6))\n",
    "plt.hist(df_dias, bins=range(0, df_dias.max() + 2), edgecolor='black', align='left')\n",
    "plt.title(\"Histograma de Quantidade de Valores Vazios em 'so2' por Dia\")\n",
    "plt.xlabel('Quantidade de valores vazios no dia')\n",
    "plt.ylabel('Número de dias')\n",
    "plt.xticks(range(0, df_dias.max() + 1))\n",
    "plt.grid(axis='y', alpha=0.75)\n",
    "plt.show()"
   ]
  },
  {
   "cell_type": "code",
   "execution_count": 39,
   "metadata": {
    "cellView": "form",
    "colab": {
     "base_uri": "https://localhost:8080/"
    },
    "executionInfo": {
     "elapsed": 147,
     "status": "ok",
     "timestamp": 1750346099731,
     "user": {
      "displayName": "João Terêncio",
      "userId": "14302965054076037047"
     },
     "user_tz": 180
    },
    "id": "4Vf0xfIGMs5L",
    "outputId": "f221f819-2dbd-40b6-c2e7-60770bb42c65"
   },
   "outputs": [
    {
     "name": "stdout",
     "output_type": "stream",
     "text": [
      "3 linhas foram preenchidas com interpolate na coluna 'so2'.\n",
      "Foram preenchido 0% de dados\n"
     ]
    }
   ],
   "source": [
    "#@title Preenchimento dos valores nulos utilizando a função interpolate (Preenchendo apenas os que tem menos de 7 linhas vazias por dia)\n",
    "\n",
    "mask = (df_sensor_centro['so2_nulos_no_dia'] <= 6)\n",
    "\n",
    "num_nulls = df_sensor_centro[mask]['so2'].isnull().sum()\n",
    "df_sensor_centro.loc[mask, 'so2'] = df_sensor_centro[mask]['so2'].interpolate()\n",
    "print(f\"{num_nulls} linhas foram preenchidas com interpolate na coluna 'so2'.\")\n",
    "print(f\"Foram preenchido {round((num_nulls/valroes_vazio)*100)}% de dados\")"
   ]
  },
  {
   "cell_type": "code",
   "execution_count": 40,
   "metadata": {
    "colab": {
     "base_uri": "https://localhost:8080/",
     "height": 0
    },
    "executionInfo": {
     "elapsed": 110,
     "status": "ok",
     "timestamp": 1750346099734,
     "user": {
      "displayName": "João Terêncio",
      "userId": "14302965054076037047"
     },
     "user_tz": 180
    },
    "id": "tdmsasFgMs5L",
    "outputId": "557cc9b7-c12a-44e4-e2aa-8c21f398ce10"
   },
   "outputs": [
    {
     "data": {
      "text/html": [
       "<div>\n",
       "<style scoped>\n",
       "    .dataframe tbody tr th:only-of-type {\n",
       "        vertical-align: middle;\n",
       "    }\n",
       "\n",
       "    .dataframe tbody tr th {\n",
       "        vertical-align: top;\n",
       "    }\n",
       "\n",
       "    .dataframe thead th {\n",
       "        text-align: right;\n",
       "    }\n",
       "</style>\n",
       "<table border=\"1\" class=\"dataframe\">\n",
       "  <thead>\n",
       "    <tr style=\"text-align: right;\">\n",
       "      <th></th>\n",
       "      <th>so2</th>\n",
       "    </tr>\n",
       "  </thead>\n",
       "  <tbody>\n",
       "    <tr>\n",
       "      <th>count</th>\n",
       "      <td>0.0</td>\n",
       "    </tr>\n",
       "    <tr>\n",
       "      <th>mean</th>\n",
       "      <td>NaN</td>\n",
       "    </tr>\n",
       "    <tr>\n",
       "      <th>std</th>\n",
       "      <td>NaN</td>\n",
       "    </tr>\n",
       "    <tr>\n",
       "      <th>min</th>\n",
       "      <td>NaN</td>\n",
       "    </tr>\n",
       "    <tr>\n",
       "      <th>25%</th>\n",
       "      <td>NaN</td>\n",
       "    </tr>\n",
       "    <tr>\n",
       "      <th>50%</th>\n",
       "      <td>NaN</td>\n",
       "    </tr>\n",
       "    <tr>\n",
       "      <th>75%</th>\n",
       "      <td>NaN</td>\n",
       "    </tr>\n",
       "    <tr>\n",
       "      <th>max</th>\n",
       "      <td>NaN</td>\n",
       "    </tr>\n",
       "  </tbody>\n",
       "</table>\n",
       "</div><br><label><b>dtype:</b> float64</label>"
      ],
      "text/plain": [
       "count    0.0\n",
       "mean     NaN\n",
       "std      NaN\n",
       "min      NaN\n",
       "25%      NaN\n",
       "50%      NaN\n",
       "75%      NaN\n",
       "max      NaN\n",
       "Name: so2, dtype: float64"
      ]
     },
     "execution_count": 40,
     "metadata": {},
     "output_type": "execute_result"
    }
   ],
   "source": [
    "df_sensor_centro['so2'].describe()"
   ]
  },
  {
   "cell_type": "markdown",
   "metadata": {
    "id": "DP-WWSHfNYCk"
   },
   "source": [
    "### Ozônio"
   ]
  },
  {
   "cell_type": "code",
   "execution_count": 41,
   "metadata": {
    "colab": {
     "base_uri": "https://localhost:8080/",
     "height": 0
    },
    "executionInfo": {
     "elapsed": 16,
     "status": "ok",
     "timestamp": 1750346099736,
     "user": {
      "displayName": "João Terêncio",
      "userId": "14302965054076037047"
     },
     "user_tz": 180
    },
    "id": "5Wx7SPTJNYCl",
    "outputId": "023bf11b-61f1-4357-9945-6b021c2591b6"
   },
   "outputs": [
    {
     "data": {
      "text/html": [
       "<div>\n",
       "<style scoped>\n",
       "    .dataframe tbody tr th:only-of-type {\n",
       "        vertical-align: middle;\n",
       "    }\n",
       "\n",
       "    .dataframe tbody tr th {\n",
       "        vertical-align: top;\n",
       "    }\n",
       "\n",
       "    .dataframe thead th {\n",
       "        text-align: right;\n",
       "    }\n",
       "</style>\n",
       "<table border=\"1\" class=\"dataframe\">\n",
       "  <thead>\n",
       "    <tr style=\"text-align: right;\">\n",
       "      <th></th>\n",
       "      <th>o3</th>\n",
       "    </tr>\n",
       "  </thead>\n",
       "  <tbody>\n",
       "    <tr>\n",
       "      <th>count</th>\n",
       "      <td>103578.000000</td>\n",
       "    </tr>\n",
       "    <tr>\n",
       "      <th>mean</th>\n",
       "      <td>25.749695</td>\n",
       "    </tr>\n",
       "    <tr>\n",
       "      <th>std</th>\n",
       "      <td>24.121511</td>\n",
       "    </tr>\n",
       "    <tr>\n",
       "      <th>min</th>\n",
       "      <td>0.000000</td>\n",
       "    </tr>\n",
       "    <tr>\n",
       "      <th>25%</th>\n",
       "      <td>6.840000</td>\n",
       "    </tr>\n",
       "    <tr>\n",
       "      <th>50%</th>\n",
       "      <td>19.135000</td>\n",
       "    </tr>\n",
       "    <tr>\n",
       "      <th>75%</th>\n",
       "      <td>38.280000</td>\n",
       "    </tr>\n",
       "    <tr>\n",
       "      <th>max</th>\n",
       "      <td>304.550000</td>\n",
       "    </tr>\n",
       "  </tbody>\n",
       "</table>\n",
       "</div><br><label><b>dtype:</b> float64</label>"
      ],
      "text/plain": [
       "count    103578.000000\n",
       "mean         25.749695\n",
       "std          24.121511\n",
       "min           0.000000\n",
       "25%           6.840000\n",
       "50%          19.135000\n",
       "75%          38.280000\n",
       "max         304.550000\n",
       "Name: o3, dtype: float64"
      ]
     },
     "execution_count": 41,
     "metadata": {},
     "output_type": "execute_result"
    }
   ],
   "source": [
    "df_sensor_centro['o3'].describe()"
   ]
  },
  {
   "cell_type": "code",
   "execution_count": 42,
   "metadata": {
    "cellView": "form",
    "colab": {
     "base_uri": "https://localhost:8080/"
    },
    "executionInfo": {
     "elapsed": 11,
     "status": "ok",
     "timestamp": 1750346099747,
     "user": {
      "displayName": "João Terêncio",
      "userId": "14302965054076037047"
     },
     "user_tz": 180
    },
    "id": "kXhRQEmoNYCn",
    "outputId": "35a3a481-515a-41d9-c1c9-2069b9bcdd18"
   },
   "outputs": [
    {
     "name": "stdout",
     "output_type": "stream",
     "text": [
      "Quantidade de valores vazios: 10401\n"
     ]
    }
   ],
   "source": [
    "#@title Vendo quantidade de valores vazios\n",
    "\n",
    "valroes_vazio = df_sensor_centro[df_sensor_centro['o3'].isnull()].groupby(['ano', 'mes']).size().sum()\n",
    "print(f\"Quantidade de valores vazios: {valroes_vazio}\")"
   ]
  },
  {
   "cell_type": "code",
   "execution_count": 43,
   "metadata": {
    "cellView": "form",
    "colab": {
     "base_uri": "https://localhost:8080/"
    },
    "executionInfo": {
     "elapsed": 26,
     "status": "ok",
     "timestamp": 1750346099775,
     "user": {
      "displayName": "João Terêncio",
      "userId": "14302965054076037047"
     },
     "user_tz": 180
    },
    "id": "cJBoN4cMNYCn",
    "outputId": "4c0e3b19-fa48-4196-e7ca-30f8ab549bb9"
   },
   "outputs": [
    {
     "name": "stderr",
     "output_type": "stream",
     "text": [
      "/tmp/ipython-input-43-900415822.py:3: SettingWithCopyWarning: \n",
      "A value is trying to be set on a copy of a slice from a DataFrame.\n",
      "Try using .loc[row_indexer,col_indexer] = value instead\n",
      "\n",
      "See the caveats in the documentation: https://pandas.pydata.org/pandas-docs/stable/user_guide/indexing.html#returning-a-view-versus-a-copy\n",
      "  df_sensor_centro['o3_nulos_no_dia'] = (\n"
     ]
    }
   ],
   "source": [
    "#@title Criando coluna que informa a quantidade de valores vazios por dia\n",
    "\n",
    "df_sensor_centro['o3_nulos_no_dia'] = (\n",
    "    df_sensor_centro['o3'].isnull()\n",
    "    .groupby(df_sensor_centro['data_formatada'])\n",
    "    .transform('sum')  # Soma os nulos por dia e repete o valor em todas as linhas do dia\n",
    ")"
   ]
  },
  {
   "cell_type": "code",
   "execution_count": 44,
   "metadata": {
    "cellView": "form",
    "colab": {
     "base_uri": "https://localhost:8080/",
     "height": 0
    },
    "executionInfo": {
     "elapsed": 115,
     "status": "ok",
     "timestamp": 1750346099897,
     "user": {
      "displayName": "João Terêncio",
      "userId": "14302965054076037047"
     },
     "user_tz": 180
    },
    "id": "Q1ZG0wIONYCn",
    "outputId": "3bdcfbee-f3a3-4c30-a75f-8d874714a2b1"
   },
   "outputs": [
    {
     "data": {
      "image/png": "[encoded data removed]",
      "text/plain": [
       "<Figure size 1000x600 with 1 Axes>"
      ]
     },
     "metadata": {},
     "output_type": "display_data"
    }
   ],
   "source": [
    "#@title Distribuição dos valores vazios\n",
    "\n",
    "# Seleciona uma única linha por dia, para evitar repetição\n",
    "df_dias = df_sensor_centro[df_sensor_centro['o3_nulos_no_dia'] != 0].groupby('data_formatada')['o3_nulos_no_dia'].first()\n",
    "\n",
    "# Plotar o histograma da contagem de valores nulos por dia\n",
    "plt.figure(figsize=(10,6))\n",
    "plt.hist(df_dias, bins=range(0, df_dias.max() + 2), edgecolor='black', align='left')\n",
    "plt.title(\"Histograma de Quantidade de Valores Vazios em 'o3' por Dia\")\n",
    "plt.xlabel('Quantidade de valores vazios no dia')\n",
    "plt.ylabel('Número de dias')\n",
    "plt.xticks(range(0, df_dias.max() + 1))\n",
    "plt.grid(axis='y', alpha=0.75)\n",
    "plt.show()"
   ]
  },
  {
   "cell_type": "code",
   "execution_count": 45,
   "metadata": {
    "cellView": "form",
    "colab": {
     "base_uri": "https://localhost:8080/"
    },
    "executionInfo": {
     "elapsed": 23,
     "status": "ok",
     "timestamp": 1750346099925,
     "user": {
      "displayName": "João Terêncio",
      "userId": "14302965054076037047"
     },
     "user_tz": 180
    },
    "id": "KQwJwPLrNYCo",
    "outputId": "788169d3-4345-4b1d-af9a-24aac1d444e2"
   },
   "outputs": [
    {
     "name": "stdout",
     "output_type": "stream",
     "text": [
      "1299 linhas foram preenchidas com interpolate na coluna 'o3'.\n",
      "Foram preenchido 12% de dados\n"
     ]
    }
   ],
   "source": [
    "#@title Preenchimento dos valores nulos utilizando a função interpolate (Preenchendo apenas os que tem menos de 7 linhas vazias por dia)\n",
    "\n",
    "mask = (df_sensor_centro['o3_nulos_no_dia'] <= 6)\n",
    "\n",
    "num_nulls = df_sensor_centro[mask]['o3'].isnull().sum()\n",
    "df_sensor_centro.loc[mask, 'o3'] = df_sensor_centro[mask]['o3'].interpolate()\n",
    "print(f\"{num_nulls} linhas foram preenchidas com interpolate na coluna 'o3'.\")\n",
    "print(f\"Foram preenchido {round((num_nulls/valroes_vazio)*100)}% de dados\")"
   ]
  },
  {
   "cell_type": "code",
   "execution_count": 46,
   "metadata": {
    "colab": {
     "base_uri": "https://localhost:8080/",
     "height": 0
    },
    "executionInfo": {
     "elapsed": 45,
     "status": "ok",
     "timestamp": 1750346099964,
     "user": {
      "displayName": "João Terêncio",
      "userId": "14302965054076037047"
     },
     "user_tz": 180
    },
    "id": "8dJ2VLO3NYCp",
    "outputId": "04589cbe-ef81-40aa-e682-b6cf8d4e8192"
   },
   "outputs": [
    {
     "data": {
      "text/html": [
       "<div>\n",
       "<style scoped>\n",
       "    .dataframe tbody tr th:only-of-type {\n",
       "        vertical-align: middle;\n",
       "    }\n",
       "\n",
       "    .dataframe tbody tr th {\n",
       "        vertical-align: top;\n",
       "    }\n",
       "\n",
       "    .dataframe thead th {\n",
       "        text-align: right;\n",
       "    }\n",
       "</style>\n",
       "<table border=\"1\" class=\"dataframe\">\n",
       "  <thead>\n",
       "    <tr style=\"text-align: right;\">\n",
       "      <th></th>\n",
       "      <th>o3</th>\n",
       "    </tr>\n",
       "  </thead>\n",
       "  <tbody>\n",
       "    <tr>\n",
       "      <th>count</th>\n",
       "      <td>104876.000000</td>\n",
       "    </tr>\n",
       "    <tr>\n",
       "      <th>mean</th>\n",
       "      <td>25.731665</td>\n",
       "    </tr>\n",
       "    <tr>\n",
       "      <th>std</th>\n",
       "      <td>24.077266</td>\n",
       "    </tr>\n",
       "    <tr>\n",
       "      <th>min</th>\n",
       "      <td>0.000000</td>\n",
       "    </tr>\n",
       "    <tr>\n",
       "      <th>25%</th>\n",
       "      <td>6.860000</td>\n",
       "    </tr>\n",
       "    <tr>\n",
       "      <th>50%</th>\n",
       "      <td>19.140000</td>\n",
       "    </tr>\n",
       "    <tr>\n",
       "      <th>75%</th>\n",
       "      <td>38.220000</td>\n",
       "    </tr>\n",
       "    <tr>\n",
       "      <th>max</th>\n",
       "      <td>304.550000</td>\n",
       "    </tr>\n",
       "  </tbody>\n",
       "</table>\n",
       "</div><br><label><b>dtype:</b> float64</label>"
      ],
      "text/plain": [
       "count    104876.000000\n",
       "mean         25.731665\n",
       "std          24.077266\n",
       "min           0.000000\n",
       "25%           6.860000\n",
       "50%          19.140000\n",
       "75%          38.220000\n",
       "max         304.550000\n",
       "Name: o3, dtype: float64"
      ]
     },
     "execution_count": 46,
     "metadata": {},
     "output_type": "execute_result"
    }
   ],
   "source": [
    "df_sensor_centro['o3'].describe()"
   ]
  },
  {
   "cell_type": "markdown",
   "metadata": {
    "id": "x_EfKxffNz6H"
   },
   "source": [
    "### PM10"
   ]
  },
  {
   "cell_type": "code",
   "execution_count": 47,
   "metadata": {
    "colab": {
     "base_uri": "https://localhost:8080/",
     "height": 0
    },
    "executionInfo": {
     "elapsed": 21,
     "status": "ok",
     "timestamp": 1750346099970,
     "user": {
      "displayName": "João Terêncio",
      "userId": "14302965054076037047"
     },
     "user_tz": 180
    },
    "id": "PwaB2u12Nz6H",
    "outputId": "2ad33b14-18cf-46fd-9594-442bd0391d43"
   },
   "outputs": [
    {
     "data": {
      "text/html": [
       "<div>\n",
       "<style scoped>\n",
       "    .dataframe tbody tr th:only-of-type {\n",
       "        vertical-align: middle;\n",
       "    }\n",
       "\n",
       "    .dataframe tbody tr th {\n",
       "        vertical-align: top;\n",
       "    }\n",
       "\n",
       "    .dataframe thead th {\n",
       "        text-align: right;\n",
       "    }\n",
       "</style>\n",
       "<table border=\"1\" class=\"dataframe\">\n",
       "  <thead>\n",
       "    <tr style=\"text-align: right;\">\n",
       "      <th></th>\n",
       "      <th>pm10</th>\n",
       "    </tr>\n",
       "  </thead>\n",
       "  <tbody>\n",
       "    <tr>\n",
       "      <th>count</th>\n",
       "      <td>98810.000000</td>\n",
       "    </tr>\n",
       "    <tr>\n",
       "      <th>mean</th>\n",
       "      <td>34.557272</td>\n",
       "    </tr>\n",
       "    <tr>\n",
       "      <th>std</th>\n",
       "      <td>22.088750</td>\n",
       "    </tr>\n",
       "    <tr>\n",
       "      <th>min</th>\n",
       "      <td>0.000000</td>\n",
       "    </tr>\n",
       "    <tr>\n",
       "      <th>25%</th>\n",
       "      <td>21.000000</td>\n",
       "    </tr>\n",
       "    <tr>\n",
       "      <th>50%</th>\n",
       "      <td>31.000000</td>\n",
       "    </tr>\n",
       "    <tr>\n",
       "      <th>75%</th>\n",
       "      <td>44.000000</td>\n",
       "    </tr>\n",
       "    <tr>\n",
       "      <th>max</th>\n",
       "      <td>994.000000</td>\n",
       "    </tr>\n",
       "  </tbody>\n",
       "</table>\n",
       "</div><br><label><b>dtype:</b> float64</label>"
      ],
      "text/plain": [
       "count    98810.000000\n",
       "mean        34.557272\n",
       "std         22.088750\n",
       "min          0.000000\n",
       "25%         21.000000\n",
       "50%         31.000000\n",
       "75%         44.000000\n",
       "max        994.000000\n",
       "Name: pm10, dtype: float64"
      ]
     },
     "execution_count": 47,
     "metadata": {},
     "output_type": "execute_result"
    }
   ],
   "source": [
    "df_sensor_centro['pm10'].describe()"
   ]
  },
  {
   "cell_type": "code",
   "execution_count": 48,
   "metadata": {
    "cellView": "form",
    "colab": {
     "base_uri": "https://localhost:8080/"
    },
    "executionInfo": {
     "elapsed": 35,
     "status": "ok",
     "timestamp": 1750346100010,
     "user": {
      "displayName": "João Terêncio",
      "userId": "14302965054076037047"
     },
     "user_tz": 180
    },
    "id": "2DgViHnxNz6I",
    "outputId": "6163d0a8-a175-4cf3-e25c-8ec27e4c4c41"
   },
   "outputs": [
    {
     "name": "stdout",
     "output_type": "stream",
     "text": [
      "Quantidade de valores vazios: 15169\n"
     ]
    }
   ],
   "source": [
    "#@title Vendo quantidade de valores vazios\n",
    "\n",
    "valroes_vazio = df_sensor_centro[df_sensor_centro['pm10'].isnull()].groupby(['ano', 'mes']).size().sum()\n",
    "print(f\"Quantidade de valores vazios: {valroes_vazio}\")"
   ]
  },
  {
   "cell_type": "code",
   "execution_count": 49,
   "metadata": {
    "cellView": "form",
    "colab": {
     "base_uri": "https://localhost:8080/"
    },
    "executionInfo": {
     "elapsed": 31,
     "status": "ok",
     "timestamp": 1750346100035,
     "user": {
      "displayName": "João Terêncio",
      "userId": "14302965054076037047"
     },
     "user_tz": 180
    },
    "id": "C4E1ad35Nz6I",
    "outputId": "33cb766e-2e24-4270-fb63-f6287e8c6684"
   },
   "outputs": [
    {
     "name": "stderr",
     "output_type": "stream",
     "text": [
      "/tmp/ipython-input-49-4287615748.py:3: SettingWithCopyWarning: \n",
      "A value is trying to be set on a copy of a slice from a DataFrame.\n",
      "Try using .loc[row_indexer,col_indexer] = value instead\n",
      "\n",
      "See the caveats in the documentation: https://pandas.pydata.org/pandas-docs/stable/user_guide/indexing.html#returning-a-view-versus-a-copy\n",
      "  df_sensor_centro['pm10_nulos_no_dia'] = (\n"
     ]
    }
   ],
   "source": [
    "#@title Criando coluna que informa a quantidade de valores vazios por dia\n",
    "\n",
    "df_sensor_centro['pm10_nulos_no_dia'] = (\n",
    "    df_sensor_centro['pm10'].isnull()\n",
    "    .groupby(df_sensor_centro['data_formatada'])\n",
    "    .transform('sum')  # Soma os nulos por dia e repete o valor em todas as linhas do dia\n",
    ")"
   ]
  },
  {
   "cell_type": "code",
   "execution_count": 50,
   "metadata": {
    "cellView": "form",
    "colab": {
     "base_uri": "https://localhost:8080/",
     "height": 0
    },
    "executionInfo": {
     "elapsed": 232,
     "status": "ok",
     "timestamp": 1750346100273,
     "user": {
      "displayName": "João Terêncio",
      "userId": "14302965054076037047"
     },
     "user_tz": 180
    },
    "id": "wimZHi5oNz6I",
    "outputId": "4e46c610-eb5a-4fc5-ffe9-ff5cb5f7f009"
   },
   "outputs": [
    {
     "data": {
      "image/png": "[encoded data removed]",
      "text/plain": [
       "<Figure size 1000x600 with 1 Axes>"
      ]
     },
     "metadata": {},
     "output_type": "display_data"
    }
   ],
   "source": [
    "#@title Distribuição dos valores vazios\n",
    "\n",
    "# Seleciona uma única linha por dia, para evitar repetição\n",
    "df_dias = df_sensor_centro[df_sensor_centro['pm10_nulos_no_dia'] != 0].groupby('data_formatada')['pm10_nulos_no_dia'].first()\n",
    "\n",
    "# Plotar o histograma da contagem de valores nulos por dia\n",
    "plt.figure(figsize=(10,6))\n",
    "plt.hist(df_dias, bins=range(0, df_dias.max() + 2), edgecolor='black', align='left')\n",
    "plt.title(\"Histograma de Quantidade de Valores Vazios em 'pm10' por Dia\")\n",
    "plt.xlabel('Quantidade de valores vazios no dia')\n",
    "plt.ylabel('Número de dias')\n",
    "plt.xticks(range(0, df_dias.max() + 1))\n",
    "plt.grid(axis='y', alpha=0.75)\n",
    "plt.show()"
   ]
  },
  {
   "cell_type": "code",
   "execution_count": 51,
   "metadata": {
    "cellView": "form",
    "colab": {
     "base_uri": "https://localhost:8080/"
    },
    "executionInfo": {
     "elapsed": 26,
     "status": "ok",
     "timestamp": 1750346100305,
     "user": {
      "displayName": "João Terêncio",
      "userId": "14302965054076037047"
     },
     "user_tz": 180
    },
    "id": "OA2D_-XPNz6I",
    "outputId": "68d96b14-b486-4947-f6a0-9f8f68ea2498"
   },
   "outputs": [
    {
     "name": "stdout",
     "output_type": "stream",
     "text": [
      "691 linhas foram preenchidas com interpolate na coluna 'pm10'.\n",
      "Foram preenchido 5% de dados\n"
     ]
    }
   ],
   "source": [
    "#@title Preenchimento dos valores nulos utilizando a função interpolate (Preenchendo apenas os que tem menos de 7 linhas vazias por dia)\n",
    "\n",
    "mask = (df_sensor_centro['pm10_nulos_no_dia'] <= 6)\n",
    "\n",
    "num_nulls = df_sensor_centro[mask]['pm10'].isnull().sum()\n",
    "df_sensor_centro.loc[mask, 'pm10'] = df_sensor_centro[mask]['pm10'].interpolate()\n",
    "print(f\"{num_nulls} linhas foram preenchidas com interpolate na coluna 'pm10'.\")\n",
    "print(f\"Foram preenchido {round((num_nulls/valroes_vazio)*100)}% de dados\")"
   ]
  },
  {
   "cell_type": "code",
   "execution_count": 52,
   "metadata": {
    "colab": {
     "base_uri": "https://localhost:8080/",
     "height": 0
    },
    "executionInfo": {
     "elapsed": 82,
     "status": "ok",
     "timestamp": 1750346100392,
     "user": {
      "displayName": "João Terêncio",
      "userId": "14302965054076037047"
     },
     "user_tz": 180
    },
    "id": "KmM4M2pDNz6I",
    "outputId": "7e6c286f-ba54-42a2-a464-f31c4af75342"
   },
   "outputs": [
    {
     "data": {
      "text/html": [
       "<div>\n",
       "<style scoped>\n",
       "    .dataframe tbody tr th:only-of-type {\n",
       "        vertical-align: middle;\n",
       "    }\n",
       "\n",
       "    .dataframe tbody tr th {\n",
       "        vertical-align: top;\n",
       "    }\n",
       "\n",
       "    .dataframe thead th {\n",
       "        text-align: right;\n",
       "    }\n",
       "</style>\n",
       "<table border=\"1\" class=\"dataframe\">\n",
       "  <thead>\n",
       "    <tr style=\"text-align: right;\">\n",
       "      <th></th>\n",
       "      <th>pm10</th>\n",
       "    </tr>\n",
       "  </thead>\n",
       "  <tbody>\n",
       "    <tr>\n",
       "      <th>count</th>\n",
       "      <td>99500.000000</td>\n",
       "    </tr>\n",
       "    <tr>\n",
       "      <th>mean</th>\n",
       "      <td>34.567583</td>\n",
       "    </tr>\n",
       "    <tr>\n",
       "      <th>std</th>\n",
       "      <td>22.064888</td>\n",
       "    </tr>\n",
       "    <tr>\n",
       "      <th>min</th>\n",
       "      <td>0.000000</td>\n",
       "    </tr>\n",
       "    <tr>\n",
       "      <th>25%</th>\n",
       "      <td>21.000000</td>\n",
       "    </tr>\n",
       "    <tr>\n",
       "      <th>50%</th>\n",
       "      <td>31.000000</td>\n",
       "    </tr>\n",
       "    <tr>\n",
       "      <th>75%</th>\n",
       "      <td>44.000000</td>\n",
       "    </tr>\n",
       "    <tr>\n",
       "      <th>max</th>\n",
       "      <td>994.000000</td>\n",
       "    </tr>\n",
       "  </tbody>\n",
       "</table>\n",
       "</div><br><label><b>dtype:</b> float64</label>"
      ],
      "text/plain": [
       "count    99500.000000\n",
       "mean        34.567583\n",
       "std         22.064888\n",
       "min          0.000000\n",
       "25%         21.000000\n",
       "50%         31.000000\n",
       "75%         44.000000\n",
       "max        994.000000\n",
       "Name: pm10, dtype: float64"
      ]
     },
     "execution_count": 52,
     "metadata": {},
     "output_type": "execute_result"
    }
   ],
   "source": [
    "df_sensor_centro['pm10'].describe()"
   ]
  },
  {
   "cell_type": "code",
   "execution_count": 53,
   "metadata": {
    "colab": {
     "base_uri": "https://localhost:8080/"
    },
    "executionInfo": {
     "elapsed": 28,
     "status": "ok",
     "timestamp": 1750346100427,
     "user": {
      "displayName": "João Terêncio",
      "userId": "14302965054076037047"
     },
     "user_tz": 180
    },
    "id": "cAonIb2YVdIm",
    "outputId": "5c4be8b4-2fc8-4235-c3ab-84127450d346"
   },
   "outputs": [
    {
     "name": "stderr",
     "output_type": "stream",
     "text": [
      "/tmp/ipython-input-53-3270325100.py:3: SettingWithCopyWarning: \n",
      "A value is trying to be set on a copy of a slice from a DataFrame\n",
      "\n",
      "See the caveats in the documentation: https://pandas.pydata.org/pandas-docs/stable/user_guide/indexing.html#returning-a-view-versus-a-copy\n",
      "  df_sensor_centro.drop(columns=droping_columns, inplace=True)\n"
     ]
    }
   ],
   "source": [
    "droping_columns = ['nome_estacao', 'chuva_nulos_no_dia', 'temp_nulos_no_dia', 'ur_nulos_no_dia', 'co_nulos_no_dia', 'so2_nulos_no_dia', 'o3_nulos_no_dia', 'pm10_nulos_no_dia']\n",
    "\n",
    "df_sensor_centro.drop(columns=droping_columns, inplace=True)"
   ]
  },
  {
   "cell_type": "markdown",
   "metadata": {
    "id": "hc-I_71qbbJO"
   },
   "source": [
    "# Criando nova feature (AQI)\n",
    "\n",
    "| MP₁₀ (µg/m³) 24h | MP₂.₅ (µg/m³) 24h | O₃ (µg/m³) 8h | CO (ppm) 8h | NO₂ (µg/m³) 1h | SO₂ (µg/m³) 24h | Índice | Qualidade do Ar | Efeitos |\n",
    "|------------------|------------------|---------------|-------------|----------------|------------------|--------|------------------|---------|\n",
    "| 0 - 50           | 0 - 25           | 0 - 100       | 0 - 9       | 0 - 200        | 0 - 20           | 0 - 40 | N1 - Boa         | - |\n",
    "| >50 - 100        | >25 - 50         | >100 - 130    | >9 - 11     | >200 - 240     | >20 - 40         | 41 - 80 | N2 - Moderada     | Pessoas de grupos sensíveis (crianças, idosos e pessoas com doenças respiratórias e cardíacas) podem apresentar sintomas como tosse seca e cansaço. A população em geral não é afetada. |\n",
    "| >100 - 150       | >50 - 75         | >130 - 160    | >11 - 13    | >240 - 320     | >40 - 365        | 81 - 120 | N3 - Ruim         | Toda a população pode apresentar sintomas como tosse seca, cansaço, ardor nos olhos, nariz e garganta. Pessoas de grupos sensíveis (crianças, idosos e pessoas com doenças respiratórias e cardíacas) podem apresentar efeitos mais sérios na saúde. |\n",
    "| >150 - 250       | >75 - 125        | >160 - 200    | >13 - 15    | >320 - 1130    | >365 - 800       | 121 - 200 | N4 - Muito Ruim   | Toda a população pode apresentar agravamento dos sintomas como tosse seca, cansaço, ardor nos olhos, nariz e garganta e ainda falta de ar e respiração ofegante. Efeitos ainda mais graves à saúde de grupos sensíveis (crianças, idosos e pessoas com doenças respiratórias e cardíacas). |\n",
    "| >250 - 600       | >125 - 300       | >200 - 800    | >15 - 50    | >1130 - 3750   | >800 - 2620      | 201 - 400 | N5 - Péssima      | Toda a população pode apresentar sérios riscos de manifestações de doenças respiratórias e cardiovasculares. Aumento de mortes prematuras em pessoas de grupos sensíveis. |\n"
   ]
  },
  {
   "cell_type": "code",
   "execution_count": 54,
   "metadata": {
    "executionInfo": {
     "elapsed": 7,
     "status": "ok",
     "timestamp": 1750346100442,
     "user": {
      "displayName": "João Terêncio",
      "userId": "14302965054076037047"
     },
     "user_tz": 180
    },
    "id": "Lq0TMgU68cmo"
   },
   "outputs": [],
   "source": [
    "# Carrega o DataFrame\n",
    "df = df_sensor_centro.copy()\n",
    "\n",
    "# Converte e ordena\n",
    "df['data'] = pd.to_datetime(df['data'])\n",
    "df = df.sort_values(by='data')"
   ]
  },
  {
   "cell_type": "code",
   "execution_count": 55,
   "metadata": {
    "executionInfo": {
     "elapsed": 31,
     "status": "ok",
     "timestamp": 1750346100478,
     "user": {
      "displayName": "João Terêncio",
      "userId": "14302965054076037047"
     },
     "user_tz": 180
    },
    "id": "t-NtqXK-8fH9"
   },
   "outputs": [],
   "source": [
    "# Define faixas com interpolação linear (c_low, c_high, i_low, i_high)\n",
    "faixas_aqi = {\n",
    "    'pm10':   [(0, 50, 0, 40), (50, 100, 41, 80), (100, 150, 81, 120), (150, 250, 121, 200), (250, 600, 201, 400)],\n",
    "    'pm2_5':  [(0, 25, 0, 40), (25, 50, 41, 80), (50, 75, 81, 120), (75, 125, 121, 200), (125, 300, 201, 400)],\n",
    "    'o3':     [(0, 100, 0, 40), (100, 130, 41, 80), (130, 160, 81, 120), (160, 200, 121, 200), (200, 800, 201, 400)],\n",
    "    'co':     [(0, 9, 0, 40), (9, 11, 41, 80), (11, 13, 81, 120), (13, 15, 121, 200), (15, 50, 201, 400)],\n",
    "    'no2':    [(0, 200, 0, 40), (200, 240, 41, 80), (240, 320, 81, 120), (320, 1130, 121, 200), (1130, 3750, 201, 400)],\n",
    "    'so2':    [(0, 20, 0, 40), (20, 40, 41, 80), (40, 365, 81, 120), (365, 800, 121, 200), (800, 2620, 201, 400)],\n",
    "}"
   ]
  },
  {
   "cell_type": "code",
   "execution_count": 56,
   "metadata": {
    "executionInfo": {
     "elapsed": 35,
     "status": "ok",
     "timestamp": 1750346100521,
     "user": {
      "displayName": "João Terêncio",
      "userId": "14302965054076037047"
     },
     "user_tz": 180
    },
    "id": "6mY0sI_m8gmP"
   },
   "outputs": [],
   "source": [
    "# Função de interpolação para cálculo contínuo do AQI\n",
    "def calcular_aqi(valor, faixas):\n",
    "    for c_low, c_high, i_low, i_high in faixas:\n",
    "        if c_low <= valor <= c_high:\n",
    "            return ((i_high - i_low) / (c_high - c_low)) * (valor - c_low) + i_low\n",
    "    return np.nan  # Fora das faixas"
   ]
  },
  {
   "cell_type": "code",
   "execution_count": 57,
   "metadata": {
    "executionInfo": {
     "elapsed": 28,
     "status": "ok",
     "timestamp": 1750346100526,
     "user": {
      "displayName": "João Terêncio",
      "userId": "14302965054076037047"
     },
     "user_tz": 180
    },
    "id": "-fSb-Epw8iAT"
   },
   "outputs": [],
   "source": [
    "# Função para média 8h móvel diária (máxima por dia)\n",
    "def media_8h_movel(df, col):\n",
    "    resultados = []\n",
    "    for dia, grupo in df.groupby('data_formatada'):\n",
    "        grupo = grupo.sort_values('data')\n",
    "        grupo = grupo.set_index('data')\n",
    "        rol = grupo[col].rolling('8h', min_periods=6).mean()\n",
    "        max_rol = rol.max()\n",
    "        resultados.append((dia, max_rol))\n",
    "    return pd.Series(dict(resultados))"
   ]
  },
  {
   "cell_type": "code",
   "execution_count": 58,
   "metadata": {
    "executionInfo": {
     "elapsed": 10036,
     "status": "ok",
     "timestamp": 1750346110546,
     "user": {
      "displayName": "João Terêncio",
      "userId": "14302965054076037047"
     },
     "user_tz": 180
    },
    "id": "P19Ow8SB47Ud"
   },
   "outputs": [],
   "source": [
    "# Médias 24h dos poluentes diários\n",
    "df_diario = df.groupby('data_formatada')[['pm10', 'pm2_5', 'so2']].mean()\n",
    "\n",
    "# Médias móveis 8h para O3 e CO\n",
    "o3_8h_max = media_8h_movel(df, 'o3')\n",
    "co_8h_max = media_8h_movel(df, 'co')\n",
    "\n",
    "# NO2: pega maior valor por dia\n",
    "no2_1h_max = df.groupby('data_formatada')['no2'].max()\n",
    "\n",
    "# Monta df_aqi\n",
    "df_aqi = df_diario.copy()\n",
    "df_aqi['o3_8h_max'] = o3_8h_max\n",
    "df_aqi['co_8h_max'] = co_8h_max\n",
    "df_aqi['no2_1h_max'] = no2_1h_max"
   ]
  },
  {
   "cell_type": "code",
   "execution_count": 59,
   "metadata": {
    "executionInfo": {
     "elapsed": 6,
     "status": "ok",
     "timestamp": 1750346110556,
     "user": {
      "displayName": "João Terêncio",
      "userId": "14302965054076037047"
     },
     "user_tz": 180
    },
    "id": "lUPOzj0c8nni"
   },
   "outputs": [],
   "source": [
    "# Aplica cálculo de AQI contínuo por poluente\n",
    "for poluente, faixas in faixas_aqi.items():\n",
    "    col_ref = {\n",
    "        'o3': 'o3_8h_max',\n",
    "        'co': 'co_8h_max',\n",
    "        'no2': 'no2_1h_max'\n",
    "    }.get(poluente, poluente)\n",
    "\n",
    "    df_aqi[f'{poluente}_aqi'] = df_aqi[col_ref].apply(\n",
    "        lambda x: calcular_aqi(x, faixas) if pd.notnull(x) else np.nan\n",
    "    )\n",
    "\n",
    "# AQI final do dia: maior valor entre os poluentes\n",
    "col_aqis = [f'{p}_aqi' for p in ['pm10', 'pm2_5', 'so2', 'o3', 'co', 'no2']]\n",
    "df_aqi['aqi'] = df_aqi[col_aqis].max(axis=1)"
   ]
  },
  {
   "cell_type": "code",
   "execution_count": 60,
   "metadata": {
    "executionInfo": {
     "elapsed": 9,
     "status": "ok",
     "timestamp": 1750346110564,
     "user": {
      "displayName": "João Terêncio",
      "userId": "14302965054076037047"
     },
     "user_tz": 180
    },
    "id": "zHyRJLtZ8pt6"
   },
   "outputs": [],
   "source": [
    "# Classificação da qualidade do ar com base no AQI real\n",
    "def classifica_qualidade(aqi):\n",
    "    if aqi <= 40:\n",
    "        return 'N1 - Boa'\n",
    "    elif aqi <= 80:\n",
    "        return 'N2 - Moderada'\n",
    "    elif aqi <= 120:\n",
    "        return 'N3 - Ruim'\n",
    "    elif aqi <= 200:\n",
    "        return 'N4 - Muito Ruim'\n",
    "    else:\n",
    "        return 'N5 - Péssima'\n",
    "\n",
    "df_aqi['classificacao'] = df_aqi['aqi'].apply(classifica_qualidade)\n",
    "df_aqi.reset_index(inplace=True)"
   ]
  },
  {
   "cell_type": "code",
   "execution_count": 61,
   "metadata": {
    "executionInfo": {
     "elapsed": 3,
     "status": "ok",
     "timestamp": 1750346110570,
     "user": {
      "displayName": "João Terêncio",
      "userId": "14302965054076037047"
     },
     "user_tz": 180
    },
    "id": "PaZfeSqK6iHa"
   },
   "outputs": [],
   "source": [
    "# Arredonda o AQI final para inteiro\n",
    "df_aqi['aqi'] = df_aqi['aqi'].round().astype('Int64')\n",
    "\n",
    "# Mantém apenas as colunas desejadas\n",
    "df_aqi = df_aqi[['data_formatada', 'aqi', 'classificacao']]"
   ]
  },
  {
   "cell_type": "code",
   "execution_count": 62,
   "metadata": {
    "executionInfo": {
     "elapsed": 42,
     "status": "ok",
     "timestamp": 1750346110616,
     "user": {
      "displayName": "João Terêncio",
      "userId": "14302965054076037047"
     },
     "user_tz": 180
    },
    "id": "hNErBDu0cMxs"
   },
   "outputs": [],
   "source": [
    "# Agrupamento por data_formatada\n",
    "df_gruped = df_sensor_centro.groupby('data_formatada', as_index=False).mean()\n",
    "\n",
    "# Merge com a tabela de qualidade do ar\n",
    "df_merged = df_gruped.merge(\n",
    "    df_aqi[['classificacao', 'aqi', 'data_formatada']],\n",
    "    left_on='data_formatada',\n",
    "    right_on='data_formatada',\n",
    "    how='left'\n",
    ")"
   ]
  },
  {
   "cell_type": "code",
   "execution_count": 63,
   "metadata": {
    "colab": {
     "base_uri": "https://localhost:8080/"
    },
    "executionInfo": {
     "elapsed": 16,
     "status": "ok",
     "timestamp": 1750346110637,
     "user": {
      "displayName": "João Terêncio",
      "userId": "14302965054076037047"
     },
     "user_tz": 180
    },
    "id": "B581dr8A0wYM",
    "outputId": "a1981880-4aa6-4b05-9272-3795fcc89731"
   },
   "outputs": [
    {
     "data": {
      "text/plain": [
       "(4750, 19)"
      ]
     },
     "execution_count": 63,
     "metadata": {},
     "output_type": "execute_result"
    }
   ],
   "source": [
    "df_merged.shape"
   ]
  },
  {
   "cell_type": "code",
   "execution_count": 64,
   "metadata": {
    "colab": {
     "base_uri": "https://localhost:8080/",
     "height": 0
    },
    "executionInfo": {
     "elapsed": 48,
     "status": "ok",
     "timestamp": 1750346110687,
     "user": {
      "displayName": "João Terêncio",
      "userId": "14302965054076037047"
     },
     "user_tz": 180
    },
    "id": "4DlAgasL7sxd",
    "outputId": "7f018bbf-3542-47e1-a946-fa63a1e05fe5"
   },
   "outputs": [
    {
     "data": {
      "application/vnd.google.colaboratory.intrinsic+json": {
       "type": "dataframe",
       "variable_name": "df_sensor_centro"
      },
      "text/html": [
       "\n",
       "  <div id=\"df-ca25214b-d970-476a-9da6-182a2ac0e32f\" class=\"colab-df-container\">\n",
       "    <div>\n",
       "<style scoped>\n",
       "    .dataframe tbody tr th:only-of-type {\n",
       "        vertical-align: middle;\n",
       "    }\n",
       "\n",
       "    .dataframe tbody tr th {\n",
       "        vertical-align: top;\n",
       "    }\n",
       "\n",
       "    .dataframe thead th {\n",
       "        text-align: right;\n",
       "    }\n",
       "</style>\n",
       "<table border=\"1\" class=\"dataframe\">\n",
       "  <thead>\n",
       "    <tr style=\"text-align: right;\">\n",
       "      <th></th>\n",
       "      <th>data</th>\n",
       "      <th>chuva</th>\n",
       "      <th>temp</th>\n",
       "      <th>ur</th>\n",
       "      <th>co</th>\n",
       "      <th>no</th>\n",
       "      <th>no2</th>\n",
       "      <th>nox</th>\n",
       "      <th>so2</th>\n",
       "      <th>o3</th>\n",
       "      <th>pm10</th>\n",
       "      <th>pm2_5</th>\n",
       "      <th>lat</th>\n",
       "      <th>lon</th>\n",
       "      <th>data_formatada</th>\n",
       "      <th>ano</th>\n",
       "      <th>mes</th>\n",
       "    </tr>\n",
       "  </thead>\n",
       "  <tbody>\n",
       "    <tr>\n",
       "      <th>8647</th>\n",
       "      <td>2012-01-01 00:30:00</td>\n",
       "      <td>0.2</td>\n",
       "      <td>NaN</td>\n",
       "      <td>NaN</td>\n",
       "      <td>NaN</td>\n",
       "      <td>NaN</td>\n",
       "      <td>NaN</td>\n",
       "      <td>NaN</td>\n",
       "      <td>NaN</td>\n",
       "      <td>NaN</td>\n",
       "      <td>NaN</td>\n",
       "      <td>NaN</td>\n",
       "      <td>-22.908344</td>\n",
       "      <td>-43.178152</td>\n",
       "      <td>2012-01-01</td>\n",
       "      <td>2012</td>\n",
       "      <td>1</td>\n",
       "    </tr>\n",
       "    <tr>\n",
       "      <th>8648</th>\n",
       "      <td>2012-01-01 01:30:00</td>\n",
       "      <td>2.0</td>\n",
       "      <td>NaN</td>\n",
       "      <td>NaN</td>\n",
       "      <td>NaN</td>\n",
       "      <td>NaN</td>\n",
       "      <td>NaN</td>\n",
       "      <td>NaN</td>\n",
       "      <td>NaN</td>\n",
       "      <td>NaN</td>\n",
       "      <td>NaN</td>\n",
       "      <td>NaN</td>\n",
       "      <td>-22.908344</td>\n",
       "      <td>-43.178152</td>\n",
       "      <td>2012-01-01</td>\n",
       "      <td>2012</td>\n",
       "      <td>1</td>\n",
       "    </tr>\n",
       "    <tr>\n",
       "      <th>8649</th>\n",
       "      <td>2012-01-01 02:30:00</td>\n",
       "      <td>2.4</td>\n",
       "      <td>NaN</td>\n",
       "      <td>NaN</td>\n",
       "      <td>NaN</td>\n",
       "      <td>NaN</td>\n",
       "      <td>NaN</td>\n",
       "      <td>NaN</td>\n",
       "      <td>NaN</td>\n",
       "      <td>NaN</td>\n",
       "      <td>NaN</td>\n",
       "      <td>NaN</td>\n",
       "      <td>-22.908344</td>\n",
       "      <td>-43.178152</td>\n",
       "      <td>2012-01-01</td>\n",
       "      <td>2012</td>\n",
       "      <td>1</td>\n",
       "    </tr>\n",
       "    <tr>\n",
       "      <th>262873</th>\n",
       "      <td>2012-01-01 03:30:00</td>\n",
       "      <td>0.6</td>\n",
       "      <td>NaN</td>\n",
       "      <td>NaN</td>\n",
       "      <td>NaN</td>\n",
       "      <td>NaN</td>\n",
       "      <td>NaN</td>\n",
       "      <td>NaN</td>\n",
       "      <td>NaN</td>\n",
       "      <td>NaN</td>\n",
       "      <td>NaN</td>\n",
       "      <td>NaN</td>\n",
       "      <td>-22.908344</td>\n",
       "      <td>-43.178152</td>\n",
       "      <td>2012-01-01</td>\n",
       "      <td>2012</td>\n",
       "      <td>1</td>\n",
       "    </tr>\n",
       "    <tr>\n",
       "      <th>262874</th>\n",
       "      <td>2012-01-01 04:30:00</td>\n",
       "      <td>0.0</td>\n",
       "      <td>NaN</td>\n",
       "      <td>NaN</td>\n",
       "      <td>NaN</td>\n",
       "      <td>NaN</td>\n",
       "      <td>NaN</td>\n",
       "      <td>NaN</td>\n",
       "      <td>NaN</td>\n",
       "      <td>NaN</td>\n",
       "      <td>NaN</td>\n",
       "      <td>NaN</td>\n",
       "      <td>-22.908344</td>\n",
       "      <td>-43.178152</td>\n",
       "      <td>2012-01-01</td>\n",
       "      <td>2012</td>\n",
       "      <td>1</td>\n",
       "    </tr>\n",
       "  </tbody>\n",
       "</table>\n",
       "</div>\n",
       "    <div class=\"colab-df-buttons\">\n",
       "\n",
       "  <div class=\"colab-df-container\">\n",
       "    <button class=\"colab-df-convert\" onclick=\"convertToInteractive('df-ca25214b-d970-476a-9da6-182a2ac0e32f')\"\n",
       "            title=\"Convert this dataframe to an interactive table.\"\n",
       "            style=\"display:none;\">\n",
       "\n",
       "  <svg xmlns=\"http://www.w3.org/2000/svg\" height=\"24px\" viewBox=\"0 -960 960 960\">\n",
       "    <path d=\"M120-120v-720h720v720H120Zm60-500h600v-160H180v160Zm220 220h160v-160H400v160Zm0 220h160v-160H400v160ZM180-400h160v-160H180v160Zm440 0h160v-160H620v160ZM180-180h160v-160H180v160Zm440 0h160v-160H620v160Z\"/>\n",
       "  </svg>\n",
       "    </button>\n",
       "\n",
       "  <style>\n",
       "    .colab-df-container {\n",
       "      display:flex;\n",
       "      gap: 12px;\n",
       "    }\n",
       "\n",
       "    .colab-df-convert {\n",
       "      background-color: #E8F0FE;\n",
       "      border: none;\n",
       "      border-radius: 50%;\n",
       "      cursor: pointer;\n",
       "      display: none;\n",
       "      fill: #1967D2;\n",
       "      height: 32px;\n",
       "      padding: 0 0 0 0;\n",
       "      width: 32px;\n",
       "    }\n",
       "\n",
       "    .colab-df-convert:hover {\n",
       "      background-color: #E2EBFA;\n",
       "      box-shadow: 0px 1px 2px rgba(60, 64, 67, 0.3), 0px 1px 3px 1px rgba(60, 64, 67, 0.15);\n",
       "      fill: #174EA6;\n",
       "    }\n",
       "\n",
       "    .colab-df-buttons div {\n",
       "      margin-bottom: 4px;\n",
       "    }\n",
       "\n",
       "    [theme=dark] .colab-df-convert {\n",
       "      background-color: #3B4455;\n",
       "      fill: #D2E3FC;\n",
       "    }\n",
       "\n",
       "    [theme=dark] .colab-df-convert:hover {\n",
       "      background-color: #434B5C;\n",
       "      box-shadow: 0px 1px 3px 1px rgba(0, 0, 0, 0.15);\n",
       "      filter: drop-shadow(0px 1px 2px rgba(0, 0, 0, 0.3));\n",
       "      fill: #FFFFFF;\n",
       "    }\n",
       "  </style>\n",
       "\n",
       "    <script>\n",
       "      const buttonEl =\n",
       "        document.querySelector('#df-ca25214b-d970-476a-9da6-182a2ac0e32f button.colab-df-convert');\n",
       "      buttonEl.style.display =\n",
       "        google.colab.kernel.accessAllowed ? 'block' : 'none';\n",
       "\n",
       "      async function convertToInteractive(key) {\n",
       "        const element = document.querySelector('#df-ca25214b-d970-476a-9da6-182a2ac0e32f');\n",
       "        const dataTable =\n",
       "          await google.colab.kernel.invokeFunction('convertToInteractive',\n",
       "                                                    [key], {});\n",
       "        if (!dataTable) return;\n",
       "\n",
       "        const docLinkHtml = 'Like what you see? Visit the ' +\n",
       "          '<a target=\"_blank\" href=https://colab.research.google.com/notebooks/data_table.ipynb>data table notebook</a>'\n",
       "          + ' to learn more about interactive tables.';\n",
       "        element.innerHTML = '';\n",
       "        dataTable['output_type'] = 'display_data';\n",
       "        await google.colab.output.renderOutput(dataTable, element);\n",
       "        const docLink = document.createElement('div');\n",
       "        docLink.innerHTML = docLinkHtml;\n",
       "        element.appendChild(docLink);\n",
       "      }\n",
       "    </script>\n",
       "  </div>\n",
       "\n",
       "\n",
       "    <div id=\"df-2136ac9b-2d52-4492-afb2-1ebc119e1713\">\n",
       "      <button class=\"colab-df-quickchart\" onclick=\"quickchart('df-2136ac9b-2d52-4492-afb2-1ebc119e1713')\"\n",
       "                title=\"Suggest charts\"\n",
       "                style=\"display:none;\">\n",
       "\n",
       "<svg xmlns=\"http://www.w3.org/2000/svg\" height=\"24px\"viewBox=\"0 0 24 24\"\n",
       "     width=\"24px\">\n",
       "    <g>\n",
       "        <path d=\"M19 3H5c-1.1 0-2 .9-2 2v14c0 1.1.9 2 2 2h14c1.1 0 2-.9 2-2V5c0-1.1-.9-2-2-2zM9 17H7v-7h2v7zm4 0h-2V7h2v10zm4 0h-2v-4h2v4z\"/>\n",
       "    </g>\n",
       "</svg>\n",
       "      </button>\n",
       "\n",
       "<style>\n",
       "  .colab-df-quickchart {\n",
       "      --bg-color: #E8F0FE;\n",
       "      --fill-color: #1967D2;\n",
       "      --hover-bg-color: #E2EBFA;\n",
       "      --hover-fill-color: #174EA6;\n",
       "      --disabled-fill-color: #AAA;\n",
       "      --disabled-bg-color: #DDD;\n",
       "  }\n",
       "\n",
       "  [theme=dark] .colab-df-quickchart {\n",
       "      --bg-color: #3B4455;\n",
       "      --fill-color: #D2E3FC;\n",
       "      --hover-bg-color: #434B5C;\n",
       "      --hover-fill-color: #FFFFFF;\n",
       "      --disabled-bg-color: #3B4455;\n",
       "      --disabled-fill-color: #666;\n",
       "  }\n",
       "\n",
       "  .colab-df-quickchart {\n",
       "    background-color: var(--bg-color);\n",
       "    border: none;\n",
       "    border-radius: 50%;\n",
       "    cursor: pointer;\n",
       "    display: none;\n",
       "    fill: var(--fill-color);\n",
       "    height: 32px;\n",
       "    padding: 0;\n",
       "    width: 32px;\n",
       "  }\n",
       "\n",
       "  .colab-df-quickchart:hover {\n",
       "    background-color: var(--hover-bg-color);\n",
       "    box-shadow: 0 1px 2px rgba(60, 64, 67, 0.3), 0 1px 3px 1px rgba(60, 64, 67, 0.15);\n",
       "    fill: var(--button-hover-fill-color);\n",
       "  }\n",
       "\n",
       "  .colab-df-quickchart-complete:disabled,\n",
       "  .colab-df-quickchart-complete:disabled:hover {\n",
       "    background-color: var(--disabled-bg-color);\n",
       "    fill: var(--disabled-fill-color);\n",
       "    box-shadow: none;\n",
       "  }\n",
       "\n",
       "  .colab-df-spinner {\n",
       "    border: 2px solid var(--fill-color);\n",
       "    border-color: transparent;\n",
       "    border-bottom-color: var(--fill-color);\n",
       "    animation:\n",
       "      spin 1s steps(1) infinite;\n",
       "  }\n",
       "\n",
       "  @keyframes spin {\n",
       "    0% {\n",
       "      border-color: transparent;\n",
       "      border-bottom-color: var(--fill-color);\n",
       "      border-left-color: var(--fill-color);\n",
       "    }\n",
       "    20% {\n",
       "      border-color: transparent;\n",
       "      border-left-color: var(--fill-color);\n",
       "      border-top-color: var(--fill-color);\n",
       "    }\n",
       "    30% {\n",
       "      border-color: transparent;\n",
       "      border-left-color: var(--fill-color);\n",
       "      border-top-color: var(--fill-color);\n",
       "      border-right-color: var(--fill-color);\n",
       "    }\n",
       "    40% {\n",
       "      border-color: transparent;\n",
       "      border-right-color: var(--fill-color);\n",
       "      border-top-color: var(--fill-color);\n",
       "    }\n",
       "    60% {\n",
       "      border-color: transparent;\n",
       "      border-right-color: var(--fill-color);\n",
       "    }\n",
       "    80% {\n",
       "      border-color: transparent;\n",
       "      border-right-color: var(--fill-color);\n",
       "      border-bottom-color: var(--fill-color);\n",
       "    }\n",
       "    90% {\n",
       "      border-color: transparent;\n",
       "      border-bottom-color: var(--fill-color);\n",
       "    }\n",
       "  }\n",
       "</style>\n",
       "\n",
       "      <script>\n",
       "        async function quickchart(key) {\n",
       "          const quickchartButtonEl =\n",
       "            document.querySelector('#' + key + ' button');\n",
       "          quickchartButtonEl.disabled = true;  // To prevent multiple clicks.\n",
       "          quickchartButtonEl.classList.add('colab-df-spinner');\n",
       "          try {\n",
       "            const charts = await google.colab.kernel.invokeFunction(\n",
       "                'suggestCharts', [key], {});\n",
       "          } catch (error) {\n",
       "            console.error('Error during call to suggestCharts:', error);\n",
       "          }\n",
       "          quickchartButtonEl.classList.remove('colab-df-spinner');\n",
       "          quickchartButtonEl.classList.add('colab-df-quickchart-complete');\n",
       "        }\n",
       "        (() => {\n",
       "          let quickchartButtonEl =\n",
       "            document.querySelector('#df-2136ac9b-2d52-4492-afb2-1ebc119e1713 button');\n",
       "          quickchartButtonEl.style.display =\n",
       "            google.colab.kernel.accessAllowed ? 'block' : 'none';\n",
       "        })();\n",
       "      </script>\n",
       "    </div>\n",
       "\n",
       "    </div>\n",
       "  </div>\n"
      ],
      "text/plain": [
       "                      data  chuva  temp  ur  co  no  no2  nox  so2  o3  pm10  \\\n",
       "8647   2012-01-01 00:30:00    0.2   NaN NaN NaN NaN  NaN  NaN  NaN NaN   NaN   \n",
       "8648   2012-01-01 01:30:00    2.0   NaN NaN NaN NaN  NaN  NaN  NaN NaN   NaN   \n",
       "8649   2012-01-01 02:30:00    2.4   NaN NaN NaN NaN  NaN  NaN  NaN NaN   NaN   \n",
       "262873 2012-01-01 03:30:00    0.6   NaN NaN NaN NaN  NaN  NaN  NaN NaN   NaN   \n",
       "262874 2012-01-01 04:30:00    0.0   NaN NaN NaN NaN  NaN  NaN  NaN NaN   NaN   \n",
       "\n",
       "        pm2_5        lat        lon data_formatada   ano  mes  \n",
       "8647      NaN -22.908344 -43.178152     2012-01-01  2012    1  \n",
       "8648      NaN -22.908344 -43.178152     2012-01-01  2012    1  \n",
       "8649      NaN -22.908344 -43.178152     2012-01-01  2012    1  \n",
       "262873    NaN -22.908344 -43.178152     2012-01-01  2012    1  \n",
       "262874    NaN -22.908344 -43.178152     2012-01-01  2012    1  "
      ]
     },
     "execution_count": 64,
     "metadata": {},
     "output_type": "execute_result"
    }
   ],
   "source": [
    "df_sensor_centro.head()"
   ]
  },
  {
   "cell_type": "code",
   "execution_count": 65,
   "metadata": {
    "executionInfo": {
     "elapsed": 1375,
     "status": "ok",
     "timestamp": 1750346112067,
     "user": {
      "displayName": "João Terêncio",
      "userId": "14302965054076037047"
     },
     "user_tz": 180
    },
    "id": "09ZBOJkkwGQ1"
   },
   "outputs": [],
   "source": [
    "df_sensor_centro.to_csv('centro_per_hour.csv', index=False)"
   ]
  },
  {
   "cell_type": "markdown",
   "metadata": {
    "id": "ijWuiCIzOE1P"
   },
   "source": [
    "# Gerando CSV de saída com a estação de centro preenchida\n"
   ]
  },
  {
   "cell_type": "code",
   "execution_count": null,
   "metadata": {
    "id": "4aicusNC82qi"
   },
   "outputs": [],
   "source": [
    "df_merged['lat'] = -22.908344\n",
    "df_merged['lon'] = -43.178152\n",
    "df_merged['estacao'] = 'Centro'\n",
    "df_merged['ano'] = pd.to_datetime(df_merged['data_formatada']).dt.year\n",
    "df_merged['mes'] = pd.to_datetime(df_merged['data_formatada']).dt.month"
   ]
  },
  {
   "cell_type": "code",
   "execution_count": null,
   "metadata": {
    "colab": {
     "base_uri": "https://localhost:8080/",
     "height": 206
    },
    "executionInfo": {
     "elapsed": 94,
     "status": "ok",
     "timestamp": 1750205053458,
     "user": {
      "displayName": "João Terêncio",
      "userId": "14302965054076037047"
     },
     "user_tz": 180
    },
    "id": "AWKbGzmZ9T5s",
    "outputId": "5e6ae425-d7f1-4cdf-99e5-bab2ac02b466"
   },
   "outputs": [
    {
     "data": {
      "application/vnd.google.colaboratory.intrinsic+json": {
       "summary": "{\n  \"name\": \"df_merged\",\n  \"rows\": 4750,\n  \"fields\": [\n    {\n      \"column\": \"data_formatada\",\n      \"properties\": {\n        \"dtype\": \"object\",\n        \"num_unique_values\": 4750,\n        \"samples\": [\n          \"2022-06-14\",\n          \"2014-12-11\",\n          \"2012-10-23\"\n        ],\n        \"semantic_type\": \"\",\n        \"description\": \"\"\n      }\n    },\n    {\n      \"column\": \"data\",\n      \"properties\": {\n        \"dtype\": \"date\",\n        \"min\": \"2012-01-01 12:00:00\",\n        \"max\": \"2025-01-01 01:30:00\",\n        \"num_unique_values\": 4750,\n        \"samples\": [\n          \"2022-06-14 12:00:00\",\n          \"2014-12-11 12:00:00\",\n          \"2012-10-23 12:00:00\"\n        ],\n        \"semantic_type\": \"\",\n        \"description\": \"\"\n      }\n    },\n    {\n      \"column\": \"chuva\",\n      \"properties\": {\n        \"dtype\": \"number\",\n        \"std\": 0.4436970449850096,\n        \"min\": 0.0,\n        \"max\": 16.8,\n        \"num_unique_values\": 288,\n        \"samples\": [\n          0.425,\n          1.0083333333333333,\n          3.0666666666666664\n        ],\n        \"semantic_type\": \"\",\n        \"description\": \"\"\n      }\n    },\n    {\n      \"column\": \"temp\",\n      \"properties\": {\n        \"dtype\": \"number\",\n        \"std\": 3.123900346068201,\n        \"min\": 0.0,\n        \"max\": 33.86833333333333,\n        \"num_unique_values\": 3518,\n        \"samples\": [\n          25.54875,\n          26.647916666666664,\n          31.74625\n        ],\n        \"semantic_type\": \"\",\n        \"description\": \"\"\n      }\n    },\n    {\n      \"column\": \"ur\",\n      \"properties\": {\n        \"dtype\": \"number\",\n        \"std\": 11.151874268212572,\n        \"min\": 0.0,\n        \"max\": 99.11666666666667,\n        \"num_unique_values\": 3647,\n        \"samples\": [\n          64.81208333333333,\n          73.98666666666666,\n          98.27958333333333\n        ],\n        \"semantic_type\": \"\",\n        \"description\": \"\"\n      }\n    },\n    {\n      \"column\": \"co\",\n      \"properties\": {\n        \"dtype\": \"number\",\n        \"std\": 0.17067859153196557,\n        \"min\": 0.0,\n        \"max\": 2.235,\n        \"num_unique_values\": 1825,\n        \"samples\": [\n          0.25416666666666665,\n          0.11041666666666666,\n          0.41458333333333336\n        ],\n        \"semantic_type\": \"\",\n        \"description\": \"\"\n      }\n    },\n    {\n      \"column\": \"no\",\n      \"properties\": {\n        \"dtype\": \"number\",\n        \"std\": null,\n        \"min\": null,\n        \"max\": null,\n        \"num_unique_values\": 0,\n        \"samples\": [],\n        \"semantic_type\": \"\",\n        \"description\": \"\"\n      }\n    },\n    {\n      \"column\": \"no2\",\n      \"properties\": {\n        \"dtype\": \"number\",\n        \"std\": null,\n        \"min\": null,\n        \"max\": null,\n        \"num_unique_values\": 0,\n        \"samples\": [],\n        \"semantic_type\": \"\",\n        \"description\": \"\"\n      }\n    },\n    {\n      \"column\": \"nox\",\n      \"properties\": {\n        \"dtype\": \"number\",\n        \"std\": null,\n        \"min\": null,\n        \"max\": null,\n        \"num_unique_values\": 0,\n        \"samples\": [],\n        \"semantic_type\": \"\",\n        \"description\": \"\"\n      }\n    },\n    {\n      \"column\": \"so2\",\n      \"properties\": {\n        \"dtype\": \"number\",\n        \"std\": null,\n        \"min\": null,\n        \"max\": null,\n        \"num_unique_values\": 0,\n        \"samples\": [],\n        \"semantic_type\": \"\",\n        \"description\": \"\"\n      }\n    },\n    {\n      \"column\": \"o3\",\n      \"properties\": {\n        \"dtype\": \"number\",\n        \"std\": 14.102489029548396,\n        \"min\": 0.0,\n        \"max\": 116.27749999999999,\n        \"num_unique_values\": 4376,\n        \"samples\": [],\n        \"semantic_type\": \"\",\n        \"description\": \"\"\n      }\n    },\n    {\n      \"column\": \"pm10\",\n      \"properties\": {\n        \"dtype\": \"number\",\n        \"std\": 17.147757113867033,\n        \"min\": 0.0,\n        \"max\": 594.7083333333334,\n        \"num_unique_values\": 1517,\n        \"samples\": [],\n        \"semantic_type\": \"\",\n        \"description\": \"\"\n      }\n    },\n    {\n      \"column\": \"pm2_5\",\n      \"properties\": {\n        \"dtype\": \"number\",\n        \"std\": null,\n        \"min\": null,\n        \"max\": null,\n        \"num_unique_values\": 0,\n        \"samples\": [],\n        \"semantic_type\": \"\",\n        \"description\": \"\"\n      }\n    },\n    {\n      \"column\": \"lat\",\n      \"properties\": {\n        \"dtype\": \"number\",\n        \"std\": 8.101039973600828e-13,\n        \"min\": -22.908344,\n        \"max\": -22.908344,\n        \"num_unique_values\": 1,\n        \"samples\": [],\n        \"semantic_type\": \"\",\n        \"description\": \"\"\n      }\n    },\n    {\n      \"column\": \"lon\",\n      \"properties\": {\n        \"dtype\": \"number\",\n        \"std\": 7.03511366128493e-13,\n        \"min\": -43.178152,\n        \"max\": -43.178152,\n        \"num_unique_values\": 1,\n        \"samples\": [],\n        \"semantic_type\": \"\",\n        \"description\": \"\"\n      }\n    },\n    {\n      \"column\": \"ano\",\n      \"properties\": {\n        \"dtype\": \"int32\",\n        \"num_unique_values\": 14,\n        \"samples\": [],\n        \"semantic_type\": \"\",\n        \"description\": \"\"\n      }\n    },\n    {\n      \"column\": \"mes\",\n      \"properties\": {\n        \"dtype\": \"int32\",\n        \"num_unique_values\": 12,\n        \"samples\": [],\n        \"semantic_type\": \"\",\n        \"description\": \"\"\n      }\n    },\n    {\n      \"column\": \"classificacao\",\n      \"properties\": {\n        \"dtype\": \"category\",\n        \"num_unique_values\": 5,\n        \"samples\": [],\n        \"semantic_type\": \"\",\n        \"description\": \"\"\n      }\n    },\n    {\n      \"column\": \"aqi\",\n      \"properties\": {\n        \"dtype\": \"Int64\",\n        \"num_unique_values\": 99,\n        \"samples\": [],\n        \"semantic_type\": \"\",\n        \"description\": \"\"\n      }\n    },\n    {\n      \"column\": \"estacao\",\n      \"properties\": {\n        \"dtype\": \"category\",\n        \"num_unique_values\": 1,\n        \"samples\": [],\n        \"semantic_type\": \"\",\n        \"description\": \"\"\n      }\n    }\n  ]\n}",
       "type": "dataframe",
       "variable_name": "df_merged"
      },
      "text/html": [
       "\n",
       "  <div id=\"df-f0edddf0-be53-438e-aadb-2b6a40102bce\" class=\"colab-df-container\">\n",
       "    <div>\n",
       "<style scoped>\n",
       "    .dataframe tbody tr th:only-of-type {\n",
       "        vertical-align: middle;\n",
       "    }\n",
       "\n",
       "    .dataframe tbody tr th {\n",
       "        vertical-align: top;\n",
       "    }\n",
       "\n",
       "    .dataframe thead th {\n",
       "        text-align: right;\n",
       "    }\n",
       "</style>\n",
       "<table border=\"1\" class=\"dataframe\">\n",
       "  <thead>\n",
       "    <tr style=\"text-align: right;\">\n",
       "      <th></th>\n",
       "      <th>data_formatada</th>\n",
       "      <th>data</th>\n",
       "      <th>chuva</th>\n",
       "      <th>temp</th>\n",
       "      <th>ur</th>\n",
       "      <th>co</th>\n",
       "      <th>no</th>\n",
       "      <th>no2</th>\n",
       "      <th>nox</th>\n",
       "      <th>so2</th>\n",
       "      <th>o3</th>\n",
       "      <th>pm10</th>\n",
       "      <th>pm2_5</th>\n",
       "      <th>lat</th>\n",
       "      <th>lon</th>\n",
       "      <th>ano</th>\n",
       "      <th>mes</th>\n",
       "      <th>classificacao</th>\n",
       "      <th>aqi</th>\n",
       "      <th>estacao</th>\n",
       "    </tr>\n",
       "  </thead>\n",
       "  <tbody>\n",
       "    <tr>\n",
       "      <th>0</th>\n",
       "      <td>2012-01-01</td>\n",
       "      <td>2012-01-01 12:00:00</td>\n",
       "      <td>0.516667</td>\n",
       "      <td>NaN</td>\n",
       "      <td>NaN</td>\n",
       "      <td>NaN</td>\n",
       "      <td>NaN</td>\n",
       "      <td>NaN</td>\n",
       "      <td>NaN</td>\n",
       "      <td>NaN</td>\n",
       "      <td>NaN</td>\n",
       "      <td>NaN</td>\n",
       "      <td>NaN</td>\n",
       "      <td>-22.908344</td>\n",
       "      <td>-43.178152</td>\n",
       "      <td>2012</td>\n",
       "      <td>1</td>\n",
       "      <td>N5 - Péssima</td>\n",
       "      <td>&lt;NA&gt;</td>\n",
       "      <td>Centro</td>\n",
       "    </tr>\n",
       "    <tr>\n",
       "      <th>1</th>\n",
       "      <td>2012-01-02</td>\n",
       "      <td>2012-01-02 12:00:00</td>\n",
       "      <td>2.850000</td>\n",
       "      <td>NaN</td>\n",
       "      <td>NaN</td>\n",
       "      <td>NaN</td>\n",
       "      <td>NaN</td>\n",
       "      <td>NaN</td>\n",
       "      <td>NaN</td>\n",
       "      <td>NaN</td>\n",
       "      <td>NaN</td>\n",
       "      <td>NaN</td>\n",
       "      <td>NaN</td>\n",
       "      <td>-22.908344</td>\n",
       "      <td>-43.178152</td>\n",
       "      <td>2012</td>\n",
       "      <td>1</td>\n",
       "      <td>N5 - Péssima</td>\n",
       "      <td>&lt;NA&gt;</td>\n",
       "      <td>Centro</td>\n",
       "    </tr>\n",
       "    <tr>\n",
       "      <th>2</th>\n",
       "      <td>2012-01-03</td>\n",
       "      <td>2012-01-03 12:00:00</td>\n",
       "      <td>0.008333</td>\n",
       "      <td>23.486957</td>\n",
       "      <td>69.861739</td>\n",
       "      <td>0.323478</td>\n",
       "      <td>NaN</td>\n",
       "      <td>NaN</td>\n",
       "      <td>NaN</td>\n",
       "      <td>NaN</td>\n",
       "      <td>9.346522</td>\n",
       "      <td>27.173913</td>\n",
       "      <td>NaN</td>\n",
       "      <td>-22.908344</td>\n",
       "      <td>-43.178152</td>\n",
       "      <td>2012</td>\n",
       "      <td>1</td>\n",
       "      <td>N1 - Boa</td>\n",
       "      <td>22</td>\n",
       "      <td>Centro</td>\n",
       "    </tr>\n",
       "    <tr>\n",
       "      <th>3</th>\n",
       "      <td>2012-01-04</td>\n",
       "      <td>2012-01-04 12:00:00</td>\n",
       "      <td>0.000000</td>\n",
       "      <td>23.964167</td>\n",
       "      <td>69.492083</td>\n",
       "      <td>0.295833</td>\n",
       "      <td>NaN</td>\n",
       "      <td>NaN</td>\n",
       "      <td>NaN</td>\n",
       "      <td>NaN</td>\n",
       "      <td>11.964167</td>\n",
       "      <td>36.041667</td>\n",
       "      <td>NaN</td>\n",
       "      <td>-22.908344</td>\n",
       "      <td>-43.178152</td>\n",
       "      <td>2012</td>\n",
       "      <td>1</td>\n",
       "      <td>N1 - Boa</td>\n",
       "      <td>29</td>\n",
       "      <td>Centro</td>\n",
       "    </tr>\n",
       "    <tr>\n",
       "      <th>4</th>\n",
       "      <td>2012-01-05</td>\n",
       "      <td>2012-01-05 12:00:00</td>\n",
       "      <td>0.000000</td>\n",
       "      <td>24.552917</td>\n",
       "      <td>72.535833</td>\n",
       "      <td>0.350000</td>\n",
       "      <td>NaN</td>\n",
       "      <td>NaN</td>\n",
       "      <td>NaN</td>\n",
       "      <td>NaN</td>\n",
       "      <td>19.228750</td>\n",
       "      <td>34.833333</td>\n",
       "      <td>NaN</td>\n",
       "      <td>-22.908344</td>\n",
       "      <td>-43.178152</td>\n",
       "      <td>2012</td>\n",
       "      <td>1</td>\n",
       "      <td>N1 - Boa</td>\n",
       "      <td>28</td>\n",
       "      <td>Centro</td>\n",
       "    </tr>\n",
       "  </tbody>\n",
       "</table>\n",
       "</div>\n",
       "    <div class=\"colab-df-buttons\">\n",
       "\n",
       "  <div class=\"colab-df-container\">\n",
       "    <button class=\"colab-df-convert\" onclick=\"convertToInteractive('df-f0edddf0-be53-438e-aadb-2b6a40102bce')\"\n",
       "            title=\"Convert this dataframe to an interactive table.\"\n",
       "            style=\"display:none;\">\n",
       "\n",
       "  <svg xmlns=\"http://www.w3.org/2000/svg\" height=\"24px\" viewBox=\"0 -960 960 960\">\n",
       "    <path d=\"M120-120v-720h720v720H120Zm60-500h600v-160H180v160Zm220 220h160v-160H400v160Zm0 220h160v-160H400v160ZM180-400h160v-160H180v160Zm440 0h160v-160H620v160ZM180-180h160v-160H180v160Zm440 0h160v-160H620v160Z\"/>\n",
       "  </svg>\n",
       "    </button>\n",
       "\n",
       "  <style>\n",
       "    .colab-df-container {\n",
       "      display:flex;\n",
       "      gap: 12px;\n",
       "    }\n",
       "\n",
       "    .colab-df-convert {\n",
       "      background-color: #E8F0FE;\n",
       "      border: none;\n",
       "      border-radius: 50%;\n",
       "      cursor: pointer;\n",
       "      display: none;\n",
       "      fill: #1967D2;\n",
       "      height: 32px;\n",
       "      padding: 0 0 0 0;\n",
       "      width: 32px;\n",
       "    }\n",
       "\n",
       "    .colab-df-convert:hover {\n",
       "      background-color: #E2EBFA;\n",
       "      box-shadow: 0px 1px 2px rgba(60, 64, 67, 0.3), 0px 1px 3px 1px rgba(60, 64, 67, 0.15);\n",
       "      fill: #174EA6;\n",
       "    }\n",
       "\n",
       "    .colab-df-buttons div {\n",
       "      margin-bottom: 4px;\n",
       "    }\n",
       "\n",
       "    [theme=dark] .colab-df-convert {\n",
       "      background-color: #3B4455;\n",
       "      fill: #D2E3FC;\n",
       "    }\n",
       "\n",
       "    [theme=dark] .colab-df-convert:hover {\n",
       "      background-color: #434B5C;\n",
       "      box-shadow: 0px 1px 3px 1px rgba(0, 0, 0, 0.15);\n",
       "      filter: drop-shadow(0px 1px 2px rgba(0, 0, 0, 0.3));\n",
       "      fill: #FFFFFF;\n",
       "    }\n",
       "  </style>\n",
       "\n",
       "    <script>\n",
       "      const buttonEl =\n",
       "        document.querySelector('#df-f0edddf0-be53-438e-aadb-2b6a40102bce button.colab-df-convert');\n",
       "      buttonEl.style.display =\n",
       "        google.colab.kernel.accessAllowed ? 'block' : 'none';\n",
       "\n",
       "      async function convertToInteractive(key) {\n",
       "        const element = document.querySelector('#df-f0edddf0-be53-438e-aadb-2b6a40102bce');\n",
       "        const dataTable =\n",
       "          await google.colab.kernel.invokeFunction('convertToInteractive',\n",
       "                                                    [key], {});\n",
       "        if (!dataTable) return;\n",
       "\n",
       "        const docLinkHtml = 'Like what you see? Visit the ' +\n",
       "          '<a target=\"_blank\" href=https://colab.research.google.com/notebooks/data_table.ipynb>data table notebook</a>'\n",
       "          + ' to learn more about interactive tables.';\n",
       "        element.innerHTML = '';\n",
       "        dataTable['output_type'] = 'display_data';\n",
       "        await google.colab.output.renderOutput(dataTable, element);\n",
       "        const docLink = document.createElement('div');\n",
       "        docLink.innerHTML = docLinkHtml;\n",
       "        element.appendChild(docLink);\n",
       "      }\n",
       "    </script>\n",
       "  </div>\n",
       "\n",
       "\n",
       "    <div id=\"df-0a46359a-28e3-4c7f-a0e7-92ea69d15848\">\n",
       "      <button class=\"colab-df-quickchart\" onclick=\"quickchart('df-0a46359a-28e3-4c7f-a0e7-92ea69d15848')\"\n",
       "                title=\"Suggest charts\"\n",
       "                style=\"display:none;\">\n",
       "\n",
       "<svg xmlns=\"http://www.w3.org/2000/svg\" height=\"24px\"viewBox=\"0 0 24 24\"\n",
       "     width=\"24px\">\n",
       "    <g>\n",
       "        <path d=\"M19 3H5c-1.1 0-2 .9-2 2v14c0 1.1.9 2 2 2h14c1.1 0 2-.9 2-2V5c0-1.1-.9-2-2-2zM9 17H7v-7h2v7zm4 0h-2V7h2v10zm4 0h-2v-4h2v4z\"/>\n",
       "    </g>\n",
       "</svg>\n",
       "      </button>\n",
       "\n",
       "<style>\n",
       "  .colab-df-quickchart {\n",
       "      --bg-color: #E8F0FE;\n",
       "      --fill-color: #1967D2;\n",
       "      --hover-bg-color: #E2EBFA;\n",
       "      --hover-fill-color: #174EA6;\n",
       "      --disabled-fill-color: #AAA;\n",
       "      --disabled-bg-color: #DDD;\n",
       "  }\n",
       "\n",
       "  [theme=dark] .colab-df-quickchart {\n",
       "      --bg-color: #3B4455;\n",
       "      --fill-color: #D2E3FC;\n",
       "      --hover-bg-color: #434B5C;\n",
       "      --hover-fill-color: #FFFFFF;\n",
       "      --disabled-bg-color: #3B4455;\n",
       "      --disabled-fill-color: #666;\n",
       "  }\n",
       "\n",
       "  .colab-df-quickchart {\n",
       "    background-color: var(--bg-color);\n",
       "    border: none;\n",
       "    border-radius: 50%;\n",
       "    cursor: pointer;\n",
       "    display: none;\n",
       "    fill: var(--fill-color);\n",
       "    height: 32px;\n",
       "    padding: 0;\n",
       "    width: 32px;\n",
       "  }\n",
       "\n",
       "  .colab-df-quickchart:hover {\n",
       "    background-color: var(--hover-bg-color);\n",
       "    box-shadow: 0 1px 2px rgba(60, 64, 67, 0.3), 0 1px 3px 1px rgba(60, 64, 67, 0.15);\n",
       "    fill: var(--button-hover-fill-color);\n",
       "  }\n",
       "\n",
       "  .colab-df-quickchart-complete:disabled,\n",
       "  .colab-df-quickchart-complete:disabled:hover {\n",
       "    background-color: var(--disabled-bg-color);\n",
       "    fill: var(--disabled-fill-color);\n",
       "    box-shadow: none;\n",
       "  }\n",
       "\n",
       "  .colab-df-spinner {\n",
       "    border: 2px solid var(--fill-color);\n",
       "    border-color: transparent;\n",
       "    border-bottom-color: var(--fill-color);\n",
       "    animation:\n",
       "      spin 1s steps(1) infinite;\n",
       "  }\n",
       "\n",
       "  @keyframes spin {\n",
       "    0% {\n",
       "      border-color: transparent;\n",
       "      border-bottom-color: var(--fill-color);\n",
       "      border-left-color: var(--fill-color);\n",
       "    }\n",
       "    20% {\n",
       "      border-color: transparent;\n",
       "      border-left-color: var(--fill-color);\n",
       "      border-top-color: var(--fill-color);\n",
       "    }\n",
       "    30% {\n",
       "      border-color: transparent;\n",
       "      border-left-color: var(--fill-color);\n",
       "      border-top-color: var(--fill-color);\n",
       "      border-right-color: var(--fill-color);\n",
       "    }\n",
       "    40% {\n",
       "      border-color: transparent;\n",
       "      border-right-color: var(--fill-color);\n",
       "      border-top-color: var(--fill-color);\n",
       "    }\n",
       "    60% {\n",
       "      border-color: transparent;\n",
       "      border-right-color: var(--fill-color);\n",
       "    }\n",
       "    80% {\n",
       "      border-color: transparent;\n",
       "      border-right-color: var(--fill-color);\n",
       "      border-bottom-color: var(--fill-color);\n",
       "    }\n",
       "    90% {\n",
       "      border-color: transparent;\n",
       "      border-bottom-color: var(--fill-color);\n",
       "    }\n",
       "  }\n",
       "</style>\n",
       "\n",
       "      <script>\n",
       "        async function quickchart(key) {\n",
       "          const quickchartButtonEl =\n",
       "            document.querySelector('#' + key + ' button');\n",
       "          quickchartButtonEl.disabled = true;  // To prevent multiple clicks.\n",
       "          quickchartButtonEl.classList.add('colab-df-spinner');\n",
       "          try {\n",
       "            const charts = await google.colab.kernel.invokeFunction(\n",
       "                'suggestCharts', [key], {});\n",
       "          } catch (error) {\n",
       "            console.error('Error during call to suggestCharts:', error);\n",
       "          }\n",
       "          quickchartButtonEl.classList.remove('colab-df-spinner');\n",
       "          quickchartButtonEl.classList.add('colab-df-quickchart-complete');\n",
       "        }\n",
       "        (() => {\n",
       "          let quickchartButtonEl =\n",
       "            document.querySelector('#df-0a46359a-28e3-4c7f-a0e7-92ea69d15848 button');\n",
       "          quickchartButtonEl.style.display =\n",
       "            google.colab.kernel.accessAllowed ? 'block' : 'none';\n",
       "        })();\n",
       "      </script>\n",
       "    </div>\n",
       "\n",
       "    </div>\n",
       "  </div>\n"
      ],
      "text/plain": [
       "  data_formatada                data     chuva       temp         ur  \\\n",
       "0     2012-01-01 2012-01-01 12:00:00  0.516667        NaN        NaN   \n",
       "1     2012-01-02 2012-01-02 12:00:00  2.850000        NaN        NaN   \n",
       "2     2012-01-03 2012-01-03 12:00:00  0.008333  23.486957  69.861739   \n",
       "3     2012-01-04 2012-01-04 12:00:00  0.000000  23.964167  69.492083   \n",
       "4     2012-01-05 2012-01-05 12:00:00  0.000000  24.552917  72.535833   \n",
       "\n",
       "         co  no  no2  nox  so2         o3       pm10  pm2_5        lat  \\\n",
       "0       NaN NaN  NaN  NaN  NaN        NaN        NaN    NaN -22.908344   \n",
       "1       NaN NaN  NaN  NaN  NaN        NaN        NaN    NaN -22.908344   \n",
       "2  0.323478 NaN  NaN  NaN  NaN   9.346522  27.173913    NaN -22.908344   \n",
       "3  0.295833 NaN  NaN  NaN  NaN  11.964167  36.041667    NaN -22.908344   \n",
       "4  0.350000 NaN  NaN  NaN  NaN  19.228750  34.833333    NaN -22.908344   \n",
       "\n",
       "         lon   ano  mes classificacao   aqi estacao  \n",
       "0 -43.178152  2012    1  N5 - Péssima  <NA>  Centro  \n",
       "1 -43.178152  2012    1  N5 - Péssima  <NA>  Centro  \n",
       "2 -43.178152  2012    1      N1 - Boa    22  Centro  \n",
       "3 -43.178152  2012    1      N1 - Boa    29  Centro  \n",
       "4 -43.178152  2012    1      N1 - Boa    28  Centro  "
      ]
     },
     "execution_count": 74,
     "metadata": {},
     "output_type": "execute_result"
    }
   ],
   "source": [
    "df_merged.head()"
   ]
  },
  {
   "cell_type": "code",
   "execution_count": null,
   "metadata": {
    "colab": {
     "base_uri": "https://localhost:8080/",
     "height": 206
    },
    "executionInfo": {
     "elapsed": 49,
     "status": "ok",
     "timestamp": 1750205079855,
     "user": {
      "displayName": "João Terêncio",
      "userId": "14302965054076037047"
     },
     "user_tz": 180
    },
    "id": "kcXrsfBsCBTA",
    "outputId": "d4bb7184-cdc5-4775-c932-b2a29fed7dc1"
   },
   "outputs": [
    {
     "data": {
      "application/vnd.google.colaboratory.intrinsic+json": {
       "summary": "{\n  \"name\": \"display(df_merged\",\n  \"rows\": 5,\n  \"fields\": [\n    {\n      \"column\": \"data_formatada\",\n      \"properties\": {\n        \"dtype\": \"object\",\n        \"num_unique_values\": 5,\n        \"samples\": [\n          \"2012-01-02\",\n          \"2012-01-05\",\n          \"2012-01-03\"\n        ],\n        \"semantic_type\": \"\",\n        \"description\": \"\"\n      }\n    },\n    {\n      \"column\": \"estacao\",\n      \"properties\": {\n        \"dtype\": \"category\",\n        \"num_unique_values\": 1,\n        \"samples\": [\n          \"Centro\"\n        ],\n        \"semantic_type\": \"\",\n        \"description\": \"\"\n      }\n    },\n    {\n      \"column\": \"ano\",\n      \"properties\": {\n        \"dtype\": \"int32\",\n        \"num_unique_values\": 1,\n        \"samples\": [\n          2012\n        ],\n        \"semantic_type\": \"\",\n        \"description\": \"\"\n      }\n    },\n    {\n      \"column\": \"mes\",\n      \"properties\": {\n        \"dtype\": \"int32\",\n        \"num_unique_values\": 1,\n        \"samples\": [\n          1\n        ],\n        \"semantic_type\": \"\",\n        \"description\": \"\"\n      }\n    },\n    {\n      \"column\": \"lat\",\n      \"properties\": {\n        \"dtype\": \"number\",\n        \"std\": 0.0,\n        \"min\": -22.908344,\n        \"max\": -22.908344,\n        \"num_unique_values\": 1,\n        \"samples\": [\n          -22.908344\n        ],\n        \"semantic_type\": \"\",\n        \"description\": \"\"\n      }\n    },\n    {\n      \"column\": \"lon\",\n      \"properties\": {\n        \"dtype\": \"number\",\n        \"std\": 0.0,\n        \"min\": -43.178152,\n        \"max\": -43.178152,\n        \"num_unique_values\": 1,\n        \"samples\": [\n          -43.178152\n        ],\n        \"semantic_type\": \"\",\n        \"description\": \"\"\n      }\n    },\n    {\n      \"column\": \"chuva\",\n      \"properties\": {\n        \"dtype\": \"number\",\n        \"std\": 1.23606117252433,\n        \"min\": 0.0,\n        \"max\": 2.8499999999999996,\n        \"num_unique_values\": 4,\n        \"samples\": [\n          2.8499999999999996\n        ],\n        \"semantic_type\": \"\",\n        \"description\": \"\"\n      }\n    },\n    {\n      \"column\": \"temp\",\n      \"properties\": {\n        \"dtype\": \"number\",\n        \"std\": 0.5339517948741074,\n        \"min\": 23.48695652173913,\n        \"max\": 24.552916666666665,\n        \"num_unique_values\": 3,\n        \"samples\": [\n          23.48695652173913\n        ],\n        \"semantic_type\": \"\",\n        \"description\": \"\"\n      }\n    },\n    {\n      \"column\": \"ur\",\n      \"properties\": {\n        \"dtype\": \"number\",\n        \"std\": 1.6609153739633222,\n        \"min\": 69.49208333333333,\n        \"max\": 72.53583333333333,\n        \"num_unique_values\": 3,\n        \"samples\": [\n          69.86173913043478\n        ],\n        \"semantic_type\": \"\",\n        \"description\": \"\"\n      }\n    },\n    {\n      \"column\": \"co\",\n      \"properties\": {\n        \"dtype\": \"number\",\n        \"std\": 0.02708527411332626,\n        \"min\": 0.29583333333333334,\n        \"max\": 0.35000000000000003,\n        \"num_unique_values\": 3,\n        \"samples\": [\n          0.3234782608695652\n        ],\n        \"semantic_type\": \"\",\n        \"description\": \"\"\n      }\n    },\n    {\n      \"column\": \"no\",\n      \"properties\": {\n        \"dtype\": \"number\",\n        \"std\": null,\n        \"min\": null,\n        \"max\": null,\n        \"num_unique_values\": 0,\n        \"samples\": [],\n        \"semantic_type\": \"\",\n        \"description\": \"\"\n      }\n    },\n    {\n      \"column\": \"no2\",\n      \"properties\": {\n        \"dtype\": \"number\",\n        \"std\": null,\n        \"min\": null,\n        \"max\": null,\n        \"num_unique_values\": 0,\n        \"samples\": [],\n        \"semantic_type\": \"\",\n        \"description\": \"\"\n      }\n    },\n    {\n      \"column\": \"nox\",\n      \"properties\": {\n        \"dtype\": \"number\",\n        \"std\": null,\n        \"min\": null,\n        \"max\": null,\n        \"num_unique_values\": 0,\n        \"samples\": [],\n        \"semantic_type\": \"\",\n        \"description\": \"\"\n      }\n    },\n    {\n      \"column\": \"so2\",\n      \"properties\": {\n        \"dtype\": \"number\",\n        \"std\": null,\n        \"min\": null,\n        \"max\": null,\n        \"num_unique_values\": 0,\n        \"samples\": [],\n        \"semantic_type\": \"\",\n        \"description\": \"\"\n      }\n    },\n    {\n      \"column\": \"o3\",\n      \"properties\": {\n        \"dtype\": \"number\",\n        \"std\": 5.11997186472624,\n        \"min\": 9.346521739130434,\n        \"max\": 19.22875,\n        \"num_unique_values\": 3,\n        \"samples\": [],\n        \"semantic_type\": \"\",\n        \"description\": \"\"\n      }\n    },\n    {\n      \"column\": \"pm10\",\n      \"properties\": {\n        \"dtype\": \"number\",\n        \"std\": 4.809085896208327,\n        \"min\": 27.17391304347826,\n        \"max\": 36.041666666666664,\n        \"num_unique_values\": 3,\n        \"samples\": [],\n        \"semantic_type\": \"\",\n        \"description\": \"\"\n      }\n    },\n    {\n      \"column\": \"pm2_5\",\n      \"properties\": {\n        \"dtype\": \"number\",\n        \"std\": null,\n        \"min\": null,\n        \"max\": null,\n        \"num_unique_values\": 0,\n        \"samples\": [],\n        \"semantic_type\": \"\",\n        \"description\": \"\"\n      }\n    },\n    {\n      \"column\": \"aqi\",\n      \"properties\": {\n        \"dtype\": \"Int64\",\n        \"num_unique_values\": 3,\n        \"samples\": [],\n        \"semantic_type\": \"\",\n        \"description\": \"\"\n      }\n    },\n    {\n      \"column\": \"classificacao\",\n      \"properties\": {\n        \"dtype\": \"category\",\n        \"num_unique_values\": 2,\n        \"samples\": [],\n        \"semantic_type\": \"\",\n        \"description\": \"\"\n      }\n    }\n  ]\n}",
       "type": "dataframe"
      },
      "text/html": [
       "\n",
       "  <div id=\"df-fb0e2abc-73ab-4a5e-b412-2270f1607383\" class=\"colab-df-container\">\n",
       "    <div>\n",
       "<style scoped>\n",
       "    .dataframe tbody tr th:only-of-type {\n",
       "        vertical-align: middle;\n",
       "    }\n",
       "\n",
       "    .dataframe tbody tr th {\n",
       "        vertical-align: top;\n",
       "    }\n",
       "\n",
       "    .dataframe thead th {\n",
       "        text-align: right;\n",
       "    }\n",
       "</style>\n",
       "<table border=\"1\" class=\"dataframe\">\n",
       "  <thead>\n",
       "    <tr style=\"text-align: right;\">\n",
       "      <th></th>\n",
       "      <th>data_formatada</th>\n",
       "      <th>estacao</th>\n",
       "      <th>ano</th>\n",
       "      <th>mes</th>\n",
       "      <th>lat</th>\n",
       "      <th>lon</th>\n",
       "      <th>chuva</th>\n",
       "      <th>temp</th>\n",
       "      <th>ur</th>\n",
       "      <th>co</th>\n",
       "      <th>no</th>\n",
       "      <th>no2</th>\n",
       "      <th>nox</th>\n",
       "      <th>so2</th>\n",
       "      <th>o3</th>\n",
       "      <th>pm10</th>\n",
       "      <th>pm2_5</th>\n",
       "      <th>aqi</th>\n",
       "      <th>classificacao</th>\n",
       "    </tr>\n",
       "  </thead>\n",
       "  <tbody>\n",
       "    <tr>\n",
       "      <th>0</th>\n",
       "      <td>2012-01-01</td>\n",
       "      <td>Centro</td>\n",
       "      <td>2012</td>\n",
       "      <td>1</td>\n",
       "      <td>-22.908344</td>\n",
       "      <td>-43.178152</td>\n",
       "      <td>0.516667</td>\n",
       "      <td>NaN</td>\n",
       "      <td>NaN</td>\n",
       "      <td>NaN</td>\n",
       "      <td>NaN</td>\n",
       "      <td>NaN</td>\n",
       "      <td>NaN</td>\n",
       "      <td>NaN</td>\n",
       "      <td>NaN</td>\n",
       "      <td>NaN</td>\n",
       "      <td>NaN</td>\n",
       "      <td>&lt;NA&gt;</td>\n",
       "      <td>N5 - Péssima</td>\n",
       "    </tr>\n",
       "    <tr>\n",
       "      <th>1</th>\n",
       "      <td>2012-01-02</td>\n",
       "      <td>Centro</td>\n",
       "      <td>2012</td>\n",
       "      <td>1</td>\n",
       "      <td>-22.908344</td>\n",
       "      <td>-43.178152</td>\n",
       "      <td>2.850000</td>\n",
       "      <td>NaN</td>\n",
       "      <td>NaN</td>\n",
       "      <td>NaN</td>\n",
       "      <td>NaN</td>\n",
       "      <td>NaN</td>\n",
       "      <td>NaN</td>\n",
       "      <td>NaN</td>\n",
       "      <td>NaN</td>\n",
       "      <td>NaN</td>\n",
       "      <td>NaN</td>\n",
       "      <td>&lt;NA&gt;</td>\n",
       "      <td>N5 - Péssima</td>\n",
       "    </tr>\n",
       "    <tr>\n",
       "      <th>2</th>\n",
       "      <td>2012-01-03</td>\n",
       "      <td>Centro</td>\n",
       "      <td>2012</td>\n",
       "      <td>1</td>\n",
       "      <td>-22.908344</td>\n",
       "      <td>-43.178152</td>\n",
       "      <td>0.008333</td>\n",
       "      <td>23.486957</td>\n",
       "      <td>69.861739</td>\n",
       "      <td>0.323478</td>\n",
       "      <td>NaN</td>\n",
       "      <td>NaN</td>\n",
       "      <td>NaN</td>\n",
       "      <td>NaN</td>\n",
       "      <td>9.346522</td>\n",
       "      <td>27.173913</td>\n",
       "      <td>NaN</td>\n",
       "      <td>22</td>\n",
       "      <td>N1 - Boa</td>\n",
       "    </tr>\n",
       "    <tr>\n",
       "      <th>3</th>\n",
       "      <td>2012-01-04</td>\n",
       "      <td>Centro</td>\n",
       "      <td>2012</td>\n",
       "      <td>1</td>\n",
       "      <td>-22.908344</td>\n",
       "      <td>-43.178152</td>\n",
       "      <td>0.000000</td>\n",
       "      <td>23.964167</td>\n",
       "      <td>69.492083</td>\n",
       "      <td>0.295833</td>\n",
       "      <td>NaN</td>\n",
       "      <td>NaN</td>\n",
       "      <td>NaN</td>\n",
       "      <td>NaN</td>\n",
       "      <td>11.964167</td>\n",
       "      <td>36.041667</td>\n",
       "      <td>NaN</td>\n",
       "      <td>29</td>\n",
       "      <td>N1 - Boa</td>\n",
       "    </tr>\n",
       "    <tr>\n",
       "      <th>4</th>\n",
       "      <td>2012-01-05</td>\n",
       "      <td>Centro</td>\n",
       "      <td>2012</td>\n",
       "      <td>1</td>\n",
       "      <td>-22.908344</td>\n",
       "      <td>-43.178152</td>\n",
       "      <td>0.000000</td>\n",
       "      <td>24.552917</td>\n",
       "      <td>72.535833</td>\n",
       "      <td>0.350000</td>\n",
       "      <td>NaN</td>\n",
       "      <td>NaN</td>\n",
       "      <td>NaN</td>\n",
       "      <td>NaN</td>\n",
       "      <td>19.228750</td>\n",
       "      <td>34.833333</td>\n",
       "      <td>NaN</td>\n",
       "      <td>28</td>\n",
       "      <td>N1 - Boa</td>\n",
       "    </tr>\n",
       "  </tbody>\n",
       "</table>\n",
       "</div>\n",
       "    <div class=\"colab-df-buttons\">\n",
       "\n",
       "  <div class=\"colab-df-container\">\n",
       "    <button class=\"colab-df-convert\" onclick=\"convertToInteractive('df-fb0e2abc-73ab-4a5e-b412-2270f1607383')\"\n",
       "            title=\"Convert this dataframe to an interactive table.\"\n",
       "            style=\"display:none;\">\n",
       "\n",
       "  <svg xmlns=\"http://www.w3.org/2000/svg\" height=\"24px\" viewBox=\"0 -960 960 960\">\n",
       "    <path d=\"M120-120v-720h720v720H120Zm60-500h600v-160H180v160Zm220 220h160v-160H400v160Zm0 220h160v-160H400v160ZM180-400h160v-160H180v160Zm440 0h160v-160H620v160ZM180-180h160v-160H180v160Zm440 0h160v-160H620v160Z\"/>\n",
       "  </svg>\n",
       "    </button>\n",
       "\n",
       "  <style>\n",
       "    .colab-df-container {\n",
       "      display:flex;\n",
       "      gap: 12px;\n",
       "    }\n",
       "\n",
       "    .colab-df-convert {\n",
       "      background-color: #E8F0FE;\n",
       "      border: none;\n",
       "      border-radius: 50%;\n",
       "      cursor: pointer;\n",
       "      display: none;\n",
       "      fill: #1967D2;\n",
       "      height: 32px;\n",
       "      padding: 0 0 0 0;\n",
       "      width: 32px;\n",
       "    }\n",
       "\n",
       "    .colab-df-convert:hover {\n",
       "      background-color: #E2EBFA;\n",
       "      box-shadow: 0px 1px 2px rgba(60, 64, 67, 0.3), 0px 1px 3px 1px rgba(60, 64, 67, 0.15);\n",
       "      fill: #174EA6;\n",
       "    }\n",
       "\n",
       "    .colab-df-buttons div {\n",
       "      margin-bottom: 4px;\n",
       "    }\n",
       "\n",
       "    [theme=dark] .colab-df-convert {\n",
       "      background-color: #3B4455;\n",
       "      fill: #D2E3FC;\n",
       "    }\n",
       "\n",
       "    [theme=dark] .colab-df-convert:hover {\n",
       "      background-color: #434B5C;\n",
       "      box-shadow: 0px 1px 3px 1px rgba(0, 0, 0, 0.15);\n",
       "      filter: drop-shadow(0px 1px 2px rgba(0, 0, 0, 0.3));\n",
       "      fill: #FFFFFF;\n",
       "    }\n",
       "  </style>\n",
       "\n",
       "    <script>\n",
       "      const buttonEl =\n",
       "        document.querySelector('#df-fb0e2abc-73ab-4a5e-b412-2270f1607383 button.colab-df-convert');\n",
       "      buttonEl.style.display =\n",
       "        google.colab.kernel.accessAllowed ? 'block' : 'none';\n",
       "\n",
       "      async function convertToInteractive(key) {\n",
       "        const element = document.querySelector('#df-fb0e2abc-73ab-4a5e-b412-2270f1607383');\n",
       "        const dataTable =\n",
       "          await google.colab.kernel.invokeFunction('convertToInteractive',\n",
       "                                                    [key], {});\n",
       "        if (!dataTable) return;\n",
       "\n",
       "        const docLinkHtml = 'Like what you see? Visit the ' +\n",
       "          '<a target=\"_blank\" href=https://colab.research.google.com/notebooks/data_table.ipynb>data table notebook</a>'\n",
       "          + ' to learn more about interactive tables.';\n",
       "        element.innerHTML = '';\n",
       "        dataTable['output_type'] = 'display_data';\n",
       "        await google.colab.output.renderOutput(dataTable, element);\n",
       "        const docLink = document.createElement('div');\n",
       "        docLink.innerHTML = docLinkHtml;\n",
       "        element.appendChild(docLink);\n",
       "      }\n",
       "    </script>\n",
       "  </div>\n",
       "\n",
       "\n",
       "    <div id=\"df-0b7b3ea4-3833-4782-a44d-ca853b0089e3\">\n",
       "      <button class=\"colab-df-quickchart\" onclick=\"quickchart('df-0b7b3ea4-3833-4782-a44d-ca853b0089e3')\"\n",
       "                title=\"Suggest charts\"\n",
       "                style=\"display:none;\">\n",
       "\n",
       "<svg xmlns=\"http://www.w3.org/2000/svg\" height=\"24px\"viewBox=\"0 0 24 24\"\n",
       "     width=\"24px\">\n",
       "    <g>\n",
       "        <path d=\"M19 3H5c-1.1 0-2 .9-2 2v14c0 1.1.9 2 2 2h14c1.1 0 2-.9 2-2V5c0-1.1-.9-2-2-2zM9 17H7v-7h2v7zm4 0h-2V7h2v10zm4 0h-2v-4h2v4z\"/>\n",
       "    </g>\n",
       "</svg>\n",
       "      </button>\n",
       "\n",
       "<style>\n",
       "  .colab-df-quickchart {\n",
       "      --bg-color: #E8F0FE;\n",
       "      --fill-color: #1967D2;\n",
       "      --hover-bg-color: #E2EBFA;\n",
       "      --hover-fill-color: #174EA6;\n",
       "      --disabled-fill-color: #AAA;\n",
       "      --disabled-bg-color: #DDD;\n",
       "  }\n",
       "\n",
       "  [theme=dark] .colab-df-quickchart {\n",
       "      --bg-color: #3B4455;\n",
       "      --fill-color: #D2E3FC;\n",
       "      --hover-bg-color: #434B5C;\n",
       "      --hover-fill-color: #FFFFFF;\n",
       "      --disabled-bg-color: #3B4455;\n",
       "      --disabled-fill-color: #666;\n",
       "  }\n",
       "\n",
       "  .colab-df-quickchart {\n",
       "    background-color: var(--bg-color);\n",
       "    border: none;\n",
       "    border-radius: 50%;\n",
       "    cursor: pointer;\n",
       "    display: none;\n",
       "    fill: var(--fill-color);\n",
       "    height: 32px;\n",
       "    padding: 0;\n",
       "    width: 32px;\n",
       "  }\n",
       "\n",
       "  .colab-df-quickchart:hover {\n",
       "    background-color: var(--hover-bg-color);\n",
       "    box-shadow: 0 1px 2px rgba(60, 64, 67, 0.3), 0 1px 3px 1px rgba(60, 64, 67, 0.15);\n",
       "    fill: var(--button-hover-fill-color);\n",
       "  }\n",
       "\n",
       "  .colab-df-quickchart-complete:disabled,\n",
       "  .colab-df-quickchart-complete:disabled:hover {\n",
       "    background-color: var(--disabled-bg-color);\n",
       "    fill: var(--disabled-fill-color);\n",
       "    box-shadow: none;\n",
       "  }\n",
       "\n",
       "  .colab-df-spinner {\n",
       "    border: 2px solid var(--fill-color);\n",
       "    border-color: transparent;\n",
       "    border-bottom-color: var(--fill-color);\n",
       "    animation:\n",
       "      spin 1s steps(1) infinite;\n",
       "  }\n",
       "\n",
       "  @keyframes spin {\n",
       "    0% {\n",
       "      border-color: transparent;\n",
       "      border-bottom-color: var(--fill-color);\n",
       "      border-left-color: var(--fill-color);\n",
       "    }\n",
       "    20% {\n",
       "      border-color: transparent;\n",
       "      border-left-color: var(--fill-color);\n",
       "      border-top-color: var(--fill-color);\n",
       "    }\n",
       "    30% {\n",
       "      border-color: transparent;\n",
       "      border-left-color: var(--fill-color);\n",
       "      border-top-color: var(--fill-color);\n",
       "      border-right-color: var(--fill-color);\n",
       "    }\n",
       "    40% {\n",
       "      border-color: transparent;\n",
       "      border-right-color: var(--fill-color);\n",
       "      border-top-color: var(--fill-color);\n",
       "    }\n",
       "    60% {\n",
       "      border-color: transparent;\n",
       "      border-right-color: var(--fill-color);\n",
       "    }\n",
       "    80% {\n",
       "      border-color: transparent;\n",
       "      border-right-color: var(--fill-color);\n",
       "      border-bottom-color: var(--fill-color);\n",
       "    }\n",
       "    90% {\n",
       "      border-color: transparent;\n",
       "      border-bottom-color: var(--fill-color);\n",
       "    }\n",
       "  }\n",
       "</style>\n",
       "\n",
       "      <script>\n",
       "        async function quickchart(key) {\n",
       "          const quickchartButtonEl =\n",
       "            document.querySelector('#' + key + ' button');\n",
       "          quickchartButtonEl.disabled = true;  // To prevent multiple clicks.\n",
       "          quickchartButtonEl.classList.add('colab-df-spinner');\n",
       "          try {\n",
       "            const charts = await google.colab.kernel.invokeFunction(\n",
       "                'suggestCharts', [key], {});\n",
       "          } catch (error) {\n",
       "            console.error('Error during call to suggestCharts:', error);\n",
       "          }\n",
       "          quickchartButtonEl.classList.remove('colab-df-spinner');\n",
       "          quickchartButtonEl.classList.add('colab-df-quickchart-complete');\n",
       "        }\n",
       "        (() => {\n",
       "          let quickchartButtonEl =\n",
       "            document.querySelector('#df-0b7b3ea4-3833-4782-a44d-ca853b0089e3 button');\n",
       "          quickchartButtonEl.style.display =\n",
       "            google.colab.kernel.accessAllowed ? 'block' : 'none';\n",
       "        })();\n",
       "      </script>\n",
       "    </div>\n",
       "\n",
       "    </div>\n",
       "  </div>\n"
      ],
      "text/plain": [
       "  data_formatada estacao   ano  mes        lat        lon     chuva  \\\n",
       "0     2012-01-01  Centro  2012    1 -22.908344 -43.178152  0.516667   \n",
       "1     2012-01-02  Centro  2012    1 -22.908344 -43.178152  2.850000   \n",
       "2     2012-01-03  Centro  2012    1 -22.908344 -43.178152  0.008333   \n",
       "3     2012-01-04  Centro  2012    1 -22.908344 -43.178152  0.000000   \n",
       "4     2012-01-05  Centro  2012    1 -22.908344 -43.178152  0.000000   \n",
       "\n",
       "        temp         ur        co  no  no2  nox  so2         o3       pm10  \\\n",
       "0        NaN        NaN       NaN NaN  NaN  NaN  NaN        NaN        NaN   \n",
       "1        NaN        NaN       NaN NaN  NaN  NaN  NaN        NaN        NaN   \n",
       "2  23.486957  69.861739  0.323478 NaN  NaN  NaN  NaN   9.346522  27.173913   \n",
       "3  23.964167  69.492083  0.295833 NaN  NaN  NaN  NaN  11.964167  36.041667   \n",
       "4  24.552917  72.535833  0.350000 NaN  NaN  NaN  NaN  19.228750  34.833333   \n",
       "\n",
       "   pm2_5   aqi classificacao  \n",
       "0    NaN  <NA>  N5 - Péssima  \n",
       "1    NaN  <NA>  N5 - Péssima  \n",
       "2    NaN    22      N1 - Boa  \n",
       "3    NaN    29      N1 - Boa  \n",
       "4    NaN    28      N1 - Boa  "
      ]
     },
     "metadata": {},
     "output_type": "display_data"
    }
   ],
   "source": [
    "# Reorder columns\n",
    "new_order = ['data_formatada', 'estacao', 'ano', 'mes', 'lat', 'lon',\n",
    "             'chuva', 'temp', 'ur', 'co', 'no', 'no2', 'nox', 'so2', 'o3', 'pm10', 'pm2_5',\n",
    "             'aqi', 'classificacao']\n",
    "df_merged = df_merged[new_order]\n",
    "\n",
    "display(df_merged.head())"
   ]
  },
  {
   "cell_type": "code",
   "execution_count": null,
   "metadata": {
    "id": "gfe-Z7ZsOOQO"
   },
   "outputs": [],
   "source": [
    "df_merged.to_csv('centro.csv', index=False)"
   ]
  }
 ],
 "metadata": {
  "colab": {
   "authorship_tag": "ABX9TyNNW6/spJ8bVj2T22fmmiYZ",
   "mount_file_id": "16OeHMT-UL_tPEjj1AHO41aUQ_fhu5ul3",
   "provenance": []
  },
  "kernelspec": {
   "display_name": "base",
   "language": "python",
   "name": "python3"
  },
  "language_info": {
   "codemirror_mode": {
    "name": "ipython",
    "version": 3
   },
   "file_extension": ".py",
   "mimetype": "text/x-python",
   "name": "python",
   "nbconvert_exporter": "python",
   "pygments_lexer": "ipython3",
   "version": "3.11.7"
  }
 },
 "nbformat": 4,
 "nbformat_minor": 0
}
