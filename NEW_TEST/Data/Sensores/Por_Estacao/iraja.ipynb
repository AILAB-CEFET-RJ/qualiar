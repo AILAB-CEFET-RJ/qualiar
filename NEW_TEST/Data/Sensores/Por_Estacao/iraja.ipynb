{
 "cells": [
  {
   "cell_type": "markdown",
   "metadata": {
    "id": "TTJ20DT1DZP4"
   },
   "source": [
    "# Importações"
   ]
  },
  {
   "cell_type": "code",
   "execution_count": 1,
   "metadata": {
    "executionInfo": {
     "elapsed": 7044,
     "status": "ok",
     "timestamp": 1750346262467,
     "user": {
      "displayName": "João Terêncio",
      "userId": "14302965054076037047"
     },
     "user_tz": 180
    },
    "id": "3IqV3pDuCcJq"
   },
   "outputs": [],
   "source": [
    "import io\n",
    "import zipfile\n",
    "import requests\n",
    "import numpy as np\n",
    "import pandas as pd\n",
    "import matplotlib.pyplot as plt"
   ]
  },
  {
   "cell_type": "markdown",
   "metadata": {
    "id": "g4RXL-is5UgJ"
   },
   "source": [
    "# Consumindo bases"
   ]
  },
  {
   "cell_type": "code",
   "execution_count": 2,
   "metadata": {
    "executionInfo": {
     "elapsed": 20973,
     "status": "ok",
     "timestamp": 1750346283431,
     "user": {
      "displayName": "João Terêncio",
      "userId": "14302965054076037047"
     },
     "user_tz": 180
    },
    "id": "eyjEKJYpDhin"
   },
   "outputs": [
    {
     "name": "stdout",
     "output_type": "stream",
     "text": [
      "Arquivos no ZIP:\n",
      "['sensores.csv']\n"
     ]
    },
    {
     "data": {
      "text/html": [
       "<div>\n",
       "<style scoped>\n",
       "    .dataframe tbody tr th:only-of-type {\n",
       "        vertical-align: middle;\n",
       "    }\n",
       "\n",
       "    .dataframe tbody tr th {\n",
       "        vertical-align: top;\n",
       "    }\n",
       "\n",
       "    .dataframe thead th {\n",
       "        text-align: right;\n",
       "    }\n",
       "</style>\n",
       "<table border=\"1\" class=\"dataframe\">\n",
       "  <thead>\n",
       "    <tr style=\"text-align: right;\">\n",
       "      <th></th>\n",
       "      <th>objectid</th>\n",
       "      <th>data</th>\n",
       "      <th>codnum</th>\n",
       "      <th>estação</th>\n",
       "      <th>chuva</th>\n",
       "      <th>pres</th>\n",
       "      <th>rs</th>\n",
       "      <th>temp</th>\n",
       "      <th>ur</th>\n",
       "      <th>dir_vento</th>\n",
       "      <th>...</th>\n",
       "      <th>co</th>\n",
       "      <th>no</th>\n",
       "      <th>nox</th>\n",
       "      <th>o3</th>\n",
       "      <th>pm10</th>\n",
       "      <th>pm2_5</th>\n",
       "      <th>lat</th>\n",
       "      <th>lon</th>\n",
       "      <th>x_utm_sirgas2000</th>\n",
       "      <th>y_utm_sirgas2000</th>\n",
       "    </tr>\n",
       "  </thead>\n",
       "  <tbody>\n",
       "    <tr>\n",
       "      <th>0</th>\n",
       "      <td>2372436</td>\n",
       "      <td>1/1/2011 6:30:00 AM</td>\n",
       "      <td>3</td>\n",
       "      <td>CA</td>\n",
       "      <td>0.2</td>\n",
       "      <td>1009.33</td>\n",
       "      <td>1.57</td>\n",
       "      <td>21.81</td>\n",
       "      <td>84.50</td>\n",
       "      <td>250.67</td>\n",
       "      <td>...</td>\n",
       "      <td>0.17</td>\n",
       "      <td>NaN</td>\n",
       "      <td>NaN</td>\n",
       "      <td>17.89</td>\n",
       "      <td>10.0</td>\n",
       "      <td>NaN</td>\n",
       "      <td>-22.908344</td>\n",
       "      <td>-43.178152</td>\n",
       "      <td>686853.7075</td>\n",
       "      <td>7.465470e+06</td>\n",
       "    </tr>\n",
       "    <tr>\n",
       "      <th>1</th>\n",
       "      <td>2372437</td>\n",
       "      <td>1/1/2011 7:30:00 AM</td>\n",
       "      <td>3</td>\n",
       "      <td>CA</td>\n",
       "      <td>0.0</td>\n",
       "      <td>1009.00</td>\n",
       "      <td>1.40</td>\n",
       "      <td>21.79</td>\n",
       "      <td>84.73</td>\n",
       "      <td>121.17</td>\n",
       "      <td>...</td>\n",
       "      <td>0.21</td>\n",
       "      <td>NaN</td>\n",
       "      <td>NaN</td>\n",
       "      <td>12.44</td>\n",
       "      <td>11.0</td>\n",
       "      <td>NaN</td>\n",
       "      <td>-22.908344</td>\n",
       "      <td>-43.178152</td>\n",
       "      <td>686853.7075</td>\n",
       "      <td>7.465470e+06</td>\n",
       "    </tr>\n",
       "    <tr>\n",
       "      <th>2</th>\n",
       "      <td>2372438</td>\n",
       "      <td>1/1/2011 8:30:00 AM</td>\n",
       "      <td>3</td>\n",
       "      <td>CA</td>\n",
       "      <td>0.2</td>\n",
       "      <td>1008.17</td>\n",
       "      <td>1.37</td>\n",
       "      <td>21.44</td>\n",
       "      <td>85.70</td>\n",
       "      <td>85.67</td>\n",
       "      <td>...</td>\n",
       "      <td>0.17</td>\n",
       "      <td>NaN</td>\n",
       "      <td>NaN</td>\n",
       "      <td>18.97</td>\n",
       "      <td>38.0</td>\n",
       "      <td>NaN</td>\n",
       "      <td>-22.908344</td>\n",
       "      <td>-43.178152</td>\n",
       "      <td>686853.7075</td>\n",
       "      <td>7.465470e+06</td>\n",
       "    </tr>\n",
       "    <tr>\n",
       "      <th>3</th>\n",
       "      <td>2372439</td>\n",
       "      <td>1/1/2011 9:30:00 AM</td>\n",
       "      <td>3</td>\n",
       "      <td>CA</td>\n",
       "      <td>0.0</td>\n",
       "      <td>1008.00</td>\n",
       "      <td>1.30</td>\n",
       "      <td>21.17</td>\n",
       "      <td>88.57</td>\n",
       "      <td>85.33</td>\n",
       "      <td>...</td>\n",
       "      <td>0.22</td>\n",
       "      <td>NaN</td>\n",
       "      <td>NaN</td>\n",
       "      <td>11.08</td>\n",
       "      <td>8.0</td>\n",
       "      <td>NaN</td>\n",
       "      <td>-22.908344</td>\n",
       "      <td>-43.178152</td>\n",
       "      <td>686853.7075</td>\n",
       "      <td>7.465470e+06</td>\n",
       "    </tr>\n",
       "    <tr>\n",
       "      <th>4</th>\n",
       "      <td>2372440</td>\n",
       "      <td>1/1/2011 10:30:00 AM</td>\n",
       "      <td>3</td>\n",
       "      <td>CA</td>\n",
       "      <td>0.2</td>\n",
       "      <td>1008.00</td>\n",
       "      <td>1.32</td>\n",
       "      <td>21.25</td>\n",
       "      <td>89.28</td>\n",
       "      <td>73.00</td>\n",
       "      <td>...</td>\n",
       "      <td>0.22</td>\n",
       "      <td>NaN</td>\n",
       "      <td>NaN</td>\n",
       "      <td>11.28</td>\n",
       "      <td>10.0</td>\n",
       "      <td>NaN</td>\n",
       "      <td>-22.908344</td>\n",
       "      <td>-43.178152</td>\n",
       "      <td>686853.7075</td>\n",
       "      <td>7.465470e+06</td>\n",
       "    </tr>\n",
       "  </tbody>\n",
       "</table>\n",
       "<p>5 rows × 26 columns</p>\n",
       "</div>"
      ],
      "text/plain": [
       "   objectid                  data  codnum estação  chuva     pres    rs  \\\n",
       "0   2372436   1/1/2011 6:30:00 AM       3      CA    0.2  1009.33  1.57   \n",
       "1   2372437   1/1/2011 7:30:00 AM       3      CA    0.0  1009.00  1.40   \n",
       "2   2372438   1/1/2011 8:30:00 AM       3      CA    0.2  1008.17  1.37   \n",
       "3   2372439   1/1/2011 9:30:00 AM       3      CA    0.0  1008.00  1.30   \n",
       "4   2372440  1/1/2011 10:30:00 AM       3      CA    0.2  1008.00  1.32   \n",
       "\n",
       "    temp     ur  dir_vento  ...    co  no  nox     o3  pm10  pm2_5        lat  \\\n",
       "0  21.81  84.50     250.67  ...  0.17 NaN  NaN  17.89  10.0    NaN -22.908344   \n",
       "1  21.79  84.73     121.17  ...  0.21 NaN  NaN  12.44  11.0    NaN -22.908344   \n",
       "2  21.44  85.70      85.67  ...  0.17 NaN  NaN  18.97  38.0    NaN -22.908344   \n",
       "3  21.17  88.57      85.33  ...  0.22 NaN  NaN  11.08   8.0    NaN -22.908344   \n",
       "4  21.25  89.28      73.00  ...  0.22 NaN  NaN  11.28  10.0    NaN -22.908344   \n",
       "\n",
       "         lon  x_utm_sirgas2000  y_utm_sirgas2000  \n",
       "0 -43.178152       686853.7075      7.465470e+06  \n",
       "1 -43.178152       686853.7075      7.465470e+06  \n",
       "2 -43.178152       686853.7075      7.465470e+06  \n",
       "3 -43.178152       686853.7075      7.465470e+06  \n",
       "4 -43.178152       686853.7075      7.465470e+06  \n",
       "\n",
       "[5 rows x 26 columns]"
      ]
     },
     "execution_count": 2,
     "metadata": {},
     "output_type": "execute_result"
    }
   ],
   "source": [
    "url_sensor = \"https://github.com/AILAB-CEFET-RJ/qualiar/raw/main/NEW_TEST/Data/Sensores/sensores.zip\"\n",
    "\n",
    "response = requests.get(url_sensor)\n",
    "response.raise_for_status()\n",
    "\n",
    "zip_file = zipfile.ZipFile(io.BytesIO(response.content))\n",
    "\n",
    "print(\"Arquivos no ZIP:\")\n",
    "print(zip_file.namelist())\n",
    "\n",
    "with zip_file.open(zip_file.namelist()[0]) as file:\n",
    "    df_sensor = pd.read_csv(file)  \n",
    "\n",
    "df_sensor.head()"
   ]
  },
  {
   "cell_type": "code",
   "execution_count": 3,
   "metadata": {
    "colab": {
     "base_uri": "https://localhost:8080/"
    },
    "executionInfo": {
     "elapsed": 20,
     "status": "ok",
     "timestamp": 1750346283456,
     "user": {
      "displayName": "João Terêncio",
      "userId": "14302965054076037047"
     },
     "user_tz": 180
    },
    "id": "I8DoZujMX7Hy",
    "outputId": "5b446af5-7c57-4dc7-f330-4bfa6426c6ba"
   },
   "outputs": [],
   "source": [
    "url_estacoes = 'https://raw.githubusercontent.com/AILAB-CEFET-RJ/qualiar/refs/heads/main/NEW_TEST/Data/Sensores/estacoes.csv'\n",
    "\n",
    "df_estacoes = pd.read_csv(url_estacoes, sep=',')\n",
    "\n",
    "url_qualidade_ar = 'https://raw.githubusercontent.com/AILAB-CEFET-RJ/qualiar/refs/heads/main/NEW_TEST/Data/Sensores/ind_qual_ar_17_24.csv'\n",
    "\n",
    "df_qualidade_ar = pd.read_csv(url_qualidade_ar, sep=',')"
   ]
  },
  {
   "cell_type": "markdown",
   "metadata": {
    "id": "-KWYSQmgDtki"
   },
   "source": [
    "# Pré-processamento"
   ]
  },
  {
   "cell_type": "markdown",
   "metadata": {
    "id": "q18psyhOH2hN"
   },
   "source": [
    "## Selecionando e criando colunas"
   ]
  },
  {
   "cell_type": "code",
   "execution_count": 4,
   "metadata": {
    "cellView": "form",
    "executionInfo": {
     "elapsed": 6,
     "status": "ok",
     "timestamp": 1750346283466,
     "user": {
      "displayName": "João Terêncio",
      "userId": "14302965054076037047"
     },
     "user_tz": 180
    },
    "id": "m2M9yDEpXZHc"
   },
   "outputs": [],
   "source": [
    "#@title Criando coluna nome estacao com base na coluna codnum\n",
    "df_sensor['nome_estacao'] = df_sensor['codnum'].map(df_estacoes.set_index('codnum')['nome'])"
   ]
  },
  {
   "cell_type": "code",
   "execution_count": 5,
   "metadata": {
    "cellView": "form",
    "executionInfo": {
     "elapsed": 59,
     "status": "ok",
     "timestamp": 1750346283531,
     "user": {
      "displayName": "João Terêncio",
      "userId": "14302965054076037047"
     },
     "user_tz": 180
    },
    "id": "A9QJxIqs5mRT"
   },
   "outputs": [],
   "source": [
    "#@title Selecionando as colunas mais relevantes\n",
    "interest_columns = ['nome_estacao', 'data', 'chuva', 'temp', 'ur', 'co', 'no', 'no2', 'nox', 'so2', 'o3', 'pm10', 'pm2_5', 'lat', 'lon']\n",
    "\n",
    "df_sensor_interest = df_sensor[interest_columns]"
   ]
  },
  {
   "cell_type": "code",
   "execution_count": 6,
   "metadata": {
    "colab": {
     "base_uri": "https://localhost:8080/"
    },
    "executionInfo": {
     "elapsed": 4515,
     "status": "ok",
     "timestamp": 1750346288050,
     "user": {
      "displayName": "João Terêncio",
      "userId": "14302965054076037047"
     },
     "user_tz": 180
    },
    "id": "08TM4o3W5mUB",
    "outputId": "a8cff5a1-26e4-46da-e491-aa93471896cf"
   },
   "outputs": [
    {
     "name": "stderr",
     "output_type": "stream",
     "text": [
      "C:\\Users\\jhter\\AppData\\Local\\Temp\\ipykernel_29732\\1024544581.py:2: SettingWithCopyWarning: \n",
      "A value is trying to be set on a copy of a slice from a DataFrame.\n",
      "Try using .loc[row_indexer,col_indexer] = value instead\n",
      "\n",
      "See the caveats in the documentation: https://pandas.pydata.org/pandas-docs/stable/user_guide/indexing.html#returning-a-view-versus-a-copy\n",
      "  df_sensor_interest['data'] = pd.to_datetime(df_sensor_interest['data'], format='%m/%d/%Y %I:%M:%S %p')\n",
      "C:\\Users\\jhter\\AppData\\Local\\Temp\\ipykernel_29732\\1024544581.py:3: SettingWithCopyWarning: \n",
      "A value is trying to be set on a copy of a slice from a DataFrame.\n",
      "Try using .loc[row_indexer,col_indexer] = value instead\n",
      "\n",
      "See the caveats in the documentation: https://pandas.pydata.org/pandas-docs/stable/user_guide/indexing.html#returning-a-view-versus-a-copy\n",
      "  df_sensor_interest['data_formatada'] = pd.to_datetime(df_sensor_interest['data']).dt.strftime('%Y-%m-%d')\n",
      "C:\\Users\\jhter\\AppData\\Local\\Temp\\ipykernel_29732\\1024544581.py:4: SettingWithCopyWarning: \n",
      "A value is trying to be set on a copy of a slice from a DataFrame.\n",
      "Try using .loc[row_indexer,col_indexer] = value instead\n",
      "\n",
      "See the caveats in the documentation: https://pandas.pydata.org/pandas-docs/stable/user_guide/indexing.html#returning-a-view-versus-a-copy\n",
      "  df_sensor_interest['ano'] = df_sensor_interest['data'].dt.year\n",
      "C:\\Users\\jhter\\AppData\\Local\\Temp\\ipykernel_29732\\1024544581.py:5: SettingWithCopyWarning: \n",
      "A value is trying to be set on a copy of a slice from a DataFrame.\n",
      "Try using .loc[row_indexer,col_indexer] = value instead\n",
      "\n",
      "See the caveats in the documentation: https://pandas.pydata.org/pandas-docs/stable/user_guide/indexing.html#returning-a-view-versus-a-copy\n",
      "  df_sensor_interest['mes'] = df_sensor_interest['data'].dt.month\n"
     ]
    }
   ],
   "source": [
    "#@title Criando colunas de ano e mês para facilitar a análise temporal\n",
    "df_sensor_interest['data'] = pd.to_datetime(df_sensor_interest['data'], format='%m/%d/%Y %I:%M:%S %p')\n",
    "df_sensor_interest['data_formatada'] = pd.to_datetime(df_sensor_interest['data']).dt.strftime('%Y-%m-%d')\n",
    "df_sensor_interest['ano'] = df_sensor_interest['data'].dt.year\n",
    "df_sensor_interest['mes'] = df_sensor_interest['data'].dt.month"
   ]
  },
  {
   "cell_type": "code",
   "execution_count": 7,
   "metadata": {
    "executionInfo": {
     "elapsed": 127,
     "status": "ok",
     "timestamp": 1750346288180,
     "user": {
      "displayName": "João Terêncio",
      "userId": "14302965054076037047"
     },
     "user_tz": 180
    },
    "id": "010BKMPF5mWa"
   },
   "outputs": [],
   "source": [
    "#@title Removendo ano de 2011 (Pela falta de alguns poluente) e anos da pandemia\n",
    "df_sensor_interest_filtered = df_sensor_interest[df_sensor_interest['ano'] > 2011]"
   ]
  },
  {
   "cell_type": "code",
   "execution_count": 8,
   "metadata": {
    "executionInfo": {
     "elapsed": 116,
     "status": "ok",
     "timestamp": 1750346288301,
     "user": {
      "displayName": "João Terêncio",
      "userId": "14302965054076037047"
     },
     "user_tz": 180
    },
    "id": "_c6j_tgIdxeL"
   },
   "outputs": [],
   "source": [
    "#@title Filtrando por Irajá\n",
    "df_sensor_iraja = df_sensor_interest_filtered[df_sensor_interest_filtered['nome_estacao'] == 'ESTAÇÃO IRAJÁ']"
   ]
  },
  {
   "cell_type": "code",
   "execution_count": 9,
   "metadata": {
    "executionInfo": {
     "elapsed": 34,
     "status": "ok",
     "timestamp": 1750346288453,
     "user": {
      "displayName": "João Terêncio",
      "userId": "14302965054076037047"
     },
     "user_tz": 180
    },
    "id": "fPDeSXnR-9Q9"
   },
   "outputs": [],
   "source": [
    "df_qualidade_ar['data_formatada'] = pd.to_datetime(df_qualidade_ar['data']).dt.strftime('%Y-%m-%d')\n",
    "df_qualidade_ar_iraja = df_qualidade_ar[df_qualidade_ar['estacao_nome'] == 'Irajá']"
   ]
  },
  {
   "cell_type": "markdown",
   "metadata": {
    "id": "gmWkUcmdIpux"
   },
   "source": [
    "# Tratando colunas de interesse por Estação de monitoriamento\n"
   ]
  },
  {
   "cell_type": "markdown",
   "metadata": {
    "id": "yLqNrnrAN4w-"
   },
   "source": [
    "## Estação Irajá\n",
    "Colunas normalizadas: Chuva, Temperatura, Umidade relativa, CO, NO, NO2, NOx, SO2, O3, PM10, PM2.5"
   ]
  },
  {
   "cell_type": "markdown",
   "metadata": {
    "id": "9ymtlIMxOidV"
   },
   "source": [
    "### Chuva"
   ]
  },
  {
   "cell_type": "code",
   "execution_count": 10,
   "metadata": {
    "colab": {
     "base_uri": "https://localhost:8080/",
     "height": 0
    },
    "executionInfo": {
     "elapsed": 48,
     "status": "ok",
     "timestamp": 1750346288497,
     "user": {
      "displayName": "João Terêncio",
      "userId": "14302965054076037047"
     },
     "user_tz": 180
    },
    "id": "24M_cJnzP4gK",
    "outputId": "e775aa54-7cdb-4a51-d74a-876e03b96f3f"
   },
   "outputs": [
    {
     "data": {
      "text/plain": [
       "count    110950.000000\n",
       "mean          0.201466\n",
       "std           3.507672\n",
       "min           0.000000\n",
       "25%           0.000000\n",
       "50%           0.000000\n",
       "75%           0.000000\n",
       "max         163.500000\n",
       "Name: chuva, dtype: float64"
      ]
     },
     "execution_count": 10,
     "metadata": {},
     "output_type": "execute_result"
    }
   ],
   "source": [
    "df_sensor_iraja['chuva'].describe()"
   ]
  },
  {
   "cell_type": "code",
   "execution_count": 11,
   "metadata": {
    "cellView": "form",
    "colab": {
     "base_uri": "https://localhost:8080/"
    },
    "executionInfo": {
     "elapsed": 25,
     "status": "ok",
     "timestamp": 1750346288520,
     "user": {
      "displayName": "João Terêncio",
      "userId": "14302965054076037047"
     },
     "user_tz": 180
    },
    "id": "Ntw7zXT0Q6zx",
    "outputId": "8722ddc5-d6b0-4eda-e0fc-4d4d612446aa"
   },
   "outputs": [
    {
     "name": "stdout",
     "output_type": "stream",
     "text": [
      "Quantidade de valores vazios: 3026\n"
     ]
    }
   ],
   "source": [
    "#@title Vendo quantidade de valores vazios\n",
    "\n",
    "valroes_vazio = df_sensor_iraja[df_sensor_iraja['chuva'].isnull()].groupby(['ano', 'mes']).size().sum()\n",
    "print(f\"Quantidade de valores vazios: {valroes_vazio}\")"
   ]
  },
  {
   "cell_type": "code",
   "execution_count": 12,
   "metadata": {
    "cellView": "form",
    "colab": {
     "base_uri": "https://localhost:8080/"
    },
    "executionInfo": {
     "elapsed": 16,
     "status": "ok",
     "timestamp": 1750346288542,
     "user": {
      "displayName": "João Terêncio",
      "userId": "14302965054076037047"
     },
     "user_tz": 180
    },
    "id": "wfMEwBEEwJph",
    "outputId": "97000515-fa65-45db-ef90-e684c5a16acc"
   },
   "outputs": [
    {
     "name": "stderr",
     "output_type": "stream",
     "text": [
      "/tmp/ipython-input-12-1153404511.py:3: SettingWithCopyWarning: \n",
      "A value is trying to be set on a copy of a slice from a DataFrame.\n",
      "Try using .loc[row_indexer,col_indexer] = value instead\n",
      "\n",
      "See the caveats in the documentation: https://pandas.pydata.org/pandas-docs/stable/user_guide/indexing.html#returning-a-view-versus-a-copy\n",
      "  df_sensor_iraja['chuva_nulos_no_dia'] = (\n"
     ]
    }
   ],
   "source": [
    "#@title Criando coluna que informa a quantidade de valores vazios por dia\n",
    "\n",
    "df_sensor_iraja['chuva_nulos_no_dia'] = (\n",
    "    df_sensor_iraja['chuva'].isnull()\n",
    "    .groupby(df_sensor_iraja['data_formatada'])\n",
    "    .transform('sum')  # Soma os nulos por dia e repete o valor em todas as linhas do dia\n",
    ")"
   ]
  },
  {
   "cell_type": "code",
   "execution_count": 13,
   "metadata": {
    "cellView": "form",
    "colab": {
     "base_uri": "https://localhost:8080/",
     "height": 0
    },
    "executionInfo": {
     "elapsed": 505,
     "status": "ok",
     "timestamp": 1750346289049,
     "user": {
      "displayName": "João Terêncio",
      "userId": "14302965054076037047"
     },
     "user_tz": 180
    },
    "id": "jYMgiW_cHPBb",
    "outputId": "eee6d9b4-2ee2-449d-bce6-ee38d91d015d"
   },
   "outputs": [
    {
     "data": {
      "image/png": "[encoded data removed]",
      "text/plain": [
       "<Figure size 1000x600 with 1 Axes>"
      ]
     },
     "metadata": {},
     "output_type": "display_data"
    }
   ],
   "source": [
    "#@title Distribuição dos valores vazios\n",
    "\n",
    "# Seleciona uma única linha por dia, para evitar repetição\n",
    "df_dias = df_sensor_iraja[df_sensor_iraja['chuva_nulos_no_dia'] != 0].groupby('data_formatada')['chuva_nulos_no_dia'].first()\n",
    "\n",
    "# Plotar o histograma da contagem de valores nulos por dia\n",
    "plt.figure(figsize=(10,6))\n",
    "plt.hist(df_dias, bins=range(0, df_dias.max() + 2), edgecolor='black', align='left')\n",
    "plt.title('Histograma de Quantidade de Valores Vazios em \"chuva\" por Dia')\n",
    "plt.xlabel('Quantidade de valores vazios no dia')\n",
    "plt.ylabel('Número de dias')\n",
    "plt.xticks(range(0, df_dias.max() + 1))\n",
    "plt.grid(axis='y', alpha=0.75)\n",
    "plt.show()"
   ]
  },
  {
   "cell_type": "code",
   "execution_count": 14,
   "metadata": {
    "cellView": "form",
    "colab": {
     "base_uri": "https://localhost:8080/"
    },
    "executionInfo": {
     "elapsed": 21,
     "status": "ok",
     "timestamp": 1750346289067,
     "user": {
      "displayName": "João Terêncio",
      "userId": "14302965054076037047"
     },
     "user_tz": 180
    },
    "id": "CUSCMdfvRRAo",
    "outputId": "36923658-19ef-4d6b-c9a4-ca0d65b6cf04"
   },
   "outputs": [
    {
     "name": "stdout",
     "output_type": "stream",
     "text": [
      "542 linhas foram preenchidas com interpolate na coluna 'chuva'.\n",
      "Foram preenchido 18% de dados\n"
     ]
    }
   ],
   "source": [
    "#@title Preenchimento dos valores nulos utilizando a função interpolate (Preenchendo apenas os que tem menos de 7 linhas vazias)\n",
    "\n",
    "mask = (df_sensor_iraja['chuva_nulos_no_dia'] <= 6)\n",
    "\n",
    "num_nulls = df_sensor_iraja[mask]['chuva'].isnull().sum()\n",
    "df_sensor_iraja.loc[mask, 'chuva'] = df_sensor_iraja[mask]['chuva'].interpolate()\n",
    "print(f\"{num_nulls} linhas foram preenchidas com interpolate na coluna 'chuva'.\")\n",
    "print(f\"Foram preenchido {round((num_nulls/valroes_vazio)*100)}% de dados\")"
   ]
  },
  {
   "cell_type": "code",
   "execution_count": 15,
   "metadata": {
    "colab": {
     "base_uri": "https://localhost:8080/",
     "height": 0
    },
    "executionInfo": {
     "elapsed": 12,
     "status": "ok",
     "timestamp": 1750346289082,
     "user": {
      "displayName": "João Terêncio",
      "userId": "14302965054076037047"
     },
     "user_tz": 180
    },
    "id": "97-NgrgDRt33",
    "outputId": "5d73f8e8-ff30-44ab-e84b-8f9d8bd5e19f"
   },
   "outputs": [
    {
     "data": {
      "text/html": [
       "<div>\n",
       "<style scoped>\n",
       "    .dataframe tbody tr th:only-of-type {\n",
       "        vertical-align: middle;\n",
       "    }\n",
       "\n",
       "    .dataframe tbody tr th {\n",
       "        vertical-align: top;\n",
       "    }\n",
       "\n",
       "    .dataframe thead th {\n",
       "        text-align: right;\n",
       "    }\n",
       "</style>\n",
       "<table border=\"1\" class=\"dataframe\">\n",
       "  <thead>\n",
       "    <tr style=\"text-align: right;\">\n",
       "      <th></th>\n",
       "      <th>chuva</th>\n",
       "    </tr>\n",
       "  </thead>\n",
       "  <tbody>\n",
       "    <tr>\n",
       "      <th>count</th>\n",
       "      <td>111492.000000</td>\n",
       "    </tr>\n",
       "    <tr>\n",
       "      <th>mean</th>\n",
       "      <td>0.202630</td>\n",
       "    </tr>\n",
       "    <tr>\n",
       "      <th>std</th>\n",
       "      <td>3.502874</td>\n",
       "    </tr>\n",
       "    <tr>\n",
       "      <th>min</th>\n",
       "      <td>0.000000</td>\n",
       "    </tr>\n",
       "    <tr>\n",
       "      <th>25%</th>\n",
       "      <td>0.000000</td>\n",
       "    </tr>\n",
       "    <tr>\n",
       "      <th>50%</th>\n",
       "      <td>0.000000</td>\n",
       "    </tr>\n",
       "    <tr>\n",
       "      <th>75%</th>\n",
       "      <td>0.000000</td>\n",
       "    </tr>\n",
       "    <tr>\n",
       "      <th>max</th>\n",
       "      <td>163.500000</td>\n",
       "    </tr>\n",
       "  </tbody>\n",
       "</table>\n",
       "</div><br><label><b>dtype:</b> float64</label>"
      ],
      "text/plain": [
       "count    111492.000000\n",
       "mean          0.202630\n",
       "std           3.502874\n",
       "min           0.000000\n",
       "25%           0.000000\n",
       "50%           0.000000\n",
       "75%           0.000000\n",
       "max         163.500000\n",
       "Name: chuva, dtype: float64"
      ]
     },
     "execution_count": 15,
     "metadata": {},
     "output_type": "execute_result"
    }
   ],
   "source": [
    "df_sensor_iraja['chuva'].describe()"
   ]
  },
  {
   "cell_type": "markdown",
   "metadata": {
    "id": "1XA1vvw_JYeW"
   },
   "source": [
    "### Temperatura"
   ]
  },
  {
   "cell_type": "code",
   "execution_count": 16,
   "metadata": {
    "colab": {
     "base_uri": "https://localhost:8080/",
     "height": 0
    },
    "executionInfo": {
     "elapsed": 7,
     "status": "ok",
     "timestamp": 1750346289093,
     "user": {
      "displayName": "João Terêncio",
      "userId": "14302965054076037047"
     },
     "user_tz": 180
    },
    "id": "_9XmZnxbJYeW",
    "outputId": "310f2f60-80e5-4fee-d309-62e33d321768"
   },
   "outputs": [
    {
     "data": {
      "text/html": [
       "<div>\n",
       "<style scoped>\n",
       "    .dataframe tbody tr th:only-of-type {\n",
       "        vertical-align: middle;\n",
       "    }\n",
       "\n",
       "    .dataframe tbody tr th {\n",
       "        vertical-align: top;\n",
       "    }\n",
       "\n",
       "    .dataframe thead th {\n",
       "        text-align: right;\n",
       "    }\n",
       "</style>\n",
       "<table border=\"1\" class=\"dataframe\">\n",
       "  <thead>\n",
       "    <tr style=\"text-align: right;\">\n",
       "      <th></th>\n",
       "      <th>temp</th>\n",
       "    </tr>\n",
       "  </thead>\n",
       "  <tbody>\n",
       "    <tr>\n",
       "      <th>count</th>\n",
       "      <td>87587.000000</td>\n",
       "    </tr>\n",
       "    <tr>\n",
       "      <th>mean</th>\n",
       "      <td>27.113502</td>\n",
       "    </tr>\n",
       "    <tr>\n",
       "      <th>std</th>\n",
       "      <td>5.063265</td>\n",
       "    </tr>\n",
       "    <tr>\n",
       "      <th>min</th>\n",
       "      <td>6.220000</td>\n",
       "    </tr>\n",
       "    <tr>\n",
       "      <th>25%</th>\n",
       "      <td>23.530000</td>\n",
       "    </tr>\n",
       "    <tr>\n",
       "      <th>50%</th>\n",
       "      <td>26.530000</td>\n",
       "    </tr>\n",
       "    <tr>\n",
       "      <th>75%</th>\n",
       "      <td>30.170000</td>\n",
       "    </tr>\n",
       "    <tr>\n",
       "      <th>max</th>\n",
       "      <td>46.380000</td>\n",
       "    </tr>\n",
       "  </tbody>\n",
       "</table>\n",
       "</div><br><label><b>dtype:</b> float64</label>"
      ],
      "text/plain": [
       "count    87587.000000\n",
       "mean        27.113502\n",
       "std          5.063265\n",
       "min          6.220000\n",
       "25%         23.530000\n",
       "50%         26.530000\n",
       "75%         30.170000\n",
       "max         46.380000\n",
       "Name: temp, dtype: float64"
      ]
     },
     "execution_count": 16,
     "metadata": {},
     "output_type": "execute_result"
    }
   ],
   "source": [
    "df_sensor_iraja['temp'].describe()"
   ]
  },
  {
   "cell_type": "code",
   "execution_count": 17,
   "metadata": {
    "cellView": "form",
    "colab": {
     "base_uri": "https://localhost:8080/"
    },
    "executionInfo": {
     "elapsed": 33,
     "status": "ok",
     "timestamp": 1750346289129,
     "user": {
      "displayName": "João Terêncio",
      "userId": "14302965054076037047"
     },
     "user_tz": 180
    },
    "id": "YEPrxSuZJYeX",
    "outputId": "f24aadf1-4362-4ed1-d4c6-3040dd794ffc"
   },
   "outputs": [
    {
     "name": "stdout",
     "output_type": "stream",
     "text": [
      "Quantidade de valores vazios: 26389\n"
     ]
    }
   ],
   "source": [
    "#@title Vendo quantidade de valores vazios\n",
    "\n",
    "valroes_vazio = df_sensor_iraja[df_sensor_iraja['temp'].isnull()].groupby(['ano', 'mes']).size().sum()\n",
    "print(f\"Quantidade de valores vazios: {valroes_vazio}\")"
   ]
  },
  {
   "cell_type": "code",
   "execution_count": 18,
   "metadata": {
    "cellView": "form",
    "colab": {
     "base_uri": "https://localhost:8080/"
    },
    "executionInfo": {
     "elapsed": 12,
     "status": "ok",
     "timestamp": 1750346289131,
     "user": {
      "displayName": "João Terêncio",
      "userId": "14302965054076037047"
     },
     "user_tz": 180
    },
    "id": "N0LIJac7JYeX",
    "outputId": "fc6d40c7-a10e-40d2-9dc9-8d0041e376a1"
   },
   "outputs": [
    {
     "name": "stderr",
     "output_type": "stream",
     "text": [
      "/tmp/ipython-input-18-2731076536.py:3: SettingWithCopyWarning: \n",
      "A value is trying to be set on a copy of a slice from a DataFrame.\n",
      "Try using .loc[row_indexer,col_indexer] = value instead\n",
      "\n",
      "See the caveats in the documentation: https://pandas.pydata.org/pandas-docs/stable/user_guide/indexing.html#returning-a-view-versus-a-copy\n",
      "  df_sensor_iraja['temp_nulos_no_dia'] = (\n"
     ]
    }
   ],
   "source": [
    "#@title Criando coluna que informa a quantidade de valores vazios por dia\n",
    "\n",
    "df_sensor_iraja['temp_nulos_no_dia'] = (\n",
    "    df_sensor_iraja['temp'].isnull()\n",
    "    .groupby(df_sensor_iraja['data_formatada'])\n",
    "    .transform('sum')  # Soma os nulos por dia e repete o valor em todas as linhas do dia\n",
    ")"
   ]
  },
  {
   "cell_type": "code",
   "execution_count": 19,
   "metadata": {
    "cellView": "form",
    "colab": {
     "base_uri": "https://localhost:8080/",
     "height": 0
    },
    "executionInfo": {
     "elapsed": 240,
     "status": "ok",
     "timestamp": 1750346289364,
     "user": {
      "displayName": "João Terêncio",
      "userId": "14302965054076037047"
     },
     "user_tz": 180
    },
    "id": "H54zUgYSJYeY",
    "outputId": "df76924e-4233-4860-977f-cd7c49015eb2"
   },
   "outputs": [
    {
     "data": {
      "image/png": "[encoded data removed]",
      "text/plain": [
       "<Figure size 1000x600 with 1 Axes>"
      ]
     },
     "metadata": {},
     "output_type": "display_data"
    }
   ],
   "source": [
    "#@title Distribuição dos valores vazios\n",
    "\n",
    "# Seleciona uma única linha por dia, para evitar repetição\n",
    "df_dias = df_sensor_iraja[df_sensor_iraja['temp_nulos_no_dia'] != 0].groupby('data_formatada')['temp_nulos_no_dia'].first()\n",
    "\n",
    "# Plotar o histograma da contagem de valores nulos por dia\n",
    "plt.figure(figsize=(10,6))\n",
    "plt.hist(df_dias, bins=range(0, df_dias.max() + 2), edgecolor='black', align='left')\n",
    "plt.title('Histograma de Quantidade de Valores Vazios em \"temp\" por Dia')\n",
    "plt.xlabel('Quantidade de valores vazios no dia')\n",
    "plt.ylabel('Número de dias')\n",
    "plt.xticks(range(0, df_dias.max() + 1))\n",
    "plt.grid(axis='y', alpha=0.75)\n",
    "plt.show()"
   ]
  },
  {
   "cell_type": "code",
   "execution_count": 20,
   "metadata": {
    "cellView": "form",
    "colab": {
     "base_uri": "https://localhost:8080/"
    },
    "executionInfo": {
     "elapsed": 18,
     "status": "ok",
     "timestamp": 1750346289397,
     "user": {
      "displayName": "João Terêncio",
      "userId": "14302965054076037047"
     },
     "user_tz": 180
    },
    "id": "2sCGqFWvJYeY",
    "outputId": "c41883cd-d776-471e-b7d2-143c8e403b44"
   },
   "outputs": [
    {
     "name": "stdout",
     "output_type": "stream",
     "text": [
      "666 linhas foram preenchidas com interpolate na coluna 'temp'.\n",
      "Foram preenchido 3% de dados\n"
     ]
    }
   ],
   "source": [
    "#@title Preenchimento dos valores nulos utilizando a função interpolate (Preenchendo apenas os que tem menos de 7 linhas vazias por dia)\n",
    "\n",
    "mask = (df_sensor_iraja['temp_nulos_no_dia'] <= 6)\n",
    "\n",
    "num_nulls = df_sensor_iraja[mask]['temp'].isnull().sum()\n",
    "df_sensor_iraja.loc[mask, 'temp'] = df_sensor_iraja[mask]['temp'].interpolate()\n",
    "print(f\"{num_nulls} linhas foram preenchidas com interpolate na coluna 'temp'.\")\n",
    "print(f\"Foram preenchido {round((num_nulls/valroes_vazio)*100)}% de dados\")"
   ]
  },
  {
   "cell_type": "code",
   "execution_count": 21,
   "metadata": {
    "colab": {
     "base_uri": "https://localhost:8080/",
     "height": 0
    },
    "executionInfo": {
     "elapsed": 9,
     "status": "ok",
     "timestamp": 1750346289410,
     "user": {
      "displayName": "João Terêncio",
      "userId": "14302965054076037047"
     },
     "user_tz": 180
    },
    "id": "2KWSCe6RJYeY",
    "outputId": "c6f7d7c9-c870-4c09-830e-890020299d11"
   },
   "outputs": [
    {
     "data": {
      "text/html": [
       "<div>\n",
       "<style scoped>\n",
       "    .dataframe tbody tr th:only-of-type {\n",
       "        vertical-align: middle;\n",
       "    }\n",
       "\n",
       "    .dataframe tbody tr th {\n",
       "        vertical-align: top;\n",
       "    }\n",
       "\n",
       "    .dataframe thead th {\n",
       "        text-align: right;\n",
       "    }\n",
       "</style>\n",
       "<table border=\"1\" class=\"dataframe\">\n",
       "  <thead>\n",
       "    <tr style=\"text-align: right;\">\n",
       "      <th></th>\n",
       "      <th>temp</th>\n",
       "    </tr>\n",
       "  </thead>\n",
       "  <tbody>\n",
       "    <tr>\n",
       "      <th>count</th>\n",
       "      <td>88253.000000</td>\n",
       "    </tr>\n",
       "    <tr>\n",
       "      <th>mean</th>\n",
       "      <td>27.125839</td>\n",
       "    </tr>\n",
       "    <tr>\n",
       "      <th>std</th>\n",
       "      <td>5.063816</td>\n",
       "    </tr>\n",
       "    <tr>\n",
       "      <th>min</th>\n",
       "      <td>6.220000</td>\n",
       "    </tr>\n",
       "    <tr>\n",
       "      <th>25%</th>\n",
       "      <td>23.550000</td>\n",
       "    </tr>\n",
       "    <tr>\n",
       "      <th>50%</th>\n",
       "      <td>26.550000</td>\n",
       "    </tr>\n",
       "    <tr>\n",
       "      <th>75%</th>\n",
       "      <td>30.200000</td>\n",
       "    </tr>\n",
       "    <tr>\n",
       "      <th>max</th>\n",
       "      <td>46.380000</td>\n",
       "    </tr>\n",
       "  </tbody>\n",
       "</table>\n",
       "</div><br><label><b>dtype:</b> float64</label>"
      ],
      "text/plain": [
       "count    88253.000000\n",
       "mean        27.125839\n",
       "std          5.063816\n",
       "min          6.220000\n",
       "25%         23.550000\n",
       "50%         26.550000\n",
       "75%         30.200000\n",
       "max         46.380000\n",
       "Name: temp, dtype: float64"
      ]
     },
     "execution_count": 21,
     "metadata": {},
     "output_type": "execute_result"
    }
   ],
   "source": [
    "df_sensor_iraja['temp'].describe()"
   ]
  },
  {
   "cell_type": "markdown",
   "metadata": {
    "id": "Kw4EN6nOJ7wi"
   },
   "source": [
    "### Umidade relativa"
   ]
  },
  {
   "cell_type": "code",
   "execution_count": 22,
   "metadata": {
    "colab": {
     "base_uri": "https://localhost:8080/",
     "height": 0
    },
    "executionInfo": {
     "elapsed": 11,
     "status": "ok",
     "timestamp": 1750346289427,
     "user": {
      "displayName": "João Terêncio",
      "userId": "14302965054076037047"
     },
     "user_tz": 180
    },
    "id": "Zh2KIpc2J7wj",
    "outputId": "924a4e80-21e0-417a-8880-ac3b2661de96"
   },
   "outputs": [
    {
     "data": {
      "text/html": [
       "<div>\n",
       "<style scoped>\n",
       "    .dataframe tbody tr th:only-of-type {\n",
       "        vertical-align: middle;\n",
       "    }\n",
       "\n",
       "    .dataframe tbody tr th {\n",
       "        vertical-align: top;\n",
       "    }\n",
       "\n",
       "    .dataframe thead th {\n",
       "        text-align: right;\n",
       "    }\n",
       "</style>\n",
       "<table border=\"1\" class=\"dataframe\">\n",
       "  <thead>\n",
       "    <tr style=\"text-align: right;\">\n",
       "      <th></th>\n",
       "      <th>ur</th>\n",
       "    </tr>\n",
       "  </thead>\n",
       "  <tbody>\n",
       "    <tr>\n",
       "      <th>count</th>\n",
       "      <td>81052.000000</td>\n",
       "    </tr>\n",
       "    <tr>\n",
       "      <th>mean</th>\n",
       "      <td>69.470876</td>\n",
       "    </tr>\n",
       "    <tr>\n",
       "      <th>std</th>\n",
       "      <td>19.581888</td>\n",
       "    </tr>\n",
       "    <tr>\n",
       "      <th>min</th>\n",
       "      <td>0.000000</td>\n",
       "    </tr>\n",
       "    <tr>\n",
       "      <th>25%</th>\n",
       "      <td>55.100000</td>\n",
       "    </tr>\n",
       "    <tr>\n",
       "      <th>50%</th>\n",
       "      <td>70.950000</td>\n",
       "    </tr>\n",
       "    <tr>\n",
       "      <th>75%</th>\n",
       "      <td>84.780000</td>\n",
       "    </tr>\n",
       "    <tr>\n",
       "      <th>max</th>\n",
       "      <td>100.000000</td>\n",
       "    </tr>\n",
       "  </tbody>\n",
       "</table>\n",
       "</div><br><label><b>dtype:</b> float64</label>"
      ],
      "text/plain": [
       "count    81052.000000\n",
       "mean        69.470876\n",
       "std         19.581888\n",
       "min          0.000000\n",
       "25%         55.100000\n",
       "50%         70.950000\n",
       "75%         84.780000\n",
       "max        100.000000\n",
       "Name: ur, dtype: float64"
      ]
     },
     "execution_count": 22,
     "metadata": {},
     "output_type": "execute_result"
    }
   ],
   "source": [
    "df_sensor_iraja['ur'].describe()"
   ]
  },
  {
   "cell_type": "code",
   "execution_count": 23,
   "metadata": {
    "cellView": "form",
    "colab": {
     "base_uri": "https://localhost:8080/"
    },
    "executionInfo": {
     "elapsed": 11,
     "status": "ok",
     "timestamp": 1750346289441,
     "user": {
      "displayName": "João Terêncio",
      "userId": "14302965054076037047"
     },
     "user_tz": 180
    },
    "id": "p6gLkSsQJ7wk",
    "outputId": "9042f8b1-3efd-40e8-dcf6-2f2af2b2a1d7"
   },
   "outputs": [
    {
     "name": "stdout",
     "output_type": "stream",
     "text": [
      "Quantidade de valores vazios: 32924\n"
     ]
    }
   ],
   "source": [
    "#@title Vendo quantidade de valores vazios\n",
    "\n",
    "valroes_vazio = df_sensor_iraja[df_sensor_iraja['ur'].isnull()].groupby(['ano', 'mes']).size().sum()\n",
    "print(f\"Quantidade de valores vazios: {valroes_vazio}\")"
   ]
  },
  {
   "cell_type": "code",
   "execution_count": 24,
   "metadata": {
    "cellView": "form",
    "colab": {
     "base_uri": "https://localhost:8080/"
    },
    "executionInfo": {
     "elapsed": 11,
     "status": "ok",
     "timestamp": 1750346289456,
     "user": {
      "displayName": "João Terêncio",
      "userId": "14302965054076037047"
     },
     "user_tz": 180
    },
    "id": "p6USmMKRJ7wk",
    "outputId": "6a7921fe-c2e5-40d8-a470-515ff42cbb40"
   },
   "outputs": [
    {
     "name": "stderr",
     "output_type": "stream",
     "text": [
      "/tmp/ipython-input-24-1337548978.py:3: SettingWithCopyWarning: \n",
      "A value is trying to be set on a copy of a slice from a DataFrame.\n",
      "Try using .loc[row_indexer,col_indexer] = value instead\n",
      "\n",
      "See the caveats in the documentation: https://pandas.pydata.org/pandas-docs/stable/user_guide/indexing.html#returning-a-view-versus-a-copy\n",
      "  df_sensor_iraja['ur_nulos_no_dia'] = (\n"
     ]
    }
   ],
   "source": [
    "#@title Criando coluna que informa a quantidade de valores vazios por dia\n",
    "\n",
    "df_sensor_iraja['ur_nulos_no_dia'] = (\n",
    "    df_sensor_iraja['ur'].isnull()\n",
    "    .groupby(df_sensor_iraja['data_formatada'])\n",
    "    .transform('sum')  # Soma os nulos por dia e repete o valor em todas as linhas do dia\n",
    ")"
   ]
  },
  {
   "cell_type": "code",
   "execution_count": 25,
   "metadata": {
    "cellView": "form",
    "colab": {
     "base_uri": "https://localhost:8080/",
     "height": 0
    },
    "executionInfo": {
     "elapsed": 300,
     "status": "ok",
     "timestamp": 1750346289759,
     "user": {
      "displayName": "João Terêncio",
      "userId": "14302965054076037047"
     },
     "user_tz": 180
    },
    "id": "eq-mDiJGJ7wk",
    "outputId": "93cc236a-4356-49f5-9972-6f3d0f8c84ff"
   },
   "outputs": [
    {
     "data": {
      "image/png": "[encoded data removed]",
      "text/plain": [
       "<Figure size 1000x600 with 1 Axes>"
      ]
     },
     "metadata": {},
     "output_type": "display_data"
    }
   ],
   "source": [
    "#@title Distribuição dos valores vazios\n",
    "\n",
    "# Seleciona uma única linha por dia, para evitar repetição\n",
    "df_dias = df_sensor_iraja[df_sensor_iraja['ur_nulos_no_dia'] != 0].groupby('data_formatada')['ur_nulos_no_dia'].first()\n",
    "\n",
    "# Plotar o histograma da contagem de valores nulos por dia\n",
    "plt.figure(figsize=(10,6))\n",
    "plt.hist(df_dias, bins=range(0, df_dias.max() + 2), edgecolor='black', align='left')\n",
    "plt.title('Histograma de Quantidade de Valores Vazios em \"ur\" por Dia')\n",
    "plt.xlabel('Quantidade de valores vazios no dia')\n",
    "plt.ylabel('Número de dias')\n",
    "plt.xticks(range(0, df_dias.max() + 1))\n",
    "plt.grid(axis='y', alpha=0.75)\n",
    "plt.show()"
   ]
  },
  {
   "cell_type": "code",
   "execution_count": 26,
   "metadata": {
    "cellView": "form",
    "colab": {
     "base_uri": "https://localhost:8080/"
    },
    "executionInfo": {
     "elapsed": 13,
     "status": "ok",
     "timestamp": 1750346289776,
     "user": {
      "displayName": "João Terêncio",
      "userId": "14302965054076037047"
     },
     "user_tz": 180
    },
    "id": "wwI_91-_J7wk",
    "outputId": "ac074185-eb21-4787-a37b-3693ae00bb53"
   },
   "outputs": [
    {
     "name": "stdout",
     "output_type": "stream",
     "text": [
      "667 linhas foram preenchidas com interpolate na coluna 'ur'.\n",
      "Foram preenchido 2% de dados\n"
     ]
    }
   ],
   "source": [
    "#@title Preenchimento dos valores nulos utilizando a função interpolate (Preenchendo apenas os que tem menos de 7 linhas vazias por dia)\n",
    "\n",
    "mask = (df_sensor_iraja['ur_nulos_no_dia'] <= 6)\n",
    "\n",
    "num_nulls = df_sensor_iraja[mask]['ur'].isnull().sum()\n",
    "df_sensor_iraja.loc[mask, 'ur'] = df_sensor_iraja[mask]['ur'].interpolate()\n",
    "print(f\"{num_nulls} linhas foram preenchidas com interpolate na coluna 'ur'.\")\n",
    "print(f\"Foram preenchido {round((num_nulls/valroes_vazio)*100)}% de dados\")"
   ]
  },
  {
   "cell_type": "code",
   "execution_count": 27,
   "metadata": {
    "colab": {
     "base_uri": "https://localhost:8080/",
     "height": 0
    },
    "executionInfo": {
     "elapsed": 12,
     "status": "ok",
     "timestamp": 1750346289786,
     "user": {
      "displayName": "João Terêncio",
      "userId": "14302965054076037047"
     },
     "user_tz": 180
    },
    "id": "pgz04UK9J7wl",
    "outputId": "9b54d121-f235-40a8-bff3-594928318797"
   },
   "outputs": [
    {
     "data": {
      "text/html": [
       "<div>\n",
       "<style scoped>\n",
       "    .dataframe tbody tr th:only-of-type {\n",
       "        vertical-align: middle;\n",
       "    }\n",
       "\n",
       "    .dataframe tbody tr th {\n",
       "        vertical-align: top;\n",
       "    }\n",
       "\n",
       "    .dataframe thead th {\n",
       "        text-align: right;\n",
       "    }\n",
       "</style>\n",
       "<table border=\"1\" class=\"dataframe\">\n",
       "  <thead>\n",
       "    <tr style=\"text-align: right;\">\n",
       "      <th></th>\n",
       "      <th>ur</th>\n",
       "    </tr>\n",
       "  </thead>\n",
       "  <tbody>\n",
       "    <tr>\n",
       "      <th>count</th>\n",
       "      <td>81719.000000</td>\n",
       "    </tr>\n",
       "    <tr>\n",
       "      <th>mean</th>\n",
       "      <td>69.437507</td>\n",
       "    </tr>\n",
       "    <tr>\n",
       "      <th>std</th>\n",
       "      <td>19.584741</td>\n",
       "    </tr>\n",
       "    <tr>\n",
       "      <th>min</th>\n",
       "      <td>0.000000</td>\n",
       "    </tr>\n",
       "    <tr>\n",
       "      <th>25%</th>\n",
       "      <td>55.030000</td>\n",
       "    </tr>\n",
       "    <tr>\n",
       "      <th>50%</th>\n",
       "      <td>70.880000</td>\n",
       "    </tr>\n",
       "    <tr>\n",
       "      <th>75%</th>\n",
       "      <td>84.770000</td>\n",
       "    </tr>\n",
       "    <tr>\n",
       "      <th>max</th>\n",
       "      <td>100.000000</td>\n",
       "    </tr>\n",
       "  </tbody>\n",
       "</table>\n",
       "</div><br><label><b>dtype:</b> float64</label>"
      ],
      "text/plain": [
       "count    81719.000000\n",
       "mean        69.437507\n",
       "std         19.584741\n",
       "min          0.000000\n",
       "25%         55.030000\n",
       "50%         70.880000\n",
       "75%         84.770000\n",
       "max        100.000000\n",
       "Name: ur, dtype: float64"
      ]
     },
     "execution_count": 27,
     "metadata": {},
     "output_type": "execute_result"
    }
   ],
   "source": [
    "df_sensor_iraja['ur'].describe()"
   ]
  },
  {
   "cell_type": "markdown",
   "metadata": {
    "id": "CCC7VEL1KuH4"
   },
   "source": [
    "### Monóxido de carbono"
   ]
  },
  {
   "cell_type": "code",
   "execution_count": 28,
   "metadata": {
    "colab": {
     "base_uri": "https://localhost:8080/",
     "height": 0
    },
    "executionInfo": {
     "elapsed": 12,
     "status": "ok",
     "timestamp": 1750346289801,
     "user": {
      "displayName": "João Terêncio",
      "userId": "14302965054076037047"
     },
     "user_tz": 180
    },
    "id": "9dpfUCUfKuH4",
    "outputId": "c1ba8d3d-9f11-44d3-b50f-8ae154a4e136"
   },
   "outputs": [
    {
     "data": {
      "text/html": [
       "<div>\n",
       "<style scoped>\n",
       "    .dataframe tbody tr th:only-of-type {\n",
       "        vertical-align: middle;\n",
       "    }\n",
       "\n",
       "    .dataframe tbody tr th {\n",
       "        vertical-align: top;\n",
       "    }\n",
       "\n",
       "    .dataframe thead th {\n",
       "        text-align: right;\n",
       "    }\n",
       "</style>\n",
       "<table border=\"1\" class=\"dataframe\">\n",
       "  <thead>\n",
       "    <tr style=\"text-align: right;\">\n",
       "      <th></th>\n",
       "      <th>co</th>\n",
       "    </tr>\n",
       "  </thead>\n",
       "  <tbody>\n",
       "    <tr>\n",
       "      <th>count</th>\n",
       "      <td>98152.000000</td>\n",
       "    </tr>\n",
       "    <tr>\n",
       "      <th>mean</th>\n",
       "      <td>0.454012</td>\n",
       "    </tr>\n",
       "    <tr>\n",
       "      <th>std</th>\n",
       "      <td>0.295796</td>\n",
       "    </tr>\n",
       "    <tr>\n",
       "      <th>min</th>\n",
       "      <td>0.000000</td>\n",
       "    </tr>\n",
       "    <tr>\n",
       "      <th>25%</th>\n",
       "      <td>0.280000</td>\n",
       "    </tr>\n",
       "    <tr>\n",
       "      <th>50%</th>\n",
       "      <td>0.390000</td>\n",
       "    </tr>\n",
       "    <tr>\n",
       "      <th>75%</th>\n",
       "      <td>0.550000</td>\n",
       "    </tr>\n",
       "    <tr>\n",
       "      <th>max</th>\n",
       "      <td>4.620000</td>\n",
       "    </tr>\n",
       "  </tbody>\n",
       "</table>\n",
       "</div><br><label><b>dtype:</b> float64</label>"
      ],
      "text/plain": [
       "count    98152.000000\n",
       "mean         0.454012\n",
       "std          0.295796\n",
       "min          0.000000\n",
       "25%          0.280000\n",
       "50%          0.390000\n",
       "75%          0.550000\n",
       "max          4.620000\n",
       "Name: co, dtype: float64"
      ]
     },
     "execution_count": 28,
     "metadata": {},
     "output_type": "execute_result"
    }
   ],
   "source": [
    "df_sensor_iraja['co'].describe()"
   ]
  },
  {
   "cell_type": "code",
   "execution_count": 29,
   "metadata": {
    "cellView": "form",
    "colab": {
     "base_uri": "https://localhost:8080/"
    },
    "executionInfo": {
     "elapsed": 10,
     "status": "ok",
     "timestamp": 1750346289814,
     "user": {
      "displayName": "João Terêncio",
      "userId": "14302965054076037047"
     },
     "user_tz": 180
    },
    "id": "Iph6vPoHKuH5",
    "outputId": "fcbc0c9d-ea67-42f8-e3cc-46079e7285d7"
   },
   "outputs": [
    {
     "name": "stdout",
     "output_type": "stream",
     "text": [
      "Quantidade de valores vazios: 15824\n"
     ]
    }
   ],
   "source": [
    "#@title Vendo quantidade de valores vazios\n",
    "\n",
    "valroes_vazio = df_sensor_iraja[df_sensor_iraja['co'].isnull()].groupby(['ano', 'mes']).size().sum()\n",
    "print(f\"Quantidade de valores vazios: {valroes_vazio}\")"
   ]
  },
  {
   "cell_type": "code",
   "execution_count": 30,
   "metadata": {
    "cellView": "form",
    "colab": {
     "base_uri": "https://localhost:8080/"
    },
    "executionInfo": {
     "elapsed": 17,
     "status": "ok",
     "timestamp": 1750346289834,
     "user": {
      "displayName": "João Terêncio",
      "userId": "14302965054076037047"
     },
     "user_tz": 180
    },
    "id": "NnwrJ1lqKuH5",
    "outputId": "7a2260b2-d9f7-4cad-f77a-b2ed665d88df"
   },
   "outputs": [
    {
     "name": "stderr",
     "output_type": "stream",
     "text": [
      "/tmp/ipython-input-30-2772747785.py:3: SettingWithCopyWarning: \n",
      "A value is trying to be set on a copy of a slice from a DataFrame.\n",
      "Try using .loc[row_indexer,col_indexer] = value instead\n",
      "\n",
      "See the caveats in the documentation: https://pandas.pydata.org/pandas-docs/stable/user_guide/indexing.html#returning-a-view-versus-a-copy\n",
      "  df_sensor_iraja['co_nulos_no_dia'] = (\n"
     ]
    }
   ],
   "source": [
    "#@title Criando coluna que informa a quantidade de valores vazios por dia\n",
    "\n",
    "df_sensor_iraja['co_nulos_no_dia'] = (\n",
    "    df_sensor_iraja['co'].isnull()\n",
    "    .groupby(df_sensor_iraja['data_formatada'])\n",
    "    .transform('sum')  # Soma os nulos por dia e repete o valor em todas as linhas do dia\n",
    ")"
   ]
  },
  {
   "cell_type": "code",
   "execution_count": 31,
   "metadata": {
    "cellView": "form",
    "colab": {
     "base_uri": "https://localhost:8080/",
     "height": 0
    },
    "executionInfo": {
     "elapsed": 474,
     "status": "ok",
     "timestamp": 1750346290304,
     "user": {
      "displayName": "João Terêncio",
      "userId": "14302965054076037047"
     },
     "user_tz": 180
    },
    "id": "2-VMGpsdKuH5",
    "outputId": "8b056f49-a597-429c-8ed4-f20a15f0a4c0"
   },
   "outputs": [
    {
     "data": {
      "image/png": "[encoded data removed]",
      "text/plain": [
       "<Figure size 1000x600 with 1 Axes>"
      ]
     },
     "metadata": {},
     "output_type": "display_data"
    }
   ],
   "source": [
    "#@title Distribuição dos valores vazios\n",
    "\n",
    "# Seleciona uma única linha por dia, para evitar repetição\n",
    "df_dias = df_sensor_iraja[df_sensor_iraja['co_nulos_no_dia'] != 0].groupby('data_formatada')['co_nulos_no_dia'].first()\n",
    "\n",
    "# Plotar o histograma da contagem de valores nulos por dia\n",
    "plt.figure(figsize=(10,6))\n",
    "plt.hist(df_dias, bins=range(0, df_dias.max() + 2), edgecolor='black', align='left')\n",
    "plt.title(\"Histograma de Quantidade de Valores Vazios em 'co' por Dia\")\n",
    "plt.xlabel('Quantidade de valores vazios no dia')\n",
    "plt.ylabel('Número de dias')\n",
    "plt.xticks(range(0, df_dias.max() + 1))\n",
    "plt.grid(axis='y', alpha=0.75)\n",
    "plt.show()"
   ]
  },
  {
   "cell_type": "code",
   "execution_count": 32,
   "metadata": {
    "cellView": "form",
    "colab": {
     "base_uri": "https://localhost:8080/"
    },
    "executionInfo": {
     "elapsed": 31,
     "status": "ok",
     "timestamp": 1750346290341,
     "user": {
      "displayName": "João Terêncio",
      "userId": "14302965054076037047"
     },
     "user_tz": 180
    },
    "id": "OZOmu7J9KuH5",
    "outputId": "40d25d2a-2c60-4ede-8032-1882ee327764"
   },
   "outputs": [
    {
     "name": "stdout",
     "output_type": "stream",
     "text": [
      "1539 linhas foram preenchidas com interpolate na coluna 'co'.\n",
      "Foram preenchido 10% de dados\n"
     ]
    }
   ],
   "source": [
    "#@title Preenchimento dos valores nulos utilizando a função interpolate (Preenchendo apenas os que tem menos de 7 linhas vazias por dia)\n",
    "\n",
    "mask = (df_sensor_iraja['co_nulos_no_dia'] <= 6)\n",
    "\n",
    "num_nulls = df_sensor_iraja[mask]['co'].isnull().sum()\n",
    "df_sensor_iraja.loc[mask, 'co'] = df_sensor_iraja[mask]['co'].interpolate()\n",
    "print(f\"{num_nulls} linhas foram preenchidas com interpolate na coluna 'co'.\")\n",
    "print(f\"Foram preenchido {round((num_nulls/valroes_vazio)*100)}% de dados\")"
   ]
  },
  {
   "cell_type": "code",
   "execution_count": 33,
   "metadata": {
    "colab": {
     "base_uri": "https://localhost:8080/",
     "height": 0
    },
    "executionInfo": {
     "elapsed": 10,
     "status": "ok",
     "timestamp": 1750346290357,
     "user": {
      "displayName": "João Terêncio",
      "userId": "14302965054076037047"
     },
     "user_tz": 180
    },
    "id": "1j_2t8uiKuH5",
    "outputId": "7a0c5a97-cc58-4cff-e92f-c6096bf1f060"
   },
   "outputs": [
    {
     "data": {
      "text/html": [
       "<div>\n",
       "<style scoped>\n",
       "    .dataframe tbody tr th:only-of-type {\n",
       "        vertical-align: middle;\n",
       "    }\n",
       "\n",
       "    .dataframe tbody tr th {\n",
       "        vertical-align: top;\n",
       "    }\n",
       "\n",
       "    .dataframe thead th {\n",
       "        text-align: right;\n",
       "    }\n",
       "</style>\n",
       "<table border=\"1\" class=\"dataframe\">\n",
       "  <thead>\n",
       "    <tr style=\"text-align: right;\">\n",
       "      <th></th>\n",
       "      <th>co</th>\n",
       "    </tr>\n",
       "  </thead>\n",
       "  <tbody>\n",
       "    <tr>\n",
       "      <th>count</th>\n",
       "      <td>99691.000000</td>\n",
       "    </tr>\n",
       "    <tr>\n",
       "      <th>mean</th>\n",
       "      <td>0.453874</td>\n",
       "    </tr>\n",
       "    <tr>\n",
       "      <th>std</th>\n",
       "      <td>0.295622</td>\n",
       "    </tr>\n",
       "    <tr>\n",
       "      <th>min</th>\n",
       "      <td>0.000000</td>\n",
       "    </tr>\n",
       "    <tr>\n",
       "      <th>25%</th>\n",
       "      <td>0.280000</td>\n",
       "    </tr>\n",
       "    <tr>\n",
       "      <th>50%</th>\n",
       "      <td>0.390000</td>\n",
       "    </tr>\n",
       "    <tr>\n",
       "      <th>75%</th>\n",
       "      <td>0.550000</td>\n",
       "    </tr>\n",
       "    <tr>\n",
       "      <th>max</th>\n",
       "      <td>4.620000</td>\n",
       "    </tr>\n",
       "  </tbody>\n",
       "</table>\n",
       "</div><br><label><b>dtype:</b> float64</label>"
      ],
      "text/plain": [
       "count    99691.000000\n",
       "mean         0.453874\n",
       "std          0.295622\n",
       "min          0.000000\n",
       "25%          0.280000\n",
       "50%          0.390000\n",
       "75%          0.550000\n",
       "max          4.620000\n",
       "Name: co, dtype: float64"
      ]
     },
     "execution_count": 33,
     "metadata": {},
     "output_type": "execute_result"
    }
   ],
   "source": [
    "df_sensor_iraja['co'].describe()"
   ]
  },
  {
   "cell_type": "markdown",
   "metadata": {
    "id": "E6XkJ5BvLXB4"
   },
   "source": [
    "### Monóxido de Nitrogênio"
   ]
  },
  {
   "cell_type": "code",
   "execution_count": 34,
   "metadata": {
    "colab": {
     "base_uri": "https://localhost:8080/",
     "height": 0
    },
    "executionInfo": {
     "elapsed": 17,
     "status": "ok",
     "timestamp": 1750346290380,
     "user": {
      "displayName": "João Terêncio",
      "userId": "14302965054076037047"
     },
     "user_tz": 180
    },
    "id": "X36xqWTdLXB5",
    "outputId": "371d6a41-7e1a-40fd-9561-8dc7aa4563f0"
   },
   "outputs": [
    {
     "data": {
      "text/html": [
       "<div>\n",
       "<style scoped>\n",
       "    .dataframe tbody tr th:only-of-type {\n",
       "        vertical-align: middle;\n",
       "    }\n",
       "\n",
       "    .dataframe tbody tr th {\n",
       "        vertical-align: top;\n",
       "    }\n",
       "\n",
       "    .dataframe thead th {\n",
       "        text-align: right;\n",
       "    }\n",
       "</style>\n",
       "<table border=\"1\" class=\"dataframe\">\n",
       "  <thead>\n",
       "    <tr style=\"text-align: right;\">\n",
       "      <th></th>\n",
       "      <th>no</th>\n",
       "    </tr>\n",
       "  </thead>\n",
       "  <tbody>\n",
       "    <tr>\n",
       "      <th>count</th>\n",
       "      <td>103430.000000</td>\n",
       "    </tr>\n",
       "    <tr>\n",
       "      <th>mean</th>\n",
       "      <td>17.276016</td>\n",
       "    </tr>\n",
       "    <tr>\n",
       "      <th>std</th>\n",
       "      <td>32.539058</td>\n",
       "    </tr>\n",
       "    <tr>\n",
       "      <th>min</th>\n",
       "      <td>0.000000</td>\n",
       "    </tr>\n",
       "    <tr>\n",
       "      <th>25%</th>\n",
       "      <td>3.040000</td>\n",
       "    </tr>\n",
       "    <tr>\n",
       "      <th>50%</th>\n",
       "      <td>6.660000</td>\n",
       "    </tr>\n",
       "    <tr>\n",
       "      <th>75%</th>\n",
       "      <td>16.340000</td>\n",
       "    </tr>\n",
       "    <tr>\n",
       "      <th>max</th>\n",
       "      <td>640.380000</td>\n",
       "    </tr>\n",
       "  </tbody>\n",
       "</table>\n",
       "</div><br><label><b>dtype:</b> float64</label>"
      ],
      "text/plain": [
       "count    103430.000000\n",
       "mean         17.276016\n",
       "std          32.539058\n",
       "min           0.000000\n",
       "25%           3.040000\n",
       "50%           6.660000\n",
       "75%          16.340000\n",
       "max         640.380000\n",
       "Name: no, dtype: float64"
      ]
     },
     "execution_count": 34,
     "metadata": {},
     "output_type": "execute_result"
    }
   ],
   "source": [
    "df_sensor_iraja['no'].describe()"
   ]
  },
  {
   "cell_type": "code",
   "execution_count": 35,
   "metadata": {
    "cellView": "form",
    "colab": {
     "base_uri": "https://localhost:8080/"
    },
    "executionInfo": {
     "elapsed": 14,
     "status": "ok",
     "timestamp": 1750346290398,
     "user": {
      "displayName": "João Terêncio",
      "userId": "14302965054076037047"
     },
     "user_tz": 180
    },
    "id": "Y26pA0GcLXB6",
    "outputId": "44096d91-3a80-4fb6-a3cf-e2459576775c"
   },
   "outputs": [
    {
     "name": "stdout",
     "output_type": "stream",
     "text": [
      "Quantidade de valores vazios: 10546\n"
     ]
    }
   ],
   "source": [
    "#@title Vendo quantidade de valores vazios\n",
    "\n",
    "valroes_vazio = df_sensor_iraja[df_sensor_iraja['no'].isnull()].groupby(['ano', 'mes']).size().sum()\n",
    "print(f\"Quantidade de valores vazios: {valroes_vazio}\")"
   ]
  },
  {
   "cell_type": "code",
   "execution_count": 36,
   "metadata": {
    "cellView": "form",
    "colab": {
     "base_uri": "https://localhost:8080/"
    },
    "executionInfo": {
     "elapsed": 16,
     "status": "ok",
     "timestamp": 1750346290421,
     "user": {
      "displayName": "João Terêncio",
      "userId": "14302965054076037047"
     },
     "user_tz": 180
    },
    "id": "sAcauzMYLXB6",
    "outputId": "a0d11035-f407-4639-a7ba-9e461abb7dcf"
   },
   "outputs": [
    {
     "name": "stderr",
     "output_type": "stream",
     "text": [
      "/tmp/ipython-input-36-2473781293.py:3: SettingWithCopyWarning: \n",
      "A value is trying to be set on a copy of a slice from a DataFrame.\n",
      "Try using .loc[row_indexer,col_indexer] = value instead\n",
      "\n",
      "See the caveats in the documentation: https://pandas.pydata.org/pandas-docs/stable/user_guide/indexing.html#returning-a-view-versus-a-copy\n",
      "  df_sensor_iraja['no_nulos_no_dia'] = (\n"
     ]
    }
   ],
   "source": [
    "#@title Criando coluna que informa a quantidade de valores vazios por dia\n",
    "\n",
    "df_sensor_iraja['no_nulos_no_dia'] = (\n",
    "    df_sensor_iraja['no'].isnull()\n",
    "    .groupby(df_sensor_iraja['data_formatada'])\n",
    "    .transform('sum')  # Soma os nulos por dia e repete o valor em todas as linhas do dia\n",
    ")"
   ]
  },
  {
   "cell_type": "code",
   "execution_count": 37,
   "metadata": {
    "cellView": "form",
    "colab": {
     "base_uri": "https://localhost:8080/",
     "height": 0
    },
    "executionInfo": {
     "elapsed": 300,
     "status": "ok",
     "timestamp": 1750346290724,
     "user": {
      "displayName": "João Terêncio",
      "userId": "14302965054076037047"
     },
     "user_tz": 180
    },
    "id": "4tgQJdoOLXB7",
    "outputId": "3d266dcb-f3ab-4633-882b-f4d02c3c63f8"
   },
   "outputs": [
    {
     "data": {
      "image/png": "[encoded data removed]",
      "text/plain": [
       "<Figure size 1000x600 with 1 Axes>"
      ]
     },
     "metadata": {},
     "output_type": "display_data"
    }
   ],
   "source": [
    "#@title Distribuição dos valores vazios\n",
    "\n",
    "# Seleciona uma única linha por dia, para evitar repetição\n",
    "df_dias = df_sensor_iraja[df_sensor_iraja['no_nulos_no_dia'] != 0].groupby('data_formatada')['no_nulos_no_dia'].first()\n",
    "\n",
    "# Plotar o histograma da contagem de valores nulos por dia\n",
    "plt.figure(figsize=(10,6))\n",
    "plt.hist(df_dias, bins=range(0, df_dias.max() + 2), edgecolor='black', align='left')\n",
    "plt.title(\"Histograma de Quantidade de Valores Vazios em 'no' por Dia\")\n",
    "plt.xlabel('Quantidade de valores vazios no dia')\n",
    "plt.ylabel('Número de dias')\n",
    "plt.xticks(range(0, df_dias.max() + 1))\n",
    "plt.grid(axis='y', alpha=0.75)\n",
    "plt.show()"
   ]
  },
  {
   "cell_type": "code",
   "execution_count": 38,
   "metadata": {
    "cellView": "form",
    "colab": {
     "base_uri": "https://localhost:8080/"
    },
    "executionInfo": {
     "elapsed": 31,
     "status": "ok",
     "timestamp": 1750346290752,
     "user": {
      "displayName": "João Terêncio",
      "userId": "14302965054076037047"
     },
     "user_tz": 180
    },
    "id": "MpnzHkQ9LXB7",
    "outputId": "3feb3c47-bae5-4bfa-e5af-b8a61c93621c"
   },
   "outputs": [
    {
     "name": "stdout",
     "output_type": "stream",
     "text": [
      "2267 linhas foram preenchidas com interpolate na coluna 'no'.\n",
      "Foram preenchido 21% de dados\n"
     ]
    }
   ],
   "source": [
    "#@title Preenchimento dos valores nulos utilizando a função interpolate (Preenchendo apenas os que tem menos de 7 linhas vazias por dia)\n",
    "\n",
    "mask = (df_sensor_iraja['no_nulos_no_dia'] <= 6)\n",
    "\n",
    "num_nulls = df_sensor_iraja[mask]['no'].isnull().sum()\n",
    "df_sensor_iraja.loc[mask, 'no'] = df_sensor_iraja[mask]['no'].interpolate()\n",
    "print(f\"{num_nulls} linhas foram preenchidas com interpolate na coluna 'no'.\")\n",
    "print(f\"Foram preenchido {round((num_nulls/valroes_vazio)*100)}% de dados\")"
   ]
  },
  {
   "cell_type": "code",
   "execution_count": 39,
   "metadata": {
    "colab": {
     "base_uri": "https://localhost:8080/",
     "height": 0
    },
    "executionInfo": {
     "elapsed": 12,
     "status": "ok",
     "timestamp": 1750346290772,
     "user": {
      "displayName": "João Terêncio",
      "userId": "14302965054076037047"
     },
     "user_tz": 180
    },
    "id": "tof4xFlCLXB7",
    "outputId": "1d4246f6-8260-40a0-b5f5-13b1dd31026c"
   },
   "outputs": [
    {
     "data": {
      "text/html": [
       "<div>\n",
       "<style scoped>\n",
       "    .dataframe tbody tr th:only-of-type {\n",
       "        vertical-align: middle;\n",
       "    }\n",
       "\n",
       "    .dataframe tbody tr th {\n",
       "        vertical-align: top;\n",
       "    }\n",
       "\n",
       "    .dataframe thead th {\n",
       "        text-align: right;\n",
       "    }\n",
       "</style>\n",
       "<table border=\"1\" class=\"dataframe\">\n",
       "  <thead>\n",
       "    <tr style=\"text-align: right;\">\n",
       "      <th></th>\n",
       "      <th>no</th>\n",
       "    </tr>\n",
       "  </thead>\n",
       "  <tbody>\n",
       "    <tr>\n",
       "      <th>count</th>\n",
       "      <td>105697.000000</td>\n",
       "    </tr>\n",
       "    <tr>\n",
       "      <th>mean</th>\n",
       "      <td>17.189971</td>\n",
       "    </tr>\n",
       "    <tr>\n",
       "      <th>std</th>\n",
       "      <td>32.459617</td>\n",
       "    </tr>\n",
       "    <tr>\n",
       "      <th>min</th>\n",
       "      <td>0.000000</td>\n",
       "    </tr>\n",
       "    <tr>\n",
       "      <th>25%</th>\n",
       "      <td>3.010000</td>\n",
       "    </tr>\n",
       "    <tr>\n",
       "      <th>50%</th>\n",
       "      <td>6.620000</td>\n",
       "    </tr>\n",
       "    <tr>\n",
       "      <th>75%</th>\n",
       "      <td>16.230000</td>\n",
       "    </tr>\n",
       "    <tr>\n",
       "      <th>max</th>\n",
       "      <td>640.380000</td>\n",
       "    </tr>\n",
       "  </tbody>\n",
       "</table>\n",
       "</div><br><label><b>dtype:</b> float64</label>"
      ],
      "text/plain": [
       "count    105697.000000\n",
       "mean         17.189971\n",
       "std          32.459617\n",
       "min           0.000000\n",
       "25%           3.010000\n",
       "50%           6.620000\n",
       "75%          16.230000\n",
       "max         640.380000\n",
       "Name: no, dtype: float64"
      ]
     },
     "execution_count": 39,
     "metadata": {},
     "output_type": "execute_result"
    }
   ],
   "source": [
    "df_sensor_iraja['no'].describe()"
   ]
  },
  {
   "cell_type": "markdown",
   "metadata": {
    "id": "EUmmcBfRL3FQ"
   },
   "source": [
    "### Dióxido de Nitrogênio"
   ]
  },
  {
   "cell_type": "code",
   "execution_count": 40,
   "metadata": {
    "colab": {
     "base_uri": "https://localhost:8080/",
     "height": 0
    },
    "executionInfo": {
     "elapsed": 23,
     "status": "ok",
     "timestamp": 1750346290798,
     "user": {
      "displayName": "João Terêncio",
      "userId": "14302965054076037047"
     },
     "user_tz": 180
    },
    "id": "c94PNq-eL3FR",
    "outputId": "9fcad6b6-9575-4820-8d6d-7c992d3af43e"
   },
   "outputs": [
    {
     "data": {
      "text/html": [
       "<div>\n",
       "<style scoped>\n",
       "    .dataframe tbody tr th:only-of-type {\n",
       "        vertical-align: middle;\n",
       "    }\n",
       "\n",
       "    .dataframe tbody tr th {\n",
       "        vertical-align: top;\n",
       "    }\n",
       "\n",
       "    .dataframe thead th {\n",
       "        text-align: right;\n",
       "    }\n",
       "</style>\n",
       "<table border=\"1\" class=\"dataframe\">\n",
       "  <thead>\n",
       "    <tr style=\"text-align: right;\">\n",
       "      <th></th>\n",
       "      <th>no2</th>\n",
       "    </tr>\n",
       "  </thead>\n",
       "  <tbody>\n",
       "    <tr>\n",
       "      <th>count</th>\n",
       "      <td>103492.000000</td>\n",
       "    </tr>\n",
       "    <tr>\n",
       "      <th>mean</th>\n",
       "      <td>38.250203</td>\n",
       "    </tr>\n",
       "    <tr>\n",
       "      <th>std</th>\n",
       "      <td>20.422660</td>\n",
       "    </tr>\n",
       "    <tr>\n",
       "      <th>min</th>\n",
       "      <td>0.000000</td>\n",
       "    </tr>\n",
       "    <tr>\n",
       "      <th>25%</th>\n",
       "      <td>23.597500</td>\n",
       "    </tr>\n",
       "    <tr>\n",
       "      <th>50%</th>\n",
       "      <td>34.660000</td>\n",
       "    </tr>\n",
       "    <tr>\n",
       "      <th>75%</th>\n",
       "      <td>48.720000</td>\n",
       "    </tr>\n",
       "    <tr>\n",
       "      <th>max</th>\n",
       "      <td>211.810000</td>\n",
       "    </tr>\n",
       "  </tbody>\n",
       "</table>\n",
       "</div><br><label><b>dtype:</b> float64</label>"
      ],
      "text/plain": [
       "count    103492.000000\n",
       "mean         38.250203\n",
       "std          20.422660\n",
       "min           0.000000\n",
       "25%          23.597500\n",
       "50%          34.660000\n",
       "75%          48.720000\n",
       "max         211.810000\n",
       "Name: no2, dtype: float64"
      ]
     },
     "execution_count": 40,
     "metadata": {},
     "output_type": "execute_result"
    }
   ],
   "source": [
    "df_sensor_iraja['no2'].describe()"
   ]
  },
  {
   "cell_type": "code",
   "execution_count": 41,
   "metadata": {
    "cellView": "form",
    "colab": {
     "base_uri": "https://localhost:8080/"
    },
    "executionInfo": {
     "elapsed": 72,
     "status": "ok",
     "timestamp": 1750346290874,
     "user": {
      "displayName": "João Terêncio",
      "userId": "14302965054076037047"
     },
     "user_tz": 180
    },
    "id": "cZF6XGcJL3FR",
    "outputId": "5774e136-730e-47cb-9a16-9258508db77b"
   },
   "outputs": [
    {
     "name": "stdout",
     "output_type": "stream",
     "text": [
      "Quantidade de valores vazios: 10484\n"
     ]
    }
   ],
   "source": [
    "#@title Vendo quantidade de valores vazios\n",
    "\n",
    "valroes_vazio = df_sensor_iraja[df_sensor_iraja['no2'].isnull()].groupby(['ano', 'mes']).size().sum()\n",
    "print(f\"Quantidade de valores vazios: {valroes_vazio}\")"
   ]
  },
  {
   "cell_type": "code",
   "execution_count": 42,
   "metadata": {
    "cellView": "form",
    "colab": {
     "base_uri": "https://localhost:8080/"
    },
    "executionInfo": {
     "elapsed": 62,
     "status": "ok",
     "timestamp": 1750346290875,
     "user": {
      "displayName": "João Terêncio",
      "userId": "14302965054076037047"
     },
     "user_tz": 180
    },
    "id": "JirjBMu1L3FR",
    "outputId": "0bf29e4f-94d0-4ffd-986d-c3cf08624c6e"
   },
   "outputs": [
    {
     "name": "stderr",
     "output_type": "stream",
     "text": [
      "/tmp/ipython-input-42-726802487.py:3: SettingWithCopyWarning: \n",
      "A value is trying to be set on a copy of a slice from a DataFrame.\n",
      "Try using .loc[row_indexer,col_indexer] = value instead\n",
      "\n",
      "See the caveats in the documentation: https://pandas.pydata.org/pandas-docs/stable/user_guide/indexing.html#returning-a-view-versus-a-copy\n",
      "  df_sensor_iraja['no2_nulos_no_dia'] = (\n"
     ]
    }
   ],
   "source": [
    "#@title Criando coluna que informa a quantidade de valores vazios por dia\n",
    "\n",
    "df_sensor_iraja['no2_nulos_no_dia'] = (\n",
    "    df_sensor_iraja['no2'].isnull()\n",
    "    .groupby(df_sensor_iraja['data_formatada'])\n",
    "    .transform('sum')  # Soma os nulos por dia e repete o valor em todas as linhas do dia\n",
    ")"
   ]
  },
  {
   "cell_type": "code",
   "execution_count": 43,
   "metadata": {
    "cellView": "form",
    "colab": {
     "base_uri": "https://localhost:8080/",
     "height": 0
    },
    "executionInfo": {
     "elapsed": 268,
     "status": "ok",
     "timestamp": 1750346291137,
     "user": {
      "displayName": "João Terêncio",
      "userId": "14302965054076037047"
     },
     "user_tz": 180
    },
    "id": "PEuziQG6L3FR",
    "outputId": "f1336f04-3971-4108-adba-8609d1d7cce6"
   },
   "outputs": [
    {
     "data": {
      "image/png": "[encoded data removed]",
      "text/plain": [
       "<Figure size 1000x600 with 1 Axes>"
      ]
     },
     "metadata": {},
     "output_type": "display_data"
    }
   ],
   "source": [
    "#@title Distribuição dos valores vazios\n",
    "\n",
    "# Seleciona uma única linha por dia, para evitar repetição\n",
    "df_dias = df_sensor_iraja[df_sensor_iraja['no2_nulos_no_dia'] != 0].groupby('data_formatada')['no2_nulos_no_dia'].first()\n",
    "\n",
    "# Plotar o histograma da contagem de valores nulos por dia\n",
    "plt.figure(figsize=(10,6))\n",
    "plt.hist(df_dias, bins=range(0, df_dias.max() + 2), edgecolor='black', align='left')\n",
    "plt.title(\"Histograma de Quantidade de Valores Vazios em 'no2' por Dia\")\n",
    "plt.xlabel('Quantidade de valores vazios no dia')\n",
    "plt.ylabel('Número de dias')\n",
    "plt.xticks(range(0, df_dias.max() + 1))\n",
    "plt.grid(axis='y', alpha=0.75)\n",
    "plt.show()"
   ]
  },
  {
   "cell_type": "code",
   "execution_count": 44,
   "metadata": {
    "cellView": "form",
    "colab": {
     "base_uri": "https://localhost:8080/"
    },
    "executionInfo": {
     "elapsed": 25,
     "status": "ok",
     "timestamp": 1750346291157,
     "user": {
      "displayName": "João Terêncio",
      "userId": "14302965054076037047"
     },
     "user_tz": 180
    },
    "id": "BXBQoMkTL3FR",
    "outputId": "a823ec74-d175-4612-e71d-4db5a3601092"
   },
   "outputs": [
    {
     "name": "stdout",
     "output_type": "stream",
     "text": [
      "2218 linhas foram preenchidas com interpolate na coluna 'no2'.\n",
      "Foram preenchido 21% de dados\n"
     ]
    }
   ],
   "source": [
    "#@title Preenchimento dos valores nulos utilizando a função interpolate (Preenchendo apenas os que tem menos de 7 linhas vazias por dia)\n",
    "\n",
    "mask = (df_sensor_iraja['no2_nulos_no_dia'] <= 6)\n",
    "\n",
    "num_nulls = df_sensor_iraja[mask]['no2'].isnull().sum()\n",
    "df_sensor_iraja.loc[mask, 'no2'] = df_sensor_iraja[mask]['no2'].interpolate()\n",
    "print(f\"{num_nulls} linhas foram preenchidas com interpolate na coluna 'no2'.\")\n",
    "print(f\"Foram preenchido {round((num_nulls/valroes_vazio)*100)}% de dados\")"
   ]
  },
  {
   "cell_type": "code",
   "execution_count": 45,
   "metadata": {
    "colab": {
     "base_uri": "https://localhost:8080/",
     "height": 0
    },
    "executionInfo": {
     "elapsed": 10,
     "status": "ok",
     "timestamp": 1750346291169,
     "user": {
      "displayName": "João Terêncio",
      "userId": "14302965054076037047"
     },
     "user_tz": 180
    },
    "id": "_kik1WaAL3FR",
    "outputId": "acce228b-bed1-4873-abc8-075832835bc5"
   },
   "outputs": [
    {
     "data": {
      "text/html": [
       "<div>\n",
       "<style scoped>\n",
       "    .dataframe tbody tr th:only-of-type {\n",
       "        vertical-align: middle;\n",
       "    }\n",
       "\n",
       "    .dataframe tbody tr th {\n",
       "        vertical-align: top;\n",
       "    }\n",
       "\n",
       "    .dataframe thead th {\n",
       "        text-align: right;\n",
       "    }\n",
       "</style>\n",
       "<table border=\"1\" class=\"dataframe\">\n",
       "  <thead>\n",
       "    <tr style=\"text-align: right;\">\n",
       "      <th></th>\n",
       "      <th>no2</th>\n",
       "    </tr>\n",
       "  </thead>\n",
       "  <tbody>\n",
       "    <tr>\n",
       "      <th>count</th>\n",
       "      <td>105710.000000</td>\n",
       "    </tr>\n",
       "    <tr>\n",
       "      <th>mean</th>\n",
       "      <td>38.185275</td>\n",
       "    </tr>\n",
       "    <tr>\n",
       "      <th>std</th>\n",
       "      <td>20.434979</td>\n",
       "    </tr>\n",
       "    <tr>\n",
       "      <th>min</th>\n",
       "      <td>0.000000</td>\n",
       "    </tr>\n",
       "    <tr>\n",
       "      <th>25%</th>\n",
       "      <td>23.530000</td>\n",
       "    </tr>\n",
       "    <tr>\n",
       "      <th>50%</th>\n",
       "      <td>34.590000</td>\n",
       "    </tr>\n",
       "    <tr>\n",
       "      <th>75%</th>\n",
       "      <td>48.650000</td>\n",
       "    </tr>\n",
       "    <tr>\n",
       "      <th>max</th>\n",
       "      <td>211.810000</td>\n",
       "    </tr>\n",
       "  </tbody>\n",
       "</table>\n",
       "</div><br><label><b>dtype:</b> float64</label>"
      ],
      "text/plain": [
       "count    105710.000000\n",
       "mean         38.185275\n",
       "std          20.434979\n",
       "min           0.000000\n",
       "25%          23.530000\n",
       "50%          34.590000\n",
       "75%          48.650000\n",
       "max         211.810000\n",
       "Name: no2, dtype: float64"
      ]
     },
     "execution_count": 45,
     "metadata": {},
     "output_type": "execute_result"
    }
   ],
   "source": [
    "df_sensor_iraja['no2'].describe()"
   ]
  },
  {
   "cell_type": "markdown",
   "metadata": {
    "id": "_lsKfMaUMVWn"
   },
   "source": [
    "### Óxido de Nitrogênio"
   ]
  },
  {
   "cell_type": "code",
   "execution_count": 46,
   "metadata": {
    "colab": {
     "base_uri": "https://localhost:8080/",
     "height": 0
    },
    "executionInfo": {
     "elapsed": 13,
     "status": "ok",
     "timestamp": 1750346291187,
     "user": {
      "displayName": "João Terêncio",
      "userId": "14302965054076037047"
     },
     "user_tz": 180
    },
    "id": "5Z-DzzjTMVWo",
    "outputId": "66061005-6b2d-4ae0-e437-c5ece1a1a7e6"
   },
   "outputs": [
    {
     "data": {
      "text/html": [
       "<div>\n",
       "<style scoped>\n",
       "    .dataframe tbody tr th:only-of-type {\n",
       "        vertical-align: middle;\n",
       "    }\n",
       "\n",
       "    .dataframe tbody tr th {\n",
       "        vertical-align: top;\n",
       "    }\n",
       "\n",
       "    .dataframe thead th {\n",
       "        text-align: right;\n",
       "    }\n",
       "</style>\n",
       "<table border=\"1\" class=\"dataframe\">\n",
       "  <thead>\n",
       "    <tr style=\"text-align: right;\">\n",
       "      <th></th>\n",
       "      <th>nox</th>\n",
       "    </tr>\n",
       "  </thead>\n",
       "  <tbody>\n",
       "    <tr>\n",
       "      <th>count</th>\n",
       "      <td>103488.000000</td>\n",
       "    </tr>\n",
       "    <tr>\n",
       "      <th>mean</th>\n",
       "      <td>55.531865</td>\n",
       "    </tr>\n",
       "    <tr>\n",
       "      <th>std</th>\n",
       "      <td>45.720682</td>\n",
       "    </tr>\n",
       "    <tr>\n",
       "      <th>min</th>\n",
       "      <td>0.000000</td>\n",
       "    </tr>\n",
       "    <tr>\n",
       "      <th>25%</th>\n",
       "      <td>28.210000</td>\n",
       "    </tr>\n",
       "    <tr>\n",
       "      <th>50%</th>\n",
       "      <td>42.825000</td>\n",
       "    </tr>\n",
       "    <tr>\n",
       "      <th>75%</th>\n",
       "      <td>67.000000</td>\n",
       "    </tr>\n",
       "    <tr>\n",
       "      <th>max</th>\n",
       "      <td>702.670000</td>\n",
       "    </tr>\n",
       "  </tbody>\n",
       "</table>\n",
       "</div><br><label><b>dtype:</b> float64</label>"
      ],
      "text/plain": [
       "count    103488.000000\n",
       "mean         55.531865\n",
       "std          45.720682\n",
       "min           0.000000\n",
       "25%          28.210000\n",
       "50%          42.825000\n",
       "75%          67.000000\n",
       "max         702.670000\n",
       "Name: nox, dtype: float64"
      ]
     },
     "execution_count": 46,
     "metadata": {},
     "output_type": "execute_result"
    }
   ],
   "source": [
    "df_sensor_iraja['nox'].describe()"
   ]
  },
  {
   "cell_type": "code",
   "execution_count": 47,
   "metadata": {
    "cellView": "form",
    "colab": {
     "base_uri": "https://localhost:8080/"
    },
    "executionInfo": {
     "elapsed": 20,
     "status": "ok",
     "timestamp": 1750346291210,
     "user": {
      "displayName": "João Terêncio",
      "userId": "14302965054076037047"
     },
     "user_tz": 180
    },
    "id": "6eCJkUmBMVWo",
    "outputId": "6ed6cc2d-f063-4a27-f7f7-e47e4f768a88"
   },
   "outputs": [
    {
     "name": "stdout",
     "output_type": "stream",
     "text": [
      "Quantidade de valores vazios: 10488\n"
     ]
    }
   ],
   "source": [
    "#@title Vendo quantidade de valores vazios\n",
    "\n",
    "valroes_vazio = df_sensor_iraja[df_sensor_iraja['nox'].isnull()].groupby(['ano', 'mes']).size().sum()\n",
    "print(f\"Quantidade de valores vazios: {valroes_vazio}\")"
   ]
  },
  {
   "cell_type": "code",
   "execution_count": 48,
   "metadata": {
    "cellView": "form",
    "colab": {
     "base_uri": "https://localhost:8080/"
    },
    "executionInfo": {
     "elapsed": 52,
     "status": "ok",
     "timestamp": 1750346291265,
     "user": {
      "displayName": "João Terêncio",
      "userId": "14302965054076037047"
     },
     "user_tz": 180
    },
    "id": "arTstOYcMVWp",
    "outputId": "7d21e1a0-cbad-462c-fc86-7f20579176bc"
   },
   "outputs": [
    {
     "name": "stderr",
     "output_type": "stream",
     "text": [
      "/tmp/ipython-input-48-2916221577.py:3: SettingWithCopyWarning: \n",
      "A value is trying to be set on a copy of a slice from a DataFrame.\n",
      "Try using .loc[row_indexer,col_indexer] = value instead\n",
      "\n",
      "See the caveats in the documentation: https://pandas.pydata.org/pandas-docs/stable/user_guide/indexing.html#returning-a-view-versus-a-copy\n",
      "  df_sensor_iraja['nox_nulos_no_dia'] = (\n"
     ]
    }
   ],
   "source": [
    "#@title Criando coluna que informa a quantidade de valores vazios por dia\n",
    "\n",
    "df_sensor_iraja['nox_nulos_no_dia'] = (\n",
    "    df_sensor_iraja['nox'].isnull()\n",
    "    .groupby(df_sensor_iraja['data_formatada'])\n",
    "    .transform('sum')  # Soma os nulos por dia e repete o valor em todas as linhas do dia\n",
    ")"
   ]
  },
  {
   "cell_type": "code",
   "execution_count": 49,
   "metadata": {
    "cellView": "form",
    "colab": {
     "base_uri": "https://localhost:8080/",
     "height": 0
    },
    "executionInfo": {
     "elapsed": 315,
     "status": "ok",
     "timestamp": 1750346291575,
     "user": {
      "displayName": "João Terêncio",
      "userId": "14302965054076037047"
     },
     "user_tz": 180
    },
    "id": "uR0Iri7RMVWp",
    "outputId": "9dd88a8c-1c89-441c-bc7a-941b5917e44e"
   },
   "outputs": [
    {
     "data": {
      "image/png": "[encoded data removed]",
      "text/plain": [
       "<Figure size 1000x600 with 1 Axes>"
      ]
     },
     "metadata": {},
     "output_type": "display_data"
    }
   ],
   "source": [
    "#@title Distribuição dos valores vazios\n",
    "\n",
    "# Seleciona uma única linha por dia, para evitar repetição\n",
    "df_dias = df_sensor_iraja[df_sensor_iraja['nox_nulos_no_dia'] != 0].groupby('data_formatada')['nox_nulos_no_dia'].first()\n",
    "\n",
    "# Plotar o histograma da contagem de valores nulos por dia\n",
    "plt.figure(figsize=(10,6))\n",
    "plt.hist(df_dias, bins=range(0, df_dias.max() + 2), edgecolor='black', align='left')\n",
    "plt.title(\"Histograma de Quantidade de Valores Vazios em 'nox' por Dia\")\n",
    "plt.xlabel('Quantidade de valores vazios no dia')\n",
    "plt.ylabel('Número de dias')\n",
    "plt.xticks(range(0, df_dias.max() + 1))\n",
    "plt.grid(axis='y', alpha=0.75)\n",
    "plt.show()"
   ]
  },
  {
   "cell_type": "code",
   "execution_count": 50,
   "metadata": {
    "cellView": "form",
    "colab": {
     "base_uri": "https://localhost:8080/"
    },
    "executionInfo": {
     "elapsed": 30,
     "status": "ok",
     "timestamp": 1750346291595,
     "user": {
      "displayName": "João Terêncio",
      "userId": "14302965054076037047"
     },
     "user_tz": 180
    },
    "id": "oFZPdVecMVWp",
    "outputId": "db8cb4f4-226e-4a15-b69c-7a9168bc39d6"
   },
   "outputs": [
    {
     "name": "stdout",
     "output_type": "stream",
     "text": [
      "2236 linhas foram preenchidas com interpolate na coluna 'nox'.\n",
      "Foram preenchido 21% de dados\n"
     ]
    }
   ],
   "source": [
    "#@title Preenchimento dos valores nulos utilizando a função interpolate (Preenchendo apenas os que tem menos de 7 linhas vazias por dia)\n",
    "\n",
    "mask = (df_sensor_iraja['nox_nulos_no_dia'] <= 6)\n",
    "\n",
    "num_nulls = df_sensor_iraja[mask]['nox'].isnull().sum()\n",
    "df_sensor_iraja.loc[mask, 'nox'] = df_sensor_iraja[mask]['nox'].interpolate()\n",
    "print(f\"{num_nulls} linhas foram preenchidas com interpolate na coluna 'nox'.\")\n",
    "print(f\"Foram preenchido {round((num_nulls/valroes_vazio)*100)}% de dados\")"
   ]
  },
  {
   "cell_type": "code",
   "execution_count": 51,
   "metadata": {
    "colab": {
     "base_uri": "https://localhost:8080/",
     "height": 0
    },
    "executionInfo": {
     "elapsed": 11,
     "status": "ok",
     "timestamp": 1750346291610,
     "user": {
      "displayName": "João Terêncio",
      "userId": "14302965054076037047"
     },
     "user_tz": 180
    },
    "id": "TZjwHNM_MVWp",
    "outputId": "f416084d-0fda-4c1c-fc72-7fd43fe5c7ab"
   },
   "outputs": [
    {
     "data": {
      "text/html": [
       "<div>\n",
       "<style scoped>\n",
       "    .dataframe tbody tr th:only-of-type {\n",
       "        vertical-align: middle;\n",
       "    }\n",
       "\n",
       "    .dataframe tbody tr th {\n",
       "        vertical-align: top;\n",
       "    }\n",
       "\n",
       "    .dataframe thead th {\n",
       "        text-align: right;\n",
       "    }\n",
       "</style>\n",
       "<table border=\"1\" class=\"dataframe\">\n",
       "  <thead>\n",
       "    <tr style=\"text-align: right;\">\n",
       "      <th></th>\n",
       "      <th>nox</th>\n",
       "    </tr>\n",
       "  </thead>\n",
       "  <tbody>\n",
       "    <tr>\n",
       "      <th>count</th>\n",
       "      <td>105724.000000</td>\n",
       "    </tr>\n",
       "    <tr>\n",
       "      <th>mean</th>\n",
       "      <td>55.389989</td>\n",
       "    </tr>\n",
       "    <tr>\n",
       "      <th>std</th>\n",
       "      <td>45.654787</td>\n",
       "    </tr>\n",
       "    <tr>\n",
       "      <th>min</th>\n",
       "      <td>0.000000</td>\n",
       "    </tr>\n",
       "    <tr>\n",
       "      <th>25%</th>\n",
       "      <td>28.100000</td>\n",
       "    </tr>\n",
       "    <tr>\n",
       "      <th>50%</th>\n",
       "      <td>42.710000</td>\n",
       "    </tr>\n",
       "    <tr>\n",
       "      <th>75%</th>\n",
       "      <td>66.860000</td>\n",
       "    </tr>\n",
       "    <tr>\n",
       "      <th>max</th>\n",
       "      <td>702.670000</td>\n",
       "    </tr>\n",
       "  </tbody>\n",
       "</table>\n",
       "</div><br><label><b>dtype:</b> float64</label>"
      ],
      "text/plain": [
       "count    105724.000000\n",
       "mean         55.389989\n",
       "std          45.654787\n",
       "min           0.000000\n",
       "25%          28.100000\n",
       "50%          42.710000\n",
       "75%          66.860000\n",
       "max         702.670000\n",
       "Name: nox, dtype: float64"
      ]
     },
     "execution_count": 51,
     "metadata": {},
     "output_type": "execute_result"
    }
   ],
   "source": [
    "df_sensor_iraja['nox'].describe()"
   ]
  },
  {
   "cell_type": "markdown",
   "metadata": {
    "id": "dea3QOhJMs5K"
   },
   "source": [
    "### Dióxido de Enxofre"
   ]
  },
  {
   "cell_type": "code",
   "execution_count": 52,
   "metadata": {
    "colab": {
     "base_uri": "https://localhost:8080/",
     "height": 0
    },
    "executionInfo": {
     "elapsed": 12,
     "status": "ok",
     "timestamp": 1750346291625,
     "user": {
      "displayName": "João Terêncio",
      "userId": "14302965054076037047"
     },
     "user_tz": 180
    },
    "id": "fszCCXqNMs5L",
    "outputId": "cd51df3a-9767-4250-fc71-03c9cac492d5"
   },
   "outputs": [
    {
     "data": {
      "text/html": [
       "<div>\n",
       "<style scoped>\n",
       "    .dataframe tbody tr th:only-of-type {\n",
       "        vertical-align: middle;\n",
       "    }\n",
       "\n",
       "    .dataframe tbody tr th {\n",
       "        vertical-align: top;\n",
       "    }\n",
       "\n",
       "    .dataframe thead th {\n",
       "        text-align: right;\n",
       "    }\n",
       "</style>\n",
       "<table border=\"1\" class=\"dataframe\">\n",
       "  <thead>\n",
       "    <tr style=\"text-align: right;\">\n",
       "      <th></th>\n",
       "      <th>so2</th>\n",
       "    </tr>\n",
       "  </thead>\n",
       "  <tbody>\n",
       "    <tr>\n",
       "      <th>count</th>\n",
       "      <td>73748.000000</td>\n",
       "    </tr>\n",
       "    <tr>\n",
       "      <th>mean</th>\n",
       "      <td>4.539614</td>\n",
       "    </tr>\n",
       "    <tr>\n",
       "      <th>std</th>\n",
       "      <td>6.580275</td>\n",
       "    </tr>\n",
       "    <tr>\n",
       "      <th>min</th>\n",
       "      <td>0.000000</td>\n",
       "    </tr>\n",
       "    <tr>\n",
       "      <th>25%</th>\n",
       "      <td>0.880000</td>\n",
       "    </tr>\n",
       "    <tr>\n",
       "      <th>50%</th>\n",
       "      <td>3.130000</td>\n",
       "    </tr>\n",
       "    <tr>\n",
       "      <th>75%</th>\n",
       "      <td>6.020000</td>\n",
       "    </tr>\n",
       "    <tr>\n",
       "      <th>max</th>\n",
       "      <td>309.130000</td>\n",
       "    </tr>\n",
       "  </tbody>\n",
       "</table>\n",
       "</div><br><label><b>dtype:</b> float64</label>"
      ],
      "text/plain": [
       "count    73748.000000\n",
       "mean         4.539614\n",
       "std          6.580275\n",
       "min          0.000000\n",
       "25%          0.880000\n",
       "50%          3.130000\n",
       "75%          6.020000\n",
       "max        309.130000\n",
       "Name: so2, dtype: float64"
      ]
     },
     "execution_count": 52,
     "metadata": {},
     "output_type": "execute_result"
    }
   ],
   "source": [
    "df_sensor_iraja['so2'].describe()"
   ]
  },
  {
   "cell_type": "code",
   "execution_count": 53,
   "metadata": {
    "cellView": "form",
    "colab": {
     "base_uri": "https://localhost:8080/"
    },
    "executionInfo": {
     "elapsed": 18,
     "status": "ok",
     "timestamp": 1750346291646,
     "user": {
      "displayName": "João Terêncio",
      "userId": "14302965054076037047"
     },
     "user_tz": 180
    },
    "id": "c0RuCYCsMs5L",
    "outputId": "8ed116db-acc0-4a21-faf6-f87f99259fad"
   },
   "outputs": [
    {
     "name": "stdout",
     "output_type": "stream",
     "text": [
      "Quantidade de valores vazios: 40228\n"
     ]
    }
   ],
   "source": [
    "#@title Vendo quantidade de valores vazios\n",
    "\n",
    "valroes_vazio = df_sensor_iraja[df_sensor_iraja['so2'].isnull()].groupby(['ano', 'mes']).size().sum()\n",
    "print(f\"Quantidade de valores vazios: {valroes_vazio}\")"
   ]
  },
  {
   "cell_type": "code",
   "execution_count": 54,
   "metadata": {
    "cellView": "form",
    "colab": {
     "base_uri": "https://localhost:8080/"
    },
    "executionInfo": {
     "elapsed": 35,
     "status": "ok",
     "timestamp": 1750346291683,
     "user": {
      "displayName": "João Terêncio",
      "userId": "14302965054076037047"
     },
     "user_tz": 180
    },
    "id": "C4qkCjQHMs5L",
    "outputId": "b9e528ba-77c4-4d84-b504-6f8e376475f6"
   },
   "outputs": [
    {
     "name": "stderr",
     "output_type": "stream",
     "text": [
      "/tmp/ipython-input-54-2857888169.py:3: SettingWithCopyWarning: \n",
      "A value is trying to be set on a copy of a slice from a DataFrame.\n",
      "Try using .loc[row_indexer,col_indexer] = value instead\n",
      "\n",
      "See the caveats in the documentation: https://pandas.pydata.org/pandas-docs/stable/user_guide/indexing.html#returning-a-view-versus-a-copy\n",
      "  df_sensor_iraja['so2_nulos_no_dia'] = (\n"
     ]
    }
   ],
   "source": [
    "#@title Criando coluna que informa a quantidade de valores vazios por dia\n",
    "\n",
    "df_sensor_iraja['so2_nulos_no_dia'] = (\n",
    "    df_sensor_iraja['so2'].isnull()\n",
    "    .groupby(df_sensor_iraja['data_formatada'])\n",
    "    .transform('sum')  # Soma os nulos por dia e repete o valor em todas as linhas do dia\n",
    ")"
   ]
  },
  {
   "cell_type": "code",
   "execution_count": 55,
   "metadata": {
    "cellView": "form",
    "colab": {
     "base_uri": "https://localhost:8080/",
     "height": 0
    },
    "executionInfo": {
     "elapsed": 364,
     "status": "ok",
     "timestamp": 1750346292044,
     "user": {
      "displayName": "João Terêncio",
      "userId": "14302965054076037047"
     },
     "user_tz": 180
    },
    "id": "trcgkn9hMs5L",
    "outputId": "3ded082e-3515-4cd5-cdb5-4f8e2d2b2dd0"
   },
   "outputs": [
    {
     "data": {
      "image/png": "[encoded data removed]",
      "text/plain": [
       "<Figure size 1000x600 with 1 Axes>"
      ]
     },
     "metadata": {},
     "output_type": "display_data"
    }
   ],
   "source": [
    "#@title Distribuição dos valores vazios\n",
    "\n",
    "# Seleciona uma única linha por dia, para evitar repetição\n",
    "df_dias = df_sensor_iraja[df_sensor_iraja['so2_nulos_no_dia'] != 0].groupby('data_formatada')['so2_nulos_no_dia'].first()\n",
    "\n",
    "# Plotar o histograma da contagem de valores nulos por dia\n",
    "plt.figure(figsize=(10,6))\n",
    "plt.hist(df_dias, bins=range(0, df_dias.max() + 2), edgecolor='black', align='left')\n",
    "plt.title(\"Histograma de Quantidade de Valores Vazios em 'so2' por Dia\")\n",
    "plt.xlabel('Quantidade de valores vazios no dia')\n",
    "plt.ylabel('Número de dias')\n",
    "plt.xticks(range(0, df_dias.max() + 1))\n",
    "plt.grid(axis='y', alpha=0.75)\n",
    "plt.show()"
   ]
  },
  {
   "cell_type": "code",
   "execution_count": 56,
   "metadata": {
    "cellView": "form",
    "colab": {
     "base_uri": "https://localhost:8080/"
    },
    "executionInfo": {
     "elapsed": 26,
     "status": "ok",
     "timestamp": 1750346292048,
     "user": {
      "displayName": "João Terêncio",
      "userId": "14302965054076037047"
     },
     "user_tz": 180
    },
    "id": "4Vf0xfIGMs5L",
    "outputId": "f79cd55b-7a15-443f-f1a2-a6febdaa4608"
   },
   "outputs": [
    {
     "name": "stdout",
     "output_type": "stream",
     "text": [
      "3031 linhas foram preenchidas com interpolate na coluna 'so2'.\n",
      "Foram preenchido 8% de dados\n"
     ]
    }
   ],
   "source": [
    "#@title Preenchimento dos valores nulos utilizando a função interpolate (Preenchendo apenas os que tem menos de 7 linhas vazias por dia)\n",
    "\n",
    "mask = (df_sensor_iraja['so2_nulos_no_dia'] <= 6)\n",
    "\n",
    "num_nulls = df_sensor_iraja[mask]['so2'].isnull().sum()\n",
    "df_sensor_iraja.loc[mask, 'so2'] = df_sensor_iraja[mask]['so2'].interpolate()\n",
    "print(f\"{num_nulls} linhas foram preenchidas com interpolate na coluna 'so2'.\")\n",
    "print(f\"Foram preenchido {round((num_nulls/valroes_vazio)*100)}% de dados\")"
   ]
  },
  {
   "cell_type": "code",
   "execution_count": 57,
   "metadata": {
    "colab": {
     "base_uri": "https://localhost:8080/",
     "height": 0
    },
    "executionInfo": {
     "elapsed": 14,
     "status": "ok",
     "timestamp": 1750346292064,
     "user": {
      "displayName": "João Terêncio",
      "userId": "14302965054076037047"
     },
     "user_tz": 180
    },
    "id": "tdmsasFgMs5L",
    "outputId": "b82d5482-4e6c-4e4d-db95-9a05b97e54a3"
   },
   "outputs": [
    {
     "data": {
      "text/html": [
       "<div>\n",
       "<style scoped>\n",
       "    .dataframe tbody tr th:only-of-type {\n",
       "        vertical-align: middle;\n",
       "    }\n",
       "\n",
       "    .dataframe tbody tr th {\n",
       "        vertical-align: top;\n",
       "    }\n",
       "\n",
       "    .dataframe thead th {\n",
       "        text-align: right;\n",
       "    }\n",
       "</style>\n",
       "<table border=\"1\" class=\"dataframe\">\n",
       "  <thead>\n",
       "    <tr style=\"text-align: right;\">\n",
       "      <th></th>\n",
       "      <th>so2</th>\n",
       "    </tr>\n",
       "  </thead>\n",
       "  <tbody>\n",
       "    <tr>\n",
       "      <th>count</th>\n",
       "      <td>76779.000000</td>\n",
       "    </tr>\n",
       "    <tr>\n",
       "      <th>mean</th>\n",
       "      <td>4.535962</td>\n",
       "    </tr>\n",
       "    <tr>\n",
       "      <th>std</th>\n",
       "      <td>6.545593</td>\n",
       "    </tr>\n",
       "    <tr>\n",
       "      <th>min</th>\n",
       "      <td>0.000000</td>\n",
       "    </tr>\n",
       "    <tr>\n",
       "      <th>25%</th>\n",
       "      <td>0.890000</td>\n",
       "    </tr>\n",
       "    <tr>\n",
       "      <th>50%</th>\n",
       "      <td>3.130000</td>\n",
       "    </tr>\n",
       "    <tr>\n",
       "      <th>75%</th>\n",
       "      <td>6.010000</td>\n",
       "    </tr>\n",
       "    <tr>\n",
       "      <th>max</th>\n",
       "      <td>309.130000</td>\n",
       "    </tr>\n",
       "  </tbody>\n",
       "</table>\n",
       "</div><br><label><b>dtype:</b> float64</label>"
      ],
      "text/plain": [
       "count    76779.000000\n",
       "mean         4.535962\n",
       "std          6.545593\n",
       "min          0.000000\n",
       "25%          0.890000\n",
       "50%          3.130000\n",
       "75%          6.010000\n",
       "max        309.130000\n",
       "Name: so2, dtype: float64"
      ]
     },
     "execution_count": 57,
     "metadata": {},
     "output_type": "execute_result"
    }
   ],
   "source": [
    "df_sensor_iraja['so2'].describe()"
   ]
  },
  {
   "cell_type": "markdown",
   "metadata": {
    "id": "DP-WWSHfNYCk"
   },
   "source": [
    "### Ozônio"
   ]
  },
  {
   "cell_type": "code",
   "execution_count": 58,
   "metadata": {
    "colab": {
     "base_uri": "https://localhost:8080/",
     "height": 0
    },
    "executionInfo": {
     "elapsed": 11,
     "status": "ok",
     "timestamp": 1750346292081,
     "user": {
      "displayName": "João Terêncio",
      "userId": "14302965054076037047"
     },
     "user_tz": 180
    },
    "id": "5Wx7SPTJNYCl",
    "outputId": "68a10c41-5b92-42dd-ddb8-04ce567f7c32"
   },
   "outputs": [
    {
     "data": {
      "text/html": [
       "<div>\n",
       "<style scoped>\n",
       "    .dataframe tbody tr th:only-of-type {\n",
       "        vertical-align: middle;\n",
       "    }\n",
       "\n",
       "    .dataframe tbody tr th {\n",
       "        vertical-align: top;\n",
       "    }\n",
       "\n",
       "    .dataframe thead th {\n",
       "        text-align: right;\n",
       "    }\n",
       "</style>\n",
       "<table border=\"1\" class=\"dataframe\">\n",
       "  <thead>\n",
       "    <tr style=\"text-align: right;\">\n",
       "      <th></th>\n",
       "      <th>o3</th>\n",
       "    </tr>\n",
       "  </thead>\n",
       "  <tbody>\n",
       "    <tr>\n",
       "      <th>count</th>\n",
       "      <td>100607.000000</td>\n",
       "    </tr>\n",
       "    <tr>\n",
       "      <th>mean</th>\n",
       "      <td>35.657054</td>\n",
       "    </tr>\n",
       "    <tr>\n",
       "      <th>std</th>\n",
       "      <td>33.302753</td>\n",
       "    </tr>\n",
       "    <tr>\n",
       "      <th>min</th>\n",
       "      <td>0.000000</td>\n",
       "    </tr>\n",
       "    <tr>\n",
       "      <th>25%</th>\n",
       "      <td>10.280000</td>\n",
       "    </tr>\n",
       "    <tr>\n",
       "      <th>50%</th>\n",
       "      <td>27.360000</td>\n",
       "    </tr>\n",
       "    <tr>\n",
       "      <th>75%</th>\n",
       "      <td>50.680000</td>\n",
       "    </tr>\n",
       "    <tr>\n",
       "      <th>max</th>\n",
       "      <td>355.450000</td>\n",
       "    </tr>\n",
       "  </tbody>\n",
       "</table>\n",
       "</div><br><label><b>dtype:</b> float64</label>"
      ],
      "text/plain": [
       "count    100607.000000\n",
       "mean         35.657054\n",
       "std          33.302753\n",
       "min           0.000000\n",
       "25%          10.280000\n",
       "50%          27.360000\n",
       "75%          50.680000\n",
       "max         355.450000\n",
       "Name: o3, dtype: float64"
      ]
     },
     "execution_count": 58,
     "metadata": {},
     "output_type": "execute_result"
    }
   ],
   "source": [
    "df_sensor_iraja['o3'].describe()"
   ]
  },
  {
   "cell_type": "code",
   "execution_count": 59,
   "metadata": {
    "cellView": "form",
    "colab": {
     "base_uri": "https://localhost:8080/"
    },
    "executionInfo": {
     "elapsed": 16,
     "status": "ok",
     "timestamp": 1750346292100,
     "user": {
      "displayName": "João Terêncio",
      "userId": "14302965054076037047"
     },
     "user_tz": 180
    },
    "id": "kXhRQEmoNYCn",
    "outputId": "9cdb4eb7-7f1c-407a-cbc0-aa3f2c0bd0e4"
   },
   "outputs": [
    {
     "name": "stdout",
     "output_type": "stream",
     "text": [
      "Quantidade de valores vazios: 13369\n"
     ]
    }
   ],
   "source": [
    "#@title Vendo quantidade de valores vazios\n",
    "\n",
    "valroes_vazio = df_sensor_iraja[df_sensor_iraja['o3'].isnull()].groupby(['ano', 'mes']).size().sum()\n",
    "print(f\"Quantidade de valores vazios: {valroes_vazio}\")"
   ]
  },
  {
   "cell_type": "code",
   "execution_count": 60,
   "metadata": {
    "cellView": "form",
    "colab": {
     "base_uri": "https://localhost:8080/"
    },
    "executionInfo": {
     "elapsed": 16,
     "status": "ok",
     "timestamp": 1750346292118,
     "user": {
      "displayName": "João Terêncio",
      "userId": "14302965054076037047"
     },
     "user_tz": 180
    },
    "id": "cJBoN4cMNYCn",
    "outputId": "23930c5d-49ce-4fbd-dfa2-06444e19ee15"
   },
   "outputs": [
    {
     "name": "stderr",
     "output_type": "stream",
     "text": [
      "/tmp/ipython-input-60-1905008294.py:3: SettingWithCopyWarning: \n",
      "A value is trying to be set on a copy of a slice from a DataFrame.\n",
      "Try using .loc[row_indexer,col_indexer] = value instead\n",
      "\n",
      "See the caveats in the documentation: https://pandas.pydata.org/pandas-docs/stable/user_guide/indexing.html#returning-a-view-versus-a-copy\n",
      "  df_sensor_iraja['o3_nulos_no_dia'] = (\n"
     ]
    }
   ],
   "source": [
    "#@title Criando coluna que informa a quantidade de valores vazios por dia\n",
    "\n",
    "df_sensor_iraja['o3_nulos_no_dia'] = (\n",
    "    df_sensor_iraja['o3'].isnull()\n",
    "    .groupby(df_sensor_iraja['data_formatada'])\n",
    "    .transform('sum')  # Soma os nulos por dia e repete o valor em todas as linhas do dia\n",
    ")"
   ]
  },
  {
   "cell_type": "code",
   "execution_count": 61,
   "metadata": {
    "cellView": "form",
    "colab": {
     "base_uri": "https://localhost:8080/",
     "height": 0
    },
    "executionInfo": {
     "elapsed": 398,
     "status": "ok",
     "timestamp": 1750346292519,
     "user": {
      "displayName": "João Terêncio",
      "userId": "14302965054076037047"
     },
     "user_tz": 180
    },
    "id": "Q1ZG0wIONYCn",
    "outputId": "089076f4-735a-49de-b02c-e6a659e8f4ab"
   },
   "outputs": [
    {
     "data": {
      "image/png": "[encoded data removed]",
      "text/plain": [
       "<Figure size 1000x600 with 1 Axes>"
      ]
     },
     "metadata": {},
     "output_type": "display_data"
    }
   ],
   "source": [
    "#@title Distribuição dos valores vazios\n",
    "\n",
    "# Seleciona uma única linha por dia, para evitar repetição\n",
    "df_dias = df_sensor_iraja[df_sensor_iraja['o3_nulos_no_dia'] != 0].groupby('data_formatada')['o3_nulos_no_dia'].first()\n",
    "\n",
    "# Plotar o histograma da contagem de valores nulos por dia\n",
    "plt.figure(figsize=(10,6))\n",
    "plt.hist(df_dias, bins=range(0, df_dias.max() + 2), edgecolor='black', align='left')\n",
    "plt.title(\"Histograma de Quantidade de Valores Vazios em 'o3' por Dia\")\n",
    "plt.xlabel('Quantidade de valores vazios no dia')\n",
    "plt.ylabel('Número de dias')\n",
    "plt.xticks(range(0, df_dias.max() + 1))\n",
    "plt.grid(axis='y', alpha=0.75)\n",
    "plt.show()"
   ]
  },
  {
   "cell_type": "code",
   "execution_count": 62,
   "metadata": {
    "cellView": "form",
    "colab": {
     "base_uri": "https://localhost:8080/"
    },
    "executionInfo": {
     "elapsed": 34,
     "status": "ok",
     "timestamp": 1750346292556,
     "user": {
      "displayName": "João Terêncio",
      "userId": "14302965054076037047"
     },
     "user_tz": 180
    },
    "id": "KQwJwPLrNYCo",
    "outputId": "05e87dbb-5e2c-4614-aa65-1c3e902fc170"
   },
   "outputs": [
    {
     "name": "stdout",
     "output_type": "stream",
     "text": [
      "1716 linhas foram preenchidas com interpolate na coluna 'o3'.\n",
      "Foram preenchido 13% de dados\n"
     ]
    }
   ],
   "source": [
    "#@title Preenchimento dos valores nulos utilizando a função interpolate (Preenchendo apenas os que tem menos de 7 linhas vazias por dia)\n",
    "\n",
    "mask = (df_sensor_iraja['o3_nulos_no_dia'] <= 6)\n",
    "\n",
    "num_nulls = df_sensor_iraja[mask]['o3'].isnull().sum()\n",
    "df_sensor_iraja.loc[mask, 'o3'] = df_sensor_iraja[mask]['o3'].interpolate()\n",
    "print(f\"{num_nulls} linhas foram preenchidas com interpolate na coluna 'o3'.\")\n",
    "print(f\"Foram preenchido {round((num_nulls/valroes_vazio)*100)}% de dados\")"
   ]
  },
  {
   "cell_type": "code",
   "execution_count": 63,
   "metadata": {
    "colab": {
     "base_uri": "https://localhost:8080/",
     "height": 0
    },
    "executionInfo": {
     "elapsed": 33,
     "status": "ok",
     "timestamp": 1750346292587,
     "user": {
      "displayName": "João Terêncio",
      "userId": "14302965054076037047"
     },
     "user_tz": 180
    },
    "id": "8dJ2VLO3NYCp",
    "outputId": "ca83023c-fe39-4f68-d06d-d29fbb756efb"
   },
   "outputs": [
    {
     "data": {
      "text/html": [
       "<div>\n",
       "<style scoped>\n",
       "    .dataframe tbody tr th:only-of-type {\n",
       "        vertical-align: middle;\n",
       "    }\n",
       "\n",
       "    .dataframe tbody tr th {\n",
       "        vertical-align: top;\n",
       "    }\n",
       "\n",
       "    .dataframe thead th {\n",
       "        text-align: right;\n",
       "    }\n",
       "</style>\n",
       "<table border=\"1\" class=\"dataframe\">\n",
       "  <thead>\n",
       "    <tr style=\"text-align: right;\">\n",
       "      <th></th>\n",
       "      <th>o3</th>\n",
       "    </tr>\n",
       "  </thead>\n",
       "  <tbody>\n",
       "    <tr>\n",
       "      <th>count</th>\n",
       "      <td>102323.000000</td>\n",
       "    </tr>\n",
       "    <tr>\n",
       "      <th>mean</th>\n",
       "      <td>35.666162</td>\n",
       "    </tr>\n",
       "    <tr>\n",
       "      <th>std</th>\n",
       "      <td>33.269002</td>\n",
       "    </tr>\n",
       "    <tr>\n",
       "      <th>min</th>\n",
       "      <td>0.000000</td>\n",
       "    </tr>\n",
       "    <tr>\n",
       "      <th>25%</th>\n",
       "      <td>10.280000</td>\n",
       "    </tr>\n",
       "    <tr>\n",
       "      <th>50%</th>\n",
       "      <td>27.410000</td>\n",
       "    </tr>\n",
       "    <tr>\n",
       "      <th>75%</th>\n",
       "      <td>50.710000</td>\n",
       "    </tr>\n",
       "    <tr>\n",
       "      <th>max</th>\n",
       "      <td>355.450000</td>\n",
       "    </tr>\n",
       "  </tbody>\n",
       "</table>\n",
       "</div><br><label><b>dtype:</b> float64</label>"
      ],
      "text/plain": [
       "count    102323.000000\n",
       "mean         35.666162\n",
       "std          33.269002\n",
       "min           0.000000\n",
       "25%          10.280000\n",
       "50%          27.410000\n",
       "75%          50.710000\n",
       "max         355.450000\n",
       "Name: o3, dtype: float64"
      ]
     },
     "execution_count": 63,
     "metadata": {},
     "output_type": "execute_result"
    }
   ],
   "source": [
    "df_sensor_iraja['o3'].describe()"
   ]
  },
  {
   "cell_type": "markdown",
   "metadata": {
    "id": "x_EfKxffNz6H"
   },
   "source": [
    "### PM10"
   ]
  },
  {
   "cell_type": "code",
   "execution_count": 64,
   "metadata": {
    "colab": {
     "base_uri": "https://localhost:8080/",
     "height": 0
    },
    "executionInfo": {
     "elapsed": 21,
     "status": "ok",
     "timestamp": 1750346292611,
     "user": {
      "displayName": "João Terêncio",
      "userId": "14302965054076037047"
     },
     "user_tz": 180
    },
    "id": "PwaB2u12Nz6H",
    "outputId": "f4ac8569-709b-45ba-bb30-d6f61b0eeb76"
   },
   "outputs": [
    {
     "data": {
      "text/html": [
       "<div>\n",
       "<style scoped>\n",
       "    .dataframe tbody tr th:only-of-type {\n",
       "        vertical-align: middle;\n",
       "    }\n",
       "\n",
       "    .dataframe tbody tr th {\n",
       "        vertical-align: top;\n",
       "    }\n",
       "\n",
       "    .dataframe thead th {\n",
       "        text-align: right;\n",
       "    }\n",
       "</style>\n",
       "<table border=\"1\" class=\"dataframe\">\n",
       "  <thead>\n",
       "    <tr style=\"text-align: right;\">\n",
       "      <th></th>\n",
       "      <th>pm10</th>\n",
       "    </tr>\n",
       "  </thead>\n",
       "  <tbody>\n",
       "    <tr>\n",
       "      <th>count</th>\n",
       "      <td>107302.000000</td>\n",
       "    </tr>\n",
       "    <tr>\n",
       "      <th>mean</th>\n",
       "      <td>35.841466</td>\n",
       "    </tr>\n",
       "    <tr>\n",
       "      <th>std</th>\n",
       "      <td>23.379124</td>\n",
       "    </tr>\n",
       "    <tr>\n",
       "      <th>min</th>\n",
       "      <td>0.000000</td>\n",
       "    </tr>\n",
       "    <tr>\n",
       "      <th>25%</th>\n",
       "      <td>20.000000</td>\n",
       "    </tr>\n",
       "    <tr>\n",
       "      <th>50%</th>\n",
       "      <td>31.000000</td>\n",
       "    </tr>\n",
       "    <tr>\n",
       "      <th>75%</th>\n",
       "      <td>45.000000</td>\n",
       "    </tr>\n",
       "    <tr>\n",
       "      <th>max</th>\n",
       "      <td>409.000000</td>\n",
       "    </tr>\n",
       "  </tbody>\n",
       "</table>\n",
       "</div><br><label><b>dtype:</b> float64</label>"
      ],
      "text/plain": [
       "count    107302.000000\n",
       "mean         35.841466\n",
       "std          23.379124\n",
       "min           0.000000\n",
       "25%          20.000000\n",
       "50%          31.000000\n",
       "75%          45.000000\n",
       "max         409.000000\n",
       "Name: pm10, dtype: float64"
      ]
     },
     "execution_count": 64,
     "metadata": {},
     "output_type": "execute_result"
    }
   ],
   "source": [
    "df_sensor_iraja['pm10'].describe()"
   ]
  },
  {
   "cell_type": "code",
   "execution_count": 65,
   "metadata": {
    "cellView": "form",
    "colab": {
     "base_uri": "https://localhost:8080/"
    },
    "executionInfo": {
     "elapsed": 25,
     "status": "ok",
     "timestamp": 1750346292640,
     "user": {
      "displayName": "João Terêncio",
      "userId": "14302965054076037047"
     },
     "user_tz": 180
    },
    "id": "2DgViHnxNz6I",
    "outputId": "5ef6413b-cdc8-4ba0-d26b-b051a1caf689"
   },
   "outputs": [
    {
     "name": "stdout",
     "output_type": "stream",
     "text": [
      "Quantidade de valores vazios: 6674\n"
     ]
    }
   ],
   "source": [
    "#@title Vendo quantidade de valores vazios\n",
    "\n",
    "valroes_vazio = df_sensor_iraja[df_sensor_iraja['pm10'].isnull()].groupby(['ano', 'mes']).size().sum()\n",
    "print(f\"Quantidade de valores vazios: {valroes_vazio}\")"
   ]
  },
  {
   "cell_type": "code",
   "execution_count": 66,
   "metadata": {
    "cellView": "form",
    "colab": {
     "base_uri": "https://localhost:8080/"
    },
    "executionInfo": {
     "elapsed": 37,
     "status": "ok",
     "timestamp": 1750346292680,
     "user": {
      "displayName": "João Terêncio",
      "userId": "14302965054076037047"
     },
     "user_tz": 180
    },
    "id": "C4E1ad35Nz6I",
    "outputId": "db81205f-4759-46ef-b3f8-6e99a3a84fdb"
   },
   "outputs": [
    {
     "name": "stderr",
     "output_type": "stream",
     "text": [
      "/tmp/ipython-input-66-3776899338.py:3: SettingWithCopyWarning: \n",
      "A value is trying to be set on a copy of a slice from a DataFrame.\n",
      "Try using .loc[row_indexer,col_indexer] = value instead\n",
      "\n",
      "See the caveats in the documentation: https://pandas.pydata.org/pandas-docs/stable/user_guide/indexing.html#returning-a-view-versus-a-copy\n",
      "  df_sensor_iraja['pm10_nulos_no_dia'] = (\n"
     ]
    }
   ],
   "source": [
    "#@title Criando coluna que informa a quantidade de valores vazios por dia\n",
    "\n",
    "df_sensor_iraja['pm10_nulos_no_dia'] = (\n",
    "    df_sensor_iraja['pm10'].isnull()\n",
    "    .groupby(df_sensor_iraja['data_formatada'])\n",
    "    .transform('sum')  # Soma os nulos por dia e repete o valor em todas as linhas do dia\n",
    ")"
   ]
  },
  {
   "cell_type": "code",
   "execution_count": 67,
   "metadata": {
    "cellView": "form",
    "colab": {
     "base_uri": "https://localhost:8080/",
     "height": 0
    },
    "executionInfo": {
     "elapsed": 483,
     "status": "ok",
     "timestamp": 1750346293159,
     "user": {
      "displayName": "João Terêncio",
      "userId": "14302965054076037047"
     },
     "user_tz": 180
    },
    "id": "wimZHi5oNz6I",
    "outputId": "5800e33b-7316-44c9-8e10-c4d4c1daa36f"
   },
   "outputs": [
    {
     "data": {
      "image/png": "[encoded data removed]",
      "text/plain": [
       "<Figure size 1000x600 with 1 Axes>"
      ]
     },
     "metadata": {},
     "output_type": "display_data"
    }
   ],
   "source": [
    "#@title Distribuição dos valores vazios\n",
    "\n",
    "# Seleciona uma única linha por dia, para evitar repetição\n",
    "df_dias = df_sensor_iraja[df_sensor_iraja['pm10_nulos_no_dia'] != 0].groupby('data_formatada')['pm10_nulos_no_dia'].first()\n",
    "\n",
    "# Plotar o histograma da contagem de valores nulos por dia\n",
    "plt.figure(figsize=(10,6))\n",
    "plt.hist(df_dias, bins=range(0, df_dias.max() + 2), edgecolor='black', align='left')\n",
    "plt.title(\"Histograma de Quantidade de Valores Vazios em 'pm10' por Dia\")\n",
    "plt.xlabel('Quantidade de valores vazios no dia')\n",
    "plt.ylabel('Número de dias')\n",
    "plt.xticks(range(0, df_dias.max() + 1))\n",
    "plt.grid(axis='y', alpha=0.75)\n",
    "plt.show()"
   ]
  },
  {
   "cell_type": "code",
   "execution_count": 68,
   "metadata": {
    "cellView": "form",
    "colab": {
     "base_uri": "https://localhost:8080/"
    },
    "executionInfo": {
     "elapsed": 48,
     "status": "ok",
     "timestamp": 1750346293201,
     "user": {
      "displayName": "João Terêncio",
      "userId": "14302965054076037047"
     },
     "user_tz": 180
    },
    "id": "OA2D_-XPNz6I",
    "outputId": "2c47d5d2-4ba1-4e2c-eb8b-260f4ab7a1de"
   },
   "outputs": [
    {
     "name": "stdout",
     "output_type": "stream",
     "text": [
      "2439 linhas foram preenchidas com interpolate na coluna 'pm10'.\n",
      "Foram preenchido 37% de dados\n"
     ]
    }
   ],
   "source": [
    "#@title Preenchimento dos valores nulos utilizando a função interpolate (Preenchendo apenas os que tem menos de 7 linhas vazias por dia)\n",
    "\n",
    "mask = (df_sensor_iraja['pm10_nulos_no_dia'] <= 6)\n",
    "\n",
    "num_nulls = df_sensor_iraja[mask]['pm10'].isnull().sum()\n",
    "df_sensor_iraja.loc[mask, 'pm10'] = df_sensor_iraja[mask]['pm10'].interpolate()\n",
    "print(f\"{num_nulls} linhas foram preenchidas com interpolate na coluna 'pm10'.\")\n",
    "print(f\"Foram preenchido {round((num_nulls/valroes_vazio)*100)}% de dados\")"
   ]
  },
  {
   "cell_type": "code",
   "execution_count": 69,
   "metadata": {
    "colab": {
     "base_uri": "https://localhost:8080/",
     "height": 0
    },
    "executionInfo": {
     "elapsed": 26,
     "status": "ok",
     "timestamp": 1750346293228,
     "user": {
      "displayName": "João Terêncio",
      "userId": "14302965054076037047"
     },
     "user_tz": 180
    },
    "id": "KmM4M2pDNz6I",
    "outputId": "7e2216fd-5904-4ae6-cede-5ba8c569e2b3"
   },
   "outputs": [
    {
     "data": {
      "text/html": [
       "<div>\n",
       "<style scoped>\n",
       "    .dataframe tbody tr th:only-of-type {\n",
       "        vertical-align: middle;\n",
       "    }\n",
       "\n",
       "    .dataframe tbody tr th {\n",
       "        vertical-align: top;\n",
       "    }\n",
       "\n",
       "    .dataframe thead th {\n",
       "        text-align: right;\n",
       "    }\n",
       "</style>\n",
       "<table border=\"1\" class=\"dataframe\">\n",
       "  <thead>\n",
       "    <tr style=\"text-align: right;\">\n",
       "      <th></th>\n",
       "      <th>pm10</th>\n",
       "    </tr>\n",
       "  </thead>\n",
       "  <tbody>\n",
       "    <tr>\n",
       "      <th>count</th>\n",
       "      <td>109741.000000</td>\n",
       "    </tr>\n",
       "    <tr>\n",
       "      <th>mean</th>\n",
       "      <td>35.775685</td>\n",
       "    </tr>\n",
       "    <tr>\n",
       "      <th>std</th>\n",
       "      <td>23.396910</td>\n",
       "    </tr>\n",
       "    <tr>\n",
       "      <th>min</th>\n",
       "      <td>0.000000</td>\n",
       "    </tr>\n",
       "    <tr>\n",
       "      <th>25%</th>\n",
       "      <td>20.000000</td>\n",
       "    </tr>\n",
       "    <tr>\n",
       "      <th>50%</th>\n",
       "      <td>31.000000</td>\n",
       "    </tr>\n",
       "    <tr>\n",
       "      <th>75%</th>\n",
       "      <td>45.000000</td>\n",
       "    </tr>\n",
       "    <tr>\n",
       "      <th>max</th>\n",
       "      <td>409.000000</td>\n",
       "    </tr>\n",
       "  </tbody>\n",
       "</table>\n",
       "</div><br><label><b>dtype:</b> float64</label>"
      ],
      "text/plain": [
       "count    109741.000000\n",
       "mean         35.775685\n",
       "std          23.396910\n",
       "min           0.000000\n",
       "25%          20.000000\n",
       "50%          31.000000\n",
       "75%          45.000000\n",
       "max         409.000000\n",
       "Name: pm10, dtype: float64"
      ]
     },
     "execution_count": 69,
     "metadata": {},
     "output_type": "execute_result"
    }
   ],
   "source": [
    "df_sensor_iraja['pm10'].describe()"
   ]
  },
  {
   "cell_type": "markdown",
   "metadata": {
    "id": "Od8svpkKWSjh"
   },
   "source": [
    "### PM2.5"
   ]
  },
  {
   "cell_type": "code",
   "execution_count": 70,
   "metadata": {
    "colab": {
     "base_uri": "https://localhost:8080/",
     "height": 0
    },
    "executionInfo": {
     "elapsed": 21,
     "status": "ok",
     "timestamp": 1750346293252,
     "user": {
      "displayName": "João Terêncio",
      "userId": "14302965054076037047"
     },
     "user_tz": 180
    },
    "id": "eG-HULUVWSji",
    "outputId": "d5030ba8-9f48-46b5-cf79-e15191860fc9"
   },
   "outputs": [
    {
     "data": {
      "text/html": [
       "<div>\n",
       "<style scoped>\n",
       "    .dataframe tbody tr th:only-of-type {\n",
       "        vertical-align: middle;\n",
       "    }\n",
       "\n",
       "    .dataframe tbody tr th {\n",
       "        vertical-align: top;\n",
       "    }\n",
       "\n",
       "    .dataframe thead th {\n",
       "        text-align: right;\n",
       "    }\n",
       "</style>\n",
       "<table border=\"1\" class=\"dataframe\">\n",
       "  <thead>\n",
       "    <tr style=\"text-align: right;\">\n",
       "      <th></th>\n",
       "      <th>pm2_5</th>\n",
       "    </tr>\n",
       "  </thead>\n",
       "  <tbody>\n",
       "    <tr>\n",
       "      <th>count</th>\n",
       "      <td>95733.000000</td>\n",
       "    </tr>\n",
       "    <tr>\n",
       "      <th>mean</th>\n",
       "      <td>16.522923</td>\n",
       "    </tr>\n",
       "    <tr>\n",
       "      <th>std</th>\n",
       "      <td>14.415199</td>\n",
       "    </tr>\n",
       "    <tr>\n",
       "      <th>min</th>\n",
       "      <td>0.000000</td>\n",
       "    </tr>\n",
       "    <tr>\n",
       "      <th>25%</th>\n",
       "      <td>7.000000</td>\n",
       "    </tr>\n",
       "    <tr>\n",
       "      <th>50%</th>\n",
       "      <td>13.000000</td>\n",
       "    </tr>\n",
       "    <tr>\n",
       "      <th>75%</th>\n",
       "      <td>22.000000</td>\n",
       "    </tr>\n",
       "    <tr>\n",
       "      <th>max</th>\n",
       "      <td>370.000000</td>\n",
       "    </tr>\n",
       "  </tbody>\n",
       "</table>\n",
       "</div><br><label><b>dtype:</b> float64</label>"
      ],
      "text/plain": [
       "count    95733.000000\n",
       "mean        16.522923\n",
       "std         14.415199\n",
       "min          0.000000\n",
       "25%          7.000000\n",
       "50%         13.000000\n",
       "75%         22.000000\n",
       "max        370.000000\n",
       "Name: pm2_5, dtype: float64"
      ]
     },
     "execution_count": 70,
     "metadata": {},
     "output_type": "execute_result"
    }
   ],
   "source": [
    "df_sensor_iraja['pm2_5'].describe()"
   ]
  },
  {
   "cell_type": "code",
   "execution_count": 71,
   "metadata": {
    "colab": {
     "base_uri": "https://localhost:8080/"
    },
    "executionInfo": {
     "elapsed": 23,
     "status": "ok",
     "timestamp": 1750346293279,
     "user": {
      "displayName": "João Terêncio",
      "userId": "14302965054076037047"
     },
     "user_tz": 180
    },
    "id": "mUG0mkdEWSji",
    "outputId": "0e7fd62c-b768-486b-c73e-db8270cb4b1d"
   },
   "outputs": [
    {
     "name": "stdout",
     "output_type": "stream",
     "text": [
      "Quantidade de valores vazios: 18243\n"
     ]
    }
   ],
   "source": [
    "#@title Vendo quantidade de valores vazios\n",
    "\n",
    "valroes_vazio = df_sensor_iraja[df_sensor_iraja['pm2_5'].isnull()].groupby(['ano', 'mes']).size().sum()\n",
    "print(f\"Quantidade de valores vazios: {valroes_vazio}\")"
   ]
  },
  {
   "cell_type": "code",
   "execution_count": 72,
   "metadata": {
    "colab": {
     "base_uri": "https://localhost:8080/"
    },
    "executionInfo": {
     "elapsed": 70,
     "status": "ok",
     "timestamp": 1750346293351,
     "user": {
      "displayName": "João Terêncio",
      "userId": "14302965054076037047"
     },
     "user_tz": 180
    },
    "id": "tGJHRkbqWSji",
    "outputId": "9ac932fe-0fa1-48b0-e87c-a2f566683425"
   },
   "outputs": [
    {
     "name": "stderr",
     "output_type": "stream",
     "text": [
      "/tmp/ipython-input-72-3039291287.py:3: SettingWithCopyWarning: \n",
      "A value is trying to be set on a copy of a slice from a DataFrame.\n",
      "Try using .loc[row_indexer,col_indexer] = value instead\n",
      "\n",
      "See the caveats in the documentation: https://pandas.pydata.org/pandas-docs/stable/user_guide/indexing.html#returning-a-view-versus-a-copy\n",
      "  df_sensor_iraja['pm2_5_nulos_no_dia'] = (\n"
     ]
    }
   ],
   "source": [
    "#@title Criando coluna que informa a quantidade de valores vazios por dia\n",
    "\n",
    "df_sensor_iraja['pm2_5_nulos_no_dia'] = (\n",
    "    df_sensor_iraja['pm2_5'].isnull()\n",
    "    .groupby(df_sensor_iraja['data_formatada'])\n",
    "    .transform('sum')  # Soma os nulos por dia e repete o valor em todas as linhas do dia\n",
    ")"
   ]
  },
  {
   "cell_type": "code",
   "execution_count": 73,
   "metadata": {
    "colab": {
     "base_uri": "https://localhost:8080/",
     "height": 0
    },
    "executionInfo": {
     "elapsed": 526,
     "status": "ok",
     "timestamp": 1750346293880,
     "user": {
      "displayName": "João Terêncio",
      "userId": "14302965054076037047"
     },
     "user_tz": 180
    },
    "id": "P671nMW-WSjj",
    "outputId": "98603dce-f8fd-4ad6-f246-61cdf22df4e6"
   },
   "outputs": [
    {
     "data": {
      "image/png": "[encoded data removed]",
      "text/plain": [
       "<Figure size 1000x600 with 1 Axes>"
      ]
     },
     "metadata": {},
     "output_type": "display_data"
    }
   ],
   "source": [
    "#@title Distribuição dos valores vazios\n",
    "\n",
    "# Seleciona uma única linha por dia, para evitar repetição\n",
    "df_dias = df_sensor_iraja[df_sensor_iraja['pm2_5_nulos_no_dia'] != 0].groupby('data_formatada')['pm2_5_nulos_no_dia'].first()\n",
    "\n",
    "# Plotar o histograma da contagem de valores nulos por dia\n",
    "plt.figure(figsize=(10,6))\n",
    "plt.hist(df_dias, bins=range(0, df_dias.max() + 2), edgecolor='black', align='left')\n",
    "plt.title(\"Histograma de Quantidade de Valores Vazios em 'pm2_5' por Dia\")\n",
    "plt.xlabel('Quantidade de valores vazios no dia')\n",
    "plt.ylabel('Número de dias')\n",
    "plt.xticks(range(0, df_dias.max() + 1))\n",
    "plt.grid(axis='y', alpha=0.75)\n",
    "plt.show()"
   ]
  },
  {
   "cell_type": "code",
   "execution_count": 74,
   "metadata": {
    "colab": {
     "base_uri": "https://localhost:8080/"
    },
    "executionInfo": {
     "elapsed": 57,
     "status": "ok",
     "timestamp": 1750346293922,
     "user": {
      "displayName": "João Terêncio",
      "userId": "14302965054076037047"
     },
     "user_tz": 180
    },
    "id": "ZFA6YJpdWSjj",
    "outputId": "ae5f0da4-0cf7-410e-948d-cd2362b57a2d"
   },
   "outputs": [
    {
     "name": "stdout",
     "output_type": "stream",
     "text": [
      "3284 linhas foram preenchidas com interpolate na coluna 'pm2_5'.\n",
      "Foram preenchido 18% de dados\n"
     ]
    }
   ],
   "source": [
    "#@title Preenchimento dos valores nulos utilizando a função interpolate (Preenchendo apenas os que tem menos de 7 linhas vazias por dia)\n",
    "\n",
    "mask = (df_sensor_iraja['pm2_5_nulos_no_dia'] <= 6)\n",
    "\n",
    "num_nulls = df_sensor_iraja[mask]['pm2_5'].isnull().sum()\n",
    "df_sensor_iraja.loc[mask, 'pm2_5'] = df_sensor_iraja[mask]['pm2_5'].interpolate()\n",
    "print(f\"{num_nulls} linhas foram preenchidas com interpolate na coluna 'pm2_5'.\")\n",
    "print(f\"Foram preenchido {round((num_nulls/valroes_vazio)*100)}% de dados\")"
   ]
  },
  {
   "cell_type": "code",
   "execution_count": 75,
   "metadata": {
    "colab": {
     "base_uri": "https://localhost:8080/",
     "height": 0
    },
    "executionInfo": {
     "elapsed": 29,
     "status": "ok",
     "timestamp": 1750346293948,
     "user": {
      "displayName": "João Terêncio",
      "userId": "14302965054076037047"
     },
     "user_tz": 180
    },
    "id": "u7glUmoRWSjj",
    "outputId": "f40de7d5-9448-4667-ed1e-ba2692b49d4a"
   },
   "outputs": [
    {
     "data": {
      "text/html": [
       "<div>\n",
       "<style scoped>\n",
       "    .dataframe tbody tr th:only-of-type {\n",
       "        vertical-align: middle;\n",
       "    }\n",
       "\n",
       "    .dataframe tbody tr th {\n",
       "        vertical-align: top;\n",
       "    }\n",
       "\n",
       "    .dataframe thead th {\n",
       "        text-align: right;\n",
       "    }\n",
       "</style>\n",
       "<table border=\"1\" class=\"dataframe\">\n",
       "  <thead>\n",
       "    <tr style=\"text-align: right;\">\n",
       "      <th></th>\n",
       "      <th>pm2_5</th>\n",
       "    </tr>\n",
       "  </thead>\n",
       "  <tbody>\n",
       "    <tr>\n",
       "      <th>count</th>\n",
       "      <td>99017.000000</td>\n",
       "    </tr>\n",
       "    <tr>\n",
       "      <th>mean</th>\n",
       "      <td>16.510114</td>\n",
       "    </tr>\n",
       "    <tr>\n",
       "      <th>std</th>\n",
       "      <td>14.385772</td>\n",
       "    </tr>\n",
       "    <tr>\n",
       "      <th>min</th>\n",
       "      <td>0.000000</td>\n",
       "    </tr>\n",
       "    <tr>\n",
       "      <th>25%</th>\n",
       "      <td>7.000000</td>\n",
       "    </tr>\n",
       "    <tr>\n",
       "      <th>50%</th>\n",
       "      <td>13.000000</td>\n",
       "    </tr>\n",
       "    <tr>\n",
       "      <th>75%</th>\n",
       "      <td>22.000000</td>\n",
       "    </tr>\n",
       "    <tr>\n",
       "      <th>max</th>\n",
       "      <td>370.000000</td>\n",
       "    </tr>\n",
       "  </tbody>\n",
       "</table>\n",
       "</div><br><label><b>dtype:</b> float64</label>"
      ],
      "text/plain": [
       "count    99017.000000\n",
       "mean        16.510114\n",
       "std         14.385772\n",
       "min          0.000000\n",
       "25%          7.000000\n",
       "50%         13.000000\n",
       "75%         22.000000\n",
       "max        370.000000\n",
       "Name: pm2_5, dtype: float64"
      ]
     },
     "execution_count": 75,
     "metadata": {},
     "output_type": "execute_result"
    }
   ],
   "source": [
    "df_sensor_iraja['pm2_5'].describe()"
   ]
  },
  {
   "cell_type": "code",
   "execution_count": 76,
   "metadata": {
    "colab": {
     "base_uri": "https://localhost:8080/"
    },
    "executionInfo": {
     "elapsed": 42,
     "status": "ok",
     "timestamp": 1750346293995,
     "user": {
      "displayName": "João Terêncio",
      "userId": "14302965054076037047"
     },
     "user_tz": 180
    },
    "id": "t1r-zkvoX9mC",
    "outputId": "9eaa4b86-cdf2-493e-c425-269420e2dc15"
   },
   "outputs": [
    {
     "name": "stderr",
     "output_type": "stream",
     "text": [
      "/tmp/ipython-input-76-1752678507.py:3: SettingWithCopyWarning: \n",
      "A value is trying to be set on a copy of a slice from a DataFrame\n",
      "\n",
      "See the caveats in the documentation: https://pandas.pydata.org/pandas-docs/stable/user_guide/indexing.html#returning-a-view-versus-a-copy\n",
      "  df_sensor_iraja.drop(columns=droping_columns, inplace=True)\n"
     ]
    }
   ],
   "source": [
    "droping_columns = ['nome_estacao', 'chuva_nulos_no_dia', 'temp_nulos_no_dia', 'ur_nulos_no_dia', 'co_nulos_no_dia', 'no_nulos_no_dia', 'no2_nulos_no_dia', 'nox_nulos_no_dia', 'so2_nulos_no_dia', 'o3_nulos_no_dia', 'pm10_nulos_no_dia', 'pm2_5_nulos_no_dia']\n",
    "\n",
    "df_sensor_iraja.drop(columns=droping_columns, inplace=True)"
   ]
  },
  {
   "cell_type": "markdown",
   "metadata": {
    "id": "hc-I_71qbbJO"
   },
   "source": [
    "# Criando nova feature (AQI)\n",
    "\n",
    "| MP₁₀ (µg/m³) 24h | MP₂.₅ (µg/m³) 24h | O₃ (µg/m³) 8h | CO (ppm) 8h | NO₂ (µg/m³) 1h | SO₂ (µg/m³) 24h | Índice | Qualidade do Ar | Efeitos |\n",
    "|------------------|------------------|---------------|-------------|----------------|------------------|--------|------------------|---------|\n",
    "| 0 - 50           | 0 - 25           | 0 - 100       | 0 - 9       | 0 - 200        | 0 - 20           | 0 - 40 | N1 - Boa         | - |\n",
    "| >50 - 100        | >25 - 50         | >100 - 130    | >9 - 11     | >200 - 240     | >20 - 40         | 41 - 80 | N2 - Moderada     | Pessoas de grupos sensíveis (crianças, idosos e pessoas com doenças respiratórias e cardíacas) podem apresentar sintomas como tosse seca e cansaço. A população em geral não é afetada. |\n",
    "| >100 - 150       | >50 - 75         | >130 - 160    | >11 - 13    | >240 - 320     | >40 - 365        | 81 - 120 | N3 - Ruim         | Toda a população pode apresentar sintomas como tosse seca, cansaço, ardor nos olhos, nariz e garganta. Pessoas de grupos sensíveis (crianças, idosos e pessoas com doenças respiratórias e cardíacas) podem apresentar efeitos mais sérios na saúde. |\n",
    "| >150 - 250       | >75 - 125        | >160 - 200    | >13 - 15    | >320 - 1130    | >365 - 800       | 121 - 200 | N4 - Muito Ruim   | Toda a população pode apresentar agravamento dos sintomas como tosse seca, cansaço, ardor nos olhos, nariz e garganta e ainda falta de ar e respiração ofegante. Efeitos ainda mais graves à saúde de grupos sensíveis (crianças, idosos e pessoas com doenças respiratórias e cardíacas). |\n",
    "| >250 - 600       | >125 - 300       | >200 - 800    | >15 - 50    | >1130 - 3750   | >800 - 2620      | 201 - 400 | N5 - Péssima      | Toda a população pode apresentar sérios riscos de manifestações de doenças respiratórias e cardiovasculares. Aumento de mortes prematuras em pessoas de grupos sensíveis. |\n"
   ]
  },
  {
   "cell_type": "code",
   "execution_count": 77,
   "metadata": {
    "executionInfo": {
     "elapsed": 36,
     "status": "ok",
     "timestamp": 1750346294035,
     "user": {
      "displayName": "João Terêncio",
      "userId": "14302965054076037047"
     },
     "user_tz": 180
    },
    "id": "Lq0TMgU68cmo"
   },
   "outputs": [],
   "source": [
    "# Carrega o DataFrame\n",
    "df = df_sensor_iraja.copy()\n",
    "\n",
    "# Converte e ordena\n",
    "df['data'] = pd.to_datetime(df['data'])\n",
    "df = df.sort_values(by='data')"
   ]
  },
  {
   "cell_type": "code",
   "execution_count": 78,
   "metadata": {
    "executionInfo": {
     "elapsed": 6,
     "status": "ok",
     "timestamp": 1750346294076,
     "user": {
      "displayName": "João Terêncio",
      "userId": "14302965054076037047"
     },
     "user_tz": 180
    },
    "id": "t-NtqXK-8fH9"
   },
   "outputs": [],
   "source": [
    "# Define faixas com interpolação linear (c_low, c_high, i_low, i_high)\n",
    "faixas_aqi = {\n",
    "    'pm10':   [(0, 50, 0, 40), (50, 100, 41, 80), (100, 150, 81, 120), (150, 250, 121, 200), (250, 600, 201, 400)],\n",
    "    'pm2_5':  [(0, 25, 0, 40), (25, 50, 41, 80), (50, 75, 81, 120), (75, 125, 121, 200), (125, 300, 201, 400)],\n",
    "    'o3':     [(0, 100, 0, 40), (100, 130, 41, 80), (130, 160, 81, 120), (160, 200, 121, 200), (200, 800, 201, 400)],\n",
    "    'co':     [(0, 9, 0, 40), (9, 11, 41, 80), (11, 13, 81, 120), (13, 15, 121, 200), (15, 50, 201, 400)],\n",
    "    'no2':    [(0, 200, 0, 40), (200, 240, 41, 80), (240, 320, 81, 120), (320, 1130, 121, 200), (1130, 3750, 201, 400)],\n",
    "    'so2':    [(0, 20, 0, 40), (20, 40, 41, 80), (40, 365, 81, 120), (365, 800, 121, 200), (800, 2620, 201, 400)],\n",
    "}"
   ]
  },
  {
   "cell_type": "code",
   "execution_count": 79,
   "metadata": {
    "executionInfo": {
     "elapsed": 4,
     "status": "ok",
     "timestamp": 1750346294084,
     "user": {
      "displayName": "João Terêncio",
      "userId": "14302965054076037047"
     },
     "user_tz": 180
    },
    "id": "6mY0sI_m8gmP"
   },
   "outputs": [],
   "source": [
    "# Função de interpolação para cálculo contínuo do AQI\n",
    "def calcular_aqi(valor, faixas):\n",
    "    for c_low, c_high, i_low, i_high in faixas:\n",
    "        if c_low <= valor <= c_high:\n",
    "            return ((i_high - i_low) / (c_high - c_low)) * (valor - c_low) + i_low\n",
    "    return np.nan  # Fora das faixas"
   ]
  },
  {
   "cell_type": "code",
   "execution_count": 80,
   "metadata": {
    "executionInfo": {
     "elapsed": 14,
     "status": "ok",
     "timestamp": 1750346294104,
     "user": {
      "displayName": "João Terêncio",
      "userId": "14302965054076037047"
     },
     "user_tz": 180
    },
    "id": "-fSb-Epw8iAT"
   },
   "outputs": [],
   "source": [
    "# Função para média 8h móvel diária (máxima por dia)\n",
    "def media_8h_movel(df, col):\n",
    "    resultados = []\n",
    "    for dia, grupo in df.groupby('data_formatada'):\n",
    "        grupo = grupo.sort_values('data')\n",
    "        grupo = grupo.set_index('data')\n",
    "        rol = grupo[col].rolling('8h', min_periods=6).mean()\n",
    "        max_rol = rol.max()\n",
    "        resultados.append((dia, max_rol))\n",
    "    return pd.Series(dict(resultados))"
   ]
  },
  {
   "cell_type": "code",
   "execution_count": 81,
   "metadata": {
    "executionInfo": {
     "elapsed": 10613,
     "status": "ok",
     "timestamp": 1750346304710,
     "user": {
      "displayName": "João Terêncio",
      "userId": "14302965054076037047"
     },
     "user_tz": 180
    },
    "id": "P19Ow8SB47Ud"
   },
   "outputs": [],
   "source": [
    "# Médias 24h dos poluentes diários\n",
    "df_diario = df.groupby('data_formatada')[['pm10', 'pm2_5', 'so2']].mean()\n",
    "\n",
    "# Médias móveis 8h para O3 e CO\n",
    "o3_8h_max = media_8h_movel(df, 'o3')\n",
    "co_8h_max = media_8h_movel(df, 'co')\n",
    "\n",
    "# NO2: pega maior valor por dia\n",
    "no2_1h_max = df.groupby('data_formatada')['no2'].max()\n",
    "\n",
    "# Monta df_aqi\n",
    "df_aqi = df_diario.copy()\n",
    "df_aqi['o3_8h_max'] = o3_8h_max\n",
    "df_aqi['co_8h_max'] = co_8h_max\n",
    "df_aqi['no2_1h_max'] = no2_1h_max"
   ]
  },
  {
   "cell_type": "code",
   "execution_count": 82,
   "metadata": {
    "executionInfo": {
     "elapsed": 93,
     "status": "ok",
     "timestamp": 1750346304810,
     "user": {
      "displayName": "João Terêncio",
      "userId": "14302965054076037047"
     },
     "user_tz": 180
    },
    "id": "lUPOzj0c8nni"
   },
   "outputs": [],
   "source": [
    "# Aplica cálculo de AQI contínuo por poluente\n",
    "for poluente, faixas in faixas_aqi.items():\n",
    "    col_ref = {\n",
    "        'o3': 'o3_8h_max',\n",
    "        'co': 'co_8h_max',\n",
    "        'no2': 'no2_1h_max'\n",
    "    }.get(poluente, poluente)\n",
    "\n",
    "    df_aqi[f'{poluente}_aqi'] = df_aqi[col_ref].apply(\n",
    "        lambda x: calcular_aqi(x, faixas) if pd.notnull(x) else np.nan\n",
    "    )\n",
    "\n",
    "# AQI final do dia: maior valor entre os poluentes\n",
    "col_aqis = [f'{p}_aqi' for p in ['pm10', 'pm2_5', 'so2', 'o3', 'co', 'no2']]\n",
    "df_aqi['aqi'] = df_aqi[col_aqis].max(axis=1)"
   ]
  },
  {
   "cell_type": "code",
   "execution_count": 83,
   "metadata": {
    "executionInfo": {
     "elapsed": 9,
     "status": "ok",
     "timestamp": 1750346304824,
     "user": {
      "displayName": "João Terêncio",
      "userId": "14302965054076037047"
     },
     "user_tz": 180
    },
    "id": "zHyRJLtZ8pt6"
   },
   "outputs": [],
   "source": [
    "# Classificação da qualidade do ar com base no AQI real\n",
    "def classifica_qualidade(aqi):\n",
    "    if aqi <= 40:\n",
    "        return 'N1 - Boa'\n",
    "    elif aqi <= 80:\n",
    "        return 'N2 - Moderada'\n",
    "    elif aqi <= 120:\n",
    "        return 'N3 - Ruim'\n",
    "    elif aqi <= 200:\n",
    "        return 'N4 - Muito Ruim'\n",
    "    else:\n",
    "        return 'N5 - Péssima'\n",
    "\n",
    "df_aqi['classificacao'] = df_aqi['aqi'].apply(classifica_qualidade)\n",
    "df_aqi.reset_index(inplace=True)"
   ]
  },
  {
   "cell_type": "code",
   "execution_count": 84,
   "metadata": {
    "executionInfo": {
     "elapsed": 8,
     "status": "ok",
     "timestamp": 1750346304826,
     "user": {
      "displayName": "João Terêncio",
      "userId": "14302965054076037047"
     },
     "user_tz": 180
    },
    "id": "PaZfeSqK6iHa"
   },
   "outputs": [],
   "source": [
    "# Arredonda o AQI final para inteiro\n",
    "df_aqi['aqi'] = df_aqi['aqi'].round().astype('Int64')\n",
    "\n",
    "# Mantém apenas as colunas desejadas\n",
    "df_aqi = df_aqi[['data_formatada', 'aqi', 'classificacao']]"
   ]
  },
  {
   "cell_type": "code",
   "execution_count": 85,
   "metadata": {
    "executionInfo": {
     "elapsed": 6,
     "status": "ok",
     "timestamp": 1750346304835,
     "user": {
      "displayName": "João Terêncio",
      "userId": "14302965054076037047"
     },
     "user_tz": 180
    },
    "id": "hNErBDu0cMxs"
   },
   "outputs": [],
   "source": [
    "# Agrupamento por data_formatada\n",
    "df_gruped = df_sensor_iraja.groupby('data_formatada', as_index=False).mean()\n",
    "\n",
    "# Merge com a tabela de qualidade do ar\n",
    "df_merged = df_gruped.merge(\n",
    "    df_aqi[['classificacao', 'aqi', 'data_formatada']],\n",
    "    left_on='data_formatada',\n",
    "    right_on='data_formatada',\n",
    "    how='left'\n",
    ")"
   ]
  },
  {
   "cell_type": "code",
   "execution_count": 86,
   "metadata": {
    "colab": {
     "base_uri": "https://localhost:8080/"
    },
    "executionInfo": {
     "elapsed": 31,
     "status": "ok",
     "timestamp": 1750346304875,
     "user": {
      "displayName": "João Terêncio",
      "userId": "14302965054076037047"
     },
     "user_tz": 180
    },
    "id": "B581dr8A0wYM",
    "outputId": "1693eee7-2ab3-469f-a735-d74ef13c53e0"
   },
   "outputs": [
    {
     "data": {
      "text/plain": [
       "(4750, 19)"
      ]
     },
     "execution_count": 86,
     "metadata": {},
     "output_type": "execute_result"
    }
   ],
   "source": [
    "df_merged.shape"
   ]
  },
  {
   "cell_type": "code",
   "execution_count": 87,
   "metadata": {
    "colab": {
     "base_uri": "https://localhost:8080/",
     "height": 206
    },
    "executionInfo": {
     "elapsed": 14,
     "status": "ok",
     "timestamp": 1750346304878,
     "user": {
      "displayName": "João Terêncio",
      "userId": "14302965054076037047"
     },
     "user_tz": 180
    },
    "id": "4DlAgasL7sxd",
    "outputId": "5d941681-f22a-437b-b5f3-43ad16a13a6c"
   },
   "outputs": [
    {
     "data": {
      "application/vnd.google.colaboratory.intrinsic+json": {
       "type": "dataframe",
       "variable_name": "df_sensor_iraja"
      },
      "text/html": [
       "\n",
       "  <div id=\"df-8f2024c1-c74c-47c3-8d9a-9b15a4fca7e0\" class=\"colab-df-container\">\n",
       "    <div>\n",
       "<style scoped>\n",
       "    .dataframe tbody tr th:only-of-type {\n",
       "        vertical-align: middle;\n",
       "    }\n",
       "\n",
       "    .dataframe tbody tr th {\n",
       "        vertical-align: top;\n",
       "    }\n",
       "\n",
       "    .dataframe thead th {\n",
       "        text-align: right;\n",
       "    }\n",
       "</style>\n",
       "<table border=\"1\" class=\"dataframe\">\n",
       "  <thead>\n",
       "    <tr style=\"text-align: right;\">\n",
       "      <th></th>\n",
       "      <th>data</th>\n",
       "      <th>chuva</th>\n",
       "      <th>temp</th>\n",
       "      <th>ur</th>\n",
       "      <th>co</th>\n",
       "      <th>no</th>\n",
       "      <th>no2</th>\n",
       "      <th>nox</th>\n",
       "      <th>so2</th>\n",
       "      <th>o3</th>\n",
       "      <th>pm10</th>\n",
       "      <th>pm2_5</th>\n",
       "      <th>lat</th>\n",
       "      <th>lon</th>\n",
       "      <th>data_formatada</th>\n",
       "      <th>ano</th>\n",
       "      <th>mes</th>\n",
       "    </tr>\n",
       "  </thead>\n",
       "  <tbody>\n",
       "    <tr>\n",
       "      <th>376849</th>\n",
       "      <td>2012-01-01 03:30:00</td>\n",
       "      <td>0.8</td>\n",
       "      <td>24.84</td>\n",
       "      <td>97.12</td>\n",
       "      <td>0.40</td>\n",
       "      <td>0.23</td>\n",
       "      <td>20.09</td>\n",
       "      <td>20.20</td>\n",
       "      <td>2.55</td>\n",
       "      <td>25.03</td>\n",
       "      <td>89.0</td>\n",
       "      <td>85.0</td>\n",
       "      <td>-22.831621</td>\n",
       "      <td>-43.326845</td>\n",
       "      <td>2012-01-01</td>\n",
       "      <td>2012</td>\n",
       "      <td>1</td>\n",
       "    </tr>\n",
       "    <tr>\n",
       "      <th>376850</th>\n",
       "      <td>2012-01-01 04:30:00</td>\n",
       "      <td>0.0</td>\n",
       "      <td>24.68</td>\n",
       "      <td>96.00</td>\n",
       "      <td>0.35</td>\n",
       "      <td>0.68</td>\n",
       "      <td>18.91</td>\n",
       "      <td>19.60</td>\n",
       "      <td>0.45</td>\n",
       "      <td>22.95</td>\n",
       "      <td>33.0</td>\n",
       "      <td>32.0</td>\n",
       "      <td>-22.831621</td>\n",
       "      <td>-43.326845</td>\n",
       "      <td>2012-01-01</td>\n",
       "      <td>2012</td>\n",
       "      <td>1</td>\n",
       "    </tr>\n",
       "    <tr>\n",
       "      <th>376851</th>\n",
       "      <td>2012-01-01 05:30:00</td>\n",
       "      <td>0.0</td>\n",
       "      <td>24.56</td>\n",
       "      <td>96.39</td>\n",
       "      <td>0.34</td>\n",
       "      <td>0.39</td>\n",
       "      <td>17.99</td>\n",
       "      <td>18.33</td>\n",
       "      <td>0.11</td>\n",
       "      <td>22.31</td>\n",
       "      <td>19.0</td>\n",
       "      <td>14.0</td>\n",
       "      <td>-22.831621</td>\n",
       "      <td>-43.326845</td>\n",
       "      <td>2012-01-01</td>\n",
       "      <td>2012</td>\n",
       "      <td>1</td>\n",
       "    </tr>\n",
       "    <tr>\n",
       "      <th>376852</th>\n",
       "      <td>2012-01-01 06:30:00</td>\n",
       "      <td>0.0</td>\n",
       "      <td>24.65</td>\n",
       "      <td>96.87</td>\n",
       "      <td>0.37</td>\n",
       "      <td>0.44</td>\n",
       "      <td>22.49</td>\n",
       "      <td>22.93</td>\n",
       "      <td>0.70</td>\n",
       "      <td>17.98</td>\n",
       "      <td>12.0</td>\n",
       "      <td>12.0</td>\n",
       "      <td>-22.831621</td>\n",
       "      <td>-43.326845</td>\n",
       "      <td>2012-01-01</td>\n",
       "      <td>2012</td>\n",
       "      <td>1</td>\n",
       "    </tr>\n",
       "    <tr>\n",
       "      <th>376853</th>\n",
       "      <td>2012-01-01 07:30:00</td>\n",
       "      <td>0.0</td>\n",
       "      <td>24.66</td>\n",
       "      <td>96.32</td>\n",
       "      <td>0.32</td>\n",
       "      <td>0.24</td>\n",
       "      <td>21.28</td>\n",
       "      <td>21.52</td>\n",
       "      <td>0.79</td>\n",
       "      <td>18.88</td>\n",
       "      <td>10.0</td>\n",
       "      <td>10.0</td>\n",
       "      <td>-22.831621</td>\n",
       "      <td>-43.326845</td>\n",
       "      <td>2012-01-01</td>\n",
       "      <td>2012</td>\n",
       "      <td>1</td>\n",
       "    </tr>\n",
       "  </tbody>\n",
       "</table>\n",
       "</div>\n",
       "    <div class=\"colab-df-buttons\">\n",
       "\n",
       "  <div class=\"colab-df-container\">\n",
       "    <button class=\"colab-df-convert\" onclick=\"convertToInteractive('df-8f2024c1-c74c-47c3-8d9a-9b15a4fca7e0')\"\n",
       "            title=\"Convert this dataframe to an interactive table.\"\n",
       "            style=\"display:none;\">\n",
       "\n",
       "  <svg xmlns=\"http://www.w3.org/2000/svg\" height=\"24px\" viewBox=\"0 -960 960 960\">\n",
       "    <path d=\"M120-120v-720h720v720H120Zm60-500h600v-160H180v160Zm220 220h160v-160H400v160Zm0 220h160v-160H400v160ZM180-400h160v-160H180v160Zm440 0h160v-160H620v160ZM180-180h160v-160H180v160Zm440 0h160v-160H620v160Z\"/>\n",
       "  </svg>\n",
       "    </button>\n",
       "\n",
       "  <style>\n",
       "    .colab-df-container {\n",
       "      display:flex;\n",
       "      gap: 12px;\n",
       "    }\n",
       "\n",
       "    .colab-df-convert {\n",
       "      background-color: #E8F0FE;\n",
       "      border: none;\n",
       "      border-radius: 50%;\n",
       "      cursor: pointer;\n",
       "      display: none;\n",
       "      fill: #1967D2;\n",
       "      height: 32px;\n",
       "      padding: 0 0 0 0;\n",
       "      width: 32px;\n",
       "    }\n",
       "\n",
       "    .colab-df-convert:hover {\n",
       "      background-color: #E2EBFA;\n",
       "      box-shadow: 0px 1px 2px rgba(60, 64, 67, 0.3), 0px 1px 3px 1px rgba(60, 64, 67, 0.15);\n",
       "      fill: #174EA6;\n",
       "    }\n",
       "\n",
       "    .colab-df-buttons div {\n",
       "      margin-bottom: 4px;\n",
       "    }\n",
       "\n",
       "    [theme=dark] .colab-df-convert {\n",
       "      background-color: #3B4455;\n",
       "      fill: #D2E3FC;\n",
       "    }\n",
       "\n",
       "    [theme=dark] .colab-df-convert:hover {\n",
       "      background-color: #434B5C;\n",
       "      box-shadow: 0px 1px 3px 1px rgba(0, 0, 0, 0.15);\n",
       "      filter: drop-shadow(0px 1px 2px rgba(0, 0, 0, 0.3));\n",
       "      fill: #FFFFFF;\n",
       "    }\n",
       "  </style>\n",
       "\n",
       "    <script>\n",
       "      const buttonEl =\n",
       "        document.querySelector('#df-8f2024c1-c74c-47c3-8d9a-9b15a4fca7e0 button.colab-df-convert');\n",
       "      buttonEl.style.display =\n",
       "        google.colab.kernel.accessAllowed ? 'block' : 'none';\n",
       "\n",
       "      async function convertToInteractive(key) {\n",
       "        const element = document.querySelector('#df-8f2024c1-c74c-47c3-8d9a-9b15a4fca7e0');\n",
       "        const dataTable =\n",
       "          await google.colab.kernel.invokeFunction('convertToInteractive',\n",
       "                                                    [key], {});\n",
       "        if (!dataTable) return;\n",
       "\n",
       "        const docLinkHtml = 'Like what you see? Visit the ' +\n",
       "          '<a target=\"_blank\" href=https://colab.research.google.com/notebooks/data_table.ipynb>data table notebook</a>'\n",
       "          + ' to learn more about interactive tables.';\n",
       "        element.innerHTML = '';\n",
       "        dataTable['output_type'] = 'display_data';\n",
       "        await google.colab.output.renderOutput(dataTable, element);\n",
       "        const docLink = document.createElement('div');\n",
       "        docLink.innerHTML = docLinkHtml;\n",
       "        element.appendChild(docLink);\n",
       "      }\n",
       "    </script>\n",
       "  </div>\n",
       "\n",
       "\n",
       "    <div id=\"df-1abad947-6c4c-48f9-bd7f-6d71219664d6\">\n",
       "      <button class=\"colab-df-quickchart\" onclick=\"quickchart('df-1abad947-6c4c-48f9-bd7f-6d71219664d6')\"\n",
       "                title=\"Suggest charts\"\n",
       "                style=\"display:none;\">\n",
       "\n",
       "<svg xmlns=\"http://www.w3.org/2000/svg\" height=\"24px\"viewBox=\"0 0 24 24\"\n",
       "     width=\"24px\">\n",
       "    <g>\n",
       "        <path d=\"M19 3H5c-1.1 0-2 .9-2 2v14c0 1.1.9 2 2 2h14c1.1 0 2-.9 2-2V5c0-1.1-.9-2-2-2zM9 17H7v-7h2v7zm4 0h-2V7h2v10zm4 0h-2v-4h2v4z\"/>\n",
       "    </g>\n",
       "</svg>\n",
       "      </button>\n",
       "\n",
       "<style>\n",
       "  .colab-df-quickchart {\n",
       "      --bg-color: #E8F0FE;\n",
       "      --fill-color: #1967D2;\n",
       "      --hover-bg-color: #E2EBFA;\n",
       "      --hover-fill-color: #174EA6;\n",
       "      --disabled-fill-color: #AAA;\n",
       "      --disabled-bg-color: #DDD;\n",
       "  }\n",
       "\n",
       "  [theme=dark] .colab-df-quickchart {\n",
       "      --bg-color: #3B4455;\n",
       "      --fill-color: #D2E3FC;\n",
       "      --hover-bg-color: #434B5C;\n",
       "      --hover-fill-color: #FFFFFF;\n",
       "      --disabled-bg-color: #3B4455;\n",
       "      --disabled-fill-color: #666;\n",
       "  }\n",
       "\n",
       "  .colab-df-quickchart {\n",
       "    background-color: var(--bg-color);\n",
       "    border: none;\n",
       "    border-radius: 50%;\n",
       "    cursor: pointer;\n",
       "    display: none;\n",
       "    fill: var(--fill-color);\n",
       "    height: 32px;\n",
       "    padding: 0;\n",
       "    width: 32px;\n",
       "  }\n",
       "\n",
       "  .colab-df-quickchart:hover {\n",
       "    background-color: var(--hover-bg-color);\n",
       "    box-shadow: 0 1px 2px rgba(60, 64, 67, 0.3), 0 1px 3px 1px rgba(60, 64, 67, 0.15);\n",
       "    fill: var(--button-hover-fill-color);\n",
       "  }\n",
       "\n",
       "  .colab-df-quickchart-complete:disabled,\n",
       "  .colab-df-quickchart-complete:disabled:hover {\n",
       "    background-color: var(--disabled-bg-color);\n",
       "    fill: var(--disabled-fill-color);\n",
       "    box-shadow: none;\n",
       "  }\n",
       "\n",
       "  .colab-df-spinner {\n",
       "    border: 2px solid var(--fill-color);\n",
       "    border-color: transparent;\n",
       "    border-bottom-color: var(--fill-color);\n",
       "    animation:\n",
       "      spin 1s steps(1) infinite;\n",
       "  }\n",
       "\n",
       "  @keyframes spin {\n",
       "    0% {\n",
       "      border-color: transparent;\n",
       "      border-bottom-color: var(--fill-color);\n",
       "      border-left-color: var(--fill-color);\n",
       "    }\n",
       "    20% {\n",
       "      border-color: transparent;\n",
       "      border-left-color: var(--fill-color);\n",
       "      border-top-color: var(--fill-color);\n",
       "    }\n",
       "    30% {\n",
       "      border-color: transparent;\n",
       "      border-left-color: var(--fill-color);\n",
       "      border-top-color: var(--fill-color);\n",
       "      border-right-color: var(--fill-color);\n",
       "    }\n",
       "    40% {\n",
       "      border-color: transparent;\n",
       "      border-right-color: var(--fill-color);\n",
       "      border-top-color: var(--fill-color);\n",
       "    }\n",
       "    60% {\n",
       "      border-color: transparent;\n",
       "      border-right-color: var(--fill-color);\n",
       "    }\n",
       "    80% {\n",
       "      border-color: transparent;\n",
       "      border-right-color: var(--fill-color);\n",
       "      border-bottom-color: var(--fill-color);\n",
       "    }\n",
       "    90% {\n",
       "      border-color: transparent;\n",
       "      border-bottom-color: var(--fill-color);\n",
       "    }\n",
       "  }\n",
       "</style>\n",
       "\n",
       "      <script>\n",
       "        async function quickchart(key) {\n",
       "          const quickchartButtonEl =\n",
       "            document.querySelector('#' + key + ' button');\n",
       "          quickchartButtonEl.disabled = true;  // To prevent multiple clicks.\n",
       "          quickchartButtonEl.classList.add('colab-df-spinner');\n",
       "          try {\n",
       "            const charts = await google.colab.kernel.invokeFunction(\n",
       "                'suggestCharts', [key], {});\n",
       "          } catch (error) {\n",
       "            console.error('Error during call to suggestCharts:', error);\n",
       "          }\n",
       "          quickchartButtonEl.classList.remove('colab-df-spinner');\n",
       "          quickchartButtonEl.classList.add('colab-df-quickchart-complete');\n",
       "        }\n",
       "        (() => {\n",
       "          let quickchartButtonEl =\n",
       "            document.querySelector('#df-1abad947-6c4c-48f9-bd7f-6d71219664d6 button');\n",
       "          quickchartButtonEl.style.display =\n",
       "            google.colab.kernel.accessAllowed ? 'block' : 'none';\n",
       "        })();\n",
       "      </script>\n",
       "    </div>\n",
       "\n",
       "    </div>\n",
       "  </div>\n"
      ],
      "text/plain": [
       "                      data  chuva   temp     ur    co    no    no2    nox  \\\n",
       "376849 2012-01-01 03:30:00    0.8  24.84  97.12  0.40  0.23  20.09  20.20   \n",
       "376850 2012-01-01 04:30:00    0.0  24.68  96.00  0.35  0.68  18.91  19.60   \n",
       "376851 2012-01-01 05:30:00    0.0  24.56  96.39  0.34  0.39  17.99  18.33   \n",
       "376852 2012-01-01 06:30:00    0.0  24.65  96.87  0.37  0.44  22.49  22.93   \n",
       "376853 2012-01-01 07:30:00    0.0  24.66  96.32  0.32  0.24  21.28  21.52   \n",
       "\n",
       "         so2     o3  pm10  pm2_5        lat        lon data_formatada   ano  \\\n",
       "376849  2.55  25.03  89.0   85.0 -22.831621 -43.326845     2012-01-01  2012   \n",
       "376850  0.45  22.95  33.0   32.0 -22.831621 -43.326845     2012-01-01  2012   \n",
       "376851  0.11  22.31  19.0   14.0 -22.831621 -43.326845     2012-01-01  2012   \n",
       "376852  0.70  17.98  12.0   12.0 -22.831621 -43.326845     2012-01-01  2012   \n",
       "376853  0.79  18.88  10.0   10.0 -22.831621 -43.326845     2012-01-01  2012   \n",
       "\n",
       "        mes  \n",
       "376849    1  \n",
       "376850    1  \n",
       "376851    1  \n",
       "376852    1  \n",
       "376853    1  "
      ]
     },
     "execution_count": 87,
     "metadata": {},
     "output_type": "execute_result"
    }
   ],
   "source": [
    "df_sensor_iraja.head()"
   ]
  },
  {
   "cell_type": "code",
   "execution_count": 88,
   "metadata": {
    "executionInfo": {
     "elapsed": 2175,
     "status": "ok",
     "timestamp": 1750346341946,
     "user": {
      "displayName": "João Terêncio",
      "userId": "14302965054076037047"
     },
     "user_tz": 180
    },
    "id": "fKIyTc_sxUmC"
   },
   "outputs": [],
   "source": [
    "df_sensor_iraja.to_csv('iraja_per_hour.csv', index=False)"
   ]
  },
  {
   "cell_type": "markdown",
   "metadata": {
    "id": "ijWuiCIzOE1P"
   },
   "source": [
    "# Gerando CSV de saída com a estação de Campo Grande preenchida\n"
   ]
  },
  {
   "cell_type": "code",
   "execution_count": null,
   "metadata": {
    "id": "4aicusNC82qi"
   },
   "outputs": [],
   "source": [
    "df_merged['lat'] = -22.831621\n",
    "df_merged['lon'] = -43.326845\n",
    "df_merged['estacao'] = 'Iraja'\n",
    "df_merged['ano'] = pd.to_datetime(df_merged['data_formatada']).dt.year\n",
    "df_merged['mes'] = pd.to_datetime(df_merged['data_formatada']).dt.month"
   ]
  },
  {
   "cell_type": "code",
   "execution_count": null,
   "metadata": {
    "colab": {
     "base_uri": "https://localhost:8080/",
     "height": 206
    },
    "executionInfo": {
     "elapsed": 51,
     "status": "ok",
     "timestamp": 1750205673172,
     "user": {
      "displayName": "João Terêncio",
      "userId": "14302965054076037047"
     },
     "user_tz": 180
    },
    "id": "AWKbGzmZ9T5s",
    "outputId": "863efa1d-69c0-48fc-8f9a-949484573e5c"
   },
   "outputs": [
    {
     "data": {
      "application/vnd.google.colaboratory.intrinsic+json": {
       "summary": "{\n  \"name\": \"df_merged\",\n  \"rows\": 4750,\n  \"fields\": [\n    {\n      \"column\": \"data_formatada\",\n      \"properties\": {\n        \"dtype\": \"object\",\n        \"num_unique_values\": 4750,\n        \"samples\": [\n          \"2022-06-14\",\n          \"2014-12-11\",\n          \"2012-10-23\"\n        ],\n        \"semantic_type\": \"\",\n        \"description\": \"\"\n      }\n    },\n    {\n      \"column\": \"data\",\n      \"properties\": {\n        \"dtype\": \"date\",\n        \"min\": \"2012-01-01 13:30:00\",\n        \"max\": \"2025-01-01 01:30:00\",\n        \"num_unique_values\": 4750,\n        \"samples\": [\n          \"2022-06-14 12:00:00\",\n          \"2014-12-11 12:00:00\",\n          \"2012-10-23 12:00:00\"\n        ],\n        \"semantic_type\": \"\",\n        \"description\": \"\"\n      }\n    },\n    {\n      \"column\": \"chuva\",\n      \"properties\": {\n        \"dtype\": \"number\",\n        \"std\": 2.9448446484237962,\n        \"min\": 0.0,\n        \"max\": 142.5,\n        \"num_unique_values\": 337,\n        \"samples\": [\n          0.11666666666666668,\n          0.42500000000000004,\n          0.5395833333333334\n        ],\n        \"semantic_type\": \"\",\n        \"description\": \"\"\n      }\n    },\n    {\n      \"column\": \"temp\",\n      \"properties\": {\n        \"dtype\": \"number\",\n        \"std\": 3.6877136856828385,\n        \"min\": 9.872083333333334,\n        \"max\": 39.765454545454546,\n        \"num_unique_values\": 3541,\n        \"samples\": [\n          26.0975,\n          28.71375,\n          31.024583333333336\n        ],\n        \"semantic_type\": \"\",\n        \"description\": \"\"\n      }\n    },\n    {\n      \"column\": \"ur\",\n      \"properties\": {\n        \"dtype\": \"number\",\n        \"std\": 12.509804277628623,\n        \"min\": 0.0,\n        \"max\": 99.33,\n        \"num_unique_values\": 3410,\n        \"samples\": [\n          63.67291666666666,\n          63.90083333333333,\n          64.28125\n        ],\n        \"semantic_type\": \"\",\n        \"description\": \"\"\n      }\n    },\n    {\n      \"column\": \"co\",\n      \"properties\": {\n        \"dtype\": \"number\",\n        \"std\": 0.19677195842772124,\n        \"min\": 0.0,\n        \"max\": 2.55,\n        \"num_unique_values\": 1862,\n        \"samples\": [\n          0.57625,\n          0.45916666666666667,\n          0.23625\n        ],\n        \"semantic_type\": \"\",\n        \"description\": \"\"\n      }\n    },\n    {\n      \"column\": \"no\",\n      \"properties\": {\n        \"dtype\": \"number\",\n        \"std\": 18.595226070219883,\n        \"min\": 1.0366666666666666,\n        \"max\": 196.50291666666666,\n        \"num_unique_values\": 4401,\n        \"samples\": [\n          8.240833333333333,\n          3.44,\n          3.7575000000000003\n        ],\n        \"semantic_type\": \"\",\n        \"description\": \"\"\n      }\n    },\n    {\n      \"column\": \"no2\",\n      \"properties\": {\n        \"dtype\": \"number\",\n        \"std\": 15.239550928583878,\n        \"min\": 2.9746666666666663,\n        \"max\": 108.75791666666667,\n        \"num_unique_values\": 4420,\n        \"samples\": [\n          33.07083333333333,\n          41.1975,\n          47.983958333333334\n        ],\n        \"semantic_type\": \"\",\n        \"description\": \"\"\n      }\n    },\n    {\n      \"column\": \"nox\",\n      \"properties\": {\n        \"dtype\": \"number\",\n        \"std\": 30.77557046080602,\n        \"min\": 3.922941176470588,\n        \"max\": 285.63291666666663,\n        \"num_unique_values\": 4443,\n        \"samples\": [\n          42.70249999999999,\n          22.336250000000003,\n          68.72875\n        ],\n        \"semantic_type\": \"\",\n        \"description\": \"\"\n      }\n    },\n    {\n      \"column\": \"so2\",\n      \"properties\": {\n        \"dtype\": \"number\",\n        \"std\": 3.671945760106686,\n        \"min\": 0.0,\n        \"max\": 42.31979166666667,\n        \"num_unique_values\": 3182,\n        \"samples\": [\n          0.6677083333333335,\n          7.902291666666667,\n          0.8133333333333334\n        ],\n        \"semantic_type\": \"\",\n        \"description\": \"\"\n      }\n    },\n    {\n      \"column\": \"o3\",\n      \"properties\": {\n        \"dtype\": \"number\",\n        \"std\": 16.074128348707063,\n        \"min\": 0.0,\n        \"max\": 134.46458333333334,\n        \"num_unique_values\": 4304,\n        \"samples\": [\n          38.83208333333334,\n          25.352500000000003,\n          27.5175\n        ],\n        \"semantic_type\": \"\",\n        \"description\": \"\"\n      }\n    },\n    {\n      \"column\": \"pm10\",\n      \"properties\": {\n        \"dtype\": \"number\",\n        \"std\": 17.949129584206105,\n        \"min\": 3.3958333333333335,\n        \"max\": 164.14583333333334,\n        \"num_unique_values\": 2005,\n        \"samples\": [\n          43.625,\n          55.458333333333336,\n          25.291666666666668\n        ],\n        \"semantic_type\": \"\",\n        \"description\": \"\"\n      }\n    },\n    {\n      \"column\": \"pm2_5\",\n      \"properties\": {\n        \"dtype\": \"number\",\n        \"std\": 10.645549690689705,\n        \"min\": 0.0,\n        \"max\": 92.22916666666667,\n        \"num_unique_values\": 1561,\n        \"samples\": [\n          33.708333333333336,\n          21.0625,\n          17.958333333333332\n        ],\n        \"semantic_type\": \"\",\n        \"description\": \"\"\n      }\n    },\n    {\n      \"column\": \"lat\",\n      \"properties\": {\n        \"dtype\": \"number\",\n        \"std\": 1.300430101025396e-12,\n        \"min\": -22.831621,\n        \"max\": -22.831621,\n        \"num_unique_values\": 1,\n        \"samples\": [\n          -22.831621\n        ],\n        \"semantic_type\": \"\",\n        \"description\": \"\"\n      }\n    },\n    {\n      \"column\": \"lon\",\n      \"properties\": {\n        \"dtype\": \"number\",\n        \"std\": 2.6648157807897456e-12,\n        \"min\": -43.326845,\n        \"max\": -43.326845,\n        \"num_unique_values\": 1,\n        \"samples\": [\n          -43.326845\n        ],\n        \"semantic_type\": \"\",\n        \"description\": \"\"\n      }\n    },\n    {\n      \"column\": \"ano\",\n      \"properties\": {\n        \"dtype\": \"int32\",\n        \"num_unique_values\": 14,\n        \"samples\": [\n          2021\n        ],\n        \"semantic_type\": \"\",\n        \"description\": \"\"\n      }\n    },\n    {\n      \"column\": \"mes\",\n      \"properties\": {\n        \"dtype\": \"int32\",\n        \"num_unique_values\": 12,\n        \"samples\": [\n          11\n        ],\n        \"semantic_type\": \"\",\n        \"description\": \"\"\n      }\n    },\n    {\n      \"column\": \"classificacao\",\n      \"properties\": {\n        \"dtype\": \"category\",\n        \"num_unique_values\": 5,\n        \"samples\": [\n          \"N3 - Ruim\"\n        ],\n        \"semantic_type\": \"\",\n        \"description\": \"\"\n      }\n    },\n    {\n      \"column\": \"aqi\",\n      \"properties\": {\n        \"dtype\": \"Int64\",\n        \"num_unique_values\": 141,\n        \"samples\": [\n          46\n        ],\n        \"semantic_type\": \"\",\n        \"description\": \"\"\n      }\n    },\n    {\n      \"column\": \"estacao\",\n      \"properties\": {\n        \"dtype\": \"category\",\n        \"num_unique_values\": 1,\n        \"samples\": [\n          \"Iraja\"\n        ],\n        \"semantic_type\": \"\",\n        \"description\": \"\"\n      }\n    }\n  ]\n}",
       "type": "dataframe",
       "variable_name": "df_merged"
      },
      "text/html": [
       "\n",
       "  <div id=\"df-f7e95888-d69b-4f27-9354-d096bfc9bca5\" class=\"colab-df-container\">\n",
       "    <div>\n",
       "<style scoped>\n",
       "    .dataframe tbody tr th:only-of-type {\n",
       "        vertical-align: middle;\n",
       "    }\n",
       "\n",
       "    .dataframe tbody tr th {\n",
       "        vertical-align: top;\n",
       "    }\n",
       "\n",
       "    .dataframe thead th {\n",
       "        text-align: right;\n",
       "    }\n",
       "</style>\n",
       "<table border=\"1\" class=\"dataframe\">\n",
       "  <thead>\n",
       "    <tr style=\"text-align: right;\">\n",
       "      <th></th>\n",
       "      <th>data_formatada</th>\n",
       "      <th>data</th>\n",
       "      <th>chuva</th>\n",
       "      <th>temp</th>\n",
       "      <th>ur</th>\n",
       "      <th>co</th>\n",
       "      <th>no</th>\n",
       "      <th>no2</th>\n",
       "      <th>nox</th>\n",
       "      <th>so2</th>\n",
       "      <th>o3</th>\n",
       "      <th>pm10</th>\n",
       "      <th>pm2_5</th>\n",
       "      <th>lat</th>\n",
       "      <th>lon</th>\n",
       "      <th>ano</th>\n",
       "      <th>mes</th>\n",
       "      <th>classificacao</th>\n",
       "      <th>aqi</th>\n",
       "      <th>estacao</th>\n",
       "    </tr>\n",
       "  </thead>\n",
       "  <tbody>\n",
       "    <tr>\n",
       "      <th>0</th>\n",
       "      <td>2012-01-01</td>\n",
       "      <td>2012-01-01 13:30:00</td>\n",
       "      <td>0.514286</td>\n",
       "      <td>26.194286</td>\n",
       "      <td>92.393333</td>\n",
       "      <td>0.577619</td>\n",
       "      <td>4.410476</td>\n",
       "      <td>32.730000</td>\n",
       "      <td>37.130952</td>\n",
       "      <td>1.425238</td>\n",
       "      <td>16.530952</td>\n",
       "      <td>19.095238</td>\n",
       "      <td>14.619048</td>\n",
       "      <td>-22.831621</td>\n",
       "      <td>-43.326845</td>\n",
       "      <td>2012</td>\n",
       "      <td>1</td>\n",
       "      <td>N1 - Boa</td>\n",
       "      <td>23</td>\n",
       "      <td>Iraja</td>\n",
       "    </tr>\n",
       "    <tr>\n",
       "      <th>1</th>\n",
       "      <td>2012-01-02</td>\n",
       "      <td>2012-01-02 12:00:00</td>\n",
       "      <td>5.283333</td>\n",
       "      <td>22.993750</td>\n",
       "      <td>97.579583</td>\n",
       "      <td>0.500417</td>\n",
       "      <td>20.776250</td>\n",
       "      <td>44.004167</td>\n",
       "      <td>64.776667</td>\n",
       "      <td>1.415000</td>\n",
       "      <td>9.201667</td>\n",
       "      <td>12.583333</td>\n",
       "      <td>5.083333</td>\n",
       "      <td>-22.831621</td>\n",
       "      <td>-43.326845</td>\n",
       "      <td>2012</td>\n",
       "      <td>1</td>\n",
       "      <td>N1 - Boa</td>\n",
       "      <td>14</td>\n",
       "      <td>Iraja</td>\n",
       "    </tr>\n",
       "    <tr>\n",
       "      <th>2</th>\n",
       "      <td>2012-01-03</td>\n",
       "      <td>2012-01-03 12:00:00</td>\n",
       "      <td>0.000000</td>\n",
       "      <td>25.374583</td>\n",
       "      <td>74.667917</td>\n",
       "      <td>0.340417</td>\n",
       "      <td>20.287917</td>\n",
       "      <td>46.134583</td>\n",
       "      <td>66.426250</td>\n",
       "      <td>2.960417</td>\n",
       "      <td>14.735417</td>\n",
       "      <td>17.083333</td>\n",
       "      <td>4.208333</td>\n",
       "      <td>-22.831621</td>\n",
       "      <td>-43.326845</td>\n",
       "      <td>2012</td>\n",
       "      <td>1</td>\n",
       "      <td>N1 - Boa</td>\n",
       "      <td>14</td>\n",
       "      <td>Iraja</td>\n",
       "    </tr>\n",
       "    <tr>\n",
       "      <th>3</th>\n",
       "      <td>2012-01-04</td>\n",
       "      <td>2012-01-04 12:00:00</td>\n",
       "      <td>0.000000</td>\n",
       "      <td>27.031250</td>\n",
       "      <td>70.167917</td>\n",
       "      <td>0.490000</td>\n",
       "      <td>28.649583</td>\n",
       "      <td>55.418333</td>\n",
       "      <td>84.069167</td>\n",
       "      <td>4.996250</td>\n",
       "      <td>19.444167</td>\n",
       "      <td>41.500000</td>\n",
       "      <td>15.729167</td>\n",
       "      <td>-22.831621</td>\n",
       "      <td>-43.326845</td>\n",
       "      <td>2012</td>\n",
       "      <td>1</td>\n",
       "      <td>N1 - Boa</td>\n",
       "      <td>33</td>\n",
       "      <td>Iraja</td>\n",
       "    </tr>\n",
       "    <tr>\n",
       "      <th>4</th>\n",
       "      <td>2012-01-05</td>\n",
       "      <td>2012-01-05 12:00:00</td>\n",
       "      <td>0.000000</td>\n",
       "      <td>27.681667</td>\n",
       "      <td>71.131667</td>\n",
       "      <td>0.339167</td>\n",
       "      <td>9.159583</td>\n",
       "      <td>46.746667</td>\n",
       "      <td>55.908750</td>\n",
       "      <td>4.361667</td>\n",
       "      <td>30.340833</td>\n",
       "      <td>28.833333</td>\n",
       "      <td>10.916667</td>\n",
       "      <td>-22.831621</td>\n",
       "      <td>-43.326845</td>\n",
       "      <td>2012</td>\n",
       "      <td>1</td>\n",
       "      <td>N1 - Boa</td>\n",
       "      <td>24</td>\n",
       "      <td>Iraja</td>\n",
       "    </tr>\n",
       "  </tbody>\n",
       "</table>\n",
       "</div>\n",
       "    <div class=\"colab-df-buttons\">\n",
       "\n",
       "  <div class=\"colab-df-container\">\n",
       "    <button class=\"colab-df-convert\" onclick=\"convertToInteractive('df-f7e95888-d69b-4f27-9354-d096bfc9bca5')\"\n",
       "            title=\"Convert this dataframe to an interactive table.\"\n",
       "            style=\"display:none;\">\n",
       "\n",
       "  <svg xmlns=\"http://www.w3.org/2000/svg\" height=\"24px\" viewBox=\"0 -960 960 960\">\n",
       "    <path d=\"M120-120v-720h720v720H120Zm60-500h600v-160H180v160Zm220 220h160v-160H400v160Zm0 220h160v-160H400v160ZM180-400h160v-160H180v160Zm440 0h160v-160H620v160ZM180-180h160v-160H180v160Zm440 0h160v-160H620v160Z\"/>\n",
       "  </svg>\n",
       "    </button>\n",
       "\n",
       "  <style>\n",
       "    .colab-df-container {\n",
       "      display:flex;\n",
       "      gap: 12px;\n",
       "    }\n",
       "\n",
       "    .colab-df-convert {\n",
       "      background-color: #E8F0FE;\n",
       "      border: none;\n",
       "      border-radius: 50%;\n",
       "      cursor: pointer;\n",
       "      display: none;\n",
       "      fill: #1967D2;\n",
       "      height: 32px;\n",
       "      padding: 0 0 0 0;\n",
       "      width: 32px;\n",
       "    }\n",
       "\n",
       "    .colab-df-convert:hover {\n",
       "      background-color: #E2EBFA;\n",
       "      box-shadow: 0px 1px 2px rgba(60, 64, 67, 0.3), 0px 1px 3px 1px rgba(60, 64, 67, 0.15);\n",
       "      fill: #174EA6;\n",
       "    }\n",
       "\n",
       "    .colab-df-buttons div {\n",
       "      margin-bottom: 4px;\n",
       "    }\n",
       "\n",
       "    [theme=dark] .colab-df-convert {\n",
       "      background-color: #3B4455;\n",
       "      fill: #D2E3FC;\n",
       "    }\n",
       "\n",
       "    [theme=dark] .colab-df-convert:hover {\n",
       "      background-color: #434B5C;\n",
       "      box-shadow: 0px 1px 3px 1px rgba(0, 0, 0, 0.15);\n",
       "      filter: drop-shadow(0px 1px 2px rgba(0, 0, 0, 0.3));\n",
       "      fill: #FFFFFF;\n",
       "    }\n",
       "  </style>\n",
       "\n",
       "    <script>\n",
       "      const buttonEl =\n",
       "        document.querySelector('#df-f7e95888-d69b-4f27-9354-d096bfc9bca5 button.colab-df-convert');\n",
       "      buttonEl.style.display =\n",
       "        google.colab.kernel.accessAllowed ? 'block' : 'none';\n",
       "\n",
       "      async function convertToInteractive(key) {\n",
       "        const element = document.querySelector('#df-f7e95888-d69b-4f27-9354-d096bfc9bca5');\n",
       "        const dataTable =\n",
       "          await google.colab.kernel.invokeFunction('convertToInteractive',\n",
       "                                                    [key], {});\n",
       "        if (!dataTable) return;\n",
       "\n",
       "        const docLinkHtml = 'Like what you see? Visit the ' +\n",
       "          '<a target=\"_blank\" href=https://colab.research.google.com/notebooks/data_table.ipynb>data table notebook</a>'\n",
       "          + ' to learn more about interactive tables.';\n",
       "        element.innerHTML = '';\n",
       "        dataTable['output_type'] = 'display_data';\n",
       "        await google.colab.output.renderOutput(dataTable, element);\n",
       "        const docLink = document.createElement('div');\n",
       "        docLink.innerHTML = docLinkHtml;\n",
       "        element.appendChild(docLink);\n",
       "      }\n",
       "    </script>\n",
       "  </div>\n",
       "\n",
       "\n",
       "    <div id=\"df-e25fd545-1363-43fc-a0f4-2a41a9cb631d\">\n",
       "      <button class=\"colab-df-quickchart\" onclick=\"quickchart('df-e25fd545-1363-43fc-a0f4-2a41a9cb631d')\"\n",
       "                title=\"Suggest charts\"\n",
       "                style=\"display:none;\">\n",
       "\n",
       "<svg xmlns=\"http://www.w3.org/2000/svg\" height=\"24px\"viewBox=\"0 0 24 24\"\n",
       "     width=\"24px\">\n",
       "    <g>\n",
       "        <path d=\"M19 3H5c-1.1 0-2 .9-2 2v14c0 1.1.9 2 2 2h14c1.1 0 2-.9 2-2V5c0-1.1-.9-2-2-2zM9 17H7v-7h2v7zm4 0h-2V7h2v10zm4 0h-2v-4h2v4z\"/>\n",
       "    </g>\n",
       "</svg>\n",
       "      </button>\n",
       "\n",
       "<style>\n",
       "  .colab-df-quickchart {\n",
       "      --bg-color: #E8F0FE;\n",
       "      --fill-color: #1967D2;\n",
       "      --hover-bg-color: #E2EBFA;\n",
       "      --hover-fill-color: #174EA6;\n",
       "      --disabled-fill-color: #AAA;\n",
       "      --disabled-bg-color: #DDD;\n",
       "  }\n",
       "\n",
       "  [theme=dark] .colab-df-quickchart {\n",
       "      --bg-color: #3B4455;\n",
       "      --fill-color: #D2E3FC;\n",
       "      --hover-bg-color: #434B5C;\n",
       "      --hover-fill-color: #FFFFFF;\n",
       "      --disabled-bg-color: #3B4455;\n",
       "      --disabled-fill-color: #666;\n",
       "  }\n",
       "\n",
       "  .colab-df-quickchart {\n",
       "    background-color: var(--bg-color);\n",
       "    border: none;\n",
       "    border-radius: 50%;\n",
       "    cursor: pointer;\n",
       "    display: none;\n",
       "    fill: var(--fill-color);\n",
       "    height: 32px;\n",
       "    padding: 0;\n",
       "    width: 32px;\n",
       "  }\n",
       "\n",
       "  .colab-df-quickchart:hover {\n",
       "    background-color: var(--hover-bg-color);\n",
       "    box-shadow: 0 1px 2px rgba(60, 64, 67, 0.3), 0 1px 3px 1px rgba(60, 64, 67, 0.15);\n",
       "    fill: var(--button-hover-fill-color);\n",
       "  }\n",
       "\n",
       "  .colab-df-quickchart-complete:disabled,\n",
       "  .colab-df-quickchart-complete:disabled:hover {\n",
       "    background-color: var(--disabled-bg-color);\n",
       "    fill: var(--disabled-fill-color);\n",
       "    box-shadow: none;\n",
       "  }\n",
       "\n",
       "  .colab-df-spinner {\n",
       "    border: 2px solid var(--fill-color);\n",
       "    border-color: transparent;\n",
       "    border-bottom-color: var(--fill-color);\n",
       "    animation:\n",
       "      spin 1s steps(1) infinite;\n",
       "  }\n",
       "\n",
       "  @keyframes spin {\n",
       "    0% {\n",
       "      border-color: transparent;\n",
       "      border-bottom-color: var(--fill-color);\n",
       "      border-left-color: var(--fill-color);\n",
       "    }\n",
       "    20% {\n",
       "      border-color: transparent;\n",
       "      border-left-color: var(--fill-color);\n",
       "      border-top-color: var(--fill-color);\n",
       "    }\n",
       "    30% {\n",
       "      border-color: transparent;\n",
       "      border-left-color: var(--fill-color);\n",
       "      border-top-color: var(--fill-color);\n",
       "      border-right-color: var(--fill-color);\n",
       "    }\n",
       "    40% {\n",
       "      border-color: transparent;\n",
       "      border-right-color: var(--fill-color);\n",
       "      border-top-color: var(--fill-color);\n",
       "    }\n",
       "    60% {\n",
       "      border-color: transparent;\n",
       "      border-right-color: var(--fill-color);\n",
       "    }\n",
       "    80% {\n",
       "      border-color: transparent;\n",
       "      border-right-color: var(--fill-color);\n",
       "      border-bottom-color: var(--fill-color);\n",
       "    }\n",
       "    90% {\n",
       "      border-color: transparent;\n",
       "      border-bottom-color: var(--fill-color);\n",
       "    }\n",
       "  }\n",
       "</style>\n",
       "\n",
       "      <script>\n",
       "        async function quickchart(key) {\n",
       "          const quickchartButtonEl =\n",
       "            document.querySelector('#' + key + ' button');\n",
       "          quickchartButtonEl.disabled = true;  // To prevent multiple clicks.\n",
       "          quickchartButtonEl.classList.add('colab-df-spinner');\n",
       "          try {\n",
       "            const charts = await google.colab.kernel.invokeFunction(\n",
       "                'suggestCharts', [key], {});\n",
       "          } catch (error) {\n",
       "            console.error('Error during call to suggestCharts:', error);\n",
       "          }\n",
       "          quickchartButtonEl.classList.remove('colab-df-spinner');\n",
       "          quickchartButtonEl.classList.add('colab-df-quickchart-complete');\n",
       "        }\n",
       "        (() => {\n",
       "          let quickchartButtonEl =\n",
       "            document.querySelector('#df-e25fd545-1363-43fc-a0f4-2a41a9cb631d button');\n",
       "          quickchartButtonEl.style.display =\n",
       "            google.colab.kernel.accessAllowed ? 'block' : 'none';\n",
       "        })();\n",
       "      </script>\n",
       "    </div>\n",
       "\n",
       "    </div>\n",
       "  </div>\n"
      ],
      "text/plain": [
       "  data_formatada                data     chuva       temp         ur  \\\n",
       "0     2012-01-01 2012-01-01 13:30:00  0.514286  26.194286  92.393333   \n",
       "1     2012-01-02 2012-01-02 12:00:00  5.283333  22.993750  97.579583   \n",
       "2     2012-01-03 2012-01-03 12:00:00  0.000000  25.374583  74.667917   \n",
       "3     2012-01-04 2012-01-04 12:00:00  0.000000  27.031250  70.167917   \n",
       "4     2012-01-05 2012-01-05 12:00:00  0.000000  27.681667  71.131667   \n",
       "\n",
       "         co         no        no2        nox       so2         o3       pm10  \\\n",
       "0  0.577619   4.410476  32.730000  37.130952  1.425238  16.530952  19.095238   \n",
       "1  0.500417  20.776250  44.004167  64.776667  1.415000   9.201667  12.583333   \n",
       "2  0.340417  20.287917  46.134583  66.426250  2.960417  14.735417  17.083333   \n",
       "3  0.490000  28.649583  55.418333  84.069167  4.996250  19.444167  41.500000   \n",
       "4  0.339167   9.159583  46.746667  55.908750  4.361667  30.340833  28.833333   \n",
       "\n",
       "       pm2_5        lat        lon   ano  mes classificacao  aqi estacao  \n",
       "0  14.619048 -22.831621 -43.326845  2012    1      N1 - Boa   23   Iraja  \n",
       "1   5.083333 -22.831621 -43.326845  2012    1      N1 - Boa   14   Iraja  \n",
       "2   4.208333 -22.831621 -43.326845  2012    1      N1 - Boa   14   Iraja  \n",
       "3  15.729167 -22.831621 -43.326845  2012    1      N1 - Boa   33   Iraja  \n",
       "4  10.916667 -22.831621 -43.326845  2012    1      N1 - Boa   24   Iraja  "
      ]
     },
     "execution_count": 90,
     "metadata": {},
     "output_type": "execute_result"
    }
   ],
   "source": [
    "df_merged.head()"
   ]
  },
  {
   "cell_type": "code",
   "execution_count": null,
   "metadata": {
    "colab": {
     "base_uri": "https://localhost:8080/",
     "height": 206
    },
    "executionInfo": {
     "elapsed": 58,
     "status": "ok",
     "timestamp": 1750205677808,
     "user": {
      "displayName": "João Terêncio",
      "userId": "14302965054076037047"
     },
     "user_tz": 180
    },
    "id": "kcXrsfBsCBTA",
    "outputId": "fe67e517-73db-471d-cbd6-d9f8392b1832"
   },
   "outputs": [
    {
     "data": {
      "application/vnd.google.colaboratory.intrinsic+json": {
       "summary": "{\n  \"name\": \"display(df_merged\",\n  \"rows\": 5,\n  \"fields\": [\n    {\n      \"column\": \"data_formatada\",\n      \"properties\": {\n        \"dtype\": \"object\",\n        \"num_unique_values\": 5,\n        \"samples\": [\n          \"2012-01-02\",\n          \"2012-01-05\",\n          \"2012-01-03\"\n        ],\n        \"semantic_type\": \"\",\n        \"description\": \"\"\n      }\n    },\n    {\n      \"column\": \"estacao\",\n      \"properties\": {\n        \"dtype\": \"category\",\n        \"num_unique_values\": 1,\n        \"samples\": [\n          \"Iraja\"\n        ],\n        \"semantic_type\": \"\",\n        \"description\": \"\"\n      }\n    },\n    {\n      \"column\": \"ano\",\n      \"properties\": {\n        \"dtype\": \"int32\",\n        \"num_unique_values\": 1,\n        \"samples\": [\n          2012\n        ],\n        \"semantic_type\": \"\",\n        \"description\": \"\"\n      }\n    },\n    {\n      \"column\": \"mes\",\n      \"properties\": {\n        \"dtype\": \"int32\",\n        \"num_unique_values\": 1,\n        \"samples\": [\n          1\n        ],\n        \"semantic_type\": \"\",\n        \"description\": \"\"\n      }\n    },\n    {\n      \"column\": \"lat\",\n      \"properties\": {\n        \"dtype\": \"number\",\n        \"std\": 0.0,\n        \"min\": -22.831621,\n        \"max\": -22.831621,\n        \"num_unique_values\": 1,\n        \"samples\": [\n          -22.831621\n        ],\n        \"semantic_type\": \"\",\n        \"description\": \"\"\n      }\n    },\n    {\n      \"column\": \"lon\",\n      \"properties\": {\n        \"dtype\": \"number\",\n        \"std\": 0.0,\n        \"min\": -43.326845,\n        \"max\": -43.326845,\n        \"num_unique_values\": 1,\n        \"samples\": [\n          -43.326845\n        ],\n        \"semantic_type\": \"\",\n        \"description\": \"\"\n      }\n    },\n    {\n      \"column\": \"chuva\",\n      \"properties\": {\n        \"dtype\": \"number\",\n        \"std\": 2.316010771929096,\n        \"min\": 0.0,\n        \"max\": 5.283333333333333,\n        \"num_unique_values\": 3,\n        \"samples\": [\n          0.5142857142857143\n        ],\n        \"semantic_type\": \"\",\n        \"description\": \"\"\n      }\n    },\n    {\n      \"column\": \"temp\",\n      \"properties\": {\n        \"dtype\": \"number\",\n        \"std\": 1.8202294943387376,\n        \"min\": 22.993750000000002,\n        \"max\": 27.68166666666667,\n        \"num_unique_values\": 5,\n        \"samples\": [\n          22.993750000000002\n        ],\n        \"semantic_type\": \"\",\n        \"description\": \"\"\n      }\n    },\n    {\n      \"column\": \"ur\",\n      \"properties\": {\n        \"dtype\": \"number\",\n        \"std\": 12.838682396456546,\n        \"min\": 70.16791666666667,\n        \"max\": 97.57958333333333,\n        \"num_unique_values\": 5,\n        \"samples\": [\n          97.57958333333333\n        ],\n        \"semantic_type\": \"\",\n        \"description\": \"\"\n      }\n    },\n    {\n      \"column\": \"co\",\n      \"properties\": {\n        \"dtype\": \"number\",\n        \"std\": 0.10573535658466456,\n        \"min\": 0.33916666666666667,\n        \"max\": 0.5776190476190476,\n        \"num_unique_values\": 5,\n        \"samples\": [\n          0.5004166666666666\n        ],\n        \"semantic_type\": \"\",\n        \"description\": \"\"\n      }\n    },\n    {\n      \"column\": \"no\",\n      \"properties\": {\n        \"dtype\": \"number\",\n        \"std\": 9.7488772842969,\n        \"min\": 4.41047619047619,\n        \"max\": 28.649583333333336,\n        \"num_unique_values\": 5,\n        \"samples\": [\n          20.77625\n        ],\n        \"semantic_type\": \"\",\n        \"description\": \"\"\n      }\n    },\n    {\n      \"column\": \"no2\",\n      \"properties\": {\n        \"dtype\": \"number\",\n        \"std\": 8.130561933907831,\n        \"min\": 32.730000000000004,\n        \"max\": 55.41833333333333,\n        \"num_unique_values\": 5,\n        \"samples\": [\n          44.00416666666666\n        ],\n        \"semantic_type\": \"\",\n        \"description\": \"\"\n      }\n    },\n    {\n      \"column\": \"nox\",\n      \"properties\": {\n        \"dtype\": \"number\",\n        \"std\": 17.097898458198372,\n        \"min\": 37.13095238095238,\n        \"max\": 84.06916666666667,\n        \"num_unique_values\": 5,\n        \"samples\": [\n          64.77666666666666\n        ],\n        \"semantic_type\": \"\",\n        \"description\": \"\"\n      }\n    },\n    {\n      \"column\": \"so2\",\n      \"properties\": {\n        \"dtype\": \"number\",\n        \"std\": 1.645280226206648,\n        \"min\": 1.415,\n        \"max\": 4.99625,\n        \"num_unique_values\": 5,\n        \"samples\": [\n          1.415\n        ],\n        \"semantic_type\": \"\",\n        \"description\": \"\"\n      }\n    },\n    {\n      \"column\": \"o3\",\n      \"properties\": {\n        \"dtype\": \"number\",\n        \"std\": 7.819770680771802,\n        \"min\": 9.201666666666666,\n        \"max\": 30.340833333333336,\n        \"num_unique_values\": 5,\n        \"samples\": [\n          9.201666666666666\n        ],\n        \"semantic_type\": \"\",\n        \"description\": \"\"\n      }\n    },\n    {\n      \"column\": \"pm10\",\n      \"properties\": {\n        \"dtype\": \"number\",\n        \"std\": 11.529143909981006,\n        \"min\": 12.583333333333334,\n        \"max\": 41.5,\n        \"num_unique_values\": 5,\n        \"samples\": [\n          12.583333333333334\n        ],\n        \"semantic_type\": \"\",\n        \"description\": \"\"\n      }\n    },\n    {\n      \"column\": \"pm2_5\",\n      \"properties\": {\n        \"dtype\": \"number\",\n        \"std\": 5.306936362386661,\n        \"min\": 4.208333333333333,\n        \"max\": 15.729166666666666,\n        \"num_unique_values\": 5,\n        \"samples\": [\n          5.083333333333333\n        ],\n        \"semantic_type\": \"\",\n        \"description\": \"\"\n      }\n    },\n    {\n      \"column\": \"aqi\",\n      \"properties\": {\n        \"dtype\": \"Int64\",\n        \"num_unique_values\": 4,\n        \"samples\": [\n          14\n        ],\n        \"semantic_type\": \"\",\n        \"description\": \"\"\n      }\n    },\n    {\n      \"column\": \"classificacao\",\n      \"properties\": {\n        \"dtype\": \"category\",\n        \"num_unique_values\": 1,\n        \"samples\": [\n          \"N1 - Boa\"\n        ],\n        \"semantic_type\": \"\",\n        \"description\": \"\"\n      }\n    }\n  ]\n}",
       "type": "dataframe"
      },
      "text/html": [
       "\n",
       "  <div id=\"df-a4268f57-28ff-4459-b70c-3003abed644a\" class=\"colab-df-container\">\n",
       "    <div>\n",
       "<style scoped>\n",
       "    .dataframe tbody tr th:only-of-type {\n",
       "        vertical-align: middle;\n",
       "    }\n",
       "\n",
       "    .dataframe tbody tr th {\n",
       "        vertical-align: top;\n",
       "    }\n",
       "\n",
       "    .dataframe thead th {\n",
       "        text-align: right;\n",
       "    }\n",
       "</style>\n",
       "<table border=\"1\" class=\"dataframe\">\n",
       "  <thead>\n",
       "    <tr style=\"text-align: right;\">\n",
       "      <th></th>\n",
       "      <th>data_formatada</th>\n",
       "      <th>estacao</th>\n",
       "      <th>ano</th>\n",
       "      <th>mes</th>\n",
       "      <th>lat</th>\n",
       "      <th>lon</th>\n",
       "      <th>chuva</th>\n",
       "      <th>temp</th>\n",
       "      <th>ur</th>\n",
       "      <th>co</th>\n",
       "      <th>no</th>\n",
       "      <th>no2</th>\n",
       "      <th>nox</th>\n",
       "      <th>so2</th>\n",
       "      <th>o3</th>\n",
       "      <th>pm10</th>\n",
       "      <th>pm2_5</th>\n",
       "      <th>aqi</th>\n",
       "      <th>classificacao</th>\n",
       "    </tr>\n",
       "  </thead>\n",
       "  <tbody>\n",
       "    <tr>\n",
       "      <th>0</th>\n",
       "      <td>2012-01-01</td>\n",
       "      <td>Iraja</td>\n",
       "      <td>2012</td>\n",
       "      <td>1</td>\n",
       "      <td>-22.831621</td>\n",
       "      <td>-43.326845</td>\n",
       "      <td>0.514286</td>\n",
       "      <td>26.194286</td>\n",
       "      <td>92.393333</td>\n",
       "      <td>0.577619</td>\n",
       "      <td>4.410476</td>\n",
       "      <td>32.730000</td>\n",
       "      <td>37.130952</td>\n",
       "      <td>1.425238</td>\n",
       "      <td>16.530952</td>\n",
       "      <td>19.095238</td>\n",
       "      <td>14.619048</td>\n",
       "      <td>23</td>\n",
       "      <td>N1 - Boa</td>\n",
       "    </tr>\n",
       "    <tr>\n",
       "      <th>1</th>\n",
       "      <td>2012-01-02</td>\n",
       "      <td>Iraja</td>\n",
       "      <td>2012</td>\n",
       "      <td>1</td>\n",
       "      <td>-22.831621</td>\n",
       "      <td>-43.326845</td>\n",
       "      <td>5.283333</td>\n",
       "      <td>22.993750</td>\n",
       "      <td>97.579583</td>\n",
       "      <td>0.500417</td>\n",
       "      <td>20.776250</td>\n",
       "      <td>44.004167</td>\n",
       "      <td>64.776667</td>\n",
       "      <td>1.415000</td>\n",
       "      <td>9.201667</td>\n",
       "      <td>12.583333</td>\n",
       "      <td>5.083333</td>\n",
       "      <td>14</td>\n",
       "      <td>N1 - Boa</td>\n",
       "    </tr>\n",
       "    <tr>\n",
       "      <th>2</th>\n",
       "      <td>2012-01-03</td>\n",
       "      <td>Iraja</td>\n",
       "      <td>2012</td>\n",
       "      <td>1</td>\n",
       "      <td>-22.831621</td>\n",
       "      <td>-43.326845</td>\n",
       "      <td>0.000000</td>\n",
       "      <td>25.374583</td>\n",
       "      <td>74.667917</td>\n",
       "      <td>0.340417</td>\n",
       "      <td>20.287917</td>\n",
       "      <td>46.134583</td>\n",
       "      <td>66.426250</td>\n",
       "      <td>2.960417</td>\n",
       "      <td>14.735417</td>\n",
       "      <td>17.083333</td>\n",
       "      <td>4.208333</td>\n",
       "      <td>14</td>\n",
       "      <td>N1 - Boa</td>\n",
       "    </tr>\n",
       "    <tr>\n",
       "      <th>3</th>\n",
       "      <td>2012-01-04</td>\n",
       "      <td>Iraja</td>\n",
       "      <td>2012</td>\n",
       "      <td>1</td>\n",
       "      <td>-22.831621</td>\n",
       "      <td>-43.326845</td>\n",
       "      <td>0.000000</td>\n",
       "      <td>27.031250</td>\n",
       "      <td>70.167917</td>\n",
       "      <td>0.490000</td>\n",
       "      <td>28.649583</td>\n",
       "      <td>55.418333</td>\n",
       "      <td>84.069167</td>\n",
       "      <td>4.996250</td>\n",
       "      <td>19.444167</td>\n",
       "      <td>41.500000</td>\n",
       "      <td>15.729167</td>\n",
       "      <td>33</td>\n",
       "      <td>N1 - Boa</td>\n",
       "    </tr>\n",
       "    <tr>\n",
       "      <th>4</th>\n",
       "      <td>2012-01-05</td>\n",
       "      <td>Iraja</td>\n",
       "      <td>2012</td>\n",
       "      <td>1</td>\n",
       "      <td>-22.831621</td>\n",
       "      <td>-43.326845</td>\n",
       "      <td>0.000000</td>\n",
       "      <td>27.681667</td>\n",
       "      <td>71.131667</td>\n",
       "      <td>0.339167</td>\n",
       "      <td>9.159583</td>\n",
       "      <td>46.746667</td>\n",
       "      <td>55.908750</td>\n",
       "      <td>4.361667</td>\n",
       "      <td>30.340833</td>\n",
       "      <td>28.833333</td>\n",
       "      <td>10.916667</td>\n",
       "      <td>24</td>\n",
       "      <td>N1 - Boa</td>\n",
       "    </tr>\n",
       "  </tbody>\n",
       "</table>\n",
       "</div>\n",
       "    <div class=\"colab-df-buttons\">\n",
       "\n",
       "  <div class=\"colab-df-container\">\n",
       "    <button class=\"colab-df-convert\" onclick=\"convertToInteractive('df-a4268f57-28ff-4459-b70c-3003abed644a')\"\n",
       "            title=\"Convert this dataframe to an interactive table.\"\n",
       "            style=\"display:none;\">\n",
       "\n",
       "  <svg xmlns=\"http://www.w3.org/2000/svg\" height=\"24px\" viewBox=\"0 -960 960 960\">\n",
       "    <path d=\"M120-120v-720h720v720H120Zm60-500h600v-160H180v160Zm220 220h160v-160H400v160Zm0 220h160v-160H400v160ZM180-400h160v-160H180v160Zm440 0h160v-160H620v160ZM180-180h160v-160H180v160Zm440 0h160v-160H620v160Z\"/>\n",
       "  </svg>\n",
       "    </button>\n",
       "\n",
       "  <style>\n",
       "    .colab-df-container {\n",
       "      display:flex;\n",
       "      gap: 12px;\n",
       "    }\n",
       "\n",
       "    .colab-df-convert {\n",
       "      background-color: #E8F0FE;\n",
       "      border: none;\n",
       "      border-radius: 50%;\n",
       "      cursor: pointer;\n",
       "      display: none;\n",
       "      fill: #1967D2;\n",
       "      height: 32px;\n",
       "      padding: 0 0 0 0;\n",
       "      width: 32px;\n",
       "    }\n",
       "\n",
       "    .colab-df-convert:hover {\n",
       "      background-color: #E2EBFA;\n",
       "      box-shadow: 0px 1px 2px rgba(60, 64, 67, 0.3), 0px 1px 3px 1px rgba(60, 64, 67, 0.15);\n",
       "      fill: #174EA6;\n",
       "    }\n",
       "\n",
       "    .colab-df-buttons div {\n",
       "      margin-bottom: 4px;\n",
       "    }\n",
       "\n",
       "    [theme=dark] .colab-df-convert {\n",
       "      background-color: #3B4455;\n",
       "      fill: #D2E3FC;\n",
       "    }\n",
       "\n",
       "    [theme=dark] .colab-df-convert:hover {\n",
       "      background-color: #434B5C;\n",
       "      box-shadow: 0px 1px 3px 1px rgba(0, 0, 0, 0.15);\n",
       "      filter: drop-shadow(0px 1px 2px rgba(0, 0, 0, 0.3));\n",
       "      fill: #FFFFFF;\n",
       "    }\n",
       "  </style>\n",
       "\n",
       "    <script>\n",
       "      const buttonEl =\n",
       "        document.querySelector('#df-a4268f57-28ff-4459-b70c-3003abed644a button.colab-df-convert');\n",
       "      buttonEl.style.display =\n",
       "        google.colab.kernel.accessAllowed ? 'block' : 'none';\n",
       "\n",
       "      async function convertToInteractive(key) {\n",
       "        const element = document.querySelector('#df-a4268f57-28ff-4459-b70c-3003abed644a');\n",
       "        const dataTable =\n",
       "          await google.colab.kernel.invokeFunction('convertToInteractive',\n",
       "                                                    [key], {});\n",
       "        if (!dataTable) return;\n",
       "\n",
       "        const docLinkHtml = 'Like what you see? Visit the ' +\n",
       "          '<a target=\"_blank\" href=https://colab.research.google.com/notebooks/data_table.ipynb>data table notebook</a>'\n",
       "          + ' to learn more about interactive tables.';\n",
       "        element.innerHTML = '';\n",
       "        dataTable['output_type'] = 'display_data';\n",
       "        await google.colab.output.renderOutput(dataTable, element);\n",
       "        const docLink = document.createElement('div');\n",
       "        docLink.innerHTML = docLinkHtml;\n",
       "        element.appendChild(docLink);\n",
       "      }\n",
       "    </script>\n",
       "  </div>\n",
       "\n",
       "\n",
       "    <div id=\"df-31f1f7a2-8ae8-4f8a-993c-930b76c2d7a2\">\n",
       "      <button class=\"colab-df-quickchart\" onclick=\"quickchart('df-31f1f7a2-8ae8-4f8a-993c-930b76c2d7a2')\"\n",
       "                title=\"Suggest charts\"\n",
       "                style=\"display:none;\">\n",
       "\n",
       "<svg xmlns=\"http://www.w3.org/2000/svg\" height=\"24px\"viewBox=\"0 0 24 24\"\n",
       "     width=\"24px\">\n",
       "    <g>\n",
       "        <path d=\"M19 3H5c-1.1 0-2 .9-2 2v14c0 1.1.9 2 2 2h14c1.1 0 2-.9 2-2V5c0-1.1-.9-2-2-2zM9 17H7v-7h2v7zm4 0h-2V7h2v10zm4 0h-2v-4h2v4z\"/>\n",
       "    </g>\n",
       "</svg>\n",
       "      </button>\n",
       "\n",
       "<style>\n",
       "  .colab-df-quickchart {\n",
       "      --bg-color: #E8F0FE;\n",
       "      --fill-color: #1967D2;\n",
       "      --hover-bg-color: #E2EBFA;\n",
       "      --hover-fill-color: #174EA6;\n",
       "      --disabled-fill-color: #AAA;\n",
       "      --disabled-bg-color: #DDD;\n",
       "  }\n",
       "\n",
       "  [theme=dark] .colab-df-quickchart {\n",
       "      --bg-color: #3B4455;\n",
       "      --fill-color: #D2E3FC;\n",
       "      --hover-bg-color: #434B5C;\n",
       "      --hover-fill-color: #FFFFFF;\n",
       "      --disabled-bg-color: #3B4455;\n",
       "      --disabled-fill-color: #666;\n",
       "  }\n",
       "\n",
       "  .colab-df-quickchart {\n",
       "    background-color: var(--bg-color);\n",
       "    border: none;\n",
       "    border-radius: 50%;\n",
       "    cursor: pointer;\n",
       "    display: none;\n",
       "    fill: var(--fill-color);\n",
       "    height: 32px;\n",
       "    padding: 0;\n",
       "    width: 32px;\n",
       "  }\n",
       "\n",
       "  .colab-df-quickchart:hover {\n",
       "    background-color: var(--hover-bg-color);\n",
       "    box-shadow: 0 1px 2px rgba(60, 64, 67, 0.3), 0 1px 3px 1px rgba(60, 64, 67, 0.15);\n",
       "    fill: var(--button-hover-fill-color);\n",
       "  }\n",
       "\n",
       "  .colab-df-quickchart-complete:disabled,\n",
       "  .colab-df-quickchart-complete:disabled:hover {\n",
       "    background-color: var(--disabled-bg-color);\n",
       "    fill: var(--disabled-fill-color);\n",
       "    box-shadow: none;\n",
       "  }\n",
       "\n",
       "  .colab-df-spinner {\n",
       "    border: 2px solid var(--fill-color);\n",
       "    border-color: transparent;\n",
       "    border-bottom-color: var(--fill-color);\n",
       "    animation:\n",
       "      spin 1s steps(1) infinite;\n",
       "  }\n",
       "\n",
       "  @keyframes spin {\n",
       "    0% {\n",
       "      border-color: transparent;\n",
       "      border-bottom-color: var(--fill-color);\n",
       "      border-left-color: var(--fill-color);\n",
       "    }\n",
       "    20% {\n",
       "      border-color: transparent;\n",
       "      border-left-color: var(--fill-color);\n",
       "      border-top-color: var(--fill-color);\n",
       "    }\n",
       "    30% {\n",
       "      border-color: transparent;\n",
       "      border-left-color: var(--fill-color);\n",
       "      border-top-color: var(--fill-color);\n",
       "      border-right-color: var(--fill-color);\n",
       "    }\n",
       "    40% {\n",
       "      border-color: transparent;\n",
       "      border-right-color: var(--fill-color);\n",
       "      border-top-color: var(--fill-color);\n",
       "    }\n",
       "    60% {\n",
       "      border-color: transparent;\n",
       "      border-right-color: var(--fill-color);\n",
       "    }\n",
       "    80% {\n",
       "      border-color: transparent;\n",
       "      border-right-color: var(--fill-color);\n",
       "      border-bottom-color: var(--fill-color);\n",
       "    }\n",
       "    90% {\n",
       "      border-color: transparent;\n",
       "      border-bottom-color: var(--fill-color);\n",
       "    }\n",
       "  }\n",
       "</style>\n",
       "\n",
       "      <script>\n",
       "        async function quickchart(key) {\n",
       "          const quickchartButtonEl =\n",
       "            document.querySelector('#' + key + ' button');\n",
       "          quickchartButtonEl.disabled = true;  // To prevent multiple clicks.\n",
       "          quickchartButtonEl.classList.add('colab-df-spinner');\n",
       "          try {\n",
       "            const charts = await google.colab.kernel.invokeFunction(\n",
       "                'suggestCharts', [key], {});\n",
       "          } catch (error) {\n",
       "            console.error('Error during call to suggestCharts:', error);\n",
       "          }\n",
       "          quickchartButtonEl.classList.remove('colab-df-spinner');\n",
       "          quickchartButtonEl.classList.add('colab-df-quickchart-complete');\n",
       "        }\n",
       "        (() => {\n",
       "          let quickchartButtonEl =\n",
       "            document.querySelector('#df-31f1f7a2-8ae8-4f8a-993c-930b76c2d7a2 button');\n",
       "          quickchartButtonEl.style.display =\n",
       "            google.colab.kernel.accessAllowed ? 'block' : 'none';\n",
       "        })();\n",
       "      </script>\n",
       "    </div>\n",
       "\n",
       "    </div>\n",
       "  </div>\n"
      ],
      "text/plain": [
       "  data_formatada estacao   ano  mes        lat        lon     chuva  \\\n",
       "0     2012-01-01   Iraja  2012    1 -22.831621 -43.326845  0.514286   \n",
       "1     2012-01-02   Iraja  2012    1 -22.831621 -43.326845  5.283333   \n",
       "2     2012-01-03   Iraja  2012    1 -22.831621 -43.326845  0.000000   \n",
       "3     2012-01-04   Iraja  2012    1 -22.831621 -43.326845  0.000000   \n",
       "4     2012-01-05   Iraja  2012    1 -22.831621 -43.326845  0.000000   \n",
       "\n",
       "        temp         ur        co         no        no2        nox       so2  \\\n",
       "0  26.194286  92.393333  0.577619   4.410476  32.730000  37.130952  1.425238   \n",
       "1  22.993750  97.579583  0.500417  20.776250  44.004167  64.776667  1.415000   \n",
       "2  25.374583  74.667917  0.340417  20.287917  46.134583  66.426250  2.960417   \n",
       "3  27.031250  70.167917  0.490000  28.649583  55.418333  84.069167  4.996250   \n",
       "4  27.681667  71.131667  0.339167   9.159583  46.746667  55.908750  4.361667   \n",
       "\n",
       "          o3       pm10      pm2_5  aqi classificacao  \n",
       "0  16.530952  19.095238  14.619048   23      N1 - Boa  \n",
       "1   9.201667  12.583333   5.083333   14      N1 - Boa  \n",
       "2  14.735417  17.083333   4.208333   14      N1 - Boa  \n",
       "3  19.444167  41.500000  15.729167   33      N1 - Boa  \n",
       "4  30.340833  28.833333  10.916667   24      N1 - Boa  "
      ]
     },
     "metadata": {},
     "output_type": "display_data"
    }
   ],
   "source": [
    "# Reorder columns\n",
    "new_order = ['data_formatada', 'estacao', 'ano', 'mes', 'lat', 'lon',\n",
    "             'chuva', 'temp', 'ur', 'co', 'no', 'no2', 'nox', 'so2', 'o3', 'pm10', 'pm2_5',\n",
    "             'aqi', 'classificacao']\n",
    "df_merged = df_merged[new_order]\n",
    "\n",
    "display(df_merged.head())"
   ]
  },
  {
   "cell_type": "code",
   "execution_count": null,
   "metadata": {
    "id": "gfe-Z7ZsOOQO"
   },
   "outputs": [],
   "source": [
    "df_merged.to_csv('iraja.csv', index=False)"
   ]
  }
 ],
 "metadata": {
  "colab": {
   "authorship_tag": "ABX9TyMGJd8hpW3Y1kxdWTAyHL+g",
   "mount_file_id": "1S83gIuwZkT54d8ngxWsmpAZXebpecWA4",
   "provenance": []
  },
  "kernelspec": {
   "display_name": "base",
   "language": "python",
   "name": "python3"
  },
  "language_info": {
   "codemirror_mode": {
    "name": "ipython",
    "version": 3
   },
   "file_extension": ".py",
   "mimetype": "text/x-python",
   "name": "python",
   "nbconvert_exporter": "python",
   "pygments_lexer": "ipython3",
   "version": "3.11.7"
  }
 },
 "nbformat": 4,
 "nbformat_minor": 0
}
