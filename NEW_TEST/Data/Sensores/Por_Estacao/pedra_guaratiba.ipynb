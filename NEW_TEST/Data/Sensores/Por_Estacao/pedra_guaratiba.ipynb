{
 "cells": [
  {
   "cell_type": "markdown",
   "metadata": {
    "id": "TTJ20DT1DZP4"
   },
   "source": [
    "# Importações"
   ]
  },
  {
   "cell_type": "code",
   "execution_count": 1,
   "metadata": {
    "executionInfo": {
     "elapsed": 4449,
     "status": "ok",
     "timestamp": 1750346236252,
     "user": {
      "displayName": "João Terêncio",
      "userId": "14302965054076037047"
     },
     "user_tz": 180
    },
    "id": "3IqV3pDuCcJq"
   },
   "outputs": [],
   "source": [
    "import io\n",
    "import zipfile\n",
    "import requests\n",
    "import numpy as np\n",
    "import pandas as pd\n",
    "import matplotlib.pyplot as plt"
   ]
  },
  {
   "cell_type": "markdown",
   "metadata": {
    "id": "g4RXL-is5UgJ"
   },
   "source": [
    "# Consumindo bases"
   ]
  },
  {
   "cell_type": "code",
   "execution_count": 2,
   "metadata": {
    "executionInfo": {
     "elapsed": 14007,
     "status": "ok",
     "timestamp": 1750346250237,
     "user": {
      "displayName": "João Terêncio",
      "userId": "14302965054076037047"
     },
     "user_tz": 180
    },
    "id": "eyjEKJYpDhin"
   },
   "outputs": [
    {
     "name": "stdout",
     "output_type": "stream",
     "text": [
      "Arquivos no ZIP:\n",
      "['sensores.csv']\n"
     ]
    },
    {
     "data": {
      "text/html": [
       "<div>\n",
       "<style scoped>\n",
       "    .dataframe tbody tr th:only-of-type {\n",
       "        vertical-align: middle;\n",
       "    }\n",
       "\n",
       "    .dataframe tbody tr th {\n",
       "        vertical-align: top;\n",
       "    }\n",
       "\n",
       "    .dataframe thead th {\n",
       "        text-align: right;\n",
       "    }\n",
       "</style>\n",
       "<table border=\"1\" class=\"dataframe\">\n",
       "  <thead>\n",
       "    <tr style=\"text-align: right;\">\n",
       "      <th></th>\n",
       "      <th>objectid</th>\n",
       "      <th>data</th>\n",
       "      <th>codnum</th>\n",
       "      <th>estação</th>\n",
       "      <th>chuva</th>\n",
       "      <th>pres</th>\n",
       "      <th>rs</th>\n",
       "      <th>temp</th>\n",
       "      <th>ur</th>\n",
       "      <th>dir_vento</th>\n",
       "      <th>...</th>\n",
       "      <th>co</th>\n",
       "      <th>no</th>\n",
       "      <th>nox</th>\n",
       "      <th>o3</th>\n",
       "      <th>pm10</th>\n",
       "      <th>pm2_5</th>\n",
       "      <th>lat</th>\n",
       "      <th>lon</th>\n",
       "      <th>x_utm_sirgas2000</th>\n",
       "      <th>y_utm_sirgas2000</th>\n",
       "    </tr>\n",
       "  </thead>\n",
       "  <tbody>\n",
       "    <tr>\n",
       "      <th>0</th>\n",
       "      <td>2372436</td>\n",
       "      <td>1/1/2011 6:30:00 AM</td>\n",
       "      <td>3</td>\n",
       "      <td>CA</td>\n",
       "      <td>0.2</td>\n",
       "      <td>1009.33</td>\n",
       "      <td>1.57</td>\n",
       "      <td>21.81</td>\n",
       "      <td>84.50</td>\n",
       "      <td>250.67</td>\n",
       "      <td>...</td>\n",
       "      <td>0.17</td>\n",
       "      <td>NaN</td>\n",
       "      <td>NaN</td>\n",
       "      <td>17.89</td>\n",
       "      <td>10.0</td>\n",
       "      <td>NaN</td>\n",
       "      <td>-22.908344</td>\n",
       "      <td>-43.178152</td>\n",
       "      <td>686853.7075</td>\n",
       "      <td>7.465470e+06</td>\n",
       "    </tr>\n",
       "    <tr>\n",
       "      <th>1</th>\n",
       "      <td>2372437</td>\n",
       "      <td>1/1/2011 7:30:00 AM</td>\n",
       "      <td>3</td>\n",
       "      <td>CA</td>\n",
       "      <td>0.0</td>\n",
       "      <td>1009.00</td>\n",
       "      <td>1.40</td>\n",
       "      <td>21.79</td>\n",
       "      <td>84.73</td>\n",
       "      <td>121.17</td>\n",
       "      <td>...</td>\n",
       "      <td>0.21</td>\n",
       "      <td>NaN</td>\n",
       "      <td>NaN</td>\n",
       "      <td>12.44</td>\n",
       "      <td>11.0</td>\n",
       "      <td>NaN</td>\n",
       "      <td>-22.908344</td>\n",
       "      <td>-43.178152</td>\n",
       "      <td>686853.7075</td>\n",
       "      <td>7.465470e+06</td>\n",
       "    </tr>\n",
       "    <tr>\n",
       "      <th>2</th>\n",
       "      <td>2372438</td>\n",
       "      <td>1/1/2011 8:30:00 AM</td>\n",
       "      <td>3</td>\n",
       "      <td>CA</td>\n",
       "      <td>0.2</td>\n",
       "      <td>1008.17</td>\n",
       "      <td>1.37</td>\n",
       "      <td>21.44</td>\n",
       "      <td>85.70</td>\n",
       "      <td>85.67</td>\n",
       "      <td>...</td>\n",
       "      <td>0.17</td>\n",
       "      <td>NaN</td>\n",
       "      <td>NaN</td>\n",
       "      <td>18.97</td>\n",
       "      <td>38.0</td>\n",
       "      <td>NaN</td>\n",
       "      <td>-22.908344</td>\n",
       "      <td>-43.178152</td>\n",
       "      <td>686853.7075</td>\n",
       "      <td>7.465470e+06</td>\n",
       "    </tr>\n",
       "    <tr>\n",
       "      <th>3</th>\n",
       "      <td>2372439</td>\n",
       "      <td>1/1/2011 9:30:00 AM</td>\n",
       "      <td>3</td>\n",
       "      <td>CA</td>\n",
       "      <td>0.0</td>\n",
       "      <td>1008.00</td>\n",
       "      <td>1.30</td>\n",
       "      <td>21.17</td>\n",
       "      <td>88.57</td>\n",
       "      <td>85.33</td>\n",
       "      <td>...</td>\n",
       "      <td>0.22</td>\n",
       "      <td>NaN</td>\n",
       "      <td>NaN</td>\n",
       "      <td>11.08</td>\n",
       "      <td>8.0</td>\n",
       "      <td>NaN</td>\n",
       "      <td>-22.908344</td>\n",
       "      <td>-43.178152</td>\n",
       "      <td>686853.7075</td>\n",
       "      <td>7.465470e+06</td>\n",
       "    </tr>\n",
       "    <tr>\n",
       "      <th>4</th>\n",
       "      <td>2372440</td>\n",
       "      <td>1/1/2011 10:30:00 AM</td>\n",
       "      <td>3</td>\n",
       "      <td>CA</td>\n",
       "      <td>0.2</td>\n",
       "      <td>1008.00</td>\n",
       "      <td>1.32</td>\n",
       "      <td>21.25</td>\n",
       "      <td>89.28</td>\n",
       "      <td>73.00</td>\n",
       "      <td>...</td>\n",
       "      <td>0.22</td>\n",
       "      <td>NaN</td>\n",
       "      <td>NaN</td>\n",
       "      <td>11.28</td>\n",
       "      <td>10.0</td>\n",
       "      <td>NaN</td>\n",
       "      <td>-22.908344</td>\n",
       "      <td>-43.178152</td>\n",
       "      <td>686853.7075</td>\n",
       "      <td>7.465470e+06</td>\n",
       "    </tr>\n",
       "  </tbody>\n",
       "</table>\n",
       "<p>5 rows × 26 columns</p>\n",
       "</div>"
      ],
      "text/plain": [
       "   objectid                  data  codnum estação  chuva     pres    rs  \\\n",
       "0   2372436   1/1/2011 6:30:00 AM       3      CA    0.2  1009.33  1.57   \n",
       "1   2372437   1/1/2011 7:30:00 AM       3      CA    0.0  1009.00  1.40   \n",
       "2   2372438   1/1/2011 8:30:00 AM       3      CA    0.2  1008.17  1.37   \n",
       "3   2372439   1/1/2011 9:30:00 AM       3      CA    0.0  1008.00  1.30   \n",
       "4   2372440  1/1/2011 10:30:00 AM       3      CA    0.2  1008.00  1.32   \n",
       "\n",
       "    temp     ur  dir_vento  ...    co  no  nox     o3  pm10  pm2_5        lat  \\\n",
       "0  21.81  84.50     250.67  ...  0.17 NaN  NaN  17.89  10.0    NaN -22.908344   \n",
       "1  21.79  84.73     121.17  ...  0.21 NaN  NaN  12.44  11.0    NaN -22.908344   \n",
       "2  21.44  85.70      85.67  ...  0.17 NaN  NaN  18.97  38.0    NaN -22.908344   \n",
       "3  21.17  88.57      85.33  ...  0.22 NaN  NaN  11.08   8.0    NaN -22.908344   \n",
       "4  21.25  89.28      73.00  ...  0.22 NaN  NaN  11.28  10.0    NaN -22.908344   \n",
       "\n",
       "         lon  x_utm_sirgas2000  y_utm_sirgas2000  \n",
       "0 -43.178152       686853.7075      7.465470e+06  \n",
       "1 -43.178152       686853.7075      7.465470e+06  \n",
       "2 -43.178152       686853.7075      7.465470e+06  \n",
       "3 -43.178152       686853.7075      7.465470e+06  \n",
       "4 -43.178152       686853.7075      7.465470e+06  \n",
       "\n",
       "[5 rows x 26 columns]"
      ]
     },
     "execution_count": 2,
     "metadata": {},
     "output_type": "execute_result"
    }
   ],
   "source": [
    "url_sensor = \"https://github.com/AILAB-CEFET-RJ/qualiar/raw/main/NEW_TEST/Data/Sensores/sensores.zip\"\n",
    "\n",
    "response = requests.get(url_sensor)\n",
    "response.raise_for_status()\n",
    "\n",
    "zip_file = zipfile.ZipFile(io.BytesIO(response.content))\n",
    "\n",
    "print(\"Arquivos no ZIP:\")\n",
    "print(zip_file.namelist())\n",
    "\n",
    "with zip_file.open(zip_file.namelist()[0]) as file:\n",
    "    df_sensor = pd.read_csv(file)  \n",
    "\n",
    "df_sensor.head()"
   ]
  },
  {
   "cell_type": "code",
   "execution_count": 3,
   "metadata": {
    "colab": {
     "base_uri": "https://localhost:8080/"
    },
    "executionInfo": {
     "elapsed": 20,
     "status": "ok",
     "timestamp": 1750346250260,
     "user": {
      "displayName": "João Terêncio",
      "userId": "14302965054076037047"
     },
     "user_tz": 180
    },
    "id": "I8DoZujMX7Hy",
    "outputId": "bd715841-9b30-4878-d55f-2de11aa2f83b"
   },
   "outputs": [],
   "source": [
    "url_estacoes = 'https://raw.githubusercontent.com/AILAB-CEFET-RJ/qualiar/refs/heads/main/NEW_TEST/Data/Sensores/estacoes.csv'\n",
    "\n",
    "df_estacoes = pd.read_csv(url_estacoes, sep=',')\n",
    "\n",
    "url_qualidade_ar = 'https://raw.githubusercontent.com/AILAB-CEFET-RJ/qualiar/refs/heads/main/NEW_TEST/Data/Sensores/ind_qual_ar_17_24.csv'\n",
    "\n",
    "df_qualidade_ar = pd.read_csv(url_qualidade_ar, sep=',')"
   ]
  },
  {
   "cell_type": "markdown",
   "metadata": {
    "id": "-KWYSQmgDtki"
   },
   "source": [
    "# Pré-processamento"
   ]
  },
  {
   "cell_type": "markdown",
   "metadata": {
    "id": "q18psyhOH2hN"
   },
   "source": [
    "## Selecionando e criando colunas"
   ]
  },
  {
   "cell_type": "code",
   "execution_count": 4,
   "metadata": {
    "cellView": "form",
    "executionInfo": {
     "elapsed": 8,
     "status": "ok",
     "timestamp": 1750346250273,
     "user": {
      "displayName": "João Terêncio",
      "userId": "14302965054076037047"
     },
     "user_tz": 180
    },
    "id": "m2M9yDEpXZHc"
   },
   "outputs": [],
   "source": [
    "#@title Criando coluna nome estacao com base na coluna codnum\n",
    "df_sensor['nome_estacao'] = df_sensor['codnum'].map(df_estacoes.set_index('codnum')['nome'])"
   ]
  },
  {
   "cell_type": "code",
   "execution_count": 5,
   "metadata": {
    "executionInfo": {
     "elapsed": 119,
     "status": "ok",
     "timestamp": 1750346250397,
     "user": {
      "displayName": "João Terêncio",
      "userId": "14302965054076037047"
     },
     "user_tz": 180
    },
    "id": "A9QJxIqs5mRT"
   },
   "outputs": [],
   "source": [
    "#@title Selecionando as colunas mais relevantes\n",
    "interest_columns = ['nome_estacao', 'data', 'chuva', 'temp', 'ur', 'co', 'no', 'no2', 'nox', 'so2', 'o3', 'pm10', 'pm2_5', 'lat', 'lon']\n",
    "\n",
    "df_sensor_interest = df_sensor[interest_columns]"
   ]
  },
  {
   "cell_type": "code",
   "execution_count": 6,
   "metadata": {
    "colab": {
     "base_uri": "https://localhost:8080/"
    },
    "executionInfo": {
     "elapsed": 4899,
     "status": "ok",
     "timestamp": 1750346255303,
     "user": {
      "displayName": "João Terêncio",
      "userId": "14302965054076037047"
     },
     "user_tz": 180
    },
    "id": "08TM4o3W5mUB",
    "outputId": "06621b70-e977-42e2-9ed9-d4daa29c0d15"
   },
   "outputs": [
    {
     "name": "stderr",
     "output_type": "stream",
     "text": [
      "C:\\Users\\jhter\\AppData\\Local\\Temp\\ipykernel_55240\\1024544581.py:2: SettingWithCopyWarning: \n",
      "A value is trying to be set on a copy of a slice from a DataFrame.\n",
      "Try using .loc[row_indexer,col_indexer] = value instead\n",
      "\n",
      "See the caveats in the documentation: https://pandas.pydata.org/pandas-docs/stable/user_guide/indexing.html#returning-a-view-versus-a-copy\n",
      "  df_sensor_interest['data'] = pd.to_datetime(df_sensor_interest['data'], format='%m/%d/%Y %I:%M:%S %p')\n",
      "C:\\Users\\jhter\\AppData\\Local\\Temp\\ipykernel_55240\\1024544581.py:3: SettingWithCopyWarning: \n",
      "A value is trying to be set on a copy of a slice from a DataFrame.\n",
      "Try using .loc[row_indexer,col_indexer] = value instead\n",
      "\n",
      "See the caveats in the documentation: https://pandas.pydata.org/pandas-docs/stable/user_guide/indexing.html#returning-a-view-versus-a-copy\n",
      "  df_sensor_interest['data_formatada'] = pd.to_datetime(df_sensor_interest['data']).dt.strftime('%Y-%m-%d')\n",
      "C:\\Users\\jhter\\AppData\\Local\\Temp\\ipykernel_55240\\1024544581.py:4: SettingWithCopyWarning: \n",
      "A value is trying to be set on a copy of a slice from a DataFrame.\n",
      "Try using .loc[row_indexer,col_indexer] = value instead\n",
      "\n",
      "See the caveats in the documentation: https://pandas.pydata.org/pandas-docs/stable/user_guide/indexing.html#returning-a-view-versus-a-copy\n",
      "  df_sensor_interest['ano'] = df_sensor_interest['data'].dt.year\n",
      "C:\\Users\\jhter\\AppData\\Local\\Temp\\ipykernel_55240\\1024544581.py:5: SettingWithCopyWarning: \n",
      "A value is trying to be set on a copy of a slice from a DataFrame.\n",
      "Try using .loc[row_indexer,col_indexer] = value instead\n",
      "\n",
      "See the caveats in the documentation: https://pandas.pydata.org/pandas-docs/stable/user_guide/indexing.html#returning-a-view-versus-a-copy\n",
      "  df_sensor_interest['mes'] = df_sensor_interest['data'].dt.month\n"
     ]
    }
   ],
   "source": [
    "#@title Criando colunas de ano e mês para facilitar a análise temporal\n",
    "df_sensor_interest['data'] = pd.to_datetime(df_sensor_interest['data'], format='%m/%d/%Y %I:%M:%S %p')\n",
    "df_sensor_interest['data_formatada'] = pd.to_datetime(df_sensor_interest['data']).dt.strftime('%Y-%m-%d')\n",
    "df_sensor_interest['ano'] = df_sensor_interest['data'].dt.year\n",
    "df_sensor_interest['mes'] = df_sensor_interest['data'].dt.month"
   ]
  },
  {
   "cell_type": "code",
   "execution_count": 7,
   "metadata": {
    "executionInfo": {
     "elapsed": 85,
     "status": "ok",
     "timestamp": 1750346255386,
     "user": {
      "displayName": "João Terêncio",
      "userId": "14302965054076037047"
     },
     "user_tz": 180
    },
    "id": "010BKMPF5mWa"
   },
   "outputs": [],
   "source": [
    "#@title Removendo ano de 2011 (Pela falta de alguns poluente) e anos da pandemia\n",
    "df_sensor_interest_filtered = df_sensor_interest[df_sensor_interest['ano'] > 2011]"
   ]
  },
  {
   "cell_type": "code",
   "execution_count": 8,
   "metadata": {
    "executionInfo": {
     "elapsed": 155,
     "status": "ok",
     "timestamp": 1750346255610,
     "user": {
      "displayName": "João Terêncio",
      "userId": "14302965054076037047"
     },
     "user_tz": 180
    },
    "id": "_c6j_tgIdxeL"
   },
   "outputs": [],
   "source": [
    "#@title Filtrando por Campo Grande\n",
    "df_sensor_pedra_guaratiba = df_sensor_interest_filtered[df_sensor_interest_filtered['nome_estacao'] == 'ESTAÇÃO PEDRA DE GUARATIBA']"
   ]
  },
  {
   "cell_type": "code",
   "execution_count": 9,
   "metadata": {
    "executionInfo": {
     "elapsed": 161,
     "status": "ok",
     "timestamp": 1750346255776,
     "user": {
      "displayName": "João Terêncio",
      "userId": "14302965054076037047"
     },
     "user_tz": 180
    },
    "id": "fPDeSXnR-9Q9"
   },
   "outputs": [],
   "source": [
    "df_qualidade_ar['data_formatada'] = pd.to_datetime(df_qualidade_ar['data']).dt.strftime('%Y-%m-%d')\n",
    "df_qualidade_ar_pedra_guaratiba= df_qualidade_ar[df_qualidade_ar['estacao_nome'] == 'Pedra de Guaratiba']"
   ]
  },
  {
   "cell_type": "markdown",
   "metadata": {
    "id": "gmWkUcmdIpux"
   },
   "source": [
    "# Tratando colunas de interesse por Estação de monitoriamento\n"
   ]
  },
  {
   "cell_type": "markdown",
   "metadata": {
    "id": "yLqNrnrAN4w-"
   },
   "source": [
    "## Estação Pedra Guaratiba\n",
    "Colunas normalizadas: Chuva, Temperatura, Umidade relativa, CO, NO, NO2, NOx, SO2, O3, PM10"
   ]
  },
  {
   "cell_type": "markdown",
   "metadata": {
    "id": "9ymtlIMxOidV"
   },
   "source": [
    "### Chuva"
   ]
  },
  {
   "cell_type": "code",
   "execution_count": 10,
   "metadata": {
    "colab": {
     "base_uri": "https://localhost:8080/",
     "height": 0
    },
    "executionInfo": {
     "elapsed": 65,
     "status": "ok",
     "timestamp": 1750346255782,
     "user": {
      "displayName": "João Terêncio",
      "userId": "14302965054076037047"
     },
     "user_tz": 180
    },
    "id": "24M_cJnzP4gK",
    "outputId": "1deadf50-9b4a-4d07-b809-f55eedaefa9a"
   },
   "outputs": [
    {
     "data": {
      "text/html": [
       "<div>\n",
       "<style scoped>\n",
       "    .dataframe tbody tr th:only-of-type {\n",
       "        vertical-align: middle;\n",
       "    }\n",
       "\n",
       "    .dataframe tbody tr th {\n",
       "        vertical-align: top;\n",
       "    }\n",
       "\n",
       "    .dataframe thead th {\n",
       "        text-align: right;\n",
       "    }\n",
       "</style>\n",
       "<table border=\"1\" class=\"dataframe\">\n",
       "  <thead>\n",
       "    <tr style=\"text-align: right;\">\n",
       "      <th></th>\n",
       "      <th>chuva</th>\n",
       "    </tr>\n",
       "  </thead>\n",
       "  <tbody>\n",
       "    <tr>\n",
       "      <th>count</th>\n",
       "      <td>106695.000000</td>\n",
       "    </tr>\n",
       "    <tr>\n",
       "      <th>mean</th>\n",
       "      <td>0.117486</td>\n",
       "    </tr>\n",
       "    <tr>\n",
       "      <th>std</th>\n",
       "      <td>1.053585</td>\n",
       "    </tr>\n",
       "    <tr>\n",
       "      <th>min</th>\n",
       "      <td>0.000000</td>\n",
       "    </tr>\n",
       "    <tr>\n",
       "      <th>25%</th>\n",
       "      <td>0.000000</td>\n",
       "    </tr>\n",
       "    <tr>\n",
       "      <th>50%</th>\n",
       "      <td>0.000000</td>\n",
       "    </tr>\n",
       "    <tr>\n",
       "      <th>75%</th>\n",
       "      <td>0.000000</td>\n",
       "    </tr>\n",
       "    <tr>\n",
       "      <th>max</th>\n",
       "      <td>67.600000</td>\n",
       "    </tr>\n",
       "  </tbody>\n",
       "</table>\n",
       "</div><br><label><b>dtype:</b> float64</label>"
      ],
      "text/plain": [
       "count    106695.000000\n",
       "mean          0.117486\n",
       "std           1.053585\n",
       "min           0.000000\n",
       "25%           0.000000\n",
       "50%           0.000000\n",
       "75%           0.000000\n",
       "max          67.600000\n",
       "Name: chuva, dtype: float64"
      ]
     },
     "execution_count": 10,
     "metadata": {},
     "output_type": "execute_result"
    }
   ],
   "source": [
    "df_sensor_pedra_guaratiba['chuva'].describe()"
   ]
  },
  {
   "cell_type": "code",
   "execution_count": 10,
   "metadata": {
    "cellView": "form",
    "colab": {
     "base_uri": "https://localhost:8080/"
    },
    "executionInfo": {
     "elapsed": 37,
     "status": "ok",
     "timestamp": 1750346255784,
     "user": {
      "displayName": "João Terêncio",
      "userId": "14302965054076037047"
     },
     "user_tz": 180
    },
    "id": "Ntw7zXT0Q6zx",
    "outputId": "9126a47d-cb44-4a2d-e108-8a24f79f2219"
   },
   "outputs": [
    {
     "name": "stdout",
     "output_type": "stream",
     "text": [
      "Quantidade de valores vazios: 7197\n"
     ]
    }
   ],
   "source": [
    "#@title Vendo quantidade de valores vazios\n",
    "\n",
    "valroes_vazio = df_sensor_pedra_guaratiba[df_sensor_pedra_guaratiba['chuva'].isnull()].groupby(['ano', 'mes']).size().sum()\n",
    "print(f\"Quantidade de valores vazios: {valroes_vazio}\")"
   ]
  },
  {
   "cell_type": "code",
   "execution_count": 11,
   "metadata": {
    "cellView": "form",
    "colab": {
     "base_uri": "https://localhost:8080/"
    },
    "executionInfo": {
     "elapsed": 108,
     "status": "ok",
     "timestamp": 1750346255877,
     "user": {
      "displayName": "João Terêncio",
      "userId": "14302965054076037047"
     },
     "user_tz": 180
    },
    "id": "wfMEwBEEwJph",
    "outputId": "b8f3af08-ff7e-4b14-da3d-66d46ff6ea27"
   },
   "outputs": [
    {
     "name": "stderr",
     "output_type": "stream",
     "text": [
      "C:\\Users\\jhter\\AppData\\Local\\Temp\\ipykernel_55240\\3822295001.py:3: SettingWithCopyWarning: \n",
      "A value is trying to be set on a copy of a slice from a DataFrame.\n",
      "Try using .loc[row_indexer,col_indexer] = value instead\n",
      "\n",
      "See the caveats in the documentation: https://pandas.pydata.org/pandas-docs/stable/user_guide/indexing.html#returning-a-view-versus-a-copy\n",
      "  df_sensor_pedra_guaratiba['chuva_nulos_no_dia'] = (\n"
     ]
    }
   ],
   "source": [
    "#@title Criando coluna que informa a quantidade de valores vazios por dia\n",
    "\n",
    "df_sensor_pedra_guaratiba['chuva_nulos_no_dia'] = (\n",
    "    df_sensor_pedra_guaratiba['chuva'].isnull()\n",
    "    .groupby(df_sensor_pedra_guaratiba['data_formatada'])\n",
    "    .transform('sum')  # Soma os nulos por dia e repete o valor em todas as linhas do dia\n",
    ")"
   ]
  },
  {
   "cell_type": "code",
   "execution_count": 12,
   "metadata": {
    "cellView": "form",
    "colab": {
     "base_uri": "https://localhost:8080/",
     "height": 0
    },
    "executionInfo": {
     "elapsed": 244,
     "status": "ok",
     "timestamp": 1750346256123,
     "user": {
      "displayName": "João Terêncio",
      "userId": "14302965054076037047"
     },
     "user_tz": 180
    },
    "id": "jYMgiW_cHPBb",
    "outputId": "775b9562-536e-4a92-caa6-632b6d112ee6"
   },
   "outputs": [
    {
     "data": {
      "image/png": "[encoded data removed]",
      "text/plain": [
       "<Figure size 1000x600 with 1 Axes>"
      ]
     },
     "metadata": {},
     "output_type": "display_data"
    }
   ],
   "source": [
    "#@title Distribuição dos valores vazios\n",
    "\n",
    "# Seleciona uma única linha por dia, para evitar repetição\n",
    "df_dias = df_sensor_pedra_guaratiba[df_sensor_pedra_guaratiba['chuva_nulos_no_dia'] != 0].groupby('data_formatada')['chuva_nulos_no_dia'].first()\n",
    "\n",
    "# Plotar o histograma da contagem de valores nulos por dia\n",
    "plt.figure(figsize=(10,6))\n",
    "plt.hist(df_dias, bins=range(0, df_dias.max() + 2), edgecolor='black', align='left')\n",
    "plt.title('Histograma de Quantidade de Valores Vazios em \"chuva\" por Dia')\n",
    "plt.xlabel('Quantidade de valores vazios no dia')\n",
    "plt.ylabel('Número de dias')\n",
    "plt.xticks(range(0, df_dias.max() + 1))\n",
    "plt.grid(axis='y', alpha=0.75)\n",
    "plt.show()"
   ]
  },
  {
   "cell_type": "code",
   "execution_count": 14,
   "metadata": {
    "cellView": "form",
    "colab": {
     "base_uri": "https://localhost:8080/"
    },
    "executionInfo": {
     "elapsed": 35,
     "status": "ok",
     "timestamp": 1750346256148,
     "user": {
      "displayName": "João Terêncio",
      "userId": "14302965054076037047"
     },
     "user_tz": 180
    },
    "id": "CUSCMdfvRRAo",
    "outputId": "bb831d7e-9e01-4d2b-a126-aff274da80b1"
   },
   "outputs": [
    {
     "name": "stdout",
     "output_type": "stream",
     "text": [
      "303 linhas foram preenchidas com interpolate na coluna 'chuva'.\n",
      "Foram preenchido 4% de dados\n"
     ]
    }
   ],
   "source": [
    "#@title Preenchimento dos valores nulos utilizando a função interpolate (Preenchendo apenas os que tem menos de 7 linhas vazias)\n",
    "\n",
    "mask = (df_sensor_pedra_guaratiba['chuva_nulos_no_dia'] <= 6)\n",
    "\n",
    "num_nulls = df_sensor_pedra_guaratiba[mask]['chuva'].isnull().sum()\n",
    "df_sensor_pedra_guaratiba.loc[mask, 'chuva'] = df_sensor_pedra_guaratiba[mask]['chuva'].interpolate()\n",
    "print(f\"{num_nulls} linhas foram preenchidas com interpolate na coluna 'chuva'.\")\n",
    "print(f\"Foram preenchido {round((num_nulls/valroes_vazio)*100)}% de dados\")"
   ]
  },
  {
   "cell_type": "code",
   "execution_count": 15,
   "metadata": {
    "colab": {
     "base_uri": "https://localhost:8080/",
     "height": 0
    },
    "executionInfo": {
     "elapsed": 18,
     "status": "ok",
     "timestamp": 1750346256161,
     "user": {
      "displayName": "João Terêncio",
      "userId": "14302965054076037047"
     },
     "user_tz": 180
    },
    "id": "97-NgrgDRt33",
    "outputId": "342aa86c-6a5b-4e32-eed1-83e3da83b890"
   },
   "outputs": [
    {
     "data": {
      "text/html": [
       "<div>\n",
       "<style scoped>\n",
       "    .dataframe tbody tr th:only-of-type {\n",
       "        vertical-align: middle;\n",
       "    }\n",
       "\n",
       "    .dataframe tbody tr th {\n",
       "        vertical-align: top;\n",
       "    }\n",
       "\n",
       "    .dataframe thead th {\n",
       "        text-align: right;\n",
       "    }\n",
       "</style>\n",
       "<table border=\"1\" class=\"dataframe\">\n",
       "  <thead>\n",
       "    <tr style=\"text-align: right;\">\n",
       "      <th></th>\n",
       "      <th>chuva</th>\n",
       "    </tr>\n",
       "  </thead>\n",
       "  <tbody>\n",
       "    <tr>\n",
       "      <th>count</th>\n",
       "      <td>106998.000000</td>\n",
       "    </tr>\n",
       "    <tr>\n",
       "      <th>mean</th>\n",
       "      <td>0.119044</td>\n",
       "    </tr>\n",
       "    <tr>\n",
       "      <th>std</th>\n",
       "      <td>1.061717</td>\n",
       "    </tr>\n",
       "    <tr>\n",
       "      <th>min</th>\n",
       "      <td>0.000000</td>\n",
       "    </tr>\n",
       "    <tr>\n",
       "      <th>25%</th>\n",
       "      <td>0.000000</td>\n",
       "    </tr>\n",
       "    <tr>\n",
       "      <th>50%</th>\n",
       "      <td>0.000000</td>\n",
       "    </tr>\n",
       "    <tr>\n",
       "      <th>75%</th>\n",
       "      <td>0.000000</td>\n",
       "    </tr>\n",
       "    <tr>\n",
       "      <th>max</th>\n",
       "      <td>67.600000</td>\n",
       "    </tr>\n",
       "  </tbody>\n",
       "</table>\n",
       "</div><br><label><b>dtype:</b> float64</label>"
      ],
      "text/plain": [
       "count    106998.000000\n",
       "mean          0.119044\n",
       "std           1.061717\n",
       "min           0.000000\n",
       "25%           0.000000\n",
       "50%           0.000000\n",
       "75%           0.000000\n",
       "max          67.600000\n",
       "Name: chuva, dtype: float64"
      ]
     },
     "execution_count": 15,
     "metadata": {},
     "output_type": "execute_result"
    }
   ],
   "source": [
    "df_sensor_pedra_guaratiba['chuva'].describe()"
   ]
  },
  {
   "cell_type": "markdown",
   "metadata": {
    "id": "1XA1vvw_JYeW"
   },
   "source": [
    "### Temperatura"
   ]
  },
  {
   "cell_type": "code",
   "execution_count": 16,
   "metadata": {
    "colab": {
     "base_uri": "https://localhost:8080/",
     "height": 0
    },
    "executionInfo": {
     "elapsed": 11,
     "status": "ok",
     "timestamp": 1750346256176,
     "user": {
      "displayName": "João Terêncio",
      "userId": "14302965054076037047"
     },
     "user_tz": 180
    },
    "id": "_9XmZnxbJYeW",
    "outputId": "3688d089-d5c6-4af2-eebe-7609715e2bc1"
   },
   "outputs": [
    {
     "data": {
      "text/html": [
       "<div>\n",
       "<style scoped>\n",
       "    .dataframe tbody tr th:only-of-type {\n",
       "        vertical-align: middle;\n",
       "    }\n",
       "\n",
       "    .dataframe tbody tr th {\n",
       "        vertical-align: top;\n",
       "    }\n",
       "\n",
       "    .dataframe thead th {\n",
       "        text-align: right;\n",
       "    }\n",
       "</style>\n",
       "<table border=\"1\" class=\"dataframe\">\n",
       "  <thead>\n",
       "    <tr style=\"text-align: right;\">\n",
       "      <th></th>\n",
       "      <th>temp</th>\n",
       "    </tr>\n",
       "  </thead>\n",
       "  <tbody>\n",
       "    <tr>\n",
       "      <th>count</th>\n",
       "      <td>102862.00000</td>\n",
       "    </tr>\n",
       "    <tr>\n",
       "      <th>mean</th>\n",
       "      <td>25.61911</td>\n",
       "    </tr>\n",
       "    <tr>\n",
       "      <th>std</th>\n",
       "      <td>4.29748</td>\n",
       "    </tr>\n",
       "    <tr>\n",
       "      <th>min</th>\n",
       "      <td>0.00000</td>\n",
       "    </tr>\n",
       "    <tr>\n",
       "      <th>25%</th>\n",
       "      <td>22.62000</td>\n",
       "    </tr>\n",
       "    <tr>\n",
       "      <th>50%</th>\n",
       "      <td>25.18000</td>\n",
       "    </tr>\n",
       "    <tr>\n",
       "      <th>75%</th>\n",
       "      <td>28.20000</td>\n",
       "    </tr>\n",
       "    <tr>\n",
       "      <th>max</th>\n",
       "      <td>44.73000</td>\n",
       "    </tr>\n",
       "  </tbody>\n",
       "</table>\n",
       "</div><br><label><b>dtype:</b> float64</label>"
      ],
      "text/plain": [
       "count    102862.00000\n",
       "mean         25.61911\n",
       "std           4.29748\n",
       "min           0.00000\n",
       "25%          22.62000\n",
       "50%          25.18000\n",
       "75%          28.20000\n",
       "max          44.73000\n",
       "Name: temp, dtype: float64"
      ]
     },
     "execution_count": 16,
     "metadata": {},
     "output_type": "execute_result"
    }
   ],
   "source": [
    "df_sensor_pedra_guaratiba['temp'].describe()"
   ]
  },
  {
   "cell_type": "code",
   "execution_count": 17,
   "metadata": {
    "cellView": "form",
    "colab": {
     "base_uri": "https://localhost:8080/"
    },
    "executionInfo": {
     "elapsed": 13,
     "status": "ok",
     "timestamp": 1750346256192,
     "user": {
      "displayName": "João Terêncio",
      "userId": "14302965054076037047"
     },
     "user_tz": 180
    },
    "id": "YEPrxSuZJYeX",
    "outputId": "74ad63b9-8b2a-4b85-c498-ae4d23e1f4d4"
   },
   "outputs": [
    {
     "name": "stdout",
     "output_type": "stream",
     "text": [
      "Quantidade de valores vazios: 11030\n"
     ]
    }
   ],
   "source": [
    "#@title Vendo quantidade de valores vazios\n",
    "\n",
    "valroes_vazio = df_sensor_pedra_guaratiba[df_sensor_pedra_guaratiba['temp'].isnull()].groupby(['ano', 'mes']).size().sum()\n",
    "print(f\"Quantidade de valores vazios: {valroes_vazio}\")"
   ]
  },
  {
   "cell_type": "code",
   "execution_count": 18,
   "metadata": {
    "cellView": "form",
    "colab": {
     "base_uri": "https://localhost:8080/"
    },
    "executionInfo": {
     "elapsed": 14,
     "status": "ok",
     "timestamp": 1750346256208,
     "user": {
      "displayName": "João Terêncio",
      "userId": "14302965054076037047"
     },
     "user_tz": 180
    },
    "id": "N0LIJac7JYeX",
    "outputId": "7177008b-7c73-485a-a27c-bc4ba7178da1"
   },
   "outputs": [
    {
     "name": "stderr",
     "output_type": "stream",
     "text": [
      "/tmp/ipython-input-18-1651924770.py:3: SettingWithCopyWarning: \n",
      "A value is trying to be set on a copy of a slice from a DataFrame.\n",
      "Try using .loc[row_indexer,col_indexer] = value instead\n",
      "\n",
      "See the caveats in the documentation: https://pandas.pydata.org/pandas-docs/stable/user_guide/indexing.html#returning-a-view-versus-a-copy\n",
      "  df_sensor_pedra_guaratiba['temp_nulos_no_dia'] = (\n"
     ]
    }
   ],
   "source": [
    "#@title Criando coluna que informa a quantidade de valores vazios por dia\n",
    "\n",
    "df_sensor_pedra_guaratiba['temp_nulos_no_dia'] = (\n",
    "    df_sensor_pedra_guaratiba['temp'].isnull()\n",
    "    .groupby(df_sensor_pedra_guaratiba['data_formatada'])\n",
    "    .transform('sum')  # Soma os nulos por dia e repete o valor em todas as linhas do dia\n",
    ")"
   ]
  },
  {
   "cell_type": "code",
   "execution_count": 19,
   "metadata": {
    "cellView": "form",
    "colab": {
     "base_uri": "https://localhost:8080/",
     "height": 0
    },
    "executionInfo": {
     "elapsed": 172,
     "status": "ok",
     "timestamp": 1750346256378,
     "user": {
      "displayName": "João Terêncio",
      "userId": "14302965054076037047"
     },
     "user_tz": 180
    },
    "id": "H54zUgYSJYeY",
    "outputId": "4dd28c03-43d9-4ec3-e342-91754d896940"
   },
   "outputs": [
    {
     "data": {
      "image/png": "[encoded data removed]",
      "text/plain": [
       "<Figure size 1000x600 with 1 Axes>"
      ]
     },
     "metadata": {},
     "output_type": "display_data"
    }
   ],
   "source": [
    "#@title Distribuição dos valores vazios\n",
    "\n",
    "# Seleciona uma única linha por dia, para evitar repetição\n",
    "df_dias = df_sensor_pedra_guaratiba[df_sensor_pedra_guaratiba['temp_nulos_no_dia'] != 0].groupby('data_formatada')['temp_nulos_no_dia'].first()\n",
    "\n",
    "# Plotar o histograma da contagem de valores nulos por dia\n",
    "plt.figure(figsize=(10,6))\n",
    "plt.hist(df_dias, bins=range(0, df_dias.max() + 2), edgecolor='black', align='left')\n",
    "plt.title('Histograma de Quantidade de Valores Vazios em \"temp\" por Dia')\n",
    "plt.xlabel('Quantidade de valores vazios no dia')\n",
    "plt.ylabel('Número de dias')\n",
    "plt.xticks(range(0, df_dias.max() + 1))\n",
    "plt.grid(axis='y', alpha=0.75)\n",
    "plt.show()"
   ]
  },
  {
   "cell_type": "code",
   "execution_count": 20,
   "metadata": {
    "cellView": "form",
    "colab": {
     "base_uri": "https://localhost:8080/"
    },
    "executionInfo": {
     "elapsed": 32,
     "status": "ok",
     "timestamp": 1750346256404,
     "user": {
      "displayName": "João Terêncio",
      "userId": "14302965054076037047"
     },
     "user_tz": 180
    },
    "id": "2sCGqFWvJYeY",
    "outputId": "426fc360-82eb-412e-a170-437451d92c89"
   },
   "outputs": [
    {
     "name": "stdout",
     "output_type": "stream",
     "text": [
      "455 linhas foram preenchidas com interpolate na coluna 'temp'.\n",
      "Foram preenchido 4% de dados\n"
     ]
    }
   ],
   "source": [
    "#@title Preenchimento dos valores nulos utilizando a função interpolate (Preenchendo apenas os que tem menos de 7 linhas vazias por dia)\n",
    "\n",
    "mask = (df_sensor_pedra_guaratiba['temp_nulos_no_dia'] <= 6)\n",
    "\n",
    "num_nulls = df_sensor_pedra_guaratiba[mask]['temp'].isnull().sum()\n",
    "df_sensor_pedra_guaratiba.loc[mask, 'temp'] = df_sensor_pedra_guaratiba[mask]['temp'].interpolate()\n",
    "print(f\"{num_nulls} linhas foram preenchidas com interpolate na coluna 'temp'.\")\n",
    "print(f\"Foram preenchido {round((num_nulls/valroes_vazio)*100)}% de dados\")"
   ]
  },
  {
   "cell_type": "code",
   "execution_count": 21,
   "metadata": {
    "colab": {
     "base_uri": "https://localhost:8080/",
     "height": 0
    },
    "executionInfo": {
     "elapsed": 22,
     "status": "ok",
     "timestamp": 1750346256414,
     "user": {
      "displayName": "João Terêncio",
      "userId": "14302965054076037047"
     },
     "user_tz": 180
    },
    "id": "2KWSCe6RJYeY",
    "outputId": "609d90b7-a461-4fd1-fd5a-59feeab3a0a9"
   },
   "outputs": [
    {
     "data": {
      "text/html": [
       "<div>\n",
       "<style scoped>\n",
       "    .dataframe tbody tr th:only-of-type {\n",
       "        vertical-align: middle;\n",
       "    }\n",
       "\n",
       "    .dataframe tbody tr th {\n",
       "        vertical-align: top;\n",
       "    }\n",
       "\n",
       "    .dataframe thead th {\n",
       "        text-align: right;\n",
       "    }\n",
       "</style>\n",
       "<table border=\"1\" class=\"dataframe\">\n",
       "  <thead>\n",
       "    <tr style=\"text-align: right;\">\n",
       "      <th></th>\n",
       "      <th>temp</th>\n",
       "    </tr>\n",
       "  </thead>\n",
       "  <tbody>\n",
       "    <tr>\n",
       "      <th>count</th>\n",
       "      <td>103317.000000</td>\n",
       "    </tr>\n",
       "    <tr>\n",
       "      <th>mean</th>\n",
       "      <td>25.625435</td>\n",
       "    </tr>\n",
       "    <tr>\n",
       "      <th>std</th>\n",
       "      <td>4.299347</td>\n",
       "    </tr>\n",
       "    <tr>\n",
       "      <th>min</th>\n",
       "      <td>0.000000</td>\n",
       "    </tr>\n",
       "    <tr>\n",
       "      <th>25%</th>\n",
       "      <td>22.630000</td>\n",
       "    </tr>\n",
       "    <tr>\n",
       "      <th>50%</th>\n",
       "      <td>25.200000</td>\n",
       "    </tr>\n",
       "    <tr>\n",
       "      <th>75%</th>\n",
       "      <td>28.220000</td>\n",
       "    </tr>\n",
       "    <tr>\n",
       "      <th>max</th>\n",
       "      <td>44.730000</td>\n",
       "    </tr>\n",
       "  </tbody>\n",
       "</table>\n",
       "</div><br><label><b>dtype:</b> float64</label>"
      ],
      "text/plain": [
       "count    103317.000000\n",
       "mean         25.625435\n",
       "std           4.299347\n",
       "min           0.000000\n",
       "25%          22.630000\n",
       "50%          25.200000\n",
       "75%          28.220000\n",
       "max          44.730000\n",
       "Name: temp, dtype: float64"
      ]
     },
     "execution_count": 21,
     "metadata": {},
     "output_type": "execute_result"
    }
   ],
   "source": [
    "df_sensor_pedra_guaratiba['temp'].describe()"
   ]
  },
  {
   "cell_type": "markdown",
   "metadata": {
    "id": "Kw4EN6nOJ7wi"
   },
   "source": [
    "### Umidade relativa"
   ]
  },
  {
   "cell_type": "code",
   "execution_count": 22,
   "metadata": {
    "colab": {
     "base_uri": "https://localhost:8080/",
     "height": 0
    },
    "executionInfo": {
     "elapsed": 15,
     "status": "ok",
     "timestamp": 1750346256421,
     "user": {
      "displayName": "João Terêncio",
      "userId": "14302965054076037047"
     },
     "user_tz": 180
    },
    "id": "Zh2KIpc2J7wj",
    "outputId": "c6234f2a-f165-4e6c-99c4-f00093ecb57f"
   },
   "outputs": [
    {
     "data": {
      "text/html": [
       "<div>\n",
       "<style scoped>\n",
       "    .dataframe tbody tr th:only-of-type {\n",
       "        vertical-align: middle;\n",
       "    }\n",
       "\n",
       "    .dataframe tbody tr th {\n",
       "        vertical-align: top;\n",
       "    }\n",
       "\n",
       "    .dataframe thead th {\n",
       "        text-align: right;\n",
       "    }\n",
       "</style>\n",
       "<table border=\"1\" class=\"dataframe\">\n",
       "  <thead>\n",
       "    <tr style=\"text-align: right;\">\n",
       "      <th></th>\n",
       "      <th>ur</th>\n",
       "    </tr>\n",
       "  </thead>\n",
       "  <tbody>\n",
       "    <tr>\n",
       "      <th>count</th>\n",
       "      <td>74819.000000</td>\n",
       "    </tr>\n",
       "    <tr>\n",
       "      <th>mean</th>\n",
       "      <td>77.004265</td>\n",
       "    </tr>\n",
       "    <tr>\n",
       "      <th>std</th>\n",
       "      <td>16.945815</td>\n",
       "    </tr>\n",
       "    <tr>\n",
       "      <th>min</th>\n",
       "      <td>5.500000</td>\n",
       "    </tr>\n",
       "    <tr>\n",
       "      <th>25%</th>\n",
       "      <td>65.430000</td>\n",
       "    </tr>\n",
       "    <tr>\n",
       "      <th>50%</th>\n",
       "      <td>79.970000</td>\n",
       "    </tr>\n",
       "    <tr>\n",
       "      <th>75%</th>\n",
       "      <td>91.000000</td>\n",
       "    </tr>\n",
       "    <tr>\n",
       "      <th>max</th>\n",
       "      <td>100.000000</td>\n",
       "    </tr>\n",
       "  </tbody>\n",
       "</table>\n",
       "</div><br><label><b>dtype:</b> float64</label>"
      ],
      "text/plain": [
       "count    74819.000000\n",
       "mean        77.004265\n",
       "std         16.945815\n",
       "min          5.500000\n",
       "25%         65.430000\n",
       "50%         79.970000\n",
       "75%         91.000000\n",
       "max        100.000000\n",
       "Name: ur, dtype: float64"
      ]
     },
     "execution_count": 22,
     "metadata": {},
     "output_type": "execute_result"
    }
   ],
   "source": [
    "df_sensor_pedra_guaratiba['ur'].describe()"
   ]
  },
  {
   "cell_type": "code",
   "execution_count": 23,
   "metadata": {
    "cellView": "form",
    "colab": {
     "base_uri": "https://localhost:8080/"
    },
    "executionInfo": {
     "elapsed": 11,
     "status": "ok",
     "timestamp": 1750346256431,
     "user": {
      "displayName": "João Terêncio",
      "userId": "14302965054076037047"
     },
     "user_tz": 180
    },
    "id": "p6gLkSsQJ7wk",
    "outputId": "097dee06-c469-4522-b263-3c2b56c20e61"
   },
   "outputs": [
    {
     "name": "stdout",
     "output_type": "stream",
     "text": [
      "Quantidade de valores vazios: 39073\n"
     ]
    }
   ],
   "source": [
    "#@title Vendo quantidade de valores vazios\n",
    "\n",
    "valroes_vazio = df_sensor_pedra_guaratiba[df_sensor_pedra_guaratiba['ur'].isnull()].groupby(['ano', 'mes']).size().sum()\n",
    "print(f\"Quantidade de valores vazios: {valroes_vazio}\")"
   ]
  },
  {
   "cell_type": "code",
   "execution_count": 24,
   "metadata": {
    "cellView": "form",
    "colab": {
     "base_uri": "https://localhost:8080/"
    },
    "executionInfo": {
     "elapsed": 9,
     "status": "ok",
     "timestamp": 1750346256444,
     "user": {
      "displayName": "João Terêncio",
      "userId": "14302965054076037047"
     },
     "user_tz": 180
    },
    "id": "p6USmMKRJ7wk",
    "outputId": "0edac3e0-11a7-4464-8f45-73573c229649"
   },
   "outputs": [
    {
     "name": "stderr",
     "output_type": "stream",
     "text": [
      "/tmp/ipython-input-24-2920449749.py:3: SettingWithCopyWarning: \n",
      "A value is trying to be set on a copy of a slice from a DataFrame.\n",
      "Try using .loc[row_indexer,col_indexer] = value instead\n",
      "\n",
      "See the caveats in the documentation: https://pandas.pydata.org/pandas-docs/stable/user_guide/indexing.html#returning-a-view-versus-a-copy\n",
      "  df_sensor_pedra_guaratiba['ur_nulos_no_dia'] = (\n"
     ]
    }
   ],
   "source": [
    "#@title Criando coluna que informa a quantidade de valores vazios por dia\n",
    "\n",
    "df_sensor_pedra_guaratiba['ur_nulos_no_dia'] = (\n",
    "    df_sensor_pedra_guaratiba['ur'].isnull()\n",
    "    .groupby(df_sensor_pedra_guaratiba['data_formatada'])\n",
    "    .transform('sum')  # Soma os nulos por dia e repete o valor em todas as linhas do dia\n",
    ")"
   ]
  },
  {
   "cell_type": "code",
   "execution_count": 25,
   "metadata": {
    "cellView": "form",
    "colab": {
     "base_uri": "https://localhost:8080/",
     "height": 0
    },
    "executionInfo": {
     "elapsed": 267,
     "status": "ok",
     "timestamp": 1750346256714,
     "user": {
      "displayName": "João Terêncio",
      "userId": "14302965054076037047"
     },
     "user_tz": 180
    },
    "id": "eq-mDiJGJ7wk",
    "outputId": "ae3f0ecc-352a-4619-8ca4-f0d238be7684"
   },
   "outputs": [
    {
     "data": {
      "image/png": "[encoded data removed]",
      "text/plain": [
       "<Figure size 1000x600 with 1 Axes>"
      ]
     },
     "metadata": {},
     "output_type": "display_data"
    }
   ],
   "source": [
    "#@title Distribuição dos valores vazios\n",
    "\n",
    "# Seleciona uma única linha por dia, para evitar repetição\n",
    "df_dias = df_sensor_pedra_guaratiba[df_sensor_pedra_guaratiba['ur_nulos_no_dia'] != 0].groupby('data_formatada')['ur_nulos_no_dia'].first()\n",
    "\n",
    "# Plotar o histograma da contagem de valores nulos por dia\n",
    "plt.figure(figsize=(10,6))\n",
    "plt.hist(df_dias, bins=range(0, df_dias.max() + 2), edgecolor='black', align='left')\n",
    "plt.title('Histograma de Quantidade de Valores Vazios em \"ur\" por Dia')\n",
    "plt.xlabel('Quantidade de valores vazios no dia')\n",
    "plt.ylabel('Número de dias')\n",
    "plt.xticks(range(0, df_dias.max() + 1))\n",
    "plt.grid(axis='y', alpha=0.75)\n",
    "plt.show()"
   ]
  },
  {
   "cell_type": "code",
   "execution_count": 26,
   "metadata": {
    "cellView": "form",
    "colab": {
     "base_uri": "https://localhost:8080/"
    },
    "executionInfo": {
     "elapsed": 18,
     "status": "ok",
     "timestamp": 1750346256748,
     "user": {
      "displayName": "João Terêncio",
      "userId": "14302965054076037047"
     },
     "user_tz": 180
    },
    "id": "wwI_91-_J7wk",
    "outputId": "bae3280c-b57a-4eb4-8196-e88a0d0bb18f"
   },
   "outputs": [
    {
     "name": "stdout",
     "output_type": "stream",
     "text": [
      "566 linhas foram preenchidas com interpolate na coluna 'ur'.\n",
      "Foram preenchido 1% de dados\n"
     ]
    }
   ],
   "source": [
    "#@title Preenchimento dos valores nulos utilizando a função interpolate (Preenchendo apenas os que tem menos de 7 linhas vazias por dia)\n",
    "\n",
    "mask = (df_sensor_pedra_guaratiba['ur_nulos_no_dia'] <= 6)\n",
    "\n",
    "num_nulls = df_sensor_pedra_guaratiba[mask]['ur'].isnull().sum()\n",
    "df_sensor_pedra_guaratiba.loc[mask, 'ur'] = df_sensor_pedra_guaratiba[mask]['ur'].interpolate()\n",
    "print(f\"{num_nulls} linhas foram preenchidas com interpolate na coluna 'ur'.\")\n",
    "print(f\"Foram preenchido {round((num_nulls/valroes_vazio)*100)}% de dados\")"
   ]
  },
  {
   "cell_type": "code",
   "execution_count": 27,
   "metadata": {
    "colab": {
     "base_uri": "https://localhost:8080/",
     "height": 0
    },
    "executionInfo": {
     "elapsed": 11,
     "status": "ok",
     "timestamp": 1750346256764,
     "user": {
      "displayName": "João Terêncio",
      "userId": "14302965054076037047"
     },
     "user_tz": 180
    },
    "id": "pgz04UK9J7wl",
    "outputId": "b5a90e4a-1d7c-4e89-e273-7d2446bfdb69"
   },
   "outputs": [
    {
     "data": {
      "text/html": [
       "<div>\n",
       "<style scoped>\n",
       "    .dataframe tbody tr th:only-of-type {\n",
       "        vertical-align: middle;\n",
       "    }\n",
       "\n",
       "    .dataframe tbody tr th {\n",
       "        vertical-align: top;\n",
       "    }\n",
       "\n",
       "    .dataframe thead th {\n",
       "        text-align: right;\n",
       "    }\n",
       "</style>\n",
       "<table border=\"1\" class=\"dataframe\">\n",
       "  <thead>\n",
       "    <tr style=\"text-align: right;\">\n",
       "      <th></th>\n",
       "      <th>ur</th>\n",
       "    </tr>\n",
       "  </thead>\n",
       "  <tbody>\n",
       "    <tr>\n",
       "      <th>count</th>\n",
       "      <td>75385.000000</td>\n",
       "    </tr>\n",
       "    <tr>\n",
       "      <th>mean</th>\n",
       "      <td>77.060473</td>\n",
       "    </tr>\n",
       "    <tr>\n",
       "      <th>std</th>\n",
       "      <td>16.955757</td>\n",
       "    </tr>\n",
       "    <tr>\n",
       "      <th>min</th>\n",
       "      <td>5.500000</td>\n",
       "    </tr>\n",
       "    <tr>\n",
       "      <th>25%</th>\n",
       "      <td>65.480000</td>\n",
       "    </tr>\n",
       "    <tr>\n",
       "      <th>50%</th>\n",
       "      <td>80.070000</td>\n",
       "    </tr>\n",
       "    <tr>\n",
       "      <th>75%</th>\n",
       "      <td>91.080000</td>\n",
       "    </tr>\n",
       "    <tr>\n",
       "      <th>max</th>\n",
       "      <td>100.000000</td>\n",
       "    </tr>\n",
       "  </tbody>\n",
       "</table>\n",
       "</div><br><label><b>dtype:</b> float64</label>"
      ],
      "text/plain": [
       "count    75385.000000\n",
       "mean        77.060473\n",
       "std         16.955757\n",
       "min          5.500000\n",
       "25%         65.480000\n",
       "50%         80.070000\n",
       "75%         91.080000\n",
       "max        100.000000\n",
       "Name: ur, dtype: float64"
      ]
     },
     "execution_count": 27,
     "metadata": {},
     "output_type": "execute_result"
    }
   ],
   "source": [
    "df_sensor_pedra_guaratiba['ur'].describe()"
   ]
  },
  {
   "cell_type": "markdown",
   "metadata": {
    "id": "DP-WWSHfNYCk"
   },
   "source": [
    "### Ozônio"
   ]
  },
  {
   "cell_type": "code",
   "execution_count": 28,
   "metadata": {
    "colab": {
     "base_uri": "https://localhost:8080/",
     "height": 0
    },
    "executionInfo": {
     "elapsed": 8,
     "status": "ok",
     "timestamp": 1750346256774,
     "user": {
      "displayName": "João Terêncio",
      "userId": "14302965054076037047"
     },
     "user_tz": 180
    },
    "id": "5Wx7SPTJNYCl",
    "outputId": "4b9d14bf-0a7c-4c31-84db-66d279d9e172"
   },
   "outputs": [
    {
     "data": {
      "text/html": [
       "<div>\n",
       "<style scoped>\n",
       "    .dataframe tbody tr th:only-of-type {\n",
       "        vertical-align: middle;\n",
       "    }\n",
       "\n",
       "    .dataframe tbody tr th {\n",
       "        vertical-align: top;\n",
       "    }\n",
       "\n",
       "    .dataframe thead th {\n",
       "        text-align: right;\n",
       "    }\n",
       "</style>\n",
       "<table border=\"1\" class=\"dataframe\">\n",
       "  <thead>\n",
       "    <tr style=\"text-align: right;\">\n",
       "      <th></th>\n",
       "      <th>o3</th>\n",
       "    </tr>\n",
       "  </thead>\n",
       "  <tbody>\n",
       "    <tr>\n",
       "      <th>count</th>\n",
       "      <td>101156.000000</td>\n",
       "    </tr>\n",
       "    <tr>\n",
       "      <th>mean</th>\n",
       "      <td>47.525633</td>\n",
       "    </tr>\n",
       "    <tr>\n",
       "      <th>std</th>\n",
       "      <td>30.819644</td>\n",
       "    </tr>\n",
       "    <tr>\n",
       "      <th>min</th>\n",
       "      <td>0.000000</td>\n",
       "    </tr>\n",
       "    <tr>\n",
       "      <th>25%</th>\n",
       "      <td>23.650000</td>\n",
       "    </tr>\n",
       "    <tr>\n",
       "      <th>50%</th>\n",
       "      <td>46.085000</td>\n",
       "    </tr>\n",
       "    <tr>\n",
       "      <th>75%</th>\n",
       "      <td>66.290000</td>\n",
       "    </tr>\n",
       "    <tr>\n",
       "      <th>max</th>\n",
       "      <td>262.650000</td>\n",
       "    </tr>\n",
       "  </tbody>\n",
       "</table>\n",
       "</div><br><label><b>dtype:</b> float64</label>"
      ],
      "text/plain": [
       "count    101156.000000\n",
       "mean         47.525633\n",
       "std          30.819644\n",
       "min           0.000000\n",
       "25%          23.650000\n",
       "50%          46.085000\n",
       "75%          66.290000\n",
       "max         262.650000\n",
       "Name: o3, dtype: float64"
      ]
     },
     "execution_count": 28,
     "metadata": {},
     "output_type": "execute_result"
    }
   ],
   "source": [
    "df_sensor_pedra_guaratiba['o3'].describe()"
   ]
  },
  {
   "cell_type": "code",
   "execution_count": 29,
   "metadata": {
    "cellView": "form",
    "colab": {
     "base_uri": "https://localhost:8080/"
    },
    "executionInfo": {
     "elapsed": 35,
     "status": "ok",
     "timestamp": 1750346256812,
     "user": {
      "displayName": "João Terêncio",
      "userId": "14302965054076037047"
     },
     "user_tz": 180
    },
    "id": "kXhRQEmoNYCn",
    "outputId": "692816fe-ec31-43f8-ba4e-04d4d6e45062"
   },
   "outputs": [
    {
     "name": "stdout",
     "output_type": "stream",
     "text": [
      "Quantidade de valores vazios: 12736\n"
     ]
    }
   ],
   "source": [
    "#@title Vendo quantidade de valores vazios\n",
    "\n",
    "valroes_vazio = df_sensor_pedra_guaratiba[df_sensor_pedra_guaratiba['o3'].isnull()].groupby(['ano', 'mes']).size().sum()\n",
    "print(f\"Quantidade de valores vazios: {valroes_vazio}\")"
   ]
  },
  {
   "cell_type": "code",
   "execution_count": 30,
   "metadata": {
    "cellView": "form",
    "colab": {
     "base_uri": "https://localhost:8080/"
    },
    "executionInfo": {
     "elapsed": 16,
     "status": "ok",
     "timestamp": 1750346256831,
     "user": {
      "displayName": "João Terêncio",
      "userId": "14302965054076037047"
     },
     "user_tz": 180
    },
    "id": "cJBoN4cMNYCn",
    "outputId": "b1b2dfb1-5d36-4d0c-ae77-ee291e10b1ef"
   },
   "outputs": [
    {
     "name": "stderr",
     "output_type": "stream",
     "text": [
      "/tmp/ipython-input-30-2025582274.py:3: SettingWithCopyWarning: \n",
      "A value is trying to be set on a copy of a slice from a DataFrame.\n",
      "Try using .loc[row_indexer,col_indexer] = value instead\n",
      "\n",
      "See the caveats in the documentation: https://pandas.pydata.org/pandas-docs/stable/user_guide/indexing.html#returning-a-view-versus-a-copy\n",
      "  df_sensor_pedra_guaratiba['o3_nulos_no_dia'] = (\n"
     ]
    }
   ],
   "source": [
    "#@title Criando coluna que informa a quantidade de valores vazios por dia\n",
    "\n",
    "df_sensor_pedra_guaratiba['o3_nulos_no_dia'] = (\n",
    "    df_sensor_pedra_guaratiba['o3'].isnull()\n",
    "    .groupby(df_sensor_pedra_guaratiba['data_formatada'])\n",
    "    .transform('sum')  # Soma os nulos por dia e repete o valor em todas as linhas do dia\n",
    ")"
   ]
  },
  {
   "cell_type": "code",
   "execution_count": 31,
   "metadata": {
    "cellView": "form",
    "colab": {
     "base_uri": "https://localhost:8080/",
     "height": 0
    },
    "executionInfo": {
     "elapsed": 413,
     "status": "ok",
     "timestamp": 1750346257239,
     "user": {
      "displayName": "João Terêncio",
      "userId": "14302965054076037047"
     },
     "user_tz": 180
    },
    "id": "Q1ZG0wIONYCn",
    "outputId": "1845bb79-512b-4579-db62-73e74ca75bb6"
   },
   "outputs": [
    {
     "data": {
      "image/png": "[encoded data removed]",
      "text/plain": [
       "<Figure size 1000x600 with 1 Axes>"
      ]
     },
     "metadata": {},
     "output_type": "display_data"
    }
   ],
   "source": [
    "#@title Distribuição dos valores vazios\n",
    "\n",
    "# Seleciona uma única linha por dia, para evitar repetição\n",
    "df_dias = df_sensor_pedra_guaratiba[df_sensor_pedra_guaratiba['o3_nulos_no_dia'] != 0].groupby('data_formatada')['o3_nulos_no_dia'].first()\n",
    "\n",
    "# Plotar o histograma da contagem de valores nulos por dia\n",
    "plt.figure(figsize=(10,6))\n",
    "plt.hist(df_dias, bins=range(0, df_dias.max() + 2), edgecolor='black', align='left')\n",
    "plt.title(\"Histograma de Quantidade de Valores Vazios em 'o3' por Dia\")\n",
    "plt.xlabel('Quantidade de valores vazios no dia')\n",
    "plt.ylabel('Número de dias')\n",
    "plt.xticks(range(0, df_dias.max() + 1))\n",
    "plt.grid(axis='y', alpha=0.75)\n",
    "plt.show()"
   ]
  },
  {
   "cell_type": "code",
   "execution_count": 32,
   "metadata": {
    "cellView": "form",
    "colab": {
     "base_uri": "https://localhost:8080/"
    },
    "executionInfo": {
     "elapsed": 16,
     "status": "ok",
     "timestamp": 1750346257257,
     "user": {
      "displayName": "João Terêncio",
      "userId": "14302965054076037047"
     },
     "user_tz": 180
    },
    "id": "KQwJwPLrNYCo",
    "outputId": "1e122fe0-ffda-42ea-aebe-73d378a2c61f"
   },
   "outputs": [
    {
     "name": "stdout",
     "output_type": "stream",
     "text": [
      "1375 linhas foram preenchidas com interpolate na coluna 'o3'.\n",
      "Foram preenchido 11% de dados\n"
     ]
    }
   ],
   "source": [
    "#@title Preenchimento dos valores nulos utilizando a função interpolate (Preenchendo apenas os que tem menos de 7 linhas vazias por dia)\n",
    "\n",
    "mask = (df_sensor_pedra_guaratiba['o3_nulos_no_dia'] <= 6)\n",
    "\n",
    "num_nulls = df_sensor_pedra_guaratiba[mask]['o3'].isnull().sum()\n",
    "df_sensor_pedra_guaratiba.loc[mask, 'o3'] = df_sensor_pedra_guaratiba[mask]['o3'].interpolate()\n",
    "print(f\"{num_nulls} linhas foram preenchidas com interpolate na coluna 'o3'.\")\n",
    "print(f\"Foram preenchido {round((num_nulls/valroes_vazio)*100)}% de dados\")"
   ]
  },
  {
   "cell_type": "code",
   "execution_count": 33,
   "metadata": {
    "colab": {
     "base_uri": "https://localhost:8080/",
     "height": 0
    },
    "executionInfo": {
     "elapsed": 8,
     "status": "ok",
     "timestamp": 1750346257268,
     "user": {
      "displayName": "João Terêncio",
      "userId": "14302965054076037047"
     },
     "user_tz": 180
    },
    "id": "8dJ2VLO3NYCp",
    "outputId": "7921899a-dbf9-4dc5-8f5c-0f3348577da4"
   },
   "outputs": [
    {
     "data": {
      "text/html": [
       "<div>\n",
       "<style scoped>\n",
       "    .dataframe tbody tr th:only-of-type {\n",
       "        vertical-align: middle;\n",
       "    }\n",
       "\n",
       "    .dataframe tbody tr th {\n",
       "        vertical-align: top;\n",
       "    }\n",
       "\n",
       "    .dataframe thead th {\n",
       "        text-align: right;\n",
       "    }\n",
       "</style>\n",
       "<table border=\"1\" class=\"dataframe\">\n",
       "  <thead>\n",
       "    <tr style=\"text-align: right;\">\n",
       "      <th></th>\n",
       "      <th>o3</th>\n",
       "    </tr>\n",
       "  </thead>\n",
       "  <tbody>\n",
       "    <tr>\n",
       "      <th>count</th>\n",
       "      <td>102531.000000</td>\n",
       "    </tr>\n",
       "    <tr>\n",
       "      <th>mean</th>\n",
       "      <td>47.530154</td>\n",
       "    </tr>\n",
       "    <tr>\n",
       "      <th>std</th>\n",
       "      <td>30.807380</td>\n",
       "    </tr>\n",
       "    <tr>\n",
       "      <th>min</th>\n",
       "      <td>0.000000</td>\n",
       "    </tr>\n",
       "    <tr>\n",
       "      <th>25%</th>\n",
       "      <td>23.670000</td>\n",
       "    </tr>\n",
       "    <tr>\n",
       "      <th>50%</th>\n",
       "      <td>46.110000</td>\n",
       "    </tr>\n",
       "    <tr>\n",
       "      <th>75%</th>\n",
       "      <td>66.290000</td>\n",
       "    </tr>\n",
       "    <tr>\n",
       "      <th>max</th>\n",
       "      <td>262.650000</td>\n",
       "    </tr>\n",
       "  </tbody>\n",
       "</table>\n",
       "</div><br><label><b>dtype:</b> float64</label>"
      ],
      "text/plain": [
       "count    102531.000000\n",
       "mean         47.530154\n",
       "std          30.807380\n",
       "min           0.000000\n",
       "25%          23.670000\n",
       "50%          46.110000\n",
       "75%          66.290000\n",
       "max         262.650000\n",
       "Name: o3, dtype: float64"
      ]
     },
     "execution_count": 33,
     "metadata": {},
     "output_type": "execute_result"
    }
   ],
   "source": [
    "df_sensor_pedra_guaratiba['o3'].describe()"
   ]
  },
  {
   "cell_type": "markdown",
   "metadata": {
    "id": "x_EfKxffNz6H"
   },
   "source": [
    "### PM10"
   ]
  },
  {
   "cell_type": "code",
   "execution_count": 34,
   "metadata": {
    "colab": {
     "base_uri": "https://localhost:8080/",
     "height": 0
    },
    "executionInfo": {
     "elapsed": 33,
     "status": "ok",
     "timestamp": 1750346257305,
     "user": {
      "displayName": "João Terêncio",
      "userId": "14302965054076037047"
     },
     "user_tz": 180
    },
    "id": "PwaB2u12Nz6H",
    "outputId": "0857e712-1b7e-4eac-eb47-7d0766d02fc0"
   },
   "outputs": [
    {
     "data": {
      "text/html": [
       "<div>\n",
       "<style scoped>\n",
       "    .dataframe tbody tr th:only-of-type {\n",
       "        vertical-align: middle;\n",
       "    }\n",
       "\n",
       "    .dataframe tbody tr th {\n",
       "        vertical-align: top;\n",
       "    }\n",
       "\n",
       "    .dataframe thead th {\n",
       "        text-align: right;\n",
       "    }\n",
       "</style>\n",
       "<table border=\"1\" class=\"dataframe\">\n",
       "  <thead>\n",
       "    <tr style=\"text-align: right;\">\n",
       "      <th></th>\n",
       "      <th>pm10</th>\n",
       "    </tr>\n",
       "  </thead>\n",
       "  <tbody>\n",
       "    <tr>\n",
       "      <th>count</th>\n",
       "      <td>99999.000000</td>\n",
       "    </tr>\n",
       "    <tr>\n",
       "      <th>mean</th>\n",
       "      <td>33.685757</td>\n",
       "    </tr>\n",
       "    <tr>\n",
       "      <th>std</th>\n",
       "      <td>25.022913</td>\n",
       "    </tr>\n",
       "    <tr>\n",
       "      <th>min</th>\n",
       "      <td>0.000000</td>\n",
       "    </tr>\n",
       "    <tr>\n",
       "      <th>25%</th>\n",
       "      <td>18.000000</td>\n",
       "    </tr>\n",
       "    <tr>\n",
       "      <th>50%</th>\n",
       "      <td>28.000000</td>\n",
       "    </tr>\n",
       "    <tr>\n",
       "      <th>75%</th>\n",
       "      <td>42.000000</td>\n",
       "    </tr>\n",
       "    <tr>\n",
       "      <th>max</th>\n",
       "      <td>588.000000</td>\n",
       "    </tr>\n",
       "  </tbody>\n",
       "</table>\n",
       "</div><br><label><b>dtype:</b> float64</label>"
      ],
      "text/plain": [
       "count    99999.000000\n",
       "mean        33.685757\n",
       "std         25.022913\n",
       "min          0.000000\n",
       "25%         18.000000\n",
       "50%         28.000000\n",
       "75%         42.000000\n",
       "max        588.000000\n",
       "Name: pm10, dtype: float64"
      ]
     },
     "execution_count": 34,
     "metadata": {},
     "output_type": "execute_result"
    }
   ],
   "source": [
    "df_sensor_pedra_guaratiba['pm10'].describe()"
   ]
  },
  {
   "cell_type": "code",
   "execution_count": 35,
   "metadata": {
    "cellView": "form",
    "colab": {
     "base_uri": "https://localhost:8080/"
    },
    "executionInfo": {
     "elapsed": 28,
     "status": "ok",
     "timestamp": 1750346257306,
     "user": {
      "displayName": "João Terêncio",
      "userId": "14302965054076037047"
     },
     "user_tz": 180
    },
    "id": "2DgViHnxNz6I",
    "outputId": "75871f64-2ee9-49c8-83fb-3350f246eadc"
   },
   "outputs": [
    {
     "name": "stdout",
     "output_type": "stream",
     "text": [
      "Quantidade de valores vazios: 13893\n"
     ]
    }
   ],
   "source": [
    "#@title Vendo quantidade de valores vazios\n",
    "\n",
    "valroes_vazio = df_sensor_pedra_guaratiba[df_sensor_pedra_guaratiba['pm10'].isnull()].groupby(['ano', 'mes']).size().sum()\n",
    "print(f\"Quantidade de valores vazios: {valroes_vazio}\")"
   ]
  },
  {
   "cell_type": "code",
   "execution_count": 36,
   "metadata": {
    "cellView": "form",
    "colab": {
     "base_uri": "https://localhost:8080/"
    },
    "executionInfo": {
     "elapsed": 17,
     "status": "ok",
     "timestamp": 1750346257306,
     "user": {
      "displayName": "João Terêncio",
      "userId": "14302965054076037047"
     },
     "user_tz": 180
    },
    "id": "C4E1ad35Nz6I",
    "outputId": "9c89d5d8-1027-4604-b0fb-01df5870527e"
   },
   "outputs": [
    {
     "name": "stderr",
     "output_type": "stream",
     "text": [
      "/tmp/ipython-input-36-931347283.py:3: SettingWithCopyWarning: \n",
      "A value is trying to be set on a copy of a slice from a DataFrame.\n",
      "Try using .loc[row_indexer,col_indexer] = value instead\n",
      "\n",
      "See the caveats in the documentation: https://pandas.pydata.org/pandas-docs/stable/user_guide/indexing.html#returning-a-view-versus-a-copy\n",
      "  df_sensor_pedra_guaratiba['pm10_nulos_no_dia'] = (\n"
     ]
    }
   ],
   "source": [
    "#@title Criando coluna que informa a quantidade de valores vazios por dia\n",
    "\n",
    "df_sensor_pedra_guaratiba['pm10_nulos_no_dia'] = (\n",
    "    df_sensor_pedra_guaratiba['pm10'].isnull()\n",
    "    .groupby(df_sensor_pedra_guaratiba['data_formatada'])\n",
    "    .transform('sum')  # Soma os nulos por dia e repete o valor em todas as linhas do dia\n",
    ")"
   ]
  },
  {
   "cell_type": "code",
   "execution_count": 37,
   "metadata": {
    "cellView": "form",
    "colab": {
     "base_uri": "https://localhost:8080/",
     "height": 0
    },
    "executionInfo": {
     "elapsed": 190,
     "status": "ok",
     "timestamp": 1750346257489,
     "user": {
      "displayName": "João Terêncio",
      "userId": "14302965054076037047"
     },
     "user_tz": 180
    },
    "id": "wimZHi5oNz6I",
    "outputId": "df6bc0dc-9e58-4226-cf10-dabe883d8712"
   },
   "outputs": [
    {
     "data": {
      "image/png": "[encoded data removed]",
      "text/plain": [
       "<Figure size 1000x600 with 1 Axes>"
      ]
     },
     "metadata": {},
     "output_type": "display_data"
    }
   ],
   "source": [
    "#@title Distribuição dos valores vazios\n",
    "\n",
    "# Seleciona uma única linha por dia, para evitar repetição\n",
    "df_dias = df_sensor_pedra_guaratiba[df_sensor_pedra_guaratiba['pm10_nulos_no_dia'] != 0].groupby('data_formatada')['pm10_nulos_no_dia'].first()\n",
    "\n",
    "# Plotar o histograma da contagem de valores nulos por dia\n",
    "plt.figure(figsize=(10,6))\n",
    "plt.hist(df_dias, bins=range(0, df_dias.max() + 2), edgecolor='black', align='left')\n",
    "plt.title(\"Histograma de Quantidade de Valores Vazios em 'pm10' por Dia\")\n",
    "plt.xlabel('Quantidade de valores vazios no dia')\n",
    "plt.ylabel('Número de dias')\n",
    "plt.xticks(range(0, df_dias.max() + 1))\n",
    "plt.grid(axis='y', alpha=0.75)\n",
    "plt.show()"
   ]
  },
  {
   "cell_type": "code",
   "execution_count": 38,
   "metadata": {
    "cellView": "form",
    "colab": {
     "base_uri": "https://localhost:8080/"
    },
    "executionInfo": {
     "elapsed": 21,
     "status": "ok",
     "timestamp": 1750346257508,
     "user": {
      "displayName": "João Terêncio",
      "userId": "14302965054076037047"
     },
     "user_tz": 180
    },
    "id": "OA2D_-XPNz6I",
    "outputId": "da6726ac-4d42-45ed-9ec2-0d2848a3cbdb"
   },
   "outputs": [
    {
     "name": "stdout",
     "output_type": "stream",
     "text": [
      "1720 linhas foram preenchidas com interpolate na coluna 'pm10'.\n",
      "Foram preenchido 12% de dados\n"
     ]
    }
   ],
   "source": [
    "#@title Preenchimento dos valores nulos utilizando a função interpolate (Preenchendo apenas os que tem menos de 7 linhas vazias por dia)\n",
    "\n",
    "mask = (df_sensor_pedra_guaratiba['pm10_nulos_no_dia'] <= 6)\n",
    "\n",
    "num_nulls = df_sensor_pedra_guaratiba[mask]['pm10'].isnull().sum()\n",
    "df_sensor_pedra_guaratiba.loc[mask, 'pm10'] = df_sensor_pedra_guaratiba[mask]['pm10'].interpolate()\n",
    "print(f\"{num_nulls} linhas foram preenchidas com interpolate na coluna 'pm10'.\")\n",
    "print(f\"Foram preenchido {round((num_nulls/valroes_vazio)*100)}% de dados\")"
   ]
  },
  {
   "cell_type": "code",
   "execution_count": 39,
   "metadata": {
    "colab": {
     "base_uri": "https://localhost:8080/",
     "height": 0
    },
    "executionInfo": {
     "elapsed": 42,
     "status": "ok",
     "timestamp": 1750346257542,
     "user": {
      "displayName": "João Terêncio",
      "userId": "14302965054076037047"
     },
     "user_tz": 180
    },
    "id": "KmM4M2pDNz6I",
    "outputId": "b13ee954-6faf-401e-8f7b-6ed79be31b61"
   },
   "outputs": [
    {
     "data": {
      "text/html": [
       "<div>\n",
       "<style scoped>\n",
       "    .dataframe tbody tr th:only-of-type {\n",
       "        vertical-align: middle;\n",
       "    }\n",
       "\n",
       "    .dataframe tbody tr th {\n",
       "        vertical-align: top;\n",
       "    }\n",
       "\n",
       "    .dataframe thead th {\n",
       "        text-align: right;\n",
       "    }\n",
       "</style>\n",
       "<table border=\"1\" class=\"dataframe\">\n",
       "  <thead>\n",
       "    <tr style=\"text-align: right;\">\n",
       "      <th></th>\n",
       "      <th>pm10</th>\n",
       "    </tr>\n",
       "  </thead>\n",
       "  <tbody>\n",
       "    <tr>\n",
       "      <th>count</th>\n",
       "      <td>101719.000000</td>\n",
       "    </tr>\n",
       "    <tr>\n",
       "      <th>mean</th>\n",
       "      <td>33.690687</td>\n",
       "    </tr>\n",
       "    <tr>\n",
       "      <th>std</th>\n",
       "      <td>25.013059</td>\n",
       "    </tr>\n",
       "    <tr>\n",
       "      <th>min</th>\n",
       "      <td>0.000000</td>\n",
       "    </tr>\n",
       "    <tr>\n",
       "      <th>25%</th>\n",
       "      <td>18.000000</td>\n",
       "    </tr>\n",
       "    <tr>\n",
       "      <th>50%</th>\n",
       "      <td>28.000000</td>\n",
       "    </tr>\n",
       "    <tr>\n",
       "      <th>75%</th>\n",
       "      <td>42.000000</td>\n",
       "    </tr>\n",
       "    <tr>\n",
       "      <th>max</th>\n",
       "      <td>588.000000</td>\n",
       "    </tr>\n",
       "  </tbody>\n",
       "</table>\n",
       "</div><br><label><b>dtype:</b> float64</label>"
      ],
      "text/plain": [
       "count    101719.000000\n",
       "mean         33.690687\n",
       "std          25.013059\n",
       "min           0.000000\n",
       "25%          18.000000\n",
       "50%          28.000000\n",
       "75%          42.000000\n",
       "max         588.000000\n",
       "Name: pm10, dtype: float64"
      ]
     },
     "execution_count": 39,
     "metadata": {},
     "output_type": "execute_result"
    }
   ],
   "source": [
    "df_sensor_pedra_guaratiba['pm10'].describe()"
   ]
  },
  {
   "cell_type": "code",
   "execution_count": 40,
   "metadata": {
    "colab": {
     "base_uri": "https://localhost:8080/"
    },
    "executionInfo": {
     "elapsed": 17,
     "status": "ok",
     "timestamp": 1750346257543,
     "user": {
      "displayName": "João Terêncio",
      "userId": "14302965054076037047"
     },
     "user_tz": 180
    },
    "id": "ip8wkjtAYHgp",
    "outputId": "b2839094-8685-4979-ac69-98af2f464090"
   },
   "outputs": [
    {
     "name": "stderr",
     "output_type": "stream",
     "text": [
      "/tmp/ipython-input-40-1652398241.py:3: SettingWithCopyWarning: \n",
      "A value is trying to be set on a copy of a slice from a DataFrame\n",
      "\n",
      "See the caveats in the documentation: https://pandas.pydata.org/pandas-docs/stable/user_guide/indexing.html#returning-a-view-versus-a-copy\n",
      "  df_sensor_pedra_guaratiba.drop(columns=droping_columns, inplace=True)\n"
     ]
    }
   ],
   "source": [
    "droping_columns = ['nome_estacao', 'chuva_nulos_no_dia', 'temp_nulos_no_dia', 'ur_nulos_no_dia', 'o3_nulos_no_dia', 'pm10_nulos_no_dia']\n",
    "\n",
    "df_sensor_pedra_guaratiba.drop(columns=droping_columns, inplace=True)"
   ]
  },
  {
   "cell_type": "markdown",
   "metadata": {
    "id": "hc-I_71qbbJO"
   },
   "source": [
    "# Criando nova feature (AQI)\n",
    "\n",
    "| MP₁₀ (µg/m³) 24h | MP₂.₅ (µg/m³) 24h | O₃ (µg/m³) 8h | CO (ppm) 8h | NO₂ (µg/m³) 1h | SO₂ (µg/m³) 24h | Índice | Qualidade do Ar | Efeitos |\n",
    "|------------------|------------------|---------------|-------------|----------------|------------------|--------|------------------|---------|\n",
    "| 0 - 50           | 0 - 25           | 0 - 100       | 0 - 9       | 0 - 200        | 0 - 20           | 0 - 40 | N1 - Boa         | - |\n",
    "| >50 - 100        | >25 - 50         | >100 - 130    | >9 - 11     | >200 - 240     | >20 - 40         | 41 - 80 | N2 - Moderada     | Pessoas de grupos sensíveis (crianças, idosos e pessoas com doenças respiratórias e cardíacas) podem apresentar sintomas como tosse seca e cansaço. A população em geral não é afetada. |\n",
    "| >100 - 150       | >50 - 75         | >130 - 160    | >11 - 13    | >240 - 320     | >40 - 365        | 81 - 120 | N3 - Ruim         | Toda a população pode apresentar sintomas como tosse seca, cansaço, ardor nos olhos, nariz e garganta. Pessoas de grupos sensíveis (crianças, idosos e pessoas com doenças respiratórias e cardíacas) podem apresentar efeitos mais sérios na saúde. |\n",
    "| >150 - 250       | >75 - 125        | >160 - 200    | >13 - 15    | >320 - 1130    | >365 - 800       | 121 - 200 | N4 - Muito Ruim   | Toda a população pode apresentar agravamento dos sintomas como tosse seca, cansaço, ardor nos olhos, nariz e garganta e ainda falta de ar e respiração ofegante. Efeitos ainda mais graves à saúde de grupos sensíveis (crianças, idosos e pessoas com doenças respiratórias e cardíacas). |\n",
    "| >250 - 600       | >125 - 300       | >200 - 800    | >15 - 50    | >1130 - 3750   | >800 - 2620      | 201 - 400 | N5 - Péssima      | Toda a população pode apresentar sérios riscos de manifestações de doenças respiratórias e cardiovasculares. Aumento de mortes prematuras em pessoas de grupos sensíveis. |\n"
   ]
  },
  {
   "cell_type": "code",
   "execution_count": 41,
   "metadata": {
    "executionInfo": {
     "elapsed": 9,
     "status": "ok",
     "timestamp": 1750346257545,
     "user": {
      "displayName": "João Terêncio",
      "userId": "14302965054076037047"
     },
     "user_tz": 180
    },
    "id": "Lq0TMgU68cmo"
   },
   "outputs": [],
   "source": [
    "# Carrega o DataFrame\n",
    "df = df_sensor_pedra_guaratiba.copy()\n",
    "\n",
    "# Converte e ordena\n",
    "df['data'] = pd.to_datetime(df['data'])\n",
    "df = df.sort_values(by='data')"
   ]
  },
  {
   "cell_type": "code",
   "execution_count": 42,
   "metadata": {
    "executionInfo": {
     "elapsed": 8,
     "status": "ok",
     "timestamp": 1750346257560,
     "user": {
      "displayName": "João Terêncio",
      "userId": "14302965054076037047"
     },
     "user_tz": 180
    },
    "id": "t-NtqXK-8fH9"
   },
   "outputs": [],
   "source": [
    "# Define faixas com interpolação linear (c_low, c_high, i_low, i_high)\n",
    "faixas_aqi = {\n",
    "    'pm10':   [(0, 50, 0, 40), (50, 100, 41, 80), (100, 150, 81, 120), (150, 250, 121, 200), (250, 600, 201, 400)],\n",
    "    'pm2_5':  [(0, 25, 0, 40), (25, 50, 41, 80), (50, 75, 81, 120), (75, 125, 121, 200), (125, 300, 201, 400)],\n",
    "    'o3':     [(0, 100, 0, 40), (100, 130, 41, 80), (130, 160, 81, 120), (160, 200, 121, 200), (200, 800, 201, 400)],\n",
    "    'co':     [(0, 9, 0, 40), (9, 11, 41, 80), (11, 13, 81, 120), (13, 15, 121, 200), (15, 50, 201, 400)],\n",
    "    'no2':    [(0, 200, 0, 40), (200, 240, 41, 80), (240, 320, 81, 120), (320, 1130, 121, 200), (1130, 3750, 201, 400)],\n",
    "    'so2':    [(0, 20, 0, 40), (20, 40, 41, 80), (40, 365, 81, 120), (365, 800, 121, 200), (800, 2620, 201, 400)],\n",
    "}"
   ]
  },
  {
   "cell_type": "code",
   "execution_count": 43,
   "metadata": {
    "executionInfo": {
     "elapsed": 4,
     "status": "ok",
     "timestamp": 1750346257568,
     "user": {
      "displayName": "João Terêncio",
      "userId": "14302965054076037047"
     },
     "user_tz": 180
    },
    "id": "6mY0sI_m8gmP"
   },
   "outputs": [],
   "source": [
    "# Função de interpolação para cálculo contínuo do AQI\n",
    "def calcular_aqi(valor, faixas):\n",
    "    for c_low, c_high, i_low, i_high in faixas:\n",
    "        if c_low <= valor <= c_high:\n",
    "            return ((i_high - i_low) / (c_high - c_low)) * (valor - c_low) + i_low\n",
    "    return np.nan  # Fora das faixas"
   ]
  },
  {
   "cell_type": "code",
   "execution_count": 44,
   "metadata": {
    "executionInfo": {
     "elapsed": 22,
     "status": "ok",
     "timestamp": 1750346257595,
     "user": {
      "displayName": "João Terêncio",
      "userId": "14302965054076037047"
     },
     "user_tz": 180
    },
    "id": "-fSb-Epw8iAT"
   },
   "outputs": [],
   "source": [
    "# Função para média 8h móvel diária (máxima por dia)\n",
    "def media_8h_movel(df, col):\n",
    "    resultados = []\n",
    "    for dia, grupo in df.groupby('data_formatada'):\n",
    "        grupo = grupo.sort_values('data')\n",
    "        grupo = grupo.set_index('data')\n",
    "        rol = grupo[col].rolling('8h', min_periods=6).mean()\n",
    "        max_rol = rol.max()\n",
    "        resultados.append((dia, max_rol))\n",
    "    return pd.Series(dict(resultados))"
   ]
  },
  {
   "cell_type": "code",
   "execution_count": 45,
   "metadata": {
    "executionInfo": {
     "elapsed": 9489,
     "status": "ok",
     "timestamp": 1750346267077,
     "user": {
      "displayName": "João Terêncio",
      "userId": "14302965054076037047"
     },
     "user_tz": 180
    },
    "id": "P19Ow8SB47Ud"
   },
   "outputs": [],
   "source": [
    "# Médias 24h dos poluentes diários\n",
    "df_diario = df.groupby('data_formatada')[['pm10', 'pm2_5', 'so2']].mean()\n",
    "\n",
    "# Médias móveis 8h para O3 e CO\n",
    "o3_8h_max = media_8h_movel(df, 'o3')\n",
    "co_8h_max = media_8h_movel(df, 'co')\n",
    "\n",
    "# NO2: pega maior valor por dia\n",
    "no2_1h_max = df.groupby('data_formatada')['no2'].max()\n",
    "\n",
    "# Monta df_aqi\n",
    "df_aqi = df_diario.copy()\n",
    "df_aqi['o3_8h_max'] = o3_8h_max\n",
    "df_aqi['co_8h_max'] = co_8h_max\n",
    "df_aqi['no2_1h_max'] = no2_1h_max"
   ]
  },
  {
   "cell_type": "code",
   "execution_count": 46,
   "metadata": {
    "executionInfo": {
     "elapsed": 6,
     "status": "ok",
     "timestamp": 1750346267089,
     "user": {
      "displayName": "João Terêncio",
      "userId": "14302965054076037047"
     },
     "user_tz": 180
    },
    "id": "lUPOzj0c8nni"
   },
   "outputs": [],
   "source": [
    "# Aplica cálculo de AQI contínuo por poluente\n",
    "for poluente, faixas in faixas_aqi.items():\n",
    "    col_ref = {\n",
    "        'o3': 'o3_8h_max',\n",
    "        'co': 'co_8h_max',\n",
    "        'no2': 'no2_1h_max'\n",
    "    }.get(poluente, poluente)\n",
    "\n",
    "    df_aqi[f'{poluente}_aqi'] = df_aqi[col_ref].apply(\n",
    "        lambda x: calcular_aqi(x, faixas) if pd.notnull(x) else np.nan\n",
    "    )\n",
    "\n",
    "# AQI final do dia: maior valor entre os poluentes\n",
    "col_aqis = [f'{p}_aqi' for p in ['pm10', 'pm2_5', 'so2', 'o3', 'co', 'no2']]\n",
    "df_aqi['aqi'] = df_aqi[col_aqis].max(axis=1)"
   ]
  },
  {
   "cell_type": "code",
   "execution_count": 47,
   "metadata": {
    "executionInfo": {
     "elapsed": 3,
     "status": "ok",
     "timestamp": 1750346267095,
     "user": {
      "displayName": "João Terêncio",
      "userId": "14302965054076037047"
     },
     "user_tz": 180
    },
    "id": "zHyRJLtZ8pt6"
   },
   "outputs": [],
   "source": [
    "# Classificação da qualidade do ar com base no AQI real\n",
    "def classifica_qualidade(aqi):\n",
    "    if aqi <= 40:\n",
    "        return 'N1 - Boa'\n",
    "    elif aqi <= 80:\n",
    "        return 'N2 - Moderada'\n",
    "    elif aqi <= 120:\n",
    "        return 'N3 - Ruim'\n",
    "    elif aqi <= 200:\n",
    "        return 'N4 - Muito Ruim'\n",
    "    else:\n",
    "        return 'N5 - Péssima'\n",
    "\n",
    "df_aqi['classificacao'] = df_aqi['aqi'].apply(classifica_qualidade)\n",
    "df_aqi.reset_index(inplace=True)"
   ]
  },
  {
   "cell_type": "code",
   "execution_count": 48,
   "metadata": {
    "executionInfo": {
     "elapsed": 3,
     "status": "ok",
     "timestamp": 1750346267101,
     "user": {
      "displayName": "João Terêncio",
      "userId": "14302965054076037047"
     },
     "user_tz": 180
    },
    "id": "PaZfeSqK6iHa"
   },
   "outputs": [],
   "source": [
    "# Arredonda o AQI final para inteiro\n",
    "df_aqi['aqi'] = df_aqi['aqi'].round().astype('Int64')\n",
    "\n",
    "# Mantém apenas as colunas desejadas\n",
    "df_aqi = df_aqi[['data_formatada', 'aqi', 'classificacao']]"
   ]
  },
  {
   "cell_type": "code",
   "execution_count": 49,
   "metadata": {
    "executionInfo": {
     "elapsed": 22,
     "status": "ok",
     "timestamp": 1750346267140,
     "user": {
      "displayName": "João Terêncio",
      "userId": "14302965054076037047"
     },
     "user_tz": 180
    },
    "id": "hNErBDu0cMxs"
   },
   "outputs": [],
   "source": [
    "# Agrupamento por data_formatada\n",
    "df_gruped = df_sensor_pedra_guaratiba.groupby('data_formatada', as_index=False).mean()\n",
    "\n",
    "# Merge com a tabela de qualidade do ar\n",
    "df_merged = df_gruped.merge(\n",
    "    df_aqi[['classificacao', 'aqi', 'data_formatada']],\n",
    "    left_on='data_formatada',\n",
    "    right_on='data_formatada',\n",
    "    how='left'\n",
    ")"
   ]
  },
  {
   "cell_type": "code",
   "execution_count": 50,
   "metadata": {
    "colab": {
     "base_uri": "https://localhost:8080/"
    },
    "executionInfo": {
     "elapsed": 18,
     "status": "ok",
     "timestamp": 1750346267164,
     "user": {
      "displayName": "João Terêncio",
      "userId": "14302965054076037047"
     },
     "user_tz": 180
    },
    "id": "B581dr8A0wYM",
    "outputId": "64a41a55-edb9-45b7-9a3c-77c9f807e6fa"
   },
   "outputs": [
    {
     "data": {
      "text/plain": [
       "(4750, 19)"
      ]
     },
     "execution_count": 50,
     "metadata": {},
     "output_type": "execute_result"
    }
   ],
   "source": [
    "df_merged.shape"
   ]
  },
  {
   "cell_type": "code",
   "execution_count": 51,
   "metadata": {
    "colab": {
     "base_uri": "https://localhost:8080/",
     "height": 206
    },
    "executionInfo": {
     "elapsed": 26,
     "status": "ok",
     "timestamp": 1750346267195,
     "user": {
      "displayName": "João Terêncio",
      "userId": "14302965054076037047"
     },
     "user_tz": 180
    },
    "id": "4DlAgasL7sxd",
    "outputId": "b07e4d14-0fa7-45fb-f2c8-e27ca2a26443"
   },
   "outputs": [
    {
     "data": {
      "application/vnd.google.colaboratory.intrinsic+json": {
       "type": "dataframe",
       "variable_name": "df_sensor_pedra_guaratiba"
      },
      "text/html": [
       "\n",
       "  <div id=\"df-6b48b74a-591c-4180-942b-6e47b983fe11\" class=\"colab-df-container\">\n",
       "    <div>\n",
       "<style scoped>\n",
       "    .dataframe tbody tr th:only-of-type {\n",
       "        vertical-align: middle;\n",
       "    }\n",
       "\n",
       "    .dataframe tbody tr th {\n",
       "        vertical-align: top;\n",
       "    }\n",
       "\n",
       "    .dataframe thead th {\n",
       "        text-align: right;\n",
       "    }\n",
       "</style>\n",
       "<table border=\"1\" class=\"dataframe\">\n",
       "  <thead>\n",
       "    <tr style=\"text-align: right;\">\n",
       "      <th></th>\n",
       "      <th>data</th>\n",
       "      <th>chuva</th>\n",
       "      <th>temp</th>\n",
       "      <th>ur</th>\n",
       "      <th>co</th>\n",
       "      <th>no</th>\n",
       "      <th>no2</th>\n",
       "      <th>nox</th>\n",
       "      <th>so2</th>\n",
       "      <th>o3</th>\n",
       "      <th>pm10</th>\n",
       "      <th>pm2_5</th>\n",
       "      <th>lat</th>\n",
       "      <th>lon</th>\n",
       "      <th>data_formatada</th>\n",
       "      <th>ano</th>\n",
       "      <th>mes</th>\n",
       "    </tr>\n",
       "  </thead>\n",
       "  <tbody>\n",
       "    <tr>\n",
       "      <th>490825</th>\n",
       "      <td>2012-01-01 03:30:00</td>\n",
       "      <td>0.8</td>\n",
       "      <td>24.07</td>\n",
       "      <td>99.56</td>\n",
       "      <td>NaN</td>\n",
       "      <td>NaN</td>\n",
       "      <td>NaN</td>\n",
       "      <td>NaN</td>\n",
       "      <td>NaN</td>\n",
       "      <td>24.52</td>\n",
       "      <td>74.0</td>\n",
       "      <td>NaN</td>\n",
       "      <td>-23.004379</td>\n",
       "      <td>-43.62901</td>\n",
       "      <td>2012-01-01</td>\n",
       "      <td>2012</td>\n",
       "      <td>1</td>\n",
       "    </tr>\n",
       "    <tr>\n",
       "      <th>490826</th>\n",
       "      <td>2012-01-01 04:30:00</td>\n",
       "      <td>1.2</td>\n",
       "      <td>24.07</td>\n",
       "      <td>99.40</td>\n",
       "      <td>NaN</td>\n",
       "      <td>NaN</td>\n",
       "      <td>NaN</td>\n",
       "      <td>NaN</td>\n",
       "      <td>NaN</td>\n",
       "      <td>28.16</td>\n",
       "      <td>34.0</td>\n",
       "      <td>NaN</td>\n",
       "      <td>-23.004379</td>\n",
       "      <td>-43.62901</td>\n",
       "      <td>2012-01-01</td>\n",
       "      <td>2012</td>\n",
       "      <td>1</td>\n",
       "    </tr>\n",
       "    <tr>\n",
       "      <th>490827</th>\n",
       "      <td>2012-01-01 05:30:00</td>\n",
       "      <td>0.4</td>\n",
       "      <td>24.17</td>\n",
       "      <td>96.38</td>\n",
       "      <td>NaN</td>\n",
       "      <td>NaN</td>\n",
       "      <td>NaN</td>\n",
       "      <td>NaN</td>\n",
       "      <td>NaN</td>\n",
       "      <td>42.38</td>\n",
       "      <td>41.0</td>\n",
       "      <td>NaN</td>\n",
       "      <td>-23.004379</td>\n",
       "      <td>-43.62901</td>\n",
       "      <td>2012-01-01</td>\n",
       "      <td>2012</td>\n",
       "      <td>1</td>\n",
       "    </tr>\n",
       "    <tr>\n",
       "      <th>490828</th>\n",
       "      <td>2012-01-01 06:30:00</td>\n",
       "      <td>0.6</td>\n",
       "      <td>24.03</td>\n",
       "      <td>94.49</td>\n",
       "      <td>NaN</td>\n",
       "      <td>NaN</td>\n",
       "      <td>NaN</td>\n",
       "      <td>NaN</td>\n",
       "      <td>NaN</td>\n",
       "      <td>45.37</td>\n",
       "      <td>17.0</td>\n",
       "      <td>NaN</td>\n",
       "      <td>-23.004379</td>\n",
       "      <td>-43.62901</td>\n",
       "      <td>2012-01-01</td>\n",
       "      <td>2012</td>\n",
       "      <td>1</td>\n",
       "    </tr>\n",
       "    <tr>\n",
       "      <th>490829</th>\n",
       "      <td>2012-01-01 07:30:00</td>\n",
       "      <td>0.2</td>\n",
       "      <td>23.88</td>\n",
       "      <td>97.84</td>\n",
       "      <td>NaN</td>\n",
       "      <td>NaN</td>\n",
       "      <td>NaN</td>\n",
       "      <td>NaN</td>\n",
       "      <td>NaN</td>\n",
       "      <td>29.45</td>\n",
       "      <td>22.0</td>\n",
       "      <td>NaN</td>\n",
       "      <td>-23.004379</td>\n",
       "      <td>-43.62901</td>\n",
       "      <td>2012-01-01</td>\n",
       "      <td>2012</td>\n",
       "      <td>1</td>\n",
       "    </tr>\n",
       "  </tbody>\n",
       "</table>\n",
       "</div>\n",
       "    <div class=\"colab-df-buttons\">\n",
       "\n",
       "  <div class=\"colab-df-container\">\n",
       "    <button class=\"colab-df-convert\" onclick=\"convertToInteractive('df-6b48b74a-591c-4180-942b-6e47b983fe11')\"\n",
       "            title=\"Convert this dataframe to an interactive table.\"\n",
       "            style=\"display:none;\">\n",
       "\n",
       "  <svg xmlns=\"http://www.w3.org/2000/svg\" height=\"24px\" viewBox=\"0 -960 960 960\">\n",
       "    <path d=\"M120-120v-720h720v720H120Zm60-500h600v-160H180v160Zm220 220h160v-160H400v160Zm0 220h160v-160H400v160ZM180-400h160v-160H180v160Zm440 0h160v-160H620v160ZM180-180h160v-160H180v160Zm440 0h160v-160H620v160Z\"/>\n",
       "  </svg>\n",
       "    </button>\n",
       "\n",
       "  <style>\n",
       "    .colab-df-container {\n",
       "      display:flex;\n",
       "      gap: 12px;\n",
       "    }\n",
       "\n",
       "    .colab-df-convert {\n",
       "      background-color: #E8F0FE;\n",
       "      border: none;\n",
       "      border-radius: 50%;\n",
       "      cursor: pointer;\n",
       "      display: none;\n",
       "      fill: #1967D2;\n",
       "      height: 32px;\n",
       "      padding: 0 0 0 0;\n",
       "      width: 32px;\n",
       "    }\n",
       "\n",
       "    .colab-df-convert:hover {\n",
       "      background-color: #E2EBFA;\n",
       "      box-shadow: 0px 1px 2px rgba(60, 64, 67, 0.3), 0px 1px 3px 1px rgba(60, 64, 67, 0.15);\n",
       "      fill: #174EA6;\n",
       "    }\n",
       "\n",
       "    .colab-df-buttons div {\n",
       "      margin-bottom: 4px;\n",
       "    }\n",
       "\n",
       "    [theme=dark] .colab-df-convert {\n",
       "      background-color: #3B4455;\n",
       "      fill: #D2E3FC;\n",
       "    }\n",
       "\n",
       "    [theme=dark] .colab-df-convert:hover {\n",
       "      background-color: #434B5C;\n",
       "      box-shadow: 0px 1px 3px 1px rgba(0, 0, 0, 0.15);\n",
       "      filter: drop-shadow(0px 1px 2px rgba(0, 0, 0, 0.3));\n",
       "      fill: #FFFFFF;\n",
       "    }\n",
       "  </style>\n",
       "\n",
       "    <script>\n",
       "      const buttonEl =\n",
       "        document.querySelector('#df-6b48b74a-591c-4180-942b-6e47b983fe11 button.colab-df-convert');\n",
       "      buttonEl.style.display =\n",
       "        google.colab.kernel.accessAllowed ? 'block' : 'none';\n",
       "\n",
       "      async function convertToInteractive(key) {\n",
       "        const element = document.querySelector('#df-6b48b74a-591c-4180-942b-6e47b983fe11');\n",
       "        const dataTable =\n",
       "          await google.colab.kernel.invokeFunction('convertToInteractive',\n",
       "                                                    [key], {});\n",
       "        if (!dataTable) return;\n",
       "\n",
       "        const docLinkHtml = 'Like what you see? Visit the ' +\n",
       "          '<a target=\"_blank\" href=https://colab.research.google.com/notebooks/data_table.ipynb>data table notebook</a>'\n",
       "          + ' to learn more about interactive tables.';\n",
       "        element.innerHTML = '';\n",
       "        dataTable['output_type'] = 'display_data';\n",
       "        await google.colab.output.renderOutput(dataTable, element);\n",
       "        const docLink = document.createElement('div');\n",
       "        docLink.innerHTML = docLinkHtml;\n",
       "        element.appendChild(docLink);\n",
       "      }\n",
       "    </script>\n",
       "  </div>\n",
       "\n",
       "\n",
       "    <div id=\"df-612ee365-4f6f-46a5-bcbb-65d180c4f76e\">\n",
       "      <button class=\"colab-df-quickchart\" onclick=\"quickchart('df-612ee365-4f6f-46a5-bcbb-65d180c4f76e')\"\n",
       "                title=\"Suggest charts\"\n",
       "                style=\"display:none;\">\n",
       "\n",
       "<svg xmlns=\"http://www.w3.org/2000/svg\" height=\"24px\"viewBox=\"0 0 24 24\"\n",
       "     width=\"24px\">\n",
       "    <g>\n",
       "        <path d=\"M19 3H5c-1.1 0-2 .9-2 2v14c0 1.1.9 2 2 2h14c1.1 0 2-.9 2-2V5c0-1.1-.9-2-2-2zM9 17H7v-7h2v7zm4 0h-2V7h2v10zm4 0h-2v-4h2v4z\"/>\n",
       "    </g>\n",
       "</svg>\n",
       "      </button>\n",
       "\n",
       "<style>\n",
       "  .colab-df-quickchart {\n",
       "      --bg-color: #E8F0FE;\n",
       "      --fill-color: #1967D2;\n",
       "      --hover-bg-color: #E2EBFA;\n",
       "      --hover-fill-color: #174EA6;\n",
       "      --disabled-fill-color: #AAA;\n",
       "      --disabled-bg-color: #DDD;\n",
       "  }\n",
       "\n",
       "  [theme=dark] .colab-df-quickchart {\n",
       "      --bg-color: #3B4455;\n",
       "      --fill-color: #D2E3FC;\n",
       "      --hover-bg-color: #434B5C;\n",
       "      --hover-fill-color: #FFFFFF;\n",
       "      --disabled-bg-color: #3B4455;\n",
       "      --disabled-fill-color: #666;\n",
       "  }\n",
       "\n",
       "  .colab-df-quickchart {\n",
       "    background-color: var(--bg-color);\n",
       "    border: none;\n",
       "    border-radius: 50%;\n",
       "    cursor: pointer;\n",
       "    display: none;\n",
       "    fill: var(--fill-color);\n",
       "    height: 32px;\n",
       "    padding: 0;\n",
       "    width: 32px;\n",
       "  }\n",
       "\n",
       "  .colab-df-quickchart:hover {\n",
       "    background-color: var(--hover-bg-color);\n",
       "    box-shadow: 0 1px 2px rgba(60, 64, 67, 0.3), 0 1px 3px 1px rgba(60, 64, 67, 0.15);\n",
       "    fill: var(--button-hover-fill-color);\n",
       "  }\n",
       "\n",
       "  .colab-df-quickchart-complete:disabled,\n",
       "  .colab-df-quickchart-complete:disabled:hover {\n",
       "    background-color: var(--disabled-bg-color);\n",
       "    fill: var(--disabled-fill-color);\n",
       "    box-shadow: none;\n",
       "  }\n",
       "\n",
       "  .colab-df-spinner {\n",
       "    border: 2px solid var(--fill-color);\n",
       "    border-color: transparent;\n",
       "    border-bottom-color: var(--fill-color);\n",
       "    animation:\n",
       "      spin 1s steps(1) infinite;\n",
       "  }\n",
       "\n",
       "  @keyframes spin {\n",
       "    0% {\n",
       "      border-color: transparent;\n",
       "      border-bottom-color: var(--fill-color);\n",
       "      border-left-color: var(--fill-color);\n",
       "    }\n",
       "    20% {\n",
       "      border-color: transparent;\n",
       "      border-left-color: var(--fill-color);\n",
       "      border-top-color: var(--fill-color);\n",
       "    }\n",
       "    30% {\n",
       "      border-color: transparent;\n",
       "      border-left-color: var(--fill-color);\n",
       "      border-top-color: var(--fill-color);\n",
       "      border-right-color: var(--fill-color);\n",
       "    }\n",
       "    40% {\n",
       "      border-color: transparent;\n",
       "      border-right-color: var(--fill-color);\n",
       "      border-top-color: var(--fill-color);\n",
       "    }\n",
       "    60% {\n",
       "      border-color: transparent;\n",
       "      border-right-color: var(--fill-color);\n",
       "    }\n",
       "    80% {\n",
       "      border-color: transparent;\n",
       "      border-right-color: var(--fill-color);\n",
       "      border-bottom-color: var(--fill-color);\n",
       "    }\n",
       "    90% {\n",
       "      border-color: transparent;\n",
       "      border-bottom-color: var(--fill-color);\n",
       "    }\n",
       "  }\n",
       "</style>\n",
       "\n",
       "      <script>\n",
       "        async function quickchart(key) {\n",
       "          const quickchartButtonEl =\n",
       "            document.querySelector('#' + key + ' button');\n",
       "          quickchartButtonEl.disabled = true;  // To prevent multiple clicks.\n",
       "          quickchartButtonEl.classList.add('colab-df-spinner');\n",
       "          try {\n",
       "            const charts = await google.colab.kernel.invokeFunction(\n",
       "                'suggestCharts', [key], {});\n",
       "          } catch (error) {\n",
       "            console.error('Error during call to suggestCharts:', error);\n",
       "          }\n",
       "          quickchartButtonEl.classList.remove('colab-df-spinner');\n",
       "          quickchartButtonEl.classList.add('colab-df-quickchart-complete');\n",
       "        }\n",
       "        (() => {\n",
       "          let quickchartButtonEl =\n",
       "            document.querySelector('#df-612ee365-4f6f-46a5-bcbb-65d180c4f76e button');\n",
       "          quickchartButtonEl.style.display =\n",
       "            google.colab.kernel.accessAllowed ? 'block' : 'none';\n",
       "        })();\n",
       "      </script>\n",
       "    </div>\n",
       "\n",
       "    </div>\n",
       "  </div>\n"
      ],
      "text/plain": [
       "                      data  chuva   temp     ur  co  no  no2  nox  so2     o3  \\\n",
       "490825 2012-01-01 03:30:00    0.8  24.07  99.56 NaN NaN  NaN  NaN  NaN  24.52   \n",
       "490826 2012-01-01 04:30:00    1.2  24.07  99.40 NaN NaN  NaN  NaN  NaN  28.16   \n",
       "490827 2012-01-01 05:30:00    0.4  24.17  96.38 NaN NaN  NaN  NaN  NaN  42.38   \n",
       "490828 2012-01-01 06:30:00    0.6  24.03  94.49 NaN NaN  NaN  NaN  NaN  45.37   \n",
       "490829 2012-01-01 07:30:00    0.2  23.88  97.84 NaN NaN  NaN  NaN  NaN  29.45   \n",
       "\n",
       "        pm10  pm2_5        lat       lon data_formatada   ano  mes  \n",
       "490825  74.0    NaN -23.004379 -43.62901     2012-01-01  2012    1  \n",
       "490826  34.0    NaN -23.004379 -43.62901     2012-01-01  2012    1  \n",
       "490827  41.0    NaN -23.004379 -43.62901     2012-01-01  2012    1  \n",
       "490828  17.0    NaN -23.004379 -43.62901     2012-01-01  2012    1  \n",
       "490829  22.0    NaN -23.004379 -43.62901     2012-01-01  2012    1  "
      ]
     },
     "execution_count": 51,
     "metadata": {},
     "output_type": "execute_result"
    }
   ],
   "source": [
    "df_sensor_pedra_guaratiba.head()"
   ]
  },
  {
   "cell_type": "code",
   "execution_count": 52,
   "metadata": {
    "executionInfo": {
     "elapsed": 1751,
     "status": "ok",
     "timestamp": 1750346307990,
     "user": {
      "displayName": "João Terêncio",
      "userId": "14302965054076037047"
     },
     "user_tz": 180
    },
    "id": "IGanqoMDxK95"
   },
   "outputs": [],
   "source": [
    "df_sensor_pedra_guaratiba.to_csv('pedra_guaratiba_per_hour.csv', index=False)"
   ]
  },
  {
   "cell_type": "markdown",
   "metadata": {
    "id": "ijWuiCIzOE1P"
   },
   "source": [
    "# Gerando CSV de saída com a estação de Campo Grande preenchida\n"
   ]
  },
  {
   "cell_type": "code",
   "execution_count": null,
   "metadata": {
    "id": "4aicusNC82qi"
   },
   "outputs": [],
   "source": [
    "df_merged['lat'] = -23.004379\n",
    "df_merged['lon'] = -43.62901\n",
    "df_merged['estacao'] = 'Pedra de Guaratiba'\n",
    "df_merged['ano'] = pd.to_datetime(df_merged['data_formatada']).dt.year\n",
    "df_merged['mes'] = pd.to_datetime(df_merged['data_formatada']).dt.month"
   ]
  },
  {
   "cell_type": "code",
   "execution_count": null,
   "metadata": {
    "colab": {
     "base_uri": "https://localhost:8080/",
     "height": 206
    },
    "executionInfo": {
     "elapsed": 96,
     "status": "ok",
     "timestamp": 1750205711117,
     "user": {
      "displayName": "João Terêncio",
      "userId": "14302965054076037047"
     },
     "user_tz": 180
    },
    "id": "AWKbGzmZ9T5s",
    "outputId": "d07a22b2-c1d2-4c1e-db1d-f768f7afb2ea"
   },
   "outputs": [
    {
     "data": {
      "application/vnd.google.colaboratory.intrinsic+json": {
       "summary": "{\n  \"name\": \"df_merged\",\n  \"rows\": 4750,\n  \"fields\": [\n    {\n      \"column\": \"data_formatada\",\n      \"properties\": {\n        \"dtype\": \"object\",\n        \"num_unique_values\": 4750,\n        \"samples\": [\n          \"2022-06-14\",\n          \"2014-12-11\",\n          \"2012-10-23\"\n        ],\n        \"semantic_type\": \"\",\n        \"description\": \"\"\n      }\n    },\n    {\n      \"column\": \"data\",\n      \"properties\": {\n        \"dtype\": \"date\",\n        \"min\": \"2012-01-01 13:30:00\",\n        \"max\": \"2025-01-01 01:30:00\",\n        \"num_unique_values\": 4750,\n        \"samples\": [\n          \"2022-06-14 12:00:00\",\n          \"2014-12-11 12:00:00\",\n          \"2012-10-23 12:00:00\"\n        ],\n        \"semantic_type\": \"\",\n        \"description\": \"\"\n      }\n    },\n    {\n      \"column\": \"chuva\",\n      \"properties\": {\n        \"dtype\": \"number\",\n        \"std\": 0.41206029596871707,\n        \"min\": 0.0,\n        \"max\": 7.058333333333334,\n        \"num_unique_values\": 320,\n        \"samples\": [\n          1.125,\n          1.7666666666666666,\n          0.08333333333333333\n        ],\n        \"semantic_type\": \"\",\n        \"description\": \"\"\n      }\n    },\n    {\n      \"column\": \"temp\",\n      \"properties\": {\n        \"dtype\": \"number\",\n        \"std\": 3.1794779296318545,\n        \"min\": 0.0,\n        \"max\": 35.167857142857144,\n        \"num_unique_values\": 4088,\n        \"samples\": [\n          21.148333333333333,\n          32.25958333333333,\n          27.8175\n        ],\n        \"semantic_type\": \"\",\n        \"description\": \"\"\n      }\n    },\n    {\n      \"column\": \"ur\",\n      \"properties\": {\n        \"dtype\": \"number\",\n        \"std\": 10.96298926279449,\n        \"min\": 5.673333333333333,\n        \"max\": 100.0,\n        \"num_unique_values\": 3163,\n        \"samples\": [\n          77.97500000000001,\n          84.51333333333334,\n          63.31458333333333\n        ],\n        \"semantic_type\": \"\",\n        \"description\": \"\"\n      }\n    },\n    {\n      \"column\": \"co\",\n      \"properties\": {\n        \"dtype\": \"number\",\n        \"std\": null,\n        \"min\": null,\n        \"max\": null,\n        \"num_unique_values\": 0,\n        \"samples\": [],\n        \"semantic_type\": \"\",\n        \"description\": \"\"\n      }\n    },\n    {\n      \"column\": \"no\",\n      \"properties\": {\n        \"dtype\": \"number\",\n        \"std\": null,\n        \"min\": null,\n        \"max\": null,\n        \"num_unique_values\": 0,\n        \"samples\": [],\n        \"semantic_type\": \"\",\n        \"description\": \"\"\n      }\n    },\n    {\n      \"column\": \"no2\",\n      \"properties\": {\n        \"dtype\": \"number\",\n        \"std\": null,\n        \"min\": null,\n        \"max\": null,\n        \"num_unique_values\": 0,\n        \"samples\": [],\n        \"semantic_type\": \"\",\n        \"description\": \"\"\n      }\n    },\n    {\n      \"column\": \"nox\",\n      \"properties\": {\n        \"dtype\": \"number\",\n        \"std\": null,\n        \"min\": null,\n        \"max\": null,\n        \"num_unique_values\": 0,\n        \"samples\": [],\n        \"semantic_type\": \"\",\n        \"description\": \"\"\n      }\n    },\n    {\n      \"column\": \"so2\",\n      \"properties\": {\n        \"dtype\": \"number\",\n        \"std\": null,\n        \"min\": null,\n        \"max\": null,\n        \"num_unique_values\": 0,\n        \"samples\": [],\n        \"semantic_type\": \"\",\n        \"description\": \"\"\n      }\n    },\n    {\n      \"column\": \"o3\",\n      \"properties\": {\n        \"dtype\": \"number\",\n        \"std\": 17.664482175455635,\n        \"min\": 0.0,\n        \"max\": 142.51500000000001,\n        \"num_unique_values\": 4320,\n        \"samples\": [],\n        \"semantic_type\": \"\",\n        \"description\": \"\"\n      }\n    },\n    {\n      \"column\": \"pm10\",\n      \"properties\": {\n        \"dtype\": \"number\",\n        \"std\": 17.16563981552501,\n        \"min\": 0.0,\n        \"max\": 134.58333333333334,\n        \"num_unique_values\": 1909,\n        \"samples\": [],\n        \"semantic_type\": \"\",\n        \"description\": \"\"\n      }\n    },\n    {\n      \"column\": \"pm2_5\",\n      \"properties\": {\n        \"dtype\": \"number\",\n        \"std\": null,\n        \"min\": null,\n        \"max\": null,\n        \"num_unique_values\": 0,\n        \"samples\": [],\n        \"semantic_type\": \"\",\n        \"description\": \"\"\n      }\n    },\n    {\n      \"column\": \"lat\",\n      \"properties\": {\n        \"dtype\": \"number\",\n        \"std\": 1.8831364850914205e-12,\n        \"min\": -23.004379,\n        \"max\": -23.004379,\n        \"num_unique_values\": 1,\n        \"samples\": [],\n        \"semantic_type\": \"\",\n        \"description\": \"\"\n      }\n    },\n    {\n      \"column\": \"lon\",\n      \"properties\": {\n        \"dtype\": \"number\",\n        \"std\": 2.444524342911127e-12,\n        \"min\": -43.62901,\n        \"max\": -43.62901,\n        \"num_unique_values\": 1,\n        \"samples\": [],\n        \"semantic_type\": \"\",\n        \"description\": \"\"\n      }\n    },\n    {\n      \"column\": \"ano\",\n      \"properties\": {\n        \"dtype\": \"int32\",\n        \"num_unique_values\": 14,\n        \"samples\": [],\n        \"semantic_type\": \"\",\n        \"description\": \"\"\n      }\n    },\n    {\n      \"column\": \"mes\",\n      \"properties\": {\n        \"dtype\": \"int32\",\n        \"num_unique_values\": 12,\n        \"samples\": [],\n        \"semantic_type\": \"\",\n        \"description\": \"\"\n      }\n    },\n    {\n      \"column\": \"classificacao\",\n      \"properties\": {\n        \"dtype\": \"category\",\n        \"num_unique_values\": 5,\n        \"samples\": [],\n        \"semantic_type\": \"\",\n        \"description\": \"\"\n      }\n    },\n    {\n      \"column\": \"aqi\",\n      \"properties\": {\n        \"dtype\": \"Int64\",\n        \"num_unique_values\": 132,\n        \"samples\": [],\n        \"semantic_type\": \"\",\n        \"description\": \"\"\n      }\n    },\n    {\n      \"column\": \"estacao\",\n      \"properties\": {\n        \"dtype\": \"category\",\n        \"num_unique_values\": 1,\n        \"samples\": [],\n        \"semantic_type\": \"\",\n        \"description\": \"\"\n      }\n    }\n  ]\n}",
       "type": "dataframe",
       "variable_name": "df_merged"
      },
      "text/html": [
       "\n",
       "  <div id=\"df-f7e9b96e-6b31-402e-8dd3-f123c0c9da47\" class=\"colab-df-container\">\n",
       "    <div>\n",
       "<style scoped>\n",
       "    .dataframe tbody tr th:only-of-type {\n",
       "        vertical-align: middle;\n",
       "    }\n",
       "\n",
       "    .dataframe tbody tr th {\n",
       "        vertical-align: top;\n",
       "    }\n",
       "\n",
       "    .dataframe thead th {\n",
       "        text-align: right;\n",
       "    }\n",
       "</style>\n",
       "<table border=\"1\" class=\"dataframe\">\n",
       "  <thead>\n",
       "    <tr style=\"text-align: right;\">\n",
       "      <th></th>\n",
       "      <th>data_formatada</th>\n",
       "      <th>data</th>\n",
       "      <th>chuva</th>\n",
       "      <th>temp</th>\n",
       "      <th>ur</th>\n",
       "      <th>co</th>\n",
       "      <th>no</th>\n",
       "      <th>no2</th>\n",
       "      <th>nox</th>\n",
       "      <th>so2</th>\n",
       "      <th>o3</th>\n",
       "      <th>pm10</th>\n",
       "      <th>pm2_5</th>\n",
       "      <th>lat</th>\n",
       "      <th>lon</th>\n",
       "      <th>ano</th>\n",
       "      <th>mes</th>\n",
       "      <th>classificacao</th>\n",
       "      <th>aqi</th>\n",
       "      <th>estacao</th>\n",
       "    </tr>\n",
       "  </thead>\n",
       "  <tbody>\n",
       "    <tr>\n",
       "      <th>0</th>\n",
       "      <td>2012-01-01</td>\n",
       "      <td>2012-01-01 13:30:00</td>\n",
       "      <td>1.561905</td>\n",
       "      <td>25.298571</td>\n",
       "      <td>92.982857</td>\n",
       "      <td>NaN</td>\n",
       "      <td>NaN</td>\n",
       "      <td>NaN</td>\n",
       "      <td>NaN</td>\n",
       "      <td>NaN</td>\n",
       "      <td>37.054762</td>\n",
       "      <td>20.142857</td>\n",
       "      <td>NaN</td>\n",
       "      <td>-23.004379</td>\n",
       "      <td>-43.62901</td>\n",
       "      <td>2012</td>\n",
       "      <td>1</td>\n",
       "      <td>N1 - Boa</td>\n",
       "      <td>17</td>\n",
       "      <td>Pedra de Guaratiba</td>\n",
       "    </tr>\n",
       "    <tr>\n",
       "      <th>1</th>\n",
       "      <td>2012-01-02</td>\n",
       "      <td>2012-01-02 12:00:00</td>\n",
       "      <td>1.141667</td>\n",
       "      <td>23.154583</td>\n",
       "      <td>93.573333</td>\n",
       "      <td>NaN</td>\n",
       "      <td>NaN</td>\n",
       "      <td>NaN</td>\n",
       "      <td>NaN</td>\n",
       "      <td>NaN</td>\n",
       "      <td>47.928750</td>\n",
       "      <td>8.666667</td>\n",
       "      <td>NaN</td>\n",
       "      <td>-23.004379</td>\n",
       "      <td>-43.62901</td>\n",
       "      <td>2012</td>\n",
       "      <td>1</td>\n",
       "      <td>N1 - Boa</td>\n",
       "      <td>21</td>\n",
       "      <td>Pedra de Guaratiba</td>\n",
       "    </tr>\n",
       "    <tr>\n",
       "      <th>2</th>\n",
       "      <td>2012-01-03</td>\n",
       "      <td>2012-01-03 12:00:00</td>\n",
       "      <td>0.000000</td>\n",
       "      <td>24.197083</td>\n",
       "      <td>82.005000</td>\n",
       "      <td>NaN</td>\n",
       "      <td>NaN</td>\n",
       "      <td>NaN</td>\n",
       "      <td>NaN</td>\n",
       "      <td>NaN</td>\n",
       "      <td>16.141250</td>\n",
       "      <td>18.176471</td>\n",
       "      <td>NaN</td>\n",
       "      <td>-23.004379</td>\n",
       "      <td>-43.62901</td>\n",
       "      <td>2012</td>\n",
       "      <td>1</td>\n",
       "      <td>N1 - Boa</td>\n",
       "      <td>15</td>\n",
       "      <td>Pedra de Guaratiba</td>\n",
       "    </tr>\n",
       "    <tr>\n",
       "      <th>3</th>\n",
       "      <td>2012-01-04</td>\n",
       "      <td>2012-01-04 12:00:00</td>\n",
       "      <td>0.000000</td>\n",
       "      <td>24.976667</td>\n",
       "      <td>78.547917</td>\n",
       "      <td>NaN</td>\n",
       "      <td>NaN</td>\n",
       "      <td>NaN</td>\n",
       "      <td>NaN</td>\n",
       "      <td>NaN</td>\n",
       "      <td>34.663333</td>\n",
       "      <td>31.333333</td>\n",
       "      <td>NaN</td>\n",
       "      <td>-23.004379</td>\n",
       "      <td>-43.62901</td>\n",
       "      <td>2012</td>\n",
       "      <td>1</td>\n",
       "      <td>N1 - Boa</td>\n",
       "      <td>27</td>\n",
       "      <td>Pedra de Guaratiba</td>\n",
       "    </tr>\n",
       "    <tr>\n",
       "      <th>4</th>\n",
       "      <td>2012-01-05</td>\n",
       "      <td>2012-01-05 12:00:00</td>\n",
       "      <td>0.000000</td>\n",
       "      <td>24.998000</td>\n",
       "      <td>80.963333</td>\n",
       "      <td>NaN</td>\n",
       "      <td>NaN</td>\n",
       "      <td>NaN</td>\n",
       "      <td>NaN</td>\n",
       "      <td>NaN</td>\n",
       "      <td>37.833333</td>\n",
       "      <td>27.041667</td>\n",
       "      <td>NaN</td>\n",
       "      <td>-23.004379</td>\n",
       "      <td>-43.62901</td>\n",
       "      <td>2012</td>\n",
       "      <td>1</td>\n",
       "      <td>N1 - Boa</td>\n",
       "      <td>26</td>\n",
       "      <td>Pedra de Guaratiba</td>\n",
       "    </tr>\n",
       "  </tbody>\n",
       "</table>\n",
       "</div>\n",
       "    <div class=\"colab-df-buttons\">\n",
       "\n",
       "  <div class=\"colab-df-container\">\n",
       "    <button class=\"colab-df-convert\" onclick=\"convertToInteractive('df-f7e9b96e-6b31-402e-8dd3-f123c0c9da47')\"\n",
       "            title=\"Convert this dataframe to an interactive table.\"\n",
       "            style=\"display:none;\">\n",
       "\n",
       "  <svg xmlns=\"http://www.w3.org/2000/svg\" height=\"24px\" viewBox=\"0 -960 960 960\">\n",
       "    <path d=\"M120-120v-720h720v720H120Zm60-500h600v-160H180v160Zm220 220h160v-160H400v160Zm0 220h160v-160H400v160ZM180-400h160v-160H180v160Zm440 0h160v-160H620v160ZM180-180h160v-160H180v160Zm440 0h160v-160H620v160Z\"/>\n",
       "  </svg>\n",
       "    </button>\n",
       "\n",
       "  <style>\n",
       "    .colab-df-container {\n",
       "      display:flex;\n",
       "      gap: 12px;\n",
       "    }\n",
       "\n",
       "    .colab-df-convert {\n",
       "      background-color: #E8F0FE;\n",
       "      border: none;\n",
       "      border-radius: 50%;\n",
       "      cursor: pointer;\n",
       "      display: none;\n",
       "      fill: #1967D2;\n",
       "      height: 32px;\n",
       "      padding: 0 0 0 0;\n",
       "      width: 32px;\n",
       "    }\n",
       "\n",
       "    .colab-df-convert:hover {\n",
       "      background-color: #E2EBFA;\n",
       "      box-shadow: 0px 1px 2px rgba(60, 64, 67, 0.3), 0px 1px 3px 1px rgba(60, 64, 67, 0.15);\n",
       "      fill: #174EA6;\n",
       "    }\n",
       "\n",
       "    .colab-df-buttons div {\n",
       "      margin-bottom: 4px;\n",
       "    }\n",
       "\n",
       "    [theme=dark] .colab-df-convert {\n",
       "      background-color: #3B4455;\n",
       "      fill: #D2E3FC;\n",
       "    }\n",
       "\n",
       "    [theme=dark] .colab-df-convert:hover {\n",
       "      background-color: #434B5C;\n",
       "      box-shadow: 0px 1px 3px 1px rgba(0, 0, 0, 0.15);\n",
       "      filter: drop-shadow(0px 1px 2px rgba(0, 0, 0, 0.3));\n",
       "      fill: #FFFFFF;\n",
       "    }\n",
       "  </style>\n",
       "\n",
       "    <script>\n",
       "      const buttonEl =\n",
       "        document.querySelector('#df-f7e9b96e-6b31-402e-8dd3-f123c0c9da47 button.colab-df-convert');\n",
       "      buttonEl.style.display =\n",
       "        google.colab.kernel.accessAllowed ? 'block' : 'none';\n",
       "\n",
       "      async function convertToInteractive(key) {\n",
       "        const element = document.querySelector('#df-f7e9b96e-6b31-402e-8dd3-f123c0c9da47');\n",
       "        const dataTable =\n",
       "          await google.colab.kernel.invokeFunction('convertToInteractive',\n",
       "                                                    [key], {});\n",
       "        if (!dataTable) return;\n",
       "\n",
       "        const docLinkHtml = 'Like what you see? Visit the ' +\n",
       "          '<a target=\"_blank\" href=https://colab.research.google.com/notebooks/data_table.ipynb>data table notebook</a>'\n",
       "          + ' to learn more about interactive tables.';\n",
       "        element.innerHTML = '';\n",
       "        dataTable['output_type'] = 'display_data';\n",
       "        await google.colab.output.renderOutput(dataTable, element);\n",
       "        const docLink = document.createElement('div');\n",
       "        docLink.innerHTML = docLinkHtml;\n",
       "        element.appendChild(docLink);\n",
       "      }\n",
       "    </script>\n",
       "  </div>\n",
       "\n",
       "\n",
       "    <div id=\"df-eeeb608d-67e6-4e25-863c-1ec88542557d\">\n",
       "      <button class=\"colab-df-quickchart\" onclick=\"quickchart('df-eeeb608d-67e6-4e25-863c-1ec88542557d')\"\n",
       "                title=\"Suggest charts\"\n",
       "                style=\"display:none;\">\n",
       "\n",
       "<svg xmlns=\"http://www.w3.org/2000/svg\" height=\"24px\"viewBox=\"0 0 24 24\"\n",
       "     width=\"24px\">\n",
       "    <g>\n",
       "        <path d=\"M19 3H5c-1.1 0-2 .9-2 2v14c0 1.1.9 2 2 2h14c1.1 0 2-.9 2-2V5c0-1.1-.9-2-2-2zM9 17H7v-7h2v7zm4 0h-2V7h2v10zm4 0h-2v-4h2v4z\"/>\n",
       "    </g>\n",
       "</svg>\n",
       "      </button>\n",
       "\n",
       "<style>\n",
       "  .colab-df-quickchart {\n",
       "      --bg-color: #E8F0FE;\n",
       "      --fill-color: #1967D2;\n",
       "      --hover-bg-color: #E2EBFA;\n",
       "      --hover-fill-color: #174EA6;\n",
       "      --disabled-fill-color: #AAA;\n",
       "      --disabled-bg-color: #DDD;\n",
       "  }\n",
       "\n",
       "  [theme=dark] .colab-df-quickchart {\n",
       "      --bg-color: #3B4455;\n",
       "      --fill-color: #D2E3FC;\n",
       "      --hover-bg-color: #434B5C;\n",
       "      --hover-fill-color: #FFFFFF;\n",
       "      --disabled-bg-color: #3B4455;\n",
       "      --disabled-fill-color: #666;\n",
       "  }\n",
       "\n",
       "  .colab-df-quickchart {\n",
       "    background-color: var(--bg-color);\n",
       "    border: none;\n",
       "    border-radius: 50%;\n",
       "    cursor: pointer;\n",
       "    display: none;\n",
       "    fill: var(--fill-color);\n",
       "    height: 32px;\n",
       "    padding: 0;\n",
       "    width: 32px;\n",
       "  }\n",
       "\n",
       "  .colab-df-quickchart:hover {\n",
       "    background-color: var(--hover-bg-color);\n",
       "    box-shadow: 0 1px 2px rgba(60, 64, 67, 0.3), 0 1px 3px 1px rgba(60, 64, 67, 0.15);\n",
       "    fill: var(--button-hover-fill-color);\n",
       "  }\n",
       "\n",
       "  .colab-df-quickchart-complete:disabled,\n",
       "  .colab-df-quickchart-complete:disabled:hover {\n",
       "    background-color: var(--disabled-bg-color);\n",
       "    fill: var(--disabled-fill-color);\n",
       "    box-shadow: none;\n",
       "  }\n",
       "\n",
       "  .colab-df-spinner {\n",
       "    border: 2px solid var(--fill-color);\n",
       "    border-color: transparent;\n",
       "    border-bottom-color: var(--fill-color);\n",
       "    animation:\n",
       "      spin 1s steps(1) infinite;\n",
       "  }\n",
       "\n",
       "  @keyframes spin {\n",
       "    0% {\n",
       "      border-color: transparent;\n",
       "      border-bottom-color: var(--fill-color);\n",
       "      border-left-color: var(--fill-color);\n",
       "    }\n",
       "    20% {\n",
       "      border-color: transparent;\n",
       "      border-left-color: var(--fill-color);\n",
       "      border-top-color: var(--fill-color);\n",
       "    }\n",
       "    30% {\n",
       "      border-color: transparent;\n",
       "      border-left-color: var(--fill-color);\n",
       "      border-top-color: var(--fill-color);\n",
       "      border-right-color: var(--fill-color);\n",
       "    }\n",
       "    40% {\n",
       "      border-color: transparent;\n",
       "      border-right-color: var(--fill-color);\n",
       "      border-top-color: var(--fill-color);\n",
       "    }\n",
       "    60% {\n",
       "      border-color: transparent;\n",
       "      border-right-color: var(--fill-color);\n",
       "    }\n",
       "    80% {\n",
       "      border-color: transparent;\n",
       "      border-right-color: var(--fill-color);\n",
       "      border-bottom-color: var(--fill-color);\n",
       "    }\n",
       "    90% {\n",
       "      border-color: transparent;\n",
       "      border-bottom-color: var(--fill-color);\n",
       "    }\n",
       "  }\n",
       "</style>\n",
       "\n",
       "      <script>\n",
       "        async function quickchart(key) {\n",
       "          const quickchartButtonEl =\n",
       "            document.querySelector('#' + key + ' button');\n",
       "          quickchartButtonEl.disabled = true;  // To prevent multiple clicks.\n",
       "          quickchartButtonEl.classList.add('colab-df-spinner');\n",
       "          try {\n",
       "            const charts = await google.colab.kernel.invokeFunction(\n",
       "                'suggestCharts', [key], {});\n",
       "          } catch (error) {\n",
       "            console.error('Error during call to suggestCharts:', error);\n",
       "          }\n",
       "          quickchartButtonEl.classList.remove('colab-df-spinner');\n",
       "          quickchartButtonEl.classList.add('colab-df-quickchart-complete');\n",
       "        }\n",
       "        (() => {\n",
       "          let quickchartButtonEl =\n",
       "            document.querySelector('#df-eeeb608d-67e6-4e25-863c-1ec88542557d button');\n",
       "          quickchartButtonEl.style.display =\n",
       "            google.colab.kernel.accessAllowed ? 'block' : 'none';\n",
       "        })();\n",
       "      </script>\n",
       "    </div>\n",
       "\n",
       "    </div>\n",
       "  </div>\n"
      ],
      "text/plain": [
       "  data_formatada                data     chuva       temp         ur  co  no  \\\n",
       "0     2012-01-01 2012-01-01 13:30:00  1.561905  25.298571  92.982857 NaN NaN   \n",
       "1     2012-01-02 2012-01-02 12:00:00  1.141667  23.154583  93.573333 NaN NaN   \n",
       "2     2012-01-03 2012-01-03 12:00:00  0.000000  24.197083  82.005000 NaN NaN   \n",
       "3     2012-01-04 2012-01-04 12:00:00  0.000000  24.976667  78.547917 NaN NaN   \n",
       "4     2012-01-05 2012-01-05 12:00:00  0.000000  24.998000  80.963333 NaN NaN   \n",
       "\n",
       "   no2  nox  so2         o3       pm10  pm2_5        lat       lon   ano  mes  \\\n",
       "0  NaN  NaN  NaN  37.054762  20.142857    NaN -23.004379 -43.62901  2012    1   \n",
       "1  NaN  NaN  NaN  47.928750   8.666667    NaN -23.004379 -43.62901  2012    1   \n",
       "2  NaN  NaN  NaN  16.141250  18.176471    NaN -23.004379 -43.62901  2012    1   \n",
       "3  NaN  NaN  NaN  34.663333  31.333333    NaN -23.004379 -43.62901  2012    1   \n",
       "4  NaN  NaN  NaN  37.833333  27.041667    NaN -23.004379 -43.62901  2012    1   \n",
       "\n",
       "  classificacao  aqi             estacao  \n",
       "0      N1 - Boa   17  Pedra de Guaratiba  \n",
       "1      N1 - Boa   21  Pedra de Guaratiba  \n",
       "2      N1 - Boa   15  Pedra de Guaratiba  \n",
       "3      N1 - Boa   27  Pedra de Guaratiba  \n",
       "4      N1 - Boa   26  Pedra de Guaratiba  "
      ]
     },
     "execution_count": 53,
     "metadata": {},
     "output_type": "execute_result"
    }
   ],
   "source": [
    "df_merged.head()"
   ]
  },
  {
   "cell_type": "code",
   "execution_count": null,
   "metadata": {
    "colab": {
     "base_uri": "https://localhost:8080/",
     "height": 206
    },
    "executionInfo": {
     "elapsed": 65,
     "status": "ok",
     "timestamp": 1750205713610,
     "user": {
      "displayName": "João Terêncio",
      "userId": "14302965054076037047"
     },
     "user_tz": 180
    },
    "id": "kcXrsfBsCBTA",
    "outputId": "a9f7134a-6ecc-4888-d2f2-f53ce693d07b"
   },
   "outputs": [
    {
     "data": {
      "application/vnd.google.colaboratory.intrinsic+json": {
       "summary": "{\n  \"name\": \"display(df_merged\",\n  \"rows\": 5,\n  \"fields\": [\n    {\n      \"column\": \"data_formatada\",\n      \"properties\": {\n        \"dtype\": \"object\",\n        \"num_unique_values\": 5,\n        \"samples\": [\n          \"2012-01-02\",\n          \"2012-01-05\",\n          \"2012-01-03\"\n        ],\n        \"semantic_type\": \"\",\n        \"description\": \"\"\n      }\n    },\n    {\n      \"column\": \"estacao\",\n      \"properties\": {\n        \"dtype\": \"category\",\n        \"num_unique_values\": 1,\n        \"samples\": [\n          \"Pedra de Guaratiba\"\n        ],\n        \"semantic_type\": \"\",\n        \"description\": \"\"\n      }\n    },\n    {\n      \"column\": \"ano\",\n      \"properties\": {\n        \"dtype\": \"int32\",\n        \"num_unique_values\": 1,\n        \"samples\": [\n          2012\n        ],\n        \"semantic_type\": \"\",\n        \"description\": \"\"\n      }\n    },\n    {\n      \"column\": \"mes\",\n      \"properties\": {\n        \"dtype\": \"int32\",\n        \"num_unique_values\": 1,\n        \"samples\": [\n          1\n        ],\n        \"semantic_type\": \"\",\n        \"description\": \"\"\n      }\n    },\n    {\n      \"column\": \"lat\",\n      \"properties\": {\n        \"dtype\": \"number\",\n        \"std\": 0.0,\n        \"min\": -23.004379,\n        \"max\": -23.004379,\n        \"num_unique_values\": 1,\n        \"samples\": [\n          -23.004379\n        ],\n        \"semantic_type\": \"\",\n        \"description\": \"\"\n      }\n    },\n    {\n      \"column\": \"lon\",\n      \"properties\": {\n        \"dtype\": \"number\",\n        \"std\": 0.0,\n        \"min\": -43.62901,\n        \"max\": -43.62901,\n        \"num_unique_values\": 1,\n        \"samples\": [\n          -43.62901\n        ],\n        \"semantic_type\": \"\",\n        \"description\": \"\"\n      }\n    },\n    {\n      \"column\": \"chuva\",\n      \"properties\": {\n        \"dtype\": \"number\",\n        \"std\": 0.7551638181813595,\n        \"min\": 0.0,\n        \"max\": 1.5619047619047617,\n        \"num_unique_values\": 3,\n        \"samples\": [\n          1.5619047619047617\n        ],\n        \"semantic_type\": \"\",\n        \"description\": \"\"\n      }\n    },\n    {\n      \"column\": \"temp\",\n      \"properties\": {\n        \"dtype\": \"number\",\n        \"std\": 0.8677147733589238,\n        \"min\": 23.154583333333335,\n        \"max\": 25.298571428571428,\n        \"num_unique_values\": 5,\n        \"samples\": [\n          23.154583333333335\n        ],\n        \"semantic_type\": \"\",\n        \"description\": \"\"\n      }\n    },\n    {\n      \"column\": \"ur\",\n      \"properties\": {\n        \"dtype\": \"number\",\n        \"std\": 7.110452809593394,\n        \"min\": 78.54791666666667,\n        \"max\": 93.57333333333332,\n        \"num_unique_values\": 5,\n        \"samples\": [\n          93.57333333333332\n        ],\n        \"semantic_type\": \"\",\n        \"description\": \"\"\n      }\n    },\n    {\n      \"column\": \"co\",\n      \"properties\": {\n        \"dtype\": \"number\",\n        \"std\": null,\n        \"min\": null,\n        \"max\": null,\n        \"num_unique_values\": 0,\n        \"samples\": [],\n        \"semantic_type\": \"\",\n        \"description\": \"\"\n      }\n    },\n    {\n      \"column\": \"no\",\n      \"properties\": {\n        \"dtype\": \"number\",\n        \"std\": null,\n        \"min\": null,\n        \"max\": null,\n        \"num_unique_values\": 0,\n        \"samples\": [],\n        \"semantic_type\": \"\",\n        \"description\": \"\"\n      }\n    },\n    {\n      \"column\": \"no2\",\n      \"properties\": {\n        \"dtype\": \"number\",\n        \"std\": null,\n        \"min\": null,\n        \"max\": null,\n        \"num_unique_values\": 0,\n        \"samples\": [],\n        \"semantic_type\": \"\",\n        \"description\": \"\"\n      }\n    },\n    {\n      \"column\": \"nox\",\n      \"properties\": {\n        \"dtype\": \"number\",\n        \"std\": null,\n        \"min\": null,\n        \"max\": null,\n        \"num_unique_values\": 0,\n        \"samples\": [],\n        \"semantic_type\": \"\",\n        \"description\": \"\"\n      }\n    },\n    {\n      \"column\": \"so2\",\n      \"properties\": {\n        \"dtype\": \"number\",\n        \"std\": null,\n        \"min\": null,\n        \"max\": null,\n        \"num_unique_values\": 0,\n        \"samples\": [],\n        \"semantic_type\": \"\",\n        \"description\": \"\"\n      }\n    },\n    {\n      \"column\": \"o3\",\n      \"properties\": {\n        \"dtype\": \"number\",\n        \"std\": 11.562743024427078,\n        \"min\": 16.14125,\n        \"max\": 47.92875,\n        \"num_unique_values\": 5,\n        \"samples\": [],\n        \"semantic_type\": \"\",\n        \"description\": \"\"\n      }\n    },\n    {\n      \"column\": \"pm10\",\n      \"properties\": {\n        \"dtype\": \"number\",\n        \"std\": 8.718824086790727,\n        \"min\": 8.666666666666666,\n        \"max\": 31.333333333333332,\n        \"num_unique_values\": 5,\n        \"samples\": [],\n        \"semantic_type\": \"\",\n        \"description\": \"\"\n      }\n    },\n    {\n      \"column\": \"pm2_5\",\n      \"properties\": {\n        \"dtype\": \"number\",\n        \"std\": null,\n        \"min\": null,\n        \"max\": null,\n        \"num_unique_values\": 0,\n        \"samples\": [],\n        \"semantic_type\": \"\",\n        \"description\": \"\"\n      }\n    },\n    {\n      \"column\": \"aqi\",\n      \"properties\": {\n        \"dtype\": \"Int64\",\n        \"num_unique_values\": 5,\n        \"samples\": [],\n        \"semantic_type\": \"\",\n        \"description\": \"\"\n      }\n    },\n    {\n      \"column\": \"classificacao\",\n      \"properties\": {\n        \"dtype\": \"category\",\n        \"num_unique_values\": 1,\n        \"samples\": [],\n        \"semantic_type\": \"\",\n        \"description\": \"\"\n      }\n    }\n  ]\n}",
       "type": "dataframe"
      },
      "text/html": [
       "\n",
       "  <div id=\"df-00e4509d-2e15-4d49-84f1-803b35828c25\" class=\"colab-df-container\">\n",
       "    <div>\n",
       "<style scoped>\n",
       "    .dataframe tbody tr th:only-of-type {\n",
       "        vertical-align: middle;\n",
       "    }\n",
       "\n",
       "    .dataframe tbody tr th {\n",
       "        vertical-align: top;\n",
       "    }\n",
       "\n",
       "    .dataframe thead th {\n",
       "        text-align: right;\n",
       "    }\n",
       "</style>\n",
       "<table border=\"1\" class=\"dataframe\">\n",
       "  <thead>\n",
       "    <tr style=\"text-align: right;\">\n",
       "      <th></th>\n",
       "      <th>data_formatada</th>\n",
       "      <th>estacao</th>\n",
       "      <th>ano</th>\n",
       "      <th>mes</th>\n",
       "      <th>lat</th>\n",
       "      <th>lon</th>\n",
       "      <th>chuva</th>\n",
       "      <th>temp</th>\n",
       "      <th>ur</th>\n",
       "      <th>co</th>\n",
       "      <th>no</th>\n",
       "      <th>no2</th>\n",
       "      <th>nox</th>\n",
       "      <th>so2</th>\n",
       "      <th>o3</th>\n",
       "      <th>pm10</th>\n",
       "      <th>pm2_5</th>\n",
       "      <th>aqi</th>\n",
       "      <th>classificacao</th>\n",
       "    </tr>\n",
       "  </thead>\n",
       "  <tbody>\n",
       "    <tr>\n",
       "      <th>0</th>\n",
       "      <td>2012-01-01</td>\n",
       "      <td>Pedra de Guaratiba</td>\n",
       "      <td>2012</td>\n",
       "      <td>1</td>\n",
       "      <td>-23.004379</td>\n",
       "      <td>-43.62901</td>\n",
       "      <td>1.561905</td>\n",
       "      <td>25.298571</td>\n",
       "      <td>92.982857</td>\n",
       "      <td>NaN</td>\n",
       "      <td>NaN</td>\n",
       "      <td>NaN</td>\n",
       "      <td>NaN</td>\n",
       "      <td>NaN</td>\n",
       "      <td>37.054762</td>\n",
       "      <td>20.142857</td>\n",
       "      <td>NaN</td>\n",
       "      <td>17</td>\n",
       "      <td>N1 - Boa</td>\n",
       "    </tr>\n",
       "    <tr>\n",
       "      <th>1</th>\n",
       "      <td>2012-01-02</td>\n",
       "      <td>Pedra de Guaratiba</td>\n",
       "      <td>2012</td>\n",
       "      <td>1</td>\n",
       "      <td>-23.004379</td>\n",
       "      <td>-43.62901</td>\n",
       "      <td>1.141667</td>\n",
       "      <td>23.154583</td>\n",
       "      <td>93.573333</td>\n",
       "      <td>NaN</td>\n",
       "      <td>NaN</td>\n",
       "      <td>NaN</td>\n",
       "      <td>NaN</td>\n",
       "      <td>NaN</td>\n",
       "      <td>47.928750</td>\n",
       "      <td>8.666667</td>\n",
       "      <td>NaN</td>\n",
       "      <td>21</td>\n",
       "      <td>N1 - Boa</td>\n",
       "    </tr>\n",
       "    <tr>\n",
       "      <th>2</th>\n",
       "      <td>2012-01-03</td>\n",
       "      <td>Pedra de Guaratiba</td>\n",
       "      <td>2012</td>\n",
       "      <td>1</td>\n",
       "      <td>-23.004379</td>\n",
       "      <td>-43.62901</td>\n",
       "      <td>0.000000</td>\n",
       "      <td>24.197083</td>\n",
       "      <td>82.005000</td>\n",
       "      <td>NaN</td>\n",
       "      <td>NaN</td>\n",
       "      <td>NaN</td>\n",
       "      <td>NaN</td>\n",
       "      <td>NaN</td>\n",
       "      <td>16.141250</td>\n",
       "      <td>18.176471</td>\n",
       "      <td>NaN</td>\n",
       "      <td>15</td>\n",
       "      <td>N1 - Boa</td>\n",
       "    </tr>\n",
       "    <tr>\n",
       "      <th>3</th>\n",
       "      <td>2012-01-04</td>\n",
       "      <td>Pedra de Guaratiba</td>\n",
       "      <td>2012</td>\n",
       "      <td>1</td>\n",
       "      <td>-23.004379</td>\n",
       "      <td>-43.62901</td>\n",
       "      <td>0.000000</td>\n",
       "      <td>24.976667</td>\n",
       "      <td>78.547917</td>\n",
       "      <td>NaN</td>\n",
       "      <td>NaN</td>\n",
       "      <td>NaN</td>\n",
       "      <td>NaN</td>\n",
       "      <td>NaN</td>\n",
       "      <td>34.663333</td>\n",
       "      <td>31.333333</td>\n",
       "      <td>NaN</td>\n",
       "      <td>27</td>\n",
       "      <td>N1 - Boa</td>\n",
       "    </tr>\n",
       "    <tr>\n",
       "      <th>4</th>\n",
       "      <td>2012-01-05</td>\n",
       "      <td>Pedra de Guaratiba</td>\n",
       "      <td>2012</td>\n",
       "      <td>1</td>\n",
       "      <td>-23.004379</td>\n",
       "      <td>-43.62901</td>\n",
       "      <td>0.000000</td>\n",
       "      <td>24.998000</td>\n",
       "      <td>80.963333</td>\n",
       "      <td>NaN</td>\n",
       "      <td>NaN</td>\n",
       "      <td>NaN</td>\n",
       "      <td>NaN</td>\n",
       "      <td>NaN</td>\n",
       "      <td>37.833333</td>\n",
       "      <td>27.041667</td>\n",
       "      <td>NaN</td>\n",
       "      <td>26</td>\n",
       "      <td>N1 - Boa</td>\n",
       "    </tr>\n",
       "  </tbody>\n",
       "</table>\n",
       "</div>\n",
       "    <div class=\"colab-df-buttons\">\n",
       "\n",
       "  <div class=\"colab-df-container\">\n",
       "    <button class=\"colab-df-convert\" onclick=\"convertToInteractive('df-00e4509d-2e15-4d49-84f1-803b35828c25')\"\n",
       "            title=\"Convert this dataframe to an interactive table.\"\n",
       "            style=\"display:none;\">\n",
       "\n",
       "  <svg xmlns=\"http://www.w3.org/2000/svg\" height=\"24px\" viewBox=\"0 -960 960 960\">\n",
       "    <path d=\"M120-120v-720h720v720H120Zm60-500h600v-160H180v160Zm220 220h160v-160H400v160Zm0 220h160v-160H400v160ZM180-400h160v-160H180v160Zm440 0h160v-160H620v160ZM180-180h160v-160H180v160Zm440 0h160v-160H620v160Z\"/>\n",
       "  </svg>\n",
       "    </button>\n",
       "\n",
       "  <style>\n",
       "    .colab-df-container {\n",
       "      display:flex;\n",
       "      gap: 12px;\n",
       "    }\n",
       "\n",
       "    .colab-df-convert {\n",
       "      background-color: #E8F0FE;\n",
       "      border: none;\n",
       "      border-radius: 50%;\n",
       "      cursor: pointer;\n",
       "      display: none;\n",
       "      fill: #1967D2;\n",
       "      height: 32px;\n",
       "      padding: 0 0 0 0;\n",
       "      width: 32px;\n",
       "    }\n",
       "\n",
       "    .colab-df-convert:hover {\n",
       "      background-color: #E2EBFA;\n",
       "      box-shadow: 0px 1px 2px rgba(60, 64, 67, 0.3), 0px 1px 3px 1px rgba(60, 64, 67, 0.15);\n",
       "      fill: #174EA6;\n",
       "    }\n",
       "\n",
       "    .colab-df-buttons div {\n",
       "      margin-bottom: 4px;\n",
       "    }\n",
       "\n",
       "    [theme=dark] .colab-df-convert {\n",
       "      background-color: #3B4455;\n",
       "      fill: #D2E3FC;\n",
       "    }\n",
       "\n",
       "    [theme=dark] .colab-df-convert:hover {\n",
       "      background-color: #434B5C;\n",
       "      box-shadow: 0px 1px 3px 1px rgba(0, 0, 0, 0.15);\n",
       "      filter: drop-shadow(0px 1px 2px rgba(0, 0, 0, 0.3));\n",
       "      fill: #FFFFFF;\n",
       "    }\n",
       "  </style>\n",
       "\n",
       "    <script>\n",
       "      const buttonEl =\n",
       "        document.querySelector('#df-00e4509d-2e15-4d49-84f1-803b35828c25 button.colab-df-convert');\n",
       "      buttonEl.style.display =\n",
       "        google.colab.kernel.accessAllowed ? 'block' : 'none';\n",
       "\n",
       "      async function convertToInteractive(key) {\n",
       "        const element = document.querySelector('#df-00e4509d-2e15-4d49-84f1-803b35828c25');\n",
       "        const dataTable =\n",
       "          await google.colab.kernel.invokeFunction('convertToInteractive',\n",
       "                                                    [key], {});\n",
       "        if (!dataTable) return;\n",
       "\n",
       "        const docLinkHtml = 'Like what you see? Visit the ' +\n",
       "          '<a target=\"_blank\" href=https://colab.research.google.com/notebooks/data_table.ipynb>data table notebook</a>'\n",
       "          + ' to learn more about interactive tables.';\n",
       "        element.innerHTML = '';\n",
       "        dataTable['output_type'] = 'display_data';\n",
       "        await google.colab.output.renderOutput(dataTable, element);\n",
       "        const docLink = document.createElement('div');\n",
       "        docLink.innerHTML = docLinkHtml;\n",
       "        element.appendChild(docLink);\n",
       "      }\n",
       "    </script>\n",
       "  </div>\n",
       "\n",
       "\n",
       "    <div id=\"df-3d863015-49bb-4dcb-aa2e-8c8af82d3a29\">\n",
       "      <button class=\"colab-df-quickchart\" onclick=\"quickchart('df-3d863015-49bb-4dcb-aa2e-8c8af82d3a29')\"\n",
       "                title=\"Suggest charts\"\n",
       "                style=\"display:none;\">\n",
       "\n",
       "<svg xmlns=\"http://www.w3.org/2000/svg\" height=\"24px\"viewBox=\"0 0 24 24\"\n",
       "     width=\"24px\">\n",
       "    <g>\n",
       "        <path d=\"M19 3H5c-1.1 0-2 .9-2 2v14c0 1.1.9 2 2 2h14c1.1 0 2-.9 2-2V5c0-1.1-.9-2-2-2zM9 17H7v-7h2v7zm4 0h-2V7h2v10zm4 0h-2v-4h2v4z\"/>\n",
       "    </g>\n",
       "</svg>\n",
       "      </button>\n",
       "\n",
       "<style>\n",
       "  .colab-df-quickchart {\n",
       "      --bg-color: #E8F0FE;\n",
       "      --fill-color: #1967D2;\n",
       "      --hover-bg-color: #E2EBFA;\n",
       "      --hover-fill-color: #174EA6;\n",
       "      --disabled-fill-color: #AAA;\n",
       "      --disabled-bg-color: #DDD;\n",
       "  }\n",
       "\n",
       "  [theme=dark] .colab-df-quickchart {\n",
       "      --bg-color: #3B4455;\n",
       "      --fill-color: #D2E3FC;\n",
       "      --hover-bg-color: #434B5C;\n",
       "      --hover-fill-color: #FFFFFF;\n",
       "      --disabled-bg-color: #3B4455;\n",
       "      --disabled-fill-color: #666;\n",
       "  }\n",
       "\n",
       "  .colab-df-quickchart {\n",
       "    background-color: var(--bg-color);\n",
       "    border: none;\n",
       "    border-radius: 50%;\n",
       "    cursor: pointer;\n",
       "    display: none;\n",
       "    fill: var(--fill-color);\n",
       "    height: 32px;\n",
       "    padding: 0;\n",
       "    width: 32px;\n",
       "  }\n",
       "\n",
       "  .colab-df-quickchart:hover {\n",
       "    background-color: var(--hover-bg-color);\n",
       "    box-shadow: 0 1px 2px rgba(60, 64, 67, 0.3), 0 1px 3px 1px rgba(60, 64, 67, 0.15);\n",
       "    fill: var(--button-hover-fill-color);\n",
       "  }\n",
       "\n",
       "  .colab-df-quickchart-complete:disabled,\n",
       "  .colab-df-quickchart-complete:disabled:hover {\n",
       "    background-color: var(--disabled-bg-color);\n",
       "    fill: var(--disabled-fill-color);\n",
       "    box-shadow: none;\n",
       "  }\n",
       "\n",
       "  .colab-df-spinner {\n",
       "    border: 2px solid var(--fill-color);\n",
       "    border-color: transparent;\n",
       "    border-bottom-color: var(--fill-color);\n",
       "    animation:\n",
       "      spin 1s steps(1) infinite;\n",
       "  }\n",
       "\n",
       "  @keyframes spin {\n",
       "    0% {\n",
       "      border-color: transparent;\n",
       "      border-bottom-color: var(--fill-color);\n",
       "      border-left-color: var(--fill-color);\n",
       "    }\n",
       "    20% {\n",
       "      border-color: transparent;\n",
       "      border-left-color: var(--fill-color);\n",
       "      border-top-color: var(--fill-color);\n",
       "    }\n",
       "    30% {\n",
       "      border-color: transparent;\n",
       "      border-left-color: var(--fill-color);\n",
       "      border-top-color: var(--fill-color);\n",
       "      border-right-color: var(--fill-color);\n",
       "    }\n",
       "    40% {\n",
       "      border-color: transparent;\n",
       "      border-right-color: var(--fill-color);\n",
       "      border-top-color: var(--fill-color);\n",
       "    }\n",
       "    60% {\n",
       "      border-color: transparent;\n",
       "      border-right-color: var(--fill-color);\n",
       "    }\n",
       "    80% {\n",
       "      border-color: transparent;\n",
       "      border-right-color: var(--fill-color);\n",
       "      border-bottom-color: var(--fill-color);\n",
       "    }\n",
       "    90% {\n",
       "      border-color: transparent;\n",
       "      border-bottom-color: var(--fill-color);\n",
       "    }\n",
       "  }\n",
       "</style>\n",
       "\n",
       "      <script>\n",
       "        async function quickchart(key) {\n",
       "          const quickchartButtonEl =\n",
       "            document.querySelector('#' + key + ' button');\n",
       "          quickchartButtonEl.disabled = true;  // To prevent multiple clicks.\n",
       "          quickchartButtonEl.classList.add('colab-df-spinner');\n",
       "          try {\n",
       "            const charts = await google.colab.kernel.invokeFunction(\n",
       "                'suggestCharts', [key], {});\n",
       "          } catch (error) {\n",
       "            console.error('Error during call to suggestCharts:', error);\n",
       "          }\n",
       "          quickchartButtonEl.classList.remove('colab-df-spinner');\n",
       "          quickchartButtonEl.classList.add('colab-df-quickchart-complete');\n",
       "        }\n",
       "        (() => {\n",
       "          let quickchartButtonEl =\n",
       "            document.querySelector('#df-3d863015-49bb-4dcb-aa2e-8c8af82d3a29 button');\n",
       "          quickchartButtonEl.style.display =\n",
       "            google.colab.kernel.accessAllowed ? 'block' : 'none';\n",
       "        })();\n",
       "      </script>\n",
       "    </div>\n",
       "\n",
       "    </div>\n",
       "  </div>\n"
      ],
      "text/plain": [
       "  data_formatada             estacao   ano  mes        lat       lon  \\\n",
       "0     2012-01-01  Pedra de Guaratiba  2012    1 -23.004379 -43.62901   \n",
       "1     2012-01-02  Pedra de Guaratiba  2012    1 -23.004379 -43.62901   \n",
       "2     2012-01-03  Pedra de Guaratiba  2012    1 -23.004379 -43.62901   \n",
       "3     2012-01-04  Pedra de Guaratiba  2012    1 -23.004379 -43.62901   \n",
       "4     2012-01-05  Pedra de Guaratiba  2012    1 -23.004379 -43.62901   \n",
       "\n",
       "      chuva       temp         ur  co  no  no2  nox  so2         o3  \\\n",
       "0  1.561905  25.298571  92.982857 NaN NaN  NaN  NaN  NaN  37.054762   \n",
       "1  1.141667  23.154583  93.573333 NaN NaN  NaN  NaN  NaN  47.928750   \n",
       "2  0.000000  24.197083  82.005000 NaN NaN  NaN  NaN  NaN  16.141250   \n",
       "3  0.000000  24.976667  78.547917 NaN NaN  NaN  NaN  NaN  34.663333   \n",
       "4  0.000000  24.998000  80.963333 NaN NaN  NaN  NaN  NaN  37.833333   \n",
       "\n",
       "        pm10  pm2_5  aqi classificacao  \n",
       "0  20.142857    NaN   17      N1 - Boa  \n",
       "1   8.666667    NaN   21      N1 - Boa  \n",
       "2  18.176471    NaN   15      N1 - Boa  \n",
       "3  31.333333    NaN   27      N1 - Boa  \n",
       "4  27.041667    NaN   26      N1 - Boa  "
      ]
     },
     "metadata": {},
     "output_type": "display_data"
    }
   ],
   "source": [
    "# Reorder columns\n",
    "new_order = ['data_formatada', 'estacao', 'ano', 'mes', 'lat', 'lon',\n",
    "             'chuva', 'temp', 'ur', 'co', 'no', 'no2', 'nox', 'so2', 'o3', 'pm10', 'pm2_5',\n",
    "             'aqi', 'classificacao']\n",
    "df_merged = df_merged[new_order]\n",
    "\n",
    "display(df_merged.head())"
   ]
  },
  {
   "cell_type": "code",
   "execution_count": null,
   "metadata": {
    "id": "gfe-Z7ZsOOQO"
   },
   "outputs": [],
   "source": [
    "df_merged.to_csv('pedra_guaratiba.csv', index=False)"
   ]
  }
 ],
 "metadata": {
  "colab": {
   "authorship_tag": "ABX9TyMLWfAir/JOwsFGFieEMwMt",
   "mount_file_id": "1lC0j2pf6AXZjE4TiuwgtrW3iVgz0GOYh",
   "provenance": []
  },
  "kernelspec": {
   "display_name": "base",
   "language": "python",
   "name": "python3"
  },
  "language_info": {
   "codemirror_mode": {
    "name": "ipython",
    "version": 3
   },
   "file_extension": ".py",
   "mimetype": "text/x-python",
   "name": "python",
   "nbconvert_exporter": "python",
   "pygments_lexer": "ipython3",
   "version": "3.11.7"
  }
 },
 "nbformat": 4,
 "nbformat_minor": 0
}
