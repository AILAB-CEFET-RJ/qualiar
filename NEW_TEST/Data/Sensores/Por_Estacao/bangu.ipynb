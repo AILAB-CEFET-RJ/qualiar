{
 "cells": [
  {
   "cell_type": "markdown",
   "metadata": {
    "id": "TTJ20DT1DZP4"
   },
   "source": [
    "# Importações"
   ]
  },
  {
   "cell_type": "code",
   "execution_count": null,
   "metadata": {
    "executionInfo": {
     "elapsed": 4372,
     "status": "ok",
     "timestamp": 1750560301827,
     "user": {
      "displayName": "João Terêncio",
      "userId": "14302965054076037047"
     },
     "user_tz": 180
    },
    "id": "3IqV3pDuCcJq"
   },
   "outputs": [],
   "source": [
    "import io\n",
    "import zipfile\n",
    "import requests\n",
    "import numpy as np\n",
    "import pandas as pd\n",
    "import matplotlib.pyplot as plt"
   ]
  },
  {
   "cell_type": "markdown",
   "metadata": {
    "id": "g4RXL-is5UgJ"
   },
   "source": [
    "# Consumindo bases"
   ]
  },
  {
   "cell_type": "code",
   "execution_count": 9,
   "metadata": {},
   "outputs": [
    {
     "name": "stdout",
     "output_type": "stream",
     "text": [
      "Arquivos no ZIP:\n",
      "['sensores.csv']\n"
     ]
    },
    {
     "data": {
      "text/html": [
       "<div>\n",
       "<style scoped>\n",
       "    .dataframe tbody tr th:only-of-type {\n",
       "        vertical-align: middle;\n",
       "    }\n",
       "\n",
       "    .dataframe tbody tr th {\n",
       "        vertical-align: top;\n",
       "    }\n",
       "\n",
       "    .dataframe thead th {\n",
       "        text-align: right;\n",
       "    }\n",
       "</style>\n",
       "<table border=\"1\" class=\"dataframe\">\n",
       "  <thead>\n",
       "    <tr style=\"text-align: right;\">\n",
       "      <th></th>\n",
       "      <th>objectid</th>\n",
       "      <th>data</th>\n",
       "      <th>codnum</th>\n",
       "      <th>estação</th>\n",
       "      <th>chuva</th>\n",
       "      <th>pres</th>\n",
       "      <th>rs</th>\n",
       "      <th>temp</th>\n",
       "      <th>ur</th>\n",
       "      <th>dir_vento</th>\n",
       "      <th>...</th>\n",
       "      <th>co</th>\n",
       "      <th>no</th>\n",
       "      <th>nox</th>\n",
       "      <th>o3</th>\n",
       "      <th>pm10</th>\n",
       "      <th>pm2_5</th>\n",
       "      <th>lat</th>\n",
       "      <th>lon</th>\n",
       "      <th>x_utm_sirgas2000</th>\n",
       "      <th>y_utm_sirgas2000</th>\n",
       "    </tr>\n",
       "  </thead>\n",
       "  <tbody>\n",
       "    <tr>\n",
       "      <th>0</th>\n",
       "      <td>2372436</td>\n",
       "      <td>1/1/2011 6:30:00 AM</td>\n",
       "      <td>3</td>\n",
       "      <td>CA</td>\n",
       "      <td>0.2</td>\n",
       "      <td>1009.33</td>\n",
       "      <td>1.57</td>\n",
       "      <td>21.81</td>\n",
       "      <td>84.50</td>\n",
       "      <td>250.67</td>\n",
       "      <td>...</td>\n",
       "      <td>0.17</td>\n",
       "      <td>NaN</td>\n",
       "      <td>NaN</td>\n",
       "      <td>17.89</td>\n",
       "      <td>10.0</td>\n",
       "      <td>NaN</td>\n",
       "      <td>-22.908344</td>\n",
       "      <td>-43.178152</td>\n",
       "      <td>686853.7075</td>\n",
       "      <td>7.465470e+06</td>\n",
       "    </tr>\n",
       "    <tr>\n",
       "      <th>1</th>\n",
       "      <td>2372437</td>\n",
       "      <td>1/1/2011 7:30:00 AM</td>\n",
       "      <td>3</td>\n",
       "      <td>CA</td>\n",
       "      <td>0.0</td>\n",
       "      <td>1009.00</td>\n",
       "      <td>1.40</td>\n",
       "      <td>21.79</td>\n",
       "      <td>84.73</td>\n",
       "      <td>121.17</td>\n",
       "      <td>...</td>\n",
       "      <td>0.21</td>\n",
       "      <td>NaN</td>\n",
       "      <td>NaN</td>\n",
       "      <td>12.44</td>\n",
       "      <td>11.0</td>\n",
       "      <td>NaN</td>\n",
       "      <td>-22.908344</td>\n",
       "      <td>-43.178152</td>\n",
       "      <td>686853.7075</td>\n",
       "      <td>7.465470e+06</td>\n",
       "    </tr>\n",
       "    <tr>\n",
       "      <th>2</th>\n",
       "      <td>2372438</td>\n",
       "      <td>1/1/2011 8:30:00 AM</td>\n",
       "      <td>3</td>\n",
       "      <td>CA</td>\n",
       "      <td>0.2</td>\n",
       "      <td>1008.17</td>\n",
       "      <td>1.37</td>\n",
       "      <td>21.44</td>\n",
       "      <td>85.70</td>\n",
       "      <td>85.67</td>\n",
       "      <td>...</td>\n",
       "      <td>0.17</td>\n",
       "      <td>NaN</td>\n",
       "      <td>NaN</td>\n",
       "      <td>18.97</td>\n",
       "      <td>38.0</td>\n",
       "      <td>NaN</td>\n",
       "      <td>-22.908344</td>\n",
       "      <td>-43.178152</td>\n",
       "      <td>686853.7075</td>\n",
       "      <td>7.465470e+06</td>\n",
       "    </tr>\n",
       "    <tr>\n",
       "      <th>3</th>\n",
       "      <td>2372439</td>\n",
       "      <td>1/1/2011 9:30:00 AM</td>\n",
       "      <td>3</td>\n",
       "      <td>CA</td>\n",
       "      <td>0.0</td>\n",
       "      <td>1008.00</td>\n",
       "      <td>1.30</td>\n",
       "      <td>21.17</td>\n",
       "      <td>88.57</td>\n",
       "      <td>85.33</td>\n",
       "      <td>...</td>\n",
       "      <td>0.22</td>\n",
       "      <td>NaN</td>\n",
       "      <td>NaN</td>\n",
       "      <td>11.08</td>\n",
       "      <td>8.0</td>\n",
       "      <td>NaN</td>\n",
       "      <td>-22.908344</td>\n",
       "      <td>-43.178152</td>\n",
       "      <td>686853.7075</td>\n",
       "      <td>7.465470e+06</td>\n",
       "    </tr>\n",
       "    <tr>\n",
       "      <th>4</th>\n",
       "      <td>2372440</td>\n",
       "      <td>1/1/2011 10:30:00 AM</td>\n",
       "      <td>3</td>\n",
       "      <td>CA</td>\n",
       "      <td>0.2</td>\n",
       "      <td>1008.00</td>\n",
       "      <td>1.32</td>\n",
       "      <td>21.25</td>\n",
       "      <td>89.28</td>\n",
       "      <td>73.00</td>\n",
       "      <td>...</td>\n",
       "      <td>0.22</td>\n",
       "      <td>NaN</td>\n",
       "      <td>NaN</td>\n",
       "      <td>11.28</td>\n",
       "      <td>10.0</td>\n",
       "      <td>NaN</td>\n",
       "      <td>-22.908344</td>\n",
       "      <td>-43.178152</td>\n",
       "      <td>686853.7075</td>\n",
       "      <td>7.465470e+06</td>\n",
       "    </tr>\n",
       "  </tbody>\n",
       "</table>\n",
       "<p>5 rows × 26 columns</p>\n",
       "</div>"
      ],
      "text/plain": [
       "   objectid                  data  codnum estação  chuva     pres    rs  \\\n",
       "0   2372436   1/1/2011 6:30:00 AM       3      CA    0.2  1009.33  1.57   \n",
       "1   2372437   1/1/2011 7:30:00 AM       3      CA    0.0  1009.00  1.40   \n",
       "2   2372438   1/1/2011 8:30:00 AM       3      CA    0.2  1008.17  1.37   \n",
       "3   2372439   1/1/2011 9:30:00 AM       3      CA    0.0  1008.00  1.30   \n",
       "4   2372440  1/1/2011 10:30:00 AM       3      CA    0.2  1008.00  1.32   \n",
       "\n",
       "    temp     ur  dir_vento  ...    co  no  nox     o3  pm10  pm2_5        lat  \\\n",
       "0  21.81  84.50     250.67  ...  0.17 NaN  NaN  17.89  10.0    NaN -22.908344   \n",
       "1  21.79  84.73     121.17  ...  0.21 NaN  NaN  12.44  11.0    NaN -22.908344   \n",
       "2  21.44  85.70      85.67  ...  0.17 NaN  NaN  18.97  38.0    NaN -22.908344   \n",
       "3  21.17  88.57      85.33  ...  0.22 NaN  NaN  11.08   8.0    NaN -22.908344   \n",
       "4  21.25  89.28      73.00  ...  0.22 NaN  NaN  11.28  10.0    NaN -22.908344   \n",
       "\n",
       "         lon  x_utm_sirgas2000  y_utm_sirgas2000  \n",
       "0 -43.178152       686853.7075      7.465470e+06  \n",
       "1 -43.178152       686853.7075      7.465470e+06  \n",
       "2 -43.178152       686853.7075      7.465470e+06  \n",
       "3 -43.178152       686853.7075      7.465470e+06  \n",
       "4 -43.178152       686853.7075      7.465470e+06  \n",
       "\n",
       "[5 rows x 26 columns]"
      ]
     },
     "execution_count": 9,
     "metadata": {},
     "output_type": "execute_result"
    }
   ],
   "source": [
    "url_sensor = \"https://github.com/AILAB-CEFET-RJ/qualiar/raw/main/NEW_TEST/Data/Sensores/sensores.zip\"\n",
    "\n",
    "response = requests.get(url_sensor)\n",
    "response.raise_for_status()\n",
    "\n",
    "zip_file = zipfile.ZipFile(io.BytesIO(response.content))\n",
    "\n",
    "print(\"Arquivos no ZIP:\")\n",
    "print(zip_file.namelist())\n",
    "\n",
    "with zip_file.open(zip_file.namelist()[0]) as file:\n",
    "    df_sensor = pd.read_csv(file)  \n",
    "\n",
    "df_sensor.head()"
   ]
  },
  {
   "cell_type": "code",
   "execution_count": 10,
   "metadata": {
    "executionInfo": {
     "elapsed": 18444,
     "status": "ok",
     "timestamp": 1750560320264,
     "user": {
      "displayName": "João Terêncio",
      "userId": "14302965054076037047"
     },
     "user_tz": 180
    },
    "id": "eyjEKJYpDhin"
   },
   "outputs": [],
   "source": [
    "url_estacoes = 'https://raw.githubusercontent.com/AILAB-CEFET-RJ/qualiar/refs/heads/main/NEW_TEST/Data/Sensores/estacoes.csv'\n",
    "\n",
    "df_estacoes = pd.read_csv(url_estacoes, sep=',')\n",
    "\n",
    "url_qualidade_ar = 'https://raw.githubusercontent.com/AILAB-CEFET-RJ/qualiar/refs/heads/main/NEW_TEST/Data/Sensores/ind_qual_ar_17_24.csv'\n",
    "\n",
    "df_qualidade_ar = pd.read_csv(url_qualidade_ar, sep=',')"
   ]
  },
  {
   "cell_type": "markdown",
   "metadata": {
    "id": "-KWYSQmgDtki"
   },
   "source": [
    "# Pré-processamento"
   ]
  },
  {
   "cell_type": "markdown",
   "metadata": {
    "id": "q18psyhOH2hN"
   },
   "source": [
    "## Selecionando e criando colunas"
   ]
  },
  {
   "cell_type": "code",
   "execution_count": 11,
   "metadata": {
    "cellView": "form",
    "executionInfo": {
     "elapsed": 5,
     "status": "ok",
     "timestamp": 1750560320267,
     "user": {
      "displayName": "João Terêncio",
      "userId": "14302965054076037047"
     },
     "user_tz": 180
    },
    "id": "m2M9yDEpXZHc"
   },
   "outputs": [],
   "source": [
    "#@title Criando coluna nome estacao com base na coluna codnum\n",
    "df_sensor['nome_estacao'] = df_sensor['codnum'].map(df_estacoes.set_index('codnum')['nome'])"
   ]
  },
  {
   "cell_type": "code",
   "execution_count": 12,
   "metadata": {
    "cellView": "form",
    "executionInfo": {
     "elapsed": 38,
     "status": "ok",
     "timestamp": 1750560320306,
     "user": {
      "displayName": "João Terêncio",
      "userId": "14302965054076037047"
     },
     "user_tz": 180
    },
    "id": "A9QJxIqs5mRT"
   },
   "outputs": [],
   "source": [
    "#@title Selecionando as colunas mais relevantes\n",
    "interest_columns = ['nome_estacao', 'data', 'chuva', 'temp', 'ur', 'co', 'no', 'no2', 'nox', 'so2', 'o3', 'pm10', 'pm2_5', 'lat', 'lon']\n",
    "\n",
    "df_sensor_interest = df_sensor[interest_columns]"
   ]
  },
  {
   "cell_type": "code",
   "execution_count": 13,
   "metadata": {
    "cellView": "form",
    "colab": {
     "base_uri": "https://localhost:8080/"
    },
    "executionInfo": {
     "elapsed": 4516,
     "status": "ok",
     "timestamp": 1750560324828,
     "user": {
      "displayName": "João Terêncio",
      "userId": "14302965054076037047"
     },
     "user_tz": 180
    },
    "id": "08TM4o3W5mUB",
    "outputId": "0151ff22-6c0a-4ad5-dcf1-6331dc0bb7b2"
   },
   "outputs": [
    {
     "name": "stderr",
     "output_type": "stream",
     "text": [
      "C:\\Users\\jhter\\AppData\\Local\\Temp\\ipykernel_50968\\1024544581.py:2: SettingWithCopyWarning: \n",
      "A value is trying to be set on a copy of a slice from a DataFrame.\n",
      "Try using .loc[row_indexer,col_indexer] = value instead\n",
      "\n",
      "See the caveats in the documentation: https://pandas.pydata.org/pandas-docs/stable/user_guide/indexing.html#returning-a-view-versus-a-copy\n",
      "  df_sensor_interest['data'] = pd.to_datetime(df_sensor_interest['data'], format='%m/%d/%Y %I:%M:%S %p')\n",
      "C:\\Users\\jhter\\AppData\\Local\\Temp\\ipykernel_50968\\1024544581.py:3: SettingWithCopyWarning: \n",
      "A value is trying to be set on a copy of a slice from a DataFrame.\n",
      "Try using .loc[row_indexer,col_indexer] = value instead\n",
      "\n",
      "See the caveats in the documentation: https://pandas.pydata.org/pandas-docs/stable/user_guide/indexing.html#returning-a-view-versus-a-copy\n",
      "  df_sensor_interest['data_formatada'] = pd.to_datetime(df_sensor_interest['data']).dt.strftime('%Y-%m-%d')\n",
      "C:\\Users\\jhter\\AppData\\Local\\Temp\\ipykernel_50968\\1024544581.py:4: SettingWithCopyWarning: \n",
      "A value is trying to be set on a copy of a slice from a DataFrame.\n",
      "Try using .loc[row_indexer,col_indexer] = value instead\n",
      "\n",
      "See the caveats in the documentation: https://pandas.pydata.org/pandas-docs/stable/user_guide/indexing.html#returning-a-view-versus-a-copy\n",
      "  df_sensor_interest['ano'] = df_sensor_interest['data'].dt.year\n",
      "C:\\Users\\jhter\\AppData\\Local\\Temp\\ipykernel_50968\\1024544581.py:5: SettingWithCopyWarning: \n",
      "A value is trying to be set on a copy of a slice from a DataFrame.\n",
      "Try using .loc[row_indexer,col_indexer] = value instead\n",
      "\n",
      "See the caveats in the documentation: https://pandas.pydata.org/pandas-docs/stable/user_guide/indexing.html#returning-a-view-versus-a-copy\n",
      "  df_sensor_interest['mes'] = df_sensor_interest['data'].dt.month\n"
     ]
    }
   ],
   "source": [
    "#@title Criando colunas de ano e mês para facilitar a análise temporal\n",
    "df_sensor_interest['data'] = pd.to_datetime(df_sensor_interest['data'], format='%m/%d/%Y %I:%M:%S %p')\n",
    "df_sensor_interest['data_formatada'] = pd.to_datetime(df_sensor_interest['data']).dt.strftime('%Y-%m-%d')\n",
    "df_sensor_interest['ano'] = df_sensor_interest['data'].dt.year\n",
    "df_sensor_interest['mes'] = df_sensor_interest['data'].dt.month"
   ]
  },
  {
   "cell_type": "code",
   "execution_count": 14,
   "metadata": {
    "cellView": "form",
    "executionInfo": {
     "elapsed": 100,
     "status": "ok",
     "timestamp": 1750560324926,
     "user": {
      "displayName": "João Terêncio",
      "userId": "14302965054076037047"
     },
     "user_tz": 180
    },
    "id": "010BKMPF5mWa"
   },
   "outputs": [],
   "source": [
    "#@title Removendo ano de 2011 (Pela falta de alguns poluente)\n",
    "df_sensor_interest_filtered = df_sensor_interest[df_sensor_interest['ano'] > 2011]"
   ]
  },
  {
   "cell_type": "code",
   "execution_count": 15,
   "metadata": {
    "executionInfo": {
     "elapsed": 44,
     "status": "ok",
     "timestamp": 1750560325041,
     "user": {
      "displayName": "João Terêncio",
      "userId": "14302965054076037047"
     },
     "user_tz": 180
    },
    "id": "_c6j_tgIdxeL"
   },
   "outputs": [],
   "source": [
    "#@title Filtrando por Bangu\n",
    "df_sensor_bangu = df_sensor_interest_filtered[df_sensor_interest_filtered['nome_estacao'] == 'ESTAÇÃO BANGU']"
   ]
  },
  {
   "cell_type": "code",
   "execution_count": 16,
   "metadata": {
    "executionInfo": {
     "elapsed": 163,
     "status": "ok",
     "timestamp": 1750560325203,
     "user": {
      "displayName": "João Terêncio",
      "userId": "14302965054076037047"
     },
     "user_tz": 180
    },
    "id": "jTvrAGBA18UZ"
   },
   "outputs": [],
   "source": [
    "df_qualidade_ar['data_formatada'] = pd.to_datetime(df_qualidade_ar['data']).dt.strftime('%Y-%m-%d')\n",
    "df_qualidade_ar_bangu = df_qualidade_ar[df_qualidade_ar['estacao_nome'] == 'Bangu']"
   ]
  },
  {
   "cell_type": "markdown",
   "metadata": {
    "id": "gmWkUcmdIpux"
   },
   "source": [
    "# Tratando colunas de interesse por Estação de monitoriamento\n"
   ]
  },
  {
   "cell_type": "markdown",
   "metadata": {
    "id": "yLqNrnrAN4w-"
   },
   "source": [
    "## Estação Bangu\n",
    "Colunas normalizadas: Chuva, Temperatura, Umidade relativa, CO, NO, NO2, NOx, SO2, O3, PM10"
   ]
  },
  {
   "cell_type": "markdown",
   "metadata": {
    "id": "9ymtlIMxOidV"
   },
   "source": [
    "### Chuva"
   ]
  },
  {
   "cell_type": "code",
   "execution_count": 17,
   "metadata": {
    "colab": {
     "base_uri": "https://localhost:8080/",
     "height": 0
    },
    "executionInfo": {
     "elapsed": 34,
     "status": "ok",
     "timestamp": 1750560325254,
     "user": {
      "displayName": "João Terêncio",
      "userId": "14302965054076037047"
     },
     "user_tz": 180
    },
    "id": "24M_cJnzP4gK",
    "outputId": "aa4db356-903c-443c-c7ee-8149dc98b437"
   },
   "outputs": [
    {
     "data": {
      "text/plain": [
       "count    109651.000000\n",
       "mean          0.145737\n",
       "std           1.301804\n",
       "min           0.000000\n",
       "25%           0.000000\n",
       "50%           0.000000\n",
       "75%           0.000000\n",
       "max          69.400000\n",
       "Name: chuva, dtype: float64"
      ]
     },
     "execution_count": 17,
     "metadata": {},
     "output_type": "execute_result"
    }
   ],
   "source": [
    "df_sensor_bangu['chuva'].describe()"
   ]
  },
  {
   "cell_type": "code",
   "execution_count": 18,
   "metadata": {
    "cellView": "form",
    "colab": {
     "base_uri": "https://localhost:8080/"
    },
    "executionInfo": {
     "elapsed": 60,
     "status": "ok",
     "timestamp": 1750560325317,
     "user": {
      "displayName": "João Terêncio",
      "userId": "14302965054076037047"
     },
     "user_tz": 180
    },
    "id": "Ntw7zXT0Q6zx",
    "outputId": "57606f34-6d67-4b43-d63e-e32d57e3aa80"
   },
   "outputs": [
    {
     "name": "stdout",
     "output_type": "stream",
     "text": [
      "Quantidade de valores vazios: 4325\n"
     ]
    }
   ],
   "source": [
    "#@title Vendo quantidade de valores vazios\n",
    "\n",
    "valroes_vazio = df_sensor_bangu[df_sensor_bangu['chuva'].isnull()].groupby(['ano', 'mes']).size().sum()\n",
    "print(f\"Quantidade de valores vazios: {valroes_vazio}\")"
   ]
  },
  {
   "cell_type": "code",
   "execution_count": 19,
   "metadata": {
    "cellView": "form",
    "colab": {
     "base_uri": "https://localhost:8080/"
    },
    "executionInfo": {
     "elapsed": 41,
     "status": "ok",
     "timestamp": 1750560325319,
     "user": {
      "displayName": "João Terêncio",
      "userId": "14302965054076037047"
     },
     "user_tz": 180
    },
    "id": "wfMEwBEEwJph",
    "outputId": "b1e9ec2a-1a2d-4072-e2a5-19a1e971aabb"
   },
   "outputs": [
    {
     "name": "stderr",
     "output_type": "stream",
     "text": [
      "C:\\Users\\jhter\\AppData\\Local\\Temp\\ipykernel_50968\\1628237799.py:3: SettingWithCopyWarning: \n",
      "A value is trying to be set on a copy of a slice from a DataFrame.\n",
      "Try using .loc[row_indexer,col_indexer] = value instead\n",
      "\n",
      "See the caveats in the documentation: https://pandas.pydata.org/pandas-docs/stable/user_guide/indexing.html#returning-a-view-versus-a-copy\n",
      "  df_sensor_bangu['chuva_nulos_no_dia'] = (\n"
     ]
    }
   ],
   "source": [
    "#@title Criando coluna que informa a quantidade de valores vazios por dia\n",
    "\n",
    "df_sensor_bangu['chuva_nulos_no_dia'] = (\n",
    "    df_sensor_bangu['chuva'].isnull()\n",
    "    .groupby(df_sensor_bangu['data_formatada'])\n",
    "    .transform('sum')  # Soma os nulos por dia e repete o valor em todas as linhas do dia\n",
    ")"
   ]
  },
  {
   "cell_type": "code",
   "execution_count": 20,
   "metadata": {
    "cellView": "form",
    "colab": {
     "base_uri": "https://localhost:8080/",
     "height": 0
    },
    "executionInfo": {
     "elapsed": 650,
     "status": "ok",
     "timestamp": 1750560325970,
     "user": {
      "displayName": "João Terêncio",
      "userId": "14302965054076037047"
     },
     "user_tz": 180
    },
    "id": "jYMgiW_cHPBb",
    "outputId": "8f6c6cf1-9a42-47a7-c922-12865d898867"
   },
   "outputs": [
    {
     "data": {
      "image/png": "[encoded data removed]",
      "text/plain": [
       "<Figure size 1000x600 with 1 Axes>"
      ]
     },
     "metadata": {},
     "output_type": "display_data"
    }
   ],
   "source": [
    "#@title Distribuição dos valores vazios\n",
    "\n",
    "# Seleciona uma única linha por dia, para evitar repetição\n",
    "df_dias = df_sensor_bangu[df_sensor_bangu['chuva_nulos_no_dia'] != 0].groupby('data_formatada')['chuva_nulos_no_dia'].first()\n",
    "\n",
    "# Plotar o histograma da contagem de valores nulos por dia\n",
    "plt.figure(figsize=(10,6))\n",
    "plt.hist(df_dias, bins=range(0, df_dias.max() + 2), edgecolor='black', align='left')\n",
    "plt.title('Histograma de Quantidade de Valores Vazios em \"chuva\" por Dia')\n",
    "plt.xlabel('Quantidade de valores vazios no dia')\n",
    "plt.ylabel('Número de dias')\n",
    "plt.xticks(range(0, df_dias.max() + 1))\n",
    "plt.grid(axis='y', alpha=0.75)\n",
    "plt.show()"
   ]
  },
  {
   "cell_type": "code",
   "execution_count": 21,
   "metadata": {
    "cellView": "form",
    "colab": {
     "base_uri": "https://localhost:8080/"
    },
    "executionInfo": {
     "elapsed": 12,
     "status": "ok",
     "timestamp": 1750560325981,
     "user": {
      "displayName": "João Terêncio",
      "userId": "14302965054076037047"
     },
     "user_tz": 180
    },
    "id": "CUSCMdfvRRAo",
    "outputId": "49c9a912-b6af-4f18-8c9f-37fc5052c46b"
   },
   "outputs": [
    {
     "name": "stdout",
     "output_type": "stream",
     "text": [
      "318 linhas foram preenchidas com interpolate na coluna 'chuva'.\n",
      "Foram preenchido 7% de dados\n"
     ]
    }
   ],
   "source": [
    "#@title Preenchimento dos valores nulos utilizando a função interpolate (Preenchendo apenas os que tem menos de 7 linhas vazias)\n",
    "\n",
    "mask = (df_sensor_bangu['chuva_nulos_no_dia'] <= 6)\n",
    "\n",
    "num_nulls = df_sensor_bangu[mask]['chuva'].isnull().sum()\n",
    "df_sensor_bangu.loc[mask, 'chuva'] = df_sensor_bangu[mask]['chuva'].interpolate()\n",
    "print(f\"{num_nulls} linhas foram preenchidas com interpolate na coluna 'chuva'.\")\n",
    "print(f\"Foram preenchido {round((num_nulls/valroes_vazio)*100)}% de dados\")"
   ]
  },
  {
   "cell_type": "code",
   "execution_count": 22,
   "metadata": {
    "colab": {
     "base_uri": "https://localhost:8080/",
     "height": 0
    },
    "executionInfo": {
     "elapsed": 4,
     "status": "ok",
     "timestamp": 1750560326083,
     "user": {
      "displayName": "João Terêncio",
      "userId": "14302965054076037047"
     },
     "user_tz": 180
    },
    "id": "97-NgrgDRt33",
    "outputId": "9319cd5c-eff0-408e-dee4-eb333f8bf517"
   },
   "outputs": [
    {
     "data": {
      "text/plain": [
       "count    109969.000000\n",
       "mean          0.147017\n",
       "std           1.314489\n",
       "min           0.000000\n",
       "25%           0.000000\n",
       "50%           0.000000\n",
       "75%           0.000000\n",
       "max          69.400000\n",
       "Name: chuva, dtype: float64"
      ]
     },
     "execution_count": 22,
     "metadata": {},
     "output_type": "execute_result"
    }
   ],
   "source": [
    "df_sensor_bangu['chuva'].describe()"
   ]
  },
  {
   "cell_type": "markdown",
   "metadata": {
    "id": "1XA1vvw_JYeW"
   },
   "source": [
    "### Temperatura"
   ]
  },
  {
   "cell_type": "code",
   "execution_count": 23,
   "metadata": {
    "colab": {
     "base_uri": "https://localhost:8080/",
     "height": 0
    },
    "executionInfo": {
     "elapsed": 17,
     "status": "ok",
     "timestamp": 1750560326110,
     "user": {
      "displayName": "João Terêncio",
      "userId": "14302965054076037047"
     },
     "user_tz": 180
    },
    "id": "_9XmZnxbJYeW",
    "outputId": "ba6a6393-64be-4518-a8ec-b5ee680117a6"
   },
   "outputs": [
    {
     "data": {
      "text/plain": [
       "count    83421.000000\n",
       "mean        26.730319\n",
       "std          4.755326\n",
       "min         12.830000\n",
       "25%         23.310000\n",
       "50%         26.170000\n",
       "75%         29.670000\n",
       "max         44.670000\n",
       "Name: temp, dtype: float64"
      ]
     },
     "execution_count": 23,
     "metadata": {},
     "output_type": "execute_result"
    }
   ],
   "source": [
    "df_sensor_bangu['temp'].describe()"
   ]
  },
  {
   "cell_type": "code",
   "execution_count": 24,
   "metadata": {
    "cellView": "form",
    "colab": {
     "base_uri": "https://localhost:8080/"
    },
    "executionInfo": {
     "elapsed": 14,
     "status": "ok",
     "timestamp": 1750560326125,
     "user": {
      "displayName": "João Terêncio",
      "userId": "14302965054076037047"
     },
     "user_tz": 180
    },
    "id": "YEPrxSuZJYeX",
    "outputId": "bf0444df-66a3-44e8-8556-1ef814456e52"
   },
   "outputs": [
    {
     "name": "stdout",
     "output_type": "stream",
     "text": [
      "Quantidade de valores vazios: 30555\n"
     ]
    }
   ],
   "source": [
    "#@title Vendo quantidade de valores vazios\n",
    "\n",
    "valroes_vazio = df_sensor_bangu[df_sensor_bangu['temp'].isnull()].groupby(['ano', 'mes']).size().sum()\n",
    "print(f\"Quantidade de valores vazios: {valroes_vazio}\")"
   ]
  },
  {
   "cell_type": "code",
   "execution_count": 25,
   "metadata": {
    "cellView": "form",
    "colab": {
     "base_uri": "https://localhost:8080/"
    },
    "executionInfo": {
     "elapsed": 15,
     "status": "ok",
     "timestamp": 1750560326142,
     "user": {
      "displayName": "João Terêncio",
      "userId": "14302965054076037047"
     },
     "user_tz": 180
    },
    "id": "N0LIJac7JYeX",
    "outputId": "fc1da2dd-ccec-4f2d-b8b1-3d4a9009b63b"
   },
   "outputs": [
    {
     "name": "stderr",
     "output_type": "stream",
     "text": [
      "C:\\Users\\jhter\\AppData\\Local\\Temp\\ipykernel_50968\\2340186339.py:3: SettingWithCopyWarning: \n",
      "A value is trying to be set on a copy of a slice from a DataFrame.\n",
      "Try using .loc[row_indexer,col_indexer] = value instead\n",
      "\n",
      "See the caveats in the documentation: https://pandas.pydata.org/pandas-docs/stable/user_guide/indexing.html#returning-a-view-versus-a-copy\n",
      "  df_sensor_bangu['temp_nulos_no_dia'] = (\n"
     ]
    }
   ],
   "source": [
    "#@title Criando coluna que informa a quantidade de valores vazios por dia\n",
    "\n",
    "df_sensor_bangu['temp_nulos_no_dia'] = (\n",
    "    df_sensor_bangu['temp'].isnull()\n",
    "    .groupby(df_sensor_bangu['data_formatada'])\n",
    "    .transform('sum')  # Soma os nulos por dia e repete o valor em todas as linhas do dia\n",
    ")"
   ]
  },
  {
   "cell_type": "code",
   "execution_count": 26,
   "metadata": {
    "cellView": "form",
    "colab": {
     "base_uri": "https://localhost:8080/",
     "height": 0
    },
    "executionInfo": {
     "elapsed": 333,
     "status": "ok",
     "timestamp": 1750560326477,
     "user": {
      "displayName": "João Terêncio",
      "userId": "14302965054076037047"
     },
     "user_tz": 180
    },
    "id": "H54zUgYSJYeY",
    "outputId": "0dc590a8-796f-47f9-e994-51031bd026ba"
   },
   "outputs": [
    {
     "data": {
      "image/png": "[encoded data removed]",
      "text/plain": [
       "<Figure size 1000x600 with 1 Axes>"
      ]
     },
     "metadata": {},
     "output_type": "display_data"
    }
   ],
   "source": [
    "#@title Distribuição dos valores vazios\n",
    "\n",
    "# Seleciona uma única linha por dia, para evitar repetição\n",
    "df_dias = df_sensor_bangu[df_sensor_bangu['temp_nulos_no_dia'] != 0].groupby('data_formatada')['temp_nulos_no_dia'].first()\n",
    "\n",
    "# Plotar o histograma da contagem de valores nulos por dia\n",
    "plt.figure(figsize=(10,6))\n",
    "plt.hist(df_dias, bins=range(0, df_dias.max() + 2), edgecolor='black', align='left')\n",
    "plt.title('Histograma de Quantidade de Valores Vazios em \"temp\" por Dia')\n",
    "plt.xlabel('Quantidade de valores vazios no dia')\n",
    "plt.ylabel('Número de dias')\n",
    "plt.xticks(range(0, df_dias.max() + 1))\n",
    "plt.grid(axis='y', alpha=0.75)\n",
    "plt.show()"
   ]
  },
  {
   "cell_type": "code",
   "execution_count": 27,
   "metadata": {
    "cellView": "form",
    "colab": {
     "base_uri": "https://localhost:8080/"
    },
    "executionInfo": {
     "elapsed": 41,
     "status": "ok",
     "timestamp": 1750560326524,
     "user": {
      "displayName": "João Terêncio",
      "userId": "14302965054076037047"
     },
     "user_tz": 180
    },
    "id": "2sCGqFWvJYeY",
    "outputId": "1af2f6b9-bfef-4e43-d504-5712fbffb8c4"
   },
   "outputs": [
    {
     "name": "stdout",
     "output_type": "stream",
     "text": [
      "273 linhas foram preenchidas com interpolate na coluna 'temp'.\n",
      "Foram preenchido 1% de dados\n"
     ]
    }
   ],
   "source": [
    "#@title Preenchimento dos valores nulos utilizando a função interpolate (Preenchendo apenas os que tem menos de 7 linhas vazias por dia)\n",
    "\n",
    "mask = (df_sensor_bangu['temp_nulos_no_dia'] <= 6)\n",
    "\n",
    "num_nulls = df_sensor_bangu[mask]['temp'].isnull().sum()\n",
    "df_sensor_bangu.loc[mask, 'temp'] = df_sensor_bangu[mask]['temp'].interpolate()\n",
    "print(f\"{num_nulls} linhas foram preenchidas com interpolate na coluna 'temp'.\")\n",
    "print(f\"Foram preenchido {round((num_nulls/valroes_vazio)*100)}% de dados\")"
   ]
  },
  {
   "cell_type": "code",
   "execution_count": 28,
   "metadata": {
    "colab": {
     "base_uri": "https://localhost:8080/",
     "height": 0
    },
    "executionInfo": {
     "elapsed": 5,
     "status": "ok",
     "timestamp": 1750560326525,
     "user": {
      "displayName": "João Terêncio",
      "userId": "14302965054076037047"
     },
     "user_tz": 180
    },
    "id": "2KWSCe6RJYeY",
    "outputId": "afeb2266-cf74-4cd0-8709-3c4d19e63c7b"
   },
   "outputs": [
    {
     "data": {
      "text/plain": [
       "count    83694.000000\n",
       "mean        26.733186\n",
       "std          4.754213\n",
       "min         12.830000\n",
       "25%         23.320000\n",
       "50%         26.170000\n",
       "75%         29.680000\n",
       "max         44.670000\n",
       "Name: temp, dtype: float64"
      ]
     },
     "execution_count": 28,
     "metadata": {},
     "output_type": "execute_result"
    }
   ],
   "source": [
    "df_sensor_bangu['temp'].describe()"
   ]
  },
  {
   "cell_type": "markdown",
   "metadata": {
    "id": "Kw4EN6nOJ7wi"
   },
   "source": [
    "### Umidade relativa"
   ]
  },
  {
   "cell_type": "code",
   "execution_count": 29,
   "metadata": {
    "colab": {
     "base_uri": "https://localhost:8080/",
     "height": 0
    },
    "executionInfo": {
     "elapsed": 5,
     "status": "ok",
     "timestamp": 1750560326530,
     "user": {
      "displayName": "João Terêncio",
      "userId": "14302965054076037047"
     },
     "user_tz": 180
    },
    "id": "Zh2KIpc2J7wj",
    "outputId": "33a05a50-59f6-40a7-92b0-cc341ffb1dd0"
   },
   "outputs": [
    {
     "data": {
      "text/plain": [
       "count    97213.000000\n",
       "mean        71.566685\n",
       "std         20.383399\n",
       "min         13.080000\n",
       "25%         56.250000\n",
       "50%         72.600000\n",
       "75%         88.970000\n",
       "max         99.900000\n",
       "Name: ur, dtype: float64"
      ]
     },
     "execution_count": 29,
     "metadata": {},
     "output_type": "execute_result"
    }
   ],
   "source": [
    "df_sensor_bangu['ur'].describe()"
   ]
  },
  {
   "cell_type": "code",
   "execution_count": 30,
   "metadata": {
    "cellView": "form",
    "colab": {
     "base_uri": "https://localhost:8080/"
    },
    "executionInfo": {
     "elapsed": 15,
     "status": "ok",
     "timestamp": 1750560326543,
     "user": {
      "displayName": "João Terêncio",
      "userId": "14302965054076037047"
     },
     "user_tz": 180
    },
    "id": "p6gLkSsQJ7wk",
    "outputId": "0a38b0cb-d321-4d62-9fa8-df55a3a07d00"
   },
   "outputs": [
    {
     "name": "stdout",
     "output_type": "stream",
     "text": [
      "Quantidade de valores vazios: 16763\n"
     ]
    }
   ],
   "source": [
    "#@title Vendo quantidade de valores vazios\n",
    "\n",
    "valroes_vazio = df_sensor_bangu[df_sensor_bangu['ur'].isnull()].groupby(['ano', 'mes']).size().sum()\n",
    "print(f\"Quantidade de valores vazios: {valroes_vazio}\")"
   ]
  },
  {
   "cell_type": "code",
   "execution_count": 31,
   "metadata": {
    "cellView": "form",
    "colab": {
     "base_uri": "https://localhost:8080/"
    },
    "executionInfo": {
     "elapsed": 9,
     "status": "ok",
     "timestamp": 1750560326544,
     "user": {
      "displayName": "João Terêncio",
      "userId": "14302965054076037047"
     },
     "user_tz": 180
    },
    "id": "p6USmMKRJ7wk",
    "outputId": "1429d086-6dfe-4737-b528-89e42295392f"
   },
   "outputs": [
    {
     "name": "stderr",
     "output_type": "stream",
     "text": [
      "C:\\Users\\jhter\\AppData\\Local\\Temp\\ipykernel_50968\\3741765883.py:3: SettingWithCopyWarning: \n",
      "A value is trying to be set on a copy of a slice from a DataFrame.\n",
      "Try using .loc[row_indexer,col_indexer] = value instead\n",
      "\n",
      "See the caveats in the documentation: https://pandas.pydata.org/pandas-docs/stable/user_guide/indexing.html#returning-a-view-versus-a-copy\n",
      "  df_sensor_bangu['ur_nulos_no_dia'] = (\n"
     ]
    }
   ],
   "source": [
    "#@title Criando coluna que informa a quantidade de valores vazios por dia\n",
    "\n",
    "df_sensor_bangu['ur_nulos_no_dia'] = (\n",
    "    df_sensor_bangu['ur'].isnull()\n",
    "    .groupby(df_sensor_bangu['data_formatada'])\n",
    "    .transform('sum')  # Soma os nulos por dia e repete o valor em todas as linhas do dia\n",
    ")"
   ]
  },
  {
   "cell_type": "code",
   "execution_count": 32,
   "metadata": {
    "cellView": "form",
    "colab": {
     "base_uri": "https://localhost:8080/",
     "height": 0
    },
    "executionInfo": {
     "elapsed": 448,
     "status": "ok",
     "timestamp": 1750560326993,
     "user": {
      "displayName": "João Terêncio",
      "userId": "14302965054076037047"
     },
     "user_tz": 180
    },
    "id": "eq-mDiJGJ7wk",
    "outputId": "6f013c8c-0b13-4517-9223-9339930a002d"
   },
   "outputs": [
    {
     "data": {
      "image/png": "[encoded data removed]",
      "text/plain": [
       "<Figure size 1000x600 with 1 Axes>"
      ]
     },
     "metadata": {},
     "output_type": "display_data"
    }
   ],
   "source": [
    "#@title Distribuição dos valores vazios\n",
    "\n",
    "# Seleciona uma única linha por dia, para evitar repetição\n",
    "df_dias = df_sensor_bangu[df_sensor_bangu['ur_nulos_no_dia'] != 0].groupby('data_formatada')['ur_nulos_no_dia'].first()\n",
    "\n",
    "# Plotar o histograma da contagem de valores nulos por dia\n",
    "plt.figure(figsize=(10,6))\n",
    "plt.hist(df_dias, bins=range(0, df_dias.max() + 2), edgecolor='black', align='left')\n",
    "plt.title('Histograma de Quantidade de Valores Vazios em \"ur\" por Dia')\n",
    "plt.xlabel('Quantidade de valores vazios no dia')\n",
    "plt.ylabel('Número de dias')\n",
    "plt.xticks(range(0, df_dias.max() + 1))\n",
    "plt.grid(axis='y', alpha=0.75)\n",
    "plt.show()"
   ]
  },
  {
   "cell_type": "code",
   "execution_count": 33,
   "metadata": {
    "cellView": "form",
    "colab": {
     "base_uri": "https://localhost:8080/"
    },
    "executionInfo": {
     "elapsed": 8,
     "status": "ok",
     "timestamp": 1750560327000,
     "user": {
      "displayName": "João Terêncio",
      "userId": "14302965054076037047"
     },
     "user_tz": 180
    },
    "id": "wwI_91-_J7wk",
    "outputId": "e3bea492-82fc-4049-85d4-e0884f59757b"
   },
   "outputs": [
    {
     "name": "stdout",
     "output_type": "stream",
     "text": [
      "612 linhas foram preenchidas com interpolate na coluna 'ur'.\n",
      "Foram preenchido 4% de dados\n"
     ]
    }
   ],
   "source": [
    "#@title Preenchimento dos valores nulos utilizando a função interpolate (Preenchendo apenas os que tem menos de 7 linhas vazias por dia)\n",
    "\n",
    "mask = (df_sensor_bangu['ur_nulos_no_dia'] <= 6)\n",
    "\n",
    "num_nulls = df_sensor_bangu[mask]['ur'].isnull().sum()\n",
    "df_sensor_bangu.loc[mask, 'ur'] = df_sensor_bangu[mask]['ur'].interpolate()\n",
    "print(f\"{num_nulls} linhas foram preenchidas com interpolate na coluna 'ur'.\")\n",
    "print(f\"Foram preenchido {round((num_nulls/valroes_vazio)*100)}% de dados\")"
   ]
  },
  {
   "cell_type": "code",
   "execution_count": 34,
   "metadata": {
    "colab": {
     "base_uri": "https://localhost:8080/",
     "height": 0
    },
    "executionInfo": {
     "elapsed": 14,
     "status": "ok",
     "timestamp": 1750560327015,
     "user": {
      "displayName": "João Terêncio",
      "userId": "14302965054076037047"
     },
     "user_tz": 180
    },
    "id": "pgz04UK9J7wl",
    "outputId": "f8630d51-5197-429c-8c86-a056874183de"
   },
   "outputs": [
    {
     "data": {
      "text/plain": [
       "count    97825.000000\n",
       "mean        71.592565\n",
       "std         20.385511\n",
       "min         13.080000\n",
       "25%         56.270000\n",
       "50%         72.630000\n",
       "75%         89.050000\n",
       "max         99.900000\n",
       "Name: ur, dtype: float64"
      ]
     },
     "execution_count": 34,
     "metadata": {},
     "output_type": "execute_result"
    }
   ],
   "source": [
    "df_sensor_bangu['ur'].describe()"
   ]
  },
  {
   "cell_type": "markdown",
   "metadata": {
    "id": "CCC7VEL1KuH4"
   },
   "source": [
    "### Monóxido de carbono"
   ]
  },
  {
   "cell_type": "code",
   "execution_count": 35,
   "metadata": {
    "colab": {
     "base_uri": "https://localhost:8080/",
     "height": 0
    },
    "executionInfo": {
     "elapsed": 5,
     "status": "ok",
     "timestamp": 1750560327021,
     "user": {
      "displayName": "João Terêncio",
      "userId": "14302965054076037047"
     },
     "user_tz": 180
    },
    "id": "9dpfUCUfKuH4",
    "outputId": "7d709c15-1f2b-4b93-c9c3-92e39cc76031"
   },
   "outputs": [
    {
     "data": {
      "text/plain": [
       "count    75784.000000\n",
       "mean         0.366541\n",
       "std          0.225856\n",
       "min          0.000000\n",
       "25%          0.220000\n",
       "50%          0.330000\n",
       "75%          0.470000\n",
       "max          3.050000\n",
       "Name: co, dtype: float64"
      ]
     },
     "execution_count": 35,
     "metadata": {},
     "output_type": "execute_result"
    }
   ],
   "source": [
    "df_sensor_bangu['co'].describe()"
   ]
  },
  {
   "cell_type": "code",
   "execution_count": 36,
   "metadata": {
    "cellView": "form",
    "colab": {
     "base_uri": "https://localhost:8080/"
    },
    "executionInfo": {
     "elapsed": 23,
     "status": "ok",
     "timestamp": 1750560327045,
     "user": {
      "displayName": "João Terêncio",
      "userId": "14302965054076037047"
     },
     "user_tz": 180
    },
    "id": "Iph6vPoHKuH5",
    "outputId": "f2e85d11-7b50-4519-fc23-a6f6640683bf"
   },
   "outputs": [
    {
     "name": "stdout",
     "output_type": "stream",
     "text": [
      "Quantidade de valores vazios: 38192\n"
     ]
    }
   ],
   "source": [
    "#@title Vendo quantidade de valores vazios\n",
    "\n",
    "valroes_vazio = df_sensor_bangu[df_sensor_bangu['co'].isnull()].groupby(['ano', 'mes']).size().sum()\n",
    "print(f\"Quantidade de valores vazios: {valroes_vazio}\")"
   ]
  },
  {
   "cell_type": "code",
   "execution_count": 37,
   "metadata": {
    "cellView": "form",
    "colab": {
     "base_uri": "https://localhost:8080/"
    },
    "executionInfo": {
     "elapsed": 41,
     "status": "ok",
     "timestamp": 1750560327087,
     "user": {
      "displayName": "João Terêncio",
      "userId": "14302965054076037047"
     },
     "user_tz": 180
    },
    "id": "NnwrJ1lqKuH5",
    "outputId": "3db44c35-cb43-40fb-8d81-e700646e3ec1"
   },
   "outputs": [
    {
     "name": "stderr",
     "output_type": "stream",
     "text": [
      "C:\\Users\\jhter\\AppData\\Local\\Temp\\ipykernel_50968\\620085754.py:3: SettingWithCopyWarning: \n",
      "A value is trying to be set on a copy of a slice from a DataFrame.\n",
      "Try using .loc[row_indexer,col_indexer] = value instead\n",
      "\n",
      "See the caveats in the documentation: https://pandas.pydata.org/pandas-docs/stable/user_guide/indexing.html#returning-a-view-versus-a-copy\n",
      "  df_sensor_bangu['co_nulos_no_dia'] = (\n"
     ]
    }
   ],
   "source": [
    "#@title Criando coluna que informa a quantidade de valores vazios por dia\n",
    "\n",
    "df_sensor_bangu['co_nulos_no_dia'] = (\n",
    "    df_sensor_bangu['co'].isnull()\n",
    "    .groupby(df_sensor_bangu['data_formatada'])\n",
    "    .transform('sum')  # Soma os nulos por dia e repete o valor em todas as linhas do dia\n",
    ")"
   ]
  },
  {
   "cell_type": "code",
   "execution_count": 38,
   "metadata": {
    "cellView": "form",
    "colab": {
     "base_uri": "https://localhost:8080/",
     "height": 0
    },
    "executionInfo": {
     "elapsed": 843,
     "status": "ok",
     "timestamp": 1750560327938,
     "user": {
      "displayName": "João Terêncio",
      "userId": "14302965054076037047"
     },
     "user_tz": 180
    },
    "id": "2-VMGpsdKuH5",
    "outputId": "7430728a-69c3-4bf4-81df-2ebd94357bc0"
   },
   "outputs": [
    {
     "data": {
      "image/png": "[encoded data removed]",
      "text/plain": [
       "<Figure size 1000x600 with 1 Axes>"
      ]
     },
     "metadata": {},
     "output_type": "display_data"
    }
   ],
   "source": [
    "#@title Distribuição dos valores vazios\n",
    "\n",
    "# Seleciona uma única linha por dia, para evitar repetição\n",
    "df_dias = df_sensor_bangu[df_sensor_bangu['co_nulos_no_dia'] != 0].groupby('data_formatada')['co_nulos_no_dia'].first()\n",
    "\n",
    "# Plotar o histograma da contagem de valores nulos por dia\n",
    "plt.figure(figsize=(10,6))\n",
    "plt.hist(df_dias, bins=range(0, df_dias.max() + 2), edgecolor='black', align='left')\n",
    "plt.title(\"Histograma de Quantidade de Valores Vazios em 'co' por Dia\")\n",
    "plt.xlabel('Quantidade de valores vazios no dia')\n",
    "plt.ylabel('Número de dias')\n",
    "plt.xticks(range(0, df_dias.max() + 1))\n",
    "plt.grid(axis='y', alpha=0.75)\n",
    "plt.show()"
   ]
  },
  {
   "cell_type": "code",
   "execution_count": 39,
   "metadata": {
    "cellView": "form",
    "colab": {
     "base_uri": "https://localhost:8080/"
    },
    "executionInfo": {
     "elapsed": 10,
     "status": "ok",
     "timestamp": 1750560327953,
     "user": {
      "displayName": "João Terêncio",
      "userId": "14302965054076037047"
     },
     "user_tz": 180
    },
    "id": "OZOmu7J9KuH5",
    "outputId": "60fe16a4-c4ae-4580-9d74-60a2fd869170"
   },
   "outputs": [
    {
     "name": "stdout",
     "output_type": "stream",
     "text": [
      "938 linhas foram preenchidas com interpolate na coluna 'co'.\n",
      "Foram preenchido 2% de dados\n"
     ]
    }
   ],
   "source": [
    "#@title Preenchimento dos valores nulos utilizando a função interpolate (Preenchendo apenas os que tem menos de 7 linhas vazias por dia)\n",
    "\n",
    "mask = (df_sensor_bangu['co_nulos_no_dia'] <= 6)\n",
    "\n",
    "num_nulls = df_sensor_bangu[mask]['co'].isnull().sum()\n",
    "df_sensor_bangu.loc[mask, 'co'] = df_sensor_bangu[mask]['co'].interpolate()\n",
    "print(f\"{num_nulls} linhas foram preenchidas com interpolate na coluna 'co'.\")\n",
    "print(f\"Foram preenchido {round((num_nulls/valroes_vazio)*100)}% de dados\")"
   ]
  },
  {
   "cell_type": "code",
   "execution_count": 40,
   "metadata": {
    "colab": {
     "base_uri": "https://localhost:8080/",
     "height": 0
    },
    "executionInfo": {
     "elapsed": 4,
     "status": "ok",
     "timestamp": 1750560327959,
     "user": {
      "displayName": "João Terêncio",
      "userId": "14302965054076037047"
     },
     "user_tz": 180
    },
    "id": "1j_2t8uiKuH5",
    "outputId": "b69a34ba-e1d1-44cf-845d-bb908f3cf14e"
   },
   "outputs": [
    {
     "data": {
      "text/plain": [
       "count    76722.000000\n",
       "mean         0.366232\n",
       "std          0.225495\n",
       "min          0.000000\n",
       "25%          0.220000\n",
       "50%          0.330000\n",
       "75%          0.470000\n",
       "max          3.050000\n",
       "Name: co, dtype: float64"
      ]
     },
     "execution_count": 40,
     "metadata": {},
     "output_type": "execute_result"
    }
   ],
   "source": [
    "df_sensor_bangu['co'].describe()"
   ]
  },
  {
   "cell_type": "markdown",
   "metadata": {
    "id": "E6XkJ5BvLXB4"
   },
   "source": [
    "### Monóxido de Nitrogênio"
   ]
  },
  {
   "cell_type": "code",
   "execution_count": 41,
   "metadata": {
    "colab": {
     "base_uri": "https://localhost:8080/",
     "height": 0
    },
    "executionInfo": {
     "elapsed": 3,
     "status": "ok",
     "timestamp": 1750560327964,
     "user": {
      "displayName": "João Terêncio",
      "userId": "14302965054076037047"
     },
     "user_tz": 180
    },
    "id": "X36xqWTdLXB5",
    "outputId": "44f0edb1-a5f0-4afa-c930-c02c7c0142b6"
   },
   "outputs": [
    {
     "data": {
      "text/plain": [
       "count    95344.000000\n",
       "mean         6.052632\n",
       "std          8.703856\n",
       "min          0.000000\n",
       "25%          1.960000\n",
       "50%          3.560000\n",
       "75%          6.520000\n",
       "max        188.230000\n",
       "Name: no, dtype: float64"
      ]
     },
     "execution_count": 41,
     "metadata": {},
     "output_type": "execute_result"
    }
   ],
   "source": [
    "df_sensor_bangu['no'].describe()"
   ]
  },
  {
   "cell_type": "code",
   "execution_count": 42,
   "metadata": {
    "cellView": "form",
    "colab": {
     "base_uri": "https://localhost:8080/"
    },
    "executionInfo": {
     "elapsed": 12,
     "status": "ok",
     "timestamp": 1750560327977,
     "user": {
      "displayName": "João Terêncio",
      "userId": "14302965054076037047"
     },
     "user_tz": 180
    },
    "id": "Y26pA0GcLXB6",
    "outputId": "e4c4989f-73b3-4523-dba2-d711d5ddba86"
   },
   "outputs": [
    {
     "name": "stdout",
     "output_type": "stream",
     "text": [
      "Quantidade de valores vazios: 18632\n"
     ]
    }
   ],
   "source": [
    "#@title Vendo quantidade de valores vazios\n",
    "\n",
    "valroes_vazio = df_sensor_bangu[df_sensor_bangu['no'].isnull()].groupby(['ano', 'mes']).size().sum()\n",
    "print(f\"Quantidade de valores vazios: {valroes_vazio}\")"
   ]
  },
  {
   "cell_type": "code",
   "execution_count": 43,
   "metadata": {
    "cellView": "form",
    "colab": {
     "base_uri": "https://localhost:8080/"
    },
    "executionInfo": {
     "elapsed": 7,
     "status": "ok",
     "timestamp": 1750560327978,
     "user": {
      "displayName": "João Terêncio",
      "userId": "14302965054076037047"
     },
     "user_tz": 180
    },
    "id": "sAcauzMYLXB6",
    "outputId": "a7ebcb6c-d4ef-47ab-d972-aac41cfc93e7"
   },
   "outputs": [
    {
     "name": "stderr",
     "output_type": "stream",
     "text": [
      "C:\\Users\\jhter\\AppData\\Local\\Temp\\ipykernel_50968\\444461120.py:3: SettingWithCopyWarning: \n",
      "A value is trying to be set on a copy of a slice from a DataFrame.\n",
      "Try using .loc[row_indexer,col_indexer] = value instead\n",
      "\n",
      "See the caveats in the documentation: https://pandas.pydata.org/pandas-docs/stable/user_guide/indexing.html#returning-a-view-versus-a-copy\n",
      "  df_sensor_bangu['no_nulos_no_dia'] = (\n"
     ]
    }
   ],
   "source": [
    "#@title Criando coluna que informa a quantidade de valores vazios por dia\n",
    "\n",
    "df_sensor_bangu['no_nulos_no_dia'] = (\n",
    "    df_sensor_bangu['no'].isnull()\n",
    "    .groupby(df_sensor_bangu['data_formatada'])\n",
    "    .transform('sum')  # Soma os nulos por dia e repete o valor em todas as linhas do dia\n",
    ")"
   ]
  },
  {
   "cell_type": "code",
   "execution_count": 44,
   "metadata": {
    "cellView": "form",
    "colab": {
     "base_uri": "https://localhost:8080/",
     "height": 0
    },
    "executionInfo": {
     "elapsed": 301,
     "status": "ok",
     "timestamp": 1750560328280,
     "user": {
      "displayName": "João Terêncio",
      "userId": "14302965054076037047"
     },
     "user_tz": 180
    },
    "id": "4tgQJdoOLXB7",
    "outputId": "1e52ad3c-0a50-479a-c2e5-be078808d8a5"
   },
   "outputs": [
    {
     "data": {
      "image/png": "[encoded data removed]",
      "text/plain": [
       "<Figure size 1000x600 with 1 Axes>"
      ]
     },
     "metadata": {},
     "output_type": "display_data"
    }
   ],
   "source": [
    "#@title Distribuição dos valores vazios\n",
    "\n",
    "# Seleciona uma única linha por dia, para evitar repetição\n",
    "df_dias = df_sensor_bangu[df_sensor_bangu['no_nulos_no_dia'] != 0].groupby('data_formatada')['no_nulos_no_dia'].first()\n",
    "\n",
    "# Plotar o histograma da contagem de valores nulos por dia\n",
    "plt.figure(figsize=(10,6))\n",
    "plt.hist(df_dias, bins=range(0, df_dias.max() + 2), edgecolor='black', align='left')\n",
    "plt.title(\"Histograma de Quantidade de Valores Vazios em 'no' por Dia\")\n",
    "plt.xlabel('Quantidade de valores vazios no dia')\n",
    "plt.ylabel('Número de dias')\n",
    "plt.xticks(range(0, df_dias.max() + 1))\n",
    "plt.grid(axis='y', alpha=0.75)\n",
    "plt.show()"
   ]
  },
  {
   "cell_type": "code",
   "execution_count": 45,
   "metadata": {
    "cellView": "form",
    "colab": {
     "base_uri": "https://localhost:8080/"
    },
    "executionInfo": {
     "elapsed": 11,
     "status": "ok",
     "timestamp": 1750560328293,
     "user": {
      "displayName": "João Terêncio",
      "userId": "14302965054076037047"
     },
     "user_tz": 180
    },
    "id": "MpnzHkQ9LXB7",
    "outputId": "303da2be-347d-4fb5-8c78-08991865b96f"
   },
   "outputs": [
    {
     "name": "stdout",
     "output_type": "stream",
     "text": [
      "2756 linhas foram preenchidas com interpolate na coluna 'no'.\n",
      "Foram preenchido 15% de dados\n"
     ]
    }
   ],
   "source": [
    "#@title Preenchimento dos valores nulos utilizando a função interpolate (Preenchendo apenas os que tem menos de 7 linhas vazias por dia)\n",
    "\n",
    "mask = (df_sensor_bangu['no_nulos_no_dia'] <= 6)\n",
    "\n",
    "num_nulls = df_sensor_bangu[mask]['no'].isnull().sum()\n",
    "df_sensor_bangu.loc[mask, 'no'] = df_sensor_bangu[mask]['no'].interpolate()\n",
    "print(f\"{num_nulls} linhas foram preenchidas com interpolate na coluna 'no'.\")\n",
    "print(f\"Foram preenchido {round((num_nulls/valroes_vazio)*100)}% de dados\")"
   ]
  },
  {
   "cell_type": "code",
   "execution_count": 46,
   "metadata": {
    "colab": {
     "base_uri": "https://localhost:8080/",
     "height": 0
    },
    "executionInfo": {
     "elapsed": 46,
     "status": "ok",
     "timestamp": 1750560328341,
     "user": {
      "displayName": "João Terêncio",
      "userId": "14302965054076037047"
     },
     "user_tz": 180
    },
    "id": "tof4xFlCLXB7",
    "outputId": "afa2b06b-0ab3-4d4f-8b1a-52da459f3545"
   },
   "outputs": [
    {
     "data": {
      "text/plain": [
       "count    98100.000000\n",
       "mean         5.981156\n",
       "std          8.632818\n",
       "min          0.000000\n",
       "25%          1.920000\n",
       "50%          3.520000\n",
       "75%          6.460000\n",
       "max        188.230000\n",
       "Name: no, dtype: float64"
      ]
     },
     "execution_count": 46,
     "metadata": {},
     "output_type": "execute_result"
    }
   ],
   "source": [
    "df_sensor_bangu['no'].describe()"
   ]
  },
  {
   "cell_type": "markdown",
   "metadata": {
    "id": "EUmmcBfRL3FQ"
   },
   "source": [
    "### Dióxido de Nitrogênio"
   ]
  },
  {
   "cell_type": "code",
   "execution_count": 47,
   "metadata": {
    "colab": {
     "base_uri": "https://localhost:8080/",
     "height": 0
    },
    "executionInfo": {
     "elapsed": 15,
     "status": "ok",
     "timestamp": 1750560328342,
     "user": {
      "displayName": "João Terêncio",
      "userId": "14302965054076037047"
     },
     "user_tz": 180
    },
    "id": "c94PNq-eL3FR",
    "outputId": "b0f4bb13-f6c5-471c-87c0-ac72ea2614d2"
   },
   "outputs": [
    {
     "data": {
      "text/plain": [
       "count    95250.000000\n",
       "mean        22.801895\n",
       "std         15.509782\n",
       "min          0.000000\n",
       "25%         11.720000\n",
       "50%         19.160000\n",
       "75%         29.740000\n",
       "max        172.880000\n",
       "Name: no2, dtype: float64"
      ]
     },
     "execution_count": 47,
     "metadata": {},
     "output_type": "execute_result"
    }
   ],
   "source": [
    "df_sensor_bangu['no2'].describe()"
   ]
  },
  {
   "cell_type": "code",
   "execution_count": 48,
   "metadata": {
    "cellView": "form",
    "colab": {
     "base_uri": "https://localhost:8080/"
    },
    "executionInfo": {
     "elapsed": 15,
     "status": "ok",
     "timestamp": 1750560328346,
     "user": {
      "displayName": "João Terêncio",
      "userId": "14302965054076037047"
     },
     "user_tz": 180
    },
    "id": "cZF6XGcJL3FR",
    "outputId": "4ea58001-c8a2-4204-eb6b-6fe0cc4c006f"
   },
   "outputs": [
    {
     "name": "stdout",
     "output_type": "stream",
     "text": [
      "Quantidade de valores vazios: 18726\n"
     ]
    }
   ],
   "source": [
    "#@title Vendo quantidade de valores vazios\n",
    "\n",
    "valroes_vazio = df_sensor_bangu[df_sensor_bangu['no2'].isnull()].groupby(['ano', 'mes']).size().sum()\n",
    "print(f\"Quantidade de valores vazios: {valroes_vazio}\")"
   ]
  },
  {
   "cell_type": "code",
   "execution_count": 49,
   "metadata": {
    "cellView": "form",
    "colab": {
     "base_uri": "https://localhost:8080/"
    },
    "executionInfo": {
     "elapsed": 26,
     "status": "ok",
     "timestamp": 1750560328372,
     "user": {
      "displayName": "João Terêncio",
      "userId": "14302965054076037047"
     },
     "user_tz": 180
    },
    "id": "JirjBMu1L3FR",
    "outputId": "00a98032-9782-4bdb-a5f9-6d521cc33302"
   },
   "outputs": [
    {
     "name": "stderr",
     "output_type": "stream",
     "text": [
      "C:\\Users\\jhter\\AppData\\Local\\Temp\\ipykernel_50968\\2326502016.py:3: SettingWithCopyWarning: \n",
      "A value is trying to be set on a copy of a slice from a DataFrame.\n",
      "Try using .loc[row_indexer,col_indexer] = value instead\n",
      "\n",
      "See the caveats in the documentation: https://pandas.pydata.org/pandas-docs/stable/user_guide/indexing.html#returning-a-view-versus-a-copy\n",
      "  df_sensor_bangu['no2_nulos_no_dia'] = (\n"
     ]
    }
   ],
   "source": [
    "#@title Criando coluna que informa a quantidade de valores vazios por dia\n",
    "\n",
    "df_sensor_bangu['no2_nulos_no_dia'] = (\n",
    "    df_sensor_bangu['no2'].isnull()\n",
    "    .groupby(df_sensor_bangu['data_formatada'])\n",
    "    .transform('sum')  # Soma os nulos por dia e repete o valor em todas as linhas do dia\n",
    ")"
   ]
  },
  {
   "cell_type": "code",
   "execution_count": 50,
   "metadata": {
    "cellView": "form",
    "colab": {
     "base_uri": "https://localhost:8080/",
     "height": 0
    },
    "executionInfo": {
     "elapsed": 487,
     "status": "ok",
     "timestamp": 1750560328857,
     "user": {
      "displayName": "João Terêncio",
      "userId": "14302965054076037047"
     },
     "user_tz": 180
    },
    "id": "PEuziQG6L3FR",
    "outputId": "dbd56e62-864e-4a52-eebc-16b2f641014c"
   },
   "outputs": [
    {
     "data": {
      "image/png": "[encoded data removed]",
      "text/plain": [
       "<Figure size 1000x600 with 1 Axes>"
      ]
     },
     "metadata": {},
     "output_type": "display_data"
    }
   ],
   "source": [
    "#@title Distribuição dos valores vazios\n",
    "\n",
    "# Seleciona uma única linha por dia, para evitar repetição\n",
    "df_dias = df_sensor_bangu[df_sensor_bangu['no2_nulos_no_dia'] != 0].groupby('data_formatada')['no2_nulos_no_dia'].first()\n",
    "\n",
    "# Plotar o histograma da contagem de valores nulos por dia\n",
    "plt.figure(figsize=(10,6))\n",
    "plt.hist(df_dias, bins=range(0, df_dias.max() + 2), edgecolor='black', align='left')\n",
    "plt.title(\"Histograma de Quantidade de Valores Vazios em 'no2' por Dia\")\n",
    "plt.xlabel('Quantidade de valores vazios no dia')\n",
    "plt.ylabel('Número de dias')\n",
    "plt.xticks(range(0, df_dias.max() + 1))\n",
    "plt.grid(axis='y', alpha=0.75)\n",
    "plt.show()"
   ]
  },
  {
   "cell_type": "code",
   "execution_count": 51,
   "metadata": {
    "cellView": "form",
    "colab": {
     "base_uri": "https://localhost:8080/"
    },
    "executionInfo": {
     "elapsed": 19,
     "status": "ok",
     "timestamp": 1750560328879,
     "user": {
      "displayName": "João Terêncio",
      "userId": "14302965054076037047"
     },
     "user_tz": 180
    },
    "id": "BXBQoMkTL3FR",
    "outputId": "bc3e042e-087b-4ea6-9336-d764af60d473"
   },
   "outputs": [
    {
     "name": "stdout",
     "output_type": "stream",
     "text": [
      "2677 linhas foram preenchidas com interpolate na coluna 'no2'.\n",
      "Foram preenchido 14% de dados\n"
     ]
    }
   ],
   "source": [
    "#@title Preenchimento dos valores nulos utilizando a função interpolate (Preenchendo apenas os que tem menos de 7 linhas vazias por dia)\n",
    "\n",
    "mask = (df_sensor_bangu['no2_nulos_no_dia'] <= 6)\n",
    "\n",
    "num_nulls = df_sensor_bangu[mask]['no2'].isnull().sum()\n",
    "df_sensor_bangu.loc[mask, 'no2'] = df_sensor_bangu[mask]['no2'].interpolate()\n",
    "print(f\"{num_nulls} linhas foram preenchidas com interpolate na coluna 'no2'.\")\n",
    "print(f\"Foram preenchido {round((num_nulls/valroes_vazio)*100)}% de dados\")"
   ]
  },
  {
   "cell_type": "code",
   "execution_count": 52,
   "metadata": {
    "colab": {
     "base_uri": "https://localhost:8080/",
     "height": 0
    },
    "executionInfo": {
     "elapsed": 4,
     "status": "ok",
     "timestamp": 1750560328881,
     "user": {
      "displayName": "João Terêncio",
      "userId": "14302965054076037047"
     },
     "user_tz": 180
    },
    "id": "_kik1WaAL3FR",
    "outputId": "cdf9aa67-5ca6-4aa8-c704-39ee8f3e1e6d"
   },
   "outputs": [
    {
     "data": {
      "text/plain": [
       "count    97927.000000\n",
       "mean        22.684621\n",
       "std         15.464169\n",
       "min          0.000000\n",
       "25%         11.660000\n",
       "50%         19.040000\n",
       "75%         29.570000\n",
       "max        172.880000\n",
       "Name: no2, dtype: float64"
      ]
     },
     "execution_count": 52,
     "metadata": {},
     "output_type": "execute_result"
    }
   ],
   "source": [
    "df_sensor_bangu['no2'].describe()"
   ]
  },
  {
   "cell_type": "markdown",
   "metadata": {
    "id": "_lsKfMaUMVWn"
   },
   "source": [
    "### Óxido de Nitrogênio"
   ]
  },
  {
   "cell_type": "code",
   "execution_count": 53,
   "metadata": {
    "colab": {
     "base_uri": "https://localhost:8080/",
     "height": 0
    },
    "executionInfo": {
     "elapsed": 13,
     "status": "ok",
     "timestamp": 1750560328895,
     "user": {
      "displayName": "João Terêncio",
      "userId": "14302965054076037047"
     },
     "user_tz": 180
    },
    "id": "5Z-DzzjTMVWo",
    "outputId": "63e912dc-bbca-402c-daad-901cd4ec4fd4"
   },
   "outputs": [
    {
     "data": {
      "text/plain": [
       "count    95259.000000\n",
       "mean        28.826299\n",
       "std         21.001885\n",
       "min          0.000000\n",
       "25%         14.685000\n",
       "50%         23.120000\n",
       "75%         36.400000\n",
       "max        233.650000\n",
       "Name: nox, dtype: float64"
      ]
     },
     "execution_count": 53,
     "metadata": {},
     "output_type": "execute_result"
    }
   ],
   "source": [
    "df_sensor_bangu['nox'].describe()"
   ]
  },
  {
   "cell_type": "code",
   "execution_count": 54,
   "metadata": {
    "cellView": "form",
    "colab": {
     "base_uri": "https://localhost:8080/"
    },
    "executionInfo": {
     "elapsed": 8,
     "status": "ok",
     "timestamp": 1750560328901,
     "user": {
      "displayName": "João Terêncio",
      "userId": "14302965054076037047"
     },
     "user_tz": 180
    },
    "id": "6eCJkUmBMVWo",
    "outputId": "05cccaf1-45d0-4303-fd50-65b5dc16b96b"
   },
   "outputs": [
    {
     "name": "stdout",
     "output_type": "stream",
     "text": [
      "Quantidade de valores vazios: 18717\n"
     ]
    }
   ],
   "source": [
    "#@title Vendo quantidade de valores vazios\n",
    "\n",
    "valroes_vazio = df_sensor_bangu[df_sensor_bangu['nox'].isnull()].groupby(['ano', 'mes']).size().sum()\n",
    "print(f\"Quantidade de valores vazios: {valroes_vazio}\")"
   ]
  },
  {
   "cell_type": "code",
   "execution_count": 55,
   "metadata": {
    "cellView": "form",
    "colab": {
     "base_uri": "https://localhost:8080/"
    },
    "executionInfo": {
     "elapsed": 40,
     "status": "ok",
     "timestamp": 1750560328954,
     "user": {
      "displayName": "João Terêncio",
      "userId": "14302965054076037047"
     },
     "user_tz": 180
    },
    "id": "arTstOYcMVWp",
    "outputId": "0e14f99c-3de7-4b17-ce81-ef49491252d0"
   },
   "outputs": [
    {
     "name": "stderr",
     "output_type": "stream",
     "text": [
      "C:\\Users\\jhter\\AppData\\Local\\Temp\\ipykernel_50968\\4225381837.py:3: SettingWithCopyWarning: \n",
      "A value is trying to be set on a copy of a slice from a DataFrame.\n",
      "Try using .loc[row_indexer,col_indexer] = value instead\n",
      "\n",
      "See the caveats in the documentation: https://pandas.pydata.org/pandas-docs/stable/user_guide/indexing.html#returning-a-view-versus-a-copy\n",
      "  df_sensor_bangu['nox_nulos_no_dia'] = (\n"
     ]
    }
   ],
   "source": [
    "#@title Criando coluna que informa a quantidade de valores vazios por dia\n",
    "\n",
    "df_sensor_bangu['nox_nulos_no_dia'] = (\n",
    "    df_sensor_bangu['nox'].isnull()\n",
    "    .groupby(df_sensor_bangu['data_formatada'])\n",
    "    .transform('sum')  # Soma os nulos por dia e repete o valor em todas as linhas do dia\n",
    ")"
   ]
  },
  {
   "cell_type": "code",
   "execution_count": 56,
   "metadata": {
    "cellView": "form",
    "colab": {
     "base_uri": "https://localhost:8080/",
     "height": 0
    },
    "executionInfo": {
     "elapsed": 524,
     "status": "ok",
     "timestamp": 1750560329476,
     "user": {
      "displayName": "João Terêncio",
      "userId": "14302965054076037047"
     },
     "user_tz": 180
    },
    "id": "uR0Iri7RMVWp",
    "outputId": "5dc05536-7f52-4211-dda1-567acd7f4b2e"
   },
   "outputs": [
    {
     "data": {
      "image/png": "[encoded data removed]",
      "text/plain": [
       "<Figure size 1000x600 with 1 Axes>"
      ]
     },
     "metadata": {},
     "output_type": "display_data"
    }
   ],
   "source": [
    "#@title Distribuição dos valores vazios\n",
    "\n",
    "# Seleciona uma única linha por dia, para evitar repetição\n",
    "df_dias = df_sensor_bangu[df_sensor_bangu['nox_nulos_no_dia'] != 0].groupby('data_formatada')['nox_nulos_no_dia'].first()\n",
    "\n",
    "# Plotar o histograma da contagem de valores nulos por dia\n",
    "plt.figure(figsize=(10,6))\n",
    "plt.hist(df_dias, bins=range(0, df_dias.max() + 2), edgecolor='black', align='left')\n",
    "plt.title(\"Histograma de Quantidade de Valores Vazios em 'nox' por Dia\")\n",
    "plt.xlabel('Quantidade de valores vazios no dia')\n",
    "plt.ylabel('Número de dias')\n",
    "plt.xticks(range(0, df_dias.max() + 1))\n",
    "plt.grid(axis='y', alpha=0.75)\n",
    "plt.show()"
   ]
  },
  {
   "cell_type": "code",
   "execution_count": 57,
   "metadata": {
    "cellView": "form",
    "colab": {
     "base_uri": "https://localhost:8080/"
    },
    "executionInfo": {
     "elapsed": 30,
     "status": "ok",
     "timestamp": 1750560329508,
     "user": {
      "displayName": "João Terêncio",
      "userId": "14302965054076037047"
     },
     "user_tz": 180
    },
    "id": "oFZPdVecMVWp",
    "outputId": "7b043f16-c749-4d53-9135-a3826ece7b40"
   },
   "outputs": [
    {
     "name": "stdout",
     "output_type": "stream",
     "text": [
      "2674 linhas foram preenchidas com interpolate na coluna 'nox'.\n",
      "Foram preenchido 14% de dados\n"
     ]
    }
   ],
   "source": [
    "#@title Preenchimento dos valores nulos utilizando a função interpolate (Preenchendo apenas os que tem menos de 7 linhas vazias por dia)\n",
    "\n",
    "mask = (df_sensor_bangu['nox_nulos_no_dia'] <= 6)\n",
    "\n",
    "num_nulls = df_sensor_bangu[mask]['nox'].isnull().sum()\n",
    "df_sensor_bangu.loc[mask, 'nox'] = df_sensor_bangu[mask]['nox'].interpolate()\n",
    "print(f\"{num_nulls} linhas foram preenchidas com interpolate na coluna 'nox'.\")\n",
    "print(f\"Foram preenchido {round((num_nulls/valroes_vazio)*100)}% de dados\")"
   ]
  },
  {
   "cell_type": "code",
   "execution_count": 58,
   "metadata": {
    "colab": {
     "base_uri": "https://localhost:8080/",
     "height": 0
    },
    "executionInfo": {
     "elapsed": 5,
     "status": "ok",
     "timestamp": 1750560329514,
     "user": {
      "displayName": "João Terêncio",
      "userId": "14302965054076037047"
     },
     "user_tz": 180
    },
    "id": "TZjwHNM_MVWp",
    "outputId": "cff649e3-32b5-4d92-c4a4-ebccd92b8cc2"
   },
   "outputs": [
    {
     "data": {
      "text/plain": [
       "count    97933.000000\n",
       "mean        28.638311\n",
       "std         20.904465\n",
       "min          0.000000\n",
       "25%         14.570000\n",
       "50%         22.950000\n",
       "75%         36.150000\n",
       "max        233.650000\n",
       "Name: nox, dtype: float64"
      ]
     },
     "execution_count": 58,
     "metadata": {},
     "output_type": "execute_result"
    }
   ],
   "source": [
    "df_sensor_bangu['nox'].describe()"
   ]
  },
  {
   "cell_type": "markdown",
   "metadata": {
    "id": "dea3QOhJMs5K"
   },
   "source": [
    "### Dióxido de Enxofre Campo Grande"
   ]
  },
  {
   "cell_type": "code",
   "execution_count": 59,
   "metadata": {
    "colab": {
     "base_uri": "https://localhost:8080/",
     "height": 0
    },
    "executionInfo": {
     "elapsed": 3,
     "status": "ok",
     "timestamp": 1750560329519,
     "user": {
      "displayName": "João Terêncio",
      "userId": "14302965054076037047"
     },
     "user_tz": 180
    },
    "id": "fszCCXqNMs5L",
    "outputId": "d98de04c-faef-43b1-ed90-ecae60686993"
   },
   "outputs": [
    {
     "data": {
      "text/plain": [
       "count    83955.00000\n",
       "mean         3.52649\n",
       "std          4.23950\n",
       "min          0.00000\n",
       "25%          0.95000\n",
       "50%          2.80000\n",
       "75%          4.88000\n",
       "max        221.34000\n",
       "Name: so2, dtype: float64"
      ]
     },
     "execution_count": 59,
     "metadata": {},
     "output_type": "execute_result"
    }
   ],
   "source": [
    "df_sensor_bangu['so2'].describe()"
   ]
  },
  {
   "cell_type": "code",
   "execution_count": 60,
   "metadata": {
    "cellView": "form",
    "colab": {
     "base_uri": "https://localhost:8080/"
    },
    "executionInfo": {
     "elapsed": 12,
     "status": "ok",
     "timestamp": 1750560329533,
     "user": {
      "displayName": "João Terêncio",
      "userId": "14302965054076037047"
     },
     "user_tz": 180
    },
    "id": "c0RuCYCsMs5L",
    "outputId": "2911e9f9-a6fa-4069-cb6a-3f6193f7b86f"
   },
   "outputs": [
    {
     "name": "stdout",
     "output_type": "stream",
     "text": [
      "Quantidade de valores vazios: 30021\n"
     ]
    }
   ],
   "source": [
    "#@title Vendo quantidade de valores vazios\n",
    "\n",
    "valroes_vazio = df_sensor_bangu[df_sensor_bangu['so2'].isnull()].groupby(['ano', 'mes']).size().sum()\n",
    "print(f\"Quantidade de valores vazios: {valroes_vazio}\")"
   ]
  },
  {
   "cell_type": "code",
   "execution_count": 61,
   "metadata": {
    "cellView": "form",
    "colab": {
     "base_uri": "https://localhost:8080/"
    },
    "executionInfo": {
     "elapsed": 8,
     "status": "ok",
     "timestamp": 1750560329542,
     "user": {
      "displayName": "João Terêncio",
      "userId": "14302965054076037047"
     },
     "user_tz": 180
    },
    "id": "C4qkCjQHMs5L",
    "outputId": "30db853d-c5ec-4e88-f01e-00229fb20efa"
   },
   "outputs": [
    {
     "name": "stderr",
     "output_type": "stream",
     "text": [
      "C:\\Users\\jhter\\AppData\\Local\\Temp\\ipykernel_50968\\3852601537.py:3: SettingWithCopyWarning: \n",
      "A value is trying to be set on a copy of a slice from a DataFrame.\n",
      "Try using .loc[row_indexer,col_indexer] = value instead\n",
      "\n",
      "See the caveats in the documentation: https://pandas.pydata.org/pandas-docs/stable/user_guide/indexing.html#returning-a-view-versus-a-copy\n",
      "  df_sensor_bangu['so2_nulos_no_dia'] = (\n"
     ]
    }
   ],
   "source": [
    "#@title Criando coluna que informa a quantidade de valores vazios por dia\n",
    "\n",
    "df_sensor_bangu['so2_nulos_no_dia'] = (\n",
    "    df_sensor_bangu['so2'].isnull()\n",
    "    .groupby(df_sensor_bangu['data_formatada'])\n",
    "    .transform('sum')  # Soma os nulos por dia e repete o valor em todas as linhas do dia\n",
    ")"
   ]
  },
  {
   "cell_type": "code",
   "execution_count": 62,
   "metadata": {
    "cellView": "form",
    "colab": {
     "base_uri": "https://localhost:8080/",
     "height": 0
    },
    "executionInfo": {
     "elapsed": 329,
     "status": "ok",
     "timestamp": 1750560329872,
     "user": {
      "displayName": "João Terêncio",
      "userId": "14302965054076037047"
     },
     "user_tz": 180
    },
    "id": "trcgkn9hMs5L",
    "outputId": "1f31519e-452d-4571-c20c-e7d3fda70818"
   },
   "outputs": [
    {
     "data": {
      "image/png": "[encoded data removed]",
      "text/plain": [
       "<Figure size 1000x600 with 1 Axes>"
      ]
     },
     "metadata": {},
     "output_type": "display_data"
    }
   ],
   "source": [
    "#@title Distribuição dos valores vazios\n",
    "\n",
    "# Seleciona uma única linha por dia, para evitar repetição\n",
    "df_dias = df_sensor_bangu[df_sensor_bangu['so2_nulos_no_dia'] != 0].groupby('data_formatada')['so2_nulos_no_dia'].first()\n",
    "\n",
    "# Plotar o histograma da contagem de valores nulos por dia\n",
    "plt.figure(figsize=(10,6))\n",
    "plt.hist(df_dias, bins=range(0, df_dias.max() + 2), edgecolor='black', align='left')\n",
    "plt.title(\"Histograma de Quantidade de Valores Vazios em 'so2' por Dia\")\n",
    "plt.xlabel('Quantidade de valores vazios no dia')\n",
    "plt.ylabel('Número de dias')\n",
    "plt.xticks(range(0, df_dias.max() + 1))\n",
    "plt.grid(axis='y', alpha=0.75)\n",
    "plt.show()"
   ]
  },
  {
   "cell_type": "code",
   "execution_count": 63,
   "metadata": {
    "cellView": "form",
    "colab": {
     "base_uri": "https://localhost:8080/"
    },
    "executionInfo": {
     "elapsed": 8,
     "status": "ok",
     "timestamp": 1750560329881,
     "user": {
      "displayName": "João Terêncio",
      "userId": "14302965054076037047"
     },
     "user_tz": 180
    },
    "id": "4Vf0xfIGMs5L",
    "outputId": "fc06e687-f44f-4032-9f5c-07d597fed876"
   },
   "outputs": [
    {
     "name": "stdout",
     "output_type": "stream",
     "text": [
      "3937 linhas foram preenchidas com interpolate na coluna 'so2'.\n",
      "Foram preenchido 13% de dados\n"
     ]
    }
   ],
   "source": [
    "#@title Preenchimento dos valores nulos utilizando a função interpolate (Preenchendo apenas os que tem menos de 7 linhas vazias por dia)\n",
    "\n",
    "mask = (df_sensor_bangu['so2_nulos_no_dia'] <= 6)\n",
    "\n",
    "num_nulls = df_sensor_bangu[mask]['so2'].isnull().sum()\n",
    "df_sensor_bangu.loc[mask, 'so2'] = df_sensor_bangu[mask]['so2'].interpolate()\n",
    "print(f\"{num_nulls} linhas foram preenchidas com interpolate na coluna 'so2'.\")\n",
    "print(f\"Foram preenchido {round((num_nulls/valroes_vazio)*100)}% de dados\")"
   ]
  },
  {
   "cell_type": "code",
   "execution_count": 64,
   "metadata": {
    "colab": {
     "base_uri": "https://localhost:8080/",
     "height": 0
    },
    "executionInfo": {
     "elapsed": 43,
     "status": "ok",
     "timestamp": 1750560329922,
     "user": {
      "displayName": "João Terêncio",
      "userId": "14302965054076037047"
     },
     "user_tz": 180
    },
    "id": "tdmsasFgMs5L",
    "outputId": "e4a34e6a-b03c-44e9-ec70-e4cef8ed508d"
   },
   "outputs": [
    {
     "data": {
      "text/plain": [
       "count    87891.000000\n",
       "mean         3.512238\n",
       "std          4.196845\n",
       "min          0.000000\n",
       "25%          0.960000\n",
       "50%          2.790000\n",
       "75%          4.870000\n",
       "max        221.340000\n",
       "Name: so2, dtype: float64"
      ]
     },
     "execution_count": 64,
     "metadata": {},
     "output_type": "execute_result"
    }
   ],
   "source": [
    "df_sensor_bangu['so2'].describe()"
   ]
  },
  {
   "cell_type": "markdown",
   "metadata": {
    "id": "DP-WWSHfNYCk"
   },
   "source": [
    "### Ozônio Campo Grande"
   ]
  },
  {
   "cell_type": "code",
   "execution_count": 65,
   "metadata": {
    "colab": {
     "base_uri": "https://localhost:8080/",
     "height": 0
    },
    "executionInfo": {
     "elapsed": 12,
     "status": "ok",
     "timestamp": 1750560329922,
     "user": {
      "displayName": "João Terêncio",
      "userId": "14302965054076037047"
     },
     "user_tz": 180
    },
    "id": "5Wx7SPTJNYCl",
    "outputId": "34f64b7a-1bab-4152-f438-ca932978f8c1"
   },
   "outputs": [
    {
     "data": {
      "text/plain": [
       "count    105485.000000\n",
       "mean         45.768133\n",
       "std          34.644646\n",
       "min           0.000000\n",
       "25%          19.610000\n",
       "50%          39.760000\n",
       "75%          63.740000\n",
       "max         290.640000\n",
       "Name: o3, dtype: float64"
      ]
     },
     "execution_count": 65,
     "metadata": {},
     "output_type": "execute_result"
    }
   ],
   "source": [
    "df_sensor_bangu['o3'].describe()"
   ]
  },
  {
   "cell_type": "code",
   "execution_count": 66,
   "metadata": {
    "cellView": "form",
    "colab": {
     "base_uri": "https://localhost:8080/"
    },
    "executionInfo": {
     "elapsed": 10,
     "status": "ok",
     "timestamp": 1750560329923,
     "user": {
      "displayName": "João Terêncio",
      "userId": "14302965054076037047"
     },
     "user_tz": 180
    },
    "id": "kXhRQEmoNYCn",
    "outputId": "9d346c75-3d22-4cb1-a591-82bd1f76a29d"
   },
   "outputs": [
    {
     "name": "stdout",
     "output_type": "stream",
     "text": [
      "Quantidade de valores vazios: 8491\n"
     ]
    }
   ],
   "source": [
    "#@title Vendo quantidade de valores vazios\n",
    "\n",
    "valroes_vazio = df_sensor_bangu[df_sensor_bangu['o3'].isnull()].groupby(['ano', 'mes']).size().sum()\n",
    "print(f\"Quantidade de valores vazios: {valroes_vazio}\")"
   ]
  },
  {
   "cell_type": "code",
   "execution_count": 67,
   "metadata": {
    "cellView": "form",
    "colab": {
     "base_uri": "https://localhost:8080/"
    },
    "executionInfo": {
     "elapsed": 7,
     "status": "ok",
     "timestamp": 1750560329927,
     "user": {
      "displayName": "João Terêncio",
      "userId": "14302965054076037047"
     },
     "user_tz": 180
    },
    "id": "cJBoN4cMNYCn",
    "outputId": "19615326-d487-4f5c-e9d3-2f322659114e"
   },
   "outputs": [
    {
     "name": "stderr",
     "output_type": "stream",
     "text": [
      "C:\\Users\\jhter\\AppData\\Local\\Temp\\ipykernel_50968\\3156335081.py:3: SettingWithCopyWarning: \n",
      "A value is trying to be set on a copy of a slice from a DataFrame.\n",
      "Try using .loc[row_indexer,col_indexer] = value instead\n",
      "\n",
      "See the caveats in the documentation: https://pandas.pydata.org/pandas-docs/stable/user_guide/indexing.html#returning-a-view-versus-a-copy\n",
      "  df_sensor_bangu['o3_nulos_no_dia'] = (\n"
     ]
    }
   ],
   "source": [
    "#@title Criando coluna que informa a quantidade de valores vazios por dia\n",
    "\n",
    "df_sensor_bangu['o3_nulos_no_dia'] = (\n",
    "    df_sensor_bangu['o3'].isnull()\n",
    "    .groupby(df_sensor_bangu['data_formatada'])\n",
    "    .transform('sum')  # Soma os nulos por dia e repete o valor em todas as linhas do dia\n",
    ")"
   ]
  },
  {
   "cell_type": "code",
   "execution_count": 68,
   "metadata": {
    "cellView": "form",
    "colab": {
     "base_uri": "https://localhost:8080/",
     "height": 0
    },
    "executionInfo": {
     "elapsed": 304,
     "status": "ok",
     "timestamp": 1750560330240,
     "user": {
      "displayName": "João Terêncio",
      "userId": "14302965054076037047"
     },
     "user_tz": 180
    },
    "id": "Q1ZG0wIONYCn",
    "outputId": "721bd769-484e-4ad0-e178-6b021d75bb28"
   },
   "outputs": [
    {
     "data": {
      "image/png": "[encoded data removed]",
      "text/plain": [
       "<Figure size 1000x600 with 1 Axes>"
      ]
     },
     "metadata": {},
     "output_type": "display_data"
    }
   ],
   "source": [
    "#@title Distribuição dos valores vazios\n",
    "\n",
    "# Seleciona uma única linha por dia, para evitar repetição\n",
    "df_dias = df_sensor_bangu[df_sensor_bangu['o3_nulos_no_dia'] != 0].groupby('data_formatada')['o3_nulos_no_dia'].first()\n",
    "\n",
    "# Plotar o histograma da contagem de valores nulos por dia\n",
    "plt.figure(figsize=(10,6))\n",
    "plt.hist(df_dias, bins=range(0, df_dias.max() + 2), edgecolor='black', align='left')\n",
    "plt.title(\"Histograma de Quantidade de Valores Vazios em 'o3' por Dia\")\n",
    "plt.xlabel('Quantidade de valores vazios no dia')\n",
    "plt.ylabel('Número de dias')\n",
    "plt.xticks(range(0, df_dias.max() + 1))\n",
    "plt.grid(axis='y', alpha=0.75)\n",
    "plt.show()"
   ]
  },
  {
   "cell_type": "code",
   "execution_count": 69,
   "metadata": {
    "cellView": "form",
    "colab": {
     "base_uri": "https://localhost:8080/"
    },
    "executionInfo": {
     "elapsed": 32,
     "status": "ok",
     "timestamp": 1750560330270,
     "user": {
      "displayName": "João Terêncio",
      "userId": "14302965054076037047"
     },
     "user_tz": 180
    },
    "id": "KQwJwPLrNYCo",
    "outputId": "be09c314-8410-4f26-a8ad-025de0a11193"
   },
   "outputs": [
    {
     "name": "stdout",
     "output_type": "stream",
     "text": [
      "1162 linhas foram preenchidas com interpolate na coluna 'o3'.\n",
      "Foram preenchido 14% de dados\n"
     ]
    }
   ],
   "source": [
    "#@title Preenchimento dos valores nulos utilizando a função interpolate (Preenchendo apenas os que tem menos de 7 linhas vazias por dia)\n",
    "\n",
    "mask = (df_sensor_bangu['o3_nulos_no_dia'] <= 6)\n",
    "\n",
    "num_nulls = df_sensor_bangu[mask]['o3'].isnull().sum()\n",
    "df_sensor_bangu.loc[mask, 'o3'] = df_sensor_bangu[mask]['o3'].interpolate()\n",
    "print(f\"{num_nulls} linhas foram preenchidas com interpolate na coluna 'o3'.\")\n",
    "print(f\"Foram preenchido {round((num_nulls/valroes_vazio)*100)}% de dados\")"
   ]
  },
  {
   "cell_type": "code",
   "execution_count": 70,
   "metadata": {
    "colab": {
     "base_uri": "https://localhost:8080/",
     "height": 0
    },
    "executionInfo": {
     "elapsed": 24,
     "status": "ok",
     "timestamp": 1750560330292,
     "user": {
      "displayName": "João Terêncio",
      "userId": "14302965054076037047"
     },
     "user_tz": 180
    },
    "id": "8dJ2VLO3NYCp",
    "outputId": "0c1c9592-7cb4-4480-90fd-0da52e70541a"
   },
   "outputs": [
    {
     "data": {
      "text/plain": [
       "count    106647.000000\n",
       "mean         45.868962\n",
       "std          34.617014\n",
       "min           0.000000\n",
       "25%          19.720000\n",
       "50%          39.900000\n",
       "75%          63.890000\n",
       "max         290.640000\n",
       "Name: o3, dtype: float64"
      ]
     },
     "execution_count": 70,
     "metadata": {},
     "output_type": "execute_result"
    }
   ],
   "source": [
    "df_sensor_bangu['o3'].describe()"
   ]
  },
  {
   "cell_type": "markdown",
   "metadata": {
    "id": "x_EfKxffNz6H"
   },
   "source": [
    "### PM10 Campo Grande"
   ]
  },
  {
   "cell_type": "code",
   "execution_count": 71,
   "metadata": {
    "colab": {
     "base_uri": "https://localhost:8080/",
     "height": 0
    },
    "executionInfo": {
     "elapsed": 3,
     "status": "ok",
     "timestamp": 1750560330295,
     "user": {
      "displayName": "João Terêncio",
      "userId": "14302965054076037047"
     },
     "user_tz": 180
    },
    "id": "PwaB2u12Nz6H",
    "outputId": "77ee1ccc-935c-45dd-99fc-bbf3c37a7b9e"
   },
   "outputs": [
    {
     "data": {
      "text/plain": [
       "count    103561.000000\n",
       "mean         36.097025\n",
       "std          24.521656\n",
       "min           0.000000\n",
       "25%          20.000000\n",
       "50%          31.000000\n",
       "75%          46.000000\n",
       "max         473.000000\n",
       "Name: pm10, dtype: float64"
      ]
     },
     "execution_count": 71,
     "metadata": {},
     "output_type": "execute_result"
    }
   ],
   "source": [
    "df_sensor_bangu['pm10'].describe()"
   ]
  },
  {
   "cell_type": "code",
   "execution_count": 72,
   "metadata": {
    "cellView": "form",
    "colab": {
     "base_uri": "https://localhost:8080/"
    },
    "executionInfo": {
     "elapsed": 12,
     "status": "ok",
     "timestamp": 1750560330309,
     "user": {
      "displayName": "João Terêncio",
      "userId": "14302965054076037047"
     },
     "user_tz": 180
    },
    "id": "2DgViHnxNz6I",
    "outputId": "bebf4561-bc28-454f-90d6-2e985b8b3ffb"
   },
   "outputs": [
    {
     "name": "stdout",
     "output_type": "stream",
     "text": [
      "Quantidade de valores vazios: 10415\n"
     ]
    }
   ],
   "source": [
    "#@title Vendo quantidade de valores vazios\n",
    "\n",
    "valroes_vazio = df_sensor_bangu[df_sensor_bangu['pm10'].isnull()].groupby(['ano', 'mes']).size().sum()\n",
    "print(f\"Quantidade de valores vazios: {valroes_vazio}\")"
   ]
  },
  {
   "cell_type": "code",
   "execution_count": 73,
   "metadata": {
    "cellView": "form",
    "colab": {
     "base_uri": "https://localhost:8080/"
    },
    "executionInfo": {
     "elapsed": 10,
     "status": "ok",
     "timestamp": 1750560330320,
     "user": {
      "displayName": "João Terêncio",
      "userId": "14302965054076037047"
     },
     "user_tz": 180
    },
    "id": "C4E1ad35Nz6I",
    "outputId": "d3dea2df-49c5-4f2f-dbb5-77f19f0b93cd"
   },
   "outputs": [
    {
     "name": "stderr",
     "output_type": "stream",
     "text": [
      "C:\\Users\\jhter\\AppData\\Local\\Temp\\ipykernel_50968\\4224012730.py:3: SettingWithCopyWarning: \n",
      "A value is trying to be set on a copy of a slice from a DataFrame.\n",
      "Try using .loc[row_indexer,col_indexer] = value instead\n",
      "\n",
      "See the caveats in the documentation: https://pandas.pydata.org/pandas-docs/stable/user_guide/indexing.html#returning-a-view-versus-a-copy\n",
      "  df_sensor_bangu['pm10_nulos_no_dia'] = (\n"
     ]
    }
   ],
   "source": [
    "#@title Criando coluna que informa a quantidade de valores vazios por dia\n",
    "\n",
    "df_sensor_bangu['pm10_nulos_no_dia'] = (\n",
    "    df_sensor_bangu['pm10'].isnull()\n",
    "    .groupby(df_sensor_bangu['data_formatada'])\n",
    "    .transform('sum')  # Soma os nulos por dia e repete o valor em todas as linhas do dia\n",
    ")"
   ]
  },
  {
   "cell_type": "code",
   "execution_count": 74,
   "metadata": {
    "cellView": "form",
    "colab": {
     "base_uri": "https://localhost:8080/",
     "height": 0
    },
    "executionInfo": {
     "elapsed": 321,
     "status": "ok",
     "timestamp": 1750560330648,
     "user": {
      "displayName": "João Terêncio",
      "userId": "14302965054076037047"
     },
     "user_tz": 180
    },
    "id": "wimZHi5oNz6I",
    "outputId": "65db8836-b55a-4864-f09b-dbe6df068e23"
   },
   "outputs": [
    {
     "data": {
      "image/png": "[encoded data removed]",
      "text/plain": [
       "<Figure size 1000x600 with 1 Axes>"
      ]
     },
     "metadata": {},
     "output_type": "display_data"
    }
   ],
   "source": [
    "#@title Distribuição dos valores vazios\n",
    "\n",
    "# Seleciona uma única linha por dia, para evitar repetição\n",
    "df_dias = df_sensor_bangu[df_sensor_bangu['pm10_nulos_no_dia'] != 0].groupby('data_formatada')['pm10_nulos_no_dia'].first()\n",
    "\n",
    "# Plotar o histograma da contagem de valores nulos por dia\n",
    "plt.figure(figsize=(10,6))\n",
    "plt.hist(df_dias, bins=range(0, df_dias.max() + 2), edgecolor='black', align='left')\n",
    "plt.title(\"Histograma de Quantidade de Valores Vazios em 'pm10' por Dia\")\n",
    "plt.xlabel('Quantidade de valores vazios no dia')\n",
    "plt.ylabel('Número de dias')\n",
    "plt.xticks(range(0, df_dias.max() + 1))\n",
    "plt.grid(axis='y', alpha=0.75)\n",
    "plt.show()"
   ]
  },
  {
   "cell_type": "code",
   "execution_count": 75,
   "metadata": {
    "cellView": "form",
    "colab": {
     "base_uri": "https://localhost:8080/"
    },
    "executionInfo": {
     "elapsed": 49,
     "status": "ok",
     "timestamp": 1750560330699,
     "user": {
      "displayName": "João Terêncio",
      "userId": "14302965054076037047"
     },
     "user_tz": 180
    },
    "id": "OA2D_-XPNz6I",
    "outputId": "af42495f-d32f-4bff-f9f8-e1c002586dc9"
   },
   "outputs": [
    {
     "name": "stdout",
     "output_type": "stream",
     "text": [
      "1446 linhas foram preenchidas com interpolate na coluna 'pm10'.\n",
      "Foram preenchido 14% de dados\n"
     ]
    }
   ],
   "source": [
    "#@title Preenchimento dos valores nulos utilizando a função interpolate (Preenchendo apenas os que tem menos de 7 linhas vazias por dia)\n",
    "\n",
    "mask = (df_sensor_bangu['pm10_nulos_no_dia'] <= 6)\n",
    "\n",
    "num_nulls = df_sensor_bangu[mask]['pm10'].isnull().sum()\n",
    "df_sensor_bangu.loc[mask, 'pm10'] = df_sensor_bangu[mask]['pm10'].interpolate()\n",
    "print(f\"{num_nulls} linhas foram preenchidas com interpolate na coluna 'pm10'.\")\n",
    "print(f\"Foram preenchido {round((num_nulls/valroes_vazio)*100)}% de dados\")"
   ]
  },
  {
   "cell_type": "code",
   "execution_count": 76,
   "metadata": {
    "colab": {
     "base_uri": "https://localhost:8080/",
     "height": 0
    },
    "executionInfo": {
     "elapsed": 20,
     "status": "ok",
     "timestamp": 1750560330700,
     "user": {
      "displayName": "João Terêncio",
      "userId": "14302965054076037047"
     },
     "user_tz": 180
    },
    "id": "KmM4M2pDNz6I",
    "outputId": "ca900079-cdeb-4418-dec2-2d8fe4771106"
   },
   "outputs": [
    {
     "data": {
      "text/plain": [
       "count    105007.000000\n",
       "mean         36.128163\n",
       "std          24.553498\n",
       "min           0.000000\n",
       "25%          20.000000\n",
       "50%          31.000000\n",
       "75%          47.000000\n",
       "max         473.000000\n",
       "Name: pm10, dtype: float64"
      ]
     },
     "execution_count": 76,
     "metadata": {},
     "output_type": "execute_result"
    }
   ],
   "source": [
    "df_sensor_bangu['pm10'].describe()"
   ]
  },
  {
   "cell_type": "code",
   "execution_count": 77,
   "metadata": {
    "colab": {
     "base_uri": "https://localhost:8080/"
    },
    "executionInfo": {
     "elapsed": 17,
     "status": "ok",
     "timestamp": 1750560330700,
     "user": {
      "displayName": "João Terêncio",
      "userId": "14302965054076037047"
     },
     "user_tz": 180
    },
    "id": "5Gb-DMYQ8VJH",
    "outputId": "367ee931-b0bc-4c7c-bd8b-24bf5aac4c06"
   },
   "outputs": [
    {
     "name": "stderr",
     "output_type": "stream",
     "text": [
      "C:\\Users\\jhter\\AppData\\Local\\Temp\\ipykernel_50968\\3214649839.py:3: SettingWithCopyWarning: \n",
      "A value is trying to be set on a copy of a slice from a DataFrame\n",
      "\n",
      "See the caveats in the documentation: https://pandas.pydata.org/pandas-docs/stable/user_guide/indexing.html#returning-a-view-versus-a-copy\n",
      "  df_sensor_bangu.drop(columns=droping_columns, inplace=True)\n"
     ]
    }
   ],
   "source": [
    "droping_columns = ['nome_estacao', 'chuva_nulos_no_dia', 'temp_nulos_no_dia', 'ur_nulos_no_dia', 'co_nulos_no_dia', 'no_nulos_no_dia', 'no2_nulos_no_dia', 'nox_nulos_no_dia', 'so2_nulos_no_dia', 'o3_nulos_no_dia', 'pm10_nulos_no_dia']\n",
    "\n",
    "df_sensor_bangu.drop(columns=droping_columns, inplace=True)"
   ]
  },
  {
   "cell_type": "markdown",
   "metadata": {
    "id": "hc-I_71qbbJO"
   },
   "source": [
    "# Criando nova feature (AQI)\n",
    "\n",
    "https://jeap.rio.rj.gov.br/je-metinfosmac/boletim\n",
    "\n",
    "| MP₁₀ (µg/m³) 24h | MP₂.₅ (µg/m³) 24h | O₃ (µg/m³) 8h | CO (ppm) 8h | NO₂ (µg/m³) 1h | SO₂ (µg/m³) 24h | Índice | Qualidade do Ar | Efeitos |\n",
    "|------------------|------------------|---------------|-------------|----------------|------------------|--------|------------------|---------|\n",
    "| 0 - 50           | 0 - 25           | 0 - 100       | 0 - 9       | 0 - 200        | 0 - 20           | 0 - 40 | N1 - Boa         | - |\n",
    "| >50 - 100        | >25 - 50         | >100 - 130    | >9 - 11     | >200 - 240     | >20 - 40         | 41 - 80 | N2 - Moderada     | Pessoas de grupos sensíveis (crianças, idosos e pessoas com doenças respiratórias e cardíacas) podem apresentar sintomas como tosse seca e cansaço. A população em geral não é afetada. |\n",
    "| >100 - 150       | >50 - 75         | >130 - 160    | >11 - 13    | >240 - 320     | >40 - 365        | 81 - 120 | N3 - Ruim         | Toda a população pode apresentar sintomas como tosse seca, cansaço, ardor nos olhos, nariz e garganta. Pessoas de grupos sensíveis (crianças, idosos e pessoas com doenças respiratórias e cardíacas) podem apresentar efeitos mais sérios na saúde. |\n",
    "| >150 - 250       | >75 - 125        | >160 - 200    | >13 - 15    | >320 - 1130    | >365 - 800       | 121 - 200 | N4 - Muito Ruim   | Toda a população pode apresentar agravamento dos sintomas como tosse seca, cansaço, ardor nos olhos, nariz e garganta e ainda falta de ar e respiração ofegante. Efeitos ainda mais graves à saúde de grupos sensíveis (crianças, idosos e pessoas com doenças respiratórias e cardíacas). |\n",
    "| >250 - 600       | >125 - 300       | >200 - 800    | >15 - 50    | >1130 - 3750   | >800 - 2620      | 201 - 400 | N5 - Péssima      | Toda a população pode apresentar sérios riscos de manifestações de doenças respiratórias e cardiovasculares. Aumento de mortes prematuras em pessoas de grupos sensíveis. |\n"
   ]
  },
  {
   "cell_type": "code",
   "execution_count": 92,
   "metadata": {
    "executionInfo": {
     "elapsed": 17,
     "status": "ok",
     "timestamp": 1750560330705,
     "user": {
      "displayName": "João Terêncio",
      "userId": "14302965054076037047"
     },
     "user_tz": 180
    },
    "id": "Lq0TMgU68cmo"
   },
   "outputs": [],
   "source": [
    "# Carrega o DataFrame\n",
    "df = df_sensor_bangu.copy()\n",
    "\n",
    "# Converte e ordena\n",
    "df['data'] = pd.to_datetime(df['data'])\n",
    "df = df.sort_values(by='data')"
   ]
  },
  {
   "cell_type": "code",
   "execution_count": 93,
   "metadata": {
    "executionInfo": {
     "elapsed": 68,
     "status": "ok",
     "timestamp": 1750560330775,
     "user": {
      "displayName": "João Terêncio",
      "userId": "14302965054076037047"
     },
     "user_tz": 180
    },
    "id": "t-NtqXK-8fH9"
   },
   "outputs": [],
   "source": [
    "# Define faixas com interpolação linear (c_low, c_high, i_low, i_high)\n",
    "faixas_aqi = {\n",
    "    'pm10':   [(0, 50, 0, 40), (50, 100, 41, 80), (100, 150, 81, 120), (150, 250, 121, 200), (250, 600, 201, 400)],\n",
    "    'pm2_5':  [(0, 25, 0, 40), (25, 50, 41, 80), (50, 75, 81, 120), (75, 125, 121, 200), (125, 300, 201, 400)],\n",
    "    'o3':     [(0, 100, 0, 40), (100, 130, 41, 80), (130, 160, 81, 120), (160, 200, 121, 200), (200, 800, 201, 400)],\n",
    "    'co':     [(0, 9, 0, 40), (9, 11, 41, 80), (11, 13, 81, 120), (13, 15, 121, 200), (15, 50, 201, 400)],\n",
    "    'no2':    [(0, 200, 0, 40), (200, 240, 41, 80), (240, 320, 81, 120), (320, 1130, 121, 200), (1130, 3750, 201, 400)],\n",
    "    'so2':    [(0, 20, 0, 40), (20, 40, 41, 80), (40, 365, 81, 120), (365, 800, 121, 200), (800, 2620, 201, 400)],\n",
    "}"
   ]
  },
  {
   "cell_type": "code",
   "execution_count": 94,
   "metadata": {
    "executionInfo": {
     "elapsed": 9,
     "status": "ok",
     "timestamp": 1750560330777,
     "user": {
      "displayName": "João Terêncio",
      "userId": "14302965054076037047"
     },
     "user_tz": 180
    },
    "id": "6mY0sI_m8gmP"
   },
   "outputs": [],
   "source": [
    "# Função de interpolação para cálculo contínuo do AQI\n",
    "def calcular_aqi(valor, faixas):\n",
    "    for c_low, c_high, i_low, i_high in faixas:\n",
    "        if c_low <= valor <= c_high:\n",
    "            return ((i_high - i_low) / (c_high - c_low)) * (valor - c_low) + i_low\n",
    "    return np.nan  # Fora das faixas"
   ]
  },
  {
   "cell_type": "code",
   "execution_count": 95,
   "metadata": {
    "executionInfo": {
     "elapsed": 9,
     "status": "ok",
     "timestamp": 1750560330779,
     "user": {
      "displayName": "João Terêncio",
      "userId": "14302965054076037047"
     },
     "user_tz": 180
    },
    "id": "-fSb-Epw8iAT"
   },
   "outputs": [],
   "source": [
    "# Função para média 8h móvel diária (máxima por dia)\n",
    "def media_8h_movel(df, col):\n",
    "    resultados = []\n",
    "    for dia, grupo in df.groupby('data_formatada'):\n",
    "        grupo = grupo.sort_values('data')\n",
    "        grupo = grupo.set_index('data')\n",
    "        rol = grupo[col].rolling('8h', min_periods=6).mean()\n",
    "        max_rol = rol.max()\n",
    "        resultados.append((dia, max_rol))\n",
    "    return pd.Series(dict(resultados))"
   ]
  },
  {
   "cell_type": "code",
   "execution_count": 96,
   "metadata": {
    "executionInfo": {
     "elapsed": 9489,
     "status": "ok",
     "timestamp": 1750560340261,
     "user": {
      "displayName": "João Terêncio",
      "userId": "14302965054076037047"
     },
     "user_tz": 180
    },
    "id": "P19Ow8SB47Ud"
   },
   "outputs": [],
   "source": [
    "# Médias 24h dos poluentes diários\n",
    "df_diario = df.groupby('data_formatada')[['pm10', 'pm2_5', 'so2']].mean()\n",
    "\n",
    "# Médias móveis 8h para O3 e CO\n",
    "o3_8h_max = media_8h_movel(df, 'o3')\n",
    "co_8h_max = media_8h_movel(df, 'co')\n",
    "\n",
    "# NO2: pega maior valor por dia\n",
    "no2_1h_max = df.groupby('data_formatada')['no2'].max()\n",
    "\n",
    "# Monta df_aqi\n",
    "df_aqi = df_diario.copy()\n",
    "df_aqi['o3_8h_max'] = o3_8h_max\n",
    "df_aqi['co_8h_max'] = co_8h_max\n",
    "df_aqi['no2_1h_max'] = no2_1h_max"
   ]
  },
  {
   "cell_type": "code",
   "execution_count": 97,
   "metadata": {
    "executionInfo": {
     "elapsed": 55,
     "status": "ok",
     "timestamp": 1750560340319,
     "user": {
      "displayName": "João Terêncio",
      "userId": "14302965054076037047"
     },
     "user_tz": 180
    },
    "id": "lUPOzj0c8nni"
   },
   "outputs": [],
   "source": [
    "# Aplica cálculo de AQI contínuo por poluente\n",
    "for poluente, faixas in faixas_aqi.items():\n",
    "    col_ref = {\n",
    "        'o3': 'o3_8h_max',\n",
    "        'co': 'co_8h_max',\n",
    "        'no2': 'no2_1h_max'\n",
    "    }.get(poluente, poluente)\n",
    "\n",
    "    df_aqi[f'{poluente}_aqi'] = df_aqi[col_ref].apply(\n",
    "        lambda x: calcular_aqi(x, faixas) if pd.notnull(x) else np.nan\n",
    "    )\n",
    "\n",
    "# AQI final do dia: maior valor entre os poluentes\n",
    "col_aqis = [f'{p}_aqi' for p in ['pm10', 'pm2_5', 'so2', 'o3', 'co', 'no2']]\n",
    "df_aqi['aqi'] = df_aqi[col_aqis].max(axis=1)"
   ]
  },
  {
   "cell_type": "code",
   "execution_count": 98,
   "metadata": {
    "executionInfo": {
     "elapsed": 3,
     "status": "ok",
     "timestamp": 1750560340324,
     "user": {
      "displayName": "João Terêncio",
      "userId": "14302965054076037047"
     },
     "user_tz": 180
    },
    "id": "zHyRJLtZ8pt6"
   },
   "outputs": [],
   "source": [
    "# Classificação da qualidade do ar com base no AQI real\n",
    "def classifica_qualidade(aqi):\n",
    "    if aqi <= 40:\n",
    "        return 'N1 - Boa'\n",
    "    elif aqi <= 80:\n",
    "        return 'N2 - Moderada'\n",
    "    elif aqi <= 120:\n",
    "        return 'N3 - Ruim'\n",
    "    elif aqi <= 200:\n",
    "        return 'N4 - Muito Ruim'\n",
    "    else:\n",
    "        return 'N5 - Péssima'\n",
    "\n",
    "df_aqi['classificacao'] = df_aqi['aqi'].apply(classifica_qualidade)\n",
    "df_aqi.reset_index(inplace=True)"
   ]
  },
  {
   "cell_type": "code",
   "execution_count": 99,
   "metadata": {
    "executionInfo": {
     "elapsed": 30,
     "status": "ok",
     "timestamp": 1750560340355,
     "user": {
      "displayName": "João Terêncio",
      "userId": "14302965054076037047"
     },
     "user_tz": 180
    },
    "id": "PaZfeSqK6iHa"
   },
   "outputs": [],
   "source": [
    "# Arredonda o AQI final para inteiro\n",
    "df_aqi['aqi'] = df_aqi['aqi'].round().astype('Int64')\n",
    "\n",
    "# Mantém apenas as colunas desejadas\n",
    "df_aqi = df_aqi[['data_formatada', 'aqi', 'classificacao']]"
   ]
  },
  {
   "cell_type": "code",
   "execution_count": 100,
   "metadata": {
    "executionInfo": {
     "elapsed": 114,
     "status": "ok",
     "timestamp": 1750560340468,
     "user": {
      "displayName": "João Terêncio",
      "userId": "14302965054076037047"
     },
     "user_tz": 180
    },
    "id": "hNErBDu0cMxs"
   },
   "outputs": [],
   "source": [
    "# Agrupamento por data_formatada\n",
    "df_gruped = df_sensor_bangu.groupby('data_formatada', as_index=False).mean()\n",
    "\n",
    "# Merge com a tabela de qualidade do ar\n",
    "df_merged = df_gruped.merge(\n",
    "    df_aqi[['classificacao', 'aqi', 'data_formatada']],\n",
    "    left_on='data_formatada',\n",
    "    right_on='data_formatada',\n",
    "    how='left'\n",
    ")"
   ]
  },
  {
   "cell_type": "code",
   "execution_count": 101,
   "metadata": {
    "colab": {
     "base_uri": "https://localhost:8080/"
    },
    "executionInfo": {
     "elapsed": 49,
     "status": "ok",
     "timestamp": 1750560340469,
     "user": {
      "displayName": "João Terêncio",
      "userId": "14302965054076037047"
     },
     "user_tz": 180
    },
    "id": "B581dr8A0wYM",
    "outputId": "b04cbfba-68f5-48e7-81eb-92a58b81410b"
   },
   "outputs": [
    {
     "data": {
      "text/plain": [
       "(4750, 19)"
      ]
     },
     "execution_count": 101,
     "metadata": {},
     "output_type": "execute_result"
    }
   ],
   "source": [
    "df_merged.shape"
   ]
  },
  {
   "cell_type": "code",
   "execution_count": 102,
   "metadata": {
    "colab": {
     "base_uri": "https://localhost:8080/",
     "height": 206
    },
    "executionInfo": {
     "elapsed": 43,
     "status": "ok",
     "timestamp": 1750560340510,
     "user": {
      "displayName": "João Terêncio",
      "userId": "14302965054076037047"
     },
     "user_tz": 180
    },
    "id": "4DlAgasL7sxd",
    "outputId": "e5031ded-9eeb-45b9-c768-857c0fe0c33a"
   },
   "outputs": [
    {
     "data": {
      "text/html": [
       "<div>\n",
       "<style scoped>\n",
       "    .dataframe tbody tr th:only-of-type {\n",
       "        vertical-align: middle;\n",
       "    }\n",
       "\n",
       "    .dataframe tbody tr th {\n",
       "        vertical-align: top;\n",
       "    }\n",
       "\n",
       "    .dataframe thead th {\n",
       "        text-align: right;\n",
       "    }\n",
       "</style>\n",
       "<table border=\"1\" class=\"dataframe\">\n",
       "  <thead>\n",
       "    <tr style=\"text-align: right;\">\n",
       "      <th></th>\n",
       "      <th>data</th>\n",
       "      <th>chuva</th>\n",
       "      <th>temp</th>\n",
       "      <th>ur</th>\n",
       "      <th>co</th>\n",
       "      <th>no</th>\n",
       "      <th>no2</th>\n",
       "      <th>nox</th>\n",
       "      <th>so2</th>\n",
       "      <th>o3</th>\n",
       "      <th>pm10</th>\n",
       "      <th>pm2_5</th>\n",
       "      <th>lat</th>\n",
       "      <th>lon</th>\n",
       "      <th>data_formatada</th>\n",
       "      <th>ano</th>\n",
       "      <th>mes</th>\n",
       "    </tr>\n",
       "  </thead>\n",
       "  <tbody>\n",
       "    <tr>\n",
       "      <th>148892</th>\n",
       "      <td>2024-12-31 22:30:00</td>\n",
       "      <td>0.0</td>\n",
       "      <td>26.92</td>\n",
       "      <td>81.92</td>\n",
       "      <td>NaN</td>\n",
       "      <td>NaN</td>\n",
       "      <td>NaN</td>\n",
       "      <td>NaN</td>\n",
       "      <td>NaN</td>\n",
       "      <td>55.91</td>\n",
       "      <td>13.0</td>\n",
       "      <td>NaN</td>\n",
       "      <td>-22.88791</td>\n",
       "      <td>-43.471074</td>\n",
       "      <td>2024-12-31</td>\n",
       "      <td>2024</td>\n",
       "      <td>12</td>\n",
       "    </tr>\n",
       "    <tr>\n",
       "      <th>148893</th>\n",
       "      <td>2024-12-31 23:30:00</td>\n",
       "      <td>0.0</td>\n",
       "      <td>26.62</td>\n",
       "      <td>86.75</td>\n",
       "      <td>NaN</td>\n",
       "      <td>NaN</td>\n",
       "      <td>NaN</td>\n",
       "      <td>NaN</td>\n",
       "      <td>NaN</td>\n",
       "      <td>42.33</td>\n",
       "      <td>19.0</td>\n",
       "      <td>NaN</td>\n",
       "      <td>-22.88791</td>\n",
       "      <td>-43.471074</td>\n",
       "      <td>2024-12-31</td>\n",
       "      <td>2024</td>\n",
       "      <td>12</td>\n",
       "    </tr>\n",
       "    <tr>\n",
       "      <th>148894</th>\n",
       "      <td>2025-01-01 00:30:00</td>\n",
       "      <td>0.0</td>\n",
       "      <td>26.07</td>\n",
       "      <td>89.30</td>\n",
       "      <td>0.11</td>\n",
       "      <td>3.46</td>\n",
       "      <td>47.54</td>\n",
       "      <td>51.0</td>\n",
       "      <td>5.52</td>\n",
       "      <td>42.20</td>\n",
       "      <td>23.0</td>\n",
       "      <td>NaN</td>\n",
       "      <td>-22.88791</td>\n",
       "      <td>-43.471074</td>\n",
       "      <td>2025-01-01</td>\n",
       "      <td>2025</td>\n",
       "      <td>1</td>\n",
       "    </tr>\n",
       "    <tr>\n",
       "      <th>148895</th>\n",
       "      <td>2025-01-01 01:30:00</td>\n",
       "      <td>0.0</td>\n",
       "      <td>25.97</td>\n",
       "      <td>93.77</td>\n",
       "      <td>0.11</td>\n",
       "      <td>3.46</td>\n",
       "      <td>47.54</td>\n",
       "      <td>51.0</td>\n",
       "      <td>5.52</td>\n",
       "      <td>35.70</td>\n",
       "      <td>31.0</td>\n",
       "      <td>NaN</td>\n",
       "      <td>-22.88791</td>\n",
       "      <td>-43.471074</td>\n",
       "      <td>2025-01-01</td>\n",
       "      <td>2025</td>\n",
       "      <td>1</td>\n",
       "    </tr>\n",
       "    <tr>\n",
       "      <th>148896</th>\n",
       "      <td>2025-01-01 02:30:00</td>\n",
       "      <td>0.0</td>\n",
       "      <td>26.07</td>\n",
       "      <td>93.22</td>\n",
       "      <td>0.11</td>\n",
       "      <td>3.46</td>\n",
       "      <td>47.54</td>\n",
       "      <td>51.0</td>\n",
       "      <td>5.52</td>\n",
       "      <td>32.70</td>\n",
       "      <td>46.0</td>\n",
       "      <td>NaN</td>\n",
       "      <td>-22.88791</td>\n",
       "      <td>-43.471074</td>\n",
       "      <td>2025-01-01</td>\n",
       "      <td>2025</td>\n",
       "      <td>1</td>\n",
       "    </tr>\n",
       "  </tbody>\n",
       "</table>\n",
       "</div>"
      ],
      "text/plain": [
       "                      data  chuva   temp     ur    co    no    no2   nox  \\\n",
       "148892 2024-12-31 22:30:00    0.0  26.92  81.92   NaN   NaN    NaN   NaN   \n",
       "148893 2024-12-31 23:30:00    0.0  26.62  86.75   NaN   NaN    NaN   NaN   \n",
       "148894 2025-01-01 00:30:00    0.0  26.07  89.30  0.11  3.46  47.54  51.0   \n",
       "148895 2025-01-01 01:30:00    0.0  25.97  93.77  0.11  3.46  47.54  51.0   \n",
       "148896 2025-01-01 02:30:00    0.0  26.07  93.22  0.11  3.46  47.54  51.0   \n",
       "\n",
       "         so2     o3  pm10  pm2_5       lat        lon data_formatada   ano  \\\n",
       "148892   NaN  55.91  13.0    NaN -22.88791 -43.471074     2024-12-31  2024   \n",
       "148893   NaN  42.33  19.0    NaN -22.88791 -43.471074     2024-12-31  2024   \n",
       "148894  5.52  42.20  23.0    NaN -22.88791 -43.471074     2025-01-01  2025   \n",
       "148895  5.52  35.70  31.0    NaN -22.88791 -43.471074     2025-01-01  2025   \n",
       "148896  5.52  32.70  46.0    NaN -22.88791 -43.471074     2025-01-01  2025   \n",
       "\n",
       "        mes  \n",
       "148892   12  \n",
       "148893   12  \n",
       "148894    1  \n",
       "148895    1  \n",
       "148896    1  "
      ]
     },
     "execution_count": 102,
     "metadata": {},
     "output_type": "execute_result"
    }
   ],
   "source": [
    "df_sensor_bangu.tail()"
   ]
  },
  {
   "cell_type": "code",
   "execution_count": 103,
   "metadata": {
    "executionInfo": {
     "elapsed": 1624,
     "status": "ok",
     "timestamp": 1750560424774,
     "user": {
      "displayName": "João Terêncio",
      "userId": "14302965054076037047"
     },
     "user_tz": 180
    },
    "id": "lM5Aa3WIvIiz"
   },
   "outputs": [],
   "source": [
    "df_sensor_bangu.to_csv('bangu_per_hour.csv', index=False)"
   ]
  },
  {
   "cell_type": "markdown",
   "metadata": {
    "id": "ijWuiCIzOE1P"
   },
   "source": [
    "# Gerando CSV de saída com a estação preenchida\n"
   ]
  },
  {
   "cell_type": "code",
   "execution_count": 89,
   "metadata": {
    "executionInfo": {
     "elapsed": 6,
     "status": "ok",
     "timestamp": 1750560387958,
     "user": {
      "displayName": "João Terêncio",
      "userId": "14302965054076037047"
     },
     "user_tz": 180
    },
    "id": "4aicusNC82qi"
   },
   "outputs": [],
   "source": [
    "df_merged['lat'] = -22.88791\n",
    "df_merged['lon'] = -43.471074\n",
    "df_merged['estacao'] = 'Bangu'\n",
    "df_merged['ano'] = pd.to_datetime(df_merged['data_formatada']).dt.year\n",
    "df_merged['mes'] = pd.to_datetime(df_merged['data_formatada']).dt.month"
   ]
  },
  {
   "cell_type": "code",
   "execution_count": 90,
   "metadata": {
    "colab": {
     "base_uri": "https://localhost:8080/",
     "height": 226
    },
    "executionInfo": {
     "elapsed": 64,
     "status": "ok",
     "timestamp": 1750560388876,
     "user": {
      "displayName": "João Terêncio",
      "userId": "14302965054076037047"
     },
     "user_tz": 180
    },
    "id": "AWKbGzmZ9T5s",
    "outputId": "cf333ce9-a32a-45ee-b3d0-5d528c030aea"
   },
   "outputs": [
    {
     "data": {
      "text/html": [
       "<div>\n",
       "<style scoped>\n",
       "    .dataframe tbody tr th:only-of-type {\n",
       "        vertical-align: middle;\n",
       "    }\n",
       "\n",
       "    .dataframe tbody tr th {\n",
       "        vertical-align: top;\n",
       "    }\n",
       "\n",
       "    .dataframe thead th {\n",
       "        text-align: right;\n",
       "    }\n",
       "</style>\n",
       "<table border=\"1\" class=\"dataframe\">\n",
       "  <thead>\n",
       "    <tr style=\"text-align: right;\">\n",
       "      <th></th>\n",
       "      <th>data_formatada</th>\n",
       "      <th>data</th>\n",
       "      <th>chuva</th>\n",
       "      <th>temp</th>\n",
       "      <th>ur</th>\n",
       "      <th>co</th>\n",
       "      <th>no</th>\n",
       "      <th>no2</th>\n",
       "      <th>nox</th>\n",
       "      <th>so2</th>\n",
       "      <th>o3</th>\n",
       "      <th>pm10</th>\n",
       "      <th>pm2_5</th>\n",
       "      <th>lat</th>\n",
       "      <th>lon</th>\n",
       "      <th>ano</th>\n",
       "      <th>mes</th>\n",
       "      <th>classificacao</th>\n",
       "      <th>aqi</th>\n",
       "      <th>estacao</th>\n",
       "    </tr>\n",
       "  </thead>\n",
       "  <tbody>\n",
       "    <tr>\n",
       "      <th>0</th>\n",
       "      <td>2012-01-01</td>\n",
       "      <td>2012-01-01 13:30:00</td>\n",
       "      <td>0.514286</td>\n",
       "      <td>26.088095</td>\n",
       "      <td>89.140952</td>\n",
       "      <td>0.503810</td>\n",
       "      <td>2.617143</td>\n",
       "      <td>12.113333</td>\n",
       "      <td>14.729524</td>\n",
       "      <td>0.541000</td>\n",
       "      <td>28.365238</td>\n",
       "      <td>21.785714</td>\n",
       "      <td>NaN</td>\n",
       "      <td>-22.88791</td>\n",
       "      <td>-43.471074</td>\n",
       "      <td>2012</td>\n",
       "      <td>1</td>\n",
       "      <td>N1 - Boa</td>\n",
       "      <td>17</td>\n",
       "      <td>Bangu</td>\n",
       "    </tr>\n",
       "    <tr>\n",
       "      <th>1</th>\n",
       "      <td>2012-01-02</td>\n",
       "      <td>2012-01-02 12:00:00</td>\n",
       "      <td>2.658333</td>\n",
       "      <td>22.874167</td>\n",
       "      <td>94.992500</td>\n",
       "      <td>0.234167</td>\n",
       "      <td>4.322083</td>\n",
       "      <td>11.511250</td>\n",
       "      <td>15.827500</td>\n",
       "      <td>0.312500</td>\n",
       "      <td>23.874583</td>\n",
       "      <td>5.708333</td>\n",
       "      <td>NaN</td>\n",
       "      <td>-22.88791</td>\n",
       "      <td>-43.471074</td>\n",
       "      <td>2012</td>\n",
       "      <td>1</td>\n",
       "      <td>N1 - Boa</td>\n",
       "      <td>14</td>\n",
       "      <td>Bangu</td>\n",
       "    </tr>\n",
       "    <tr>\n",
       "      <th>2</th>\n",
       "      <td>2012-01-03</td>\n",
       "      <td>2012-01-03 12:00:00</td>\n",
       "      <td>0.000000</td>\n",
       "      <td>24.991250</td>\n",
       "      <td>76.596250</td>\n",
       "      <td>0.333958</td>\n",
       "      <td>6.184167</td>\n",
       "      <td>13.148750</td>\n",
       "      <td>19.332917</td>\n",
       "      <td>0.598125</td>\n",
       "      <td>23.960000</td>\n",
       "      <td>16.916667</td>\n",
       "      <td>NaN</td>\n",
       "      <td>-22.88791</td>\n",
       "      <td>-43.471074</td>\n",
       "      <td>2012</td>\n",
       "      <td>1</td>\n",
       "      <td>N1 - Boa</td>\n",
       "      <td>19</td>\n",
       "      <td>Bangu</td>\n",
       "    </tr>\n",
       "    <tr>\n",
       "      <th>3</th>\n",
       "      <td>2012-01-04</td>\n",
       "      <td>2012-01-04 12:00:00</td>\n",
       "      <td>0.016667</td>\n",
       "      <td>26.350833</td>\n",
       "      <td>70.597917</td>\n",
       "      <td>0.403333</td>\n",
       "      <td>14.318750</td>\n",
       "      <td>28.951667</td>\n",
       "      <td>43.272083</td>\n",
       "      <td>0.775417</td>\n",
       "      <td>34.962292</td>\n",
       "      <td>40.166667</td>\n",
       "      <td>NaN</td>\n",
       "      <td>-22.88791</td>\n",
       "      <td>-43.471074</td>\n",
       "      <td>2012</td>\n",
       "      <td>1</td>\n",
       "      <td>N1 - Boa</td>\n",
       "      <td>34</td>\n",
       "      <td>Bangu</td>\n",
       "    </tr>\n",
       "    <tr>\n",
       "      <th>4</th>\n",
       "      <td>2012-01-05</td>\n",
       "      <td>2012-01-05 12:00:00</td>\n",
       "      <td>0.000000</td>\n",
       "      <td>27.145000</td>\n",
       "      <td>71.039583</td>\n",
       "      <td>0.448750</td>\n",
       "      <td>7.699167</td>\n",
       "      <td>21.365417</td>\n",
       "      <td>29.065417</td>\n",
       "      <td>0.337083</td>\n",
       "      <td>42.460000</td>\n",
       "      <td>32.583333</td>\n",
       "      <td>NaN</td>\n",
       "      <td>-22.88791</td>\n",
       "      <td>-43.471074</td>\n",
       "      <td>2012</td>\n",
       "      <td>1</td>\n",
       "      <td>N1 - Boa</td>\n",
       "      <td>37</td>\n",
       "      <td>Bangu</td>\n",
       "    </tr>\n",
       "  </tbody>\n",
       "</table>\n",
       "</div>"
      ],
      "text/plain": [
       "  data_formatada                data     chuva       temp         ur  \\\n",
       "0     2012-01-01 2012-01-01 13:30:00  0.514286  26.088095  89.140952   \n",
       "1     2012-01-02 2012-01-02 12:00:00  2.658333  22.874167  94.992500   \n",
       "2     2012-01-03 2012-01-03 12:00:00  0.000000  24.991250  76.596250   \n",
       "3     2012-01-04 2012-01-04 12:00:00  0.016667  26.350833  70.597917   \n",
       "4     2012-01-05 2012-01-05 12:00:00  0.000000  27.145000  71.039583   \n",
       "\n",
       "         co         no        no2        nox       so2         o3       pm10  \\\n",
       "0  0.503810   2.617143  12.113333  14.729524  0.541000  28.365238  21.785714   \n",
       "1  0.234167   4.322083  11.511250  15.827500  0.312500  23.874583   5.708333   \n",
       "2  0.333958   6.184167  13.148750  19.332917  0.598125  23.960000  16.916667   \n",
       "3  0.403333  14.318750  28.951667  43.272083  0.775417  34.962292  40.166667   \n",
       "4  0.448750   7.699167  21.365417  29.065417  0.337083  42.460000  32.583333   \n",
       "\n",
       "   pm2_5       lat        lon   ano  mes classificacao  aqi estacao  \n",
       "0    NaN -22.88791 -43.471074  2012    1      N1 - Boa   17   Bangu  \n",
       "1    NaN -22.88791 -43.471074  2012    1      N1 - Boa   14   Bangu  \n",
       "2    NaN -22.88791 -43.471074  2012    1      N1 - Boa   19   Bangu  \n",
       "3    NaN -22.88791 -43.471074  2012    1      N1 - Boa   34   Bangu  \n",
       "4    NaN -22.88791 -43.471074  2012    1      N1 - Boa   37   Bangu  "
      ]
     },
     "execution_count": 90,
     "metadata": {},
     "output_type": "execute_result"
    }
   ],
   "source": [
    "df_merged.head()"
   ]
  },
  {
   "cell_type": "code",
   "execution_count": 91,
   "metadata": {
    "colab": {
     "base_uri": "https://localhost:8080/",
     "height": 226
    },
    "executionInfo": {
     "elapsed": 49,
     "status": "ok",
     "timestamp": 1750560458790,
     "user": {
      "displayName": "João Terêncio",
      "userId": "14302965054076037047"
     },
     "user_tz": 180
    },
    "id": "00077743",
    "outputId": "9ffd9e48-7242-4828-ea20-186532f73646"
   },
   "outputs": [
    {
     "data": {
      "text/html": [
       "<div>\n",
       "<style scoped>\n",
       "    .dataframe tbody tr th:only-of-type {\n",
       "        vertical-align: middle;\n",
       "    }\n",
       "\n",
       "    .dataframe tbody tr th {\n",
       "        vertical-align: top;\n",
       "    }\n",
       "\n",
       "    .dataframe thead th {\n",
       "        text-align: right;\n",
       "    }\n",
       "</style>\n",
       "<table border=\"1\" class=\"dataframe\">\n",
       "  <thead>\n",
       "    <tr style=\"text-align: right;\">\n",
       "      <th></th>\n",
       "      <th>data_formatada</th>\n",
       "      <th>estacao</th>\n",
       "      <th>ano</th>\n",
       "      <th>mes</th>\n",
       "      <th>lat</th>\n",
       "      <th>lon</th>\n",
       "      <th>chuva</th>\n",
       "      <th>temp</th>\n",
       "      <th>ur</th>\n",
       "      <th>co</th>\n",
       "      <th>no</th>\n",
       "      <th>no2</th>\n",
       "      <th>nox</th>\n",
       "      <th>so2</th>\n",
       "      <th>o3</th>\n",
       "      <th>pm10</th>\n",
       "      <th>pm2_5</th>\n",
       "      <th>aqi</th>\n",
       "      <th>classificacao</th>\n",
       "    </tr>\n",
       "  </thead>\n",
       "  <tbody>\n",
       "    <tr>\n",
       "      <th>0</th>\n",
       "      <td>2012-01-01</td>\n",
       "      <td>Bangu</td>\n",
       "      <td>2012</td>\n",
       "      <td>1</td>\n",
       "      <td>-22.88791</td>\n",
       "      <td>-43.471074</td>\n",
       "      <td>0.514286</td>\n",
       "      <td>26.088095</td>\n",
       "      <td>89.140952</td>\n",
       "      <td>0.503810</td>\n",
       "      <td>2.617143</td>\n",
       "      <td>12.113333</td>\n",
       "      <td>14.729524</td>\n",
       "      <td>0.541000</td>\n",
       "      <td>28.365238</td>\n",
       "      <td>21.785714</td>\n",
       "      <td>NaN</td>\n",
       "      <td>17</td>\n",
       "      <td>N1 - Boa</td>\n",
       "    </tr>\n",
       "    <tr>\n",
       "      <th>1</th>\n",
       "      <td>2012-01-02</td>\n",
       "      <td>Bangu</td>\n",
       "      <td>2012</td>\n",
       "      <td>1</td>\n",
       "      <td>-22.88791</td>\n",
       "      <td>-43.471074</td>\n",
       "      <td>2.658333</td>\n",
       "      <td>22.874167</td>\n",
       "      <td>94.992500</td>\n",
       "      <td>0.234167</td>\n",
       "      <td>4.322083</td>\n",
       "      <td>11.511250</td>\n",
       "      <td>15.827500</td>\n",
       "      <td>0.312500</td>\n",
       "      <td>23.874583</td>\n",
       "      <td>5.708333</td>\n",
       "      <td>NaN</td>\n",
       "      <td>14</td>\n",
       "      <td>N1 - Boa</td>\n",
       "    </tr>\n",
       "    <tr>\n",
       "      <th>2</th>\n",
       "      <td>2012-01-03</td>\n",
       "      <td>Bangu</td>\n",
       "      <td>2012</td>\n",
       "      <td>1</td>\n",
       "      <td>-22.88791</td>\n",
       "      <td>-43.471074</td>\n",
       "      <td>0.000000</td>\n",
       "      <td>24.991250</td>\n",
       "      <td>76.596250</td>\n",
       "      <td>0.333958</td>\n",
       "      <td>6.184167</td>\n",
       "      <td>13.148750</td>\n",
       "      <td>19.332917</td>\n",
       "      <td>0.598125</td>\n",
       "      <td>23.960000</td>\n",
       "      <td>16.916667</td>\n",
       "      <td>NaN</td>\n",
       "      <td>19</td>\n",
       "      <td>N1 - Boa</td>\n",
       "    </tr>\n",
       "    <tr>\n",
       "      <th>3</th>\n",
       "      <td>2012-01-04</td>\n",
       "      <td>Bangu</td>\n",
       "      <td>2012</td>\n",
       "      <td>1</td>\n",
       "      <td>-22.88791</td>\n",
       "      <td>-43.471074</td>\n",
       "      <td>0.016667</td>\n",
       "      <td>26.350833</td>\n",
       "      <td>70.597917</td>\n",
       "      <td>0.403333</td>\n",
       "      <td>14.318750</td>\n",
       "      <td>28.951667</td>\n",
       "      <td>43.272083</td>\n",
       "      <td>0.775417</td>\n",
       "      <td>34.962292</td>\n",
       "      <td>40.166667</td>\n",
       "      <td>NaN</td>\n",
       "      <td>34</td>\n",
       "      <td>N1 - Boa</td>\n",
       "    </tr>\n",
       "    <tr>\n",
       "      <th>4</th>\n",
       "      <td>2012-01-05</td>\n",
       "      <td>Bangu</td>\n",
       "      <td>2012</td>\n",
       "      <td>1</td>\n",
       "      <td>-22.88791</td>\n",
       "      <td>-43.471074</td>\n",
       "      <td>0.000000</td>\n",
       "      <td>27.145000</td>\n",
       "      <td>71.039583</td>\n",
       "      <td>0.448750</td>\n",
       "      <td>7.699167</td>\n",
       "      <td>21.365417</td>\n",
       "      <td>29.065417</td>\n",
       "      <td>0.337083</td>\n",
       "      <td>42.460000</td>\n",
       "      <td>32.583333</td>\n",
       "      <td>NaN</td>\n",
       "      <td>37</td>\n",
       "      <td>N1 - Boa</td>\n",
       "    </tr>\n",
       "  </tbody>\n",
       "</table>\n",
       "</div>"
      ],
      "text/plain": [
       "  data_formatada estacao   ano  mes       lat        lon     chuva       temp  \\\n",
       "0     2012-01-01   Bangu  2012    1 -22.88791 -43.471074  0.514286  26.088095   \n",
       "1     2012-01-02   Bangu  2012    1 -22.88791 -43.471074  2.658333  22.874167   \n",
       "2     2012-01-03   Bangu  2012    1 -22.88791 -43.471074  0.000000  24.991250   \n",
       "3     2012-01-04   Bangu  2012    1 -22.88791 -43.471074  0.016667  26.350833   \n",
       "4     2012-01-05   Bangu  2012    1 -22.88791 -43.471074  0.000000  27.145000   \n",
       "\n",
       "          ur        co         no        no2        nox       so2         o3  \\\n",
       "0  89.140952  0.503810   2.617143  12.113333  14.729524  0.541000  28.365238   \n",
       "1  94.992500  0.234167   4.322083  11.511250  15.827500  0.312500  23.874583   \n",
       "2  76.596250  0.333958   6.184167  13.148750  19.332917  0.598125  23.960000   \n",
       "3  70.597917  0.403333  14.318750  28.951667  43.272083  0.775417  34.962292   \n",
       "4  71.039583  0.448750   7.699167  21.365417  29.065417  0.337083  42.460000   \n",
       "\n",
       "        pm10  pm2_5  aqi classificacao  \n",
       "0  21.785714    NaN   17      N1 - Boa  \n",
       "1   5.708333    NaN   14      N1 - Boa  \n",
       "2  16.916667    NaN   19      N1 - Boa  \n",
       "3  40.166667    NaN   34      N1 - Boa  \n",
       "4  32.583333    NaN   37      N1 - Boa  "
      ]
     },
     "metadata": {},
     "output_type": "display_data"
    }
   ],
   "source": [
    "# Reorder columns\n",
    "new_order = ['data_formatada', 'estacao', 'ano', 'mes', 'lat', 'lon',\n",
    "             'chuva', 'temp', 'ur', 'co', 'no', 'no2', 'nox', 'so2', 'o3', 'pm10', 'pm2_5',\n",
    "             'aqi', 'classificacao']\n",
    "df_merged = df_merged[new_order]\n",
    "\n",
    "display(df_merged.head())"
   ]
  },
  {
   "cell_type": "code",
   "execution_count": 91,
   "metadata": {
    "executionInfo": {
     "elapsed": 99,
     "status": "ok",
     "timestamp": 1750560460262,
     "user": {
      "displayName": "João Terêncio",
      "userId": "14302965054076037047"
     },
     "user_tz": 180
    },
    "id": "gfe-Z7ZsOOQO"
   },
   "outputs": [],
   "source": [
    "df_merged.to_csv('bangu.csv', index=False)"
   ]
  }
 ],
 "metadata": {
  "colab": {
   "authorship_tag": "ABX9TyMzyQxwVu0zujur/oRoKSIC",
   "mount_file_id": "1-WahTI-uX0cHtN8xggYFA7Ou-mkBSnK_",
   "provenance": []
  },
  "kernelspec": {
   "display_name": "base",
   "language": "python",
   "name": "python3"
  },
  "language_info": {
   "codemirror_mode": {
    "name": "ipython",
    "version": 3
   },
   "file_extension": ".py",
   "mimetype": "text/x-python",
   "name": "python",
   "nbconvert_exporter": "python",
   "pygments_lexer": "ipython3",
   "version": "3.11.7"
  }
 },
 "nbformat": 4,
 "nbformat_minor": 0
}
