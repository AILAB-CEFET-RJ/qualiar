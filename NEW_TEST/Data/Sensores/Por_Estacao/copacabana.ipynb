{
 "cells": [
  {
   "cell_type": "markdown",
   "metadata": {
    "id": "TTJ20DT1DZP4"
   },
   "source": [
    "# Importações"
   ]
  },
  {
   "cell_type": "code",
   "execution_count": 1,
   "metadata": {
    "executionInfo": {
     "elapsed": 7272,
     "status": "ok",
     "timestamp": 1750346059573,
     "user": {
      "displayName": "João Terêncio",
      "userId": "14302965054076037047"
     },
     "user_tz": 180
    },
    "id": "3IqV3pDuCcJq"
   },
   "outputs": [],
   "source": [
    "import io\n",
    "import zipfile\n",
    "import requests\n",
    "import numpy as np\n",
    "import pandas as pd\n",
    "import matplotlib.pyplot as plt"
   ]
  },
  {
   "cell_type": "markdown",
   "metadata": {
    "id": "g4RXL-is5UgJ"
   },
   "source": [
    "# Consumindo bases"
   ]
  },
  {
   "cell_type": "code",
   "execution_count": 2,
   "metadata": {
    "executionInfo": {
     "elapsed": 15780,
     "status": "ok",
     "timestamp": 1750346075338,
     "user": {
      "displayName": "João Terêncio",
      "userId": "14302965054076037047"
     },
     "user_tz": 180
    },
    "id": "eyjEKJYpDhin"
   },
   "outputs": [
    {
     "name": "stdout",
     "output_type": "stream",
     "text": [
      "Arquivos no ZIP:\n",
      "['sensores.csv']\n"
     ]
    },
    {
     "data": {
      "text/html": [
       "<div>\n",
       "<style scoped>\n",
       "    .dataframe tbody tr th:only-of-type {\n",
       "        vertical-align: middle;\n",
       "    }\n",
       "\n",
       "    .dataframe tbody tr th {\n",
       "        vertical-align: top;\n",
       "    }\n",
       "\n",
       "    .dataframe thead th {\n",
       "        text-align: right;\n",
       "    }\n",
       "</style>\n",
       "<table border=\"1\" class=\"dataframe\">\n",
       "  <thead>\n",
       "    <tr style=\"text-align: right;\">\n",
       "      <th></th>\n",
       "      <th>objectid</th>\n",
       "      <th>data</th>\n",
       "      <th>codnum</th>\n",
       "      <th>estação</th>\n",
       "      <th>chuva</th>\n",
       "      <th>pres</th>\n",
       "      <th>rs</th>\n",
       "      <th>temp</th>\n",
       "      <th>ur</th>\n",
       "      <th>dir_vento</th>\n",
       "      <th>...</th>\n",
       "      <th>co</th>\n",
       "      <th>no</th>\n",
       "      <th>nox</th>\n",
       "      <th>o3</th>\n",
       "      <th>pm10</th>\n",
       "      <th>pm2_5</th>\n",
       "      <th>lat</th>\n",
       "      <th>lon</th>\n",
       "      <th>x_utm_sirgas2000</th>\n",
       "      <th>y_utm_sirgas2000</th>\n",
       "    </tr>\n",
       "  </thead>\n",
       "  <tbody>\n",
       "    <tr>\n",
       "      <th>0</th>\n",
       "      <td>2372436</td>\n",
       "      <td>1/1/2011 6:30:00 AM</td>\n",
       "      <td>3</td>\n",
       "      <td>CA</td>\n",
       "      <td>0.2</td>\n",
       "      <td>1009.33</td>\n",
       "      <td>1.57</td>\n",
       "      <td>21.81</td>\n",
       "      <td>84.50</td>\n",
       "      <td>250.67</td>\n",
       "      <td>...</td>\n",
       "      <td>0.17</td>\n",
       "      <td>NaN</td>\n",
       "      <td>NaN</td>\n",
       "      <td>17.89</td>\n",
       "      <td>10.0</td>\n",
       "      <td>NaN</td>\n",
       "      <td>-22.908344</td>\n",
       "      <td>-43.178152</td>\n",
       "      <td>686853.7075</td>\n",
       "      <td>7.465470e+06</td>\n",
       "    </tr>\n",
       "    <tr>\n",
       "      <th>1</th>\n",
       "      <td>2372437</td>\n",
       "      <td>1/1/2011 7:30:00 AM</td>\n",
       "      <td>3</td>\n",
       "      <td>CA</td>\n",
       "      <td>0.0</td>\n",
       "      <td>1009.00</td>\n",
       "      <td>1.40</td>\n",
       "      <td>21.79</td>\n",
       "      <td>84.73</td>\n",
       "      <td>121.17</td>\n",
       "      <td>...</td>\n",
       "      <td>0.21</td>\n",
       "      <td>NaN</td>\n",
       "      <td>NaN</td>\n",
       "      <td>12.44</td>\n",
       "      <td>11.0</td>\n",
       "      <td>NaN</td>\n",
       "      <td>-22.908344</td>\n",
       "      <td>-43.178152</td>\n",
       "      <td>686853.7075</td>\n",
       "      <td>7.465470e+06</td>\n",
       "    </tr>\n",
       "    <tr>\n",
       "      <th>2</th>\n",
       "      <td>2372438</td>\n",
       "      <td>1/1/2011 8:30:00 AM</td>\n",
       "      <td>3</td>\n",
       "      <td>CA</td>\n",
       "      <td>0.2</td>\n",
       "      <td>1008.17</td>\n",
       "      <td>1.37</td>\n",
       "      <td>21.44</td>\n",
       "      <td>85.70</td>\n",
       "      <td>85.67</td>\n",
       "      <td>...</td>\n",
       "      <td>0.17</td>\n",
       "      <td>NaN</td>\n",
       "      <td>NaN</td>\n",
       "      <td>18.97</td>\n",
       "      <td>38.0</td>\n",
       "      <td>NaN</td>\n",
       "      <td>-22.908344</td>\n",
       "      <td>-43.178152</td>\n",
       "      <td>686853.7075</td>\n",
       "      <td>7.465470e+06</td>\n",
       "    </tr>\n",
       "    <tr>\n",
       "      <th>3</th>\n",
       "      <td>2372439</td>\n",
       "      <td>1/1/2011 9:30:00 AM</td>\n",
       "      <td>3</td>\n",
       "      <td>CA</td>\n",
       "      <td>0.0</td>\n",
       "      <td>1008.00</td>\n",
       "      <td>1.30</td>\n",
       "      <td>21.17</td>\n",
       "      <td>88.57</td>\n",
       "      <td>85.33</td>\n",
       "      <td>...</td>\n",
       "      <td>0.22</td>\n",
       "      <td>NaN</td>\n",
       "      <td>NaN</td>\n",
       "      <td>11.08</td>\n",
       "      <td>8.0</td>\n",
       "      <td>NaN</td>\n",
       "      <td>-22.908344</td>\n",
       "      <td>-43.178152</td>\n",
       "      <td>686853.7075</td>\n",
       "      <td>7.465470e+06</td>\n",
       "    </tr>\n",
       "    <tr>\n",
       "      <th>4</th>\n",
       "      <td>2372440</td>\n",
       "      <td>1/1/2011 10:30:00 AM</td>\n",
       "      <td>3</td>\n",
       "      <td>CA</td>\n",
       "      <td>0.2</td>\n",
       "      <td>1008.00</td>\n",
       "      <td>1.32</td>\n",
       "      <td>21.25</td>\n",
       "      <td>89.28</td>\n",
       "      <td>73.00</td>\n",
       "      <td>...</td>\n",
       "      <td>0.22</td>\n",
       "      <td>NaN</td>\n",
       "      <td>NaN</td>\n",
       "      <td>11.28</td>\n",
       "      <td>10.0</td>\n",
       "      <td>NaN</td>\n",
       "      <td>-22.908344</td>\n",
       "      <td>-43.178152</td>\n",
       "      <td>686853.7075</td>\n",
       "      <td>7.465470e+06</td>\n",
       "    </tr>\n",
       "  </tbody>\n",
       "</table>\n",
       "<p>5 rows × 26 columns</p>\n",
       "</div>"
      ],
      "text/plain": [
       "   objectid                  data  codnum estação  chuva     pres    rs  \\\n",
       "0   2372436   1/1/2011 6:30:00 AM       3      CA    0.2  1009.33  1.57   \n",
       "1   2372437   1/1/2011 7:30:00 AM       3      CA    0.0  1009.00  1.40   \n",
       "2   2372438   1/1/2011 8:30:00 AM       3      CA    0.2  1008.17  1.37   \n",
       "3   2372439   1/1/2011 9:30:00 AM       3      CA    0.0  1008.00  1.30   \n",
       "4   2372440  1/1/2011 10:30:00 AM       3      CA    0.2  1008.00  1.32   \n",
       "\n",
       "    temp     ur  dir_vento  ...    co  no  nox     o3  pm10  pm2_5        lat  \\\n",
       "0  21.81  84.50     250.67  ...  0.17 NaN  NaN  17.89  10.0    NaN -22.908344   \n",
       "1  21.79  84.73     121.17  ...  0.21 NaN  NaN  12.44  11.0    NaN -22.908344   \n",
       "2  21.44  85.70      85.67  ...  0.17 NaN  NaN  18.97  38.0    NaN -22.908344   \n",
       "3  21.17  88.57      85.33  ...  0.22 NaN  NaN  11.08   8.0    NaN -22.908344   \n",
       "4  21.25  89.28      73.00  ...  0.22 NaN  NaN  11.28  10.0    NaN -22.908344   \n",
       "\n",
       "         lon  x_utm_sirgas2000  y_utm_sirgas2000  \n",
       "0 -43.178152       686853.7075      7.465470e+06  \n",
       "1 -43.178152       686853.7075      7.465470e+06  \n",
       "2 -43.178152       686853.7075      7.465470e+06  \n",
       "3 -43.178152       686853.7075      7.465470e+06  \n",
       "4 -43.178152       686853.7075      7.465470e+06  \n",
       "\n",
       "[5 rows x 26 columns]"
      ]
     },
     "execution_count": 2,
     "metadata": {},
     "output_type": "execute_result"
    }
   ],
   "source": [
    "url_sensor = \"https://github.com/AILAB-CEFET-RJ/qualiar/raw/main/NEW_TEST/Data/Sensores/sensores.zip\"\n",
    "\n",
    "response = requests.get(url_sensor)\n",
    "response.raise_for_status()\n",
    "\n",
    "zip_file = zipfile.ZipFile(io.BytesIO(response.content))\n",
    "\n",
    "print(\"Arquivos no ZIP:\")\n",
    "print(zip_file.namelist())\n",
    "\n",
    "with zip_file.open(zip_file.namelist()[0]) as file:\n",
    "    df_sensor = pd.read_csv(file)  \n",
    "\n",
    "df_sensor.head()"
   ]
  },
  {
   "cell_type": "code",
   "execution_count": 3,
   "metadata": {
    "colab": {
     "base_uri": "https://localhost:8080/"
    },
    "executionInfo": {
     "elapsed": 26,
     "status": "ok",
     "timestamp": 1750346075372,
     "user": {
      "displayName": "João Terêncio",
      "userId": "14302965054076037047"
     },
     "user_tz": 180
    },
    "id": "I8DoZujMX7Hy",
    "outputId": "2a7de4bf-65e3-45c1-cdad-943e6d65704a"
   },
   "outputs": [],
   "source": [
    "url_estacoes = 'https://raw.githubusercontent.com/AILAB-CEFET-RJ/qualiar/refs/heads/main/NEW_TEST/Data/Sensores/estacoes.csv'\n",
    "\n",
    "df_estacoes = pd.read_csv(url_estacoes, sep=',')\n",
    "\n",
    "url_qualidade_ar = 'https://raw.githubusercontent.com/AILAB-CEFET-RJ/qualiar/refs/heads/main/NEW_TEST/Data/Sensores/ind_qual_ar_17_24.csv'\n",
    "\n",
    "df_qualidade_ar = pd.read_csv(url_qualidade_ar, sep=',')"
   ]
  },
  {
   "cell_type": "markdown",
   "metadata": {
    "id": "-KWYSQmgDtki"
   },
   "source": [
    "# Pré-processamento"
   ]
  },
  {
   "cell_type": "markdown",
   "metadata": {
    "id": "q18psyhOH2hN"
   },
   "source": [
    "## Selecionando e criando colunas"
   ]
  },
  {
   "cell_type": "code",
   "execution_count": 4,
   "metadata": {
    "cellView": "form",
    "executionInfo": {
     "elapsed": 5,
     "status": "ok",
     "timestamp": 1750346075381,
     "user": {
      "displayName": "João Terêncio",
      "userId": "14302965054076037047"
     },
     "user_tz": 180
    },
    "id": "m2M9yDEpXZHc"
   },
   "outputs": [],
   "source": [
    "#@title Criando coluna nome estacao com base na coluna codnum\n",
    "df_sensor['nome_estacao'] = df_sensor['codnum'].map(df_estacoes.set_index('codnum')['nome'])"
   ]
  },
  {
   "cell_type": "code",
   "execution_count": 5,
   "metadata": {
    "cellView": "form",
    "executionInfo": {
     "elapsed": 41,
     "status": "ok",
     "timestamp": 1750346075426,
     "user": {
      "displayName": "João Terêncio",
      "userId": "14302965054076037047"
     },
     "user_tz": 180
    },
    "id": "A9QJxIqs5mRT"
   },
   "outputs": [],
   "source": [
    "#@title Selecionando as colunas mais relevantes\n",
    "interest_columns = ['nome_estacao', 'data', 'chuva', 'temp', 'ur', 'co', 'no', 'no2', 'nox', 'so2', 'o3', 'pm10', 'pm2_5', 'lat', 'lon']\n",
    "\n",
    "df_sensor_interest = df_sensor[interest_columns]"
   ]
  },
  {
   "cell_type": "code",
   "execution_count": 6,
   "metadata": {
    "cellView": "form",
    "colab": {
     "base_uri": "https://localhost:8080/"
    },
    "executionInfo": {
     "elapsed": 5855,
     "status": "ok",
     "timestamp": 1750346081286,
     "user": {
      "displayName": "João Terêncio",
      "userId": "14302965054076037047"
     },
     "user_tz": 180
    },
    "id": "08TM4o3W5mUB",
    "outputId": "97eb0d49-d738-4981-a7e9-938cd8c927c7"
   },
   "outputs": [
    {
     "name": "stderr",
     "output_type": "stream",
     "text": [
      "C:\\Users\\jhter\\AppData\\Local\\Temp\\ipykernel_20192\\1024544581.py:2: SettingWithCopyWarning: \n",
      "A value is trying to be set on a copy of a slice from a DataFrame.\n",
      "Try using .loc[row_indexer,col_indexer] = value instead\n",
      "\n",
      "See the caveats in the documentation: https://pandas.pydata.org/pandas-docs/stable/user_guide/indexing.html#returning-a-view-versus-a-copy\n",
      "  df_sensor_interest['data'] = pd.to_datetime(df_sensor_interest['data'], format='%m/%d/%Y %I:%M:%S %p')\n",
      "C:\\Users\\jhter\\AppData\\Local\\Temp\\ipykernel_20192\\1024544581.py:3: SettingWithCopyWarning: \n",
      "A value is trying to be set on a copy of a slice from a DataFrame.\n",
      "Try using .loc[row_indexer,col_indexer] = value instead\n",
      "\n",
      "See the caveats in the documentation: https://pandas.pydata.org/pandas-docs/stable/user_guide/indexing.html#returning-a-view-versus-a-copy\n",
      "  df_sensor_interest['data_formatada'] = pd.to_datetime(df_sensor_interest['data']).dt.strftime('%Y-%m-%d')\n",
      "C:\\Users\\jhter\\AppData\\Local\\Temp\\ipykernel_20192\\1024544581.py:4: SettingWithCopyWarning: \n",
      "A value is trying to be set on a copy of a slice from a DataFrame.\n",
      "Try using .loc[row_indexer,col_indexer] = value instead\n",
      "\n",
      "See the caveats in the documentation: https://pandas.pydata.org/pandas-docs/stable/user_guide/indexing.html#returning-a-view-versus-a-copy\n",
      "  df_sensor_interest['ano'] = df_sensor_interest['data'].dt.year\n",
      "C:\\Users\\jhter\\AppData\\Local\\Temp\\ipykernel_20192\\1024544581.py:5: SettingWithCopyWarning: \n",
      "A value is trying to be set on a copy of a slice from a DataFrame.\n",
      "Try using .loc[row_indexer,col_indexer] = value instead\n",
      "\n",
      "See the caveats in the documentation: https://pandas.pydata.org/pandas-docs/stable/user_guide/indexing.html#returning-a-view-versus-a-copy\n",
      "  df_sensor_interest['mes'] = df_sensor_interest['data'].dt.month\n"
     ]
    }
   ],
   "source": [
    "#@title Criando colunas de ano e mês para facilitar a análise temporal\n",
    "df_sensor_interest['data'] = pd.to_datetime(df_sensor_interest['data'], format='%m/%d/%Y %I:%M:%S %p')\n",
    "df_sensor_interest['data_formatada'] = pd.to_datetime(df_sensor_interest['data']).dt.strftime('%Y-%m-%d')\n",
    "df_sensor_interest['ano'] = df_sensor_interest['data'].dt.year\n",
    "df_sensor_interest['mes'] = df_sensor_interest['data'].dt.month"
   ]
  },
  {
   "cell_type": "code",
   "execution_count": 7,
   "metadata": {
    "cellView": "form",
    "executionInfo": {
     "elapsed": 142,
     "status": "ok",
     "timestamp": 1750346081433,
     "user": {
      "displayName": "João Terêncio",
      "userId": "14302965054076037047"
     },
     "user_tz": 180
    },
    "id": "010BKMPF5mWa"
   },
   "outputs": [],
   "source": [
    "#@title Removendo ano de 2011 (Pela falta de alguns poluente) e anos da pandemia\n",
    "df_sensor_interest_filtered = df_sensor_interest[df_sensor_interest['ano'] > 2011]"
   ]
  },
  {
   "cell_type": "code",
   "execution_count": 8,
   "metadata": {
    "executionInfo": {
     "elapsed": 183,
     "status": "ok",
     "timestamp": 1750346081622,
     "user": {
      "displayName": "João Terêncio",
      "userId": "14302965054076037047"
     },
     "user_tz": 180
    },
    "id": "_c6j_tgIdxeL"
   },
   "outputs": [],
   "source": [
    "#@title Filtrando por Copacabana\n",
    "df_sensor_copacabana = df_sensor_interest_filtered[df_sensor_interest_filtered['nome_estacao'] == 'ESTAÇÃO COPACABANA']"
   ]
  },
  {
   "cell_type": "code",
   "execution_count": 9,
   "metadata": {
    "executionInfo": {
     "elapsed": 256,
     "status": "ok",
     "timestamp": 1750346081883,
     "user": {
      "displayName": "João Terêncio",
      "userId": "14302965054076037047"
     },
     "user_tz": 180
    },
    "id": "j7_46R0jVHDo"
   },
   "outputs": [],
   "source": [
    "df_qualidade_ar['data_formatada'] = pd.to_datetime(df_qualidade_ar['data']).dt.strftime('%Y-%m-%d')\n",
    "df_qualidade_ar_bangu = df_qualidade_ar[df_qualidade_ar['estacao_nome'] == 'Copacabana']"
   ]
  },
  {
   "cell_type": "markdown",
   "metadata": {
    "id": "gmWkUcmdIpux"
   },
   "source": [
    "# Tratando colunas de interesse por Estação de monitoriamento\n"
   ]
  },
  {
   "cell_type": "markdown",
   "metadata": {
    "id": "yLqNrnrAN4w-"
   },
   "source": [
    "## Estação Copacabana\n",
    "Colunas normalizadas: Chuva, Temperatura, Umidade relativa, CO, NO, NO2, NOx, SO2, O3, PM10"
   ]
  },
  {
   "cell_type": "markdown",
   "metadata": {
    "id": "9ymtlIMxOidV"
   },
   "source": [
    "### Chuva"
   ]
  },
  {
   "cell_type": "code",
   "execution_count": 10,
   "metadata": {
    "colab": {
     "base_uri": "https://localhost:8080/",
     "height": 0
    },
    "executionInfo": {
     "elapsed": 11,
     "status": "ok",
     "timestamp": 1750346081900,
     "user": {
      "displayName": "João Terêncio",
      "userId": "14302965054076037047"
     },
     "user_tz": 180
    },
    "id": "24M_cJnzP4gK",
    "outputId": "60c51fbf-2075-426a-928d-64e13109a190"
   },
   "outputs": [
    {
     "data": {
      "text/html": [
       "<div>\n",
       "<style scoped>\n",
       "    .dataframe tbody tr th:only-of-type {\n",
       "        vertical-align: middle;\n",
       "    }\n",
       "\n",
       "    .dataframe tbody tr th {\n",
       "        vertical-align: top;\n",
       "    }\n",
       "\n",
       "    .dataframe thead th {\n",
       "        text-align: right;\n",
       "    }\n",
       "</style>\n",
       "<table border=\"1\" class=\"dataframe\">\n",
       "  <thead>\n",
       "    <tr style=\"text-align: right;\">\n",
       "      <th></th>\n",
       "      <th>chuva</th>\n",
       "    </tr>\n",
       "  </thead>\n",
       "  <tbody>\n",
       "    <tr>\n",
       "      <th>count</th>\n",
       "      <td>85959.000000</td>\n",
       "    </tr>\n",
       "    <tr>\n",
       "      <th>mean</th>\n",
       "      <td>0.170589</td>\n",
       "    </tr>\n",
       "    <tr>\n",
       "      <th>std</th>\n",
       "      <td>2.955256</td>\n",
       "    </tr>\n",
       "    <tr>\n",
       "      <th>min</th>\n",
       "      <td>0.000000</td>\n",
       "    </tr>\n",
       "    <tr>\n",
       "      <th>25%</th>\n",
       "      <td>0.000000</td>\n",
       "    </tr>\n",
       "    <tr>\n",
       "      <th>50%</th>\n",
       "      <td>0.000000</td>\n",
       "    </tr>\n",
       "    <tr>\n",
       "      <th>75%</th>\n",
       "      <td>0.000000</td>\n",
       "    </tr>\n",
       "    <tr>\n",
       "      <th>max</th>\n",
       "      <td>293.020000</td>\n",
       "    </tr>\n",
       "  </tbody>\n",
       "</table>\n",
       "</div><br><label><b>dtype:</b> float64</label>"
      ],
      "text/plain": [
       "count    85959.000000\n",
       "mean         0.170589\n",
       "std          2.955256\n",
       "min          0.000000\n",
       "25%          0.000000\n",
       "50%          0.000000\n",
       "75%          0.000000\n",
       "max        293.020000\n",
       "Name: chuva, dtype: float64"
      ]
     },
     "execution_count": 10,
     "metadata": {},
     "output_type": "execute_result"
    }
   ],
   "source": [
    "df_sensor_copacabana['chuva'].describe()"
   ]
  },
  {
   "cell_type": "code",
   "execution_count": 11,
   "metadata": {
    "cellView": "form",
    "colab": {
     "base_uri": "https://localhost:8080/"
    },
    "executionInfo": {
     "elapsed": 26,
     "status": "ok",
     "timestamp": 1750346081931,
     "user": {
      "displayName": "João Terêncio",
      "userId": "14302965054076037047"
     },
     "user_tz": 180
    },
    "id": "Ntw7zXT0Q6zx",
    "outputId": "af0f0ec2-4170-416c-a9e4-8dee48b4c3d3"
   },
   "outputs": [
    {
     "name": "stdout",
     "output_type": "stream",
     "text": [
      "Quantidade de valores vazios: 28020\n"
     ]
    }
   ],
   "source": [
    "#@title Vendo quantidade de valores vazios\n",
    "\n",
    "valroes_vazio = df_sensor_copacabana[df_sensor_copacabana['chuva'].isnull()].groupby(['ano', 'mes']).size().sum()\n",
    "print(f\"Quantidade de valores vazios: {valroes_vazio}\")"
   ]
  },
  {
   "cell_type": "code",
   "execution_count": 12,
   "metadata": {
    "cellView": "form",
    "colab": {
     "base_uri": "https://localhost:8080/"
    },
    "executionInfo": {
     "elapsed": 12,
     "status": "ok",
     "timestamp": 1750346081948,
     "user": {
      "displayName": "João Terêncio",
      "userId": "14302965054076037047"
     },
     "user_tz": 180
    },
    "id": "wfMEwBEEwJph",
    "outputId": "89805d12-3b1b-41b2-83e5-653d643d669a"
   },
   "outputs": [
    {
     "name": "stderr",
     "output_type": "stream",
     "text": [
      "/tmp/ipython-input-12-1238328534.py:3: SettingWithCopyWarning: \n",
      "A value is trying to be set on a copy of a slice from a DataFrame.\n",
      "Try using .loc[row_indexer,col_indexer] = value instead\n",
      "\n",
      "See the caveats in the documentation: https://pandas.pydata.org/pandas-docs/stable/user_guide/indexing.html#returning-a-view-versus-a-copy\n",
      "  df_sensor_copacabana['chuva_nulos_no_dia'] = (\n"
     ]
    }
   ],
   "source": [
    "#@title Criando coluna que informa a quantidade de valores vazios por dia\n",
    "\n",
    "df_sensor_copacabana['chuva_nulos_no_dia'] = (\n",
    "    df_sensor_copacabana['chuva'].isnull()\n",
    "    .groupby(df_sensor_copacabana['data_formatada'])\n",
    "    .transform('sum')  # Soma os nulos por dia e repete o valor em todas as linhas do dia\n",
    ")"
   ]
  },
  {
   "cell_type": "code",
   "execution_count": 13,
   "metadata": {
    "cellView": "form",
    "colab": {
     "base_uri": "https://localhost:8080/",
     "height": 0
    },
    "executionInfo": {
     "elapsed": 709,
     "status": "ok",
     "timestamp": 1750346082655,
     "user": {
      "displayName": "João Terêncio",
      "userId": "14302965054076037047"
     },
     "user_tz": 180
    },
    "id": "jYMgiW_cHPBb",
    "outputId": "0ac44537-7a5b-4839-ab72-09b575f3ff57"
   },
   "outputs": [
    {
     "data": {
      "image/png": "[encoded data removed]",
      "text/plain": [
       "<Figure size 1000x600 with 1 Axes>"
      ]
     },
     "metadata": {},
     "output_type": "display_data"
    }
   ],
   "source": [
    "#@title Distribuição dos valores vazios\n",
    "\n",
    "# Seleciona uma única linha por dia, para evitar repetição\n",
    "df_dias = df_sensor_copacabana[df_sensor_copacabana['chuva_nulos_no_dia'] != 0].groupby('data_formatada')['chuva_nulos_no_dia'].first()\n",
    "\n",
    "# Plotar o histograma da contagem de valores nulos por dia\n",
    "plt.figure(figsize=(10,6))\n",
    "plt.hist(df_dias, bins=range(0, df_dias.max() + 2), edgecolor='black', align='left')\n",
    "plt.title('Histograma de Quantidade de Valores Vazios em \"chuva\" por Dia')\n",
    "plt.xlabel('Quantidade de valores vazios no dia')\n",
    "plt.ylabel('Número de dias')\n",
    "plt.xticks(range(0, df_dias.max() + 1))\n",
    "plt.grid(axis='y', alpha=0.75)\n",
    "plt.show()"
   ]
  },
  {
   "cell_type": "code",
   "execution_count": 14,
   "metadata": {
    "cellView": "form",
    "colab": {
     "base_uri": "https://localhost:8080/"
    },
    "executionInfo": {
     "elapsed": 28,
     "status": "ok",
     "timestamp": 1750346082687,
     "user": {
      "displayName": "João Terêncio",
      "userId": "14302965054076037047"
     },
     "user_tz": 180
    },
    "id": "CUSCMdfvRRAo",
    "outputId": "b8a737ff-bd9a-4464-88a3-d61338f1301a"
   },
   "outputs": [
    {
     "name": "stdout",
     "output_type": "stream",
     "text": [
      "208 linhas foram preenchidas com interpolate na coluna 'chuva'.\n",
      "Foram preenchido 1% de dados\n"
     ]
    }
   ],
   "source": [
    "#@title Preenchimento dos valores nulos utilizando a função interpolate (Preenchendo apenas os que tem menos de 7 linhas vazias)\n",
    "\n",
    "mask = (df_sensor_copacabana['chuva_nulos_no_dia'] <= 6)\n",
    "\n",
    "num_nulls = df_sensor_copacabana[mask]['chuva'].isnull().sum()\n",
    "df_sensor_copacabana.loc[mask, 'chuva'] = df_sensor_copacabana[mask]['chuva'].interpolate()\n",
    "print(f\"{num_nulls} linhas foram preenchidas com interpolate na coluna 'chuva'.\")\n",
    "print(f\"Foram preenchido {round((num_nulls/valroes_vazio)*100)}% de dados\")"
   ]
  },
  {
   "cell_type": "code",
   "execution_count": 15,
   "metadata": {
    "colab": {
     "base_uri": "https://localhost:8080/",
     "height": 0
    },
    "executionInfo": {
     "elapsed": 20,
     "status": "ok",
     "timestamp": 1750346082711,
     "user": {
      "displayName": "João Terêncio",
      "userId": "14302965054076037047"
     },
     "user_tz": 180
    },
    "id": "97-NgrgDRt33",
    "outputId": "38ce45e2-d2d9-4a53-9f57-314afafc1bd7"
   },
   "outputs": [
    {
     "data": {
      "text/html": [
       "<div>\n",
       "<style scoped>\n",
       "    .dataframe tbody tr th:only-of-type {\n",
       "        vertical-align: middle;\n",
       "    }\n",
       "\n",
       "    .dataframe tbody tr th {\n",
       "        vertical-align: top;\n",
       "    }\n",
       "\n",
       "    .dataframe thead th {\n",
       "        text-align: right;\n",
       "    }\n",
       "</style>\n",
       "<table border=\"1\" class=\"dataframe\">\n",
       "  <thead>\n",
       "    <tr style=\"text-align: right;\">\n",
       "      <th></th>\n",
       "      <th>chuva</th>\n",
       "    </tr>\n",
       "  </thead>\n",
       "  <tbody>\n",
       "    <tr>\n",
       "      <th>count</th>\n",
       "      <td>86167.000000</td>\n",
       "    </tr>\n",
       "    <tr>\n",
       "      <th>mean</th>\n",
       "      <td>0.170565</td>\n",
       "    </tr>\n",
       "    <tr>\n",
       "      <th>std</th>\n",
       "      <td>2.952061</td>\n",
       "    </tr>\n",
       "    <tr>\n",
       "      <th>min</th>\n",
       "      <td>0.000000</td>\n",
       "    </tr>\n",
       "    <tr>\n",
       "      <th>25%</th>\n",
       "      <td>0.000000</td>\n",
       "    </tr>\n",
       "    <tr>\n",
       "      <th>50%</th>\n",
       "      <td>0.000000</td>\n",
       "    </tr>\n",
       "    <tr>\n",
       "      <th>75%</th>\n",
       "      <td>0.000000</td>\n",
       "    </tr>\n",
       "    <tr>\n",
       "      <th>max</th>\n",
       "      <td>293.020000</td>\n",
       "    </tr>\n",
       "  </tbody>\n",
       "</table>\n",
       "</div><br><label><b>dtype:</b> float64</label>"
      ],
      "text/plain": [
       "count    86167.000000\n",
       "mean         0.170565\n",
       "std          2.952061\n",
       "min          0.000000\n",
       "25%          0.000000\n",
       "50%          0.000000\n",
       "75%          0.000000\n",
       "max        293.020000\n",
       "Name: chuva, dtype: float64"
      ]
     },
     "execution_count": 15,
     "metadata": {},
     "output_type": "execute_result"
    }
   ],
   "source": [
    "df_sensor_copacabana['chuva'].describe()"
   ]
  },
  {
   "cell_type": "markdown",
   "metadata": {
    "id": "1XA1vvw_JYeW"
   },
   "source": [
    "### Temperatura"
   ]
  },
  {
   "cell_type": "code",
   "execution_count": 16,
   "metadata": {
    "colab": {
     "base_uri": "https://localhost:8080/",
     "height": 0
    },
    "executionInfo": {
     "elapsed": 21,
     "status": "ok",
     "timestamp": 1750346082735,
     "user": {
      "displayName": "João Terêncio",
      "userId": "14302965054076037047"
     },
     "user_tz": 180
    },
    "id": "_9XmZnxbJYeW",
    "outputId": "93694f28-25a8-437f-fb05-ab7112cc49fe"
   },
   "outputs": [
    {
     "data": {
      "text/html": [
       "<div>\n",
       "<style scoped>\n",
       "    .dataframe tbody tr th:only-of-type {\n",
       "        vertical-align: middle;\n",
       "    }\n",
       "\n",
       "    .dataframe tbody tr th {\n",
       "        vertical-align: top;\n",
       "    }\n",
       "\n",
       "    .dataframe thead th {\n",
       "        text-align: right;\n",
       "    }\n",
       "</style>\n",
       "<table border=\"1\" class=\"dataframe\">\n",
       "  <thead>\n",
       "    <tr style=\"text-align: right;\">\n",
       "      <th></th>\n",
       "      <th>temp</th>\n",
       "    </tr>\n",
       "  </thead>\n",
       "  <tbody>\n",
       "    <tr>\n",
       "      <th>count</th>\n",
       "      <td>85606.000000</td>\n",
       "    </tr>\n",
       "    <tr>\n",
       "      <th>mean</th>\n",
       "      <td>25.315817</td>\n",
       "    </tr>\n",
       "    <tr>\n",
       "      <th>std</th>\n",
       "      <td>4.022037</td>\n",
       "    </tr>\n",
       "    <tr>\n",
       "      <th>min</th>\n",
       "      <td>0.000000</td>\n",
       "    </tr>\n",
       "    <tr>\n",
       "      <th>25%</th>\n",
       "      <td>22.450000</td>\n",
       "    </tr>\n",
       "    <tr>\n",
       "      <th>50%</th>\n",
       "      <td>24.870000</td>\n",
       "    </tr>\n",
       "    <tr>\n",
       "      <th>75%</th>\n",
       "      <td>27.600000</td>\n",
       "    </tr>\n",
       "    <tr>\n",
       "      <th>max</th>\n",
       "      <td>42.980000</td>\n",
       "    </tr>\n",
       "  </tbody>\n",
       "</table>\n",
       "</div><br><label><b>dtype:</b> float64</label>"
      ],
      "text/plain": [
       "count    85606.000000\n",
       "mean        25.315817\n",
       "std          4.022037\n",
       "min          0.000000\n",
       "25%         22.450000\n",
       "50%         24.870000\n",
       "75%         27.600000\n",
       "max         42.980000\n",
       "Name: temp, dtype: float64"
      ]
     },
     "execution_count": 16,
     "metadata": {},
     "output_type": "execute_result"
    }
   ],
   "source": [
    "df_sensor_copacabana['temp'].describe()"
   ]
  },
  {
   "cell_type": "code",
   "execution_count": 17,
   "metadata": {
    "cellView": "form",
    "colab": {
     "base_uri": "https://localhost:8080/"
    },
    "executionInfo": {
     "elapsed": 9,
     "status": "ok",
     "timestamp": 1750346082741,
     "user": {
      "displayName": "João Terêncio",
      "userId": "14302965054076037047"
     },
     "user_tz": 180
    },
    "id": "YEPrxSuZJYeX",
    "outputId": "abf50791-002a-4b85-a2d5-eedfdd69ff85"
   },
   "outputs": [
    {
     "name": "stdout",
     "output_type": "stream",
     "text": [
      "Quantidade de valores vazios: 28373\n"
     ]
    }
   ],
   "source": [
    "#@title Vendo quantidade de valores vazios\n",
    "\n",
    "valroes_vazio = df_sensor_copacabana[df_sensor_copacabana['temp'].isnull()].groupby(['ano', 'mes']).size().sum()\n",
    "print(f\"Quantidade de valores vazios: {valroes_vazio}\")"
   ]
  },
  {
   "cell_type": "code",
   "execution_count": 18,
   "metadata": {
    "cellView": "form",
    "colab": {
     "base_uri": "https://localhost:8080/"
    },
    "executionInfo": {
     "elapsed": 17,
     "status": "ok",
     "timestamp": 1750346082758,
     "user": {
      "displayName": "João Terêncio",
      "userId": "14302965054076037047"
     },
     "user_tz": 180
    },
    "id": "N0LIJac7JYeX",
    "outputId": "847d2c45-0d30-4b7e-b776-c5177ae89508"
   },
   "outputs": [
    {
     "name": "stderr",
     "output_type": "stream",
     "text": [
      "/tmp/ipython-input-18-2336570397.py:3: SettingWithCopyWarning: \n",
      "A value is trying to be set on a copy of a slice from a DataFrame.\n",
      "Try using .loc[row_indexer,col_indexer] = value instead\n",
      "\n",
      "See the caveats in the documentation: https://pandas.pydata.org/pandas-docs/stable/user_guide/indexing.html#returning-a-view-versus-a-copy\n",
      "  df_sensor_copacabana['temp_nulos_no_dia'] = (\n"
     ]
    }
   ],
   "source": [
    "#@title Criando coluna que informa a quantidade de valores vazios por dia\n",
    "\n",
    "df_sensor_copacabana['temp_nulos_no_dia'] = (\n",
    "    df_sensor_copacabana['temp'].isnull()\n",
    "    .groupby(df_sensor_copacabana['data_formatada'])\n",
    "    .transform('sum')  # Soma os nulos por dia e repete o valor em todas as linhas do dia\n",
    ")"
   ]
  },
  {
   "cell_type": "code",
   "execution_count": 19,
   "metadata": {
    "cellView": "form",
    "colab": {
     "base_uri": "https://localhost:8080/",
     "height": 0
    },
    "executionInfo": {
     "elapsed": 223,
     "status": "ok",
     "timestamp": 1750346082989,
     "user": {
      "displayName": "João Terêncio",
      "userId": "14302965054076037047"
     },
     "user_tz": 180
    },
    "id": "H54zUgYSJYeY",
    "outputId": "bef869e7-de56-4744-df42-bf76aa1093a8"
   },
   "outputs": [
    {
     "data": {
      "image/png": "[encoded data removed]",
      "text/plain": [
       "<Figure size 1000x600 with 1 Axes>"
      ]
     },
     "metadata": {},
     "output_type": "display_data"
    }
   ],
   "source": [
    "#@title Distribuição dos valores vazios\n",
    "\n",
    "# Seleciona uma única linha por dia, para evitar repetição\n",
    "df_dias = df_sensor_copacabana[df_sensor_copacabana['temp_nulos_no_dia'] != 0].groupby('data_formatada')['temp_nulos_no_dia'].first()\n",
    "\n",
    "# Plotar o histograma da contagem de valores nulos por dia\n",
    "plt.figure(figsize=(10,6))\n",
    "plt.hist(df_dias, bins=range(0, df_dias.max() + 2), edgecolor='black', align='left')\n",
    "plt.title('Histograma de Quantidade de Valores Vazios em \"temp\" por Dia')\n",
    "plt.xlabel('Quantidade de valores vazios no dia')\n",
    "plt.ylabel('Número de dias')\n",
    "plt.xticks(range(0, df_dias.max() + 1))\n",
    "plt.grid(axis='y', alpha=0.75)\n",
    "plt.show()"
   ]
  },
  {
   "cell_type": "code",
   "execution_count": 20,
   "metadata": {
    "cellView": "form",
    "colab": {
     "base_uri": "https://localhost:8080/"
    },
    "executionInfo": {
     "elapsed": 16,
     "status": "ok",
     "timestamp": 1750346083007,
     "user": {
      "displayName": "João Terêncio",
      "userId": "14302965054076037047"
     },
     "user_tz": 180
    },
    "id": "2sCGqFWvJYeY",
    "outputId": "513fd78b-19f7-44f0-9254-62d9421c86ef"
   },
   "outputs": [
    {
     "name": "stdout",
     "output_type": "stream",
     "text": [
      "202 linhas foram preenchidas com interpolate na coluna 'temp'.\n",
      "Foram preenchido 1% de dados\n"
     ]
    }
   ],
   "source": [
    "#@title Preenchimento dos valores nulos utilizando a função interpolate (Preenchendo apenas os que tem menos de 7 linhas vazias por dia)\n",
    "\n",
    "mask = (df_sensor_copacabana['temp_nulos_no_dia'] <= 6)\n",
    "\n",
    "num_nulls = df_sensor_copacabana[mask]['temp'].isnull().sum()\n",
    "df_sensor_copacabana.loc[mask, 'temp'] = df_sensor_copacabana[mask]['temp'].interpolate()\n",
    "print(f\"{num_nulls} linhas foram preenchidas com interpolate na coluna 'temp'.\")\n",
    "print(f\"Foram preenchido {round((num_nulls/valroes_vazio)*100)}% de dados\")"
   ]
  },
  {
   "cell_type": "code",
   "execution_count": 21,
   "metadata": {
    "colab": {
     "base_uri": "https://localhost:8080/",
     "height": 0
    },
    "executionInfo": {
     "elapsed": 15,
     "status": "ok",
     "timestamp": 1750346083016,
     "user": {
      "displayName": "João Terêncio",
      "userId": "14302965054076037047"
     },
     "user_tz": 180
    },
    "id": "2KWSCe6RJYeY",
    "outputId": "24d53875-f457-434c-c042-d8abfac3b0db"
   },
   "outputs": [
    {
     "data": {
      "text/html": [
       "<div>\n",
       "<style scoped>\n",
       "    .dataframe tbody tr th:only-of-type {\n",
       "        vertical-align: middle;\n",
       "    }\n",
       "\n",
       "    .dataframe tbody tr th {\n",
       "        vertical-align: top;\n",
       "    }\n",
       "\n",
       "    .dataframe thead th {\n",
       "        text-align: right;\n",
       "    }\n",
       "</style>\n",
       "<table border=\"1\" class=\"dataframe\">\n",
       "  <thead>\n",
       "    <tr style=\"text-align: right;\">\n",
       "      <th></th>\n",
       "      <th>temp</th>\n",
       "    </tr>\n",
       "  </thead>\n",
       "  <tbody>\n",
       "    <tr>\n",
       "      <th>count</th>\n",
       "      <td>85808.000000</td>\n",
       "    </tr>\n",
       "    <tr>\n",
       "      <th>mean</th>\n",
       "      <td>25.318193</td>\n",
       "    </tr>\n",
       "    <tr>\n",
       "      <th>std</th>\n",
       "      <td>4.022764</td>\n",
       "    </tr>\n",
       "    <tr>\n",
       "      <th>min</th>\n",
       "      <td>0.000000</td>\n",
       "    </tr>\n",
       "    <tr>\n",
       "      <th>25%</th>\n",
       "      <td>22.450000</td>\n",
       "    </tr>\n",
       "    <tr>\n",
       "      <th>50%</th>\n",
       "      <td>24.880000</td>\n",
       "    </tr>\n",
       "    <tr>\n",
       "      <th>75%</th>\n",
       "      <td>27.600000</td>\n",
       "    </tr>\n",
       "    <tr>\n",
       "      <th>max</th>\n",
       "      <td>42.980000</td>\n",
       "    </tr>\n",
       "  </tbody>\n",
       "</table>\n",
       "</div><br><label><b>dtype:</b> float64</label>"
      ],
      "text/plain": [
       "count    85808.000000\n",
       "mean        25.318193\n",
       "std          4.022764\n",
       "min          0.000000\n",
       "25%         22.450000\n",
       "50%         24.880000\n",
       "75%         27.600000\n",
       "max         42.980000\n",
       "Name: temp, dtype: float64"
      ]
     },
     "execution_count": 21,
     "metadata": {},
     "output_type": "execute_result"
    }
   ],
   "source": [
    "df_sensor_copacabana['temp'].describe()"
   ]
  },
  {
   "cell_type": "markdown",
   "metadata": {
    "id": "Kw4EN6nOJ7wi"
   },
   "source": [
    "### Umidade relativa"
   ]
  },
  {
   "cell_type": "code",
   "execution_count": 22,
   "metadata": {
    "colab": {
     "base_uri": "https://localhost:8080/",
     "height": 0
    },
    "executionInfo": {
     "elapsed": 45,
     "status": "ok",
     "timestamp": 1750346083059,
     "user": {
      "displayName": "João Terêncio",
      "userId": "14302965054076037047"
     },
     "user_tz": 180
    },
    "id": "Zh2KIpc2J7wj",
    "outputId": "eb767726-9baa-4585-8013-39aead5be796"
   },
   "outputs": [
    {
     "data": {
      "text/html": [
       "<div>\n",
       "<style scoped>\n",
       "    .dataframe tbody tr th:only-of-type {\n",
       "        vertical-align: middle;\n",
       "    }\n",
       "\n",
       "    .dataframe tbody tr th {\n",
       "        vertical-align: top;\n",
       "    }\n",
       "\n",
       "    .dataframe thead th {\n",
       "        text-align: right;\n",
       "    }\n",
       "</style>\n",
       "<table border=\"1\" class=\"dataframe\">\n",
       "  <thead>\n",
       "    <tr style=\"text-align: right;\">\n",
       "      <th></th>\n",
       "      <th>ur</th>\n",
       "    </tr>\n",
       "  </thead>\n",
       "  <tbody>\n",
       "    <tr>\n",
       "      <th>count</th>\n",
       "      <td>85372.000000</td>\n",
       "    </tr>\n",
       "    <tr>\n",
       "      <th>mean</th>\n",
       "      <td>74.254344</td>\n",
       "    </tr>\n",
       "    <tr>\n",
       "      <th>std</th>\n",
       "      <td>15.034811</td>\n",
       "    </tr>\n",
       "    <tr>\n",
       "      <th>min</th>\n",
       "      <td>13.780000</td>\n",
       "    </tr>\n",
       "    <tr>\n",
       "      <th>25%</th>\n",
       "      <td>64.637500</td>\n",
       "    </tr>\n",
       "    <tr>\n",
       "      <th>50%</th>\n",
       "      <td>75.895000</td>\n",
       "    </tr>\n",
       "    <tr>\n",
       "      <th>75%</th>\n",
       "      <td>85.400000</td>\n",
       "    </tr>\n",
       "    <tr>\n",
       "      <th>max</th>\n",
       "      <td>100.000000</td>\n",
       "    </tr>\n",
       "  </tbody>\n",
       "</table>\n",
       "</div><br><label><b>dtype:</b> float64</label>"
      ],
      "text/plain": [
       "count    85372.000000\n",
       "mean        74.254344\n",
       "std         15.034811\n",
       "min         13.780000\n",
       "25%         64.637500\n",
       "50%         75.895000\n",
       "75%         85.400000\n",
       "max        100.000000\n",
       "Name: ur, dtype: float64"
      ]
     },
     "execution_count": 22,
     "metadata": {},
     "output_type": "execute_result"
    }
   ],
   "source": [
    "df_sensor_copacabana['ur'].describe()"
   ]
  },
  {
   "cell_type": "code",
   "execution_count": 23,
   "metadata": {
    "cellView": "form",
    "colab": {
     "base_uri": "https://localhost:8080/"
    },
    "executionInfo": {
     "elapsed": 13,
     "status": "ok",
     "timestamp": 1750346083060,
     "user": {
      "displayName": "João Terêncio",
      "userId": "14302965054076037047"
     },
     "user_tz": 180
    },
    "id": "p6gLkSsQJ7wk",
    "outputId": "12804e54-0234-4558-f6bd-5d8220be1044"
   },
   "outputs": [
    {
     "name": "stdout",
     "output_type": "stream",
     "text": [
      "Quantidade de valores vazios: 28607\n"
     ]
    }
   ],
   "source": [
    "#@title Vendo quantidade de valores vazios\n",
    "\n",
    "valroes_vazio = df_sensor_copacabana[df_sensor_copacabana['ur'].isnull()].groupby(['ano', 'mes']).size().sum()\n",
    "print(f\"Quantidade de valores vazios: {valroes_vazio}\")"
   ]
  },
  {
   "cell_type": "code",
   "execution_count": 24,
   "metadata": {
    "cellView": "form",
    "colab": {
     "base_uri": "https://localhost:8080/"
    },
    "executionInfo": {
     "elapsed": 14,
     "status": "ok",
     "timestamp": 1750346083069,
     "user": {
      "displayName": "João Terêncio",
      "userId": "14302965054076037047"
     },
     "user_tz": 180
    },
    "id": "p6USmMKRJ7wk",
    "outputId": "491a50d0-cbe0-4e24-f77d-b693d32c4f54"
   },
   "outputs": [
    {
     "name": "stderr",
     "output_type": "stream",
     "text": [
      "/tmp/ipython-input-24-2594713168.py:3: SettingWithCopyWarning: \n",
      "A value is trying to be set on a copy of a slice from a DataFrame.\n",
      "Try using .loc[row_indexer,col_indexer] = value instead\n",
      "\n",
      "See the caveats in the documentation: https://pandas.pydata.org/pandas-docs/stable/user_guide/indexing.html#returning-a-view-versus-a-copy\n",
      "  df_sensor_copacabana['ur_nulos_no_dia'] = (\n"
     ]
    }
   ],
   "source": [
    "#@title Criando coluna que informa a quantidade de valores vazios por dia\n",
    "\n",
    "df_sensor_copacabana['ur_nulos_no_dia'] = (\n",
    "    df_sensor_copacabana['ur'].isnull()\n",
    "    .groupby(df_sensor_copacabana['data_formatada'])\n",
    "    .transform('sum')  # Soma os nulos por dia e repete o valor em todas as linhas do dia\n",
    ")"
   ]
  },
  {
   "cell_type": "code",
   "execution_count": 25,
   "metadata": {
    "cellView": "form",
    "colab": {
     "base_uri": "https://localhost:8080/",
     "height": 0
    },
    "executionInfo": {
     "elapsed": 369,
     "status": "ok",
     "timestamp": 1750346083440,
     "user": {
      "displayName": "João Terêncio",
      "userId": "14302965054076037047"
     },
     "user_tz": 180
    },
    "id": "eq-mDiJGJ7wk",
    "outputId": "b99ef2ef-564a-4b96-9d53-4ae3333cc51a"
   },
   "outputs": [
    {
     "data": {
      "image/png": "[encoded data removed]",
      "text/plain": [
       "<Figure size 1000x600 with 1 Axes>"
      ]
     },
     "metadata": {},
     "output_type": "display_data"
    }
   ],
   "source": [
    "#@title Distribuição dos valores vazios\n",
    "\n",
    "# Seleciona uma única linha por dia, para evitar repetição\n",
    "df_dias = df_sensor_copacabana[df_sensor_copacabana['ur_nulos_no_dia'] != 0].groupby('data_formatada')['ur_nulos_no_dia'].first()\n",
    "\n",
    "# Plotar o histograma da contagem de valores nulos por dia\n",
    "plt.figure(figsize=(10,6))\n",
    "plt.hist(df_dias, bins=range(0, df_dias.max() + 2), edgecolor='black', align='left')\n",
    "plt.title('Histograma de Quantidade de Valores Vazios em \"ur\" por Dia')\n",
    "plt.xlabel('Quantidade de valores vazios no dia')\n",
    "plt.ylabel('Número de dias')\n",
    "plt.xticks(range(0, df_dias.max() + 1))\n",
    "plt.grid(axis='y', alpha=0.75)\n",
    "plt.show()"
   ]
  },
  {
   "cell_type": "code",
   "execution_count": 26,
   "metadata": {
    "cellView": "form",
    "colab": {
     "base_uri": "https://localhost:8080/"
    },
    "executionInfo": {
     "elapsed": 16,
     "status": "ok",
     "timestamp": 1750346083459,
     "user": {
      "displayName": "João Terêncio",
      "userId": "14302965054076037047"
     },
     "user_tz": 180
    },
    "id": "wwI_91-_J7wk",
    "outputId": "8873735a-fc18-4f18-891c-f5c2880b7f95"
   },
   "outputs": [
    {
     "name": "stdout",
     "output_type": "stream",
     "text": [
      "268 linhas foram preenchidas com interpolate na coluna 'ur'.\n",
      "Foram preenchido 1% de dados\n"
     ]
    }
   ],
   "source": [
    "#@title Preenchimento dos valores nulos utilizando a função interpolate (Preenchendo apenas os que tem menos de 7 linhas vazias por dia)\n",
    "\n",
    "mask = (df_sensor_copacabana['ur_nulos_no_dia'] <= 6)\n",
    "\n",
    "num_nulls = df_sensor_copacabana[mask]['ur'].isnull().sum()\n",
    "df_sensor_copacabana.loc[mask, 'ur'] = df_sensor_copacabana[mask]['ur'].interpolate()\n",
    "print(f\"{num_nulls} linhas foram preenchidas com interpolate na coluna 'ur'.\")\n",
    "print(f\"Foram preenchido {round((num_nulls/valroes_vazio)*100)}% de dados\")"
   ]
  },
  {
   "cell_type": "code",
   "execution_count": 27,
   "metadata": {
    "colab": {
     "base_uri": "https://localhost:8080/",
     "height": 0
    },
    "executionInfo": {
     "elapsed": 12,
     "status": "ok",
     "timestamp": 1750346083469,
     "user": {
      "displayName": "João Terêncio",
      "userId": "14302965054076037047"
     },
     "user_tz": 180
    },
    "id": "pgz04UK9J7wl",
    "outputId": "75385bc7-cd3c-470b-e81e-4bad513ad732"
   },
   "outputs": [
    {
     "data": {
      "text/html": [
       "<div>\n",
       "<style scoped>\n",
       "    .dataframe tbody tr th:only-of-type {\n",
       "        vertical-align: middle;\n",
       "    }\n",
       "\n",
       "    .dataframe tbody tr th {\n",
       "        vertical-align: top;\n",
       "    }\n",
       "\n",
       "    .dataframe thead th {\n",
       "        text-align: right;\n",
       "    }\n",
       "</style>\n",
       "<table border=\"1\" class=\"dataframe\">\n",
       "  <thead>\n",
       "    <tr style=\"text-align: right;\">\n",
       "      <th></th>\n",
       "      <th>ur</th>\n",
       "    </tr>\n",
       "  </thead>\n",
       "  <tbody>\n",
       "    <tr>\n",
       "      <th>count</th>\n",
       "      <td>85640.000000</td>\n",
       "    </tr>\n",
       "    <tr>\n",
       "      <th>mean</th>\n",
       "      <td>74.258795</td>\n",
       "    </tr>\n",
       "    <tr>\n",
       "      <th>std</th>\n",
       "      <td>15.040717</td>\n",
       "    </tr>\n",
       "    <tr>\n",
       "      <th>min</th>\n",
       "      <td>13.780000</td>\n",
       "    </tr>\n",
       "    <tr>\n",
       "      <th>25%</th>\n",
       "      <td>64.630000</td>\n",
       "    </tr>\n",
       "    <tr>\n",
       "      <th>50%</th>\n",
       "      <td>75.900000</td>\n",
       "    </tr>\n",
       "    <tr>\n",
       "      <th>75%</th>\n",
       "      <td>85.420000</td>\n",
       "    </tr>\n",
       "    <tr>\n",
       "      <th>max</th>\n",
       "      <td>100.000000</td>\n",
       "    </tr>\n",
       "  </tbody>\n",
       "</table>\n",
       "</div><br><label><b>dtype:</b> float64</label>"
      ],
      "text/plain": [
       "count    85640.000000\n",
       "mean        74.258795\n",
       "std         15.040717\n",
       "min         13.780000\n",
       "25%         64.630000\n",
       "50%         75.900000\n",
       "75%         85.420000\n",
       "max        100.000000\n",
       "Name: ur, dtype: float64"
      ]
     },
     "execution_count": 27,
     "metadata": {},
     "output_type": "execute_result"
    }
   ],
   "source": [
    "df_sensor_copacabana['ur'].describe()"
   ]
  },
  {
   "cell_type": "markdown",
   "metadata": {
    "id": "CCC7VEL1KuH4"
   },
   "source": [
    "### Monóxido de carbono"
   ]
  },
  {
   "cell_type": "code",
   "execution_count": 28,
   "metadata": {
    "colab": {
     "base_uri": "https://localhost:8080/",
     "height": 0
    },
    "executionInfo": {
     "elapsed": 42,
     "status": "ok",
     "timestamp": 1750346083514,
     "user": {
      "displayName": "João Terêncio",
      "userId": "14302965054076037047"
     },
     "user_tz": 180
    },
    "id": "9dpfUCUfKuH4",
    "outputId": "fc756374-d728-4886-9162-acd7c403ad04"
   },
   "outputs": [
    {
     "data": {
      "text/html": [
       "<div>\n",
       "<style scoped>\n",
       "    .dataframe tbody tr th:only-of-type {\n",
       "        vertical-align: middle;\n",
       "    }\n",
       "\n",
       "    .dataframe tbody tr th {\n",
       "        vertical-align: top;\n",
       "    }\n",
       "\n",
       "    .dataframe thead th {\n",
       "        text-align: right;\n",
       "    }\n",
       "</style>\n",
       "<table border=\"1\" class=\"dataframe\">\n",
       "  <thead>\n",
       "    <tr style=\"text-align: right;\">\n",
       "      <th></th>\n",
       "      <th>co</th>\n",
       "    </tr>\n",
       "  </thead>\n",
       "  <tbody>\n",
       "    <tr>\n",
       "      <th>count</th>\n",
       "      <td>71587.000000</td>\n",
       "    </tr>\n",
       "    <tr>\n",
       "      <th>mean</th>\n",
       "      <td>0.134569</td>\n",
       "    </tr>\n",
       "    <tr>\n",
       "      <th>std</th>\n",
       "      <td>0.196769</td>\n",
       "    </tr>\n",
       "    <tr>\n",
       "      <th>min</th>\n",
       "      <td>0.000000</td>\n",
       "    </tr>\n",
       "    <tr>\n",
       "      <th>25%</th>\n",
       "      <td>0.030000</td>\n",
       "    </tr>\n",
       "    <tr>\n",
       "      <th>50%</th>\n",
       "      <td>0.070000</td>\n",
       "    </tr>\n",
       "    <tr>\n",
       "      <th>75%</th>\n",
       "      <td>0.160000</td>\n",
       "    </tr>\n",
       "    <tr>\n",
       "      <th>max</th>\n",
       "      <td>3.080000</td>\n",
       "    </tr>\n",
       "  </tbody>\n",
       "</table>\n",
       "</div><br><label><b>dtype:</b> float64</label>"
      ],
      "text/plain": [
       "count    71587.000000\n",
       "mean         0.134569\n",
       "std          0.196769\n",
       "min          0.000000\n",
       "25%          0.030000\n",
       "50%          0.070000\n",
       "75%          0.160000\n",
       "max          3.080000\n",
       "Name: co, dtype: float64"
      ]
     },
     "execution_count": 28,
     "metadata": {},
     "output_type": "execute_result"
    }
   ],
   "source": [
    "df_sensor_copacabana['co'].describe()"
   ]
  },
  {
   "cell_type": "code",
   "execution_count": 29,
   "metadata": {
    "cellView": "form",
    "colab": {
     "base_uri": "https://localhost:8080/"
    },
    "executionInfo": {
     "elapsed": 37,
     "status": "ok",
     "timestamp": 1750346083515,
     "user": {
      "displayName": "João Terêncio",
      "userId": "14302965054076037047"
     },
     "user_tz": 180
    },
    "id": "Iph6vPoHKuH5",
    "outputId": "b886e21a-5161-4deb-df20-4a29a199c0af"
   },
   "outputs": [
    {
     "name": "stdout",
     "output_type": "stream",
     "text": [
      "Quantidade de valores vazios: 42392\n"
     ]
    }
   ],
   "source": [
    "#@title Vendo quantidade de valores vazios\n",
    "\n",
    "valroes_vazio = df_sensor_copacabana[df_sensor_copacabana['co'].isnull()].groupby(['ano', 'mes']).size().sum()\n",
    "print(f\"Quantidade de valores vazios: {valroes_vazio}\")"
   ]
  },
  {
   "cell_type": "code",
   "execution_count": 30,
   "metadata": {
    "cellView": "form",
    "colab": {
     "base_uri": "https://localhost:8080/"
    },
    "executionInfo": {
     "elapsed": 20,
     "status": "ok",
     "timestamp": 1750346083517,
     "user": {
      "displayName": "João Terêncio",
      "userId": "14302965054076037047"
     },
     "user_tz": 180
    },
    "id": "NnwrJ1lqKuH5",
    "outputId": "48263b57-6f56-4d31-8790-8150a4d14124"
   },
   "outputs": [
    {
     "name": "stderr",
     "output_type": "stream",
     "text": [
      "/tmp/ipython-input-30-3746254930.py:3: SettingWithCopyWarning: \n",
      "A value is trying to be set on a copy of a slice from a DataFrame.\n",
      "Try using .loc[row_indexer,col_indexer] = value instead\n",
      "\n",
      "See the caveats in the documentation: https://pandas.pydata.org/pandas-docs/stable/user_guide/indexing.html#returning-a-view-versus-a-copy\n",
      "  df_sensor_copacabana['co_nulos_no_dia'] = (\n"
     ]
    }
   ],
   "source": [
    "#@title Criando coluna que informa a quantidade de valores vazios por dia\n",
    "\n",
    "df_sensor_copacabana['co_nulos_no_dia'] = (\n",
    "    df_sensor_copacabana['co'].isnull()\n",
    "    .groupby(df_sensor_copacabana['data_formatada'])\n",
    "    .transform('sum')  # Soma os nulos por dia e repete o valor em todas as linhas do dia\n",
    ")"
   ]
  },
  {
   "cell_type": "code",
   "execution_count": 31,
   "metadata": {
    "cellView": "form",
    "colab": {
     "base_uri": "https://localhost:8080/",
     "height": 0
    },
    "executionInfo": {
     "elapsed": 445,
     "status": "ok",
     "timestamp": 1750346083962,
     "user": {
      "displayName": "João Terêncio",
      "userId": "14302965054076037047"
     },
     "user_tz": 180
    },
    "id": "2-VMGpsdKuH5",
    "outputId": "d3513633-87f5-431f-e2f6-ba69eba7f101"
   },
   "outputs": [
    {
     "data": {
      "image/png": "[encoded data removed]",
      "text/plain": [
       "<Figure size 1000x600 with 1 Axes>"
      ]
     },
     "metadata": {},
     "output_type": "display_data"
    }
   ],
   "source": [
    "#@title Distribuição dos valores vazios\n",
    "\n",
    "# Seleciona uma única linha por dia, para evitar repetição\n",
    "df_dias = df_sensor_copacabana[df_sensor_copacabana['co_nulos_no_dia'] != 0].groupby('data_formatada')['co_nulos_no_dia'].first()\n",
    "\n",
    "# Plotar o histograma da contagem de valores nulos por dia\n",
    "plt.figure(figsize=(10,6))\n",
    "plt.hist(df_dias, bins=range(0, df_dias.max() + 2), edgecolor='black', align='left')\n",
    "plt.title(\"Histograma de Quantidade de Valores Vazios em 'co' por Dia\")\n",
    "plt.xlabel('Quantidade de valores vazios no dia')\n",
    "plt.ylabel('Número de dias')\n",
    "plt.xticks(range(0, df_dias.max() + 1))\n",
    "plt.grid(axis='y', alpha=0.75)\n",
    "plt.show()"
   ]
  },
  {
   "cell_type": "code",
   "execution_count": 32,
   "metadata": {
    "cellView": "form",
    "colab": {
     "base_uri": "https://localhost:8080/"
    },
    "executionInfo": {
     "elapsed": 23,
     "status": "ok",
     "timestamp": 1750346083999,
     "user": {
      "displayName": "João Terêncio",
      "userId": "14302965054076037047"
     },
     "user_tz": 180
    },
    "id": "OZOmu7J9KuH5",
    "outputId": "0736ac56-8840-4644-fde4-e63b93291898"
   },
   "outputs": [
    {
     "name": "stdout",
     "output_type": "stream",
     "text": [
      "778 linhas foram preenchidas com interpolate na coluna 'co'.\n",
      "Foram preenchido 2% de dados\n"
     ]
    }
   ],
   "source": [
    "#@title Preenchimento dos valores nulos utilizando a função interpolate (Preenchendo apenas os que tem menos de 7 linhas vazias por dia)\n",
    "\n",
    "mask = (df_sensor_copacabana['co_nulos_no_dia'] <= 6)\n",
    "\n",
    "num_nulls = df_sensor_copacabana[mask]['co'].isnull().sum()\n",
    "df_sensor_copacabana.loc[mask, 'co'] = df_sensor_copacabana[mask]['co'].interpolate()\n",
    "print(f\"{num_nulls} linhas foram preenchidas com interpolate na coluna 'co'.\")\n",
    "print(f\"Foram preenchido {round((num_nulls/valroes_vazio)*100)}% de dados\")"
   ]
  },
  {
   "cell_type": "code",
   "execution_count": 33,
   "metadata": {
    "colab": {
     "base_uri": "https://localhost:8080/",
     "height": 0
    },
    "executionInfo": {
     "elapsed": 7,
     "status": "ok",
     "timestamp": 1750346084009,
     "user": {
      "displayName": "João Terêncio",
      "userId": "14302965054076037047"
     },
     "user_tz": 180
    },
    "id": "1j_2t8uiKuH5",
    "outputId": "26214d31-38d3-4eb6-d2b8-75eac767ea9a"
   },
   "outputs": [
    {
     "data": {
      "text/html": [
       "<div>\n",
       "<style scoped>\n",
       "    .dataframe tbody tr th:only-of-type {\n",
       "        vertical-align: middle;\n",
       "    }\n",
       "\n",
       "    .dataframe tbody tr th {\n",
       "        vertical-align: top;\n",
       "    }\n",
       "\n",
       "    .dataframe thead th {\n",
       "        text-align: right;\n",
       "    }\n",
       "</style>\n",
       "<table border=\"1\" class=\"dataframe\">\n",
       "  <thead>\n",
       "    <tr style=\"text-align: right;\">\n",
       "      <th></th>\n",
       "      <th>co</th>\n",
       "    </tr>\n",
       "  </thead>\n",
       "  <tbody>\n",
       "    <tr>\n",
       "      <th>count</th>\n",
       "      <td>72365.000000</td>\n",
       "    </tr>\n",
       "    <tr>\n",
       "      <th>mean</th>\n",
       "      <td>0.134908</td>\n",
       "    </tr>\n",
       "    <tr>\n",
       "      <th>std</th>\n",
       "      <td>0.196871</td>\n",
       "    </tr>\n",
       "    <tr>\n",
       "      <th>min</th>\n",
       "      <td>0.000000</td>\n",
       "    </tr>\n",
       "    <tr>\n",
       "      <th>25%</th>\n",
       "      <td>0.030000</td>\n",
       "    </tr>\n",
       "    <tr>\n",
       "      <th>50%</th>\n",
       "      <td>0.070000</td>\n",
       "    </tr>\n",
       "    <tr>\n",
       "      <th>75%</th>\n",
       "      <td>0.160000</td>\n",
       "    </tr>\n",
       "    <tr>\n",
       "      <th>max</th>\n",
       "      <td>3.080000</td>\n",
       "    </tr>\n",
       "  </tbody>\n",
       "</table>\n",
       "</div><br><label><b>dtype:</b> float64</label>"
      ],
      "text/plain": [
       "count    72365.000000\n",
       "mean         0.134908\n",
       "std          0.196871\n",
       "min          0.000000\n",
       "25%          0.030000\n",
       "50%          0.070000\n",
       "75%          0.160000\n",
       "max          3.080000\n",
       "Name: co, dtype: float64"
      ]
     },
     "execution_count": 33,
     "metadata": {},
     "output_type": "execute_result"
    }
   ],
   "source": [
    "df_sensor_copacabana['co'].describe()"
   ]
  },
  {
   "cell_type": "markdown",
   "metadata": {
    "id": "dea3QOhJMs5K"
   },
   "source": [
    "### Dióxido de Enxofre"
   ]
  },
  {
   "cell_type": "code",
   "execution_count": 34,
   "metadata": {
    "colab": {
     "base_uri": "https://localhost:8080/",
     "height": 0
    },
    "executionInfo": {
     "elapsed": 6,
     "status": "ok",
     "timestamp": 1750346084018,
     "user": {
      "displayName": "João Terêncio",
      "userId": "14302965054076037047"
     },
     "user_tz": 180
    },
    "id": "fszCCXqNMs5L",
    "outputId": "691e149f-febf-4ba3-8e84-f434ce359e1c"
   },
   "outputs": [
    {
     "data": {
      "text/html": [
       "<div>\n",
       "<style scoped>\n",
       "    .dataframe tbody tr th:only-of-type {\n",
       "        vertical-align: middle;\n",
       "    }\n",
       "\n",
       "    .dataframe tbody tr th {\n",
       "        vertical-align: top;\n",
       "    }\n",
       "\n",
       "    .dataframe thead th {\n",
       "        text-align: right;\n",
       "    }\n",
       "</style>\n",
       "<table border=\"1\" class=\"dataframe\">\n",
       "  <thead>\n",
       "    <tr style=\"text-align: right;\">\n",
       "      <th></th>\n",
       "      <th>so2</th>\n",
       "    </tr>\n",
       "  </thead>\n",
       "  <tbody>\n",
       "    <tr>\n",
       "      <th>count</th>\n",
       "      <td>62551.000000</td>\n",
       "    </tr>\n",
       "    <tr>\n",
       "      <th>mean</th>\n",
       "      <td>3.435005</td>\n",
       "    </tr>\n",
       "    <tr>\n",
       "      <th>std</th>\n",
       "      <td>5.029910</td>\n",
       "    </tr>\n",
       "    <tr>\n",
       "      <th>min</th>\n",
       "      <td>0.000000</td>\n",
       "    </tr>\n",
       "    <tr>\n",
       "      <th>25%</th>\n",
       "      <td>0.610000</td>\n",
       "    </tr>\n",
       "    <tr>\n",
       "      <th>50%</th>\n",
       "      <td>1.800000</td>\n",
       "    </tr>\n",
       "    <tr>\n",
       "      <th>75%</th>\n",
       "      <td>4.180000</td>\n",
       "    </tr>\n",
       "    <tr>\n",
       "      <th>max</th>\n",
       "      <td>124.300000</td>\n",
       "    </tr>\n",
       "  </tbody>\n",
       "</table>\n",
       "</div><br><label><b>dtype:</b> float64</label>"
      ],
      "text/plain": [
       "count    62551.000000\n",
       "mean         3.435005\n",
       "std          5.029910\n",
       "min          0.000000\n",
       "25%          0.610000\n",
       "50%          1.800000\n",
       "75%          4.180000\n",
       "max        124.300000\n",
       "Name: so2, dtype: float64"
      ]
     },
     "execution_count": 34,
     "metadata": {},
     "output_type": "execute_result"
    }
   ],
   "source": [
    "df_sensor_copacabana['so2'].describe()"
   ]
  },
  {
   "cell_type": "code",
   "execution_count": 35,
   "metadata": {
    "cellView": "form",
    "colab": {
     "base_uri": "https://localhost:8080/"
    },
    "executionInfo": {
     "elapsed": 27,
     "status": "ok",
     "timestamp": 1750346084048,
     "user": {
      "displayName": "João Terêncio",
      "userId": "14302965054076037047"
     },
     "user_tz": 180
    },
    "id": "c0RuCYCsMs5L",
    "outputId": "dc64a768-ef5f-4fbc-b52b-8214a4f66001"
   },
   "outputs": [
    {
     "name": "stdout",
     "output_type": "stream",
     "text": [
      "Quantidade de valores vazios: 51428\n"
     ]
    }
   ],
   "source": [
    "#@title Vendo quantidade de valores vazios\n",
    "\n",
    "valroes_vazio = df_sensor_copacabana[df_sensor_copacabana['so2'].isnull()].groupby(['ano', 'mes']).size().sum()\n",
    "print(f\"Quantidade de valores vazios: {valroes_vazio}\")"
   ]
  },
  {
   "cell_type": "code",
   "execution_count": 36,
   "metadata": {
    "cellView": "form",
    "colab": {
     "base_uri": "https://localhost:8080/"
    },
    "executionInfo": {
     "elapsed": 8,
     "status": "ok",
     "timestamp": 1750346084059,
     "user": {
      "displayName": "João Terêncio",
      "userId": "14302965054076037047"
     },
     "user_tz": 180
    },
    "id": "C4qkCjQHMs5L",
    "outputId": "bd85ec1c-9181-43ec-d886-0752e711588e"
   },
   "outputs": [
    {
     "name": "stderr",
     "output_type": "stream",
     "text": [
      "/tmp/ipython-input-36-2990838305.py:3: SettingWithCopyWarning: \n",
      "A value is trying to be set on a copy of a slice from a DataFrame.\n",
      "Try using .loc[row_indexer,col_indexer] = value instead\n",
      "\n",
      "See the caveats in the documentation: https://pandas.pydata.org/pandas-docs/stable/user_guide/indexing.html#returning-a-view-versus-a-copy\n",
      "  df_sensor_copacabana['so2_nulos_no_dia'] = (\n"
     ]
    }
   ],
   "source": [
    "#@title Criando coluna que informa a quantidade de valores vazios por dia\n",
    "\n",
    "df_sensor_copacabana['so2_nulos_no_dia'] = (\n",
    "    df_sensor_copacabana['so2'].isnull()\n",
    "    .groupby(df_sensor_copacabana['data_formatada'])\n",
    "    .transform('sum')  # Soma os nulos por dia e repete o valor em todas as linhas do dia\n",
    ")"
   ]
  },
  {
   "cell_type": "code",
   "execution_count": 37,
   "metadata": {
    "cellView": "form",
    "colab": {
     "base_uri": "https://localhost:8080/",
     "height": 0
    },
    "executionInfo": {
     "elapsed": 326,
     "status": "ok",
     "timestamp": 1750346084398,
     "user": {
      "displayName": "João Terêncio",
      "userId": "14302965054076037047"
     },
     "user_tz": 180
    },
    "id": "trcgkn9hMs5L",
    "outputId": "d1c3b423-2156-499c-bc2e-61bf7d8a79a1"
   },
   "outputs": [
    {
     "data": {
      "image/png": "[encoded data removed]",
      "text/plain": [
       "<Figure size 1000x600 with 1 Axes>"
      ]
     },
     "metadata": {},
     "output_type": "display_data"
    }
   ],
   "source": [
    "#@title Distribuição dos valores vazios\n",
    "\n",
    "# Seleciona uma única linha por dia, para evitar repetição\n",
    "df_dias = df_sensor_copacabana[df_sensor_copacabana['so2_nulos_no_dia'] != 0].groupby('data_formatada')['so2_nulos_no_dia'].first()\n",
    "\n",
    "# Plotar o histograma da contagem de valores nulos por dia\n",
    "plt.figure(figsize=(10,6))\n",
    "plt.hist(df_dias, bins=range(0, df_dias.max() + 2), edgecolor='black', align='left')\n",
    "plt.title(\"Histograma de Quantidade de Valores Vazios em 'so2' por Dia\")\n",
    "plt.xlabel('Quantidade de valores vazios no dia')\n",
    "plt.ylabel('Número de dias')\n",
    "plt.xticks(range(0, df_dias.max() + 1))\n",
    "plt.grid(axis='y', alpha=0.75)\n",
    "plt.show()"
   ]
  },
  {
   "cell_type": "code",
   "execution_count": 38,
   "metadata": {
    "cellView": "form",
    "colab": {
     "base_uri": "https://localhost:8080/"
    },
    "executionInfo": {
     "elapsed": 13,
     "status": "ok",
     "timestamp": 1750346084415,
     "user": {
      "displayName": "João Terêncio",
      "userId": "14302965054076037047"
     },
     "user_tz": 180
    },
    "id": "4Vf0xfIGMs5L",
    "outputId": "e6fbecd9-b9d4-4a0b-bfd3-ddef95c8b245"
   },
   "outputs": [
    {
     "name": "stdout",
     "output_type": "stream",
     "text": [
      "2370 linhas foram preenchidas com interpolate na coluna 'so2'.\n",
      "Foram preenchido 5% de dados\n"
     ]
    }
   ],
   "source": [
    "#@title Preenchimento dos valores nulos utilizando a função interpolate (Preenchendo apenas os que tem menos de 7 linhas vazias por dia)\n",
    "\n",
    "mask = (df_sensor_copacabana['so2_nulos_no_dia'] <= 6)\n",
    "\n",
    "num_nulls = df_sensor_copacabana[mask]['so2'].isnull().sum()\n",
    "df_sensor_copacabana.loc[mask, 'so2'] = df_sensor_copacabana[mask]['so2'].interpolate()\n",
    "print(f\"{num_nulls} linhas foram preenchidas com interpolate na coluna 'so2'.\")\n",
    "print(f\"Foram preenchido {round((num_nulls/valroes_vazio)*100)}% de dados\")"
   ]
  },
  {
   "cell_type": "code",
   "execution_count": 39,
   "metadata": {
    "colab": {
     "base_uri": "https://localhost:8080/",
     "height": 0
    },
    "executionInfo": {
     "elapsed": 6,
     "status": "ok",
     "timestamp": 1750346084424,
     "user": {
      "displayName": "João Terêncio",
      "userId": "14302965054076037047"
     },
     "user_tz": 180
    },
    "id": "tdmsasFgMs5L",
    "outputId": "dc68fc7d-d24a-4ddd-b95b-13f2dca9579b"
   },
   "outputs": [
    {
     "data": {
      "text/html": [
       "<div>\n",
       "<style scoped>\n",
       "    .dataframe tbody tr th:only-of-type {\n",
       "        vertical-align: middle;\n",
       "    }\n",
       "\n",
       "    .dataframe tbody tr th {\n",
       "        vertical-align: top;\n",
       "    }\n",
       "\n",
       "    .dataframe thead th {\n",
       "        text-align: right;\n",
       "    }\n",
       "</style>\n",
       "<table border=\"1\" class=\"dataframe\">\n",
       "  <thead>\n",
       "    <tr style=\"text-align: right;\">\n",
       "      <th></th>\n",
       "      <th>so2</th>\n",
       "    </tr>\n",
       "  </thead>\n",
       "  <tbody>\n",
       "    <tr>\n",
       "      <th>count</th>\n",
       "      <td>64921.000000</td>\n",
       "    </tr>\n",
       "    <tr>\n",
       "      <th>mean</th>\n",
       "      <td>3.411331</td>\n",
       "    </tr>\n",
       "    <tr>\n",
       "      <th>std</th>\n",
       "      <td>4.989467</td>\n",
       "    </tr>\n",
       "    <tr>\n",
       "      <th>min</th>\n",
       "      <td>0.000000</td>\n",
       "    </tr>\n",
       "    <tr>\n",
       "      <th>25%</th>\n",
       "      <td>0.610000</td>\n",
       "    </tr>\n",
       "    <tr>\n",
       "      <th>50%</th>\n",
       "      <td>1.790000</td>\n",
       "    </tr>\n",
       "    <tr>\n",
       "      <th>75%</th>\n",
       "      <td>4.140000</td>\n",
       "    </tr>\n",
       "    <tr>\n",
       "      <th>max</th>\n",
       "      <td>124.300000</td>\n",
       "    </tr>\n",
       "  </tbody>\n",
       "</table>\n",
       "</div><br><label><b>dtype:</b> float64</label>"
      ],
      "text/plain": [
       "count    64921.000000\n",
       "mean         3.411331\n",
       "std          4.989467\n",
       "min          0.000000\n",
       "25%          0.610000\n",
       "50%          1.790000\n",
       "75%          4.140000\n",
       "max        124.300000\n",
       "Name: so2, dtype: float64"
      ]
     },
     "execution_count": 39,
     "metadata": {},
     "output_type": "execute_result"
    }
   ],
   "source": [
    "df_sensor_copacabana['so2'].describe()"
   ]
  },
  {
   "cell_type": "markdown",
   "metadata": {
    "id": "DP-WWSHfNYCk"
   },
   "source": [
    "### Ozônio"
   ]
  },
  {
   "cell_type": "code",
   "execution_count": 40,
   "metadata": {
    "colab": {
     "base_uri": "https://localhost:8080/",
     "height": 0
    },
    "executionInfo": {
     "elapsed": 21,
     "status": "ok",
     "timestamp": 1750346084448,
     "user": {
      "displayName": "João Terêncio",
      "userId": "14302965054076037047"
     },
     "user_tz": 180
    },
    "id": "5Wx7SPTJNYCl",
    "outputId": "d5396519-863b-410b-c05e-c3f4f0b65db3"
   },
   "outputs": [
    {
     "data": {
      "text/html": [
       "<div>\n",
       "<style scoped>\n",
       "    .dataframe tbody tr th:only-of-type {\n",
       "        vertical-align: middle;\n",
       "    }\n",
       "\n",
       "    .dataframe tbody tr th {\n",
       "        vertical-align: top;\n",
       "    }\n",
       "\n",
       "    .dataframe thead th {\n",
       "        text-align: right;\n",
       "    }\n",
       "</style>\n",
       "<table border=\"1\" class=\"dataframe\">\n",
       "  <thead>\n",
       "    <tr style=\"text-align: right;\">\n",
       "      <th></th>\n",
       "      <th>o3</th>\n",
       "    </tr>\n",
       "  </thead>\n",
       "  <tbody>\n",
       "    <tr>\n",
       "      <th>count</th>\n",
       "      <td>97701.000000</td>\n",
       "    </tr>\n",
       "    <tr>\n",
       "      <th>mean</th>\n",
       "      <td>22.406192</td>\n",
       "    </tr>\n",
       "    <tr>\n",
       "      <th>std</th>\n",
       "      <td>17.624724</td>\n",
       "    </tr>\n",
       "    <tr>\n",
       "      <th>min</th>\n",
       "      <td>0.000000</td>\n",
       "    </tr>\n",
       "    <tr>\n",
       "      <th>25%</th>\n",
       "      <td>8.710000</td>\n",
       "    </tr>\n",
       "    <tr>\n",
       "      <th>50%</th>\n",
       "      <td>19.310000</td>\n",
       "    </tr>\n",
       "    <tr>\n",
       "      <th>75%</th>\n",
       "      <td>32.050000</td>\n",
       "    </tr>\n",
       "    <tr>\n",
       "      <th>max</th>\n",
       "      <td>228.610000</td>\n",
       "    </tr>\n",
       "  </tbody>\n",
       "</table>\n",
       "</div><br><label><b>dtype:</b> float64</label>"
      ],
      "text/plain": [
       "count    97701.000000\n",
       "mean        22.406192\n",
       "std         17.624724\n",
       "min          0.000000\n",
       "25%          8.710000\n",
       "50%         19.310000\n",
       "75%         32.050000\n",
       "max        228.610000\n",
       "Name: o3, dtype: float64"
      ]
     },
     "execution_count": 40,
     "metadata": {},
     "output_type": "execute_result"
    }
   ],
   "source": [
    "df_sensor_copacabana['o3'].describe()"
   ]
  },
  {
   "cell_type": "code",
   "execution_count": 41,
   "metadata": {
    "cellView": "form",
    "colab": {
     "base_uri": "https://localhost:8080/"
    },
    "executionInfo": {
     "elapsed": 10,
     "status": "ok",
     "timestamp": 1750346084460,
     "user": {
      "displayName": "João Terêncio",
      "userId": "14302965054076037047"
     },
     "user_tz": 180
    },
    "id": "kXhRQEmoNYCn",
    "outputId": "df7618db-bb27-4cba-9663-cec5e3d52986"
   },
   "outputs": [
    {
     "name": "stdout",
     "output_type": "stream",
     "text": [
      "Quantidade de valores vazios: 16278\n"
     ]
    }
   ],
   "source": [
    "#@title Vendo quantidade de valores vazios\n",
    "\n",
    "valroes_vazio = df_sensor_copacabana[df_sensor_copacabana['o3'].isnull()].groupby(['ano', 'mes']).size().sum()\n",
    "print(f\"Quantidade de valores vazios: {valroes_vazio}\")"
   ]
  },
  {
   "cell_type": "code",
   "execution_count": 42,
   "metadata": {
    "cellView": "form",
    "colab": {
     "base_uri": "https://localhost:8080/"
    },
    "executionInfo": {
     "elapsed": 21,
     "status": "ok",
     "timestamp": 1750346084484,
     "user": {
      "displayName": "João Terêncio",
      "userId": "14302965054076037047"
     },
     "user_tz": 180
    },
    "id": "cJBoN4cMNYCn",
    "outputId": "ed7e5db7-3286-4535-826e-32bd7242e13f"
   },
   "outputs": [
    {
     "name": "stderr",
     "output_type": "stream",
     "text": [
      "/tmp/ipython-input-42-1706309211.py:3: SettingWithCopyWarning: \n",
      "A value is trying to be set on a copy of a slice from a DataFrame.\n",
      "Try using .loc[row_indexer,col_indexer] = value instead\n",
      "\n",
      "See the caveats in the documentation: https://pandas.pydata.org/pandas-docs/stable/user_guide/indexing.html#returning-a-view-versus-a-copy\n",
      "  df_sensor_copacabana['o3_nulos_no_dia'] = (\n"
     ]
    }
   ],
   "source": [
    "#@title Criando coluna que informa a quantidade de valores vazios por dia\n",
    "\n",
    "df_sensor_copacabana['o3_nulos_no_dia'] = (\n",
    "    df_sensor_copacabana['o3'].isnull()\n",
    "    .groupby(df_sensor_copacabana['data_formatada'])\n",
    "    .transform('sum')  # Soma os nulos por dia e repete o valor em todas as linhas do dia\n",
    ")"
   ]
  },
  {
   "cell_type": "code",
   "execution_count": 43,
   "metadata": {
    "cellView": "form",
    "colab": {
     "base_uri": "https://localhost:8080/",
     "height": 0
    },
    "executionInfo": {
     "elapsed": 311,
     "status": "ok",
     "timestamp": 1750346084797,
     "user": {
      "displayName": "João Terêncio",
      "userId": "14302965054076037047"
     },
     "user_tz": 180
    },
    "id": "Q1ZG0wIONYCn",
    "outputId": "3fe0aa18-6474-4310-d6ca-c4b9242b978e"
   },
   "outputs": [
    {
     "data": {
      "image/png": "[encoded data removed]",
      "text/plain": [
       "<Figure size 1000x600 with 1 Axes>"
      ]
     },
     "metadata": {},
     "output_type": "display_data"
    }
   ],
   "source": [
    "#@title Distribuição dos valores vazios\n",
    "\n",
    "# Seleciona uma única linha por dia, para evitar repetição\n",
    "df_dias = df_sensor_copacabana[df_sensor_copacabana['o3_nulos_no_dia'] != 0].groupby('data_formatada')['o3_nulos_no_dia'].first()\n",
    "\n",
    "# Plotar o histograma da contagem de valores nulos por dia\n",
    "plt.figure(figsize=(10,6))\n",
    "plt.hist(df_dias, bins=range(0, df_dias.max() + 2), edgecolor='black', align='left')\n",
    "plt.title(\"Histograma de Quantidade de Valores Vazios em 'o3' por Dia\")\n",
    "plt.xlabel('Quantidade de valores vazios no dia')\n",
    "plt.ylabel('Número de dias')\n",
    "plt.xticks(range(0, df_dias.max() + 1))\n",
    "plt.grid(axis='y', alpha=0.75)\n",
    "plt.show()"
   ]
  },
  {
   "cell_type": "code",
   "execution_count": 44,
   "metadata": {
    "cellView": "form",
    "colab": {
     "base_uri": "https://localhost:8080/"
    },
    "executionInfo": {
     "elapsed": 14,
     "status": "ok",
     "timestamp": 1750346084816,
     "user": {
      "displayName": "João Terêncio",
      "userId": "14302965054076037047"
     },
     "user_tz": 180
    },
    "id": "KQwJwPLrNYCo",
    "outputId": "5bde8776-da9e-4335-a1bb-c38dc377963b"
   },
   "outputs": [
    {
     "name": "stdout",
     "output_type": "stream",
     "text": [
      "815 linhas foram preenchidas com interpolate na coluna 'o3'.\n",
      "Foram preenchido 5% de dados\n"
     ]
    }
   ],
   "source": [
    "#@title Preenchimento dos valores nulos utilizando a função interpolate (Preenchendo apenas os que tem menos de 7 linhas vazias por dia)\n",
    "\n",
    "mask = (df_sensor_copacabana['o3_nulos_no_dia'] <= 6)\n",
    "\n",
    "num_nulls = df_sensor_copacabana[mask]['o3'].isnull().sum()\n",
    "df_sensor_copacabana.loc[mask, 'o3'] = df_sensor_copacabana[mask]['o3'].interpolate()\n",
    "print(f\"{num_nulls} linhas foram preenchidas com interpolate na coluna 'o3'.\")\n",
    "print(f\"Foram preenchido {round((num_nulls/valroes_vazio)*100)}% de dados\")"
   ]
  },
  {
   "cell_type": "code",
   "execution_count": 45,
   "metadata": {
    "colab": {
     "base_uri": "https://localhost:8080/",
     "height": 0
    },
    "executionInfo": {
     "elapsed": 19,
     "status": "ok",
     "timestamp": 1750346084838,
     "user": {
      "displayName": "João Terêncio",
      "userId": "14302965054076037047"
     },
     "user_tz": 180
    },
    "id": "8dJ2VLO3NYCp",
    "outputId": "4aa72dd3-b105-4940-f2b0-97f09e611f86"
   },
   "outputs": [
    {
     "data": {
      "text/html": [
       "<div>\n",
       "<style scoped>\n",
       "    .dataframe tbody tr th:only-of-type {\n",
       "        vertical-align: middle;\n",
       "    }\n",
       "\n",
       "    .dataframe tbody tr th {\n",
       "        vertical-align: top;\n",
       "    }\n",
       "\n",
       "    .dataframe thead th {\n",
       "        text-align: right;\n",
       "    }\n",
       "</style>\n",
       "<table border=\"1\" class=\"dataframe\">\n",
       "  <thead>\n",
       "    <tr style=\"text-align: right;\">\n",
       "      <th></th>\n",
       "      <th>o3</th>\n",
       "    </tr>\n",
       "  </thead>\n",
       "  <tbody>\n",
       "    <tr>\n",
       "      <th>count</th>\n",
       "      <td>98516.000000</td>\n",
       "    </tr>\n",
       "    <tr>\n",
       "      <th>mean</th>\n",
       "      <td>22.408726</td>\n",
       "    </tr>\n",
       "    <tr>\n",
       "      <th>std</th>\n",
       "      <td>17.610238</td>\n",
       "    </tr>\n",
       "    <tr>\n",
       "      <th>min</th>\n",
       "      <td>0.000000</td>\n",
       "    </tr>\n",
       "    <tr>\n",
       "      <th>25%</th>\n",
       "      <td>8.730000</td>\n",
       "    </tr>\n",
       "    <tr>\n",
       "      <th>50%</th>\n",
       "      <td>19.330000</td>\n",
       "    </tr>\n",
       "    <tr>\n",
       "      <th>75%</th>\n",
       "      <td>32.050000</td>\n",
       "    </tr>\n",
       "    <tr>\n",
       "      <th>max</th>\n",
       "      <td>228.610000</td>\n",
       "    </tr>\n",
       "  </tbody>\n",
       "</table>\n",
       "</div><br><label><b>dtype:</b> float64</label>"
      ],
      "text/plain": [
       "count    98516.000000\n",
       "mean        22.408726\n",
       "std         17.610238\n",
       "min          0.000000\n",
       "25%          8.730000\n",
       "50%         19.330000\n",
       "75%         32.050000\n",
       "max        228.610000\n",
       "Name: o3, dtype: float64"
      ]
     },
     "execution_count": 45,
     "metadata": {},
     "output_type": "execute_result"
    }
   ],
   "source": [
    "df_sensor_copacabana['o3'].describe()"
   ]
  },
  {
   "cell_type": "markdown",
   "metadata": {
    "id": "x_EfKxffNz6H"
   },
   "source": [
    "### PM10"
   ]
  },
  {
   "cell_type": "code",
   "execution_count": 46,
   "metadata": {
    "colab": {
     "base_uri": "https://localhost:8080/",
     "height": 0
    },
    "executionInfo": {
     "elapsed": 46,
     "status": "ok",
     "timestamp": 1750346084887,
     "user": {
      "displayName": "João Terêncio",
      "userId": "14302965054076037047"
     },
     "user_tz": 180
    },
    "id": "PwaB2u12Nz6H",
    "outputId": "78e347e0-f4f6-411c-b47c-ea164ce21da5"
   },
   "outputs": [
    {
     "data": {
      "text/html": [
       "<div>\n",
       "<style scoped>\n",
       "    .dataframe tbody tr th:only-of-type {\n",
       "        vertical-align: middle;\n",
       "    }\n",
       "\n",
       "    .dataframe tbody tr th {\n",
       "        vertical-align: top;\n",
       "    }\n",
       "\n",
       "    .dataframe thead th {\n",
       "        text-align: right;\n",
       "    }\n",
       "</style>\n",
       "<table border=\"1\" class=\"dataframe\">\n",
       "  <thead>\n",
       "    <tr style=\"text-align: right;\">\n",
       "      <th></th>\n",
       "      <th>pm10</th>\n",
       "    </tr>\n",
       "  </thead>\n",
       "  <tbody>\n",
       "    <tr>\n",
       "      <th>count</th>\n",
       "      <td>92069.000000</td>\n",
       "    </tr>\n",
       "    <tr>\n",
       "      <th>mean</th>\n",
       "      <td>49.132835</td>\n",
       "    </tr>\n",
       "    <tr>\n",
       "      <th>std</th>\n",
       "      <td>22.679297</td>\n",
       "    </tr>\n",
       "    <tr>\n",
       "      <th>min</th>\n",
       "      <td>0.000000</td>\n",
       "    </tr>\n",
       "    <tr>\n",
       "      <th>25%</th>\n",
       "      <td>33.000000</td>\n",
       "    </tr>\n",
       "    <tr>\n",
       "      <th>50%</th>\n",
       "      <td>46.000000</td>\n",
       "    </tr>\n",
       "    <tr>\n",
       "      <th>75%</th>\n",
       "      <td>61.000000</td>\n",
       "    </tr>\n",
       "    <tr>\n",
       "      <th>max</th>\n",
       "      <td>296.000000</td>\n",
       "    </tr>\n",
       "  </tbody>\n",
       "</table>\n",
       "</div><br><label><b>dtype:</b> float64</label>"
      ],
      "text/plain": [
       "count    92069.000000\n",
       "mean        49.132835\n",
       "std         22.679297\n",
       "min          0.000000\n",
       "25%         33.000000\n",
       "50%         46.000000\n",
       "75%         61.000000\n",
       "max        296.000000\n",
       "Name: pm10, dtype: float64"
      ]
     },
     "execution_count": 46,
     "metadata": {},
     "output_type": "execute_result"
    }
   ],
   "source": [
    "df_sensor_copacabana['pm10'].describe()"
   ]
  },
  {
   "cell_type": "code",
   "execution_count": 47,
   "metadata": {
    "cellView": "form",
    "colab": {
     "base_uri": "https://localhost:8080/"
    },
    "executionInfo": {
     "elapsed": 24,
     "status": "ok",
     "timestamp": 1750346084888,
     "user": {
      "displayName": "João Terêncio",
      "userId": "14302965054076037047"
     },
     "user_tz": 180
    },
    "id": "2DgViHnxNz6I",
    "outputId": "fe88792d-999d-4a75-f81a-c02cf64a75b5"
   },
   "outputs": [
    {
     "name": "stdout",
     "output_type": "stream",
     "text": [
      "Quantidade de valores vazios: 21910\n"
     ]
    }
   ],
   "source": [
    "#@title Vendo quantidade de valores vazios\n",
    "\n",
    "valroes_vazio = df_sensor_copacabana[df_sensor_copacabana['pm10'].isnull()].groupby(['ano', 'mes']).size().sum()\n",
    "print(f\"Quantidade de valores vazios: {valroes_vazio}\")"
   ]
  },
  {
   "cell_type": "code",
   "execution_count": 48,
   "metadata": {
    "cellView": "form",
    "colab": {
     "base_uri": "https://localhost:8080/"
    },
    "executionInfo": {
     "elapsed": 8,
     "status": "ok",
     "timestamp": 1750346084889,
     "user": {
      "displayName": "João Terêncio",
      "userId": "14302965054076037047"
     },
     "user_tz": 180
    },
    "id": "C4E1ad35Nz6I",
    "outputId": "ff018ac9-c203-4f0a-d8b2-bae87c7108e3"
   },
   "outputs": [
    {
     "name": "stderr",
     "output_type": "stream",
     "text": [
      "/tmp/ipython-input-48-1014414881.py:3: SettingWithCopyWarning: \n",
      "A value is trying to be set on a copy of a slice from a DataFrame.\n",
      "Try using .loc[row_indexer,col_indexer] = value instead\n",
      "\n",
      "See the caveats in the documentation: https://pandas.pydata.org/pandas-docs/stable/user_guide/indexing.html#returning-a-view-versus-a-copy\n",
      "  df_sensor_copacabana['pm10_nulos_no_dia'] = (\n"
     ]
    }
   ],
   "source": [
    "#@title Criando coluna que informa a quantidade de valores vazios por dia\n",
    "\n",
    "df_sensor_copacabana['pm10_nulos_no_dia'] = (\n",
    "    df_sensor_copacabana['pm10'].isnull()\n",
    "    .groupby(df_sensor_copacabana['data_formatada'])\n",
    "    .transform('sum')  # Soma os nulos por dia e repete o valor em todas as linhas do dia\n",
    ")"
   ]
  },
  {
   "cell_type": "code",
   "execution_count": 49,
   "metadata": {
    "cellView": "form",
    "colab": {
     "base_uri": "https://localhost:8080/",
     "height": 0
    },
    "executionInfo": {
     "elapsed": 321,
     "status": "ok",
     "timestamp": 1750346085221,
     "user": {
      "displayName": "João Terêncio",
      "userId": "14302965054076037047"
     },
     "user_tz": 180
    },
    "id": "wimZHi5oNz6I",
    "outputId": "32d05d53-7cfa-4e17-a821-37c6fd3ef0a5"
   },
   "outputs": [
    {
     "data": {
      "image/png": "[encoded data removed]",
      "text/plain": [
       "<Figure size 1000x600 with 1 Axes>"
      ]
     },
     "metadata": {},
     "output_type": "display_data"
    }
   ],
   "source": [
    "#@title Distribuição dos valores vazios\n",
    "\n",
    "# Seleciona uma única linha por dia, para evitar repetição\n",
    "df_dias = df_sensor_copacabana[df_sensor_copacabana['pm10_nulos_no_dia'] != 0].groupby('data_formatada')['pm10_nulos_no_dia'].first()\n",
    "\n",
    "# Plotar o histograma da contagem de valores nulos por dia\n",
    "plt.figure(figsize=(10,6))\n",
    "plt.hist(df_dias, bins=range(0, df_dias.max() + 2), edgecolor='black', align='left')\n",
    "plt.title(\"Histograma de Quantidade de Valores Vazios em 'pm10' por Dia\")\n",
    "plt.xlabel('Quantidade de valores vazios no dia')\n",
    "plt.ylabel('Número de dias')\n",
    "plt.xticks(range(0, df_dias.max() + 1))\n",
    "plt.grid(axis='y', alpha=0.75)\n",
    "plt.show()"
   ]
  },
  {
   "cell_type": "code",
   "execution_count": 50,
   "metadata": {
    "cellView": "form",
    "colab": {
     "base_uri": "https://localhost:8080/"
    },
    "executionInfo": {
     "elapsed": 16,
     "status": "ok",
     "timestamp": 1750346085241,
     "user": {
      "displayName": "João Terêncio",
      "userId": "14302965054076037047"
     },
     "user_tz": 180
    },
    "id": "OA2D_-XPNz6I",
    "outputId": "16a9a7e8-461d-41ff-d13b-9ae6a8386b2d"
   },
   "outputs": [
    {
     "name": "stdout",
     "output_type": "stream",
     "text": [
      "459 linhas foram preenchidas com interpolate na coluna 'pm10'.\n",
      "Foram preenchido 2% de dados\n"
     ]
    }
   ],
   "source": [
    "#@title Preenchimento dos valores nulos utilizando a função interpolate (Preenchendo apenas os que tem menos de 7 linhas vazias por dia)\n",
    "\n",
    "mask = (df_sensor_copacabana['pm10_nulos_no_dia'] <= 6)\n",
    "\n",
    "num_nulls = df_sensor_copacabana[mask]['pm10'].isnull().sum()\n",
    "df_sensor_copacabana.loc[mask, 'pm10'] = df_sensor_copacabana[mask]['pm10'].interpolate()\n",
    "print(f\"{num_nulls} linhas foram preenchidas com interpolate na coluna 'pm10'.\")\n",
    "print(f\"Foram preenchido {round((num_nulls/valroes_vazio)*100)}% de dados\")"
   ]
  },
  {
   "cell_type": "code",
   "execution_count": 51,
   "metadata": {
    "colab": {
     "base_uri": "https://localhost:8080/",
     "height": 0
    },
    "executionInfo": {
     "elapsed": 24,
     "status": "ok",
     "timestamp": 1750346085270,
     "user": {
      "displayName": "João Terêncio",
      "userId": "14302965054076037047"
     },
     "user_tz": 180
    },
    "id": "KmM4M2pDNz6I",
    "outputId": "41181664-d58e-4710-88c3-b627edb53df5"
   },
   "outputs": [
    {
     "data": {
      "text/html": [
       "<div>\n",
       "<style scoped>\n",
       "    .dataframe tbody tr th:only-of-type {\n",
       "        vertical-align: middle;\n",
       "    }\n",
       "\n",
       "    .dataframe tbody tr th {\n",
       "        vertical-align: top;\n",
       "    }\n",
       "\n",
       "    .dataframe thead th {\n",
       "        text-align: right;\n",
       "    }\n",
       "</style>\n",
       "<table border=\"1\" class=\"dataframe\">\n",
       "  <thead>\n",
       "    <tr style=\"text-align: right;\">\n",
       "      <th></th>\n",
       "      <th>pm10</th>\n",
       "    </tr>\n",
       "  </thead>\n",
       "  <tbody>\n",
       "    <tr>\n",
       "      <th>count</th>\n",
       "      <td>92528.000000</td>\n",
       "    </tr>\n",
       "    <tr>\n",
       "      <th>mean</th>\n",
       "      <td>49.165490</td>\n",
       "    </tr>\n",
       "    <tr>\n",
       "      <th>std</th>\n",
       "      <td>22.710243</td>\n",
       "    </tr>\n",
       "    <tr>\n",
       "      <th>min</th>\n",
       "      <td>0.000000</td>\n",
       "    </tr>\n",
       "    <tr>\n",
       "      <th>25%</th>\n",
       "      <td>33.000000</td>\n",
       "    </tr>\n",
       "    <tr>\n",
       "      <th>50%</th>\n",
       "      <td>46.000000</td>\n",
       "    </tr>\n",
       "    <tr>\n",
       "      <th>75%</th>\n",
       "      <td>61.000000</td>\n",
       "    </tr>\n",
       "    <tr>\n",
       "      <th>max</th>\n",
       "      <td>296.000000</td>\n",
       "    </tr>\n",
       "  </tbody>\n",
       "</table>\n",
       "</div><br><label><b>dtype:</b> float64</label>"
      ],
      "text/plain": [
       "count    92528.000000\n",
       "mean        49.165490\n",
       "std         22.710243\n",
       "min          0.000000\n",
       "25%         33.000000\n",
       "50%         46.000000\n",
       "75%         61.000000\n",
       "max        296.000000\n",
       "Name: pm10, dtype: float64"
      ]
     },
     "execution_count": 51,
     "metadata": {},
     "output_type": "execute_result"
    }
   ],
   "source": [
    "df_sensor_copacabana['pm10'].describe()"
   ]
  },
  {
   "cell_type": "code",
   "execution_count": 52,
   "metadata": {
    "colab": {
     "base_uri": "https://localhost:8080/"
    },
    "executionInfo": {
     "elapsed": 25,
     "status": "ok",
     "timestamp": 1750346085392,
     "user": {
      "displayName": "João Terêncio",
      "userId": "14302965054076037047"
     },
     "user_tz": 180
    },
    "id": "isMt_1pfVqhC",
    "outputId": "db3512b1-13ce-45dc-f5ee-c97fd70097f1"
   },
   "outputs": [
    {
     "name": "stderr",
     "output_type": "stream",
     "text": [
      "/tmp/ipython-input-52-1944218217.py:3: SettingWithCopyWarning: \n",
      "A value is trying to be set on a copy of a slice from a DataFrame\n",
      "\n",
      "See the caveats in the documentation: https://pandas.pydata.org/pandas-docs/stable/user_guide/indexing.html#returning-a-view-versus-a-copy\n",
      "  df_sensor_copacabana.drop(columns=droping_columns, inplace=True)\n"
     ]
    }
   ],
   "source": [
    "droping_columns = ['nome_estacao', 'chuva_nulos_no_dia', 'temp_nulos_no_dia', 'ur_nulos_no_dia', 'co_nulos_no_dia', 'so2_nulos_no_dia', 'o3_nulos_no_dia', 'pm10_nulos_no_dia']\n",
    "\n",
    "df_sensor_copacabana.drop(columns=droping_columns, inplace=True)"
   ]
  },
  {
   "cell_type": "markdown",
   "metadata": {
    "id": "hc-I_71qbbJO"
   },
   "source": [
    "# Criando nova feature (AQI)\n",
    "\n",
    "| MP₁₀ (µg/m³) 24h | MP₂.₅ (µg/m³) 24h | O₃ (µg/m³) 8h | CO (ppm) 8h | NO₂ (µg/m³) 1h | SO₂ (µg/m³) 24h | Índice | Qualidade do Ar | Efeitos |\n",
    "|------------------|------------------|---------------|-------------|----------------|------------------|--------|------------------|---------|\n",
    "| 0 - 50           | 0 - 25           | 0 - 100       | 0 - 9       | 0 - 200        | 0 - 20           | 0 - 40 | N1 - Boa         | - |\n",
    "| >50 - 100        | >25 - 50         | >100 - 130    | >9 - 11     | >200 - 240     | >20 - 40         | 41 - 80 | N2 - Moderada     | Pessoas de grupos sensíveis (crianças, idosos e pessoas com doenças respiratórias e cardíacas) podem apresentar sintomas como tosse seca e cansaço. A população em geral não é afetada. |\n",
    "| >100 - 150       | >50 - 75         | >130 - 160    | >11 - 13    | >240 - 320     | >40 - 365        | 81 - 120 | N3 - Ruim         | Toda a população pode apresentar sintomas como tosse seca, cansaço, ardor nos olhos, nariz e garganta. Pessoas de grupos sensíveis (crianças, idosos e pessoas com doenças respiratórias e cardíacas) podem apresentar efeitos mais sérios na saúde. |\n",
    "| >150 - 250       | >75 - 125        | >160 - 200    | >13 - 15    | >320 - 1130    | >365 - 800       | 121 - 200 | N4 - Muito Ruim   | Toda a população pode apresentar agravamento dos sintomas como tosse seca, cansaço, ardor nos olhos, nariz e garganta e ainda falta de ar e respiração ofegante. Efeitos ainda mais graves à saúde de grupos sensíveis (crianças, idosos e pessoas com doenças respiratórias e cardíacas). |\n",
    "| >250 - 600       | >125 - 300       | >200 - 800    | >15 - 50    | >1130 - 3750   | >800 - 2620      | 201 - 400 | N5 - Péssima      | Toda a população pode apresentar sérios riscos de manifestações de doenças respiratórias e cardiovasculares. Aumento de mortes prematuras em pessoas de grupos sensíveis. |\n"
   ]
  },
  {
   "cell_type": "code",
   "execution_count": 53,
   "metadata": {
    "executionInfo": {
     "elapsed": 21,
     "status": "ok",
     "timestamp": 1750346085415,
     "user": {
      "displayName": "João Terêncio",
      "userId": "14302965054076037047"
     },
     "user_tz": 180
    },
    "id": "Lq0TMgU68cmo"
   },
   "outputs": [],
   "source": [
    "# Carrega o DataFrame\n",
    "df = df_sensor_copacabana.copy()\n",
    "\n",
    "# Converte e ordena\n",
    "df['data'] = pd.to_datetime(df['data'])\n",
    "df = df.sort_values(by='data')"
   ]
  },
  {
   "cell_type": "code",
   "execution_count": 54,
   "metadata": {
    "executionInfo": {
     "elapsed": 8,
     "status": "ok",
     "timestamp": 1750346085426,
     "user": {
      "displayName": "João Terêncio",
      "userId": "14302965054076037047"
     },
     "user_tz": 180
    },
    "id": "t-NtqXK-8fH9"
   },
   "outputs": [],
   "source": [
    "# Define faixas com interpolação linear (c_low, c_high, i_low, i_high)\n",
    "faixas_aqi = {\n",
    "    'pm10':   [(0, 50, 0, 40), (50, 100, 41, 80), (100, 150, 81, 120), (150, 250, 121, 200), (250, 600, 201, 400)],\n",
    "    'pm2_5':  [(0, 25, 0, 40), (25, 50, 41, 80), (50, 75, 81, 120), (75, 125, 121, 200), (125, 300, 201, 400)],\n",
    "    'o3':     [(0, 100, 0, 40), (100, 130, 41, 80), (130, 160, 81, 120), (160, 200, 121, 200), (200, 800, 201, 400)],\n",
    "    'co':     [(0, 9, 0, 40), (9, 11, 41, 80), (11, 13, 81, 120), (13, 15, 121, 200), (15, 50, 201, 400)],\n",
    "    'no2':    [(0, 200, 0, 40), (200, 240, 41, 80), (240, 320, 81, 120), (320, 1130, 121, 200), (1130, 3750, 201, 400)],\n",
    "    'so2':    [(0, 20, 0, 40), (20, 40, 41, 80), (40, 365, 81, 120), (365, 800, 121, 200), (800, 2620, 201, 400)],\n",
    "}"
   ]
  },
  {
   "cell_type": "code",
   "execution_count": 55,
   "metadata": {
    "executionInfo": {
     "elapsed": 12,
     "status": "ok",
     "timestamp": 1750346085433,
     "user": {
      "displayName": "João Terêncio",
      "userId": "14302965054076037047"
     },
     "user_tz": 180
    },
    "id": "6mY0sI_m8gmP"
   },
   "outputs": [],
   "source": [
    "# Função de interpolação para cálculo contínuo do AQI\n",
    "def calcular_aqi(valor, faixas):\n",
    "    for c_low, c_high, i_low, i_high in faixas:\n",
    "        if c_low <= valor <= c_high:\n",
    "            return ((i_high - i_low) / (c_high - c_low)) * (valor - c_low) + i_low\n",
    "    return np.nan  # Fora das faixas"
   ]
  },
  {
   "cell_type": "code",
   "execution_count": 56,
   "metadata": {
    "executionInfo": {
     "elapsed": 11,
     "status": "ok",
     "timestamp": 1750346085436,
     "user": {
      "displayName": "João Terêncio",
      "userId": "14302965054076037047"
     },
     "user_tz": 180
    },
    "id": "-fSb-Epw8iAT"
   },
   "outputs": [],
   "source": [
    "# Função para média 8h móvel diária (máxima por dia)\n",
    "def media_8h_movel(df, col):\n",
    "    resultados = []\n",
    "    for dia, grupo in df.groupby('data_formatada'):\n",
    "        grupo = grupo.sort_values('data')\n",
    "        grupo = grupo.set_index('data')\n",
    "        rol = grupo[col].rolling('8h', min_periods=6).mean()\n",
    "        max_rol = rol.max()\n",
    "        resultados.append((dia, max_rol))\n",
    "    return pd.Series(dict(resultados))"
   ]
  },
  {
   "cell_type": "code",
   "execution_count": 57,
   "metadata": {
    "executionInfo": {
     "elapsed": 10982,
     "status": "ok",
     "timestamp": 1750346096414,
     "user": {
      "displayName": "João Terêncio",
      "userId": "14302965054076037047"
     },
     "user_tz": 180
    },
    "id": "P19Ow8SB47Ud"
   },
   "outputs": [],
   "source": [
    "# Médias 24h dos poluentes diários\n",
    "df_diario = df.groupby('data_formatada')[['pm10', 'pm2_5', 'so2']].mean()\n",
    "\n",
    "# Médias móveis 8h para O3 e CO\n",
    "o3_8h_max = media_8h_movel(df, 'o3')\n",
    "co_8h_max = media_8h_movel(df, 'co')\n",
    "\n",
    "# NO2: pega maior valor por dia\n",
    "no2_1h_max = df.groupby('data_formatada')['no2'].max()\n",
    "\n",
    "# Monta df_aqi\n",
    "df_aqi = df_diario.copy()\n",
    "df_aqi['o3_8h_max'] = o3_8h_max\n",
    "df_aqi['co_8h_max'] = co_8h_max\n",
    "df_aqi['no2_1h_max'] = no2_1h_max"
   ]
  },
  {
   "cell_type": "code",
   "execution_count": 58,
   "metadata": {
    "executionInfo": {
     "elapsed": 7,
     "status": "ok",
     "timestamp": 1750346096426,
     "user": {
      "displayName": "João Terêncio",
      "userId": "14302965054076037047"
     },
     "user_tz": 180
    },
    "id": "lUPOzj0c8nni"
   },
   "outputs": [],
   "source": [
    "# Aplica cálculo de AQI contínuo por poluente\n",
    "for poluente, faixas in faixas_aqi.items():\n",
    "    col_ref = {\n",
    "        'o3': 'o3_8h_max',\n",
    "        'co': 'co_8h_max',\n",
    "        'no2': 'no2_1h_max'\n",
    "    }.get(poluente, poluente)\n",
    "\n",
    "    df_aqi[f'{poluente}_aqi'] = df_aqi[col_ref].apply(\n",
    "        lambda x: calcular_aqi(x, faixas) if pd.notnull(x) else np.nan\n",
    "    )\n",
    "\n",
    "# AQI final do dia: maior valor entre os poluentes\n",
    "col_aqis = [f'{p}_aqi' for p in ['pm10', 'pm2_5', 'so2', 'o3', 'co', 'no2']]\n",
    "df_aqi['aqi'] = df_aqi[col_aqis].max(axis=1)"
   ]
  },
  {
   "cell_type": "code",
   "execution_count": 59,
   "metadata": {
    "executionInfo": {
     "elapsed": 7,
     "status": "ok",
     "timestamp": 1750346096430,
     "user": {
      "displayName": "João Terêncio",
      "userId": "14302965054076037047"
     },
     "user_tz": 180
    },
    "id": "zHyRJLtZ8pt6"
   },
   "outputs": [],
   "source": [
    "# Classificação da qualidade do ar com base no AQI real\n",
    "def classifica_qualidade(aqi):\n",
    "    if aqi <= 40:\n",
    "        return 'N1 - Boa'\n",
    "    elif aqi <= 80:\n",
    "        return 'N2 - Moderada'\n",
    "    elif aqi <= 120:\n",
    "        return 'N3 - Ruim'\n",
    "    elif aqi <= 200:\n",
    "        return 'N4 - Muito Ruim'\n",
    "    else:\n",
    "        return 'N5 - Péssima'\n",
    "\n",
    "df_aqi['classificacao'] = df_aqi['aqi'].apply(classifica_qualidade)\n",
    "df_aqi.reset_index(inplace=True)"
   ]
  },
  {
   "cell_type": "code",
   "execution_count": 60,
   "metadata": {
    "executionInfo": {
     "elapsed": 25,
     "status": "ok",
     "timestamp": 1750346096453,
     "user": {
      "displayName": "João Terêncio",
      "userId": "14302965054076037047"
     },
     "user_tz": 180
    },
    "id": "PaZfeSqK6iHa"
   },
   "outputs": [],
   "source": [
    "# Arredonda o AQI final para inteiro\n",
    "df_aqi['aqi'] = df_aqi['aqi'].round().astype('Int64')\n",
    "\n",
    "# Mantém apenas as colunas desejadas\n",
    "df_aqi = df_aqi[['data_formatada', 'aqi', 'classificacao']]"
   ]
  },
  {
   "cell_type": "code",
   "execution_count": 61,
   "metadata": {
    "executionInfo": {
     "elapsed": 57,
     "status": "ok",
     "timestamp": 1750346096515,
     "user": {
      "displayName": "João Terêncio",
      "userId": "14302965054076037047"
     },
     "user_tz": 180
    },
    "id": "hNErBDu0cMxs"
   },
   "outputs": [],
   "source": [
    "# Agrupamento por data_formatada\n",
    "df_gruped = df_sensor_copacabana.groupby('data_formatada', as_index=False).mean()\n",
    "\n",
    "# Merge com a tabela de qualidade do ar\n",
    "df_merged = df_gruped.merge(\n",
    "    df_aqi[['classificacao', 'aqi', 'data_formatada']],\n",
    "    left_on='data_formatada',\n",
    "    right_on='data_formatada',\n",
    "    how='left'\n",
    ")"
   ]
  },
  {
   "cell_type": "code",
   "execution_count": 62,
   "metadata": {
    "colab": {
     "base_uri": "https://localhost:8080/"
    },
    "executionInfo": {
     "elapsed": 31,
     "status": "ok",
     "timestamp": 1750346096553,
     "user": {
      "displayName": "João Terêncio",
      "userId": "14302965054076037047"
     },
     "user_tz": 180
    },
    "id": "B581dr8A0wYM",
    "outputId": "3e633c7e-d497-4681-833f-68a6b0a8fad4"
   },
   "outputs": [
    {
     "data": {
      "text/plain": [
       "(4750, 19)"
      ]
     },
     "execution_count": 62,
     "metadata": {},
     "output_type": "execute_result"
    }
   ],
   "source": [
    "df_merged.shape"
   ]
  },
  {
   "cell_type": "code",
   "execution_count": 63,
   "metadata": {
    "colab": {
     "base_uri": "https://localhost:8080/",
     "height": 206
    },
    "executionInfo": {
     "elapsed": 24,
     "status": "ok",
     "timestamp": 1750346096581,
     "user": {
      "displayName": "João Terêncio",
      "userId": "14302965054076037047"
     },
     "user_tz": 180
    },
    "id": "4DlAgasL7sxd",
    "outputId": "c6b3ba66-9b8b-4c4b-db90-67dec08eff9a"
   },
   "outputs": [
    {
     "data": {
      "application/vnd.google.colaboratory.intrinsic+json": {
       "type": "dataframe",
       "variable_name": "df_sensor_copacabana"
      },
      "text/html": [
       "\n",
       "  <div id=\"df-b7a8106c-0309-41ef-b080-1e5738dabd1e\" class=\"colab-df-container\">\n",
       "    <div>\n",
       "<style scoped>\n",
       "    .dataframe tbody tr th:only-of-type {\n",
       "        vertical-align: middle;\n",
       "    }\n",
       "\n",
       "    .dataframe tbody tr th {\n",
       "        vertical-align: top;\n",
       "    }\n",
       "\n",
       "    .dataframe thead th {\n",
       "        text-align: right;\n",
       "    }\n",
       "</style>\n",
       "<table border=\"1\" class=\"dataframe\">\n",
       "  <thead>\n",
       "    <tr style=\"text-align: right;\">\n",
       "      <th></th>\n",
       "      <th>data</th>\n",
       "      <th>chuva</th>\n",
       "      <th>temp</th>\n",
       "      <th>ur</th>\n",
       "      <th>co</th>\n",
       "      <th>no</th>\n",
       "      <th>no2</th>\n",
       "      <th>nox</th>\n",
       "      <th>so2</th>\n",
       "      <th>o3</th>\n",
       "      <th>pm10</th>\n",
       "      <th>pm2_5</th>\n",
       "      <th>lat</th>\n",
       "      <th>lon</th>\n",
       "      <th>data_formatada</th>\n",
       "      <th>ano</th>\n",
       "      <th>mes</th>\n",
       "    </tr>\n",
       "  </thead>\n",
       "  <tbody>\n",
       "    <tr>\n",
       "      <th>17404</th>\n",
       "      <td>2012-01-01 00:30:00</td>\n",
       "      <td>0.0</td>\n",
       "      <td>25.77</td>\n",
       "      <td>81.57</td>\n",
       "      <td>0.15</td>\n",
       "      <td>NaN</td>\n",
       "      <td>NaN</td>\n",
       "      <td>NaN</td>\n",
       "      <td>2.18</td>\n",
       "      <td>16.39</td>\n",
       "      <td>52.0</td>\n",
       "      <td>NaN</td>\n",
       "      <td>-22.965004</td>\n",
       "      <td>-43.180482</td>\n",
       "      <td>2012-01-01</td>\n",
       "      <td>2012</td>\n",
       "      <td>1</td>\n",
       "    </tr>\n",
       "    <tr>\n",
       "      <th>17405</th>\n",
       "      <td>2012-01-01 01:30:00</td>\n",
       "      <td>0.4</td>\n",
       "      <td>25.18</td>\n",
       "      <td>85.45</td>\n",
       "      <td>0.12</td>\n",
       "      <td>NaN</td>\n",
       "      <td>NaN</td>\n",
       "      <td>NaN</td>\n",
       "      <td>1.73</td>\n",
       "      <td>19.38</td>\n",
       "      <td>51.0</td>\n",
       "      <td>NaN</td>\n",
       "      <td>-22.965004</td>\n",
       "      <td>-43.180482</td>\n",
       "      <td>2012-01-01</td>\n",
       "      <td>2012</td>\n",
       "      <td>1</td>\n",
       "    </tr>\n",
       "    <tr>\n",
       "      <th>17406</th>\n",
       "      <td>2012-01-01 02:30:00</td>\n",
       "      <td>1.8</td>\n",
       "      <td>24.44</td>\n",
       "      <td>91.67</td>\n",
       "      <td>0.18</td>\n",
       "      <td>NaN</td>\n",
       "      <td>NaN</td>\n",
       "      <td>NaN</td>\n",
       "      <td>2.49</td>\n",
       "      <td>14.24</td>\n",
       "      <td>54.0</td>\n",
       "      <td>NaN</td>\n",
       "      <td>-22.965004</td>\n",
       "      <td>-43.180482</td>\n",
       "      <td>2012-01-01</td>\n",
       "      <td>2012</td>\n",
       "      <td>1</td>\n",
       "    </tr>\n",
       "    <tr>\n",
       "      <th>832669</th>\n",
       "      <td>2012-01-01 03:30:00</td>\n",
       "      <td>0.2</td>\n",
       "      <td>24.14</td>\n",
       "      <td>93.01</td>\n",
       "      <td>0.41</td>\n",
       "      <td>NaN</td>\n",
       "      <td>NaN</td>\n",
       "      <td>NaN</td>\n",
       "      <td>2.20</td>\n",
       "      <td>19.29</td>\n",
       "      <td>70.0</td>\n",
       "      <td>NaN</td>\n",
       "      <td>-22.965004</td>\n",
       "      <td>-43.180482</td>\n",
       "      <td>2012-01-01</td>\n",
       "      <td>2012</td>\n",
       "      <td>1</td>\n",
       "    </tr>\n",
       "    <tr>\n",
       "      <th>832670</th>\n",
       "      <td>2012-01-01 04:30:00</td>\n",
       "      <td>0.4</td>\n",
       "      <td>24.11</td>\n",
       "      <td>92.03</td>\n",
       "      <td>0.20</td>\n",
       "      <td>NaN</td>\n",
       "      <td>NaN</td>\n",
       "      <td>NaN</td>\n",
       "      <td>1.25</td>\n",
       "      <td>27.41</td>\n",
       "      <td>58.0</td>\n",
       "      <td>NaN</td>\n",
       "      <td>-22.965004</td>\n",
       "      <td>-43.180482</td>\n",
       "      <td>2012-01-01</td>\n",
       "      <td>2012</td>\n",
       "      <td>1</td>\n",
       "    </tr>\n",
       "  </tbody>\n",
       "</table>\n",
       "</div>\n",
       "    <div class=\"colab-df-buttons\">\n",
       "\n",
       "  <div class=\"colab-df-container\">\n",
       "    <button class=\"colab-df-convert\" onclick=\"convertToInteractive('df-b7a8106c-0309-41ef-b080-1e5738dabd1e')\"\n",
       "            title=\"Convert this dataframe to an interactive table.\"\n",
       "            style=\"display:none;\">\n",
       "\n",
       "  <svg xmlns=\"http://www.w3.org/2000/svg\" height=\"24px\" viewBox=\"0 -960 960 960\">\n",
       "    <path d=\"M120-120v-720h720v720H120Zm60-500h600v-160H180v160Zm220 220h160v-160H400v160Zm0 220h160v-160H400v160ZM180-400h160v-160H180v160Zm440 0h160v-160H620v160ZM180-180h160v-160H180v160Zm440 0h160v-160H620v160Z\"/>\n",
       "  </svg>\n",
       "    </button>\n",
       "\n",
       "  <style>\n",
       "    .colab-df-container {\n",
       "      display:flex;\n",
       "      gap: 12px;\n",
       "    }\n",
       "\n",
       "    .colab-df-convert {\n",
       "      background-color: #E8F0FE;\n",
       "      border: none;\n",
       "      border-radius: 50%;\n",
       "      cursor: pointer;\n",
       "      display: none;\n",
       "      fill: #1967D2;\n",
       "      height: 32px;\n",
       "      padding: 0 0 0 0;\n",
       "      width: 32px;\n",
       "    }\n",
       "\n",
       "    .colab-df-convert:hover {\n",
       "      background-color: #E2EBFA;\n",
       "      box-shadow: 0px 1px 2px rgba(60, 64, 67, 0.3), 0px 1px 3px 1px rgba(60, 64, 67, 0.15);\n",
       "      fill: #174EA6;\n",
       "    }\n",
       "\n",
       "    .colab-df-buttons div {\n",
       "      margin-bottom: 4px;\n",
       "    }\n",
       "\n",
       "    [theme=dark] .colab-df-convert {\n",
       "      background-color: #3B4455;\n",
       "      fill: #D2E3FC;\n",
       "    }\n",
       "\n",
       "    [theme=dark] .colab-df-convert:hover {\n",
       "      background-color: #434B5C;\n",
       "      box-shadow: 0px 1px 3px 1px rgba(0, 0, 0, 0.15);\n",
       "      filter: drop-shadow(0px 1px 2px rgba(0, 0, 0, 0.3));\n",
       "      fill: #FFFFFF;\n",
       "    }\n",
       "  </style>\n",
       "\n",
       "    <script>\n",
       "      const buttonEl =\n",
       "        document.querySelector('#df-b7a8106c-0309-41ef-b080-1e5738dabd1e button.colab-df-convert');\n",
       "      buttonEl.style.display =\n",
       "        google.colab.kernel.accessAllowed ? 'block' : 'none';\n",
       "\n",
       "      async function convertToInteractive(key) {\n",
       "        const element = document.querySelector('#df-b7a8106c-0309-41ef-b080-1e5738dabd1e');\n",
       "        const dataTable =\n",
       "          await google.colab.kernel.invokeFunction('convertToInteractive',\n",
       "                                                    [key], {});\n",
       "        if (!dataTable) return;\n",
       "\n",
       "        const docLinkHtml = 'Like what you see? Visit the ' +\n",
       "          '<a target=\"_blank\" href=https://colab.research.google.com/notebooks/data_table.ipynb>data table notebook</a>'\n",
       "          + ' to learn more about interactive tables.';\n",
       "        element.innerHTML = '';\n",
       "        dataTable['output_type'] = 'display_data';\n",
       "        await google.colab.output.renderOutput(dataTable, element);\n",
       "        const docLink = document.createElement('div');\n",
       "        docLink.innerHTML = docLinkHtml;\n",
       "        element.appendChild(docLink);\n",
       "      }\n",
       "    </script>\n",
       "  </div>\n",
       "\n",
       "\n",
       "    <div id=\"df-08172773-3f23-4a76-87ee-6f41f8bdeb10\">\n",
       "      <button class=\"colab-df-quickchart\" onclick=\"quickchart('df-08172773-3f23-4a76-87ee-6f41f8bdeb10')\"\n",
       "                title=\"Suggest charts\"\n",
       "                style=\"display:none;\">\n",
       "\n",
       "<svg xmlns=\"http://www.w3.org/2000/svg\" height=\"24px\"viewBox=\"0 0 24 24\"\n",
       "     width=\"24px\">\n",
       "    <g>\n",
       "        <path d=\"M19 3H5c-1.1 0-2 .9-2 2v14c0 1.1.9 2 2 2h14c1.1 0 2-.9 2-2V5c0-1.1-.9-2-2-2zM9 17H7v-7h2v7zm4 0h-2V7h2v10zm4 0h-2v-4h2v4z\"/>\n",
       "    </g>\n",
       "</svg>\n",
       "      </button>\n",
       "\n",
       "<style>\n",
       "  .colab-df-quickchart {\n",
       "      --bg-color: #E8F0FE;\n",
       "      --fill-color: #1967D2;\n",
       "      --hover-bg-color: #E2EBFA;\n",
       "      --hover-fill-color: #174EA6;\n",
       "      --disabled-fill-color: #AAA;\n",
       "      --disabled-bg-color: #DDD;\n",
       "  }\n",
       "\n",
       "  [theme=dark] .colab-df-quickchart {\n",
       "      --bg-color: #3B4455;\n",
       "      --fill-color: #D2E3FC;\n",
       "      --hover-bg-color: #434B5C;\n",
       "      --hover-fill-color: #FFFFFF;\n",
       "      --disabled-bg-color: #3B4455;\n",
       "      --disabled-fill-color: #666;\n",
       "  }\n",
       "\n",
       "  .colab-df-quickchart {\n",
       "    background-color: var(--bg-color);\n",
       "    border: none;\n",
       "    border-radius: 50%;\n",
       "    cursor: pointer;\n",
       "    display: none;\n",
       "    fill: var(--fill-color);\n",
       "    height: 32px;\n",
       "    padding: 0;\n",
       "    width: 32px;\n",
       "  }\n",
       "\n",
       "  .colab-df-quickchart:hover {\n",
       "    background-color: var(--hover-bg-color);\n",
       "    box-shadow: 0 1px 2px rgba(60, 64, 67, 0.3), 0 1px 3px 1px rgba(60, 64, 67, 0.15);\n",
       "    fill: var(--button-hover-fill-color);\n",
       "  }\n",
       "\n",
       "  .colab-df-quickchart-complete:disabled,\n",
       "  .colab-df-quickchart-complete:disabled:hover {\n",
       "    background-color: var(--disabled-bg-color);\n",
       "    fill: var(--disabled-fill-color);\n",
       "    box-shadow: none;\n",
       "  }\n",
       "\n",
       "  .colab-df-spinner {\n",
       "    border: 2px solid var(--fill-color);\n",
       "    border-color: transparent;\n",
       "    border-bottom-color: var(--fill-color);\n",
       "    animation:\n",
       "      spin 1s steps(1) infinite;\n",
       "  }\n",
       "\n",
       "  @keyframes spin {\n",
       "    0% {\n",
       "      border-color: transparent;\n",
       "      border-bottom-color: var(--fill-color);\n",
       "      border-left-color: var(--fill-color);\n",
       "    }\n",
       "    20% {\n",
       "      border-color: transparent;\n",
       "      border-left-color: var(--fill-color);\n",
       "      border-top-color: var(--fill-color);\n",
       "    }\n",
       "    30% {\n",
       "      border-color: transparent;\n",
       "      border-left-color: var(--fill-color);\n",
       "      border-top-color: var(--fill-color);\n",
       "      border-right-color: var(--fill-color);\n",
       "    }\n",
       "    40% {\n",
       "      border-color: transparent;\n",
       "      border-right-color: var(--fill-color);\n",
       "      border-top-color: var(--fill-color);\n",
       "    }\n",
       "    60% {\n",
       "      border-color: transparent;\n",
       "      border-right-color: var(--fill-color);\n",
       "    }\n",
       "    80% {\n",
       "      border-color: transparent;\n",
       "      border-right-color: var(--fill-color);\n",
       "      border-bottom-color: var(--fill-color);\n",
       "    }\n",
       "    90% {\n",
       "      border-color: transparent;\n",
       "      border-bottom-color: var(--fill-color);\n",
       "    }\n",
       "  }\n",
       "</style>\n",
       "\n",
       "      <script>\n",
       "        async function quickchart(key) {\n",
       "          const quickchartButtonEl =\n",
       "            document.querySelector('#' + key + ' button');\n",
       "          quickchartButtonEl.disabled = true;  // To prevent multiple clicks.\n",
       "          quickchartButtonEl.classList.add('colab-df-spinner');\n",
       "          try {\n",
       "            const charts = await google.colab.kernel.invokeFunction(\n",
       "                'suggestCharts', [key], {});\n",
       "          } catch (error) {\n",
       "            console.error('Error during call to suggestCharts:', error);\n",
       "          }\n",
       "          quickchartButtonEl.classList.remove('colab-df-spinner');\n",
       "          quickchartButtonEl.classList.add('colab-df-quickchart-complete');\n",
       "        }\n",
       "        (() => {\n",
       "          let quickchartButtonEl =\n",
       "            document.querySelector('#df-08172773-3f23-4a76-87ee-6f41f8bdeb10 button');\n",
       "          quickchartButtonEl.style.display =\n",
       "            google.colab.kernel.accessAllowed ? 'block' : 'none';\n",
       "        })();\n",
       "      </script>\n",
       "    </div>\n",
       "\n",
       "    </div>\n",
       "  </div>\n"
      ],
      "text/plain": [
       "                      data  chuva   temp     ur    co  no  no2  nox   so2  \\\n",
       "17404  2012-01-01 00:30:00    0.0  25.77  81.57  0.15 NaN  NaN  NaN  2.18   \n",
       "17405  2012-01-01 01:30:00    0.4  25.18  85.45  0.12 NaN  NaN  NaN  1.73   \n",
       "17406  2012-01-01 02:30:00    1.8  24.44  91.67  0.18 NaN  NaN  NaN  2.49   \n",
       "832669 2012-01-01 03:30:00    0.2  24.14  93.01  0.41 NaN  NaN  NaN  2.20   \n",
       "832670 2012-01-01 04:30:00    0.4  24.11  92.03  0.20 NaN  NaN  NaN  1.25   \n",
       "\n",
       "           o3  pm10  pm2_5        lat        lon data_formatada   ano  mes  \n",
       "17404   16.39  52.0    NaN -22.965004 -43.180482     2012-01-01  2012    1  \n",
       "17405   19.38  51.0    NaN -22.965004 -43.180482     2012-01-01  2012    1  \n",
       "17406   14.24  54.0    NaN -22.965004 -43.180482     2012-01-01  2012    1  \n",
       "832669  19.29  70.0    NaN -22.965004 -43.180482     2012-01-01  2012    1  \n",
       "832670  27.41  58.0    NaN -22.965004 -43.180482     2012-01-01  2012    1  "
      ]
     },
     "execution_count": 63,
     "metadata": {},
     "output_type": "execute_result"
    }
   ],
   "source": [
    "df_sensor_copacabana.head()"
   ]
  },
  {
   "cell_type": "code",
   "execution_count": 65,
   "metadata": {
    "executionInfo": {
     "elapsed": 2477,
     "status": "ok",
     "timestamp": 1750346164478,
     "user": {
      "displayName": "João Terêncio",
      "userId": "14302965054076037047"
     },
     "user_tz": 180
    },
    "id": "5-zxb1mowifZ"
   },
   "outputs": [],
   "source": [
    "df_sensor_copacabana.to_csv('copacabana_per_hour.csv', index=False)"
   ]
  },
  {
   "cell_type": "markdown",
   "metadata": {
    "id": "ijWuiCIzOE1P"
   },
   "source": [
    "# Gerando CSV de saída com a estação de Copacabana preenchida\n"
   ]
  },
  {
   "cell_type": "code",
   "execution_count": null,
   "metadata": {
    "id": "4aicusNC82qi"
   },
   "outputs": [],
   "source": [
    "df_merged['lat'] = \t-22.965004\n",
    "df_merged['lon'] = -43.180482\n",
    "df_merged['estacao'] = 'Copacabana'\n",
    "df_merged['ano'] = pd.to_datetime(df_merged['data_formatada']).dt.year\n",
    "df_merged['mes'] = pd.to_datetime(df_merged['data_formatada']).dt.month"
   ]
  },
  {
   "cell_type": "code",
   "execution_count": null,
   "metadata": {
    "colab": {
     "base_uri": "https://localhost:8080/",
     "height": 206
    },
    "executionInfo": {
     "elapsed": 59,
     "status": "ok",
     "timestamp": 1750205011850,
     "user": {
      "displayName": "João Terêncio",
      "userId": "14302965054076037047"
     },
     "user_tz": 180
    },
    "id": "AWKbGzmZ9T5s",
    "outputId": "c2f69abe-ab34-41db-8ae9-c33f1080550e"
   },
   "outputs": [
    {
     "data": {
      "application/vnd.google.colaboratory.intrinsic+json": {
       "summary": "{\n  \"name\": \"df_merged\",\n  \"rows\": 4750,\n  \"fields\": [\n    {\n      \"column\": \"data_formatada\",\n      \"properties\": {\n        \"dtype\": \"object\",\n        \"num_unique_values\": 4750,\n        \"samples\": [\n          \"2022-06-14\",\n          \"2014-12-11\",\n          \"2012-10-23\"\n        ],\n        \"semantic_type\": \"\",\n        \"description\": \"\"\n      }\n    },\n    {\n      \"column\": \"data\",\n      \"properties\": {\n        \"dtype\": \"date\",\n        \"min\": \"2012-01-01 12:00:00\",\n        \"max\": \"2025-01-01 01:30:00\",\n        \"num_unique_values\": 4750,\n        \"samples\": [\n          \"2022-06-14 12:00:00\",\n          \"2014-12-11 12:00:00\",\n          \"2012-10-23 12:00:00\"\n        ],\n        \"semantic_type\": \"\",\n        \"description\": \"\"\n      }\n    },\n    {\n      \"column\": \"chuva\",\n      \"properties\": {\n        \"dtype\": \"number\",\n        \"std\": 4.186470928064118,\n        \"min\": 0.0,\n        \"max\": 225.85999999999999,\n        \"num_unique_values\": 252,\n        \"samples\": [\n          1.5083333333333335,\n          0.05833333333333333,\n          0.7166666666666667\n        ],\n        \"semantic_type\": \"\",\n        \"description\": \"\"\n      }\n    },\n    {\n      \"column\": \"temp\",\n      \"properties\": {\n        \"dtype\": \"number\",\n        \"std\": 2.9972462210996382,\n        \"min\": 16.309166666666666,\n        \"max\": 33.27291666666667,\n        \"num_unique_values\": 3390,\n        \"samples\": [\n          19.385833333333334,\n          27.63208333333333,\n          29.757916666666663\n        ],\n        \"semantic_type\": \"\",\n        \"description\": \"\"\n      }\n    },\n    {\n      \"column\": \"ur\",\n      \"properties\": {\n        \"dtype\": \"number\",\n        \"std\": 9.794145547773992,\n        \"min\": 36.9425,\n        \"max\": 99.82333333333334,\n        \"num_unique_values\": 3522,\n        \"samples\": [\n          70.19708333333334,\n          68.05458333333333,\n          85.2625\n        ],\n        \"semantic_type\": \"\",\n        \"description\": \"\"\n      }\n    },\n    {\n      \"column\": \"co\",\n      \"properties\": {\n        \"dtype\": \"number\",\n        \"std\": 0.11961245071060533,\n        \"min\": 0.0,\n        \"max\": 1.0531249999999999,\n        \"num_unique_values\": 1113,\n        \"samples\": [\n          0.02875,\n          0.7845833333333333,\n          0.030416666666666665\n        ],\n        \"semantic_type\": \"\",\n        \"description\": \"\"\n      }\n    },\n    {\n      \"column\": \"no\",\n      \"properties\": {\n        \"dtype\": \"number\",\n        \"std\": null,\n        \"min\": null,\n        \"max\": null,\n        \"num_unique_values\": 0,\n        \"samples\": [],\n        \"semantic_type\": \"\",\n        \"description\": \"\"\n      }\n    },\n    {\n      \"column\": \"no2\",\n      \"properties\": {\n        \"dtype\": \"number\",\n        \"std\": null,\n        \"min\": null,\n        \"max\": null,\n        \"num_unique_values\": 0,\n        \"samples\": [],\n        \"semantic_type\": \"\",\n        \"description\": \"\"\n      }\n    },\n    {\n      \"column\": \"nox\",\n      \"properties\": {\n        \"dtype\": \"number\",\n        \"std\": null,\n        \"min\": null,\n        \"max\": null,\n        \"num_unique_values\": 0,\n        \"samples\": [],\n        \"semantic_type\": \"\",\n        \"description\": \"\"\n      }\n    },\n    {\n      \"column\": \"so2\",\n      \"properties\": {\n        \"dtype\": \"number\",\n        \"std\": 3.080186510340754,\n        \"min\": 0.0,\n        \"max\": 20.171666666666667,\n        \"num_unique_values\": 2640,\n        \"samples\": [],\n        \"semantic_type\": \"\",\n        \"description\": \"\"\n      }\n    },\n    {\n      \"column\": \"o3\",\n      \"properties\": {\n        \"dtype\": \"number\",\n        \"std\": 10.346475211130686,\n        \"min\": 0.9091666666666667,\n        \"max\": 85.87416666666667,\n        \"num_unique_values\": 4058,\n        \"samples\": [],\n        \"semantic_type\": \"\",\n        \"description\": \"\"\n      }\n    },\n    {\n      \"column\": \"pm10\",\n      \"properties\": {\n        \"dtype\": \"number\",\n        \"std\": 17.644533067133263,\n        \"min\": 8.291666666666666,\n        \"max\": 131.20833333333334,\n        \"num_unique_values\": 1601,\n        \"samples\": [],\n        \"semantic_type\": \"\",\n        \"description\": \"\"\n      }\n    },\n    {\n      \"column\": \"pm2_5\",\n      \"properties\": {\n        \"dtype\": \"number\",\n        \"std\": null,\n        \"min\": null,\n        \"max\": null,\n        \"num_unique_values\": 0,\n        \"samples\": [],\n        \"semantic_type\": \"\",\n        \"description\": \"\"\n      }\n    },\n    {\n      \"column\": \"lat\",\n      \"properties\": {\n        \"dtype\": \"number\",\n        \"std\": 1.3039831887331157e-12,\n        \"min\": -22.965004,\n        \"max\": -22.965004,\n        \"num_unique_values\": 1,\n        \"samples\": [],\n        \"semantic_type\": \"\",\n        \"description\": \"\"\n      }\n    },\n    {\n      \"column\": \"lon\",\n      \"properties\": {\n        \"dtype\": \"number\",\n        \"std\": 2.1247464492163576e-12,\n        \"min\": -43.180482,\n        \"max\": -43.180482,\n        \"num_unique_values\": 1,\n        \"samples\": [],\n        \"semantic_type\": \"\",\n        \"description\": \"\"\n      }\n    },\n    {\n      \"column\": \"ano\",\n      \"properties\": {\n        \"dtype\": \"int32\",\n        \"num_unique_values\": 14,\n        \"samples\": [],\n        \"semantic_type\": \"\",\n        \"description\": \"\"\n      }\n    },\n    {\n      \"column\": \"mes\",\n      \"properties\": {\n        \"dtype\": \"int32\",\n        \"num_unique_values\": 12,\n        \"samples\": [],\n        \"semantic_type\": \"\",\n        \"description\": \"\"\n      }\n    },\n    {\n      \"column\": \"classificacao\",\n      \"properties\": {\n        \"dtype\": \"category\",\n        \"num_unique_values\": 4,\n        \"samples\": [],\n        \"semantic_type\": \"\",\n        \"description\": \"\"\n      }\n    },\n    {\n      \"column\": \"aqi\",\n      \"properties\": {\n        \"dtype\": \"Int64\",\n        \"num_unique_values\": 91,\n        \"samples\": [],\n        \"semantic_type\": \"\",\n        \"description\": \"\"\n      }\n    },\n    {\n      \"column\": \"estacao\",\n      \"properties\": {\n        \"dtype\": \"category\",\n        \"num_unique_values\": 1,\n        \"samples\": [],\n        \"semantic_type\": \"\",\n        \"description\": \"\"\n      }\n    }\n  ]\n}",
       "type": "dataframe",
       "variable_name": "df_merged"
      },
      "text/html": [
       "\n",
       "  <div id=\"df-15cd018e-f496-435e-9e3d-a3dffdd0b169\" class=\"colab-df-container\">\n",
       "    <div>\n",
       "<style scoped>\n",
       "    .dataframe tbody tr th:only-of-type {\n",
       "        vertical-align: middle;\n",
       "    }\n",
       "\n",
       "    .dataframe tbody tr th {\n",
       "        vertical-align: top;\n",
       "    }\n",
       "\n",
       "    .dataframe thead th {\n",
       "        text-align: right;\n",
       "    }\n",
       "</style>\n",
       "<table border=\"1\" class=\"dataframe\">\n",
       "  <thead>\n",
       "    <tr style=\"text-align: right;\">\n",
       "      <th></th>\n",
       "      <th>data_formatada</th>\n",
       "      <th>data</th>\n",
       "      <th>chuva</th>\n",
       "      <th>temp</th>\n",
       "      <th>ur</th>\n",
       "      <th>co</th>\n",
       "      <th>no</th>\n",
       "      <th>no2</th>\n",
       "      <th>nox</th>\n",
       "      <th>so2</th>\n",
       "      <th>o3</th>\n",
       "      <th>pm10</th>\n",
       "      <th>pm2_5</th>\n",
       "      <th>lat</th>\n",
       "      <th>lon</th>\n",
       "      <th>ano</th>\n",
       "      <th>mes</th>\n",
       "      <th>classificacao</th>\n",
       "      <th>aqi</th>\n",
       "      <th>estacao</th>\n",
       "    </tr>\n",
       "  </thead>\n",
       "  <tbody>\n",
       "    <tr>\n",
       "      <th>0</th>\n",
       "      <td>2012-01-01</td>\n",
       "      <td>2012-01-01 12:00:00</td>\n",
       "      <td>0.341667</td>\n",
       "      <td>25.178750</td>\n",
       "      <td>88.648750</td>\n",
       "      <td>0.477500</td>\n",
       "      <td>NaN</td>\n",
       "      <td>NaN</td>\n",
       "      <td>NaN</td>\n",
       "      <td>3.610833</td>\n",
       "      <td>10.689583</td>\n",
       "      <td>46.625000</td>\n",
       "      <td>NaN</td>\n",
       "      <td>-22.965004</td>\n",
       "      <td>-43.180482</td>\n",
       "      <td>2012</td>\n",
       "      <td>1</td>\n",
       "      <td>N1 - Boa</td>\n",
       "      <td>37</td>\n",
       "      <td>Copacabana</td>\n",
       "    </tr>\n",
       "    <tr>\n",
       "      <th>1</th>\n",
       "      <td>2012-01-02</td>\n",
       "      <td>2012-01-02 12:00:00</td>\n",
       "      <td>1.783333</td>\n",
       "      <td>22.369167</td>\n",
       "      <td>92.759583</td>\n",
       "      <td>0.250000</td>\n",
       "      <td>NaN</td>\n",
       "      <td>NaN</td>\n",
       "      <td>NaN</td>\n",
       "      <td>1.754167</td>\n",
       "      <td>7.576250</td>\n",
       "      <td>35.250000</td>\n",
       "      <td>NaN</td>\n",
       "      <td>-22.965004</td>\n",
       "      <td>-43.180482</td>\n",
       "      <td>2012</td>\n",
       "      <td>1</td>\n",
       "      <td>N1 - Boa</td>\n",
       "      <td>28</td>\n",
       "      <td>Copacabana</td>\n",
       "    </tr>\n",
       "    <tr>\n",
       "      <th>2</th>\n",
       "      <td>2012-01-03</td>\n",
       "      <td>2012-01-03 12:00:00</td>\n",
       "      <td>0.000000</td>\n",
       "      <td>24.977500</td>\n",
       "      <td>73.029583</td>\n",
       "      <td>0.202917</td>\n",
       "      <td>NaN</td>\n",
       "      <td>NaN</td>\n",
       "      <td>NaN</td>\n",
       "      <td>4.826458</td>\n",
       "      <td>10.304167</td>\n",
       "      <td>45.750000</td>\n",
       "      <td>NaN</td>\n",
       "      <td>-22.965004</td>\n",
       "      <td>-43.180482</td>\n",
       "      <td>2012</td>\n",
       "      <td>1</td>\n",
       "      <td>N1 - Boa</td>\n",
       "      <td>37</td>\n",
       "      <td>Copacabana</td>\n",
       "    </tr>\n",
       "    <tr>\n",
       "      <th>3</th>\n",
       "      <td>2012-01-04</td>\n",
       "      <td>2012-01-04 12:00:00</td>\n",
       "      <td>0.000000</td>\n",
       "      <td>24.922500</td>\n",
       "      <td>78.265000</td>\n",
       "      <td>0.073333</td>\n",
       "      <td>NaN</td>\n",
       "      <td>NaN</td>\n",
       "      <td>NaN</td>\n",
       "      <td>2.535455</td>\n",
       "      <td>17.312500</td>\n",
       "      <td>48.416667</td>\n",
       "      <td>NaN</td>\n",
       "      <td>-22.965004</td>\n",
       "      <td>-43.180482</td>\n",
       "      <td>2012</td>\n",
       "      <td>1</td>\n",
       "      <td>N1 - Boa</td>\n",
       "      <td>39</td>\n",
       "      <td>Copacabana</td>\n",
       "    </tr>\n",
       "    <tr>\n",
       "      <th>4</th>\n",
       "      <td>2012-01-05</td>\n",
       "      <td>2012-01-05 12:00:00</td>\n",
       "      <td>0.000000</td>\n",
       "      <td>25.686667</td>\n",
       "      <td>76.342500</td>\n",
       "      <td>0.160417</td>\n",
       "      <td>NaN</td>\n",
       "      <td>NaN</td>\n",
       "      <td>NaN</td>\n",
       "      <td>4.346250</td>\n",
       "      <td>21.706042</td>\n",
       "      <td>48.041667</td>\n",
       "      <td>NaN</td>\n",
       "      <td>-22.965004</td>\n",
       "      <td>-43.180482</td>\n",
       "      <td>2012</td>\n",
       "      <td>1</td>\n",
       "      <td>N1 - Boa</td>\n",
       "      <td>38</td>\n",
       "      <td>Copacabana</td>\n",
       "    </tr>\n",
       "  </tbody>\n",
       "</table>\n",
       "</div>\n",
       "    <div class=\"colab-df-buttons\">\n",
       "\n",
       "  <div class=\"colab-df-container\">\n",
       "    <button class=\"colab-df-convert\" onclick=\"convertToInteractive('df-15cd018e-f496-435e-9e3d-a3dffdd0b169')\"\n",
       "            title=\"Convert this dataframe to an interactive table.\"\n",
       "            style=\"display:none;\">\n",
       "\n",
       "  <svg xmlns=\"http://www.w3.org/2000/svg\" height=\"24px\" viewBox=\"0 -960 960 960\">\n",
       "    <path d=\"M120-120v-720h720v720H120Zm60-500h600v-160H180v160Zm220 220h160v-160H400v160Zm0 220h160v-160H400v160ZM180-400h160v-160H180v160Zm440 0h160v-160H620v160ZM180-180h160v-160H180v160Zm440 0h160v-160H620v160Z\"/>\n",
       "  </svg>\n",
       "    </button>\n",
       "\n",
       "  <style>\n",
       "    .colab-df-container {\n",
       "      display:flex;\n",
       "      gap: 12px;\n",
       "    }\n",
       "\n",
       "    .colab-df-convert {\n",
       "      background-color: #E8F0FE;\n",
       "      border: none;\n",
       "      border-radius: 50%;\n",
       "      cursor: pointer;\n",
       "      display: none;\n",
       "      fill: #1967D2;\n",
       "      height: 32px;\n",
       "      padding: 0 0 0 0;\n",
       "      width: 32px;\n",
       "    }\n",
       "\n",
       "    .colab-df-convert:hover {\n",
       "      background-color: #E2EBFA;\n",
       "      box-shadow: 0px 1px 2px rgba(60, 64, 67, 0.3), 0px 1px 3px 1px rgba(60, 64, 67, 0.15);\n",
       "      fill: #174EA6;\n",
       "    }\n",
       "\n",
       "    .colab-df-buttons div {\n",
       "      margin-bottom: 4px;\n",
       "    }\n",
       "\n",
       "    [theme=dark] .colab-df-convert {\n",
       "      background-color: #3B4455;\n",
       "      fill: #D2E3FC;\n",
       "    }\n",
       "\n",
       "    [theme=dark] .colab-df-convert:hover {\n",
       "      background-color: #434B5C;\n",
       "      box-shadow: 0px 1px 3px 1px rgba(0, 0, 0, 0.15);\n",
       "      filter: drop-shadow(0px 1px 2px rgba(0, 0, 0, 0.3));\n",
       "      fill: #FFFFFF;\n",
       "    }\n",
       "  </style>\n",
       "\n",
       "    <script>\n",
       "      const buttonEl =\n",
       "        document.querySelector('#df-15cd018e-f496-435e-9e3d-a3dffdd0b169 button.colab-df-convert');\n",
       "      buttonEl.style.display =\n",
       "        google.colab.kernel.accessAllowed ? 'block' : 'none';\n",
       "\n",
       "      async function convertToInteractive(key) {\n",
       "        const element = document.querySelector('#df-15cd018e-f496-435e-9e3d-a3dffdd0b169');\n",
       "        const dataTable =\n",
       "          await google.colab.kernel.invokeFunction('convertToInteractive',\n",
       "                                                    [key], {});\n",
       "        if (!dataTable) return;\n",
       "\n",
       "        const docLinkHtml = 'Like what you see? Visit the ' +\n",
       "          '<a target=\"_blank\" href=https://colab.research.google.com/notebooks/data_table.ipynb>data table notebook</a>'\n",
       "          + ' to learn more about interactive tables.';\n",
       "        element.innerHTML = '';\n",
       "        dataTable['output_type'] = 'display_data';\n",
       "        await google.colab.output.renderOutput(dataTable, element);\n",
       "        const docLink = document.createElement('div');\n",
       "        docLink.innerHTML = docLinkHtml;\n",
       "        element.appendChild(docLink);\n",
       "      }\n",
       "    </script>\n",
       "  </div>\n",
       "\n",
       "\n",
       "    <div id=\"df-43e5446a-6075-4331-b7aa-bc16ec8f5626\">\n",
       "      <button class=\"colab-df-quickchart\" onclick=\"quickchart('df-43e5446a-6075-4331-b7aa-bc16ec8f5626')\"\n",
       "                title=\"Suggest charts\"\n",
       "                style=\"display:none;\">\n",
       "\n",
       "<svg xmlns=\"http://www.w3.org/2000/svg\" height=\"24px\"viewBox=\"0 0 24 24\"\n",
       "     width=\"24px\">\n",
       "    <g>\n",
       "        <path d=\"M19 3H5c-1.1 0-2 .9-2 2v14c0 1.1.9 2 2 2h14c1.1 0 2-.9 2-2V5c0-1.1-.9-2-2-2zM9 17H7v-7h2v7zm4 0h-2V7h2v10zm4 0h-2v-4h2v4z\"/>\n",
       "    </g>\n",
       "</svg>\n",
       "      </button>\n",
       "\n",
       "<style>\n",
       "  .colab-df-quickchart {\n",
       "      --bg-color: #E8F0FE;\n",
       "      --fill-color: #1967D2;\n",
       "      --hover-bg-color: #E2EBFA;\n",
       "      --hover-fill-color: #174EA6;\n",
       "      --disabled-fill-color: #AAA;\n",
       "      --disabled-bg-color: #DDD;\n",
       "  }\n",
       "\n",
       "  [theme=dark] .colab-df-quickchart {\n",
       "      --bg-color: #3B4455;\n",
       "      --fill-color: #D2E3FC;\n",
       "      --hover-bg-color: #434B5C;\n",
       "      --hover-fill-color: #FFFFFF;\n",
       "      --disabled-bg-color: #3B4455;\n",
       "      --disabled-fill-color: #666;\n",
       "  }\n",
       "\n",
       "  .colab-df-quickchart {\n",
       "    background-color: var(--bg-color);\n",
       "    border: none;\n",
       "    border-radius: 50%;\n",
       "    cursor: pointer;\n",
       "    display: none;\n",
       "    fill: var(--fill-color);\n",
       "    height: 32px;\n",
       "    padding: 0;\n",
       "    width: 32px;\n",
       "  }\n",
       "\n",
       "  .colab-df-quickchart:hover {\n",
       "    background-color: var(--hover-bg-color);\n",
       "    box-shadow: 0 1px 2px rgba(60, 64, 67, 0.3), 0 1px 3px 1px rgba(60, 64, 67, 0.15);\n",
       "    fill: var(--button-hover-fill-color);\n",
       "  }\n",
       "\n",
       "  .colab-df-quickchart-complete:disabled,\n",
       "  .colab-df-quickchart-complete:disabled:hover {\n",
       "    background-color: var(--disabled-bg-color);\n",
       "    fill: var(--disabled-fill-color);\n",
       "    box-shadow: none;\n",
       "  }\n",
       "\n",
       "  .colab-df-spinner {\n",
       "    border: 2px solid var(--fill-color);\n",
       "    border-color: transparent;\n",
       "    border-bottom-color: var(--fill-color);\n",
       "    animation:\n",
       "      spin 1s steps(1) infinite;\n",
       "  }\n",
       "\n",
       "  @keyframes spin {\n",
       "    0% {\n",
       "      border-color: transparent;\n",
       "      border-bottom-color: var(--fill-color);\n",
       "      border-left-color: var(--fill-color);\n",
       "    }\n",
       "    20% {\n",
       "      border-color: transparent;\n",
       "      border-left-color: var(--fill-color);\n",
       "      border-top-color: var(--fill-color);\n",
       "    }\n",
       "    30% {\n",
       "      border-color: transparent;\n",
       "      border-left-color: var(--fill-color);\n",
       "      border-top-color: var(--fill-color);\n",
       "      border-right-color: var(--fill-color);\n",
       "    }\n",
       "    40% {\n",
       "      border-color: transparent;\n",
       "      border-right-color: var(--fill-color);\n",
       "      border-top-color: var(--fill-color);\n",
       "    }\n",
       "    60% {\n",
       "      border-color: transparent;\n",
       "      border-right-color: var(--fill-color);\n",
       "    }\n",
       "    80% {\n",
       "      border-color: transparent;\n",
       "      border-right-color: var(--fill-color);\n",
       "      border-bottom-color: var(--fill-color);\n",
       "    }\n",
       "    90% {\n",
       "      border-color: transparent;\n",
       "      border-bottom-color: var(--fill-color);\n",
       "    }\n",
       "  }\n",
       "</style>\n",
       "\n",
       "      <script>\n",
       "        async function quickchart(key) {\n",
       "          const quickchartButtonEl =\n",
       "            document.querySelector('#' + key + ' button');\n",
       "          quickchartButtonEl.disabled = true;  // To prevent multiple clicks.\n",
       "          quickchartButtonEl.classList.add('colab-df-spinner');\n",
       "          try {\n",
       "            const charts = await google.colab.kernel.invokeFunction(\n",
       "                'suggestCharts', [key], {});\n",
       "          } catch (error) {\n",
       "            console.error('Error during call to suggestCharts:', error);\n",
       "          }\n",
       "          quickchartButtonEl.classList.remove('colab-df-spinner');\n",
       "          quickchartButtonEl.classList.add('colab-df-quickchart-complete');\n",
       "        }\n",
       "        (() => {\n",
       "          let quickchartButtonEl =\n",
       "            document.querySelector('#df-43e5446a-6075-4331-b7aa-bc16ec8f5626 button');\n",
       "          quickchartButtonEl.style.display =\n",
       "            google.colab.kernel.accessAllowed ? 'block' : 'none';\n",
       "        })();\n",
       "      </script>\n",
       "    </div>\n",
       "\n",
       "    </div>\n",
       "  </div>\n"
      ],
      "text/plain": [
       "  data_formatada                data     chuva       temp         ur  \\\n",
       "0     2012-01-01 2012-01-01 12:00:00  0.341667  25.178750  88.648750   \n",
       "1     2012-01-02 2012-01-02 12:00:00  1.783333  22.369167  92.759583   \n",
       "2     2012-01-03 2012-01-03 12:00:00  0.000000  24.977500  73.029583   \n",
       "3     2012-01-04 2012-01-04 12:00:00  0.000000  24.922500  78.265000   \n",
       "4     2012-01-05 2012-01-05 12:00:00  0.000000  25.686667  76.342500   \n",
       "\n",
       "         co  no  no2  nox       so2         o3       pm10  pm2_5        lat  \\\n",
       "0  0.477500 NaN  NaN  NaN  3.610833  10.689583  46.625000    NaN -22.965004   \n",
       "1  0.250000 NaN  NaN  NaN  1.754167   7.576250  35.250000    NaN -22.965004   \n",
       "2  0.202917 NaN  NaN  NaN  4.826458  10.304167  45.750000    NaN -22.965004   \n",
       "3  0.073333 NaN  NaN  NaN  2.535455  17.312500  48.416667    NaN -22.965004   \n",
       "4  0.160417 NaN  NaN  NaN  4.346250  21.706042  48.041667    NaN -22.965004   \n",
       "\n",
       "         lon   ano  mes classificacao  aqi     estacao  \n",
       "0 -43.180482  2012    1      N1 - Boa   37  Copacabana  \n",
       "1 -43.180482  2012    1      N1 - Boa   28  Copacabana  \n",
       "2 -43.180482  2012    1      N1 - Boa   37  Copacabana  \n",
       "3 -43.180482  2012    1      N1 - Boa   39  Copacabana  \n",
       "4 -43.180482  2012    1      N1 - Boa   38  Copacabana  "
      ]
     },
     "execution_count": 65,
     "metadata": {},
     "output_type": "execute_result"
    }
   ],
   "source": [
    "df_merged.head()"
   ]
  },
  {
   "cell_type": "code",
   "execution_count": null,
   "metadata": {
    "colab": {
     "base_uri": "https://localhost:8080/",
     "height": 206
    },
    "executionInfo": {
     "elapsed": 298,
     "status": "ok",
     "timestamp": 1750205023922,
     "user": {
      "displayName": "João Terêncio",
      "userId": "14302965054076037047"
     },
     "user_tz": 180
    },
    "id": "kcXrsfBsCBTA",
    "outputId": "baec10c9-305c-4759-9561-05a6f9e8d8a3"
   },
   "outputs": [
    {
     "data": {
      "application/vnd.google.colaboratory.intrinsic+json": {
       "summary": "{\n  \"name\": \"display(df_merged\",\n  \"rows\": 5,\n  \"fields\": [\n    {\n      \"column\": \"data_formatada\",\n      \"properties\": {\n        \"dtype\": \"object\",\n        \"num_unique_values\": 5,\n        \"samples\": [\n          \"2012-01-02\",\n          \"2012-01-05\",\n          \"2012-01-03\"\n        ],\n        \"semantic_type\": \"\",\n        \"description\": \"\"\n      }\n    },\n    {\n      \"column\": \"estacao\",\n      \"properties\": {\n        \"dtype\": \"category\",\n        \"num_unique_values\": 1,\n        \"samples\": [\n          \"Copacabana\"\n        ],\n        \"semantic_type\": \"\",\n        \"description\": \"\"\n      }\n    },\n    {\n      \"column\": \"ano\",\n      \"properties\": {\n        \"dtype\": \"int32\",\n        \"num_unique_values\": 1,\n        \"samples\": [\n          2012\n        ],\n        \"semantic_type\": \"\",\n        \"description\": \"\"\n      }\n    },\n    {\n      \"column\": \"mes\",\n      \"properties\": {\n        \"dtype\": \"int32\",\n        \"num_unique_values\": 1,\n        \"samples\": [\n          1\n        ],\n        \"semantic_type\": \"\",\n        \"description\": \"\"\n      }\n    },\n    {\n      \"column\": \"lat\",\n      \"properties\": {\n        \"dtype\": \"number\",\n        \"std\": 0.0,\n        \"min\": -22.965004,\n        \"max\": -22.965004,\n        \"num_unique_values\": 1,\n        \"samples\": [\n          -22.965004\n        ],\n        \"semantic_type\": \"\",\n        \"description\": \"\"\n      }\n    },\n    {\n      \"column\": \"lon\",\n      \"properties\": {\n        \"dtype\": \"number\",\n        \"std\": 0.0,\n        \"min\": -43.180482,\n        \"max\": -43.180482,\n        \"num_unique_values\": 1,\n        \"samples\": [\n          -43.180482\n        ],\n        \"semantic_type\": \"\",\n        \"description\": \"\"\n      }\n    },\n    {\n      \"column\": \"chuva\",\n      \"properties\": {\n        \"dtype\": \"number\",\n        \"std\": 0.7736098643516783,\n        \"min\": 0.0,\n        \"max\": 1.7833333333333332,\n        \"num_unique_values\": 3,\n        \"samples\": [\n          0.3416666666666666\n        ],\n        \"semantic_type\": \"\",\n        \"description\": \"\"\n      }\n    },\n    {\n      \"column\": \"temp\",\n      \"properties\": {\n        \"dtype\": \"number\",\n        \"std\": 1.2976231476562567,\n        \"min\": 22.36916666666667,\n        \"max\": 25.686666666666667,\n        \"num_unique_values\": 5,\n        \"samples\": [\n          22.36916666666667\n        ],\n        \"semantic_type\": \"\",\n        \"description\": \"\"\n      }\n    },\n    {\n      \"column\": \"ur\",\n      \"properties\": {\n        \"dtype\": \"number\",\n        \"std\": 8.458991822684903,\n        \"min\": 73.02958333333333,\n        \"max\": 92.75958333333334,\n        \"num_unique_values\": 5,\n        \"samples\": [\n          92.75958333333334\n        ],\n        \"semantic_type\": \"\",\n        \"description\": \"\"\n      }\n    },\n    {\n      \"column\": \"co\",\n      \"properties\": {\n        \"dtype\": \"number\",\n        \"std\": 0.15143967675099035,\n        \"min\": 0.07333333333333333,\n        \"max\": 0.47750000000000004,\n        \"num_unique_values\": 5,\n        \"samples\": [\n          0.25\n        ],\n        \"semantic_type\": \"\",\n        \"description\": \"\"\n      }\n    },\n    {\n      \"column\": \"no\",\n      \"properties\": {\n        \"dtype\": \"number\",\n        \"std\": null,\n        \"min\": null,\n        \"max\": null,\n        \"num_unique_values\": 0,\n        \"samples\": [],\n        \"semantic_type\": \"\",\n        \"description\": \"\"\n      }\n    },\n    {\n      \"column\": \"no2\",\n      \"properties\": {\n        \"dtype\": \"number\",\n        \"std\": null,\n        \"min\": null,\n        \"max\": null,\n        \"num_unique_values\": 0,\n        \"samples\": [],\n        \"semantic_type\": \"\",\n        \"description\": \"\"\n      }\n    },\n    {\n      \"column\": \"nox\",\n      \"properties\": {\n        \"dtype\": \"number\",\n        \"std\": null,\n        \"min\": null,\n        \"max\": null,\n        \"num_unique_values\": 0,\n        \"samples\": [],\n        \"semantic_type\": \"\",\n        \"description\": \"\"\n      }\n    },\n    {\n      \"column\": \"so2\",\n      \"properties\": {\n        \"dtype\": \"number\",\n        \"std\": 1.2678484507621928,\n        \"min\": 1.7541666666666667,\n        \"max\": 4.826458333333334,\n        \"num_unique_values\": 5,\n        \"samples\": [],\n        \"semantic_type\": \"\",\n        \"description\": \"\"\n      }\n    },\n    {\n      \"column\": \"o3\",\n      \"properties\": {\n        \"dtype\": \"number\",\n        \"std\": 5.811095308910026,\n        \"min\": 7.576250000000001,\n        \"max\": 21.706041666666668,\n        \"num_unique_values\": 5,\n        \"samples\": [],\n        \"semantic_type\": \"\",\n        \"description\": \"\"\n      }\n    },\n    {\n      \"column\": \"pm10\",\n      \"properties\": {\n        \"dtype\": \"number\",\n        \"std\": 5.454881223882575,\n        \"min\": 35.25,\n        \"max\": 48.416666666666664,\n        \"num_unique_values\": 5,\n        \"samples\": [],\n        \"semantic_type\": \"\",\n        \"description\": \"\"\n      }\n    },\n    {\n      \"column\": \"pm2_5\",\n      \"properties\": {\n        \"dtype\": \"number\",\n        \"std\": null,\n        \"min\": null,\n        \"max\": null,\n        \"num_unique_values\": 0,\n        \"samples\": [],\n        \"semantic_type\": \"\",\n        \"description\": \"\"\n      }\n    },\n    {\n      \"column\": \"aqi\",\n      \"properties\": {\n        \"dtype\": \"Int64\",\n        \"num_unique_values\": 4,\n        \"samples\": [],\n        \"semantic_type\": \"\",\n        \"description\": \"\"\n      }\n    },\n    {\n      \"column\": \"classificacao\",\n      \"properties\": {\n        \"dtype\": \"category\",\n        \"num_unique_values\": 1,\n        \"samples\": [],\n        \"semantic_type\": \"\",\n        \"description\": \"\"\n      }\n    }\n  ]\n}",
       "type": "dataframe"
      },
      "text/html": [
       "\n",
       "  <div id=\"df-02a9138c-257c-4ec9-ba59-fce6084cfb36\" class=\"colab-df-container\">\n",
       "    <div>\n",
       "<style scoped>\n",
       "    .dataframe tbody tr th:only-of-type {\n",
       "        vertical-align: middle;\n",
       "    }\n",
       "\n",
       "    .dataframe tbody tr th {\n",
       "        vertical-align: top;\n",
       "    }\n",
       "\n",
       "    .dataframe thead th {\n",
       "        text-align: right;\n",
       "    }\n",
       "</style>\n",
       "<table border=\"1\" class=\"dataframe\">\n",
       "  <thead>\n",
       "    <tr style=\"text-align: right;\">\n",
       "      <th></th>\n",
       "      <th>data_formatada</th>\n",
       "      <th>estacao</th>\n",
       "      <th>ano</th>\n",
       "      <th>mes</th>\n",
       "      <th>lat</th>\n",
       "      <th>lon</th>\n",
       "      <th>chuva</th>\n",
       "      <th>temp</th>\n",
       "      <th>ur</th>\n",
       "      <th>co</th>\n",
       "      <th>no</th>\n",
       "      <th>no2</th>\n",
       "      <th>nox</th>\n",
       "      <th>so2</th>\n",
       "      <th>o3</th>\n",
       "      <th>pm10</th>\n",
       "      <th>pm2_5</th>\n",
       "      <th>aqi</th>\n",
       "      <th>classificacao</th>\n",
       "    </tr>\n",
       "  </thead>\n",
       "  <tbody>\n",
       "    <tr>\n",
       "      <th>0</th>\n",
       "      <td>2012-01-01</td>\n",
       "      <td>Copacabana</td>\n",
       "      <td>2012</td>\n",
       "      <td>1</td>\n",
       "      <td>-22.965004</td>\n",
       "      <td>-43.180482</td>\n",
       "      <td>0.341667</td>\n",
       "      <td>25.178750</td>\n",
       "      <td>88.648750</td>\n",
       "      <td>0.477500</td>\n",
       "      <td>NaN</td>\n",
       "      <td>NaN</td>\n",
       "      <td>NaN</td>\n",
       "      <td>3.610833</td>\n",
       "      <td>10.689583</td>\n",
       "      <td>46.625000</td>\n",
       "      <td>NaN</td>\n",
       "      <td>37</td>\n",
       "      <td>N1 - Boa</td>\n",
       "    </tr>\n",
       "    <tr>\n",
       "      <th>1</th>\n",
       "      <td>2012-01-02</td>\n",
       "      <td>Copacabana</td>\n",
       "      <td>2012</td>\n",
       "      <td>1</td>\n",
       "      <td>-22.965004</td>\n",
       "      <td>-43.180482</td>\n",
       "      <td>1.783333</td>\n",
       "      <td>22.369167</td>\n",
       "      <td>92.759583</td>\n",
       "      <td>0.250000</td>\n",
       "      <td>NaN</td>\n",
       "      <td>NaN</td>\n",
       "      <td>NaN</td>\n",
       "      <td>1.754167</td>\n",
       "      <td>7.576250</td>\n",
       "      <td>35.250000</td>\n",
       "      <td>NaN</td>\n",
       "      <td>28</td>\n",
       "      <td>N1 - Boa</td>\n",
       "    </tr>\n",
       "    <tr>\n",
       "      <th>2</th>\n",
       "      <td>2012-01-03</td>\n",
       "      <td>Copacabana</td>\n",
       "      <td>2012</td>\n",
       "      <td>1</td>\n",
       "      <td>-22.965004</td>\n",
       "      <td>-43.180482</td>\n",
       "      <td>0.000000</td>\n",
       "      <td>24.977500</td>\n",
       "      <td>73.029583</td>\n",
       "      <td>0.202917</td>\n",
       "      <td>NaN</td>\n",
       "      <td>NaN</td>\n",
       "      <td>NaN</td>\n",
       "      <td>4.826458</td>\n",
       "      <td>10.304167</td>\n",
       "      <td>45.750000</td>\n",
       "      <td>NaN</td>\n",
       "      <td>37</td>\n",
       "      <td>N1 - Boa</td>\n",
       "    </tr>\n",
       "    <tr>\n",
       "      <th>3</th>\n",
       "      <td>2012-01-04</td>\n",
       "      <td>Copacabana</td>\n",
       "      <td>2012</td>\n",
       "      <td>1</td>\n",
       "      <td>-22.965004</td>\n",
       "      <td>-43.180482</td>\n",
       "      <td>0.000000</td>\n",
       "      <td>24.922500</td>\n",
       "      <td>78.265000</td>\n",
       "      <td>0.073333</td>\n",
       "      <td>NaN</td>\n",
       "      <td>NaN</td>\n",
       "      <td>NaN</td>\n",
       "      <td>2.535455</td>\n",
       "      <td>17.312500</td>\n",
       "      <td>48.416667</td>\n",
       "      <td>NaN</td>\n",
       "      <td>39</td>\n",
       "      <td>N1 - Boa</td>\n",
       "    </tr>\n",
       "    <tr>\n",
       "      <th>4</th>\n",
       "      <td>2012-01-05</td>\n",
       "      <td>Copacabana</td>\n",
       "      <td>2012</td>\n",
       "      <td>1</td>\n",
       "      <td>-22.965004</td>\n",
       "      <td>-43.180482</td>\n",
       "      <td>0.000000</td>\n",
       "      <td>25.686667</td>\n",
       "      <td>76.342500</td>\n",
       "      <td>0.160417</td>\n",
       "      <td>NaN</td>\n",
       "      <td>NaN</td>\n",
       "      <td>NaN</td>\n",
       "      <td>4.346250</td>\n",
       "      <td>21.706042</td>\n",
       "      <td>48.041667</td>\n",
       "      <td>NaN</td>\n",
       "      <td>38</td>\n",
       "      <td>N1 - Boa</td>\n",
       "    </tr>\n",
       "  </tbody>\n",
       "</table>\n",
       "</div>\n",
       "    <div class=\"colab-df-buttons\">\n",
       "\n",
       "  <div class=\"colab-df-container\">\n",
       "    <button class=\"colab-df-convert\" onclick=\"convertToInteractive('df-02a9138c-257c-4ec9-ba59-fce6084cfb36')\"\n",
       "            title=\"Convert this dataframe to an interactive table.\"\n",
       "            style=\"display:none;\">\n",
       "\n",
       "  <svg xmlns=\"http://www.w3.org/2000/svg\" height=\"24px\" viewBox=\"0 -960 960 960\">\n",
       "    <path d=\"M120-120v-720h720v720H120Zm60-500h600v-160H180v160Zm220 220h160v-160H400v160Zm0 220h160v-160H400v160ZM180-400h160v-160H180v160Zm440 0h160v-160H620v160ZM180-180h160v-160H180v160Zm440 0h160v-160H620v160Z\"/>\n",
       "  </svg>\n",
       "    </button>\n",
       "\n",
       "  <style>\n",
       "    .colab-df-container {\n",
       "      display:flex;\n",
       "      gap: 12px;\n",
       "    }\n",
       "\n",
       "    .colab-df-convert {\n",
       "      background-color: #E8F0FE;\n",
       "      border: none;\n",
       "      border-radius: 50%;\n",
       "      cursor: pointer;\n",
       "      display: none;\n",
       "      fill: #1967D2;\n",
       "      height: 32px;\n",
       "      padding: 0 0 0 0;\n",
       "      width: 32px;\n",
       "    }\n",
       "\n",
       "    .colab-df-convert:hover {\n",
       "      background-color: #E2EBFA;\n",
       "      box-shadow: 0px 1px 2px rgba(60, 64, 67, 0.3), 0px 1px 3px 1px rgba(60, 64, 67, 0.15);\n",
       "      fill: #174EA6;\n",
       "    }\n",
       "\n",
       "    .colab-df-buttons div {\n",
       "      margin-bottom: 4px;\n",
       "    }\n",
       "\n",
       "    [theme=dark] .colab-df-convert {\n",
       "      background-color: #3B4455;\n",
       "      fill: #D2E3FC;\n",
       "    }\n",
       "\n",
       "    [theme=dark] .colab-df-convert:hover {\n",
       "      background-color: #434B5C;\n",
       "      box-shadow: 0px 1px 3px 1px rgba(0, 0, 0, 0.15);\n",
       "      filter: drop-shadow(0px 1px 2px rgba(0, 0, 0, 0.3));\n",
       "      fill: #FFFFFF;\n",
       "    }\n",
       "  </style>\n",
       "\n",
       "    <script>\n",
       "      const buttonEl =\n",
       "        document.querySelector('#df-02a9138c-257c-4ec9-ba59-fce6084cfb36 button.colab-df-convert');\n",
       "      buttonEl.style.display =\n",
       "        google.colab.kernel.accessAllowed ? 'block' : 'none';\n",
       "\n",
       "      async function convertToInteractive(key) {\n",
       "        const element = document.querySelector('#df-02a9138c-257c-4ec9-ba59-fce6084cfb36');\n",
       "        const dataTable =\n",
       "          await google.colab.kernel.invokeFunction('convertToInteractive',\n",
       "                                                    [key], {});\n",
       "        if (!dataTable) return;\n",
       "\n",
       "        const docLinkHtml = 'Like what you see? Visit the ' +\n",
       "          '<a target=\"_blank\" href=https://colab.research.google.com/notebooks/data_table.ipynb>data table notebook</a>'\n",
       "          + ' to learn more about interactive tables.';\n",
       "        element.innerHTML = '';\n",
       "        dataTable['output_type'] = 'display_data';\n",
       "        await google.colab.output.renderOutput(dataTable, element);\n",
       "        const docLink = document.createElement('div');\n",
       "        docLink.innerHTML = docLinkHtml;\n",
       "        element.appendChild(docLink);\n",
       "      }\n",
       "    </script>\n",
       "  </div>\n",
       "\n",
       "\n",
       "    <div id=\"df-72edb336-2838-483c-af27-410cbaf10cad\">\n",
       "      <button class=\"colab-df-quickchart\" onclick=\"quickchart('df-72edb336-2838-483c-af27-410cbaf10cad')\"\n",
       "                title=\"Suggest charts\"\n",
       "                style=\"display:none;\">\n",
       "\n",
       "<svg xmlns=\"http://www.w3.org/2000/svg\" height=\"24px\"viewBox=\"0 0 24 24\"\n",
       "     width=\"24px\">\n",
       "    <g>\n",
       "        <path d=\"M19 3H5c-1.1 0-2 .9-2 2v14c0 1.1.9 2 2 2h14c1.1 0 2-.9 2-2V5c0-1.1-.9-2-2-2zM9 17H7v-7h2v7zm4 0h-2V7h2v10zm4 0h-2v-4h2v4z\"/>\n",
       "    </g>\n",
       "</svg>\n",
       "      </button>\n",
       "\n",
       "<style>\n",
       "  .colab-df-quickchart {\n",
       "      --bg-color: #E8F0FE;\n",
       "      --fill-color: #1967D2;\n",
       "      --hover-bg-color: #E2EBFA;\n",
       "      --hover-fill-color: #174EA6;\n",
       "      --disabled-fill-color: #AAA;\n",
       "      --disabled-bg-color: #DDD;\n",
       "  }\n",
       "\n",
       "  [theme=dark] .colab-df-quickchart {\n",
       "      --bg-color: #3B4455;\n",
       "      --fill-color: #D2E3FC;\n",
       "      --hover-bg-color: #434B5C;\n",
       "      --hover-fill-color: #FFFFFF;\n",
       "      --disabled-bg-color: #3B4455;\n",
       "      --disabled-fill-color: #666;\n",
       "  }\n",
       "\n",
       "  .colab-df-quickchart {\n",
       "    background-color: var(--bg-color);\n",
       "    border: none;\n",
       "    border-radius: 50%;\n",
       "    cursor: pointer;\n",
       "    display: none;\n",
       "    fill: var(--fill-color);\n",
       "    height: 32px;\n",
       "    padding: 0;\n",
       "    width: 32px;\n",
       "  }\n",
       "\n",
       "  .colab-df-quickchart:hover {\n",
       "    background-color: var(--hover-bg-color);\n",
       "    box-shadow: 0 1px 2px rgba(60, 64, 67, 0.3), 0 1px 3px 1px rgba(60, 64, 67, 0.15);\n",
       "    fill: var(--button-hover-fill-color);\n",
       "  }\n",
       "\n",
       "  .colab-df-quickchart-complete:disabled,\n",
       "  .colab-df-quickchart-complete:disabled:hover {\n",
       "    background-color: var(--disabled-bg-color);\n",
       "    fill: var(--disabled-fill-color);\n",
       "    box-shadow: none;\n",
       "  }\n",
       "\n",
       "  .colab-df-spinner {\n",
       "    border: 2px solid var(--fill-color);\n",
       "    border-color: transparent;\n",
       "    border-bottom-color: var(--fill-color);\n",
       "    animation:\n",
       "      spin 1s steps(1) infinite;\n",
       "  }\n",
       "\n",
       "  @keyframes spin {\n",
       "    0% {\n",
       "      border-color: transparent;\n",
       "      border-bottom-color: var(--fill-color);\n",
       "      border-left-color: var(--fill-color);\n",
       "    }\n",
       "    20% {\n",
       "      border-color: transparent;\n",
       "      border-left-color: var(--fill-color);\n",
       "      border-top-color: var(--fill-color);\n",
       "    }\n",
       "    30% {\n",
       "      border-color: transparent;\n",
       "      border-left-color: var(--fill-color);\n",
       "      border-top-color: var(--fill-color);\n",
       "      border-right-color: var(--fill-color);\n",
       "    }\n",
       "    40% {\n",
       "      border-color: transparent;\n",
       "      border-right-color: var(--fill-color);\n",
       "      border-top-color: var(--fill-color);\n",
       "    }\n",
       "    60% {\n",
       "      border-color: transparent;\n",
       "      border-right-color: var(--fill-color);\n",
       "    }\n",
       "    80% {\n",
       "      border-color: transparent;\n",
       "      border-right-color: var(--fill-color);\n",
       "      border-bottom-color: var(--fill-color);\n",
       "    }\n",
       "    90% {\n",
       "      border-color: transparent;\n",
       "      border-bottom-color: var(--fill-color);\n",
       "    }\n",
       "  }\n",
       "</style>\n",
       "\n",
       "      <script>\n",
       "        async function quickchart(key) {\n",
       "          const quickchartButtonEl =\n",
       "            document.querySelector('#' + key + ' button');\n",
       "          quickchartButtonEl.disabled = true;  // To prevent multiple clicks.\n",
       "          quickchartButtonEl.classList.add('colab-df-spinner');\n",
       "          try {\n",
       "            const charts = await google.colab.kernel.invokeFunction(\n",
       "                'suggestCharts', [key], {});\n",
       "          } catch (error) {\n",
       "            console.error('Error during call to suggestCharts:', error);\n",
       "          }\n",
       "          quickchartButtonEl.classList.remove('colab-df-spinner');\n",
       "          quickchartButtonEl.classList.add('colab-df-quickchart-complete');\n",
       "        }\n",
       "        (() => {\n",
       "          let quickchartButtonEl =\n",
       "            document.querySelector('#df-72edb336-2838-483c-af27-410cbaf10cad button');\n",
       "          quickchartButtonEl.style.display =\n",
       "            google.colab.kernel.accessAllowed ? 'block' : 'none';\n",
       "        })();\n",
       "      </script>\n",
       "    </div>\n",
       "\n",
       "    </div>\n",
       "  </div>\n"
      ],
      "text/plain": [
       "  data_formatada     estacao   ano  mes        lat        lon     chuva  \\\n",
       "0     2012-01-01  Copacabana  2012    1 -22.965004 -43.180482  0.341667   \n",
       "1     2012-01-02  Copacabana  2012    1 -22.965004 -43.180482  1.783333   \n",
       "2     2012-01-03  Copacabana  2012    1 -22.965004 -43.180482  0.000000   \n",
       "3     2012-01-04  Copacabana  2012    1 -22.965004 -43.180482  0.000000   \n",
       "4     2012-01-05  Copacabana  2012    1 -22.965004 -43.180482  0.000000   \n",
       "\n",
       "        temp         ur        co  no  no2  nox       so2         o3  \\\n",
       "0  25.178750  88.648750  0.477500 NaN  NaN  NaN  3.610833  10.689583   \n",
       "1  22.369167  92.759583  0.250000 NaN  NaN  NaN  1.754167   7.576250   \n",
       "2  24.977500  73.029583  0.202917 NaN  NaN  NaN  4.826458  10.304167   \n",
       "3  24.922500  78.265000  0.073333 NaN  NaN  NaN  2.535455  17.312500   \n",
       "4  25.686667  76.342500  0.160417 NaN  NaN  NaN  4.346250  21.706042   \n",
       "\n",
       "        pm10  pm2_5  aqi classificacao  \n",
       "0  46.625000    NaN   37      N1 - Boa  \n",
       "1  35.250000    NaN   28      N1 - Boa  \n",
       "2  45.750000    NaN   37      N1 - Boa  \n",
       "3  48.416667    NaN   39      N1 - Boa  \n",
       "4  48.041667    NaN   38      N1 - Boa  "
      ]
     },
     "metadata": {},
     "output_type": "display_data"
    }
   ],
   "source": [
    "# Reorder columns\n",
    "new_order = ['data_formatada', 'estacao', 'ano', 'mes', 'lat', 'lon',\n",
    "             'chuva', 'temp', 'ur', 'co', 'no', 'no2', 'nox', 'so2', 'o3', 'pm10', 'pm2_5',\n",
    "             'aqi', 'classificacao']\n",
    "df_merged = df_merged[new_order]\n",
    "\n",
    "display(df_merged.head())"
   ]
  },
  {
   "cell_type": "code",
   "execution_count": null,
   "metadata": {
    "id": "gfe-Z7ZsOOQO"
   },
   "outputs": [],
   "source": [
    "df_merged.to_csv('copacabana.csv', index=False)"
   ]
  }
 ],
 "metadata": {
  "colab": {
   "authorship_tag": "ABX9TyOMq82Jpbtm4mL+vKCnF5m5",
   "mount_file_id": "1DFAZALrMyKKd_erN9d7pHyrz3F6ooy4a",
   "provenance": []
  },
  "kernelspec": {
   "display_name": "base",
   "language": "python",
   "name": "python3"
  },
  "language_info": {
   "codemirror_mode": {
    "name": "ipython",
    "version": 3
   },
   "file_extension": ".py",
   "mimetype": "text/x-python",
   "name": "python",
   "nbconvert_exporter": "python",
   "pygments_lexer": "ipython3",
   "version": "3.11.7"
  }
 },
 "nbformat": 4,
 "nbformat_minor": 0
}
