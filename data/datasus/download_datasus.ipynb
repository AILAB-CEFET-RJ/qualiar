{
  "cells": [
    {
      "cell_type": "markdown",
      "metadata": {},
      "source": [
        "# Código para Download de dados dao Datasus\n",
        "Esse código foi desenvolvido com o propósito de baixar dados de doenças respiratórias do Datasus. Para pode executá-lo eu recomendo utilizar o GoogleColab, pois a biblioteca pysus não funciona no Windowns, apenas no Linux"
      ]
    },
    {
      "cell_type": "code",
      "execution_count": null,
      "metadata": {
        "id": "oYmWl9oK0Crp"
      },
      "outputs": [],
      "source": [
        "!pip install pysus"
      ]
    },
    {
      "cell_type": "code",
      "execution_count": null,
      "metadata": {
        "id": "C4fkxAOx0EYv"
      },
      "outputs": [],
      "source": [
        "from pysus import SIH\n",
        "import pandas as pd"
      ]
    },
    {
      "cell_type": "code",
      "execution_count": null,
      "metadata": {
        "id": "oPgu9Fkw0GYv"
      },
      "outputs": [],
      "source": [
        "sih = SIH().load()"
      ]
    },
    {
      "cell_type": "code",
      "execution_count": null,
      "metadata": {
        "id": "Fpgyqei90GvQ"
      },
      "outputs": [],
      "source": [
        "def download_and_filter_data(anos, meses=[1, 2, 3, 4, 5, 6, 7, 8, 9, 10, 11, 12]):\n",
        "\n",
        "    if isinstance(anos, int):\n",
        "        anos = [anos]\n",
        "\n",
        "    df_concatenado = pd.DataFrame()\n",
        "\n",
        "    for ano in anos:\n",
        "      for mes in meses:\n",
        "        # Baixar os arquivos para o ano e mês específico\n",
        "        sih = SIH().load()\n",
        "        files = sih.get_files(\"RD\", uf=\"RJ\", year=ano, month=[mes])\n",
        "\n",
        "        # Baixar os dados dos arquivos\n",
        "        parquet = sih.download(files)\n",
        "\n",
        "        # Converter os dados para um DataFrame\n",
        "        df = parquet.to_dataframe()\n",
        "\n",
        "        # Filtrar a coluna 'SP_CIDPRI' conforme os valores especificados\n",
        "        df_filtrado = df[(df['DIAGSEC1'].str.startswith('J')) & (df['IDENT'] == '1')]\n",
        "\n",
        "        # Concatenar os dados do mês com os dados já baixados\n",
        "        df_concatenado = pd.concat([df_concatenado, df_filtrado], ignore_index=True)\n",
        "\n",
        "        print(f'Dados do ano {ano} - mês {mes} baixados e filtrados.')\n",
        "\n",
        "      df_concatenado.to_csv(f'dados_filtrados_{ano}.csv', index=False)\n",
        "\n",
        "    print(f'Dados do(s) ano(s) {anos} salvos com sucesso em \"dados_filtrados_{anos[0]}_a_{anos[-1]}.csv\".')"
      ]
    },
    {
      "cell_type": "code",
      "execution_count": null,
      "metadata": {
        "id": "UuLmaogB0954"
      },
      "outputs": [],
      "source": [
        "download_and_filter_data(anos=[2011, 2012, 2013, 2014, 2015, 2016, 2017, 2018, 2019, 2020, 2021 ])"
      ]
    }
  ],
  "metadata": {
    "colab": {
      "provenance": []
    },
    "kernelspec": {
      "display_name": "Python 3",
      "name": "python3"
    },
    "language_info": {
      "name": "python"
    }
  },
  "nbformat": 4,
  "nbformat_minor": 0
}
